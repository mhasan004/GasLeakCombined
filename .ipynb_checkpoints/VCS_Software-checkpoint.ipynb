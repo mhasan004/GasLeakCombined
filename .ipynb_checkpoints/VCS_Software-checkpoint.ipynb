{
 "cells": [
  {
   "cell_type": "code",
   "execution_count": 12,
   "metadata": {},
   "outputs": [],
   "source": [
    "# census tract id, normalize population, numbers of report and povery rate and unemployment, last column is the color\n",
    "\n",
    "#dimesion do not include first and last\n",
    "\n",
    "#seprate the year/ brough/color"
   ]
  },
  {
   "cell_type": "code",
   "execution_count": 58,
   "metadata": {},
   "outputs": [],
   "source": [
    "import os\n",
    "import pandas as pd\n",
    "import geopandas as gpd\n",
    "import platform\n",
    "import matplotlib.pyplot as plt\n",
    "import contextily as ctx\n",
    "from tabulate import tabulate\n",
    "import numpy as np\n",
    "import matplotlib.colors as mcolors\n",
    "import PIL.Image as img"
   ]
  },
  {
   "cell_type": "code",
   "execution_count": 41,
   "metadata": {},
   "outputs": [
    {
     "name": "stdout",
     "output_type": "stream",
     "text": [
      "            Geoid                                  County Population  \\\n",
      "0     36005015100          Bronx County, Census Tract 151      5,409   \n",
      "1     36005037600          Bronx County, Census Tract 376      2,148   \n",
      "2     36005024800          Bronx County, Census Tract 248      3,363   \n",
      "3     36005023301       Bronx County, Census Tract 233.01      4,377   \n",
      "4     36005019400          Bronx County, Census Tract 194      1,903   \n",
      "...           ...                                     ...        ...   \n",
      "2024  36085014608    Richmond County, Census Tract 146.08      3,510   \n",
      "2025  36085017011    Richmond County, Census Tract 170.11      4,549   \n",
      "2026  36085017012    Richmond County, Census Tract 170.12      4,279   \n",
      "2027  36119010300    Westchester County, Census Tract 103      3,111   \n",
      "2028  36119001502  Westchester County, Census Tract 15.02      2,887   \n",
      "\n",
      "      Povertyrate  Unemploymentrate  Spring  Summer  Autumn  Winter  total  \\\n",
      "0            25.4              11.0      10      10       9      12   41.0   \n",
      "1            17.4              15.4       2       1       0       3    6.0   \n",
      "2            12.5               9.7       3       3       2       2   10.0   \n",
      "3            31.8              11.7      14      11       9      14   48.0   \n",
      "4            21.6              12.5       1       1       2       2    6.0   \n",
      "...           ...               ...     ...     ...     ...     ...    ...   \n",
      "2024          4.7              10.9       1       0       3       3    7.0   \n",
      "2025          6.8               5.7       2       0       1       2    5.0   \n",
      "2026         10.6               4.4       2       2       3       0    7.0   \n",
      "2027          5.2               4.8       0       0       0       1    1.0   \n",
      "2028          7.3               6.1       1       1       0       0    2.0   \n",
      "\n",
      "        popu  \n",
      "0     5409.0  \n",
      "1     2148.0  \n",
      "2     3363.0  \n",
      "3     4377.0  \n",
      "4     1903.0  \n",
      "...      ...  \n",
      "2024  3510.0  \n",
      "2025  4549.0  \n",
      "2026  4279.0  \n",
      "2027  3111.0  \n",
      "2028  2887.0  \n",
      "\n",
      "[2029 rows x 11 columns]\n"
     ]
    }
   ],
   "source": [
    "df = pd.read_csv('DataFiles/FDNY/Season2017_18.csv')\n",
    "demo = pd.read_csv(\"DataFiles/FDNY/Demographic.csv\")\n",
    "join = demo.merge(df,on = \"Geoid\")\n",
    "join['total'] = join['Spring']+join['Summer']+join['Autumn']+join['Winter']\n",
    "join['popu'] = join['Population'].str.replace(',', '')\n",
    "join['Povertyrate'] = join['Povertyrate'].str.replace('%', '')\n",
    "join['Unemploymentrate'] = join['Unemploymentrate'].str.replace('%', '')\n",
    "join['popu'] = join.popu.astype(float)\n",
    "join['total'] = join.total.astype(float)\n",
    "join['Povertyrate'] = join.Povertyrate.astype(float)\n",
    "join['Unemploymentrate'] = join.Unemploymentrate.astype(float)\n",
    "\n",
    "print(join)"
   ]
  },
  {
   "cell_type": "code",
   "execution_count": 27,
   "metadata": {},
   "outputs": [],
   "source": [
    "pmax = 5409\n",
    "pmin = 1903\n",
    "tmax = 48\n",
    "tmin = 1\n",
    "\n",
    "for row in range(0,len(join)):\n",
    "    if join.at[row,'popu'] < pmin:\n",
    "        pmin = join.at[row,'popu']\n",
    "    elif join.at[row,'popu'] > pmax:\n",
    "        pmax = join.at[row,'popu']\n",
    "        \n",
    "    if join.at[row,'total'] < tmin:\n",
    "        tmin = join.at[row,'total']\n",
    "    elif join.at[row,'total'] > tmax:\n",
    "        tmax = join.at[row,'total']\n",
    "        \n",
    "join['popu'] = (join['popu'] - pmin)/(pmax - pmin)\n",
    "join['total'] = (join['total'] - tmin)/(tmax - tmin)\n",
    "join['Povertyrate'] = join['Povertyrate']/100\n",
    "join['Unemploymentrate'] = join['Unemploymentrate']/100\n"
   ]
  },
  {
   "cell_type": "code",
   "execution_count": 28,
   "metadata": {},
   "outputs": [
    {
     "name": "stdout",
     "output_type": "stream",
     "text": [
      "            Geoid                                  County Population  \\\n",
      "0     36005015100          Bronx County, Census Tract 151      5,409   \n",
      "1     36005037600          Bronx County, Census Tract 376      2,148   \n",
      "2     36005024800          Bronx County, Census Tract 248      3,363   \n",
      "3     36005023301       Bronx County, Census Tract 233.01      4,377   \n",
      "4     36005019400          Bronx County, Census Tract 194      1,903   \n",
      "...           ...                                     ...        ...   \n",
      "2024  36085014608    Richmond County, Census Tract 146.08      3,510   \n",
      "2025  36085017011    Richmond County, Census Tract 170.11      4,549   \n",
      "2026  36085017012    Richmond County, Census Tract 170.12      4,279   \n",
      "2027  36119010300    Westchester County, Census Tract 103      3,111   \n",
      "2028  36119001502  Westchester County, Census Tract 15.02      2,887   \n",
      "\n",
      "      Povertyrate  Unemploymentrate  Spring  Summer  Autumn  Winter     total  \\\n",
      "0           0.254             0.110      10      10       9      12  0.024125   \n",
      "1           0.174             0.154       2       1       0       3  0.003016   \n",
      "2           0.125             0.097       3       3       2       2  0.005428   \n",
      "3           0.318             0.117      14      11       9      14  0.028347   \n",
      "4           0.216             0.125       1       1       2       2  0.003016   \n",
      "...           ...               ...     ...     ...     ...     ...       ...   \n",
      "2024        0.047             0.109       1       0       3       3  0.003619   \n",
      "2025        0.068             0.057       2       0       1       2  0.002413   \n",
      "2026        0.106             0.044       2       2       3       0  0.003619   \n",
      "2027        0.052             0.048       0       0       0       1  0.000000   \n",
      "2028        0.073             0.061       1       1       0       0  0.000603   \n",
      "\n",
      "          popu  \n",
      "0     0.203438  \n",
      "1     0.080788  \n",
      "2     0.126486  \n",
      "3     0.164623  \n",
      "4     0.071574  \n",
      "...        ...  \n",
      "2024  0.132014  \n",
      "2025  0.171092  \n",
      "2026  0.160937  \n",
      "2027  0.117008  \n",
      "2028  0.108583  \n",
      "\n",
      "[2029 rows x 11 columns]\n"
     ]
    }
   ],
   "source": [
    "print(join)"
   ]
  },
  {
   "cell_type": "code",
   "execution_count": 29,
   "metadata": {},
   "outputs": [
    {
     "name": "stdout",
     "output_type": "stream",
     "text": [
      "            Geoid  Povertyrate  Unemploymentrate     total      popu\n",
      "0     36005015100        0.254             0.110  0.024125  0.203438\n",
      "1     36005037600        0.174             0.154  0.003016  0.080788\n",
      "2     36005024800        0.125             0.097  0.005428  0.126486\n",
      "3     36005023301        0.318             0.117  0.028347  0.164623\n",
      "4     36005019400        0.216             0.125  0.003016  0.071574\n",
      "...           ...          ...               ...       ...       ...\n",
      "2024  36085014608        0.047             0.109  0.003619  0.132014\n",
      "2025  36085017011        0.068             0.057  0.002413  0.171092\n",
      "2026  36085017012        0.106             0.044  0.003619  0.160937\n",
      "2027  36119010300        0.052             0.048  0.000000  0.117008\n",
      "2028  36119001502        0.073             0.061  0.000603  0.108583\n",
      "\n",
      "[2029 rows x 5 columns]\n"
     ]
    }
   ],
   "source": [
    "res = join[['Geoid','Povertyrate','Unemploymentrate','total','popu']].copy()\n",
    "print(res)"
   ]
  },
  {
   "cell_type": "code",
   "execution_count": 30,
   "metadata": {},
   "outputs": [
    {
     "name": "stdout",
     "output_type": "stream",
     "text": [
      "            Geoid  Povertyrate  Unemploymentrate     total      popu  borough\n",
      "0     36005015100        0.254             0.110  0.024125  0.203438        0\n",
      "1     36005037600        0.174             0.154  0.003016  0.080788        0\n",
      "2     36005024800        0.125             0.097  0.005428  0.126486        0\n",
      "3     36005023301        0.318             0.117  0.028347  0.164623        0\n",
      "4     36005019400        0.216             0.125  0.003016  0.071574        0\n",
      "...           ...          ...               ...       ...       ...      ...\n",
      "2024  36085014608        0.047             0.109  0.003619  0.132014        1\n",
      "2025  36085017011        0.068             0.057  0.002413  0.171092        1\n",
      "2026  36085017012        0.106             0.044  0.003619  0.160937        1\n",
      "2027  36119010300        0.052             0.048  0.000000  0.117008        0\n",
      "2028  36119001502        0.073             0.061  0.000603  0.108583        0\n",
      "\n",
      "[2029 rows x 6 columns]\n"
     ]
    }
   ],
   "source": [
    "res['borough'] = 0\n",
    "\n",
    "#360050,360850,360470,360471,360610,360810\n",
    "#  bronx,richmond,kings,new york,queen\n",
    "for row in range(0,len(res)):\n",
    "    if int(res.at[row,'Geoid']/100000) == 360050:\n",
    "        res.at[row,'borough'] = 0\n",
    "    elif int(res.at[row,'Geoid']/100000) == 360850:\n",
    "        res.at[row,'borough'] = 1\n",
    "    elif int(res.at[row,'Geoid']/100000) == 360470 or int(res.at[row,'Geoid']/100000) == 360471:\n",
    "        res.at[row,'borough'] = 2\n",
    "    elif int(res.at[row,'Geoid']/100000) == 360610:\n",
    "        res.at[row,'borough'] = 3\n",
    "    elif int(res.at[row,'Geoid']/100000) == 360810:\n",
    "        res.at[row,'borough'] = 4\n",
    "\n",
    "print(res)"
   ]
  },
  {
   "cell_type": "code",
   "execution_count": 31,
   "metadata": {},
   "outputs": [],
   "source": [
    "res.to_csv('DataFiles/FDNY/VCSdata.csv', encoding='utf-8',index=False)"
   ]
  },
  {
   "cell_type": "code",
   "execution_count": 35,
   "metadata": {},
   "outputs": [
    {
     "name": "stdout",
     "output_type": "stream",
     "text": [
      "          tractid tractnum    name             namelsad   nta  \\\n",
      "0     36005000100   000100       1       Census Tract 1  BX98   \n",
      "1     36005000200   000200       2       Census Tract 2  BX09   \n",
      "2     36005000400   000400       4       Census Tract 4  BX09   \n",
      "3     36005001600   001600      16      Census Tract 16  BX09   \n",
      "4     36005001900   001900      19      Census Tract 19  BX39   \n",
      "...           ...      ...     ...                  ...   ...   \n",
      "2159  36085030301   030301  303.01  Census Tract 303.01  SI12   \n",
      "2160  36085030302   030302  303.02  Census Tract 303.02  SI12   \n",
      "2161  36085031901   031901  319.01  Census Tract 319.01  SI12   \n",
      "2162  36085031902   031902  319.02  Census Tract 319.02  SI12   \n",
      "2163  36085032300   032300     323     Census Tract 323  SI12   \n",
      "\n",
      "                                               nta_name  bcode  \\\n",
      "0                                         Rikers Island  36005   \n",
      "1       Soundview-Castle Hill-Clason Point-Harding Park  36005   \n",
      "2       Soundview-Castle Hill-Clason Point-Harding Park  36005   \n",
      "3       Soundview-Castle Hill-Clason Point-Harding Park  36005   \n",
      "4                                Mott Haven-Port Morris  36005   \n",
      "...                                                 ...    ...   \n",
      "2159  Mariner's Harbor-Arlington-Port Ivory-Granitev...  36085   \n",
      "2160  Mariner's Harbor-Arlington-Port Ivory-Granitev...  36085   \n",
      "2161  Mariner's Harbor-Arlington-Port Ivory-Granitev...  36085   \n",
      "2162  Mariner's Harbor-Arlington-Port Ivory-Granitev...  36085   \n",
      "2163  Mariner's Harbor-Arlington-Port Ivory-Granitev...  36085   \n",
      "\n",
      "                                               geometry  \n",
      "0     POLYGON ((1019965.737 226696.334, 1019943.935 ...  \n",
      "1     POLYGON ((1021558.247 236060.696, 1021824.736 ...  \n",
      "2     MULTIPOLYGON (((1023113.723 236337.849, 102336...  \n",
      "3     POLYGON ((1022690.148 238650.346, 1022944.985 ...  \n",
      "4     MULTIPOLYGON (((1003183.626 233654.444, 100336...  \n",
      "...                                                 ...  \n",
      "2159  POLYGON ((937478.236 165773.157, 937573.261 16...  \n",
      "2160  POLYGON ((937630.950 166078.535, 937701.560 16...  \n",
      "2161  POLYGON ((938387.910 170164.119, 938544.211 17...  \n",
      "2162  POLYGON ((939792.019 172563.159, 939801.408 17...  \n",
      "2163  POLYGON ((936773.987 173612.300, 936742.304 17...  \n",
      "\n",
      "[2164 rows x 8 columns]\n"
     ]
    }
   ],
   "source": [
    "shp_file = 'ShapeFiles/nyu_2451_34505/nyu_2451_34505.shp'\n",
    "ny_tract = gpd.read_file(shp_file)\n",
    "print(ny_tract)"
   ]
  },
  {
   "cell_type": "code",
   "execution_count": null,
   "metadata": {},
   "outputs": [],
   "source": [
    "#dimension 116 x 77 (w x h)\n",
    "w = 116\n",
    "h = 77\n",
    "mydpi = 96\n",
    "for row in range(0,len(ny_tract)):\n",
    "    censusid = ny_tract.at[row,'tractid']\n",
    "    newdf = ny_tract.copy()\n",
    "    newdf['indicator'] = 5\n",
    "    newdf.at[row,'indicator'] = 100\n",
    "    print(newdf)\n",
    "    ax = newdf.plot(column='indicator',cmap='Blues')\n",
    "    plt.axis('off')\n",
    "    plt.figure(figsize=(w/mydpi, h/mydpi), dpi=mydpi)\n",
    "    ax.figure.savefig('DataFiles/censuspng/'+str(censusid) + '.png',dpi = mydpi)\n",
    "    \n",
    "    im = img.open('DataFiles/censuspng/'+str(censusid) + '.png')\n",
    "    rgb_im = im.convert('RGB')\n",
    "    rgb_im.save('DataFiles/censusjpg/'+str(censusid) + '.jpg','JPEG')"
   ]
  },
  {
   "cell_type": "code",
   "execution_count": 68,
   "metadata": {},
   "outputs": [],
   "source": [
    "plt.plot?"
   ]
  },
  {
   "cell_type": "code",
   "execution_count": null,
   "metadata": {},
   "outputs": [],
   "source": []
  }
 ],
 "metadata": {
  "kernelspec": {
   "display_name": "Python 3",
   "language": "python",
   "name": "python3"
  },
  "language_info": {
   "codemirror_mode": {
    "name": "ipython",
    "version": 3
   },
   "file_extension": ".py",
   "mimetype": "text/x-python",
   "name": "python",
   "nbconvert_exporter": "python",
   "pygments_lexer": "ipython3",
   "version": "3.7.4"
  }
 },
 "nbformat": 4,
 "nbformat_minor": 2
}
