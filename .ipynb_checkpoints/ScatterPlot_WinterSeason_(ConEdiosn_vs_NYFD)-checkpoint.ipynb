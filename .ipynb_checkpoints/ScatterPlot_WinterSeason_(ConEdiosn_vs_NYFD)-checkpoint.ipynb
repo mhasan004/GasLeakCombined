{
 "cells": [
  {
   "cell_type": "code",
   "execution_count": 1,
   "metadata": {},
   "outputs": [],
   "source": [
    "#%%\n",
    "import plotly.express as px\n",
    "import matplotlib.pyplot as plt\n",
    "import numpy as np\n",
    "import pandas as pd\n",
    "import textwrap                                                 # need this to make the long title\n",
    "\n",
    "csvConed = \"DataFiles/GasHistory_2010_ReportFrequency_Monthly.csv\"\n",
    "conedMonthlyDF  = pd.read_csv(csvConed)  \n",
    "\n",
    "csvHeader = ['Geoid', 'MonthYear_ConEd', 'NumberOfReports_ConEd', 'CountyName', 'CensusTract', \"Month\"] \n",
    "csvSeasonalHeader = ['Geoid', 'Winter_ReportCount_ConEd',\"Winter_ReportCount_NYFD\", 'CountyName', 'CensusTract']\n",
    "months = ['January', 'February', 'March', 'April', 'May', 'June', 'July', 'August', 'September', 'October', 'November', 'December']\n",
    "winterMonths = [12,1,2]\n",
    "\n",
    "monthlyDF = pd.DataFrame()\n",
    "for col in range(0, len(csvHeader)):\n",
    "    monthlyDF[csvHeader[col]] = str\n",
    "seasonalDF = pd.DataFrame()\n",
    "for col in range(0, len(csvSeasonalHeader)):\n",
    "    seasonalDF[csvSeasonalHeader[col]] = str\n",
    "\n",
    "MIN_NUM_TRACTS_NEEDED_TO_PRINT = 140\n",
    "coned_CENSUS_TRACT_COL = \"CensusTract_2010\"\n",
    "coned_TOTAL_REPORT     = \"TotalReports\"\n",
    "coned_COUNTY_NAME      = \"CountyName_2010\"\n",
    "coned_GEOID            = \"GEOID_SCT\"\n"
   ]
  },
  {
   "cell_type": "code",
   "execution_count": 2,
   "metadata": {},
   "outputs": [
    {
     "name": "stdout",
     "output_type": "stream",
     "text": [
      "     CensusTract          CountyName        Geoid  Month MonthYear_ConEd  \\\n",
      "0         146.07  Westchester County  36119014607      2   February-2020   \n",
      "1         146.06  Westchester County  36119014606      2   February-2020   \n",
      "2         145.00  Westchester County  36119014500      2   February-2020   \n",
      "3         139.00  Westchester County  36119013900      2   February-2020   \n",
      "4         136.00  Westchester County  36119013600      2   February-2020   \n",
      "..           ...                 ...          ...    ...             ...   \n",
      "676        65.00        Bronx County  36005006500     12   December-2019   \n",
      "677        63.00        Bronx County  36005006300     12   December-2019   \n",
      "678        40.01        Bronx County  36005004001     12   December-2019   \n",
      "679        28.00        Bronx County  36005002800     12   December-2019   \n",
      "680         4.00        Bronx County  36005000400     12   December-2019   \n",
      "\n",
      "     NumberOfReports_ConEd  \n",
      "0                        2  \n",
      "1                        1  \n",
      "2                        1  \n",
      "3                        3  \n",
      "4                        2  \n",
      "..                     ...  \n",
      "676                      1  \n",
      "677                      1  \n",
      "678                      1  \n",
      "679                      1  \n",
      "680                      1  \n",
      "\n",
      "[681 rows x 6 columns]\n"
     ]
    }
   ],
   "source": [
    "\n",
    "# CONEDISON: POPULATING COLUMNS FOR CON EDISON AND OTHERS: Need to do this to seperate usable months that got enough data in my conedison monthly csv \n",
    "skipMonthIndex = []\n",
    "conedMonthList = list()\n",
    "for row in range(0,len(conedMonthlyDF)):\n",
    "    if row in skipMonthIndex:\n",
    "        continue\n",
    "    # SAME MONTH SEPERATION:\n",
    "    thisMonthsDF = conedMonthlyDF.loc[                                                                               \n",
    "        (conedMonthlyDF['MonthYear']  == conedMonthlyDF['MonthYear'][row])\n",
    "    ]  \n",
    "    if (len(thisMonthsDF) <= MIN_NUM_TRACTS_NEEDED_TO_PRINT) or (thisMonthsDF.iloc[0][\"Month\"] not in winterMonths):                                                                                 \n",
    "        continue\n",
    "    skipMonthIndex.extend(thisMonthsDF.index.tolist())\n",
    "    thisMonthsDF = thisMonthsDF.reset_index(drop=True)\n",
    "    thisMonthYrStr = conedMonthlyDF['MonthYear'][row]  \n",
    "    thisMonths_vsDF = pd.DataFrame(columns=csvHeader)  \n",
    "    for row in range(0,len(thisMonthsDF)): \n",
    "        tempDF = pd.DataFrame(columns=csvHeader)  \n",
    "        tempDF.at[0,\"MonthYear_ConEd\"]       = thisMonthsDF.iloc[row][\"MonthYear\"]\n",
    "        tempDF.at[0,\"Geoid\"]                 = int(thisMonthsDF.iloc[row][coned_GEOID])\n",
    "        tempDF.at[0,\"NumberOfReports_ConEd\"] = thisMonthsDF.iloc[row][coned_TOTAL_REPORT]\n",
    "        tempDF.at[0,\"CountyName\"]            = thisMonthsDF.iloc[row][coned_COUNTY_NAME]\n",
    "        tempDF.at[0,\"CensusTract\"]           = thisMonthsDF.iloc[row][coned_CENSUS_TRACT_COL]\n",
    "        tempDF.at[0,\"Month\"]                 = int(thisMonthsDF.iloc[row][\"Month\"])\n",
    "        thisMonths_vsDF = pd.concat([thisMonths_vsDF,tempDF],sort=True)\n",
    "    thisMonths_vsDF = thisMonths_vsDF.reset_index(drop=True)     \n",
    "\n",
    "    monthlyDF = pd.concat([monthlyDF,thisMonths_vsDF], sort=True)\n",
    "monthlyDF = monthlyDF.reset_index(drop=True)    \n",
    "monthlyDF[['Geoid', 'Month', 'CensusTract', 'NumberOfReports_ConEd']] = monthlyDF[['Geoid', 'Month', 'CensusTract', 'NumberOfReports_ConEd']].apply(pd.to_numeric) \n",
    "print(monthlyDF)\n"
   ]
  },
  {
   "cell_type": "code",
   "execution_count": 3,
   "metadata": {},
   "outputs": [
    {
     "name": "stdout",
     "output_type": "stream",
     "text": [
      "           Geoid  Winter_ReportCount_ConEd Winter_ReportCount_NYFD  \\\n",
      "0    36119014607                       2.0                     NaN   \n",
      "1    36119014606                       3.0                     NaN   \n",
      "2    36119014500                       4.0                     NaN   \n",
      "3    36119013900                      17.0                     NaN   \n",
      "4    36119013600                       5.0                     NaN   \n",
      "..           ...                       ...                     ...   \n",
      "478  36005022902                       1.0                     NaN   \n",
      "479  36005008700                       1.0                     NaN   \n",
      "480  36005007200                       2.0                     NaN   \n",
      "481  36005004001                       1.0                     NaN   \n",
      "482  36005000400                       1.0                     NaN   \n",
      "\n",
      "             CountyName CensusTract  \n",
      "0    Westchester County      146.07  \n",
      "1    Westchester County      146.06  \n",
      "2    Westchester County         145  \n",
      "3    Westchester County         139  \n",
      "4    Westchester County         136  \n",
      "..                  ...         ...  \n",
      "478        Bronx County      229.02  \n",
      "479        Bronx County          87  \n",
      "480        Bronx County          72  \n",
      "481        Bronx County       40.01  \n",
      "482        Bronx County           4  \n",
      "\n",
      "[483 rows x 5 columns]\n"
     ]
    }
   ],
   "source": [
    "skipGEOIDIndex = []\n",
    "for row in range(0,len(monthlyDF)):\n",
    "    if row in skipGEOIDIndex:\n",
    "        continue\n",
    "    # SAME GEOID SEPERATION:\n",
    "    thisGeoid = monthlyDF.loc[                                                                               \n",
    "        (monthlyDF[\"Geoid\"]  == monthlyDF[\"Geoid\"][row])\n",
    "    ]  \n",
    "    skipGEOIDIndex.extend(thisGeoid.index.tolist())\n",
    "    thisGeoid = thisGeoid.reset_index(drop=True)\n",
    "    tempDF = pd.DataFrame(columns=csvHeader)  \n",
    "    tempDF.at[0,\"Geoid\"]              = thisGeoid.iloc[0][\"Geoid\"]\n",
    "    tempDF.at[0,\"Winter_ReportCount_ConEd\"] = int(thisGeoid.NumberOfReports_ConEd.sum())\n",
    "    tempDF.at[0,\"CountyName\"]         = thisGeoid.iloc[0][\"CountyName\"]\n",
    "    tempDF.at[0,\"CensusTract\"]        = thisGeoid.iloc[0][\"CensusTract\"]\n",
    "\n",
    "    seasonalDF = pd.concat([seasonalDF,tempDF],sort=True)\n",
    "seasonalDF = seasonalDF.reset_index(drop=True)     \n",
    "seasonalDF =seasonalDF.filter(csvSeasonalHeader)\n",
    "\n",
    "conEd_WinterGEOIDList = list(seasonalDF.Geoid.values)\n",
    "print(seasonalDF)"
   ]
  },
  {
   "cell_type": "code",
   "execution_count": 4,
   "metadata": {},
   "outputs": [
    {
     "name": "stdout",
     "output_type": "stream",
     "text": [
      "            Geoid Spring Summer Autumn Winter\n",
      "0     36005046201     42     51     58     35\n",
      "1     36047091000     18     37     41     35\n",
      "2     36047089000      4      5      5      8\n",
      "3     36081043701      0      1      1      3\n",
      "4     36085012200      0      0      2      2\n",
      "...           ...    ...    ...    ...    ...\n",
      "2033  36005023100      0      0      0      3\n",
      "2034  36081053800      0      0      0      1\n",
      "2035  36081077300      0      0      0      1\n",
      "2036  36047052800      0      0      0      1\n",
      "2037  36047030200      0      0      0      1\n",
      "\n",
      "[2038 rows x 5 columns]\n"
     ]
    }
   ],
   "source": [
    "\n",
    "########################################### Xue's data ########################################\n",
    "csvFile_NYFD = 'DataFiles/FDNY/Geoid_Count2018.csv'\n",
    "data = pd.read_csv(csvFile_NYFD)\n",
    "\n",
    "Season = [['03','04','05'],['06','07','08'],['09','10','11'],['12','01','02']]\n",
    "Season_word = ['Spring','Summer','Autumn','Winter']\n",
    "Month_data = pd.DataFrame(columns = ['Geoid','Spring','Summer','Autumn','Winter']) # create a new Dataframe with each month\n",
    "info = np.array(['36005046201','36047091000']) \n",
    "Spring_Count = np.array([0,0])\n",
    "Summer_Count = np.array([0,0])\n",
    "Autumn_Count = np.array([0,0])\n",
    "Winter_Count = np.array([0,0])\n",
    "\n",
    "for row in range(0,len(data)): \n",
    "        \n",
    "    detail = str(data.iat[row,1])\n",
    "                     \n",
    "    if detail in info:                          # if the string already exist, we will just increment the count\n",
    "        itemindex = np.where(info == detail)\n",
    "    else:                                       # else we will have to add the string to info array and create an extra count\n",
    "        info = np.append(info,detail)\n",
    "        Spring_Count = np.append(Spring_Count,0)\n",
    "        Summer_Count = np.append(Summer_Count,0)\n",
    "        Autumn_Count = np.append(Autumn_Count,0)\n",
    "        Winter_Count = np.append(Winter_Count,0)\n",
    "        itemindex = np.where(info == detail)\n",
    "        \n",
    "    if data.iat[row,0][0:2] == '03' or data.iat[row,0][0:2] == '04' or data.iat[row,0][0:2] == '05':\n",
    "        Spring_Count[itemindex[0][0]] += data.iat[row,2]\n",
    "    elif data.iat[row,0][0:2] == '06' or data.iat[row,0][0:2] == '07' or data.iat[row,0][0:2] == '08':\n",
    "        Summer_Count[itemindex[0][0]] += data.iat[row,2]\n",
    "    elif data.iat[row,0][0:2] == '09' or data.iat[row,0][0:2] == '10' or data.iat[row,0][0:2] == '11':\n",
    "        Autumn_Count[itemindex[0][0]] += data.iat[row,2]\n",
    "    elif data.iat[row,0][0:2] == '12' or data.iat[row,0][0:2] == '01' or data.iat[row,0][0:2] == '02':\n",
    "        Winter_Count[itemindex[0][0]] += data.iat[row,2]\n",
    "    \n",
    "for row in range(0,len(info)):\n",
    "    Month_data = Month_data.append({'Geoid' : info[row], 'Spring' : Spring_Count[row],  'Summer': Summer_Count[row], 'Autumn' : Autumn_Count[row], 'Winter' : Winter_Count[row] } , ignore_index=True)\n",
    "Month_data[['Geoid']] = Month_data[['Geoid']].apply(pd.to_numeric) \n",
    "print(Month_data)"
   ]
  },
  {
   "cell_type": "code",
   "execution_count": 5,
   "metadata": {},
   "outputs": [
    {
     "name": "stdout",
     "output_type": "stream",
     "text": [
      "           Geoid  Winter_ReportCount_ConEd Winter_ReportCount_NYFD  \\\n",
      "0    36119001502                       2.0                       0   \n",
      "1    36081162100                       3.0                       4   \n",
      "2    36081152902                       2.0                       4   \n",
      "3    36081142900                       1.0                       1   \n",
      "4    36081140901                       4.0                       2   \n",
      "..           ...                       ...                     ...   \n",
      "320  36005022902                       1.0                       9   \n",
      "321  36005008700                       1.0                       1   \n",
      "322  36005007200                       2.0                       4   \n",
      "323  36005004001                       1.0                       1   \n",
      "324  36005000400                       1.0                       2   \n",
      "\n",
      "             CountyName CensusTract  \n",
      "0    Westchester County       15.02  \n",
      "1         Queens County        1621  \n",
      "2         Queens County     1529.02  \n",
      "3         Queens County        1429  \n",
      "4         Queens County     1409.01  \n",
      "..                  ...         ...  \n",
      "320        Bronx County      229.02  \n",
      "321        Bronx County          87  \n",
      "322        Bronx County          72  \n",
      "323        Bronx County       40.01  \n",
      "324        Bronx County           4  \n",
      "\n",
      "[325 rows x 5 columns]\n"
     ]
    }
   ],
   "source": [
    "############################### Adding Xues Result to my seasonal DF table ######################################################3\n",
    "for row in range(0,len(Month_data)):\n",
    "    if Month_data.iloc[row][\"Geoid\"] in conEd_WinterGEOIDList:\n",
    "        commonGeoidIndex = int(seasonalDF.index [ seasonalDF['Geoid'] == Month_data.iloc[row][\"Geoid\"] ][0])\n",
    "        seasonalDF.at[commonGeoidIndex,\"Winter_ReportCount_NYFD\"] = Month_data.iloc[row][\"Winter\"]\n",
    "seasonalDF = seasonalDF.dropna()\n",
    "seasonalDF = seasonalDF.reset_index(drop=True)     \n",
    "\n",
    "print(seasonalDF)"
   ]
  },
  {
   "cell_type": "code",
   "execution_count": 8,
   "metadata": {
    "scrolled": true
   },
   "outputs": [
    {
     "name": "stdout",
     "output_type": "stream",
     "text": [
      "------------------------ SHOWING THE SAME SCATTER PLOT ( not interactive ) ------------------------\n"
     ]
    },
    {
     "data": {
      "image/png": "[encoded data removed]",
      "text/plain": [
       "<Figure size 432x288 with 1 Axes>"
      ]
     },
     "metadata": {
      "needs_background": "light"
     },
     "output_type": "display_data"
    }
   ],
   "source": [
    "################################################## PLOT\n",
    "conEd_WinterList = seasonalDF.Winter_ReportCount_ConEd.values\n",
    "nyfd_WinterList = seasonalDF.Winter_ReportCount_NYFD.values\n",
    "\n",
    "print(\"------------------------ SHOWING THE SAME SCATTER PLOT ( not interactive ) ------------------------\")\n",
    "titleStr  = \"Winter Gas Leak Reports (Conedison vs NYFD)\\n FDNY: Dec 2018, Jan 2018, Feb 2018\\n ConEd: Dec 2019, Jan 2020, Feb 2020\\n\"+\"(plotting \"+str(len(seasonalDF))+\" dots)\"\n",
    "plt.scatter(conEd_WinterList, nyfd_WinterList, color='Blue', alpha=0.1)\n",
    "plt.xlabel('Number of Inspections Conducted by ConEdison')\n",
    "plt.ylabel('Number of Gas Leak Reports made to NYFD')\n",
    "plt.title(titleStr)\n",
    "plt.show()"
   ]
  },
  {
   "cell_type": "code",
   "execution_count": 10,
   "metadata": {},
   "outputs": [
    {
     "name": "stdout",
     "output_type": "stream",
     "text": [
      "------------------------ SHOWING THE SAME SCATTER PLOT ( interactive ) ------------------------\n"
     ]
    },
    {
     "data": {
      "application/vnd.plotly.v1+json": {
       "config": {
        "plotlyServerURL": "https://plot.ly"
       },
       "data": [
        {
         "customdata": [
          [
           36119001502,
           15.02,
           "Westchester County"
          ],
          [
           36119010300,
           103,
           "Westchester County"
          ]
         ],
         "hoverlabel": {
          "namelength": 0
         },
         "hovertemplate": "CountyName=%{customdata[2]}<br>Winter_ReportCount_ConEd=%{x}<br>Winter_ReportCount_NYFD=%{y}<br>Geoid=%{customdata[0]}<br>CensusTract=%{customdata[1]}",
         "legendgroup": "CountyName=Westchester County",
         "marker": {
          "color": "#636efa",
          "symbol": "circle"
         },
         "mode": "markers",
         "name": "CountyName=Westchester County",
         "showlegend": true,
         "type": "scatter",
         "x": [
          2,
          2
         ],
         "xaxis": "x",
         "y": [
          0,
          1
         ],
         "yaxis": "y"
        },
        {
         "customdata": [
          [
           36081162100,
           1621,
           "Queens County"
          ],
          [
           36081152902,
           1529.02,
           "Queens County"
          ],
          [
           36081142900,
           1429,
           "Queens County"
          ],
          [
           36081140901,
           1409.01,
           "Queens County"
          ],
          [
           36081139900,
           1399,
           "Queens County"
          ],
          [
           36081134700,
           1347,
           "Queens County"
          ],
          [
           36081134100,
           1341,
           "Queens County"
          ],
          [
           36081133300,
           1333,
           "Queens County"
          ],
          [
           36081127700,
           1277,
           "Queens County"
          ],
          [
           36081122701,
           1227.01,
           "Queens County"
          ],
          [
           36081117500,
           1175,
           "Queens County"
          ],
          [
           36081117100,
           1171,
           "Queens County"
          ],
          [
           36081114100,
           1141,
           "Queens County"
          ],
          [
           36081109900,
           1099,
           "Queens County"
          ],
          [
           36081103900,
           1039,
           "Queens County"
          ],
          [
           36081101700,
           1017,
           "Queens County"
          ],
          [
           36081099701,
           997.01,
           "Queens County"
          ],
          [
           36081098700,
           987,
           "Queens County"
          ],
          [
           36081086900,
           869,
           "Queens County"
          ],
          [
           36081077904,
           779.04,
           "Queens County"
          ],
          [
           36081011700,
           117,
           "Queens County"
          ],
          [
           36081010300,
           103,
           "Queens County"
          ],
          [
           36081008500,
           85,
           "Queens County"
          ],
          [
           36081001900,
           19,
           "Queens County"
          ],
          [
           36081000700,
           7,
           "Queens County"
          ],
          [
           36081161700,
           1617,
           "Queens County"
          ],
          [
           36081157903,
           1579.03,
           "Queens County"
          ],
          [
           36081157901,
           1579.01,
           "Queens County"
          ],
          [
           36081157102,
           1571.02,
           "Queens County"
          ],
          [
           36081157101,
           1571.01,
           "Queens County"
          ],
          [
           36081155102,
           1551.02,
           "Queens County"
          ],
          [
           36081152901,
           1529.01,
           "Queens County"
          ],
          [
           36081148300,
           1483,
           "Queens County"
          ],
          [
           36081147100,
           1471,
           "Queens County"
          ],
          [
           36081146700,
           1467,
           "Queens County"
          ],
          [
           36081145900,
           1459,
           "Queens County"
          ],
          [
           36081144100,
           1441,
           "Queens County"
          ],
          [
           36081140300,
           1403,
           "Queens County"
          ],
          [
           36081136700,
           1367,
           "Queens County"
          ],
          [
           36081129103,
           1291.03,
           "Queens County"
          ],
          [
           36081126700,
           1267,
           "Queens County"
          ],
          [
           36081126500,
           1265,
           "Queens County"
          ],
          [
           36081124700,
           1247,
           "Queens County"
          ],
          [
           36081122300,
           1223,
           "Queens County"
          ],
          [
           36081121500,
           1215,
           "Queens County"
          ],
          [
           36081119300,
           1193,
           "Queens County"
          ],
          [
           36081118100,
           1181,
           "Queens County"
          ],
          [
           36081116700,
           1167,
           "Queens County"
          ],
          [
           36081116300,
           1163,
           "Queens County"
          ],
          [
           36081115100,
           1151,
           "Queens County"
          ],
          [
           36081113900,
           1139,
           "Queens County"
          ],
          [
           36081112900,
           1129,
           "Queens County"
          ],
          [
           36081112300,
           1123,
           "Queens County"
          ],
          [
           36081111300,
           1113,
           "Queens County"
          ],
          [
           36081109300,
           1093,
           "Queens County"
          ],
          [
           36081099705,
           997.05,
           "Queens County"
          ],
          [
           36081099703,
           997.03,
           "Queens County"
          ],
          [
           36081094500,
           945,
           "Queens County"
          ],
          [
           36081088901,
           889.01,
           "Queens County"
          ],
          [
           36081087100,
           871,
           "Queens County"
          ],
          [
           36081084500,
           845,
           "Queens County"
          ],
          [
           36081083700,
           837,
           "Queens County"
          ],
          [
           36081080900,
           809,
           "Queens County"
          ],
          [
           36081080302,
           803.02,
           "Queens County"
          ],
          [
           36081080301,
           803.01,
           "Queens County"
          ],
          [
           36081079702,
           797.02,
           "Queens County"
          ],
          [
           36081077906,
           779.06,
           "Queens County"
          ],
          [
           36081077905,
           779.05,
           "Queens County"
          ],
          [
           36081077903,
           779.03,
           "Queens County"
          ],
          [
           36081077902,
           779.02,
           "Queens County"
          ],
          [
           36081075701,
           757.01,
           "Queens County"
          ],
          [
           36081048400,
           484,
           "Queens County"
          ],
          [
           36081046000,
           460,
           "Queens County"
          ],
          [
           36081045000,
           450,
           "Queens County"
          ],
          [
           36081028000,
           280,
           "Queens County"
          ],
          [
           36081026300,
           263,
           "Queens County"
          ],
          [
           36081026000,
           260,
           "Queens County"
          ],
          [
           36081023500,
           235,
           "Queens County"
          ],
          [
           36081023000,
           230,
           "Queens County"
          ],
          [
           36081019900,
           199,
           "Queens County"
          ],
          [
           36081018900,
           189,
           "Queens County"
          ],
          [
           36081018502,
           185.02,
           "Queens County"
          ],
          [
           36081016900,
           169,
           "Queens County"
          ],
          [
           36081015900,
           159,
           "Queens County"
          ],
          [
           36081015700,
           157,
           "Queens County"
          ],
          [
           36081014300,
           143,
           "Queens County"
          ],
          [
           36081012301,
           123.01,
           "Queens County"
          ],
          [
           36081011300,
           113,
           "Queens County"
          ],
          [
           36081009700,
           97,
           "Queens County"
          ],
          [
           36081008300,
           83,
           "Queens County"
          ],
          [
           36081008100,
           81,
           "Queens County"
          ],
          [
           36081007900,
           79,
           "Queens County"
          ],
          [
           36081007700,
           77,
           "Queens County"
          ],
          [
           36081005100,
           51,
           "Queens County"
          ],
          [
           36081004500,
           45,
           "Queens County"
          ],
          [
           36081003900,
           39,
           "Queens County"
          ],
          [
           36081003100,
           31,
           "Queens County"
          ],
          [
           36081156700,
           1567,
           "Queens County"
          ],
          [
           36081150702,
           1507.02,
           "Queens County"
          ],
          [
           36081146300,
           1463,
           "Queens County"
          ],
          [
           36081141700,
           1417,
           "Queens County"
          ],
          [
           36081140902,
           1409.02,
           "Queens County"
          ],
          [
           36081129102,
           1291.02,
           "Queens County"
          ],
          [
           36081124100,
           1241,
           "Queens County"
          ],
          [
           36081120700,
           1207,
           "Queens County"
          ],
          [
           36081118900,
           1189,
           "Queens County"
          ],
          [
           36081109700,
           1097,
           "Queens County"
          ],
          [
           36081105900,
           1059,
           "Queens County"
          ],
          [
           36081085900,
           859,
           "Queens County"
          ],
          [
           36081079900,
           799,
           "Queens County"
          ],
          [
           36081054200,
           542,
           "Queens County"
          ],
          [
           36081041400,
           414,
           "Queens County"
          ],
          [
           36081018101,
           181.01,
           "Queens County"
          ]
         ],
         "hoverlabel": {
          "namelength": 0
         },
         "hovertemplate": "CountyName=%{customdata[2]}<br>Winter_ReportCount_ConEd=%{x}<br>Winter_ReportCount_NYFD=%{y}<br>Geoid=%{customdata[0]}<br>CensusTract=%{customdata[1]}",
         "legendgroup": "CountyName=Queens County",
         "marker": {
          "color": "#EF553B",
          "symbol": "circle"
         },
         "mode": "markers",
         "name": "CountyName=Queens County",
         "showlegend": true,
         "type": "scatter",
         "x": [
          3,
          2,
          1,
          4,
          1,
          4,
          1,
          6,
          2,
          1,
          8,
          1,
          1,
          2,
          3,
          1,
          2,
          1,
          3,
          4,
          1,
          2,
          6,
          2,
          3,
          3,
          2,
          5,
          1,
          5,
          12,
          2,
          2,
          1,
          3,
          2,
          3,
          2,
          1,
          2,
          3,
          4,
          4,
          3,
          3,
          2,
          2,
          2,
          1,
          1,
          1,
          1,
          1,
          1,
          4,
          2,
          1,
          1,
          1,
          2,
          1,
          1,
          2,
          5,
          2,
          1,
          1,
          1,
          3,
          5,
          1,
          1,
          1,
          1,
          1,
          1,
          1,
          1,
          1,
          2,
          3,
          1,
          2,
          1,
          1,
          1,
          3,
          1,
          4,
          1,
          1,
          2,
          1,
          2,
          1,
          1,
          1,
          1,
          1,
          2,
          1,
          2,
          4,
          3,
          1,
          1,
          1,
          1,
          3,
          1,
          2,
          1,
          1
         ],
         "xaxis": "x",
         "y": [
          4,
          4,
          1,
          2,
          0,
          2,
          4,
          5,
          9,
          13,
          2,
          0,
          0,
          2,
          1,
          7,
          4,
          2,
          1,
          6,
          1,
          3,
          3,
          2,
          2,
          13,
          5,
          8,
          0,
          5,
          7,
          1,
          2,
          1,
          4,
          2,
          6,
          0,
          3,
          3,
          2,
          0,
          1,
          1,
          0,
          0,
          3,
          0,
          0,
          2,
          0,
          2,
          3,
          2,
          2,
          3,
          1,
          4,
          6,
          6,
          0,
          3,
          11,
          0,
          0,
          0,
          10,
          1,
          3,
          2,
          2,
          1,
          4,
          1,
          0,
          1,
          3,
          6,
          1,
          3,
          0,
          4,
          0,
          1,
          1,
          3,
          3,
          2,
          1,
          1,
          0,
          7,
          5,
          3,
          5,
          0,
          0,
          1,
          4,
          1,
          6,
          3,
          1,
          5,
          1,
          2,
          2,
          2,
          2,
          1,
          1,
          1,
          3
         ],
         "yaxis": "y"
        },
        {
         "customdata": [
          [
           36061028700,
           287,
           "New York County"
          ],
          [
           36061027100,
           271,
           "New York County"
          ],
          [
           36061021400,
           214,
           "New York County"
          ],
          [
           36061021200,
           212,
           "New York County"
          ],
          [
           36061021100,
           211,
           "New York County"
          ],
          [
           36061019800,
           198,
           "New York County"
          ],
          [
           36061019600,
           196,
           "New York County"
          ],
          [
           36061019500,
           195,
           "New York County"
          ],
          [
           36061018000,
           180,
           "New York County"
          ],
          [
           36061017000,
           170,
           "New York County"
          ],
          [
           36061016700,
           167,
           "New York County"
          ],
          [
           36061016400,
           164,
           "New York County"
          ],
          [
           36061016300,
           163,
           "New York County"
          ],
          [
           36061016100,
           161,
           "New York County"
          ],
          [
           36061013700,
           137,
           "New York County"
          ],
          [
           36061013500,
           135,
           "New York County"
          ],
          [
           36061013300,
           133,
           "New York County"
          ],
          [
           36061012700,
           127,
           "New York County"
          ],
          [
           36061012600,
           126,
           "New York County"
          ],
          [
           36061011300,
           113,
           "New York County"
          ],
          [
           36061010900,
           109,
           "New York County"
          ],
          [
           36061010800,
           108,
           "New York County"
          ],
          [
           36061010400,
           104,
           "New York County"
          ],
          [
           36061010200,
           102,
           "New York County"
          ],
          [
           36061010000,
           100,
           "New York County"
          ],
          [
           36061009700,
           97,
           "New York County"
          ],
          [
           36061008400,
           84,
           "New York County"
          ],
          [
           36061008100,
           81,
           "New York County"
          ],
          [
           36061005502,
           55.02,
           "New York County"
          ],
          [
           36061004700,
           47,
           "New York County"
          ],
          [
           36061004100,
           41,
           "New York County"
          ],
          [
           36061004000,
           40,
           "New York County"
          ],
          [
           36061003900,
           39,
           "New York County"
          ],
          [
           36061003300,
           33,
           "New York County"
          ],
          [
           36061002900,
           29,
           "New York County"
          ],
          [
           36061002202,
           22.02,
           "New York County"
          ],
          [
           36061001800,
           18,
           "New York County"
          ],
          [
           36061001501,
           15.01,
           "New York County"
          ],
          [
           36061001300,
           13,
           "New York County"
          ],
          [
           36061000800,
           8,
           "New York County"
          ],
          [
           36061000600,
           6,
           "New York County"
          ],
          [
           36061031100,
           311,
           "New York County"
          ],
          [
           36061029500,
           295,
           "New York County"
          ],
          [
           36061024500,
           245,
           "New York County"
          ],
          [
           36061024302,
           243.02,
           "New York County"
          ],
          [
           36061024200,
           242,
           "New York County"
          ],
          [
           36061023700,
           237,
           "New York County"
          ],
          [
           36061023200,
           232,
           "New York County"
          ],
          [
           36061022700,
           227,
           "New York County"
          ],
          [
           36061020800,
           208,
           "New York County"
          ],
          [
           36061020500,
           205,
           "New York County"
          ],
          [
           36061020102,
           201.02,
           "New York County"
          ],
          [
           36061019701,
           197.01,
           "New York County"
          ],
          [
           36061019300,
           193,
           "New York County"
          ],
          [
           36061018900,
           189,
           "New York County"
          ],
          [
           36061018800,
           188,
           "New York County"
          ],
          [
           36061018500,
           185,
           "New York County"
          ],
          [
           36061018300,
           183,
           "New York County"
          ],
          [
           36061018200,
           182,
           "New York County"
          ],
          [
           36061017900,
           179,
           "New York County"
          ],
          [
           36061017500,
           175,
           "New York County"
          ],
          [
           36061017402,
           174.02,
           "New York County"
          ],
          [
           36061017300,
           173,
           "New York County"
          ],
          [
           36061017100,
           171,
           "New York County"
          ],
          [
           36061016600,
           166,
           "New York County"
          ],
          [
           36061015700,
           157,
           "New York County"
          ],
          [
           36061015300,
           153,
           "New York County"
          ],
          [
           36061015002,
           150.02,
           "New York County"
          ],
          [
           36061014802,
           148.02,
           "New York County"
          ],
          [
           36061014300,
           143,
           "New York County"
          ],
          [
           36061013400,
           134,
           "New York County"
          ],
          [
           36061013000,
           130,
           "New York County"
          ],
          [
           36061012900,
           129,
           "New York County"
          ],
          [
           36061012200,
           122,
           "New York County"
          ],
          [
           36061011700,
           117,
           "New York County"
          ],
          [
           36061011201,
           112.01,
           "New York County"
          ],
          [
           36061011100,
           111,
           "New York County"
          ],
          [
           36061010602,
           106.02,
           "New York County"
          ],
          [
           36061009400,
           94,
           "New York County"
          ],
          [
           36061009300,
           93,
           "New York County"
          ],
          [
           36061009200,
           92,
           "New York County"
          ],
          [
           36061008603,
           86.03,
           "New York County"
          ],
          [
           36061007900,
           79,
           "New York County"
          ],
          [
           36061007600,
           76,
           "New York County"
          ],
          [
           36061007400,
           74,
           "New York County"
          ],
          [
           36061007300,
           73,
           "New York County"
          ],
          [
           36061007100,
           71,
           "New York County"
          ],
          [
           36061007000,
           70,
           "New York County"
          ],
          [
           36061006800,
           68,
           "New York County"
          ],
          [
           36061006700,
           67,
           "New York County"
          ],
          [
           36061006600,
           66,
           "New York County"
          ],
          [
           36061006500,
           65,
           "New York County"
          ],
          [
           36061006300,
           63,
           "New York County"
          ],
          [
           36061005600,
           56,
           "New York County"
          ],
          [
           36061005200,
           52,
           "New York County"
          ],
          [
           36061005000,
           50,
           "New York County"
          ],
          [
           36061004500,
           45,
           "New York County"
          ],
          [
           36061003601,
           36.01,
           "New York County"
          ],
          [
           36061003200,
           32,
           "New York County"
          ],
          [
           36061003100,
           31,
           "New York County"
          ],
          [
           36061003002,
           30.02,
           "New York County"
          ],
          [
           36061002602,
           26.02,
           "New York County"
          ],
          [
           36061001600,
           16,
           "New York County"
          ],
          [
           36061001502,
           15.02,
           "New York County"
          ],
          [
           36061001402,
           14.02,
           "New York County"
          ],
          [
           36061001401,
           14.01,
           "New York County"
          ],
          [
           36061000700,
           7,
           "New York County"
          ],
          [
           36061023300,
           233,
           "New York County"
          ],
          [
           36061018400,
           184,
           "New York County"
          ],
          [
           36061017700,
           177,
           "New York County"
          ],
          [
           36061015200,
           152,
           "New York County"
          ],
          [
           36061014500,
           145,
           "New York County"
          ],
          [
           36061013900,
           139,
           "New York County"
          ],
          [
           36061011800,
           118,
           "New York County"
          ],
          [
           36061010100,
           101,
           "New York County"
          ],
          [
           36061009500,
           95,
           "New York County"
          ],
          [
           36061009100,
           91,
           "New York County"
          ],
          [
           36061008900,
           89,
           "New York County"
          ],
          [
           36061008200,
           82,
           "New York County"
          ],
          [
           36061007700,
           77,
           "New York County"
          ],
          [
           36061005800,
           58,
           "New York County"
          ],
          [
           36061003700,
           37,
           "New York County"
          ],
          [
           36061003001,
           30.01,
           "New York County"
          ]
         ],
         "hoverlabel": {
          "namelength": 0
         },
         "hovertemplate": "CountyName=%{customdata[2]}<br>Winter_ReportCount_ConEd=%{x}<br>Winter_ReportCount_NYFD=%{y}<br>Geoid=%{customdata[0]}<br>CensusTract=%{customdata[1]}",
         "legendgroup": "CountyName=New York County",
         "marker": {
          "color": "#00cc96",
          "symbol": "circle"
         },
         "mode": "markers",
         "name": "CountyName=New York County",
         "showlegend": true,
         "type": "scatter",
         "x": [
          1,
          1,
          1,
          2,
          1,
          1,
          1,
          1,
          1,
          3,
          4,
          1,
          3,
          2,
          1,
          2,
          2,
          1,
          2,
          1,
          5,
          1,
          2,
          3,
          2,
          1,
          1,
          1,
          2,
          4,
          1,
          2,
          2,
          3,
          2,
          1,
          3,
          8,
          1,
          2,
          4,
          1,
          2,
          3,
          1,
          1,
          2,
          1,
          1,
          1,
          1,
          1,
          1,
          3,
          1,
          1,
          1,
          1,
          1,
          1,
          1,
          1,
          1,
          3,
          5,
          2,
          2,
          2,
          1,
          2,
          1,
          2,
          3,
          1,
          1,
          1,
          5,
          1,
          2,
          2,
          2,
          2,
          3,
          4,
          2,
          1,
          1,
          1,
          1,
          1,
          2,
          1,
          1,
          1,
          1,
          2,
          1,
          1,
          5,
          2,
          1,
          2,
          2,
          1,
          2,
          1,
          4,
          1,
          1,
          1,
          1,
          1,
          1,
          1,
          1,
          1,
          1,
          2,
          1,
          1,
          2,
          1,
          2
         ],
         "xaxis": "x",
         "y": [
          2,
          10,
          3,
          5,
          17,
          2,
          8,
          9,
          5,
          13,
          1,
          5,
          2,
          4,
          15,
          1,
          7,
          6,
          9,
          2,
          2,
          1,
          0,
          3,
          6,
          4,
          0,
          22,
          2,
          6,
          7,
          6,
          1,
          8,
          3,
          2,
          8,
          8,
          2,
          5,
          10,
          2,
          2,
          21,
          11,
          10,
          5,
          22,
          2,
          4,
          0,
          1,
          6,
          4,
          13,
          5,
          1,
          3,
          5,
          5,
          8,
          5,
          5,
          7,
          8,
          5,
          2,
          0,
          0,
          14,
          13,
          1,
          13,
          1,
          1,
          1,
          4,
          1,
          4,
          10,
          4,
          0,
          3,
          4,
          5,
          13,
          10,
          3,
          5,
          12,
          4,
          11,
          0,
          3,
          3,
          4,
          6,
          4,
          15,
          1,
          8,
          10,
          3,
          3,
          4,
          1,
          1,
          6,
          6,
          5,
          8,
          4,
          11,
          5,
          0,
          0,
          4,
          8,
          2,
          7,
          5,
          3,
          9
         ],
         "yaxis": "y"
        },
        {
         "customdata": [
          [
           36005051600,
           516,
           "Bronx County"
          ],
          [
           36005046202,
           462.02,
           "Bronx County"
          ],
          [
           36005042902,
           429.02,
           "Bronx County"
          ],
          [
           36005038600,
           386,
           "Bronx County"
          ],
          [
           36005034800,
           348,
           "Bronx County"
          ],
          [
           36005034500,
           345,
           "Bronx County"
          ],
          [
           36005033400,
           334,
           "Bronx County"
          ],
          [
           36005032300,
           323,
           "Bronx County"
          ],
          [
           36005029700,
           297,
           "Bronx County"
          ],
          [
           36005028800,
           288,
           "Bronx County"
          ],
          [
           36005027402,
           274.02,
           "Bronx County"
          ],
          [
           36005027401,
           274.01,
           "Bronx County"
          ],
          [
           36005026601,
           266.01,
           "Bronx County"
          ],
          [
           36005023000,
           230,
           "Bronx County"
          ],
          [
           36005021502,
           215.02,
           "Bronx County"
          ],
          [
           36005021002,
           210.02,
           "Bronx County"
          ],
          [
           36005019400,
           194,
           "Bronx County"
          ],
          [
           36005015200,
           152,
           "Bronx County"
          ],
          [
           36005014100,
           141,
           "Bronx County"
          ],
          [
           36005013800,
           138,
           "Bronx County"
          ],
          [
           36005011800,
           118,
           "Bronx County"
          ],
          [
           36005006500,
           65,
           "Bronx County"
          ],
          [
           36005005400,
           54,
           "Bronx County"
          ],
          [
           36005004600,
           46,
           "Bronx County"
          ],
          [
           36005002800,
           28,
           "Bronx County"
          ],
          [
           36005046201,
           462.01,
           "Bronx County"
          ],
          [
           36005045600,
           456,
           "Bronx County"
          ],
          [
           36005042600,
           426,
           "Bronx County"
          ],
          [
           36005042400,
           424,
           "Bronx County"
          ],
          [
           36005040702,
           407.02,
           "Bronx County"
          ],
          [
           36005039000,
           390,
           "Bronx County"
          ],
          [
           36005038500,
           385,
           "Bronx County"
          ],
          [
           36005036400,
           364,
           "Bronx County"
          ],
          [
           36005034300,
           343,
           "Bronx County"
          ],
          [
           36005034000,
           340,
           "Bronx County"
          ],
          [
           36005033500,
           335,
           "Bronx County"
          ],
          [
           36005032600,
           326,
           "Bronx County"
          ],
          [
           36005032400,
           324,
           "Bronx County"
          ],
          [
           36005031800,
           318,
           "Bronx County"
          ],
          [
           36005026701,
           267.01,
           "Bronx County"
          ],
          [
           36005026602,
           266.02,
           "Bronx County"
          ],
          [
           36005026500,
           265,
           "Bronx County"
          ],
          [
           36005025600,
           256,
           "Bronx County"
          ],
          [
           36005025100,
           251,
           "Bronx County"
          ],
          [
           36005024800,
           248,
           "Bronx County"
          ],
          [
           36005024000,
           240,
           "Bronx County"
          ],
          [
           36005023600,
           236,
           "Bronx County"
          ],
          [
           36005022901,
           229.01,
           "Bronx County"
          ],
          [
           36005022500,
           225,
           "Bronx County"
          ],
          [
           36005022101,
           221.01,
           "Bronx County"
          ],
          [
           36005021800,
           218,
           "Bronx County"
          ],
          [
           36005021700,
           217,
           "Bronx County"
          ],
          [
           36005021501,
           215.01,
           "Bronx County"
          ],
          [
           36005021302,
           213.02,
           "Bronx County"
          ],
          [
           36005020200,
           202,
           "Bronx County"
          ],
          [
           36005019900,
           199,
           "Bronx County"
          ],
          [
           36005019500,
           195,
           "Bronx County"
          ],
          [
           36005016000,
           160,
           "Bronx County"
          ],
          [
           36005015500,
           155,
           "Bronx County"
          ],
          [
           36005015300,
           153,
           "Bronx County"
          ],
          [
           36005014900,
           149,
           "Bronx County"
          ],
          [
           36005012901,
           129.01,
           "Bronx County"
          ],
          [
           36005012500,
           125,
           "Bronx County"
          ],
          [
           36005011900,
           119,
           "Bronx County"
          ],
          [
           36005009300,
           93,
           "Bronx County"
          ],
          [
           36005007100,
           71,
           "Bronx County"
          ],
          [
           36005006700,
           67,
           "Bronx County"
          ],
          [
           36005006300,
           63,
           "Bronx County"
          ],
          [
           36005003900,
           39,
           "Bronx County"
          ],
          [
           36005001900,
           19,
           "Bronx County"
          ],
          [
           36005000200,
           2,
           "Bronx County"
          ],
          [
           36005044800,
           448,
           "Bronx County"
          ],
          [
           36005044400,
           444,
           "Bronx County"
          ],
          [
           36005041400,
           414,
           "Bronx County"
          ],
          [
           36005040600,
           406,
           "Bronx County"
          ],
          [
           36005038200,
           382,
           "Bronx County"
          ],
          [
           36005038000,
           380,
           "Bronx County"
          ],
          [
           36005037100,
           371,
           "Bronx County"
          ],
          [
           36005032800,
           328,
           "Bronx County"
          ],
          [
           36005027300,
           273,
           "Bronx County"
          ],
          [
           36005026702,
           267.02,
           "Bronx County"
          ],
          [
           36005023702,
           237.02,
           "Bronx County"
          ],
          [
           36005022902,
           229.02,
           "Bronx County"
          ],
          [
           36005008700,
           87,
           "Bronx County"
          ],
          [
           36005007200,
           72,
           "Bronx County"
          ],
          [
           36005004001,
           40.01,
           "Bronx County"
          ],
          [
           36005000400,
           4,
           "Bronx County"
          ]
         ],
         "hoverlabel": {
          "namelength": 0
         },
         "hovertemplate": "CountyName=%{customdata[2]}<br>Winter_ReportCount_ConEd=%{x}<br>Winter_ReportCount_NYFD=%{y}<br>Geoid=%{customdata[0]}<br>CensusTract=%{customdata[1]}",
         "legendgroup": "CountyName=Bronx County",
         "marker": {
          "color": "#ab63fa",
          "symbol": "circle"
         },
         "mode": "markers",
         "name": "CountyName=Bronx County",
         "showlegend": true,
         "type": "scatter",
         "x": [
          12,
          2,
          1,
          2,
          1,
          3,
          1,
          1,
          2,
          1,
          1,
          1,
          1,
          1,
          1,
          1,
          2,
          1,
          1,
          3,
          2,
          2,
          1,
          1,
          2,
          1,
          2,
          3,
          1,
          1,
          1,
          2,
          1,
          1,
          1,
          1,
          1,
          1,
          1,
          1,
          1,
          1,
          1,
          1,
          1,
          1,
          1,
          1,
          1,
          1,
          1,
          1,
          2,
          2,
          1,
          2,
          1,
          2,
          2,
          1,
          1,
          1,
          1,
          1,
          2,
          1,
          1,
          2,
          1,
          1,
          1,
          1,
          1,
          1,
          1,
          1,
          1,
          1,
          1,
          2,
          1,
          1,
          1,
          1,
          2,
          1,
          1
         ],
         "xaxis": "x",
         "y": [
          5,
          3,
          7,
          4,
          6,
          4,
          3,
          7,
          2,
          2,
          2,
          1,
          0,
          3,
          6,
          1,
          1,
          9,
          4,
          8,
          1,
          2,
          7,
          9,
          9,
          35,
          2,
          6,
          3,
          0,
          7,
          7,
          3,
          2,
          3,
          1,
          2,
          8,
          3,
          4,
          0,
          5,
          0,
          7,
          1,
          4,
          2,
          4,
          10,
          3,
          2,
          4,
          2,
          3,
          2,
          7,
          7,
          1,
          2,
          4,
          6,
          15,
          5,
          4,
          10,
          4,
          5,
          6,
          16,
          9,
          4,
          0,
          0,
          5,
          2,
          4,
          2,
          4,
          5,
          4,
          4,
          0,
          9,
          1,
          4,
          1,
          2
         ],
         "yaxis": "y"
        }
       ],
       "layout": {
        "legend": {
         "tracegroupgap": 0
        },
        "margin": {
         "t": 60
        },
        "template": {
         "data": {
          "bar": [
           {
            "error_x": {
             "color": "#2a3f5f"
            },
            "error_y": {
             "color": "#2a3f5f"
            },
            "marker": {
             "line": {
              "color": "#E5ECF6",
              "width": 0.5
             }
            },
            "type": "bar"
           }
          ],
          "barpolar": [
           {
            "marker": {
             "line": {
              "color": "#E5ECF6",
              "width": 0.5
             }
            },
            "type": "barpolar"
           }
          ],
          "carpet": [
           {
            "aaxis": {
             "endlinecolor": "#2a3f5f",
             "gridcolor": "white",
             "linecolor": "white",
             "minorgridcolor": "white",
             "startlinecolor": "#2a3f5f"
            },
            "baxis": {
             "endlinecolor": "#2a3f5f",
             "gridcolor": "white",
             "linecolor": "white",
             "minorgridcolor": "white",
             "startlinecolor": "#2a3f5f"
            },
            "type": "carpet"
           }
          ],
          "choropleth": [
           {
            "colorbar": {
             "outlinewidth": 0,
             "ticks": ""
            },
            "type": "choropleth"
           }
          ],
          "contour": [
           {
            "colorbar": {
             "outlinewidth": 0,
             "ticks": ""
            },
            "colorscale": [
             [
              0,
              "#0d0887"
             ],
             [
              0.1111111111111111,
              "#46039f"
             ],
             [
              0.2222222222222222,
              "#7201a8"
             ],
             [
              0.3333333333333333,
              "#9c179e"
             ],
             [
              0.4444444444444444,
              "#bd3786"
             ],
             [
              0.5555555555555556,
              "#d8576b"
             ],
             [
              0.6666666666666666,
              "#ed7953"
             ],
             [
              0.7777777777777778,
              "#fb9f3a"
             ],
             [
              0.8888888888888888,
              "#fdca26"
             ],
             [
              1,
              "#f0f921"
             ]
            ],
            "type": "contour"
           }
          ],
          "contourcarpet": [
           {
            "colorbar": {
             "outlinewidth": 0,
             "ticks": ""
            },
            "type": "contourcarpet"
           }
          ],
          "heatmap": [
           {
            "colorbar": {
             "outlinewidth": 0,
             "ticks": ""
            },
            "colorscale": [
             [
              0,
              "#0d0887"
             ],
             [
              0.1111111111111111,
              "#46039f"
             ],
             [
              0.2222222222222222,
              "#7201a8"
             ],
             [
              0.3333333333333333,
              "#9c179e"
             ],
             [
              0.4444444444444444,
              "#bd3786"
             ],
             [
              0.5555555555555556,
              "#d8576b"
             ],
             [
              0.6666666666666666,
              "#ed7953"
             ],
             [
              0.7777777777777778,
              "#fb9f3a"
             ],
             [
              0.8888888888888888,
              "#fdca26"
             ],
             [
              1,
              "#f0f921"
             ]
            ],
            "type": "heatmap"
           }
          ],
          "heatmapgl": [
           {
            "colorbar": {
             "outlinewidth": 0,
             "ticks": ""
            },
            "colorscale": [
             [
              0,
              "#0d0887"
             ],
             [
              0.1111111111111111,
              "#46039f"
             ],
             [
              0.2222222222222222,
              "#7201a8"
             ],
             [
              0.3333333333333333,
              "#9c179e"
             ],
             [
              0.4444444444444444,
              "#bd3786"
             ],
             [
              0.5555555555555556,
              "#d8576b"
             ],
             [
              0.6666666666666666,
              "#ed7953"
             ],
             [
              0.7777777777777778,
              "#fb9f3a"
             ],
             [
              0.8888888888888888,
              "#fdca26"
             ],
             [
              1,
              "#f0f921"
             ]
            ],
            "type": "heatmapgl"
           }
          ],
          "histogram": [
           {
            "marker": {
             "colorbar": {
              "outlinewidth": 0,
              "ticks": ""
             }
            },
            "type": "histogram"
           }
          ],
          "histogram2d": [
           {
            "colorbar": {
             "outlinewidth": 0,
             "ticks": ""
            },
            "colorscale": [
             [
              0,
              "#0d0887"
             ],
             [
              0.1111111111111111,
              "#46039f"
             ],
             [
              0.2222222222222222,
              "#7201a8"
             ],
             [
              0.3333333333333333,
              "#9c179e"
             ],
             [
              0.4444444444444444,
              "#bd3786"
             ],
             [
              0.5555555555555556,
              "#d8576b"
             ],
             [
              0.6666666666666666,
              "#ed7953"
             ],
             [
              0.7777777777777778,
              "#fb9f3a"
             ],
             [
              0.8888888888888888,
              "#fdca26"
             ],
             [
              1,
              "#f0f921"
             ]
            ],
            "type": "histogram2d"
           }
          ],
          "histogram2dcontour": [
           {
            "colorbar": {
             "outlinewidth": 0,
             "ticks": ""
            },
            "colorscale": [
             [
              0,
              "#0d0887"
             ],
             [
              0.1111111111111111,
              "#46039f"
             ],
             [
              0.2222222222222222,
              "#7201a8"
             ],
             [
              0.3333333333333333,
              "#9c179e"
             ],
             [
              0.4444444444444444,
              "#bd3786"
             ],
             [
              0.5555555555555556,
              "#d8576b"
             ],
             [
              0.6666666666666666,
              "#ed7953"
             ],
             [
              0.7777777777777778,
              "#fb9f3a"
             ],
             [
              0.8888888888888888,
              "#fdca26"
             ],
             [
              1,
              "#f0f921"
             ]
            ],
            "type": "histogram2dcontour"
           }
          ],
          "mesh3d": [
           {
            "colorbar": {
             "outlinewidth": 0,
             "ticks": ""
            },
            "type": "mesh3d"
           }
          ],
          "parcoords": [
           {
            "line": {
             "colorbar": {
              "outlinewidth": 0,
              "ticks": ""
             }
            },
            "type": "parcoords"
           }
          ],
          "pie": [
           {
            "automargin": true,
            "type": "pie"
           }
          ],
          "scatter": [
           {
            "marker": {
             "colorbar": {
              "outlinewidth": 0,
              "ticks": ""
             }
            },
            "type": "scatter"
           }
          ],
          "scatter3d": [
           {
            "line": {
             "colorbar": {
              "outlinewidth": 0,
              "ticks": ""
             }
            },
            "marker": {
             "colorbar": {
              "outlinewidth": 0,
              "ticks": ""
             }
            },
            "type": "scatter3d"
           }
          ],
          "scattercarpet": [
           {
            "marker": {
             "colorbar": {
              "outlinewidth": 0,
              "ticks": ""
             }
            },
            "type": "scattercarpet"
           }
          ],
          "scattergeo": [
           {
            "marker": {
             "colorbar": {
              "outlinewidth": 0,
              "ticks": ""
             }
            },
            "type": "scattergeo"
           }
          ],
          "scattergl": [
           {
            "marker": {
             "colorbar": {
              "outlinewidth": 0,
              "ticks": ""
             }
            },
            "type": "scattergl"
           }
          ],
          "scattermapbox": [
           {
            "marker": {
             "colorbar": {
              "outlinewidth": 0,
              "ticks": ""
             }
            },
            "type": "scattermapbox"
           }
          ],
          "scatterpolar": [
           {
            "marker": {
             "colorbar": {
              "outlinewidth": 0,
              "ticks": ""
             }
            },
            "type": "scatterpolar"
           }
          ],
          "scatterpolargl": [
           {
            "marker": {
             "colorbar": {
              "outlinewidth": 0,
              "ticks": ""
             }
            },
            "type": "scatterpolargl"
           }
          ],
          "scatterternary": [
           {
            "marker": {
             "colorbar": {
              "outlinewidth": 0,
              "ticks": ""
             }
            },
            "type": "scatterternary"
           }
          ],
          "surface": [
           {
            "colorbar": {
             "outlinewidth": 0,
             "ticks": ""
            },
            "colorscale": [
             [
              0,
              "#0d0887"
             ],
             [
              0.1111111111111111,
              "#46039f"
             ],
             [
              0.2222222222222222,
              "#7201a8"
             ],
             [
              0.3333333333333333,
              "#9c179e"
             ],
             [
              0.4444444444444444,
              "#bd3786"
             ],
             [
              0.5555555555555556,
              "#d8576b"
             ],
             [
              0.6666666666666666,
              "#ed7953"
             ],
             [
              0.7777777777777778,
              "#fb9f3a"
             ],
             [
              0.8888888888888888,
              "#fdca26"
             ],
             [
              1,
              "#f0f921"
             ]
            ],
            "type": "surface"
           }
          ],
          "table": [
           {
            "cells": {
             "fill": {
              "color": "#EBF0F8"
             },
             "line": {
              "color": "white"
             }
            },
            "header": {
             "fill": {
              "color": "#C8D4E3"
             },
             "line": {
              "color": "white"
             }
            },
            "type": "table"
           }
          ]
         },
         "layout": {
          "annotationdefaults": {
           "arrowcolor": "#2a3f5f",
           "arrowhead": 0,
           "arrowwidth": 1
          },
          "coloraxis": {
           "colorbar": {
            "outlinewidth": 0,
            "ticks": ""
           }
          },
          "colorscale": {
           "diverging": [
            [
             0,
             "#8e0152"
            ],
            [
             0.1,
             "#c51b7d"
            ],
            [
             0.2,
             "#de77ae"
            ],
            [
             0.3,
             "#f1b6da"
            ],
            [
             0.4,
             "#fde0ef"
            ],
            [
             0.5,
             "#f7f7f7"
            ],
            [
             0.6,
             "#e6f5d0"
            ],
            [
             0.7,
             "#b8e186"
            ],
            [
             0.8,
             "#7fbc41"
            ],
            [
             0.9,
             "#4d9221"
            ],
            [
             1,
             "#276419"
            ]
           ],
           "sequential": [
            [
             0,
             "#0d0887"
            ],
            [
             0.1111111111111111,
             "#46039f"
            ],
            [
             0.2222222222222222,
             "#7201a8"
            ],
            [
             0.3333333333333333,
             "#9c179e"
            ],
            [
             0.4444444444444444,
             "#bd3786"
            ],
            [
             0.5555555555555556,
             "#d8576b"
            ],
            [
             0.6666666666666666,
             "#ed7953"
            ],
            [
             0.7777777777777778,
             "#fb9f3a"
            ],
            [
             0.8888888888888888,
             "#fdca26"
            ],
            [
             1,
             "#f0f921"
            ]
           ],
           "sequentialminus": [
            [
             0,
             "#0d0887"
            ],
            [
             0.1111111111111111,
             "#46039f"
            ],
            [
             0.2222222222222222,
             "#7201a8"
            ],
            [
             0.3333333333333333,
             "#9c179e"
            ],
            [
             0.4444444444444444,
             "#bd3786"
            ],
            [
             0.5555555555555556,
             "#d8576b"
            ],
            [
             0.6666666666666666,
             "#ed7953"
            ],
            [
             0.7777777777777778,
             "#fb9f3a"
            ],
            [
             0.8888888888888888,
             "#fdca26"
            ],
            [
             1,
             "#f0f921"
            ]
           ]
          },
          "colorway": [
           "#636efa",
           "#EF553B",
           "#00cc96",
           "#ab63fa",
           "#FFA15A",
           "#19d3f3",
           "#FF6692",
           "#B6E880",
           "#FF97FF",
           "#FECB52"
          ],
          "font": {
           "color": "#2a3f5f"
          },
          "geo": {
           "bgcolor": "white",
           "lakecolor": "white",
           "landcolor": "#E5ECF6",
           "showlakes": true,
           "showland": true,
           "subunitcolor": "white"
          },
          "hoverlabel": {
           "align": "left"
          },
          "hovermode": "closest",
          "mapbox": {
           "style": "light"
          },
          "paper_bgcolor": "white",
          "plot_bgcolor": "#E5ECF6",
          "polar": {
           "angularaxis": {
            "gridcolor": "white",
            "linecolor": "white",
            "ticks": ""
           },
           "bgcolor": "#E5ECF6",
           "radialaxis": {
            "gridcolor": "white",
            "linecolor": "white",
            "ticks": ""
           }
          },
          "scene": {
           "xaxis": {
            "backgroundcolor": "#E5ECF6",
            "gridcolor": "white",
            "gridwidth": 2,
            "linecolor": "white",
            "showbackground": true,
            "ticks": "",
            "zerolinecolor": "white"
           },
           "yaxis": {
            "backgroundcolor": "#E5ECF6",
            "gridcolor": "white",
            "gridwidth": 2,
            "linecolor": "white",
            "showbackground": true,
            "ticks": "",
            "zerolinecolor": "white"
           },
           "zaxis": {
            "backgroundcolor": "#E5ECF6",
            "gridcolor": "white",
            "gridwidth": 2,
            "linecolor": "white",
            "showbackground": true,
            "ticks": "",
            "zerolinecolor": "white"
           }
          },
          "shapedefaults": {
           "line": {
            "color": "#2a3f5f"
           }
          },
          "ternary": {
           "aaxis": {
            "gridcolor": "white",
            "linecolor": "white",
            "ticks": ""
           },
           "baxis": {
            "gridcolor": "white",
            "linecolor": "white",
            "ticks": ""
           },
           "bgcolor": "#E5ECF6",
           "caxis": {
            "gridcolor": "white",
            "linecolor": "white",
            "ticks": ""
           }
          },
          "title": {
           "x": 0.05
          },
          "xaxis": {
           "automargin": true,
           "gridcolor": "white",
           "linecolor": "white",
           "ticks": "",
           "title": {
            "standoff": 15
           },
           "zerolinecolor": "white",
           "zerolinewidth": 2
          },
          "yaxis": {
           "automargin": true,
           "gridcolor": "white",
           "linecolor": "white",
           "ticks": "",
           "title": {
            "standoff": 15
           },
           "zerolinecolor": "white",
           "zerolinewidth": 2
          }
         }
        },
        "title": {
         "text": "Winter Gas Leak Reports (Conedison vs NYFD) (plotting 325 dots)"
        },
        "xaxis": {
         "anchor": "y",
         "domain": [
          0,
          1
         ],
         "title": {
          "text": "Winter_ReportCount_ConEd"
         }
        },
        "yaxis": {
         "anchor": "x",
         "domain": [
          0,
          1
         ],
         "title": {
          "text": "Winter_ReportCount_NYFD"
         }
        }
       }
      },
      "text/html": [
       "<div>\n",
       "        \n",
       "        \n",
       "            <div id=\"6466feef-c71a-427c-9aad-d81d090cb428\" class=\"plotly-graph-div\" style=\"height:525px; width:100%;\"></div>\n",
       "            <script type=\"text/javascript\">\n",
       "                require([\"plotly\"], function(Plotly) {\n",
       "                    window.PLOTLYENV=window.PLOTLYENV || {};\n",
       "                    \n",
       "                if (document.getElementById(\"6466feef-c71a-427c-9aad-d81d090cb428\")) {\n",
       "                    Plotly.newPlot(\n",
       "                        '6466feef-c71a-427c-9aad-d81d090cb428',\n",
       "                        [{\"customdata\": [[36119001502, 15.02, \"Westchester County\"], [36119010300, 103.0, \"Westchester County\"]], \"hoverlabel\": {\"namelength\": 0}, \"hovertemplate\": \"CountyName=%{customdata[2]}<br>Winter_ReportCount_ConEd=%{x}<br>Winter_ReportCount_NYFD=%{y}<br>Geoid=%{customdata[0]}<br>CensusTract=%{customdata[1]}\", \"legendgroup\": \"CountyName=Westchester County\", \"marker\": {\"color\": \"#636efa\", \"symbol\": \"circle\"}, \"mode\": \"markers\", \"name\": \"CountyName=Westchester County\", \"showlegend\": true, \"type\": \"scatter\", \"x\": [2.0, 2.0], \"xaxis\": \"x\", \"y\": [0, 1], \"yaxis\": \"y\"}, {\"customdata\": [[36081162100, 1621.0, \"Queens County\"], [36081152902, 1529.02, \"Queens County\"], [36081142900, 1429.0, \"Queens County\"], [36081140901, 1409.01, \"Queens County\"], [36081139900, 1399.0, \"Queens County\"], [36081134700, 1347.0, \"Queens County\"], [36081134100, 1341.0, \"Queens County\"], [36081133300, 1333.0, \"Queens County\"], [36081127700, 1277.0, \"Queens County\"], [36081122701, 1227.01, \"Queens County\"], [36081117500, 1175.0, \"Queens County\"], [36081117100, 1171.0, \"Queens County\"], [36081114100, 1141.0, \"Queens County\"], [36081109900, 1099.0, \"Queens County\"], [36081103900, 1039.0, \"Queens County\"], [36081101700, 1017.0, \"Queens County\"], [36081099701, 997.01, \"Queens County\"], [36081098700, 987.0, \"Queens County\"], [36081086900, 869.0, \"Queens County\"], [36081077904, 779.04, \"Queens County\"], [36081011700, 117.0, \"Queens County\"], [36081010300, 103.0, \"Queens County\"], [36081008500, 85.0, \"Queens County\"], [36081001900, 19.0, \"Queens County\"], [36081000700, 7.0, \"Queens County\"], [36081161700, 1617.0, \"Queens County\"], [36081157903, 1579.03, \"Queens County\"], [36081157901, 1579.01, \"Queens County\"], [36081157102, 1571.02, \"Queens County\"], [36081157101, 1571.01, \"Queens County\"], [36081155102, 1551.02, \"Queens County\"], [36081152901, 1529.01, \"Queens County\"], [36081148300, 1483.0, \"Queens County\"], [36081147100, 1471.0, \"Queens County\"], [36081146700, 1467.0, \"Queens County\"], [36081145900, 1459.0, \"Queens County\"], [36081144100, 1441.0, \"Queens County\"], [36081140300, 1403.0, \"Queens County\"], [36081136700, 1367.0, \"Queens County\"], [36081129103, 1291.03, \"Queens County\"], [36081126700, 1267.0, \"Queens County\"], [36081126500, 1265.0, \"Queens County\"], [36081124700, 1247.0, \"Queens County\"], [36081122300, 1223.0, \"Queens County\"], [36081121500, 1215.0, \"Queens County\"], [36081119300, 1193.0, \"Queens County\"], [36081118100, 1181.0, \"Queens County\"], [36081116700, 1167.0, \"Queens County\"], [36081116300, 1163.0, \"Queens County\"], [36081115100, 1151.0, \"Queens County\"], [36081113900, 1139.0, \"Queens County\"], [36081112900, 1129.0, \"Queens County\"], [36081112300, 1123.0, \"Queens County\"], [36081111300, 1113.0, \"Queens County\"], [36081109300, 1093.0, \"Queens County\"], [36081099705, 997.05, \"Queens County\"], [36081099703, 997.03, \"Queens County\"], [36081094500, 945.0, \"Queens County\"], [36081088901, 889.01, \"Queens County\"], [36081087100, 871.0, \"Queens County\"], [36081084500, 845.0, \"Queens County\"], [36081083700, 837.0, \"Queens County\"], [36081080900, 809.0, \"Queens County\"], [36081080302, 803.02, \"Queens County\"], [36081080301, 803.01, \"Queens County\"], [36081079702, 797.02, \"Queens County\"], [36081077906, 779.06, \"Queens County\"], [36081077905, 779.05, \"Queens County\"], [36081077903, 779.03, \"Queens County\"], [36081077902, 779.02, \"Queens County\"], [36081075701, 757.01, \"Queens County\"], [36081048400, 484.0, \"Queens County\"], [36081046000, 460.0, \"Queens County\"], [36081045000, 450.0, \"Queens County\"], [36081028000, 280.0, \"Queens County\"], [36081026300, 263.0, \"Queens County\"], [36081026000, 260.0, \"Queens County\"], [36081023500, 235.0, \"Queens County\"], [36081023000, 230.0, \"Queens County\"], [36081019900, 199.0, \"Queens County\"], [36081018900, 189.0, \"Queens County\"], [36081018502, 185.02, \"Queens County\"], [36081016900, 169.0, \"Queens County\"], [36081015900, 159.0, \"Queens County\"], [36081015700, 157.0, \"Queens County\"], [36081014300, 143.0, \"Queens County\"], [36081012301, 123.01, \"Queens County\"], [36081011300, 113.0, \"Queens County\"], [36081009700, 97.0, \"Queens County\"], [36081008300, 83.0, \"Queens County\"], [36081008100, 81.0, \"Queens County\"], [36081007900, 79.0, \"Queens County\"], [36081007700, 77.0, \"Queens County\"], [36081005100, 51.0, \"Queens County\"], [36081004500, 45.0, \"Queens County\"], [36081003900, 39.0, \"Queens County\"], [36081003100, 31.0, \"Queens County\"], [36081156700, 1567.0, \"Queens County\"], [36081150702, 1507.02, \"Queens County\"], [36081146300, 1463.0, \"Queens County\"], [36081141700, 1417.0, \"Queens County\"], [36081140902, 1409.02, \"Queens County\"], [36081129102, 1291.02, \"Queens County\"], [36081124100, 1241.0, \"Queens County\"], [36081120700, 1207.0, \"Queens County\"], [36081118900, 1189.0, \"Queens County\"], [36081109700, 1097.0, \"Queens County\"], [36081105900, 1059.0, \"Queens County\"], [36081085900, 859.0, \"Queens County\"], [36081079900, 799.0, \"Queens County\"], [36081054200, 542.0, \"Queens County\"], [36081041400, 414.0, \"Queens County\"], [36081018101, 181.01, \"Queens County\"]], \"hoverlabel\": {\"namelength\": 0}, \"hovertemplate\": \"CountyName=%{customdata[2]}<br>Winter_ReportCount_ConEd=%{x}<br>Winter_ReportCount_NYFD=%{y}<br>Geoid=%{customdata[0]}<br>CensusTract=%{customdata[1]}\", \"legendgroup\": \"CountyName=Queens County\", \"marker\": {\"color\": \"#EF553B\", \"symbol\": \"circle\"}, \"mode\": \"markers\", \"name\": \"CountyName=Queens County\", \"showlegend\": true, \"type\": \"scatter\", \"x\": [3.0, 2.0, 1.0, 4.0, 1.0, 4.0, 1.0, 6.0, 2.0, 1.0, 8.0, 1.0, 1.0, 2.0, 3.0, 1.0, 2.0, 1.0, 3.0, 4.0, 1.0, 2.0, 6.0, 2.0, 3.0, 3.0, 2.0, 5.0, 1.0, 5.0, 12.0, 2.0, 2.0, 1.0, 3.0, 2.0, 3.0, 2.0, 1.0, 2.0, 3.0, 4.0, 4.0, 3.0, 3.0, 2.0, 2.0, 2.0, 1.0, 1.0, 1.0, 1.0, 1.0, 1.0, 4.0, 2.0, 1.0, 1.0, 1.0, 2.0, 1.0, 1.0, 2.0, 5.0, 2.0, 1.0, 1.0, 1.0, 3.0, 5.0, 1.0, 1.0, 1.0, 1.0, 1.0, 1.0, 1.0, 1.0, 1.0, 2.0, 3.0, 1.0, 2.0, 1.0, 1.0, 1.0, 3.0, 1.0, 4.0, 1.0, 1.0, 2.0, 1.0, 2.0, 1.0, 1.0, 1.0, 1.0, 1.0, 2.0, 1.0, 2.0, 4.0, 3.0, 1.0, 1.0, 1.0, 1.0, 3.0, 1.0, 2.0, 1.0, 1.0], \"xaxis\": \"x\", \"y\": [4, 4, 1, 2, 0, 2, 4, 5, 9, 13, 2, 0, 0, 2, 1, 7, 4, 2, 1, 6, 1, 3, 3, 2, 2, 13, 5, 8, 0, 5, 7, 1, 2, 1, 4, 2, 6, 0, 3, 3, 2, 0, 1, 1, 0, 0, 3, 0, 0, 2, 0, 2, 3, 2, 2, 3, 1, 4, 6, 6, 0, 3, 11, 0, 0, 0, 10, 1, 3, 2, 2, 1, 4, 1, 0, 1, 3, 6, 1, 3, 0, 4, 0, 1, 1, 3, 3, 2, 1, 1, 0, 7, 5, 3, 5, 0, 0, 1, 4, 1, 6, 3, 1, 5, 1, 2, 2, 2, 2, 1, 1, 1, 3], \"yaxis\": \"y\"}, {\"customdata\": [[36061028700, 287.0, \"New York County\"], [36061027100, 271.0, \"New York County\"], [36061021400, 214.0, \"New York County\"], [36061021200, 212.0, \"New York County\"], [36061021100, 211.0, \"New York County\"], [36061019800, 198.0, \"New York County\"], [36061019600, 196.0, \"New York County\"], [36061019500, 195.0, \"New York County\"], [36061018000, 180.0, \"New York County\"], [36061017000, 170.0, \"New York County\"], [36061016700, 167.0, \"New York County\"], [36061016400, 164.0, \"New York County\"], [36061016300, 163.0, \"New York County\"], [36061016100, 161.0, \"New York County\"], [36061013700, 137.0, \"New York County\"], [36061013500, 135.0, \"New York County\"], [36061013300, 133.0, \"New York County\"], [36061012700, 127.0, \"New York County\"], [36061012600, 126.0, \"New York County\"], [36061011300, 113.0, \"New York County\"], [36061010900, 109.0, \"New York County\"], [36061010800, 108.0, \"New York County\"], [36061010400, 104.0, \"New York County\"], [36061010200, 102.0, \"New York County\"], [36061010000, 100.0, \"New York County\"], [36061009700, 97.0, \"New York County\"], [36061008400, 84.0, \"New York County\"], [36061008100, 81.0, \"New York County\"], [36061005502, 55.02, \"New York County\"], [36061004700, 47.0, \"New York County\"], [36061004100, 41.0, \"New York County\"], [36061004000, 40.0, \"New York County\"], [36061003900, 39.0, \"New York County\"], [36061003300, 33.0, \"New York County\"], [36061002900, 29.0, \"New York County\"], [36061002202, 22.02, \"New York County\"], [36061001800, 18.0, \"New York County\"], [36061001501, 15.01, \"New York County\"], [36061001300, 13.0, \"New York County\"], [36061000800, 8.0, \"New York County\"], [36061000600, 6.0, \"New York County\"], [36061031100, 311.0, \"New York County\"], [36061029500, 295.0, \"New York County\"], [36061024500, 245.0, \"New York County\"], [36061024302, 243.02, \"New York County\"], [36061024200, 242.0, \"New York County\"], [36061023700, 237.0, \"New York County\"], [36061023200, 232.0, \"New York County\"], [36061022700, 227.0, \"New York County\"], [36061020800, 208.0, \"New York County\"], [36061020500, 205.0, \"New York County\"], [36061020102, 201.02, \"New York County\"], [36061019701, 197.01, \"New York County\"], [36061019300, 193.0, \"New York County\"], [36061018900, 189.0, \"New York County\"], [36061018800, 188.0, \"New York County\"], [36061018500, 185.0, \"New York County\"], [36061018300, 183.0, \"New York County\"], [36061018200, 182.0, \"New York County\"], [36061017900, 179.0, \"New York County\"], [36061017500, 175.0, \"New York County\"], [36061017402, 174.02, \"New York County\"], [36061017300, 173.0, \"New York County\"], [36061017100, 171.0, \"New York County\"], [36061016600, 166.0, \"New York County\"], [36061015700, 157.0, \"New York County\"], [36061015300, 153.0, \"New York County\"], [36061015002, 150.02, \"New York County\"], [36061014802, 148.02, \"New York County\"], [36061014300, 143.0, \"New York County\"], [36061013400, 134.0, \"New York County\"], [36061013000, 130.0, \"New York County\"], [36061012900, 129.0, \"New York County\"], [36061012200, 122.0, \"New York County\"], [36061011700, 117.0, \"New York County\"], [36061011201, 112.01, \"New York County\"], [36061011100, 111.0, \"New York County\"], [36061010602, 106.02, \"New York County\"], [36061009400, 94.0, \"New York County\"], [36061009300, 93.0, \"New York County\"], [36061009200, 92.0, \"New York County\"], [36061008603, 86.03, \"New York County\"], [36061007900, 79.0, \"New York County\"], [36061007600, 76.0, \"New York County\"], [36061007400, 74.0, \"New York County\"], [36061007300, 73.0, \"New York County\"], [36061007100, 71.0, \"New York County\"], [36061007000, 70.0, \"New York County\"], [36061006800, 68.0, \"New York County\"], [36061006700, 67.0, \"New York County\"], [36061006600, 66.0, \"New York County\"], [36061006500, 65.0, \"New York County\"], [36061006300, 63.0, \"New York County\"], [36061005600, 56.0, \"New York County\"], [36061005200, 52.0, \"New York County\"], [36061005000, 50.0, \"New York County\"], [36061004500, 45.0, \"New York County\"], [36061003601, 36.01, \"New York County\"], [36061003200, 32.0, \"New York County\"], [36061003100, 31.0, \"New York County\"], [36061003002, 30.02, \"New York County\"], [36061002602, 26.02, \"New York County\"], [36061001600, 16.0, \"New York County\"], [36061001502, 15.02, \"New York County\"], [36061001402, 14.02, \"New York County\"], [36061001401, 14.01, \"New York County\"], [36061000700, 7.0, \"New York County\"], [36061023300, 233.0, \"New York County\"], [36061018400, 184.0, \"New York County\"], [36061017700, 177.0, \"New York County\"], [36061015200, 152.0, \"New York County\"], [36061014500, 145.0, \"New York County\"], [36061013900, 139.0, \"New York County\"], [36061011800, 118.0, \"New York County\"], [36061010100, 101.0, \"New York County\"], [36061009500, 95.0, \"New York County\"], [36061009100, 91.0, \"New York County\"], [36061008900, 89.0, \"New York County\"], [36061008200, 82.0, \"New York County\"], [36061007700, 77.0, \"New York County\"], [36061005800, 58.0, \"New York County\"], [36061003700, 37.0, \"New York County\"], [36061003001, 30.01, \"New York County\"]], \"hoverlabel\": {\"namelength\": 0}, \"hovertemplate\": \"CountyName=%{customdata[2]}<br>Winter_ReportCount_ConEd=%{x}<br>Winter_ReportCount_NYFD=%{y}<br>Geoid=%{customdata[0]}<br>CensusTract=%{customdata[1]}\", \"legendgroup\": \"CountyName=New York County\", \"marker\": {\"color\": \"#00cc96\", \"symbol\": \"circle\"}, \"mode\": \"markers\", \"name\": \"CountyName=New York County\", \"showlegend\": true, \"type\": \"scatter\", \"x\": [1.0, 1.0, 1.0, 2.0, 1.0, 1.0, 1.0, 1.0, 1.0, 3.0, 4.0, 1.0, 3.0, 2.0, 1.0, 2.0, 2.0, 1.0, 2.0, 1.0, 5.0, 1.0, 2.0, 3.0, 2.0, 1.0, 1.0, 1.0, 2.0, 4.0, 1.0, 2.0, 2.0, 3.0, 2.0, 1.0, 3.0, 8.0, 1.0, 2.0, 4.0, 1.0, 2.0, 3.0, 1.0, 1.0, 2.0, 1.0, 1.0, 1.0, 1.0, 1.0, 1.0, 3.0, 1.0, 1.0, 1.0, 1.0, 1.0, 1.0, 1.0, 1.0, 1.0, 3.0, 5.0, 2.0, 2.0, 2.0, 1.0, 2.0, 1.0, 2.0, 3.0, 1.0, 1.0, 1.0, 5.0, 1.0, 2.0, 2.0, 2.0, 2.0, 3.0, 4.0, 2.0, 1.0, 1.0, 1.0, 1.0, 1.0, 2.0, 1.0, 1.0, 1.0, 1.0, 2.0, 1.0, 1.0, 5.0, 2.0, 1.0, 2.0, 2.0, 1.0, 2.0, 1.0, 4.0, 1.0, 1.0, 1.0, 1.0, 1.0, 1.0, 1.0, 1.0, 1.0, 1.0, 2.0, 1.0, 1.0, 2.0, 1.0, 2.0], \"xaxis\": \"x\", \"y\": [2, 10, 3, 5, 17, 2, 8, 9, 5, 13, 1, 5, 2, 4, 15, 1, 7, 6, 9, 2, 2, 1, 0, 3, 6, 4, 0, 22, 2, 6, 7, 6, 1, 8, 3, 2, 8, 8, 2, 5, 10, 2, 2, 21, 11, 10, 5, 22, 2, 4, 0, 1, 6, 4, 13, 5, 1, 3, 5, 5, 8, 5, 5, 7, 8, 5, 2, 0, 0, 14, 13, 1, 13, 1, 1, 1, 4, 1, 4, 10, 4, 0, 3, 4, 5, 13, 10, 3, 5, 12, 4, 11, 0, 3, 3, 4, 6, 4, 15, 1, 8, 10, 3, 3, 4, 1, 1, 6, 6, 5, 8, 4, 11, 5, 0, 0, 4, 8, 2, 7, 5, 3, 9], \"yaxis\": \"y\"}, {\"customdata\": [[36005051600, 516.0, \"Bronx County\"], [36005046202, 462.02, \"Bronx County\"], [36005042902, 429.02, \"Bronx County\"], [36005038600, 386.0, \"Bronx County\"], [36005034800, 348.0, \"Bronx County\"], [36005034500, 345.0, \"Bronx County\"], [36005033400, 334.0, \"Bronx County\"], [36005032300, 323.0, \"Bronx County\"], [36005029700, 297.0, \"Bronx County\"], [36005028800, 288.0, \"Bronx County\"], [36005027402, 274.02, \"Bronx County\"], [36005027401, 274.01, \"Bronx County\"], [36005026601, 266.01, \"Bronx County\"], [36005023000, 230.0, \"Bronx County\"], [36005021502, 215.02, \"Bronx County\"], [36005021002, 210.02, \"Bronx County\"], [36005019400, 194.0, \"Bronx County\"], [36005015200, 152.0, \"Bronx County\"], [36005014100, 141.0, \"Bronx County\"], [36005013800, 138.0, \"Bronx County\"], [36005011800, 118.0, \"Bronx County\"], [36005006500, 65.0, \"Bronx County\"], [36005005400, 54.0, \"Bronx County\"], [36005004600, 46.0, \"Bronx County\"], [36005002800, 28.0, \"Bronx County\"], [36005046201, 462.01, \"Bronx County\"], [36005045600, 456.0, \"Bronx County\"], [36005042600, 426.0, \"Bronx County\"], [36005042400, 424.0, \"Bronx County\"], [36005040702, 407.02, \"Bronx County\"], [36005039000, 390.0, \"Bronx County\"], [36005038500, 385.0, \"Bronx County\"], [36005036400, 364.0, \"Bronx County\"], [36005034300, 343.0, \"Bronx County\"], [36005034000, 340.0, \"Bronx County\"], [36005033500, 335.0, \"Bronx County\"], [36005032600, 326.0, \"Bronx County\"], [36005032400, 324.0, \"Bronx County\"], [36005031800, 318.0, \"Bronx County\"], [36005026701, 267.01, \"Bronx County\"], [36005026602, 266.02, \"Bronx County\"], [36005026500, 265.0, \"Bronx County\"], [36005025600, 256.0, \"Bronx County\"], [36005025100, 251.0, \"Bronx County\"], [36005024800, 248.0, \"Bronx County\"], [36005024000, 240.0, \"Bronx County\"], [36005023600, 236.0, \"Bronx County\"], [36005022901, 229.01, \"Bronx County\"], [36005022500, 225.0, \"Bronx County\"], [36005022101, 221.01, \"Bronx County\"], [36005021800, 218.0, \"Bronx County\"], [36005021700, 217.0, \"Bronx County\"], [36005021501, 215.01, \"Bronx County\"], [36005021302, 213.02, \"Bronx County\"], [36005020200, 202.0, \"Bronx County\"], [36005019900, 199.0, \"Bronx County\"], [36005019500, 195.0, \"Bronx County\"], [36005016000, 160.0, \"Bronx County\"], [36005015500, 155.0, \"Bronx County\"], [36005015300, 153.0, \"Bronx County\"], [36005014900, 149.0, \"Bronx County\"], [36005012901, 129.01, \"Bronx County\"], [36005012500, 125.0, \"Bronx County\"], [36005011900, 119.0, \"Bronx County\"], [36005009300, 93.0, \"Bronx County\"], [36005007100, 71.0, \"Bronx County\"], [36005006700, 67.0, \"Bronx County\"], [36005006300, 63.0, \"Bronx County\"], [36005003900, 39.0, \"Bronx County\"], [36005001900, 19.0, \"Bronx County\"], [36005000200, 2.0, \"Bronx County\"], [36005044800, 448.0, \"Bronx County\"], [36005044400, 444.0, \"Bronx County\"], [36005041400, 414.0, \"Bronx County\"], [36005040600, 406.0, \"Bronx County\"], [36005038200, 382.0, \"Bronx County\"], [36005038000, 380.0, \"Bronx County\"], [36005037100, 371.0, \"Bronx County\"], [36005032800, 328.0, \"Bronx County\"], [36005027300, 273.0, \"Bronx County\"], [36005026702, 267.02, \"Bronx County\"], [36005023702, 237.02, \"Bronx County\"], [36005022902, 229.02, \"Bronx County\"], [36005008700, 87.0, \"Bronx County\"], [36005007200, 72.0, \"Bronx County\"], [36005004001, 40.01, \"Bronx County\"], [36005000400, 4.0, \"Bronx County\"]], \"hoverlabel\": {\"namelength\": 0}, \"hovertemplate\": \"CountyName=%{customdata[2]}<br>Winter_ReportCount_ConEd=%{x}<br>Winter_ReportCount_NYFD=%{y}<br>Geoid=%{customdata[0]}<br>CensusTract=%{customdata[1]}\", \"legendgroup\": \"CountyName=Bronx County\", \"marker\": {\"color\": \"#ab63fa\", \"symbol\": \"circle\"}, \"mode\": \"markers\", \"name\": \"CountyName=Bronx County\", \"showlegend\": true, \"type\": \"scatter\", \"x\": [12.0, 2.0, 1.0, 2.0, 1.0, 3.0, 1.0, 1.0, 2.0, 1.0, 1.0, 1.0, 1.0, 1.0, 1.0, 1.0, 2.0, 1.0, 1.0, 3.0, 2.0, 2.0, 1.0, 1.0, 2.0, 1.0, 2.0, 3.0, 1.0, 1.0, 1.0, 2.0, 1.0, 1.0, 1.0, 1.0, 1.0, 1.0, 1.0, 1.0, 1.0, 1.0, 1.0, 1.0, 1.0, 1.0, 1.0, 1.0, 1.0, 1.0, 1.0, 1.0, 2.0, 2.0, 1.0, 2.0, 1.0, 2.0, 2.0, 1.0, 1.0, 1.0, 1.0, 1.0, 2.0, 1.0, 1.0, 2.0, 1.0, 1.0, 1.0, 1.0, 1.0, 1.0, 1.0, 1.0, 1.0, 1.0, 1.0, 2.0, 1.0, 1.0, 1.0, 1.0, 2.0, 1.0, 1.0], \"xaxis\": \"x\", \"y\": [5, 3, 7, 4, 6, 4, 3, 7, 2, 2, 2, 1, 0, 3, 6, 1, 1, 9, 4, 8, 1, 2, 7, 9, 9, 35, 2, 6, 3, 0, 7, 7, 3, 2, 3, 1, 2, 8, 3, 4, 0, 5, 0, 7, 1, 4, 2, 4, 10, 3, 2, 4, 2, 3, 2, 7, 7, 1, 2, 4, 6, 15, 5, 4, 10, 4, 5, 6, 16, 9, 4, 0, 0, 5, 2, 4, 2, 4, 5, 4, 4, 0, 9, 1, 4, 1, 2], \"yaxis\": \"y\"}],\n",
       "                        {\"legend\": {\"tracegroupgap\": 0}, \"margin\": {\"t\": 60}, \"template\": {\"data\": {\"bar\": [{\"error_x\": {\"color\": \"#2a3f5f\"}, \"error_y\": {\"color\": \"#2a3f5f\"}, \"marker\": {\"line\": {\"color\": \"#E5ECF6\", \"width\": 0.5}}, \"type\": \"bar\"}], \"barpolar\": [{\"marker\": {\"line\": {\"color\": \"#E5ECF6\", \"width\": 0.5}}, \"type\": \"barpolar\"}], \"carpet\": [{\"aaxis\": {\"endlinecolor\": \"#2a3f5f\", \"gridcolor\": \"white\", \"linecolor\": \"white\", \"minorgridcolor\": \"white\", \"startlinecolor\": \"#2a3f5f\"}, \"baxis\": {\"endlinecolor\": \"#2a3f5f\", \"gridcolor\": \"white\", \"linecolor\": \"white\", \"minorgridcolor\": \"white\", \"startlinecolor\": \"#2a3f5f\"}, \"type\": \"carpet\"}], \"choropleth\": [{\"colorbar\": {\"outlinewidth\": 0, \"ticks\": \"\"}, \"type\": \"choropleth\"}], \"contour\": [{\"colorbar\": {\"outlinewidth\": 0, \"ticks\": \"\"}, \"colorscale\": [[0.0, \"#0d0887\"], [0.1111111111111111, \"#46039f\"], [0.2222222222222222, \"#7201a8\"], [0.3333333333333333, \"#9c179e\"], [0.4444444444444444, \"#bd3786\"], [0.5555555555555556, \"#d8576b\"], [0.6666666666666666, \"#ed7953\"], [0.7777777777777778, \"#fb9f3a\"], [0.8888888888888888, \"#fdca26\"], [1.0, \"#f0f921\"]], \"type\": \"contour\"}], \"contourcarpet\": [{\"colorbar\": {\"outlinewidth\": 0, \"ticks\": \"\"}, \"type\": \"contourcarpet\"}], \"heatmap\": [{\"colorbar\": {\"outlinewidth\": 0, \"ticks\": \"\"}, \"colorscale\": [[0.0, \"#0d0887\"], [0.1111111111111111, \"#46039f\"], [0.2222222222222222, \"#7201a8\"], [0.3333333333333333, \"#9c179e\"], [0.4444444444444444, \"#bd3786\"], [0.5555555555555556, \"#d8576b\"], [0.6666666666666666, \"#ed7953\"], [0.7777777777777778, \"#fb9f3a\"], [0.8888888888888888, \"#fdca26\"], [1.0, \"#f0f921\"]], \"type\": \"heatmap\"}], \"heatmapgl\": [{\"colorbar\": {\"outlinewidth\": 0, \"ticks\": \"\"}, \"colorscale\": [[0.0, \"#0d0887\"], [0.1111111111111111, \"#46039f\"], [0.2222222222222222, \"#7201a8\"], [0.3333333333333333, \"#9c179e\"], [0.4444444444444444, \"#bd3786\"], [0.5555555555555556, \"#d8576b\"], [0.6666666666666666, \"#ed7953\"], [0.7777777777777778, \"#fb9f3a\"], [0.8888888888888888, \"#fdca26\"], [1.0, \"#f0f921\"]], \"type\": \"heatmapgl\"}], \"histogram\": [{\"marker\": {\"colorbar\": {\"outlinewidth\": 0, \"ticks\": \"\"}}, \"type\": \"histogram\"}], \"histogram2d\": [{\"colorbar\": {\"outlinewidth\": 0, \"ticks\": \"\"}, \"colorscale\": [[0.0, \"#0d0887\"], [0.1111111111111111, \"#46039f\"], [0.2222222222222222, \"#7201a8\"], [0.3333333333333333, \"#9c179e\"], [0.4444444444444444, \"#bd3786\"], [0.5555555555555556, \"#d8576b\"], [0.6666666666666666, \"#ed7953\"], [0.7777777777777778, \"#fb9f3a\"], [0.8888888888888888, \"#fdca26\"], [1.0, \"#f0f921\"]], \"type\": \"histogram2d\"}], \"histogram2dcontour\": [{\"colorbar\": {\"outlinewidth\": 0, \"ticks\": \"\"}, \"colorscale\": [[0.0, \"#0d0887\"], [0.1111111111111111, \"#46039f\"], [0.2222222222222222, \"#7201a8\"], [0.3333333333333333, \"#9c179e\"], [0.4444444444444444, \"#bd3786\"], [0.5555555555555556, \"#d8576b\"], [0.6666666666666666, \"#ed7953\"], [0.7777777777777778, \"#fb9f3a\"], [0.8888888888888888, \"#fdca26\"], [1.0, \"#f0f921\"]], \"type\": \"histogram2dcontour\"}], \"mesh3d\": [{\"colorbar\": {\"outlinewidth\": 0, \"ticks\": \"\"}, \"type\": \"mesh3d\"}], \"parcoords\": [{\"line\": {\"colorbar\": {\"outlinewidth\": 0, \"ticks\": \"\"}}, \"type\": \"parcoords\"}], \"pie\": [{\"automargin\": true, \"type\": \"pie\"}], \"scatter\": [{\"marker\": {\"colorbar\": {\"outlinewidth\": 0, \"ticks\": \"\"}}, \"type\": \"scatter\"}], \"scatter3d\": [{\"line\": {\"colorbar\": {\"outlinewidth\": 0, \"ticks\": \"\"}}, \"marker\": {\"colorbar\": {\"outlinewidth\": 0, \"ticks\": \"\"}}, \"type\": \"scatter3d\"}], \"scattercarpet\": [{\"marker\": {\"colorbar\": {\"outlinewidth\": 0, \"ticks\": \"\"}}, \"type\": \"scattercarpet\"}], \"scattergeo\": [{\"marker\": {\"colorbar\": {\"outlinewidth\": 0, \"ticks\": \"\"}}, \"type\": \"scattergeo\"}], \"scattergl\": [{\"marker\": {\"colorbar\": {\"outlinewidth\": 0, \"ticks\": \"\"}}, \"type\": \"scattergl\"}], \"scattermapbox\": [{\"marker\": {\"colorbar\": {\"outlinewidth\": 0, \"ticks\": \"\"}}, \"type\": \"scattermapbox\"}], \"scatterpolar\": [{\"marker\": {\"colorbar\": {\"outlinewidth\": 0, \"ticks\": \"\"}}, \"type\": \"scatterpolar\"}], \"scatterpolargl\": [{\"marker\": {\"colorbar\": {\"outlinewidth\": 0, \"ticks\": \"\"}}, \"type\": \"scatterpolargl\"}], \"scatterternary\": [{\"marker\": {\"colorbar\": {\"outlinewidth\": 0, \"ticks\": \"\"}}, \"type\": \"scatterternary\"}], \"surface\": [{\"colorbar\": {\"outlinewidth\": 0, \"ticks\": \"\"}, \"colorscale\": [[0.0, \"#0d0887\"], [0.1111111111111111, \"#46039f\"], [0.2222222222222222, \"#7201a8\"], [0.3333333333333333, \"#9c179e\"], [0.4444444444444444, \"#bd3786\"], [0.5555555555555556, \"#d8576b\"], [0.6666666666666666, \"#ed7953\"], [0.7777777777777778, \"#fb9f3a\"], [0.8888888888888888, \"#fdca26\"], [1.0, \"#f0f921\"]], \"type\": \"surface\"}], \"table\": [{\"cells\": {\"fill\": {\"color\": \"#EBF0F8\"}, \"line\": {\"color\": \"white\"}}, \"header\": {\"fill\": {\"color\": \"#C8D4E3\"}, \"line\": {\"color\": \"white\"}}, \"type\": \"table\"}]}, \"layout\": {\"annotationdefaults\": {\"arrowcolor\": \"#2a3f5f\", \"arrowhead\": 0, \"arrowwidth\": 1}, \"coloraxis\": {\"colorbar\": {\"outlinewidth\": 0, \"ticks\": \"\"}}, \"colorscale\": {\"diverging\": [[0, \"#8e0152\"], [0.1, \"#c51b7d\"], [0.2, \"#de77ae\"], [0.3, \"#f1b6da\"], [0.4, \"#fde0ef\"], [0.5, \"#f7f7f7\"], [0.6, \"#e6f5d0\"], [0.7, \"#b8e186\"], [0.8, \"#7fbc41\"], [0.9, \"#4d9221\"], [1, \"#276419\"]], \"sequential\": [[0.0, \"#0d0887\"], [0.1111111111111111, \"#46039f\"], [0.2222222222222222, \"#7201a8\"], [0.3333333333333333, \"#9c179e\"], [0.4444444444444444, \"#bd3786\"], [0.5555555555555556, \"#d8576b\"], [0.6666666666666666, \"#ed7953\"], [0.7777777777777778, \"#fb9f3a\"], [0.8888888888888888, \"#fdca26\"], [1.0, \"#f0f921\"]], \"sequentialminus\": [[0.0, \"#0d0887\"], [0.1111111111111111, \"#46039f\"], [0.2222222222222222, \"#7201a8\"], [0.3333333333333333, \"#9c179e\"], [0.4444444444444444, \"#bd3786\"], [0.5555555555555556, \"#d8576b\"], [0.6666666666666666, \"#ed7953\"], [0.7777777777777778, \"#fb9f3a\"], [0.8888888888888888, \"#fdca26\"], [1.0, \"#f0f921\"]]}, \"colorway\": [\"#636efa\", \"#EF553B\", \"#00cc96\", \"#ab63fa\", \"#FFA15A\", \"#19d3f3\", \"#FF6692\", \"#B6E880\", \"#FF97FF\", \"#FECB52\"], \"font\": {\"color\": \"#2a3f5f\"}, \"geo\": {\"bgcolor\": \"white\", \"lakecolor\": \"white\", \"landcolor\": \"#E5ECF6\", \"showlakes\": true, \"showland\": true, \"subunitcolor\": \"white\"}, \"hoverlabel\": {\"align\": \"left\"}, \"hovermode\": \"closest\", \"mapbox\": {\"style\": \"light\"}, \"paper_bgcolor\": \"white\", \"plot_bgcolor\": \"#E5ECF6\", \"polar\": {\"angularaxis\": {\"gridcolor\": \"white\", \"linecolor\": \"white\", \"ticks\": \"\"}, \"bgcolor\": \"#E5ECF6\", \"radialaxis\": {\"gridcolor\": \"white\", \"linecolor\": \"white\", \"ticks\": \"\"}}, \"scene\": {\"xaxis\": {\"backgroundcolor\": \"#E5ECF6\", \"gridcolor\": \"white\", \"gridwidth\": 2, \"linecolor\": \"white\", \"showbackground\": true, \"ticks\": \"\", \"zerolinecolor\": \"white\"}, \"yaxis\": {\"backgroundcolor\": \"#E5ECF6\", \"gridcolor\": \"white\", \"gridwidth\": 2, \"linecolor\": \"white\", \"showbackground\": true, \"ticks\": \"\", \"zerolinecolor\": \"white\"}, \"zaxis\": {\"backgroundcolor\": \"#E5ECF6\", \"gridcolor\": \"white\", \"gridwidth\": 2, \"linecolor\": \"white\", \"showbackground\": true, \"ticks\": \"\", \"zerolinecolor\": \"white\"}}, \"shapedefaults\": {\"line\": {\"color\": \"#2a3f5f\"}}, \"ternary\": {\"aaxis\": {\"gridcolor\": \"white\", \"linecolor\": \"white\", \"ticks\": \"\"}, \"baxis\": {\"gridcolor\": \"white\", \"linecolor\": \"white\", \"ticks\": \"\"}, \"bgcolor\": \"#E5ECF6\", \"caxis\": {\"gridcolor\": \"white\", \"linecolor\": \"white\", \"ticks\": \"\"}}, \"title\": {\"x\": 0.05}, \"xaxis\": {\"automargin\": true, \"gridcolor\": \"white\", \"linecolor\": \"white\", \"ticks\": \"\", \"title\": {\"standoff\": 15}, \"zerolinecolor\": \"white\", \"zerolinewidth\": 2}, \"yaxis\": {\"automargin\": true, \"gridcolor\": \"white\", \"linecolor\": \"white\", \"ticks\": \"\", \"title\": {\"standoff\": 15}, \"zerolinecolor\": \"white\", \"zerolinewidth\": 2}}}, \"title\": {\"text\": \"Winter Gas Leak Reports (Conedison vs NYFD) (plotting 325 dots)\"}, \"xaxis\": {\"anchor\": \"y\", \"domain\": [0.0, 1.0], \"title\": {\"text\": \"Winter_ReportCount_ConEd\"}}, \"yaxis\": {\"anchor\": \"x\", \"domain\": [0.0, 1.0], \"title\": {\"text\": \"Winter_ReportCount_NYFD\"}}},\n",
       "                        {\"responsive\": true}\n",
       "                    ).then(function(){\n",
       "                            \n",
       "var gd = document.getElementById('6466feef-c71a-427c-9aad-d81d090cb428');\n",
       "var x = new MutationObserver(function (mutations, observer) {{\n",
       "        var display = window.getComputedStyle(gd).display;\n",
       "        if (!display || display === 'none') {{\n",
       "            console.log([gd, 'removed!']);\n",
       "            Plotly.purge(gd);\n",
       "            observer.disconnect();\n",
       "        }}\n",
       "}});\n",
       "\n",
       "// Listen for the removal of the full notebook cells\n",
       "var notebookContainer = gd.closest('#notebook-container');\n",
       "if (notebookContainer) {{\n",
       "    x.observe(notebookContainer, {childList: true});\n",
       "}}\n",
       "\n",
       "// Listen for the clearing of the current output cell\n",
       "var outputEl = gd.closest('.output');\n",
       "if (outputEl) {{\n",
       "    x.observe(outputEl, {childList: true});\n",
       "}}\n",
       "\n",
       "                        })\n",
       "                };\n",
       "                });\n",
       "            </script>\n",
       "        </div>"
      ]
     },
     "metadata": {},
     "output_type": "display_data"
    }
   ],
   "source": [
    "print(\"------------------------ SHOWING THE SAME SCATTER PLOT ( interactive ) ------------------------\")\n",
    "titleStr  = \"Winter Gas Leak Reports (Conedison vs NYFD) (plotting \"+str(len(seasonalDF))+\" dots)\"\n",
    "fig = px.scatter(seasonalDF, x=\"Winter_ReportCount_ConEd\", y=\"Winter_ReportCount_NYFD\", color=\"CountyName\", hover_data=['Geoid', \"CensusTract\", \"CountyName\" ])\n",
    "fig.update_layout(title=titleStr)\n",
    "fig.show() "
   ]
  },
  {
   "cell_type": "code",
   "execution_count": null,
   "metadata": {},
   "outputs": [],
   "source": []
  }
 ],
 "metadata": {
  "kernelspec": {
   "display_name": "Python 3.7.5 64-bit",
   "language": "python",
   "name": "python37564bit8e88b8f881e84216b896abc70a00718d"
  },
  "language_info": {
   "codemirror_mode": {
    "name": "ipython",
    "version": 3
   },
   "file_extension": ".py",
   "mimetype": "text/x-python",
   "name": "python",
   "nbconvert_exporter": "python",
   "pygments_lexer": "ipython3",
   "version": "3.7.5"
  }
 },
 "nbformat": 4,
 "nbformat_minor": 4
}
