{
 "cells": [
  {
   "cell_type": "code",
   "execution_count": 3,
   "metadata": {
    "scrolled": true
   },
   "outputs": [
    {
     "data": {
      "text/html": [
       "<div>\n",
       "<style scoped>\n",
       "    .dataframe tbody tr th:only-of-type {\n",
       "        vertical-align: middle;\n",
       "    }\n",
       "\n",
       "    .dataframe tbody tr th {\n",
       "        vertical-align: top;\n",
       "    }\n",
       "\n",
       "    .dataframe thead th {\n",
       "        text-align: right;\n",
       "    }\n",
       "</style>\n",
       "<table border=\"1\" class=\"dataframe\">\n",
       "  <thead>\n",
       "    <tr style=\"text-align: right;\">\n",
       "      <th></th>\n",
       "      <th>Geoid</th>\n",
       "      <th>Spring</th>\n",
       "      <th>Summer</th>\n",
       "      <th>Autumn</th>\n",
       "      <th>Winter</th>\n",
       "      <th>ALL_SEASONS</th>\n",
       "      <th>Id</th>\n",
       "      <th>Geography</th>\n",
       "      <th>Total; Estimate; Total population</th>\n",
       "      <th>Male; Estimate; Total population</th>\n",
       "      <th>...</th>\n",
       "      <th>Female; Estimate; SELECTED AGE CATEGORIES - 75 years and over</th>\n",
       "      <th>Total; Estimate; SUMMARY INDICATORS - Median age (years)</th>\n",
       "      <th>Male; Estimate; SUMMARY INDICATORS - Median age (years)</th>\n",
       "      <th>Female; Estimate; SUMMARY INDICATORS - Median age (years)</th>\n",
       "      <th>Total; Estimate; SUMMARY INDICATORS - Sex ratio (males per 100 females)</th>\n",
       "      <th>Total; Estimate; SUMMARY INDICATORS - Age dependency ratio</th>\n",
       "      <th>Total; Estimate; SUMMARY INDICATORS - Age dependency ratio - Old-age dependency ratio</th>\n",
       "      <th>Total; Estimate; SUMMARY INDICATORS - Age dependency ratio - Child dependency ratio</th>\n",
       "      <th>Total; Estimate; PERCENT IMPUTED - Sex</th>\n",
       "      <th>Total; Estimate; PERCENT IMPUTED - Age</th>\n",
       "    </tr>\n",
       "  </thead>\n",
       "  <tbody>\n",
       "    <tr>\n",
       "      <th>0</th>\n",
       "      <td>36005046201</td>\n",
       "      <td>77</td>\n",
       "      <td>97</td>\n",
       "      <td>99</td>\n",
       "      <td>77</td>\n",
       "      <td>350</td>\n",
       "      <td>1400000US36005046201</td>\n",
       "      <td>Census Tract 462.01, Bronx County, New York</td>\n",
       "      <td>25199.0</td>\n",
       "      <td>10870.0</td>\n",
       "      <td>...</td>\n",
       "      <td>13.1</td>\n",
       "      <td>46.6</td>\n",
       "      <td>42.5</td>\n",
       "      <td>49.4</td>\n",
       "      <td>75.9</td>\n",
       "      <td>66</td>\n",
       "      <td>37</td>\n",
       "      <td>29</td>\n",
       "      <td>0.0</td>\n",
       "      <td>1.5</td>\n",
       "    </tr>\n",
       "    <tr>\n",
       "      <th>1</th>\n",
       "      <td>36047091000</td>\n",
       "      <td>37</td>\n",
       "      <td>62</td>\n",
       "      <td>71</td>\n",
       "      <td>51</td>\n",
       "      <td>221</td>\n",
       "      <td>1400000US36047091000</td>\n",
       "      <td>Census Tract 910, Kings County, New York</td>\n",
       "      <td>5368.0</td>\n",
       "      <td>2256.0</td>\n",
       "      <td>...</td>\n",
       "      <td>9.8</td>\n",
       "      <td>27.4</td>\n",
       "      <td>23.1</td>\n",
       "      <td>36.8</td>\n",
       "      <td>72.5</td>\n",
       "      <td>87.8</td>\n",
       "      <td>32</td>\n",
       "      <td>55.8</td>\n",
       "      <td>0.0</td>\n",
       "      <td>1.4</td>\n",
       "    </tr>\n",
       "    <tr>\n",
       "      <th>2</th>\n",
       "      <td>36047089000</td>\n",
       "      <td>10</td>\n",
       "      <td>11</td>\n",
       "      <td>12</td>\n",
       "      <td>14</td>\n",
       "      <td>47</td>\n",
       "      <td>1400000US36047089000</td>\n",
       "      <td>Census Tract 890, Kings County, New York</td>\n",
       "      <td>6169.0</td>\n",
       "      <td>2885.0</td>\n",
       "      <td>...</td>\n",
       "      <td>9.9</td>\n",
       "      <td>40</td>\n",
       "      <td>38.2</td>\n",
       "      <td>40.7</td>\n",
       "      <td>87.9</td>\n",
       "      <td>58.6</td>\n",
       "      <td>27.3</td>\n",
       "      <td>31.3</td>\n",
       "      <td>0.0</td>\n",
       "      <td>2.0</td>\n",
       "    </tr>\n",
       "    <tr>\n",
       "      <th>3</th>\n",
       "      <td>36081043701</td>\n",
       "      <td>1</td>\n",
       "      <td>2</td>\n",
       "      <td>1</td>\n",
       "      <td>5</td>\n",
       "      <td>9</td>\n",
       "      <td>1400000US36081043701</td>\n",
       "      <td>Census Tract 437.01, Queens County, New York</td>\n",
       "      <td>3095.0</td>\n",
       "      <td>1379.0</td>\n",
       "      <td>...</td>\n",
       "      <td>8</td>\n",
       "      <td>32.8</td>\n",
       "      <td>36.3</td>\n",
       "      <td>30.9</td>\n",
       "      <td>80.4</td>\n",
       "      <td>44.2</td>\n",
       "      <td>14.3</td>\n",
       "      <td>29.9</td>\n",
       "      <td>0.4</td>\n",
       "      <td>4.3</td>\n",
       "    </tr>\n",
       "    <tr>\n",
       "      <th>4</th>\n",
       "      <td>36005022403</td>\n",
       "      <td>7</td>\n",
       "      <td>8</td>\n",
       "      <td>8</td>\n",
       "      <td>15</td>\n",
       "      <td>38</td>\n",
       "      <td>1400000US36005022403</td>\n",
       "      <td>Census Tract 224.03, Bronx County, New York</td>\n",
       "      <td>3302.0</td>\n",
       "      <td>1426.0</td>\n",
       "      <td>...</td>\n",
       "      <td>4.8</td>\n",
       "      <td>33.1</td>\n",
       "      <td>26.5</td>\n",
       "      <td>37.6</td>\n",
       "      <td>76</td>\n",
       "      <td>46</td>\n",
       "      <td>8.3</td>\n",
       "      <td>37.7</td>\n",
       "      <td>1.0</td>\n",
       "      <td>0.0</td>\n",
       "    </tr>\n",
       "    <tr>\n",
       "      <th>...</th>\n",
       "      <td>...</td>\n",
       "      <td>...</td>\n",
       "      <td>...</td>\n",
       "      <td>...</td>\n",
       "      <td>...</td>\n",
       "      <td>...</td>\n",
       "      <td>...</td>\n",
       "      <td>...</td>\n",
       "      <td>...</td>\n",
       "      <td>...</td>\n",
       "      <td>...</td>\n",
       "      <td>...</td>\n",
       "      <td>...</td>\n",
       "      <td>...</td>\n",
       "      <td>...</td>\n",
       "      <td>...</td>\n",
       "      <td>...</td>\n",
       "      <td>...</td>\n",
       "      <td>...</td>\n",
       "      <td>...</td>\n",
       "      <td>...</td>\n",
       "    </tr>\n",
       "    <tr>\n",
       "      <th>2033</th>\n",
       "      <td>36085022300</td>\n",
       "      <td>0</td>\n",
       "      <td>0</td>\n",
       "      <td>0</td>\n",
       "      <td>1</td>\n",
       "      <td>1</td>\n",
       "      <td>1400000US36085022300</td>\n",
       "      <td>Census Tract 223, Richmond County, New York</td>\n",
       "      <td>2747.0</td>\n",
       "      <td>1208.0</td>\n",
       "      <td>...</td>\n",
       "      <td>5.7</td>\n",
       "      <td>32</td>\n",
       "      <td>32.7</td>\n",
       "      <td>31.4</td>\n",
       "      <td>78.5</td>\n",
       "      <td>53.9</td>\n",
       "      <td>13.5</td>\n",
       "      <td>40.4</td>\n",
       "      <td>0.0</td>\n",
       "      <td>2.7</td>\n",
       "    </tr>\n",
       "    <tr>\n",
       "      <th>2034</th>\n",
       "      <td>36119010300</td>\n",
       "      <td>0</td>\n",
       "      <td>0</td>\n",
       "      <td>0</td>\n",
       "      <td>1</td>\n",
       "      <td>1</td>\n",
       "      <td>1400000US36119010300</td>\n",
       "      <td>Census Tract 103, Westchester County, New York</td>\n",
       "      <td>2903.0</td>\n",
       "      <td>1355.0</td>\n",
       "      <td>...</td>\n",
       "      <td>21.1</td>\n",
       "      <td>51.3</td>\n",
       "      <td>48.1</td>\n",
       "      <td>53.3</td>\n",
       "      <td>87.5</td>\n",
       "      <td>70.5</td>\n",
       "      <td>43.5</td>\n",
       "      <td>27</td>\n",
       "      <td>0.0</td>\n",
       "      <td>0.0</td>\n",
       "    </tr>\n",
       "    <tr>\n",
       "      <th>2035</th>\n",
       "      <td>36081120300</td>\n",
       "      <td>0</td>\n",
       "      <td>0</td>\n",
       "      <td>0</td>\n",
       "      <td>1</td>\n",
       "      <td>1</td>\n",
       "      <td>1400000US36081120300</td>\n",
       "      <td>Census Tract 1203, Queens County, New York</td>\n",
       "      <td>1576.0</td>\n",
       "      <td>774.0</td>\n",
       "      <td>...</td>\n",
       "      <td>8.1</td>\n",
       "      <td>42.2</td>\n",
       "      <td>38.5</td>\n",
       "      <td>43.7</td>\n",
       "      <td>96.5</td>\n",
       "      <td>67.7</td>\n",
       "      <td>36.5</td>\n",
       "      <td>31.2</td>\n",
       "      <td>0.0</td>\n",
       "      <td>1.8</td>\n",
       "    </tr>\n",
       "    <tr>\n",
       "      <th>2036</th>\n",
       "      <td>36081077300</td>\n",
       "      <td>0</td>\n",
       "      <td>0</td>\n",
       "      <td>0</td>\n",
       "      <td>1</td>\n",
       "      <td>1</td>\n",
       "      <td>1400000US36081077300</td>\n",
       "      <td>Census Tract 773, Queens County, New York</td>\n",
       "      <td>2156.0</td>\n",
       "      <td>1053.0</td>\n",
       "      <td>...</td>\n",
       "      <td>8</td>\n",
       "      <td>43.5</td>\n",
       "      <td>48</td>\n",
       "      <td>36.9</td>\n",
       "      <td>95.5</td>\n",
       "      <td>33</td>\n",
       "      <td>17.8</td>\n",
       "      <td>15.2</td>\n",
       "      <td>0.0</td>\n",
       "      <td>0.0</td>\n",
       "    </tr>\n",
       "    <tr>\n",
       "      <th>2037</th>\n",
       "      <td>36047052800</td>\n",
       "      <td>0</td>\n",
       "      <td>0</td>\n",
       "      <td>0</td>\n",
       "      <td>1</td>\n",
       "      <td>1</td>\n",
       "      <td>1400000US36047052800</td>\n",
       "      <td>Census Tract 528, Kings County, New York</td>\n",
       "      <td>1927.0</td>\n",
       "      <td>859.0</td>\n",
       "      <td>...</td>\n",
       "      <td>2.7</td>\n",
       "      <td>34.5</td>\n",
       "      <td>42.7</td>\n",
       "      <td>29</td>\n",
       "      <td>80.4</td>\n",
       "      <td>49</td>\n",
       "      <td>12.1</td>\n",
       "      <td>36.9</td>\n",
       "      <td>0.0</td>\n",
       "      <td>2.9</td>\n",
       "    </tr>\n",
       "  </tbody>\n",
       "</table>\n",
       "<p>2038 rows × 104 columns</p>\n",
       "</div>"
      ],
      "text/plain": [
       "            Geoid  Spring  Summer  Autumn  Winter  ALL_SEASONS  \\\n",
       "0     36005046201      77      97      99      77          350   \n",
       "1     36047091000      37      62      71      51          221   \n",
       "2     36047089000      10      11      12      14           47   \n",
       "3     36081043701       1       2       1       5            9   \n",
       "4     36005022403       7       8       8      15           38   \n",
       "...           ...     ...     ...     ...     ...          ...   \n",
       "2033  36085022300       0       0       0       1            1   \n",
       "2034  36119010300       0       0       0       1            1   \n",
       "2035  36081120300       0       0       0       1            1   \n",
       "2036  36081077300       0       0       0       1            1   \n",
       "2037  36047052800       0       0       0       1            1   \n",
       "\n",
       "                        Id                                       Geography  \\\n",
       "0     1400000US36005046201     Census Tract 462.01, Bronx County, New York   \n",
       "1     1400000US36047091000        Census Tract 910, Kings County, New York   \n",
       "2     1400000US36047089000        Census Tract 890, Kings County, New York   \n",
       "3     1400000US36081043701    Census Tract 437.01, Queens County, New York   \n",
       "4     1400000US36005022403     Census Tract 224.03, Bronx County, New York   \n",
       "...                    ...                                             ...   \n",
       "2033  1400000US36085022300     Census Tract 223, Richmond County, New York   \n",
       "2034  1400000US36119010300  Census Tract 103, Westchester County, New York   \n",
       "2035  1400000US36081120300      Census Tract 1203, Queens County, New York   \n",
       "2036  1400000US36081077300       Census Tract 773, Queens County, New York   \n",
       "2037  1400000US36047052800        Census Tract 528, Kings County, New York   \n",
       "\n",
       "      Total; Estimate; Total population  Male; Estimate; Total population  \\\n",
       "0                               25199.0                           10870.0   \n",
       "1                                5368.0                            2256.0   \n",
       "2                                6169.0                            2885.0   \n",
       "3                                3095.0                            1379.0   \n",
       "4                                3302.0                            1426.0   \n",
       "...                                 ...                               ...   \n",
       "2033                             2747.0                            1208.0   \n",
       "2034                             2903.0                            1355.0   \n",
       "2035                             1576.0                             774.0   \n",
       "2036                             2156.0                            1053.0   \n",
       "2037                             1927.0                             859.0   \n",
       "\n",
       "      ...  Female; Estimate; SELECTED AGE CATEGORIES - 75 years and over  \\\n",
       "0     ...                                               13.1               \n",
       "1     ...                                                9.8               \n",
       "2     ...                                                9.9               \n",
       "3     ...                                                  8               \n",
       "4     ...                                                4.8               \n",
       "...   ...                                                ...               \n",
       "2033  ...                                                5.7               \n",
       "2034  ...                                               21.1               \n",
       "2035  ...                                                8.1               \n",
       "2036  ...                                                  8               \n",
       "2037  ...                                                2.7               \n",
       "\n",
       "      Total; Estimate; SUMMARY INDICATORS - Median age (years)  \\\n",
       "0                                                  46.6          \n",
       "1                                                  27.4          \n",
       "2                                                    40          \n",
       "3                                                  32.8          \n",
       "4                                                  33.1          \n",
       "...                                                 ...          \n",
       "2033                                                 32          \n",
       "2034                                               51.3          \n",
       "2035                                               42.2          \n",
       "2036                                               43.5          \n",
       "2037                                               34.5          \n",
       "\n",
       "     Male; Estimate; SUMMARY INDICATORS - Median age (years)  \\\n",
       "0                                                  42.5        \n",
       "1                                                  23.1        \n",
       "2                                                  38.2        \n",
       "3                                                  36.3        \n",
       "4                                                  26.5        \n",
       "...                                                 ...        \n",
       "2033                                               32.7        \n",
       "2034                                               48.1        \n",
       "2035                                               38.5        \n",
       "2036                                                 48        \n",
       "2037                                               42.7        \n",
       "\n",
       "     Female; Estimate; SUMMARY INDICATORS - Median age (years)  \\\n",
       "0                                                  49.4          \n",
       "1                                                  36.8          \n",
       "2                                                  40.7          \n",
       "3                                                  30.9          \n",
       "4                                                  37.6          \n",
       "...                                                 ...          \n",
       "2033                                               31.4          \n",
       "2034                                               53.3          \n",
       "2035                                               43.7          \n",
       "2036                                               36.9          \n",
       "2037                                                 29          \n",
       "\n",
       "      Total; Estimate; SUMMARY INDICATORS - Sex ratio (males per 100 females)  \\\n",
       "0                                                  75.9                         \n",
       "1                                                  72.5                         \n",
       "2                                                  87.9                         \n",
       "3                                                  80.4                         \n",
       "4                                                    76                         \n",
       "...                                                 ...                         \n",
       "2033                                               78.5                         \n",
       "2034                                               87.5                         \n",
       "2035                                               96.5                         \n",
       "2036                                               95.5                         \n",
       "2037                                               80.4                         \n",
       "\n",
       "     Total; Estimate; SUMMARY INDICATORS - Age dependency ratio  \\\n",
       "0                                                    66           \n",
       "1                                                  87.8           \n",
       "2                                                  58.6           \n",
       "3                                                  44.2           \n",
       "4                                                    46           \n",
       "...                                                 ...           \n",
       "2033                                               53.9           \n",
       "2034                                               70.5           \n",
       "2035                                               67.7           \n",
       "2036                                                 33           \n",
       "2037                                                 49           \n",
       "\n",
       "     Total; Estimate; SUMMARY INDICATORS - Age dependency ratio - Old-age dependency ratio  \\\n",
       "0                                                    37                                      \n",
       "1                                                    32                                      \n",
       "2                                                  27.3                                      \n",
       "3                                                  14.3                                      \n",
       "4                                                   8.3                                      \n",
       "...                                                 ...                                      \n",
       "2033                                               13.5                                      \n",
       "2034                                               43.5                                      \n",
       "2035                                               36.5                                      \n",
       "2036                                               17.8                                      \n",
       "2037                                               12.1                                      \n",
       "\n",
       "      Total; Estimate; SUMMARY INDICATORS - Age dependency ratio - Child dependency ratio  \\\n",
       "0                                                    29                                     \n",
       "1                                                  55.8                                     \n",
       "2                                                  31.3                                     \n",
       "3                                                  29.9                                     \n",
       "4                                                  37.7                                     \n",
       "...                                                 ...                                     \n",
       "2033                                               40.4                                     \n",
       "2034                                                 27                                     \n",
       "2035                                               31.2                                     \n",
       "2036                                               15.2                                     \n",
       "2037                                               36.9                                     \n",
       "\n",
       "     Total; Estimate; PERCENT IMPUTED - Sex  \\\n",
       "0                                       0.0   \n",
       "1                                       0.0   \n",
       "2                                       0.0   \n",
       "3                                       0.4   \n",
       "4                                       1.0   \n",
       "...                                     ...   \n",
       "2033                                    0.0   \n",
       "2034                                    0.0   \n",
       "2035                                    0.0   \n",
       "2036                                    0.0   \n",
       "2037                                    0.0   \n",
       "\n",
       "     Total; Estimate; PERCENT IMPUTED - Age  \n",
       "0                                       1.5  \n",
       "1                                       1.4  \n",
       "2                                       2.0  \n",
       "3                                       4.3  \n",
       "4                                       0.0  \n",
       "...                                     ...  \n",
       "2033                                    2.7  \n",
       "2034                                    0.0  \n",
       "2035                                    1.8  \n",
       "2036                                    0.0  \n",
       "2037                                    2.9  \n",
       "\n",
       "[2038 rows x 104 columns]"
      ]
     },
     "execution_count": 3,
     "metadata": {},
     "output_type": "execute_result"
    }
   ],
   "source": [
    "# after building_correlation\n",
    "import plotly.express as px\n",
    "import matplotlib.pyplot as plt\n",
    "import numpy as np\n",
    "import pandas as pd\n",
    "from scipy import stats\n",
    "\n",
    "corrCSVFile = \"DataFiles/FDNY/Seasonal2017_2018_Demographics.csv\"\n",
    "corr = pd.read_csv(corrCSVFile)\n",
    "corr"
   ]
  },
  {
   "cell_type": "code",
   "execution_count": 14,
   "metadata": {},
   "outputs": [],
   "source": [
    "# Isolate the demographic column\n",
    "nonDemoCols = [\"Geoid\",\"Spring\",\"Summer\",\"Autumn\",\"Winter\",\"ALL_SEASONS\",\"Id\",\"Geography\"]\n",
    "cols = list(corr.columns)\n",
    "demoCols = []\n",
    "for col in cols:\n",
    "    if col not in nonDemoCols:\n",
    "        demoCols.append(col)\n"
   ]
  },
  {
   "cell_type": "code",
   "execution_count": 9,
   "metadata": {
    "scrolled": true
   },
   "outputs": [
    {
     "data": {
      "application/vnd.plotly.v1+json": {
       "config": {
        "plotlyServerURL": "https://plot.ly"
       },
       "data": [
        {
         "customdata": [
          [
           36005046201,
           350,
           "Census Tract 462.01, Bronx County, New York"
          ],
          [
           36047091000,
           221,
           "Census Tract 910, Kings County, New York"
          ],
          [
           36047089000,
           47,
           "Census Tract 890, Kings County, New York"
          ],
          [
           36081043701,
           9,
           "Census Tract 437.01, Queens County, New York"
          ],
          [
           36005022403,
           38,
           "Census Tract 224.03, Bronx County, New York"
          ],
          [
           36081025400,
           89,
           "Census Tract 254, Queens County, New York"
          ],
          [
           36081008600,
           3,
           "Census Tract 86, Queens County, New York"
          ],
          [
           36061017200,
           146,
           "Census Tract 172, New York County, New York"
          ],
          [
           36005006700,
           56,
           "Census Tract 67, Bronx County, New York"
          ],
          [
           36061023600,
           70,
           "Census Tract 236, New York County, New York"
          ],
          [
           36047006600,
           32,
           "Census Tract 66, Kings County, New York"
          ],
          [
           36061009800,
           78,
           "Census Tract 98, New York County, New York"
          ],
          [
           36047057200,
           69,
           "Census Tract 572, Kings County, New York"
          ],
          [
           36047023100,
           21,
           "Census Tract 231, Kings County, New York"
          ],
          [
           36047028300,
           92,
           "Census Tract 283, Kings County, New York"
          ],
          [
           36061007000,
           19,
           "Census Tract 70, New York County, New York"
          ],
          [
           36085007000,
           6,
           "Census Tract 70, Richmond County, New York"
          ],
          [
           36005012901,
           83,
           "Census Tract 129.01, Bronx County, New York"
          ],
          [
           36047044900,
           25,
           "Census Tract 449, Kings County, New York"
          ],
          [
           36081100802,
           19,
           "Census Tract 1008.02, Queens County, New York"
          ],
          [
           36047032500,
           38,
           "Census Tract 325, Kings County, New York"
          ],
          [
           36085008100,
           41,
           "Census Tract 81, Richmond County, New York"
          ],
          [
           36005043500,
           50,
           "Census Tract 435, Bronx County, New York"
          ],
          [
           36081034700,
           15,
           "Census Tract 347, Queens County, New York"
          ],
          [
           36047015900,
           27,
           "Census Tract 159, Kings County, New York"
          ],
          [
           36005005100,
           188,
           "Census Tract 51, Bronx County, New York"
          ],
          [
           36047031300,
           1239,
           "Census Tract 313, Kings County, New York"
          ],
          [
           36005023800,
           572,
           "Census Tract 238, Bronx County, New York"
          ],
          [
           36005022200,
           40,
           "Census Tract 222, Bronx County, New York"
          ],
          [
           36047114400,
           20,
           "Census Tract 1144, Kings County, New York"
          ],
          [
           36005005400,
           47,
           "Census Tract 54, Bronx County, New York"
          ],
          [
           36061016200,
           174,
           "Census Tract 162, New York County, New York"
          ],
          [
           36061012900,
           79,
           "Census Tract 129, New York County, New York"
          ],
          [
           36047105804,
           18,
           "Census Tract 1058.04, Kings County, New York"
          ],
          [
           36005043600,
           20,
           "Census Tract 436, Bronx County, New York"
          ],
          [
           36005039600,
           24,
           "Census Tract 396, Bronx County, New York"
          ],
          [
           36005036300,
           62,
           "Census Tract 363, Bronx County, New York"
          ],
          [
           36005002000,
           85,
           "Census Tract 20, Bronx County, New York"
          ],
          [
           36005045800,
           65,
           "Census Tract 458, Bronx County, New York"
          ],
          [
           36047047700,
           26,
           "Census Tract 477, Kings County, New York"
          ],
          [
           36047019000,
           11,
           "Census Tract 190, Kings County, New York"
          ],
          [
           36081036600,
           14,
           "Census Tract 366, Queens County, New York"
          ],
          [
           36005008300,
           31,
           "Census Tract 83, Bronx County, New York"
          ],
          [
           36085027702,
           25,
           "Census Tract 277.02, Richmond County, New York"
          ],
          [
           36047013700,
           17,
           "Census Tract 137, Kings County, New York"
          ],
          [
           36047092400,
           61,
           "Census Tract 924, Kings County, New York"
          ],
          [
           36047096600,
           21,
           "Census Tract 966, Kings County, New York"
          ],
          [
           36061007200,
           66,
           "Census Tract 72, New York County, New York"
          ],
          [
           36061008300,
           53,
           "Census Tract 83, New York County, New York"
          ],
          [
           36061017000,
           131,
           "Census Tract 170, New York County, New York"
          ],
          [
           36005005001,
           53,
           "Census Tract 50.01, Bronx County, New York"
          ],
          [
           36005004400,
           58,
           "Census Tract 44, Bronx County, New York"
          ],
          [
           36081122702,
           20,
           "Census Tract 1227.02, Queens County, New York"
          ],
          [
           36061021303,
           28,
           "Census Tract 213.03, New York County, New York"
          ],
          [
           36081124700,
           1659,
           "Census Tract 1247, Queens County, New York"
          ],
          [
           36061024100,
           76,
           "Census Tract 241, New York County, New York"
          ],
          [
           36047049500,
           19,
           "Census Tract 495, Kings County, New York"
          ],
          [
           36081056800,
           20,
           "Census Tract 568, Queens County, New York"
          ],
          [
           36061016900,
           508,
           "Census Tract 169, New York County, New York"
          ],
          [
           36005000200,
           31,
           "Census Tract 2, Bronx County, New York"
          ],
          [
           36047003300,
           13,
           "Census Tract 33, Kings County, New York"
          ],
          [
           36081006501,
           28,
           "Census Tract 65.01, Queens County, New York"
          ],
          [
           36081018102,
           23,
           "Census Tract 181.02, Queens County, New York"
          ],
          [
           36047016600,
           5,
           "Census Tract 166, Kings County, New York"
          ],
          [
           36047052700,
           29,
           "Census Tract 527, Kings County, New York"
          ],
          [
           36005015100,
           41,
           "Census Tract 151, Bronx County, New York"
          ],
          [
           36005039902,
           31,
           "Census Tract 399.02, Bronx County, New York"
          ],
          [
           36081084000,
           11,
           "Census Tract 840, Queens County, New York"
          ],
          [
           36047007800,
           26,
           "Census Tract 78, Kings County, New York"
          ],
          [
           36085027900,
           582,
           "Census Tract 279, Richmond County, New York"
          ],
          [
           36081006900,
           20,
           "Census Tract 69, Queens County, New York"
          ],
          [
           36005018900,
           63,
           "Census Tract 189, Bronx County, New York"
          ],
          [
           36005007800,
           18,
           "Census Tract 78, Bronx County, New York"
          ],
          [
           36005024502,
           24,
           "Census Tract 245.02, Bronx County, New York"
          ],
          [
           36047033100,
           20,
           "Census Tract 331, Kings County, New York"
          ],
          [
           36005001900,
           52,
           "Census Tract 19, Bronx County, New York"
          ],
          [
           36005021502,
           58,
           "Census Tract 215.02, Bronx County, New York"
          ],
          [
           36081087100,
           30,
           "Census Tract 871, Queens County, New York"
          ],
          [
           36061018600,
           98,
           "Census Tract 186, New York County, New York"
          ],
          [
           36061016800,
           63,
           "Census Tract 168, New York County, New York"
          ],
          [
           36085015601,
           24,
           "Census Tract 156.01, Richmond County, New York"
          ],
          [
           36081085700,
           10,
           "Census Tract 857, Queens County, New York"
          ],
          [
           36005022404,
           24,
           "Census Tract 224.04, Bronx County, New York"
          ],
          [
           36005030200,
           203,
           "Census Tract 302, Bronx County, New York"
          ],
          [
           36047038200,
           44,
           "Census Tract 382, Kings County, New York"
          ],
          [
           36047120000,
           15,
           "Census Tract 1200, Kings County, New York"
          ],
          [
           36047053500,
           34,
           "Census Tract 535, Kings County, New York"
          ],
          [
           36047052300,
           33,
           "Census Tract 523, Kings County, New York"
          ],
          [
           36047029700,
           16,
           "Census Tract 297, Kings County, New York"
          ],
          [
           36081027100,
           19,
           "Census Tract 271, Queens County, New York"
          ],
          [
           36061013200,
           49,
           "Census Tract 132, New York County, New York"
          ],
          [
           36005003900,
           118,
           "Census Tract 39, Bronx County, New York"
          ],
          [
           36047018100,
           46,
           "Census Tract 181, Kings County, New York"
          ],
          [
           36047088600,
           21,
           "Census Tract 886, Kings County, New York"
          ],
          [
           36061022200,
           42,
           "Census Tract 222, New York County, New York"
          ],
          [
           36061018800,
           74,
           "Census Tract 188, New York County, New York"
          ],
          [
           36061021100,
           182,
           "Census Tract 211, New York County, New York"
          ],
          [
           36081080900,
           54,
           "Census Tract 809, Queens County, New York"
          ],
          [
           36005037200,
           33,
           "Census Tract 372, Bronx County, New York"
          ],
          [
           36085004000,
           47,
           "Census Tract 40, Richmond County, New York"
          ],
          [
           36047051800,
           14,
           "Census Tract 518, Kings County, New York"
          ],
          [
           36061002601,
           86,
           "Census Tract 26.01, New York County, New York"
          ],
          [
           36047036300,
           81,
           "Census Tract 363, Kings County, New York"
          ],
          [
           36081046900,
           10,
           "Census Tract 469, Queens County, New York"
          ],
          [
           36061020901,
           70,
           "Census Tract 209.01, New York County, New York"
          ],
          [
           36047038300,
           112,
           "Census Tract 383, Kings County, New York"
          ],
          [
           36081004500,
           38,
           "Census Tract 45, Queens County, New York"
          ],
          [
           36005024000,
           24,
           "Census Tract 240, Bronx County, New York"
          ],
          [
           36061017500,
           77,
           "Census Tract 175, New York County, New York"
          ],
          [
           36061028700,
           32,
           "Census Tract 287, New York County, New York"
          ],
          [
           36005039000,
           23,
           "Census Tract 390, Bronx County, New York"
          ],
          [
           36061024900,
           21,
           "Census Tract 249, New York County, New York"
          ],
          [
           36081136700,
           20,
           "Census Tract 1367, Queens County, New York"
          ],
          [
           36005044400,
           23,
           "Census Tract 444, Bronx County, New York"
          ],
          [
           36061016700,
           51,
           "Census Tract 167, New York County, New York"
          ],
          [
           36061003300,
           44,
           "Census Tract 33, New York County, New York"
          ],
          [
           36061004100,
           59,
           "Census Tract 41, New York County, New York"
          ],
          [
           36047054500,
           34,
           "Census Tract 545, Kings County, New York"
          ],
          [
           36047034200,
           94,
           "Census Tract 342, Kings County, New York"
          ],
          [
           36005032800,
           36,
           "Census Tract 328, Bronx County, New York"
          ],
          [
           36061002500,
           19,
           "Census Tract 25, New York County, New York"
          ],
          [
           36047025100,
           85,
           "Census Tract 251, Kings County, New York"
          ],
          [
           36061005502,
           36,
           "Census Tract 55.02, New York County, New York"
          ],
          [
           36047035200,
           17,
           "Census Tract 352, Kings County, New York"
          ],
          [
           36061012700,
           57,
           "Census Tract 127, New York County, New York"
          ],
          [
           36061015200,
           43,
           "Census Tract 152, New York County, New York"
          ],
          [
           36047054900,
           19,
           "Census Tract 549, Kings County, New York"
          ],
          [
           36061004300,
           97,
           "Census Tract 43, New York County, New York"
          ],
          [
           36061008900,
           64,
           "Census Tract 89, New York County, New York"
          ],
          [
           36005002500,
           55,
           "Census Tract 25, Bronx County, New York"
          ],
          [
           36061007100,
           78,
           "Census Tract 71, New York County, New York"
          ],
          [
           36085014608,
           7,
           "Census Tract 146.08, Richmond County, New York"
          ],
          [
           36061014801,
           20,
           "Census Tract 148.01, New York County, New York"
          ],
          [
           36081094202,
           97,
           "Census Tract 942.02, Queens County, New York"
          ],
          [
           36061023400,
           87,
           "Census Tract 234, New York County, New York"
          ],
          [
           36047005300,
           68,
           "Census Tract 53, Kings County, New York"
          ],
          [
           36047030700,
           109,
           "Census Tract 307, Kings County, New York"
          ],
          [
           36061030300,
           41,
           "Census Tract 303, New York County, New York"
          ],
          [
           36061016100,
           54,
           "Census Tract 161, New York County, New York"
          ],
          [
           36061012400,
           30,
           "Census Tract 124, New York County, New York"
          ],
          [
           36061004700,
           34,
           "Census Tract 47, New York County, New York"
          ],
          [
           36081096400,
           49,
           "Census Tract 964, Queens County, New York"
          ],
          [
           36047090000,
           55,
           "Census Tract 900, Kings County, New York"
          ],
          [
           36061020300,
           7,
           "Census Tract 203, New York County, New York"
          ],
          [
           36061002800,
           74,
           "Census Tract 28, New York County, New York"
          ],
          [
           36047122000,
           75,
           "Census Tract 1220, Kings County, New York"
          ],
          [
           36005017500,
           76,
           "Census Tract 175, Bronx County, New York"
          ],
          [
           36047042700,
           12,
           "Census Tract 427, Kings County, New York"
          ],
          [
           36061030900,
           129,
           "Census Tract 309, New York County, New York"
          ],
          [
           36061014601,
           22,
           "Census Tract 146.01, New York County, New York"
          ],
          [
           36047032700,
           43,
           "Census Tract 327, Kings County, New York"
          ],
          [
           36005008900,
           10,
           "Census Tract 89, Bronx County, New York"
          ],
          [
           36061021400,
           56,
           "Census Tract 214, New York County, New York"
          ],
          [
           36005020601,
           31,
           "Census Tract 206.01, Bronx County, New York"
          ],
          [
           36085016901,
           8,
           "Census Tract 169.01, Richmond County, New York"
          ],
          [
           36061017800,
           29,
           "Census Tract 178, New York County, New York"
          ],
          [
           36061018100,
           32,
           "Census Tract 181, New York County, New York"
          ],
          [
           36005018500,
           60,
           "Census Tract 185, Bronx County, New York"
          ],
          [
           36081017400,
           9,
           "Census Tract 174, Queens County, New York"
          ],
          [
           36005046202,
           61,
           "Census Tract 462.02, Bronx County, New York"
          ],
          [
           36005048400,
           19,
           "Census Tract 484, Bronx County, New York"
          ],
          [
           36047049100,
           72,
           "Census Tract 491, Kings County, New York"
          ],
          [
           36081047100,
           10,
           "Census Tract 471, Queens County, New York"
          ],
          [
           36047056400,
           7,
           "Census Tract 564, Kings County, New York"
          ],
          [
           36061028100,
           8,
           "Census Tract 281, New York County, New York"
          ],
          [
           36047049700,
           21,
           "Census Tract 497, Kings County, New York"
          ],
          [
           36061024200,
           102,
           "Census Tract 242, New York County, New York"
          ],
          [
           36081079701,
           9,
           "Census Tract 797.01, Queens County, New York"
          ],
          [
           36061005000,
           50,
           "Census Tract 50, New York County, New York"
          ],
          [
           36005015300,
           38,
           "Census Tract 153, Bronx County, New York"
          ],
          [
           36005038700,
           30,
           "Census Tract 387, Bronx County, New York"
          ],
          [
           36061003001,
           108,
           "Census Tract 30.01, New York County, New York"
          ],
          [
           36061013600,
           83,
           "Census Tract 136, New York County, New York"
          ],
          [
           36005038900,
           31,
           "Census Tract 389, Bronx County, New York"
          ],
          [
           36061019400,
           125,
           "Census Tract 194, New York County, New York"
          ],
          [
           36061000202,
           120,
           "Census Tract 2.02, New York County, New York"
          ],
          [
           36061014300,
           130,
           "Census Tract 143, New York County, New York"
          ],
          [
           36005042100,
           39,
           "Census Tract 421, Bronx County, New York"
          ],
          [
           36047080800,
           10,
           "Census Tract 808, Kings County, New York"
          ],
          [
           36047051300,
           46,
           "Census Tract 513, Kings County, New York"
          ],
          [
           36005021100,
           28,
           "Census Tract 211, Bronx County, New York"
          ],
          [
           36081094203,
           18,
           "Census Tract 942.03, Queens County, New York"
          ],
          [
           36061013800,
           48,
           "Census Tract 138, New York County, New York"
          ],
          [
           36061012200,
           27,
           "Census Tract 122, New York County, New York"
          ],
          [
           36047098200,
           82,
           "Census Tract 982, Kings County, New York"
          ],
          [
           36005015900,
           12,
           "Census Tract 159, Bronx County, New York"
          ],
          [
           36047110400,
           130,
           "Census Tract 1104, Kings County, New York"
          ],
          [
           36047024300,
           36,
           "Census Tract 243, Kings County, New York"
          ],
          [
           36047007000,
           5,
           "Census Tract 70, Kings County, New York"
          ],
          [
           36085019800,
           16,
           "Census Tract 198, Richmond County, New York"
          ],
          [
           36005023301,
           48,
           "Census Tract 233.01, Bronx County, New York"
          ],
          [
           36005029600,
           21,
           "Census Tract 296, Bronx County, New York"
          ],
          [
           36047015700,
           17,
           "Census Tract 157, Kings County, New York"
          ],
          [
           36061022600,
           58,
           "Census Tract 226, New York County, New York"
          ],
          [
           36061000800,
           71,
           "Census Tract 8, New York County, New York"
          ],
          [
           36061020000,
           43,
           "Census Tract 200, New York County, New York"
          ],
          [
           36047005400,
           10,
           "Census Tract 54, Kings County, New York"
          ],
          [
           36047059402,
           32,
           "Census Tract 594.02, Kings County, New York"
          ],
          [
           36047090800,
           93,
           "Census Tract 908, Kings County, New York"
          ],
          [
           36081051600,
           3,
           "Census Tract 516, Queens County, New York"
          ],
          [
           36005033000,
           59,
           "Census Tract 330, Bronx County, New York"
          ],
          [
           36081071303,
           9,
           "Census Tract 713.03, Queens County, New York"
          ],
          [
           36081013400,
           19,
           "Census Tract 134, Queens County, New York"
          ],
          [
           36061018900,
           174,
           "Census Tract 189, New York County, New York"
          ],
          [
           36047023500,
           21,
           "Census Tract 235, Kings County, New York"
          ],
          [
           36005021302,
           21,
           "Census Tract 213.02, Bronx County, New York"
          ],
          [
           36005006200,
           58,
           "Census Tract 62, Bronx County, New York"
          ],
          [
           36081025301,
           31,
           "Census Tract 253.01, Queens County, New York"
          ],
          [
           36061013100,
           50,
           "Census Tract 131, New York County, New York"
          ],
          [
           36085020803,
           26,
           "Census Tract 208.03, Richmond County, New York"
          ],
          [
           36047021500,
           22,
           "Census Tract 215, Kings County, New York"
          ],
          [
           36081008700,
           83,
           "Census Tract 87, Queens County, New York"
          ],
          [
           36005022401,
           7,
           "Census Tract 224.01, Bronx County, New York"
          ],
          [
           36047110600,
           69,
           "Census Tract 1106, Kings County, New York"
          ],
          [
           36047113000,
           6,
           "Census Tract 1130, Kings County, New York"
          ],
          [
           36081081800,
           4,
           "Census Tract 818, Queens County, New York"
          ],
          [
           36005004300,
           77,
           "Census Tract 43, Bronx County, New York"
          ],
          [
           36047002901,
           49,
           "Census Tract 29.01, Kings County, New York"
          ],
          [
           36061022500,
           56,
           "Census Tract 225, New York County, New York"
          ],
          [
           36047044500,
           20,
           "Census Tract 445, Kings County, New York"
          ],
          [
           36005014300,
           34,
           "Census Tract 143, Bronx County, New York"
          ],
          [
           36081012500,
           47,
           "Census Tract 125, Queens County, New York"
          ],
          [
           36061014500,
           31,
           "Census Tract 145, New York County, New York"
          ],
          [
           36047118800,
           8,
           "Census Tract 1188, Kings County, New York"
          ],
          [
           36005033600,
           68,
           "Census Tract 336, Bronx County, New York"
          ],
          [
           36047032800,
           34,
           "Census Tract 328, Kings County, New York"
          ],
          [
           36061008100,
           118,
           "Census Tract 81, New York County, New York"
          ],
          [
           36005007900,
           55,
           "Census Tract 79, Bronx County, New York"
          ],
          [
           36081138501,
           10,
           "Census Tract 1385.01, Queens County, New York"
          ],
          [
           36081007900,
           32,
           "Census Tract 79, Queens County, New York"
          ],
          [
           36047109800,
           17,
           "Census Tract 1098, Kings County, New York"
          ],
          [
           36061027300,
           72,
           "Census Tract 273, New York County, New York"
          ],
          [
           36081025800,
           15,
           "Census Tract 258, Queens County, New York"
          ],
          [
           36005002701,
           35,
           "Census Tract 27.01, Bronx County, New York"
          ],
          [
           36005006900,
           75,
           "Census Tract 69, Bronx County, New York"
          ],
          [
           36085006700,
           20,
           "Census Tract 67, Richmond County, New York"
          ],
          [
           36081018300,
           44,
           "Census Tract 183, Queens County, New York"
          ],
          [
           36047121400,
           69,
           "Census Tract 1214, Kings County, New York"
          ],
          [
           34017007600,
           10,
           null
          ],
          [
           36005034800,
           68,
           "Census Tract 348, Bronx County, New York"
          ],
          [
           36085027705,
           11,
           "Census Tract 277.05, Richmond County, New York"
          ],
          [
           36081103201,
           51,
           "Census Tract 1032.01, Queens County, New York"
          ],
          [
           36047036600,
           16,
           "Census Tract 366, Kings County, New York"
          ],
          [
           36047049800,
           9,
           "Census Tract 498, Kings County, New York"
          ],
          [
           36047043100,
           45,
           "Census Tract 431, Kings County, New York"
          ],
          [
           36061021800,
           38,
           "Census Tract 218, New York County, New York"
          ],
          [
           36047029600,
           14,
           "Census Tract 296, Kings County, New York"
          ],
          [
           36047111800,
           66,
           "Census Tract 1118, Kings County, New York"
          ],
          [
           36047050803,
           51,
           "Census Tract 508.03, Kings County, New York"
          ],
          [
           36061006600,
           67,
           "Census Tract 66, New York County, New York"
          ],
          [
           36047101400,
           22,
           "Census Tract 1014, Kings County, New York"
          ],
          [
           36047118400,
           14,
           "Census Tract 1184, Kings County, New York"
          ],
          [
           36061013400,
           73,
           "Census Tract 134, New York County, New York"
          ],
          [
           36047053100,
           2,
           "Census Tract 531, Kings County, New York"
          ],
          [
           36081025900,
           8,
           "Census Tract 259, Queens County, New York"
          ],
          [
           36005019300,
           73,
           "Census Tract 193, Bronx County, New York"
          ],
          [
           36061024500,
           159,
           "Census Tract 245, New York County, New York"
          ],
          [
           36085006400,
           28,
           "Census Tract 64, Richmond County, New York"
          ],
          [
           36005022500,
           62,
           "Census Tract 225, Bronx County, New York"
          ],
          [
           36061014402,
           48,
           "Census Tract 144.02, New York County, New York"
          ],
          [
           36005029302,
           30,
           "Census Tract 293.02, Bronx County, New York"
          ],
          [
           36061007400,
           69,
           "Census Tract 74, New York County, New York"
          ],
          [
           36081099704,
           18,
           "Census Tract 997.04, Queens County, New York"
          ],
          [
           36081059100,
           18,
           "Census Tract 591, Queens County, New York"
          ],
          [
           36005021002,
           25,
           "Census Tract 210.02, Bronx County, New York"
          ],
          [
           36061020600,
           42,
           "Census Tract 206, New York County, New York"
          ],
          [
           36061008700,
           55,
           "Census Tract 87, New York County, New York"
          ],
          [
           36081012301,
           29,
           "Census Tract 123.01, Queens County, New York"
          ],
          [
           36085007700,
           20,
           "Census Tract 77, Richmond County, New York"
          ],
          [
           36061006400,
           34,
           "Census Tract 64, New York County, New York"
          ],
          [
           36005016100,
           44,
           "Census Tract 161, Bronx County, New York"
          ],
          [
           36005017702,
           33,
           "Census Tract 177.02, Bronx County, New York"
          ],
          [
           36047026700,
           29,
           "Census Tract 267, Kings County, New York"
          ],
          [
           36047025700,
           58,
           "Census Tract 257, Kings County, New York"
          ],
          [
           36005022901,
           25,
           "Census Tract 229.01, Bronx County, New York"
          ],
          [
           36005014400,
           57,
           "Census Tract 144, Bronx County, New York"
          ],
          [
           36061001501,
           42,
           "Census Tract 15.01, New York County, New York"
          ],
          [
           36085002900,
           41,
           "Census Tract 29, Richmond County, New York"
          ],
          [
           36081092900,
           41,
           "Census Tract 929, Queens County, New York"
          ],
          [
           36047082000,
           30,
           "Census Tract 820, Kings County, New York"
          ],
          [
           36061016002,
           8,
           "Census Tract 160.02, New York County, New York"
          ],
          [
           36005022702,
           6,
           "Census Tract 227.02, Bronx County, New York"
          ],
          [
           36005014500,
           94,
           "Census Tract 145, Bronx County, New York"
          ],
          [
           36061004000,
           65,
           "Census Tract 40, New York County, New York"
          ],
          [
           36081092500,
           26,
           "Census Tract 925, Queens County, New York"
          ],
          [
           36047082200,
           78,
           "Census Tract 822, Kings County, New York"
          ],
          [
           36047120800,
           76,
           "Census Tract 1208, Kings County, New York"
          ],
          [
           36005040701,
           22,
           "Census Tract 407.01, Bronx County, New York"
          ],
          [
           36005038000,
           32,
           "Census Tract 380, Bronx County, New York"
          ],
          [
           36005041900,
           42,
           "Census Tract 419, Bronx County, New York"
          ],
          [
           36047040900,
           24,
           "Census Tract 409, Kings County, New York"
          ],
          [
           36047049300,
           90,
           "Census Tract 493, Kings County, New York"
          ],
          [
           36047048100,
           13,
           "Census Tract 481, Kings County, New York"
          ],
          [
           36061012000,
           24,
           "Census Tract 120, New York County, New York"
          ],
          [
           36081097202,
           18,
           "Census Tract 972.02, Queens County, New York"
          ],
          [
           36005017701,
           44,
           "Census Tract 177.01, Bronx County, New York"
          ],
          [
           36061017300,
           61,
           "Census Tract 173, New York County, New York"
          ],
          [
           36081113300,
           16,
           "Census Tract 1133, Queens County, New York"
          ],
          [
           36047023400,
           20,
           "Census Tract 234, Kings County, New York"
          ],
          [
           36061000600,
           108,
           "Census Tract 6, New York County, New York"
          ],
          [
           36047038100,
           48,
           "Census Tract 381, Kings County, New York"
          ],
          [
           36081069000,
           17,
           "Census Tract 690, Queens County, New York"
          ],
          [
           36047057800,
           8,
           "Census Tract 578, Kings County, New York"
          ],
          [
           36061015100,
           89,
           "Census Tract 151, New York County, New York"
          ],
          [
           36047039400,
           10,
           "Census Tract 394, Kings County, New York"
          ],
          [
           36081043200,
           2,
           "Census Tract 432, Queens County, New York"
          ],
          [
           36005005200,
           25,
           "Census Tract 52, Bronx County, New York"
          ],
          [
           36061019200,
           37,
           "Census Tract 192, New York County, New York"
          ],
          [
           36047040500,
           13,
           "Census Tract 405, Kings County, New York"
          ],
          [
           36061009200,
           36,
           "Census Tract 92, New York County, New York"
          ],
          [
           36047009400,
           17,
           "Census Tract 94, Kings County, New York"
          ],
          [
           36005021601,
           50,
           "Census Tract 216.01, Bronx County, New York"
          ],
          [
           36047031900,
           48,
           "Census Tract 319, Kings County, New York"
          ],
          [
           36081103900,
           25,
           "Census Tract 1039, Queens County, New York"
          ],
          [
           36047033700,
           34,
           "Census Tract 337, Kings County, New York"
          ],
          [
           36005008600,
           19,
           "Census Tract 86, Bronx County, New York"
          ],
          [
           36047013300,
           12,
           "Census Tract 133, Kings County, New York"
          ],
          [
           36047088200,
           48,
           "Census Tract 882, Kings County, New York"
          ],
          [
           36005039200,
           18,
           "Census Tract 392, Bronx County, New York"
          ],
          [
           36081018900,
           14,
           "Census Tract 189, Queens County, New York"
          ],
          [
           36005013300,
           80,
           "Census Tract 133, Bronx County, New York"
          ],
          [
           36081014100,
           25,
           "Census Tract 141, Queens County, New York"
          ],
          [
           36081074500,
           8,
           "Census Tract 745, Queens County, New York"
          ],
          [
           36061014000,
           54,
           "Census Tract 140, New York County, New York"
          ],
          [
           36061004900,
           122,
           "Census Tract 49, New York County, New York"
          ],
          [
           36061007700,
           56,
           "Census Tract 77, New York County, New York"
          ],
          [
           36047035900,
           56,
           "Census Tract 359, Kings County, New York"
          ],
          [
           36047045200,
           10,
           "Census Tract 452, Kings County, New York"
          ],
          [
           36005015200,
           50,
           "Census Tract 152, Bronx County, New York"
          ],
          [
           36081077905,
           11,
           "Census Tract 779.05, Queens County, New York"
          ],
          [
           36047051400,
           38,
           "Census Tract 514, Kings County, New York"
          ],
          [
           36005034000,
           24,
           "Census Tract 340, Bronx County, New York"
          ],
          [
           36005034300,
           26,
           "Census Tract 343, Bronx County, New York"
          ],
          [
           36061023200,
           132,
           "Census Tract 232, New York County, New York"
          ],
          [
           36047079601,
           40,
           "Census Tract 796.01, Kings County, New York"
          ],
          [
           36081016300,
           46,
           "Census Tract 163, Queens County, New York"
          ],
          [
           36047115600,
           51,
           "Census Tract 1156, Kings County, New York"
          ],
          [
           36005038600,
           29,
           "Census Tract 386, Bronx County, New York"
          ],
          [
           36081006300,
           40,
           "Census Tract 63, Queens County, New York"
          ],
          [
           36081029500,
           43,
           "Census Tract 295, Queens County, New York"
          ],
          [
           36047032600,
           77,
           "Census Tract 326, Kings County, New York"
          ],
          [
           36061010900,
           19,
           "Census Tract 109, New York County, New York"
          ],
          [
           36061003200,
           122,
           "Census Tract 32, New York County, New York"
          ],
          [
           36081014900,
           8,
           "Census Tract 149, Queens County, New York"
          ],
          [
           36081014700,
           12,
           "Census Tract 147, Queens County, New York"
          ],
          [
           36061023502,
           31,
           "Census Tract 235.02, New York County, New York"
          ],
          [
           36047059600,
           11,
           "Census Tract 596, Kings County, New York"
          ],
          [
           36005028500,
           22,
           "Census Tract 285, Bronx County, New York"
          ],
          [
           36061014602,
           72,
           "Census Tract 146.02, New York County, New York"
          ],
          [
           36005038500,
           39,
           "Census Tract 385, Bronx County, New York"
          ],
          [
           36061017401,
           70,
           "Census Tract 174.01, New York County, New York"
          ],
          [
           36005019500,
           57,
           "Census Tract 195, Bronx County, New York"
          ],
          [
           36061003002,
           56,
           "Census Tract 30.02, New York County, New York"
          ],
          [
           36047080200,
           23,
           "Census Tract 802, Kings County, New York"
          ],
          [
           36061023900,
           35,
           "Census Tract 239, New York County, New York"
          ],
          [
           36047042500,
           24,
           "Census Tract 425, Kings County, New York"
          ],
          [
           36047098800,
           12,
           "Census Tract 988, Kings County, New York"
          ],
          [
           36005006000,
           18,
           "Census Tract 60, Bronx County, New York"
          ],
          [
           36005040702,
           25,
           "Census Tract 407.02, Bronx County, New York"
          ],
          [
           36005028300,
           34,
           "Census Tract 283, Bronx County, New York"
          ],
          [
           36047055500,
           19,
           "Census Tract 555, Kings County, New York"
          ],
          [
           36047021300,
           19,
           "Census Tract 213, Kings County, New York"
          ],
          [
           36081071306,
           14,
           "Census Tract 713.06, Queens County, New York"
          ],
          [
           36085017700,
           23,
           "Census Tract 177, Richmond County, New York"
          ],
          [
           36047051200,
           42,
           "Census Tract 512, Kings County, New York"
          ],
          [
           36005009000,
           118,
           "Census Tract 90, Bronx County, New York"
          ],
          [
           36081077904,
           37,
           "Census Tract 779.04, Queens County, New York"
          ],
          [
           36081015100,
           19,
           "Census Tract 151, Queens County, New York"
          ],
          [
           36047042100,
           20,
           "Census Tract 421, Kings County, New York"
          ],
          [
           36061013700,
           76,
           "Census Tract 137, New York County, New York"
          ],
          [
           36061026500,
           41,
           "Census Tract 265, New York County, New York"
          ],
          [
           36047075600,
           9,
           "Census Tract 756, Kings County, New York"
          ],
          [
           36047059100,
           9,
           "Census Tract 591, Kings County, New York"
          ],
          [
           36061001002,
           32,
           "Census Tract 10.02, New York County, New York"
          ],
          [
           36005039400,
           36,
           "Census Tract 394, Bronx County, New York"
          ],
          [
           36005016700,
           42,
           "Census Tract 167, Bronx County, New York"
          ],
          [
           36061018700,
           52,
           "Census Tract 187, New York County, New York"
          ],
          [
           36005015700,
           35,
           "Census Tract 157, Bronx County, New York"
          ],
          [
           36047005601,
           10,
           "Census Tract 56.01, Kings County, New York"
          ],
          [
           36047014100,
           23,
           "Census Tract 141, Kings County, New York"
          ],
          [
           36047080600,
           54,
           "Census Tract 806, Kings County, New York"
          ],
          [
           36005026702,
           23,
           "Census Tract 267.02, Bronx County, New York"
          ],
          [
           36005025500,
           31,
           "Census Tract 255, Bronx County, New York"
          ],
          [
           36005036901,
           14,
           "Census Tract 369.01, Bronx County, New York"
          ],
          [
           36047030500,
           24,
           "Census Tract 305, Kings County, New York"
          ],
          [
           36005042600,
           43,
           "Census Tract 426, Bronx County, New York"
          ],
          [
           36061003400,
           139,
           "Census Tract 34, New York County, New York"
          ],
          [
           36081002500,
           125,
           "Census Tract 25, Queens County, New York"
          ],
          [
           36005043000,
           12,
           "Census Tract 430, Bronx County, New York"
          ],
          [
           36047092000,
           5,
           "Census Tract 920, Kings County, New York"
          ],
          [
           36005004100,
           30,
           "Census Tract 41, Bronx County, New York"
          ],
          [
           36081043900,
           9,
           "Census Tract 439, Queens County, New York"
          ],
          [
           36047017800,
           4,
           "Census Tract 178, Kings County, New York"
          ],
          [
           36047021900,
           34,
           "Census Tract 219, Kings County, New York"
          ],
          [
           36005005902,
           72,
           "Census Tract 59.02, Bronx County, New York"
          ],
          [
           36081115700,
           3,
           "Census Tract 1157, Queens County, New York"
          ],
          [
           36061007300,
           84,
           "Census Tract 73, New York County, New York"
          ],
          [
           36005043100,
           32,
           "Census Tract 431, Bronx County, New York"
          ],
          [
           36047028700,
           59,
           "Census Tract 287, Kings County, New York"
          ],
          [
           36061011100,
           39,
           "Census Tract 111, New York County, New York"
          ],
          [
           36047096400,
           7,
           "Census Tract 964, Kings County, New York"
          ],
          [
           36005001600,
           15,
           "Census Tract 16, Bronx County, New York"
          ],
          [
           36005038301,
           37,
           "Census Tract 383.01, Bronx County, New York"
          ],
          [
           36081091601,
           46,
           "Census Tract 916.01, Queens County, New York"
          ],
          [
           36061022800,
           38,
           "Census Tract 228, New York County, New York"
          ],
          [
           36005026100,
           4,
           "Census Tract 261, Bronx County, New York"
          ],
          [
           36005019900,
           35,
           "Census Tract 199, Bronx County, New York"
          ],
          [
           36005040100,
           23,
           "Census Tract 401, Bronx County, New York"
          ],
          [
           36047048200,
           15,
           "Census Tract 482, Kings County, New York"
          ],
          [
           36047123700,
           59,
           "Census Tract 1237, Kings County, New York"
          ],
          [
           36081133300,
           26,
           "Census Tract 1333, Queens County, New York"
          ],
          [
           36005005300,
           33,
           "Census Tract 53, Bronx County, New York"
          ],
          [
           36047152200,
           8,
           "Census Tract 1522, Kings County, New York"
          ],
          [
           36081018101,
           20,
           "Census Tract 181.01, Queens County, New York"
          ],
          [
           36047087000,
           10,
           "Census Tract 870, Kings County, New York"
          ],
          [
           36061001001,
           74,
           "Census Tract 10.01, New York County, New York"
          ],
          [
           36061022400,
           110,
           "Census Tract 224, New York County, New York"
          ],
          [
           36005024100,
           62,
           "Census Tract 241, Bronx County, New York"
          ],
          [
           36047024000,
           7,
           "Census Tract 240, Kings County, New York"
          ],
          [
           36005031000,
           13,
           "Census Tract 310, Bronx County, New York"
          ],
          [
           36061013000,
           5,
           "Census Tract 130, New York County, New York"
          ],
          [
           36081044301,
           12,
           "Census Tract 443.01, Queens County, New York"
          ],
          [
           36005014701,
           94,
           "Census Tract 147.01, Bronx County, New York"
          ],
          [
           36061027100,
           48,
           "Census Tract 271, New York County, New York"
          ],
          [
           36081037900,
           10,
           "Census Tract 379, Queens County, New York"
          ],
          [
           36081148300,
           11,
           "Census Tract 1483, Queens County, New York"
          ],
          [
           36081095400,
           27,
           "Census Tract 954, Queens County, New York"
          ],
          [
           36081044601,
           28,
           "Census Tract 446.01, Queens County, New York"
          ],
          [
           36081085500,
           14,
           "Census Tract 855, Queens County, New York"
          ],
          [
           36047112400,
           9,
           "Census Tract 1124, Kings County, New York"
          ],
          [
           36005017300,
           33,
           "Census Tract 173, Bronx County, New York"
          ],
          [
           36005042500,
           32,
           "Census Tract 425, Bronx County, New York"
          ],
          [
           36047038900,
           30,
           "Census Tract 389, Kings County, New York"
          ],
          [
           36047116000,
           18,
           "Census Tract 1160, Kings County, New York"
          ],
          [
           36047079802,
           18,
           "Census Tract 798.02, Kings County, New York"
          ],
          [
           36005018302,
           31,
           "Census Tract 183.02, Bronx County, New York"
          ],
          [
           36061011600,
           15,
           "Census Tract 116, New York County, New York"
          ],
          [
           36061002400,
           96,
           "Census Tract 24, New York County, New York"
          ],
          [
           36047113400,
           66,
           "Census Tract 1134, Kings County, New York"
          ],
          [
           36061028500,
           86,
           "Census Tract 285, New York County, New York"
          ],
          [
           36081076901,
           15,
           "Census Tract 769.01, Queens County, New York"
          ],
          [
           36081118100,
           11,
           "Census Tract 1181, Queens County, New York"
          ],
          [
           36061018400,
           60,
           "Census Tract 184, New York County, New York"
          ],
          [
           36005042901,
           15,
           "Census Tract 429.01, Bronx County, New York"
          ],
          [
           36047013000,
           15,
           "Census Tract 130, Kings County, New York"
          ],
          [
           36047035400,
           8,
           "Census Tract 354, Kings County, New York"
          ],
          [
           36085003900,
           17,
           "Census Tract 39, Richmond County, New York"
          ],
          [
           36047089200,
           49,
           "Census Tract 892, Kings County, New York"
          ],
          [
           36047008500,
           47,
           "Census Tract 85, Kings County, New York"
          ],
          [
           36061016400,
           49,
           "Census Tract 164, New York County, New York"
          ],
          [
           36005021001,
           44,
           "Census Tract 210.01, Bronx County, New York"
          ],
          [
           36005008500,
           59,
           "Census Tract 85, Bronx County, New York"
          ],
          [
           36005013000,
           5,
           "Census Tract 130, Bronx County, New York"
          ],
          [
           36047024100,
           29,
           "Census Tract 241, Kings County, New York"
          ],
          [
           36047082400,
           16,
           "Census Tract 824, Kings County, New York"
          ],
          [
           36047052500,
           28,
           "Census Tract 525, Kings County, New York"
          ],
          [
           36061002602,
           75,
           "Census Tract 26.02, New York County, New York"
          ],
          [
           36081022001,
           11,
           "Census Tract 220.01, Queens County, New York"
          ],
          [
           36061023700,
           71,
           "Census Tract 237, New York County, New York"
          ],
          [
           36005013500,
           37,
           "Census Tract 135, Bronx County, New York"
          ],
          [
           36061018300,
           25,
           "Census Tract 183, New York County, New York"
          ],
          [
           36061018000,
           70,
           "Census Tract 180, New York County, New York"
          ],
          [
           36061009100,
           89,
           "Census Tract 91, New York County, New York"
          ],
          [
           36061023000,
           62,
           "Census Tract 230, New York County, New York"
          ],
          [
           36081058500,
           10,
           "Census Tract 585, Queens County, New York"
          ],
          [
           36081084900,
           10,
           "Census Tract 849, Queens County, New York"
          ],
          [
           36005041800,
           12,
           "Census Tract 418, Bronx County, New York"
          ],
          [
           36005003800,
           22,
           "Census Tract 38, Bronx County, New York"
          ],
          [
           36081005100,
           7,
           "Census Tract 51, Queens County, New York"
          ],
          [
           36081021600,
           8,
           "Census Tract 216, Queens County, New York"
          ],
          [
           36081011500,
           20,
           "Census Tract 115, Queens County, New York"
          ],
          [
           36005002300,
           62,
           "Census Tract 23, Bronx County, New York"
          ],
          [
           36047004100,
           18,
           "Census Tract 41, Kings County, New York"
          ],
          [
           36047038700,
           19,
           "Census Tract 387, Kings County, New York"
          ],
          [
           36061018500,
           13,
           "Census Tract 185, New York County, New York"
          ],
          [
           36061026100,
           84,
           "Census Tract 261, New York County, New York"
          ],
          [
           36081004700,
           11,
           "Census Tract 47, Queens County, New York"
          ],
          [
           36081077903,
           12,
           "Census Tract 779.03, Queens County, New York"
          ],
          [
           36047039700,
           12,
           "Census Tract 397, Kings County, New York"
          ],
          [
           36047029500,
           2,
           "Census Tract 295, Kings County, New York"
          ],
          [
           36061003602,
           33,
           "Census Tract 36.02, New York County, New York"
          ],
          [
           36005007500,
           94,
           "Census Tract 75, Bronx County, New York"
          ],
          [
           36047073600,
           11,
           "Census Tract 736, Kings County, New York"
          ],
          [
           36047078600,
           8,
           "Census Tract 786, Kings County, New York"
          ],
          [
           36061005200,
           30,
           "Census Tract 52, New York County, New York"
          ],
          [
           36061006500,
           74,
           "Census Tract 65, New York County, New York"
          ],
          [
           36005005600,
           55,
           "Census Tract 56, Bronx County, New York"
          ],
          [
           36061020102,
           45,
           "Census Tract 201.02, New York County, New York"
          ],
          [
           36081069702,
           6,
           "Census Tract 697.02, Queens County, New York"
          ],
          [
           36047005800,
           7,
           "Census Tract 58, Kings County, New York"
          ],
          [
           36047013900,
           32,
           "Census Tract 139, Kings County, New York"
          ],
          [
           36047037900,
           92,
           "Census Tract 379, Kings County, New York"
          ],
          [
           36047089400,
           27,
           "Census Tract 894, Kings County, New York"
          ],
          [
           36047024500,
           17,
           "Census Tract 245, Kings County, New York"
          ],
          [
           36061006700,
           93,
           "Census Tract 67, New York County, New York"
          ],
          [
           36061003800,
           112,
           "Census Tract 38, New York County, New York"
          ],
          [
           36047034100,
           38,
           "Census Tract 341, Kings County, New York"
          ],
          [
           36047085600,
           16,
           "Census Tract 856, Kings County, New York"
          ],
          [
           36061013300,
           59,
           "Census Tract 133, New York County, New York"
          ],
          [
           36085020700,
           25,
           "Census Tract 207, Richmond County, New York"
          ],
          [
           36061006800,
           69,
           "Census Tract 68, New York County, New York"
          ],
          [
           36081027600,
           21,
           "Census Tract 276, Queens County, New York"
          ],
          [
           36061023100,
           50,
           "Census Tract 231, New York County, New York"
          ],
          [
           36081055400,
           11,
           "Census Tract 554, Queens County, New York"
          ],
          [
           36047025400,
           9,
           "Census Tract 254, Kings County, New York"
          ],
          [
           36061016600,
           83,
           "Census Tract 166, New York County, New York"
          ],
          [
           36047051700,
           17,
           "Census Tract 517, Kings County, New York"
          ],
          [
           36047072200,
           25,
           "Census Tract 722, Kings County, New York"
          ],
          [
           36061022900,
           77,
           "Census Tract 229, New York County, New York"
          ],
          [
           36047027700,
           21,
           "Census Tract 277, Kings County, New York"
          ],
          [
           36047000700,
           32,
           "Census Tract 7, Kings County, New York"
          ],
          [
           36061022301,
           49,
           "Census Tract 223.01, New York County, New York"
          ],
          [
           36005023900,
           33,
           "Census Tract 239, Bronx County, New York"
          ],
          [
           36005040502,
           30,
           "Census Tract 405.02, Bronx County, New York"
          ],
          [
           36081057900,
           9,
           "Census Tract 579, Queens County, New York"
          ],
          [
           36081008500,
           51,
           "Census Tract 85, Queens County, New York"
          ],
          [
           36061010000,
           31,
           "Census Tract 100, New York County, New York"
          ],
          [
           36047064600,
           5,
           "Census Tract 646, Kings County, New York"
          ],
          [
           36085014606,
           26,
           "Census Tract 146.06, Richmond County, New York"
          ],
          [
           36061012100,
           43,
           "Census Tract 121, New York County, New York"
          ],
          [
           36061003900,
           19,
           "Census Tract 39, New York County, New York"
          ],
          [
           36047015500,
           14,
           "Census Tract 155, Kings County, New York"
          ],
          [
           36081013200,
           10,
           "Census Tract 132, Queens County, New York"
          ],
          [
           36047044100,
           24,
           "Census Tract 441, Kings County, New York"
          ],
          [
           36061006300,
           15,
           "Census Tract 63, New York County, New York"
          ],
          [
           36081134100,
           17,
           "Census Tract 1341, Queens County, New York"
          ],
          [
           36047017700,
           47,
           null
          ],
          [
           36047096000,
           7,
           null
          ],
          [
           36005009800,
           44,
           "Census Tract 98, Bronx County, New York"
          ],
          [
           36061001402,
           35,
           "Census Tract 14.02, New York County, New York"
          ],
          [
           36061015602,
           39,
           "Census Tract 156.02, New York County, New York"
          ],
          [
           36085017300,
           34,
           "Census Tract 173, Richmond County, New York"
          ],
          [
           36047034500,
           77,
           "Census Tract 345, Kings County, New York"
          ],
          [
           36005028100,
           10,
           "Census Tract 281, Bronx County, New York"
          ],
          [
           36047055000,
           12,
           "Census Tract 550, Kings County, New York"
          ],
          [
           36081049900,
           16,
           "Census Tract 499, Queens County, New York"
          ],
          [
           36081152901,
           17,
           "Census Tract 1529.01, Queens County, New York"
          ],
          [
           36005051600,
           22,
           "Census Tract 516, Bronx County, New York"
          ],
          [
           36081063700,
           9,
           "Census Tract 637, Queens County, New York"
          ],
          [
           36081140901,
           17,
           "Census Tract 1409.01, Queens County, New York"
          ],
          [
           36005021700,
           29,
           "Census Tract 217, Bronx County, New York"
          ],
          [
           36081071900,
           14,
           "Census Tract 719, Queens County, New York"
          ],
          [
           36005046000,
           29,
           "Census Tract 460, Bronx County, New York"
          ],
          [
           36081133900,
           9,
           "Census Tract 1339, Queens County, New York"
          ],
          [
           36047019400,
           11,
           "Census Tract 194, Kings County, New York"
          ],
          [
           36005034400,
           6,
           "Census Tract 344, Bronx County, New York"
          ],
          [
           36061024302,
           105,
           "Census Tract 243.02, New York County, New York"
          ],
          [
           36061009300,
           44,
           "Census Tract 93, New York County, New York"
          ],
          [
           36005003700,
           23,
           "Census Tract 37, Bronx County, New York"
          ],
          [
           36081004300,
           42,
           "Census Tract 43, Queens County, New York"
          ],
          [
           36005018301,
           18,
           "Census Tract 183.01, Bronx County, New York"
          ],
          [
           36061021600,
           67,
           "Census Tract 216, New York County, New York"
          ],
          [
           36081052400,
           4,
           "Census Tract 524, Queens County, New York"
          ],
          [
           36081061900,
           6,
           "Census Tract 619, Queens County, New York"
          ],
          [
           36047102800,
           44,
           "Census Tract 1028, Kings County, New York"
          ],
          [
           36047005602,
           13,
           "Census Tract 56.02, Kings County, New York"
          ],
          [
           36061017700,
           61,
           "Census Tract 177, New York County, New York"
          ],
          [
           36085000700,
           15,
           "Census Tract 7, Richmond County, New York"
          ],
          [
           36047027300,
           39,
           "Census Tract 273, Kings County, New York"
          ],
          [
           36061027700,
           45,
           "Census Tract 277, New York County, New York"
          ],
          [
           36061015300,
           47,
           "Census Tract 153, New York County, New York"
          ],
          [
           36061021900,
           59,
           "Census Tract 219, New York County, New York"
          ],
          [
           36061008000,
           20,
           "Census Tract 80, New York County, New York"
          ],
          [
           36047015300,
           11,
           "Census Tract 153, Kings County, New York"
          ],
          [
           36061010300,
           9,
           "Census Tract 103, New York County, New York"
          ],
          [
           36047031500,
           33,
           "Census Tract 315, Kings County, New York"
          ],
          [
           36047054700,
           14,
           "Census Tract 547, Kings County, New York"
          ],
          [
           36081028900,
           27,
           "Census Tract 289, Queens County, New York"
          ],
          [
           36005018102,
           16,
           "Census Tract 181.02, Bronx County, New York"
          ],
          [
           36061015700,
           68,
           "Census Tract 157, New York County, New York"
          ],
          [
           36061021703,
           35,
           null
          ],
          [
           36047039900,
           35,
           "Census Tract 399, Kings County, New York"
          ],
          [
           36047051100,
           47,
           "Census Tract 511, Kings County, New York"
          ],
          [
           36081104700,
           24,
           "Census Tract 1047, Queens County, New York"
          ],
          [
           36005021602,
           24,
           "Census Tract 216.02, Bronx County, New York"
          ],
          [
           36047036001,
           10,
           "Census Tract 360.01, Kings County, New York"
          ],
          [
           36047007500,
           24,
           "Census Tract 75, Kings County, New York"
          ],
          [
           36061024700,
           68,
           "Census Tract 247, New York County, New York"
          ],
          [
           36047086800,
           20,
           "Census Tract 868, Kings County, New York"
          ],
          [
           36047078800,
           14,
           "Census Tract 788, Kings County, New York"
          ],
          [
           36047031100,
           58,
           "Census Tract 311, Kings County, New York"
          ],
          [
           36061025100,
           30,
           "Census Tract 251, New York County, New York"
          ],
          [
           36061017900,
           58,
           "Census Tract 179, New York County, New York"
          ],
          [
           36047043600,
           15,
           "Census Tract 436, Kings County, New York"
          ],
          [
           36061015400,
           113,
           "Census Tract 154, New York County, New York"
          ],
          [
           36005039300,
           46,
           "Census Tract 393, Bronx County, New York"
          ],
          [
           36047076200,
           21,
           "Census Tract 762, Kings County, New York"
          ],
          [
           36047070201,
           11,
           "Census Tract 702.01, Kings County, New York"
          ],
          [
           36047028900,
           25,
           "Census Tract 289, Kings County, New York"
          ],
          [
           36047020700,
           35,
           "Census Tract 207, Kings County, New York"
          ],
          [
           36005035800,
           33,
           "Census Tract 358, Bronx County, New York"
          ],
          [
           36005037300,
           38,
           "Census Tract 373, Bronx County, New York"
          ],
          [
           36081079900,
           11,
           "Census Tract 799, Queens County, New York"
          ],
          [
           36047002100,
           40,
           "Census Tract 21, Kings County, New York"
          ],
          [
           36081044000,
           17,
           "Census Tract 440, Queens County, New York"
          ],
          [
           36005040501,
           23,
           "Census Tract 405.01, Bronx County, New York"
          ],
          [
           36081005900,
           13,
           "Census Tract 59, Queens County, New York"
          ],
          [
           36061007900,
           23,
           "Census Tract 79, New York County, New York"
          ],
          [
           36061008603,
           13,
           "Census Tract 86.03, New York County, New York"
          ],
          [
           36005040304,
           15,
           "Census Tract 403.04, Bronx County, New York"
          ],
          [
           36047087600,
           12,
           "Census Tract 876, Kings County, New York"
          ],
          [
           36005038200,
           30,
           "Census Tract 382, Bronx County, New York"
          ],
          [
           36085031901,
           36,
           "Census Tract 319.01, Richmond County, New York"
          ],
          [
           36081047900,
           9,
           "Census Tract 479, Queens County, New York"
          ],
          [
           36061022000,
           57,
           "Census Tract 220, New York County, New York"
          ],
          [
           36061021500,
           33,
           "Census Tract 215, New York County, New York"
          ],
          [
           36047000100,
           18,
           "Census Tract 1, Kings County, New York"
          ],
          [
           36081062400,
           48,
           null
          ],
          [
           36047036100,
           38,
           "Census Tract 361, Kings County, New York"
          ],
          [
           36005025100,
           34,
           "Census Tract 251, Bronx County, New York"
          ],
          [
           36081122701,
           95,
           "Census Tract 1227.01, Queens County, New York"
          ],
          [
           36061013500,
           20,
           "Census Tract 135, New York County, New York"
          ],
          [
           36005009300,
           50,
           "Census Tract 93, Bronx County, New York"
          ],
          [
           36081009500,
           16,
           "Census Tract 95, Queens County, New York"
          ],
          [
           36047005900,
           48,
           "Census Tract 59, Kings County, New York"
          ],
          [
           36005029500,
           43,
           "Census Tract 295, Bronx County, New York"
          ],
          [
           36047030800,
           12,
           "Census Tract 308, Kings County, New York"
          ],
          [
           36005040302,
           21,
           "Census Tract 403.02, Bronx County, New York"
          ],
          [
           36047056900,
           17,
           "Census Tract 569, Kings County, New York"
          ],
          [
           36047036900,
           31,
           "Census Tract 369, Kings County, New York"
          ],
          [
           36081003300,
           42,
           "Census Tract 33, Queens County, New York"
          ],
          [
           36047070202,
           4,
           "Census Tract 702.02, Kings County, New York"
          ],
          [
           36061005400,
           35,
           "Census Tract 54, New York County, New York"
          ],
          [
           36047041401,
           9,
           "Census Tract 414.01, Kings County, New York"
          ],
          [
           36081023800,
           8,
           "Census Tract 238, Queens County, New York"
          ],
          [
           36081077902,
           16,
           "Census Tract 779.02, Queens County, New York"
          ],
          [
           36047041100,
           7,
           "Census Tract 411, Kings County, New York"
          ],
          [
           36061017100,
           77,
           "Census Tract 171, New York County, New York"
          ],
          [
           36005013800,
           34,
           "Census Tract 138, Bronx County, New York"
          ],
          [
           36061010800,
           32,
           "Census Tract 108, New York County, New York"
          ],
          [
           36005026300,
           50,
           "Census Tract 263, Bronx County, New York"
          ],
          [
           36085020801,
           24,
           "Census Tract 208.01, Richmond County, New York"
          ],
          [
           36047048800,
           10,
           "Census Tract 488, Kings County, New York"
          ],
          [
           36047006200,
           22,
           "Census Tract 62, Kings County, New York"
          ],
          [
           36047053800,
           14,
           "Census Tract 538, Kings County, New York"
          ],
          [
           36047029300,
           54,
           "Census Tract 293, Kings County, New York"
          ],
          [
           36005011000,
           23,
           "Census Tract 110, Bronx County, New York"
          ],
          [
           36047037100,
           28,
           "Census Tract 371, Kings County, New York"
          ],
          [
           36081093900,
           12,
           "Census Tract 939, Queens County, New York"
          ],
          [
           36005026701,
           14,
           "Census Tract 267.01, Bronx County, New York"
          ],
          [
           36047021100,
           56,
           "Census Tract 211, Kings County, New York"
          ],
          [
           36047039500,
           38,
           "Census Tract 395, Kings County, New York"
          ],
          [
           36005032300,
           23,
           "Census Tract 323, Bronx County, New York"
          ],
          [
           36005040800,
           72,
           "Census Tract 408, Bronx County, New York"
          ],
          [
           36061004500,
           27,
           "Census Tract 45, New York County, New York"
          ],
          [
           36061009900,
           112,
           "Census Tract 99, New York County, New York"
          ],
          [
           36081000700,
           27,
           "Census Tract 7, Queens County, New York"
          ],
          [
           36047013800,
           9,
           "Census Tract 138, Kings County, New York"
          ],
          [
           36081161700,
           34,
           "Census Tract 1617, Queens County, New York"
          ],
          [
           36081100801,
           8,
           "Census Tract 1008.01, Queens County, New York"
          ],
          [
           36005045101,
           14,
           "Census Tract 451.01, Bronx County, New York"
          ],
          [
           36047056100,
           11,
           "Census Tract 561, Kings County, New York"
          ],
          [
           36061001800,
           63,
           "Census Tract 18, New York County, New York"
          ],
          [
           36081005300,
           16,
           "Census Tract 53, Queens County, New York"
          ],
          [
           36081027800,
           23,
           "Census Tract 278, Queens County, New York"
          ],
          [
           36081075702,
           18,
           "Census Tract 757.02, Queens County, New York"
          ],
          [
           36047089600,
           24,
           "Census Tract 896, Kings County, New York"
          ],
          [
           36085029102,
           11,
           "Census Tract 291.02, Richmond County, New York"
          ],
          [
           36047022600,
           10,
           "Census Tract 226, Kings County, New York"
          ],
          [
           36047030100,
           32,
           "Census Tract 301, Kings County, New York"
          ],
          [
           36061019600,
           63,
           "Census Tract 196, New York County, New York"
          ],
          [
           36061022102,
           23,
           "Census Tract 221.02, New York County, New York"
          ],
          [
           36047057100,
           16,
           "Census Tract 571, Kings County, New York"
          ],
          [
           36005025000,
           17,
           "Census Tract 250, Bronx County, New York"
          ],
          [
           36047011900,
           20,
           "Census Tract 119, Kings County, New York"
          ],
          [
           36005039100,
           42,
           "Census Tract 391, Bronx County, New York"
          ],
          [
           36061002201,
           67,
           "Census Tract 22.01, New York County, New York"
          ],
          [
           36081051200,
           18,
           "Census Tract 512, Queens County, New York"
          ],
          [
           36061022700,
           34,
           "Census Tract 227, New York County, New York"
          ],
          [
           36061023501,
           72,
           "Census Tract 235.01, New York County, New York"
          ],
          [
           36047069602,
           27,
           "Census Tract 696.02, Kings County, New York"
          ],
          [
           36005031800,
           18,
           "Census Tract 318, Bronx County, New York"
          ],
          [
           36005039500,
           61,
           "Census Tract 395, Bronx County, New York"
          ],
          [
           36047050100,
           19,
           "Census Tract 501, Kings County, New York"
          ],
          [
           36047033300,
           16,
           "Census Tract 333, Kings County, New York"
          ],
          [
           36005038800,
           14,
           "Census Tract 388, Bronx County, New York"
          ],
          [
           36061029500,
           19,
           "Census Tract 295, New York County, New York"
          ],
          [
           36047043000,
           7,
           "Census Tract 430, Kings County, New York"
          ],
          [
           36005003300,
           14,
           "Census Tract 33, Bronx County, New York"
          ],
          [
           36047034700,
           87,
           "Census Tract 347, Kings County, New York"
          ],
          [
           36061015900,
           21,
           "Census Tract 159, New York County, New York"
          ],
          [
           36081101700,
           30,
           "Census Tract 1017, Queens County, New York"
          ],
          [
           36061031100,
           18,
           null
          ],
          [
           36047057500,
           32,
           "Census Tract 575, Kings County, New York"
          ],
          [
           36005023200,
           22,
           "Census Tract 232, Bronx County, New York"
          ],
          [
           36047045600,
           13,
           "Census Tract 456, Kings County, New York"
          ],
          [
           36081058900,
           3,
           "Census Tract 589, Queens County, New York"
          ],
          [
           36005024501,
           48,
           "Census Tract 245.01, Bronx County, New York"
          ],
          [
           36005039800,
           13,
           "Census Tract 398, Bronx County, New York"
          ],
          [
           36005042200,
           9,
           "Census Tract 422, Bronx County, New York"
          ],
          [
           36047030300,
           41,
           "Census Tract 303, Kings County, New York"
          ],
          [
           36005028900,
           27,
           "Census Tract 289, Bronx County, New York"
          ],
          [
           36061026900,
           48,
           "Census Tract 269, New York County, New York"
          ],
          [
           36061008400,
           6,
           "Census Tract 84, New York County, New York"
          ],
          [
           36081062600,
           15,
           "Census Tract 626, Queens County, New York"
          ],
          [
           36047043700,
           11,
           "Census Tract 437, Kings County, New York"
          ],
          [
           36047087800,
           9,
           "Census Tract 878, Kings County, New York"
          ],
          [
           36005040600,
           38,
           "Census Tract 406, Bronx County, New York"
          ],
          [
           36047041700,
           61,
           "Census Tract 417, Kings County, New York"
          ],
          [
           36005020501,
           102,
           "Census Tract 205.01, Bronx County, New York"
          ],
          [
           36047119200,
           12,
           "Census Tract 1192, Kings County, New York"
          ],
          [
           36061006100,
           33,
           "Census Tract 61, New York County, New York"
          ],
          [
           36081011200,
           4,
           "Census Tract 112, Queens County, New York"
          ],
          [
           36047018700,
           4,
           "Census Tract 187, Kings County, New York"
          ],
          [
           36047088400,
           22,
           "Census Tract 884, Kings County, New York"
          ],
          [
           36047025500,
           14,
           "Census Tract 255, Kings County, New York"
          ],
          [
           36081088901,
           50,
           "Census Tract 889.01, Queens County, New York"
          ],
          [
           36047055100,
           24,
           "Census Tract 551, Kings County, New York"
          ],
          [
           36061021000,
           55,
           "Census Tract 210, New York County, New York"
          ],
          [
           36047021700,
           17,
           "Census Tract 217, Kings County, New York"
          ],
          [
           36081027300,
           25,
           "Census Tract 273, Queens County, New York"
          ],
          [
           36081025302,
           17,
           "Census Tract 253.02, Queens County, New York"
          ],
          [
           36061020800,
           35,
           "Census Tract 208, New York County, New York"
          ],
          [
           36081109700,
           13,
           "Census Tract 1097, Queens County, New York"
          ],
          [
           36061023300,
           57,
           "Census Tract 233, New York County, New York"
          ],
          [
           42101003001,
           2,
           null
          ],
          [
           36061021200,
           41,
           "Census Tract 212, New York County, New York"
          ],
          [
           36047111000,
           32,
           "Census Tract 1110, Kings County, New York"
          ],
          [
           36047004300,
           26,
           "Census Tract 43, Kings County, New York"
          ],
          [
           36081055700,
           4,
           "Census Tract 557, Queens County, New York"
          ],
          [
           36047062000,
           4,
           "Census Tract 620, Kings County, New York"
          ],
          [
           36081018401,
           12,
           "Census Tract 184.01, Queens County, New York"
          ],
          [
           36047115200,
           28,
           "Census Tract 1152, Kings County, New York"
          ],
          [
           36085013302,
           21,
           "Census Tract 133.02, Richmond County, New York"
          ],
          [
           36047051602,
           20,
           "Census Tract 516.02, Kings County, New York"
          ],
          [
           36047002000,
           9,
           "Census Tract 20, Kings County, New York"
          ],
          [
           36047027900,
           40,
           "Census Tract 279, Kings County, New York"
          ],
          [
           36047021000,
           4,
           "Census Tract 210, Kings County, New York"
          ],
          [
           36047061003,
           9,
           "Census Tract 610.03, Kings County, New York"
          ],
          [
           36005013100,
           48,
           "Census Tract 131, Bronx County, New York"
          ],
          [
           36047114600,
           14,
           "Census Tract 1146, Kings County, New York"
          ],
          [
           36047019100,
           12,
           "Census Tract 191, Kings County, New York"
          ],
          [
           36047018300,
           11,
           "Census Tract 183, Kings County, New York"
          ],
          [
           36047053900,
           11,
           "Census Tract 539, Kings County, New York"
          ],
          [
           36061019500,
           64,
           "Census Tract 195, New York County, New York"
          ],
          [
           36061000900,
           25,
           "Census Tract 9, New York County, New York"
          ],
          [
           36081006502,
           17,
           "Census Tract 65.02, Queens County, New York"
          ],
          [
           36047035700,
           17,
           "Census Tract 357, Kings County, New York"
          ],
          [
           36005006400,
           24,
           "Census Tract 64, Bronx County, New York"
          ],
          [
           36047042900,
           24,
           "Census Tract 429, Kings County, New York"
          ],
          [
           36081062500,
           5,
           "Census Tract 625, Queens County, New York"
          ],
          [
           36047094401,
           40,
           "Census Tract 944.01, Kings County, New York"
          ],
          [
           36005025300,
           19,
           "Census Tract 253, Bronx County, New York"
          ],
          [
           36047004700,
           24,
           "Census Tract 47, Kings County, New York"
          ],
          [
           36085002100,
           39,
           "Census Tract 21, Richmond County, New York"
          ],
          [
           36047035300,
           54,
           "Census Tract 353, Kings County, New York"
          ],
          [
           36047043400,
           16,
           "Census Tract 434, Kings County, New York"
          ],
          [
           36005037100,
           38,
           "Census Tract 371, Bronx County, New York"
          ],
          [
           36081112300,
           13,
           "Census Tract 1123, Queens County, New York"
          ],
          [
           36061019000,
           79,
           "Census Tract 190, New York County, New York"
          ],
          [
           36085018100,
           21,
           "Census Tract 181, Richmond County, New York"
          ],
          [
           36081077906,
           49,
           "Census Tract 779.06, Queens County, New York"
          ],
          [
           36081117100,
           5,
           "Census Tract 1171, Queens County, New York"
          ],
          [
           36085018902,
           17,
           "Census Tract 189.02, Richmond County, New York"
          ],
          [
           36005033700,
           12,
           "Census Tract 337, Bronx County, New York"
          ],
          [
           36081129104,
           12,
           "Census Tract 1291.04, Queens County, New York"
          ],
          [
           36047022100,
           11,
           "Census Tract 221, Kings County, New York"
          ],
          [
           36005041100,
           22,
           "Census Tract 411, Bronx County, New York"
          ],
          [
           36005039901,
           43,
           "Census Tract 399.01, Bronx County, New York"
          ],
          [
           36047006900,
           44,
           "Census Tract 69, Kings County, New York"
          ],
          [
           36047088000,
           24,
           "Census Tract 880, Kings County, New York"
          ],
          [
           36047062200,
           22,
           "Census Tract 622, Kings County, New York"
          ],
          [
           36047079400,
           9,
           "Census Tract 794, Kings County, New York"
          ],
          [
           36081015500,
           14,
           "Census Tract 155, Queens County, New York"
          ],
          [
           36005021301,
           5,
           "Census Tract 213.01, Bronx County, New York"
          ],
          [
           36085025100,
           7,
           "Census Tract 251, Richmond County, New York"
          ],
          [
           36081002200,
           11,
           "Census Tract 22, Queens County, New York"
          ],
          [
           36061026300,
           40,
           "Census Tract 263, New York County, New York"
          ],
          [
           36047024900,
           26,
           "Census Tract 249, Kings County, New York"
          ],
          [
           36047007100,
           19,
           "Census Tract 71, Kings County, New York"
          ],
          [
           36005036400,
           17,
           "Census Tract 364, Bronx County, New York"
          ],
          [
           36085017007,
           8,
           "Census Tract 170.07, Richmond County, New York"
          ],
          [
           36061001300,
           41,
           "Census Tract 13, New York County, New York"
          ],
          [
           36047091800,
           8,
           "Census Tract 918, Kings County, New York"
          ],
          [
           36061002100,
           38,
           "Census Tract 21, New York County, New York"
          ],
          [
           36081026000,
           27,
           "Census Tract 260, Queens County, New York"
          ],
          [
           36047043200,
           7,
           "Census Tract 432, Kings County, New York"
          ],
          [
           36081071304,
           16,
           "Census Tract 713.04, Queens County, New York"
          ],
          [
           36047008200,
           14,
           "Census Tract 82, Kings County, New York"
          ],
          [
           36047061004,
           16,
           "Census Tract 610.04, Kings County, New York"
          ],
          [
           36061001200,
           13,
           "Census Tract 12, New York County, New York"
          ],
          [
           36047033000,
           18,
           "Census Tract 330, Kings County, New York"
          ],
          [
           36061000700,
           10,
           "Census Tract 7, New York County, New York"
          ],
          [
           36081058300,
           25,
           "Census Tract 583, Queens County, New York"
          ],
          [
           36047100800,
           6,
           "Census Tract 1008, Kings County, New York"
          ],
          [
           36005041500,
           36,
           "Census Tract 415, Bronx County, New York"
          ],
          [
           36081065600,
           19,
           "Census Tract 656, Queens County, New York"
          ],
          [
           36081118700,
           8,
           "Census Tract 1187, Queens County, New York"
          ],
          [
           36047026800,
           9,
           "Census Tract 268, Kings County, New York"
          ],
          [
           36047018501,
           13,
           "Census Tract 185.01, Kings County, New York"
          ],
          [
           36047079200,
           27,
           "Census Tract 792, Kings County, New York"
          ],
          [
           36047000501,
           17,
           "Census Tract 5.01, Kings County, New York"
          ],
          [
           36005012300,
           21,
           "Census Tract 123, Bronx County, New York"
          ],
          [
           36005003500,
           23,
           "Census Tract 35, Bronx County, New York"
          ],
          [
           36005037504,
           30,
           "Census Tract 375.04, Bronx County, New York"
          ],
          [
           36085015603,
           8,
           "Census Tract 156.03, Richmond County, New York"
          ],
          [
           36005023703,
           13,
           "Census Tract 237.03, Bronx County, New York"
          ],
          [
           36005023502,
           50,
           "Census Tract 235.02, Bronx County, New York"
          ],
          [
           36005042300,
           10,
           "Census Tract 423, Bronx County, New York"
          ],
          [
           36047083000,
           41,
           "Census Tract 830, Kings County, New York"
          ],
          [
           36047039100,
           20,
           "Census Tract 391, Kings County, New York"
          ],
          [
           36081021200,
           9,
           "Census Tract 212, Queens County, New York"
          ],
          [
           36005030900,
           14,
           "Census Tract 309, Bronx County, New York"
          ],
          [
           36005024400,
           6,
           "Census Tract 244, Bronx County, New York"
          ],
          [
           36085017005,
           9,
           "Census Tract 170.05, Richmond County, New York"
          ],
          [
           36061017402,
           46,
           "Census Tract 174.02, New York County, New York"
          ],
          [
           36061025700,
           56,
           "Census Tract 257, New York County, New York"
          ],
          [
           36005022101,
           22,
           "Census Tract 221.01, Bronx County, New York"
          ],
          [
           36081026500,
           6,
           "Census Tract 265, Queens County, New York"
          ],
          [
           36081097204,
           22,
           "Census Tract 972.04, Queens County, New York"
          ],
          [
           36047013400,
           13,
           "Census Tract 134, Kings County, New York"
          ],
          [
           36085030301,
           21,
           "Census Tract 303.01, Richmond County, New York"
          ],
          [
           36081134700,
           17,
           "Census Tract 1347, Queens County, New York"
          ],
          [
           36005036100,
           15,
           "Census Tract 361, Bronx County, New York"
          ],
          [
           36081053800,
           2,
           "Census Tract 538, Queens County, New York"
          ],
          [
           36081033401,
           7,
           "Census Tract 334.01, Queens County, New York"
          ],
          [
           36047043300,
           31,
           "Census Tract 433, Kings County, New York"
          ],
          [
           36047026100,
           19,
           "Census Tract 261, Kings County, New York"
          ],
          [
           36081101001,
           36,
           "Census Tract 1010.01, Queens County, New York"
          ],
          [
           36081088400,
           16,
           "Census Tract 884, Queens County, New York"
          ],
          [
           36061008601,
           13,
           "Census Tract 86.01, New York County, New York"
          ],
          [
           36081017900,
           11,
           "Census Tract 179, Queens County, New York"
          ],
          [
           36047004500,
           19,
           "Census Tract 45, Kings County, New York"
          ],
          [
           36047026300,
           30,
           "Census Tract 263, Kings County, New York"
          ],
          [
           36005037800,
           25,
           "Census Tract 378, Bronx County, New York"
          ],
          [
           36047035500,
           23,
           "Census Tract 355, Kings County, New York"
          ],
          [
           36005038100,
           17,
           "Census Tract 381, Bronx County, New York"
          ],
          [
           36085017008,
           19,
           "Census Tract 170.08, Richmond County, New York"
          ],
          [
           36047016100,
           9,
           "Census Tract 161, Kings County, New York"
          ],
          [
           36081063200,
           5,
           "Census Tract 632, Queens County, New York"
          ],
          [
           36005023704,
           16,
           "Census Tract 237.04, Bronx County, New York"
          ],
          [
           36047057000,
           41,
           "Census Tract 570, Kings County, New York"
          ],
          [
           36047091200,
           32,
           "Census Tract 912, Kings County, New York"
          ],
          [
           36047061600,
           3,
           "Census Tract 616, Kings County, New York"
          ],
          [
           36047037700,
           26,
           "Census Tract 377, Kings County, New York"
          ],
          [
           36081015801,
           4,
           "Census Tract 158.01, Queens County, New York"
          ],
          [
           36047032100,
           29,
           "Census Tract 321, Kings County, New York"
          ],
          [
           36047007400,
           18,
           "Census Tract 74, Kings County, New York"
          ],
          [
           36047086000,
           10,
           "Census Tract 860, Kings County, New York"
          ],
          [
           36047050400,
           17,
           "Census Tract 504, Kings County, New York"
          ],
          [
           36047000200,
           12,
           "Census Tract 2, Kings County, New York"
          ],
          [
           36005020000,
           24,
           "Census Tract 200, Bronx County, New York"
          ],
          [
           36005020100,
           46,
           "Census Tract 201, Bronx County, New York"
          ],
          [
           36047041300,
           14,
           "Census Tract 413, Kings County, New York"
          ],
          [
           36061019100,
           70,
           "Census Tract 191, New York County, New York"
          ],
          [
           36047093800,
           3,
           "Census Tract 938, Kings County, New York"
          ],
          [
           36081024300,
           5,
           "Census Tract 243, Queens County, New York"
          ],
          [
           36061015801,
           13,
           "Census Tract 158.01, New York County, New York"
          ],
          [
           36047003600,
           7,
           "Census Tract 36, Kings County, New York"
          ],
          [
           36047061002,
           10,
           "Census Tract 610.02, Kings County, New York"
          ],
          [
           36047016300,
           40,
           "Census Tract 163, Kings County, New York"
          ],
          [
           36047034900,
           41,
           "Census Tract 349, Kings County, New York"
          ],
          [
           36005027900,
           44,
           "Census Tract 279, Bronx County, New York"
          ],
          [
           36081032700,
           14,
           "Census Tract 327, Queens County, New York"
          ],
          [
           36081007700,
           11,
           "Census Tract 77, Queens County, New York"
          ],
          [
           36005022300,
           27,
           "Census Tract 223, Bronx County, New York"
          ],
          [
           36047016700,
           28,
           "Census Tract 167, Kings County, New York"
          ],
          [
           36047051500,
           10,
           "Census Tract 515, Kings County, New York"
          ],
          [
           36081070700,
           6,
           "Census Tract 707, Queens County, New York"
          ],
          [
           36081086100,
           3,
           "Census Tract 861, Queens County, New York"
          ],
          [
           36085011201,
           5,
           "Census Tract 112.01, Richmond County, New York"
          ],
          [
           36047070000,
           6,
           "Census Tract 700, Kings County, New York"
          ],
          [
           36061012800,
           26,
           "Census Tract 128, New York County, New York"
          ],
          [
           36085001100,
           14,
           "Census Tract 11, Richmond County, New York"
          ],
          [
           36047072400,
           24,
           "Census Tract 724, Kings County, New York"
          ],
          [
           36081010300,
           12,
           "Census Tract 103, Queens County, New York"
          ],
          [
           36047082600,
           17,
           "Census Tract 826, Kings County, New York"
          ],
          [
           36085029104,
           14,
           "Census Tract 291.04, Richmond County, New York"
          ],
          [
           36047073400,
           13,
           "Census Tract 734, Kings County, New York"
          ],
          [
           36081011100,
           42,
           "Census Tract 111, Queens County, New York"
          ],
          [
           36061003100,
           22,
           "Census Tract 31, New York County, New York"
          ],
          [
           36005029700,
           16,
           "Census Tract 297, Bronx County, New York"
          ],
          [
           36005023702,
           8,
           "Census Tract 237.02, Bronx County, New York"
          ],
          [
           36081052800,
           10,
           "Census Tract 528, Queens County, New York"
          ],
          [
           36005002800,
           34,
           "Census Tract 28, Bronx County, New York"
          ],
          [
           36047009800,
           9,
           "Census Tract 98, Kings County, New York"
          ],
          [
           36081024000,
           5,
           "Census Tract 240, Queens County, New York"
          ],
          [
           36061019900,
           35,
           "Census Tract 199, New York County, New York"
          ],
          [
           36047052000,
           8,
           "Census Tract 520, Kings County, New York"
          ],
          [
           36047060000,
           17,
           "Census Tract 600, Kings County, New York"
          ],
          [
           36047080000,
           25,
           "Census Tract 800, Kings County, New York"
          ],
          [
           36047056300,
           24,
           "Census Tract 563, Kings County, New York"
          ],
          [
           36047095800,
           12,
           "Census Tract 958, Kings County, New York"
          ],
          [
           36085023100,
           20,
           "Census Tract 231, Richmond County, New York"
          ],
          [
           36047003100,
           18,
           "Census Tract 31, Kings County, New York"
          ],
          [
           36047030000,
           19,
           "Census Tract 300, Kings County, New York"
          ],
          [
           36005005002,
           9,
           "Census Tract 50.02, Bronx County, New York"
          ],
          [
           36061015802,
           19,
           "Census Tract 158.02, New York County, New York"
          ],
          [
           36047040400,
           11,
           "Census Tract 404, Kings County, New York"
          ],
          [
           36081006201,
           16,
           "Census Tract 62.01, Queens County, New York"
          ],
          [
           36047037500,
           24,
           "Census Tract 375, Kings County, New York"
          ],
          [
           36047092800,
           10,
           "Census Tract 928, Kings County, New York"
          ],
          [
           36081091900,
           16,
           "Census Tract 919, Queens County, New York"
          ],
          [
           36005003100,
           9,
           "Census Tract 31, Bronx County, New York"
          ],
          [
           36047001500,
           49,
           "Census Tract 15, Kings County, New York"
          ],
          [
           36047097000,
           7,
           "Census Tract 970, Kings County, New York"
          ],
          [
           36047076600,
           14,
           "Census Tract 766, Kings County, New York"
          ],
          [
           36081137700,
           21,
           "Census Tract 1377, Queens County, New York"
          ],
          [
           36081000100,
           29,
           "Census Tract 1, Queens County, New York"
          ],
          [
           36047063600,
           4,
           "Census Tract 636, Kings County, New York"
          ],
          [
           36081146700,
           17,
           "Census Tract 1467, Queens County, New York"
          ],
          [
           36005042902,
           33,
           "Census Tract 429.02, Bronx County, New York"
          ],
          [
           36047026500,
           25,
           "Census Tract 265, Kings County, New York"
          ],
          [
           36085014604,
           20,
           "Census Tract 146.04, Richmond County, New York"
          ],
          [
           36047077600,
           9,
           "Census Tract 776, Kings County, New York"
          ],
          [
           36047023600,
           13,
           "Census Tract 236, Kings County, New York"
          ],
          [
           36061011000,
           45,
           "Census Tract 110, New York County, New York"
          ],
          [
           36047011700,
           8,
           "Census Tract 117, Kings County, New York"
          ],
          [
           36005017902,
           13,
           "Census Tract 179.02, Bronx County, New York"
          ],
          [
           36081047000,
           4,
           "Census Tract 470, Queens County, New York"
          ],
          [
           36081092200,
           4,
           "Census Tract 922, Queens County, New York"
          ],
          [
           36047072600,
           5,
           "Census Tract 726, Kings County, New York"
          ],
          [
           36047027100,
           19,
           "Census Tract 271, Kings County, New York"
          ],
          [
           36081005700,
           17,
           "Census Tract 57, Queens County, New York"
          ],
          [
           36047017200,
           9,
           "Census Tract 172, Kings County, New York"
          ],
          [
           36047090200,
           19,
           "Census Tract 902, Kings County, New York"
          ],
          [
           36047011200,
           14,
           "Census Tract 112, Kings County, New York"
          ],
          [
           36061003700,
           28,
           "Census Tract 37, New York County, New York"
          ],
          [
           36061016500,
           22,
           "Census Tract 165, New York County, New York"
          ],
          [
           36047067200,
           5,
           "Census Tract 672, Kings County, New York"
          ],
          [
           36047034300,
           46,
           "Census Tract 343, Kings County, New York"
          ],
          [
           36081023600,
           6,
           "Census Tract 236, Queens County, New York"
          ],
          [
           36047051900,
           41,
           "Census Tract 519, Kings County, New York"
          ],
          [
           36061002900,
           32,
           "Census Tract 29, New York County, New York"
          ],
          [
           36047107000,
           31,
           "Census Tract 1070, Kings County, New York"
          ],
          [
           36005007300,
           8,
           "Census Tract 73, Bronx County, New York"
          ],
          [
           36085017600,
           8,
           "Census Tract 176, Richmond County, New York"
          ],
          [
           36061014401,
           13,
           "Census Tract 144.01, New York County, New York"
          ],
          [
           36005021900,
           31,
           "Census Tract 219, Bronx County, New York"
          ],
          [
           36081029100,
           15,
           "Census Tract 291, Queens County, New York"
          ],
          [
           36047014300,
           24,
           "Census Tract 143, Kings County, New York"
          ],
          [
           36085012500,
           5,
           "Census Tract 125, Richmond County, New York"
          ],
          [
           36005002400,
           23,
           null
          ],
          [
           36047116400,
           20,
           "Census Tract 1164, Kings County, New York"
          ],
          [
           36005004600,
           46,
           "Census Tract 46, Bronx County, New York"
          ],
          [
           36047033900,
           14,
           "Census Tract 339, Kings County, New York"
          ],
          [
           36047050300,
           17,
           "Census Tract 503, Kings County, New York"
          ],
          [
           36047049600,
           11,
           "Census Tract 496, Kings County, New York"
          ],
          [
           36005022902,
           32,
           "Census Tract 229.02, Bronx County, New York"
          ],
          [
           36081058200,
           13,
           "Census Tract 582, Queens County, New York"
          ],
          [
           36005032400,
           40,
           "Census Tract 324, Bronx County, New York"
          ],
          [
           36047115800,
           25,
           "Census Tract 1158, Kings County, New York"
          ],
          [
           36081007300,
           18,
           "Census Tract 73, Queens County, New York"
          ],
          [
           36047041000,
           9,
           "Census Tract 410, Kings County, New York"
          ],
          [
           36005007200,
           20,
           "Census Tract 72, Bronx County, New York"
          ],
          [
           36081085900,
           12,
           "Census Tract 859, Queens County, New York"
          ],
          [
           36005006800,
           30,
           "Census Tract 68, Bronx County, New York"
          ],
          [
           36061008200,
           12,
           "Census Tract 82, New York County, New York"
          ],
          [
           36047032900,
           22,
           "Census Tract 329, Kings County, New York"
          ],
          [
           36081157903,
           16,
           "Census Tract 1579.03, Queens County, New York"
          ],
          [
           36005019700,
           32,
           "Census Tract 197, Bronx County, New York"
          ],
          [
           36081143500,
           12,
           "Census Tract 1435, Queens County, New York"
          ],
          [
           36047062800,
           11,
           "Census Tract 628, Kings County, New York"
          ],
          [
           36005034500,
           17,
           "Census Tract 345, Bronx County, New York"
          ],
          [
           36005025700,
           4,
           "Census Tract 257, Bronx County, New York"
          ],
          [
           36047058600,
           5,
           "Census Tract 586, Kings County, New York"
          ],
          [
           36047051002,
           17,
           "Census Tract 510.02, Kings County, New York"
          ],
          [
           36081077908,
           6,
           "Census Tract 779.08, Queens County, New York"
          ],
          [
           36005036502,
           5,
           "Census Tract 365.02, Bronx County, New York"
          ],
          [
           36081033700,
           3,
           "Census Tract 337, Queens County, New York"
          ],
          [
           36061007500,
           16,
           "Census Tract 75, New York County, New York"
          ],
          [
           36005009200,
           40,
           "Census Tract 92, Bronx County, New York"
          ],
          [
           36005012701,
           24,
           "Census Tract 127.01, Bronx County, New York"
          ],
          [
           36047012700,
           81,
           "Census Tract 127, Kings County, New York"
          ],
          [
           36047049900,
           12,
           "Census Tract 499, Kings County, New York"
          ],
          [
           36047058400,
           9,
           "Census Tract 584, Kings County, New York"
          ],
          [
           36081005800,
           5,
           "Census Tract 58, Queens County, New York"
          ],
          [
           36081040700,
           15,
           "Census Tract 407, Queens County, New York"
          ],
          [
           36081026100,
           10,
           "Census Tract 261, Queens County, New York"
          ],
          [
           36081044400,
           22,
           "Census Tract 444, Queens County, New York"
          ],
          [
           36061019701,
           26,
           "Census Tract 197.01, New York County, New York"
          ],
          [
           36047019700,
           14,
           "Census Tract 197, Kings County, New York"
          ],
          [
           36081054900,
           33,
           "Census Tract 549, Queens County, New York"
          ],
          [
           36047005100,
           7,
           "Census Tract 51, Kings County, New York"
          ],
          [
           36005043400,
           38,
           "Census Tract 434, Bronx County, New York"
          ],
          [
           36005022102,
           34,
           "Census Tract 221.02, Bronx County, New York"
          ],
          [
           36081108500,
           25,
           "Census Tract 1085, Queens County, New York"
          ],
          [
           36085011401,
           15,
           "Census Tract 114.01, Richmond County, New York"
          ],
          [
           36085000900,
           15,
           "Census Tract 9, Richmond County, New York"
          ],
          [
           36061031703,
           5,
           "Census Tract 317.03, New York County, New York"
          ],
          [
           36061027900,
           53,
           "Census Tract 279, New York County, New York"
          ],
          [
           36085022600,
           30,
           "Census Tract 226, Richmond County, New York"
          ],
          [
           36005044200,
           15,
           "Census Tract 442, Bronx County, New York"
          ],
          [
           36081060000,
           3,
           "Census Tract 600, Queens County, New York"
          ],
          [
           36081086500,
           31,
           "Census Tract 865, Queens County, New York"
          ],
          [
           36047006400,
           11,
           "Census Tract 64, Kings County, New York"
          ],
          [
           36005020900,
           8,
           "Census Tract 209, Bronx County, New York"
          ],
          [
           36081055300,
           23,
           "Census Tract 553, Queens County, New York"
          ],
          [
           36005009600,
           12,
           "Census Tract 96, Bronx County, New York"
          ],
          [
           36005030701,
           10,
           "Census Tract 307.01, Bronx County, New York"
          ],
          [
           36081094500,
           18,
           "Census Tract 945, Queens County, New York"
          ],
          [
           36061011900,
           29,
           "Census Tract 119, New York County, New York"
          ],
          [
           36047028502,
           37,
           "Census Tract 285.02, Kings County, New York"
          ],
          [
           36047036400,
           11,
           "Census Tract 364, Kings County, New York"
          ],
          [
           36081068000,
           18,
           "Census Tract 680, Queens County, New York"
          ],
          [
           36005004800,
           7,
           "Census Tract 48, Bronx County, New York"
          ],
          [
           36005036700,
           14,
           "Census Tract 367, Bronx County, New York"
          ],
          [
           36047112600,
           31,
           "Census Tract 1126, Kings County, New York"
          ],
          [
           36081001900,
           10,
           "Census Tract 19, Queens County, New York"
          ],
          [
           36081026902,
           6,
           "Census Tract 269.02, Queens County, New York"
          ],
          [
           36005037400,
           37,
           "Census Tract 374, Bronx County, New York"
          ],
          [
           36047016900,
           11,
           "Census Tract 169, Kings County, New York"
          ],
          [
           36047050801,
           14,
           "Census Tract 508.01, Kings County, New York"
          ],
          [
           36081112900,
           9,
           "Census Tract 1129, Queens County, New York"
          ],
          [
           36081015000,
           7,
           "Census Tract 150, Queens County, New York"
          ],
          [
           36081059300,
           12,
           "Census Tract 593, Queens County, New York"
          ],
          [
           36005025200,
           5,
           "Census Tract 252, Bronx County, New York"
          ],
          [
           36061025300,
           31,
           "Census Tract 253, New York County, New York"
          ],
          [
           36047025300,
           35,
           "Census Tract 253, Kings County, New York"
          ],
          [
           36047050804,
           27,
           "Census Tract 508.04, Kings County, New York"
          ],
          [
           36061000201,
           11,
           "Census Tract 2.01, New York County, New York"
          ],
          [
           36081004200,
           6,
           "Census Tract 42, Queens County, New York"
          ],
          [
           36047022700,
           29,
           "Census Tract 227, Kings County, New York"
          ],
          [
           36061007800,
           19,
           "Census Tract 78, New York County, New York"
          ],
          [
           36005033201,
           16,
           "Census Tract 332.01, Bronx County, New York"
          ],
          [
           36047041600,
           7,
           "Census Tract 416, Kings County, New York"
          ],
          [
           36005015500,
           9,
           "Census Tract 155, Bronx County, New York"
          ],
          [
           36047077400,
           10,
           "Census Tract 774, Kings County, New York"
          ],
          [
           36047050900,
           5,
           "Census Tract 509, Kings County, New York"
          ],
          [
           36047016200,
           9,
           "Census Tract 162, Kings County, New York"
          ],
          [
           36081116700,
           5,
           "Census Tract 1167, Queens County, New York"
          ],
          [
           36081010800,
           7,
           "Census Tract 108, Queens County, New York"
          ],
          [
           36047000900,
           22,
           "Census Tract 9, Kings County, New York"
          ],
          [
           36061024301,
           8,
           "Census Tract 243.01, New York County, New York"
          ],
          [
           36081099801,
           14,
           "Census Tract 998.01, Queens County, New York"
          ],
          [
           36061001502,
           28,
           "Census Tract 15.02, New York County, New York"
          ],
          [
           36061001600,
           20,
           "Census Tract 16, New York County, New York"
          ],
          [
           36081102900,
           13,
           "Census Tract 1029, Queens County, New York"
          ],
          [
           36081028400,
           5,
           "Census Tract 284, Queens County, New York"
          ],
          [
           36081022002,
           15,
           "Census Tract 220.02, Queens County, New York"
          ],
          [
           36047018600,
           4,
           "Census Tract 186, Kings County, New York"
          ],
          [
           36047010100,
           10,
           "Census Tract 101, Kings County, New York"
          ],
          [
           36047116200,
           13,
           "Census Tract 1162, Kings County, New York"
          ],
          [
           36081035200,
           11,
           "Census Tract 352, Queens County, New York"
          ],
          [
           36047039600,
           11,
           "Census Tract 396, Kings County, New York"
          ],
          [
           36047041900,
           39,
           "Census Tract 419, Kings County, New York"
          ],
          [
           36081065702,
           2,
           "Census Tract 657.02, Queens County, New York"
          ],
          [
           36005011502,
           29,
           "Census Tract 115.02, Bronx County, New York"
          ],
          [
           36061005800,
           36,
           "Census Tract 58, New York County, New York"
          ],
          [
           36005030000,
           26,
           "Census Tract 300, Bronx County, New York"
          ],
          [
           36081139900,
           5,
           "Census Tract 1399, Queens County, New York"
          ],
          [
           36047041800,
           5,
           "Census Tract 418, Kings County, New York"
          ],
          [
           36081016900,
           24,
           "Census Tract 169, Queens County, New York"
          ],
          [
           36081024900,
           2,
           "Census Tract 249, Queens County, New York"
          ],
          [
           36081009900,
           7,
           null
          ],
          [
           36047024200,
           6,
           "Census Tract 242, Kings County, New York"
          ],
          [
           6037207400,
           28,
           null
          ],
          [
           36081155102,
           22,
           "Census Tract 1551.02, Queens County, New York"
          ],
          [
           36081019400,
           5,
           "Census Tract 194, Queens County, New York"
          ],
          [
           36081146300,
           13,
           "Census Tract 1463, Queens County, New York"
          ],
          [
           36061011800,
           39,
           "Census Tract 118, New York County, New York"
          ],
          [
           36081040200,
           8,
           "Census Tract 402, Queens County, New York"
          ],
          [
           36061012500,
           7,
           "Census Tract 125, New York County, New York"
          ],
          [
           36047036501,
           15,
           "Census Tract 365.01, Kings County, New York"
          ],
          [
           36081085300,
           14,
           "Census Tract 853, Queens County, New York"
          ],
          [
           36005031200,
           23,
           "Census Tract 312, Bronx County, New York"
          ],
          [
           36047020100,
           10,
           "Census Tract 201, Kings County, New York"
          ],
          [
           36081156700,
           3,
           "Census Tract 1567, Queens County, New York"
          ],
          [
           36005029301,
           15,
           "Census Tract 293.01, Bronx County, New York"
          ],
          [
           36081023500,
           28,
           "Census Tract 235, Queens County, New York"
          ],
          [
           36061012600,
           57,
           "Census Tract 126, New York County, New York"
          ],
          [
           36005044901,
           10,
           "Census Tract 449.01, Bronx County, New York"
          ],
          [
           36047090600,
           18,
           "Census Tract 906, Kings County, New York"
          ],
          [
           36047086200,
           13,
           "Census Tract 862, Kings County, New York"
          ],
          [
           36081099701,
           14,
           "Census Tract 997.01, Queens County, New York"
          ],
          [
           36061029100,
           29,
           "Census Tract 291, New York County, New York"
          ],
          [
           36061004800,
           40,
           "Census Tract 48, New York County, New York"
          ],
          [
           36081103300,
           20,
           "Census Tract 1033, Queens County, New York"
          ],
          [
           36005016900,
           18,
           "Census Tract 169, Bronx County, New York"
          ],
          [
           36061005600,
           18,
           "Census Tract 56, New York County, New York"
          ],
          [
           36081066400,
           31,
           "Census Tract 664, Queens County, New York"
          ],
          [
           36085003600,
           11,
           "Census Tract 36, Richmond County, New York"
          ],
          [
           36047055800,
           5,
           "Census Tract 558, Kings County, New York"
          ],
          [
           36005004200,
           58,
           "Census Tract 42, Bronx County, New York"
          ],
          [
           36005036501,
           9,
           "Census Tract 365.01, Bronx County, New York"
          ],
          [
           36081010701,
           8,
           null
          ],
          [
           36085023900,
           6,
           "Census Tract 239, Richmond County, New York"
          ],
          [
           36005011900,
           36,
           "Census Tract 119, Bronx County, New York"
          ],
          [
           36005014900,
           40,
           "Census Tract 149, Bronx County, New York"
          ],
          [
           36047115000,
           9,
           "Census Tract 1150, Kings County, New York"
          ],
          [
           36047055700,
           12,
           "Census Tract 557, Kings County, New York"
          ],
          [
           36081017600,
           5,
           "Census Tract 176, Queens County, New York"
          ],
          [
           36061009700,
           27,
           "Census Tract 97, New York County, New York"
          ],
          [
           36081157101,
           26,
           "Census Tract 1571.01, Queens County, New York"
          ],
          [
           36047021200,
           5,
           "Census Tract 212, Kings County, New York"
          ],
          [
           36061025900,
           67,
           "Census Tract 259, New York County, New York"
          ],
          [
           36047036502,
           5,
           "Census Tract 365.02, Kings County, New York"
          ],
          [
           36047112000,
           10,
           "Census Tract 1120, Kings County, New York"
          ],
          [
           36047006700,
           21,
           "Census Tract 67, Kings County, New York"
          ],
          [
           36081119100,
           4,
           "Census Tract 1191, Queens County, New York"
          ],
          [
           36081010100,
           13,
           "Census Tract 101, Queens County, New York"
          ],
          [
           36047043800,
           5,
           "Census Tract 438, Kings County, New York"
          ],
          [
           36047040300,
           19,
           "Census Tract 403, Kings County, New York"
          ],
          [
           36061029700,
           14,
           null
          ],
          [
           36081035700,
           8,
           "Census Tract 357, Queens County, New York"
          ],
          [
           36081097203,
           27,
           "Census Tract 972.03, Queens County, New York"
          ],
          [
           36005040400,
           44,
           "Census Tract 404, Bronx County, New York"
          ],
          [
           36081053900,
           16,
           "Census Tract 539, Queens County, New York"
          ],
          [
           36005027300,
           39,
           "Census Tract 273, Bronx County, New York"
          ],
          [
           36047044600,
           14,
           "Census Tract 446, Kings County, New York"
          ],
          [
           36047111600,
           31,
           "Census Tract 1116, Kings County, New York"
          ],
          [
           36005038302,
           49,
           "Census Tract 383.02, Bronx County, New York"
          ],
          [
           36081024500,
           10,
           "Census Tract 245, Queens County, New York"
          ],
          [
           36047049400,
           16,
           "Census Tract 494, Kings County, New York"
          ],
          [
           36047092200,
           6,
           "Census Tract 922, Kings County, New York"
          ],
          [
           36005006300,
           38,
           "Census Tract 63, Bronx County, New York"
          ],
          [
           36005007100,
           21,
           "Census Tract 71, Bronx County, New York"
          ],
          [
           36047065200,
           7,
           "Census Tract 652, Kings County, New York"
          ],
          [
           36047019800,
           6,
           "Census Tract 198, Kings County, New York"
          ],
          [
           36081018600,
           7,
           "Census Tract 186, Queens County, New York"
          ],
          [
           36081120500,
           3,
           "Census Tract 1205, Queens County, New York"
          ],
          [
           36081047500,
           2,
           "Census Tract 475, Queens County, New York"
          ],
          [
           36085020100,
           12,
           "Census Tract 201, Richmond County, New York"
          ],
          [
           36047067800,
           8,
           "Census Tract 678, Kings County, New York"
          ],
          [
           36081061601,
           7,
           "Census Tract 616.01, Queens County, New York"
          ],
          [
           36047116600,
           9,
           "Census Tract 1166, Kings County, New York"
          ],
          [
           36047099000,
           19,
           "Census Tract 990, Kings County, New York"
          ],
          [
           36005026602,
           20,
           "Census Tract 266.02, Bronx County, New York"
          ],
          [
           36081157902,
           32,
           "Census Tract 1579.02, Queens County, New York"
          ],
          [
           36047028600,
           4,
           "Census Tract 286, Kings County, New York"
          ],
          [
           36081046200,
           35,
           "Census Tract 462, Queens County, New York"
          ],
          [
           36061020701,
           4,
           "Census Tract 207.01, New York County, New York"
          ],
          [
           36081097300,
           21,
           "Census Tract 973, Queens County, New York"
          ],
          [
           36047013100,
           9,
           "Census Tract 131, Kings County, New York"
          ],
          [
           36047007600,
           15,
           "Census Tract 76, Kings County, New York"
          ],
          [
           36081118500,
           3,
           "Census Tract 1185, Queens County, New York"
          ],
          [
           36005016600,
           6,
           "Census Tract 166, Bronx County, New York"
          ],
          [
           36081079200,
           9,
           "Census Tract 792, Queens County, New York"
          ],
          [
           36061015601,
           18,
           "Census Tract 156.01, New York County, New York"
          ],
          [
           36085014607,
           11,
           "Census Tract 146.07, Richmond County, New York"
          ],
          [
           36047095400,
           9,
           "Census Tract 954, Kings County, New York"
          ],
          [
           36005024300,
           15,
           "Census Tract 243, Bronx County, New York"
          ],
          [
           36081014000,
           14,
           "Census Tract 140, Queens County, New York"
          ],
          [
           36081010000,
           15,
           "Census Tract 100, Queens County, New York"
          ],
          [
           36005024600,
           13,
           "Census Tract 246, Bronx County, New York"
          ],
          [
           36061014900,
           14,
           "Census Tract 149, New York County, New York"
          ],
          [
           36047038500,
           23,
           "Census Tract 385, Kings County, New York"
          ],
          [
           36085017010,
           25,
           "Census Tract 170.10, Richmond County, New York"
          ],
          [
           36047050000,
           3,
           "Census Tract 500, Kings County, New York"
          ],
          [
           36047043500,
           24,
           "Census Tract 435, Kings County, New York"
          ],
          [
           36047019300,
           35,
           "Census Tract 193, Kings County, New York"
          ],
          [
           36005035600,
           14,
           "Census Tract 356, Bronx County, New York"
          ],
          [
           36061029300,
           41,
           "Census Tract 293, New York County, New York"
          ],
          [
           36005018400,
           13,
           "Census Tract 184, Bronx County, New York"
          ],
          [
           36047113200,
           17,
           "Census Tract 1132, Kings County, New York"
          ],
          [
           36081044302,
           4,
           "Census Tract 443.02, Queens County, New York"
          ],
          [
           36047050202,
           9,
           "Census Tract 502.02, Kings County, New York"
          ],
          [
           36061013900,
           62,
           "Census Tract 139, New York County, New York"
          ],
          [
           36047022400,
           7,
           "Census Tract 224, Kings County, New York"
          ],
          [
           36081077907,
           26,
           "Census Tract 779.07, Queens County, New York"
          ],
          [
           36061009400,
           21,
           "Census Tract 94, New York County, New York"
          ],
          [
           36047012902,
           19,
           "Census Tract 129.02, Kings County, New York"
          ],
          [
           36047069000,
           10,
           "Census Tract 690, Kings County, New York"
          ],
          [
           36061006200,
           15,
           "Census Tract 62, New York County, New York"
          ],
          [
           36081054500,
           4,
           "Census Tract 545, Queens County, New York"
          ],
          [
           36005041400,
           37,
           "Census Tract 414, Bronx County, New York"
          ],
          [
           36081079702,
           4,
           "Census Tract 797.02, Queens County, New York"
          ],
          [
           36005027402,
           12,
           "Census Tract 274.02, Bronx County, New York"
          ],
          [
           36005023501,
           11,
           "Census Tract 235.01, Bronx County, New York"
          ],
          [
           36005033400,
           17,
           "Census Tract 334, Bronx County, New York"
          ],
          [
           36047030600,
           5,
           "Census Tract 306, Kings County, New York"
          ],
          [
           36005024800,
           10,
           "Census Tract 248, Bronx County, New York"
          ],
          [
           36081144100,
           21,
           "Census Tract 1441, Queens County, New York"
          ],
          [
           36047028400,
           7,
           "Census Tract 284, Kings County, New York"
          ],
          [
           36005017901,
           15,
           "Census Tract 179.01, Bronx County, New York"
          ],
          [
           36047150200,
           13,
           "Census Tract 1502, Kings County, New York"
          ],
          [
           36061011201,
           8,
           "Census Tract 112.01, New York County, New York"
          ],
          [
           36047081400,
           4,
           "Census Tract 814, Kings County, New York"
          ],
          [
           36081003700,
           10,
           "Census Tract 37, Queens County, New York"
          ],
          [
           36047050500,
           13,
           "Census Tract 505, Kings County, New York"
          ],
          [
           36005033800,
           17,
           "Census Tract 338, Bronx County, New York"
          ],
          [
           36081008800,
           16,
           "Census Tract 88, Queens County, New York"
          ],
          [
           36047020000,
           6,
           "Census Tract 200, Kings County, New York"
          ],
          [
           36081029400,
           29,
           "Census Tract 294, Queens County, New York"
          ],
          [
           36081141700,
           13,
           "Census Tract 1417, Queens County, New York"
          ],
          [
           36047066600,
           7,
           null
          ],
          [
           36047017100,
           10,
           "Census Tract 171, Kings County, New York"
          ],
          [
           36085024401,
           14,
           "Census Tract 244.01, Richmond County, New York"
          ],
          [
           36047021600,
           2,
           "Census Tract 216, Kings County, New York"
          ],
          [
           36047054200,
           4,
           "Census Tract 542, Kings County, New York"
          ],
          [
           36047023300,
           24,
           "Census Tract 233, Kings County, New York"
          ],
          [
           36081036300,
           3,
           "Census Tract 363, Queens County, New York"
          ],
          [
           36081147100,
           16,
           "Census Tract 1471, Queens County, New York"
          ],
          [
           36081109300,
           14,
           "Census Tract 1093, Queens County, New York"
          ],
          [
           36081052500,
           2,
           "Census Tract 525, Queens County, New York"
          ],
          [
           36081040400,
           6,
           "Census Tract 404, Queens County, New York"
          ],
          [
           36005013200,
           24,
           "Census Tract 132, Bronx County, New York"
          ],
          [
           36047117202,
           16,
           "Census Tract 1172.02, Kings County, New York"
          ],
          [
           36047005000,
           14,
           "Census Tract 50, Kings County, New York"
          ],
          [
           36047008400,
           15,
           "Census Tract 84, Kings County, New York"
          ],
          [
           36081152902,
           11,
           "Census Tract 1529.02, Queens County, New York"
          ],
          [
           36047044800,
           9,
           "Census Tract 448, Kings County, New York"
          ],
          [
           36061011700,
           11,
           "Census Tract 117, New York County, New York"
          ],
          [
           36081027700,
           30,
           "Census Tract 277, Queens County, New York"
          ],
          [
           36047024800,
           6,
           "Census Tract 248, Kings County, New York"
          ],
          [
           36061016300,
           31,
           "Census Tract 163, New York County, New York"
          ],
          [
           36081001800,
           10,
           "Census Tract 18, Queens County, New York"
          ],
          [
           36047046201,
           11,
           "Census Tract 462.01, Kings County, New York"
          ],
          [
           36061018200,
           43,
           "Census Tract 182, New York County, New York"
          ],
          [
           36081000400,
           12,
           "Census Tract 4, Queens County, New York"
          ],
          [
           36047031702,
           13,
           "Census Tract 317.02, Kings County, New York"
          ],
          [
           36005042800,
           21,
           "Census Tract 428, Bronx County, New York"
          ],
          [
           36085015100,
           10,
           "Census Tract 151, Richmond County, New York"
          ],
          [
           36047101000,
           6,
           "Census Tract 1010, Kings County, New York"
          ],
          [
           36005027600,
           11,
           null
          ],
          [
           36005026601,
           5,
           "Census Tract 266.01, Bronx County, New York"
          ],
          [
           36081033900,
           16,
           "Census Tract 339, Queens County, New York"
          ],
          [
           36081075701,
           8,
           "Census Tract 757.01, Queens County, New York"
          ],
          [
           36005018101,
           23,
           "Census Tract 181.01, Bronx County, New York"
          ],
          [
           36081069400,
           12,
           "Census Tract 694, Queens County, New York"
          ],
          [
           36047001800,
           8,
           "Census Tract 18, Kings County, New York"
          ],
          [
           36047039200,
           14,
           "Census Tract 392, Kings County, New York"
          ],
          [
           36081050500,
           2,
           "Census Tract 505, Queens County, New York"
          ],
          [
           36047002300,
           28,
           "Census Tract 23, Kings County, New York"
          ],
          [
           36047019500,
           26,
           "Census Tract 195, Kings County, New York"
          ],
          [
           36047051001,
           10,
           "Census Tract 510.01, Kings County, New York"
          ],
          [
           36081006202,
           28,
           "Census Tract 62.02, Queens County, New York"
          ],
          [
           36081011700,
           8,
           "Census Tract 117, Queens County, New York"
          ],
          [
           36047119600,
           8,
           "Census Tract 1196, Kings County, New York"
          ],
          [
           36047029900,
           41,
           "Census Tract 299, Kings County, New York"
          ],
          [
           36047028100,
           6,
           "Census Tract 281, Kings County, New York"
          ],
          [
           36047112200,
           23,
           "Census Tract 1122, Kings County, New York"
          ],
          [
           36047054300,
           21,
           "Census Tract 543, Kings County, New York"
          ],
          [
           36047088800,
           10,
           "Census Tract 888, Kings County, New York"
          ],
          [
           36081003600,
           4,
           "Census Tract 36, Queens County, New York"
          ],
          [
           36081048400,
           5,
           "Census Tract 484, Queens County, New York"
          ],
          [
           36081048100,
           4,
           "Census Tract 481, Queens County, New York"
          ],
          [
           36047042400,
           6,
           "Census Tract 424, Kings County, New York"
          ],
          [
           36085017009,
           13,
           "Census Tract 170.09, Richmond County, New York"
          ],
          [
           36047029400,
           24,
           "Census Tract 294, Kings County, New York"
          ],
          [
           36081019000,
           4,
           "Census Tract 190, Queens County, New York"
          ],
          [
           36047065400,
           2,
           "Census Tract 654, Kings County, New York"
          ],
          [
           36061019300,
           15,
           "Census Tract 193, New York County, New York"
          ],
          [
           36061010601,
           5,
           "Census Tract 106.01, New York County, New York"
          ],
          [
           36081046000,
           21,
           "Census Tract 460, Queens County, New York"
          ],
          [
           36081150701,
           21,
           "Census Tract 1507.01, Queens County, New York"
          ],
          [
           36047050600,
           16,
           "Census Tract 506, Kings County, New York"
          ],
          [
           36061014200,
           13,
           "Census Tract 142, New York County, New York"
          ],
          [
           36005028800,
           4,
           "Census Tract 288, Bronx County, New York"
          ],
          [
           36081051100,
           4,
           "Census Tract 511, Queens County, New York"
          ],
          [
           36047121000,
           30,
           "Census Tract 1210, Kings County, New York"
          ],
          [
           36081061301,
           7,
           "Census Tract 613.01, Queens County, New York"
          ],
          [
           36047117602,
           8,
           "Census Tract 1176.02, Kings County, New York"
          ],
          [
           36081048500,
           7,
           "Census Tract 485, Queens County, New York"
          ],
          [
           36047013500,
           11,
           "Census Tract 135, Kings County, New York"
          ],
          [
           36081009700,
           6,
           "Census Tract 97, Queens County, New York"
          ],
          [
           36081124100,
           24,
           "Census Tract 1241, Queens County, New York"
          ],
          [
           36005000400,
           18,
           "Census Tract 4, Bronx County, New York"
          ],
          [
           36085024700,
           10,
           "Census Tract 247, Richmond County, New York"
          ],
          [
           36061025500,
           15,
           "Census Tract 255, New York County, New York"
          ],
          [
           36047035602,
           4,
           "Census Tract 356.02, Kings County, New York"
          ],
          [
           36047062600,
           11,
           "Census Tract 626, Kings County, New York"
          ],
          [
           36005006500,
           16,
           "Census Tract 65, Bronx County, New York"
          ],
          [
           36047038800,
           15,
           "Census Tract 388, Kings County, New York"
          ],
          [
           36047061200,
           9,
           "Census Tract 612, Kings County, New York"
          ],
          [
           36047119800,
           17,
           "Census Tract 1198, Kings County, New York"
          ],
          [
           36047003900,
           21,
           "Census Tract 39, Kings County, New York"
          ],
          [
           36047000301,
           6,
           "Census Tract 3.01, Kings County, New York"
          ],
          [
           36047040600,
           9,
           "Census Tract 406, Kings County, New York"
          ],
          [
           36047082800,
           7,
           "Census Tract 828, Kings County, New York"
          ],
          [
           36081002400,
           7,
           "Census Tract 24, Queens County, New York"
          ],
          [
           36081162100,
           19,
           "Census Tract 1621, Queens County, New York"
          ],
          [
           36081046700,
           8,
           "Census Tract 467, Queens County, New York"
          ],
          [
           36081063800,
           10,
           "Census Tract 638, Queens County, New York"
          ],
          [
           36005012500,
           24,
           "Census Tract 125, Bronx County, New York"
          ],
          [
           36005008700,
           16,
           "Census Tract 87, Bronx County, New York"
          ],
          [
           36081076902,
           4,
           "Census Tract 769.02, Queens County, New York"
          ],
          [
           36047065800,
           3,
           "Census Tract 658, Kings County, New York"
          ],
          [
           36047030200,
           3,
           "Census Tract 302, Kings County, New York"
          ],
          [
           36081065000,
           3,
           "Census Tract 650, Queens County, New York"
          ],
          [
           36005020200,
           20,
           "Census Tract 202, Bronx County, New York"
          ],
          [
           36047107800,
           13,
           "Census Tract 1078, Kings County, New York"
          ],
          [
           36085009602,
           14,
           "Census Tract 96.02, Richmond County, New York"
          ],
          [
           36005033202,
           20,
           "Census Tract 332.02, Bronx County, New York"
          ],
          [
           36081145900,
           8,
           "Census Tract 1459, Queens County, New York"
          ],
          [
           36047076800,
           3,
           "Census Tract 768, Kings County, New York"
          ],
          [
           36005027700,
           61,
           "Census Tract 277, Bronx County, New York"
          ],
          [
           36047052900,
           8,
           "Census Tract 529, Kings County, New York"
          ],
          [
           36081027900,
           10,
           "Census Tract 279, Queens County, New York"
          ],
          [
           36081036700,
           5,
           "Census Tract 367, Queens County, New York"
          ],
          [
           36047073200,
           4,
           "Census Tract 732, Kings County, New York"
          ],
          [
           36081020400,
           8,
           "Census Tract 204, Queens County, New York"
          ],
          [
           36047054600,
           6,
           "Census Tract 546, Kings County, New York"
          ],
          [
           36081099100,
           7,
           "Census Tract 991, Queens County, New York"
          ],
          [
           36047025901,
           6,
           "Census Tract 259.01, Kings County, New York"
          ],
          [
           36005019400,
           6,
           "Census Tract 194, Bronx County, New York"
          ],
          [
           36047031701,
           12,
           "Census Tract 317.01, Kings County, New York"
          ],
          [
           36047014500,
           7,
           "Census Tract 145, Kings County, New York"
          ],
          [
           36005016300,
           34,
           "Census Tract 163, Bronx County, New York"
          ],
          [
           36081029700,
           11,
           "Census Tract 297, Queens County, New York"
          ],
          [
           36047019600,
           7,
           "Census Tract 196, Kings County, New York"
          ],
          [
           36047064200,
           7,
           "Census Tract 642, Kings County, New York"
          ],
          [
           36047054400,
           4,
           "Census Tract 544, Kings County, New York"
          ],
          [
           36047003700,
           15,
           "Census Tract 37, Kings County, New York"
          ],
          [
           36047102200,
           16,
           "Census Tract 1022, Kings County, New York"
          ],
          [
           36047030400,
           5,
           "Census Tract 304, Kings County, New York"
          ],
          [
           36081073900,
           13,
           "Census Tract 739, Queens County, New York"
          ],
          [
           36085017011,
           5,
           "Census Tract 170.11, Richmond County, New York"
          ],
          [
           36047007200,
           8,
           "Census Tract 72, Kings County, New York"
          ],
          [
           36047095000,
           10,
           "Census Tract 950, Kings County, New York"
          ],
          [
           36085024800,
           14,
           "Census Tract 248, Richmond County, New York"
          ],
          [
           36005040900,
           13,
           "Census Tract 409, Bronx County, New York"
          ],
          [
           36005016400,
           4,
           "Census Tract 164, Bronx County, New York"
          ],
          [
           36081064600,
           9,
           "Census Tract 646, Queens County, New York"
          ],
          [
           36047007700,
           9,
           "Census Tract 77, Kings County, New York"
          ],
          [
           36047114202,
           10,
           "Census Tract 1142.02, Kings County, New York"
          ],
          [
           36081038302,
           7,
           "Census Tract 383.02, Queens County, New York"
          ],
          [
           36047060800,
           11,
           "Census Tract 608, Kings County, New York"
          ],
          [
           36081012200,
           4,
           "Census Tract 122, Queens County, New York"
          ],
          [
           36047017900,
           30,
           "Census Tract 179, Kings County, New York"
          ],
          [
           36119001502,
           2,
           "Census Tract 15.02, Westchester County, New York"
          ],
          [
           36005028700,
           28,
           "Census Tract 287, Bronx County, New York"
          ],
          [
           36047102600,
           5,
           "Census Tract 1026, Kings County, New York"
          ],
          [
           36047001300,
           5,
           "Census Tract 13, Kings County, New York"
          ],
          [
           36081115900,
           10,
           "Census Tract 1159, Queens County, New York"
          ],
          [
           36047027500,
           10,
           "Census Tract 275, Kings County, New York"
          ],
          [
           36061010400,
           2,
           "Census Tract 104, New York County, New York"
          ],
          [
           36081026300,
           9,
           "Census Tract 263, Queens County, New York"
          ],
          [
           36005042000,
           21,
           "Census Tract 420, Bronx County, New York"
          ],
          [
           36047083200,
           9,
           "Census Tract 832, Kings County, New York"
          ],
          [
           36047081600,
           11,
           "Census Tract 816, Kings County, New York"
          ],
          [
           36081007100,
           25,
           "Census Tract 71, Queens County, New York"
          ],
          [
           36081072100,
           10,
           "Census Tract 721, Queens County, New York"
          ],
          [
           36005036902,
           10,
           "Census Tract 369.02, Bronx County, New York"
          ],
          [
           36081028500,
           18,
           "Census Tract 285, Queens County, New York"
          ],
          [
           36081064102,
           6,
           "Census Tract 641.02, Queens County, New York"
          ],
          [
           36061003601,
           28,
           "Census Tract 36.01, New York County, New York"
          ],
          [
           36081050000,
           14,
           "Census Tract 500, Queens County, New York"
          ],
          [
           36005007000,
           12,
           "Census Tract 70, Bronx County, New York"
          ],
          [
           36047055400,
           5,
           "Census Tract 554, Kings County, New York"
          ],
          [
           36081067900,
           8,
           "Census Tract 679, Queens County, New York"
          ],
          [
           36081051500,
           9,
           "Census Tract 515, Queens County, New York"
          ],
          [
           36047094402,
           17,
           "Census Tract 944.02, Kings County, New York"
          ],
          [
           36005035100,
           10,
           "Census Tract 351, Bronx County, New York"
          ],
          [
           36085009700,
           9,
           "Census Tract 97, Richmond County, New York"
          ],
          [
           36081109900,
           3,
           "Census Tract 1099, Queens County, New York"
          ],
          [
           36061005700,
           6,
           "Census Tract 57, New York County, New York"
          ],
          [
           36047009200,
           9,
           "Census Tract 92, Kings County, New York"
          ],
          [
           36047004600,
           5,
           "Census Tract 46, Kings County, New York"
          ],
          [
           36081147900,
           20,
           "Census Tract 1479, Queens County, New York"
          ],
          [
           36081015900,
           6,
           "Census Tract 159, Queens County, New York"
          ],
          [
           36005007600,
           23,
           "Census Tract 76, Bronx County, New York"
          ],
          [
           36005024700,
           16,
           "Census Tract 247, Bronx County, New York"
          ],
          [
           36047084000,
           9,
           "Census Tract 840, Kings County, New York"
          ],
          [
           36081008100,
           7,
           "Census Tract 81, Queens County, New York"
          ],
          [
           36061009000,
           14,
           "Census Tract 90, New York County, New York"
          ],
          [
           36061014802,
           13,
           "Census Tract 148.02, New York County, New York"
          ],
          [
           36047033600,
           9,
           "Census Tract 336, Kings County, New York"
          ],
          [
           36047072800,
           3,
           "Census Tract 728, Kings County, New York"
          ],
          [
           36081066900,
           7,
           "Census Tract 669, Queens County, New York"
          ],
          [
           36085027301,
           8,
           "Census Tract 273.01, Richmond County, New York"
          ],
          [
           36081129103,
           9,
           "Census Tract 1291.03, Queens County, New York"
          ],
          [
           36047006800,
           22,
           "Census Tract 68, Kings County, New York"
          ],
          [
           36081016800,
           6,
           "Census Tract 168, Queens County, New York"
          ],
          [
           36047039300,
           10,
           "Census Tract 393, Kings County, New York"
          ],
          [
           36081046100,
           2,
           "Census Tract 461, Queens County, New York"
          ],
          [
           36081037600,
           5,
           "Census Tract 376, Queens County, New York"
          ],
          [
           36081037100,
           8,
           "Census Tract 371, Queens County, New York"
          ],
          [
           36047012600,
           10,
           "Census Tract 126, Kings County, New York"
          ],
          [
           36061007600,
           13,
           "Census Tract 76, New York County, New York"
          ],
          [
           36081062100,
           5,
           "Census Tract 621, Queens County, New York"
          ],
          [
           36005027401,
           9,
           "Census Tract 274.01, Bronx County, New York"
          ],
          [
           36081013700,
           5,
           "Census Tract 137, Queens County, New York"
          ],
          [
           36081037300,
           2,
           "Census Tract 373, Queens County, New York"
          ],
          [
           36047006000,
           6,
           "Census Tract 60, Kings County, New York"
          ],
          [
           36081017800,
           3,
           "Census Tract 178, Queens County, New York"
          ],
          [
           36061020500,
           5,
           "Census Tract 205, New York County, New York"
          ],
          [
           36085021300,
           11,
           "Census Tract 213, Richmond County, New York"
          ],
          [
           36047042300,
           17,
           "Census Tract 423, Kings County, New York"
          ],
          [
           36081030904,
           5,
           "Census Tract 309.04, Queens County, New York"
          ],
          [
           36061000500,
           2,
           null
          ],
          [
           36047093200,
           6,
           "Census Tract 932, Kings County, New York"
          ],
          [
           36047040800,
           4,
           "Census Tract 408, Kings County, New York"
          ],
          [
           36061019800,
           19,
           "Census Tract 198, New York County, New York"
          ],
          [
           36081007500,
           17,
           "Census Tract 75, Queens County, New York"
          ],
          [
           36005026500,
           28,
           "Census Tract 265, Bronx County, New York"
          ],
          [
           36081002600,
           8,
           "Census Tract 26, Queens County, New York"
          ],
          [
           36081053200,
           3,
           "Census Tract 532, Queens County, New York"
          ],
          [
           36005002702,
           10,
           "Census Tract 27.02, Bronx County, New York"
          ],
          [
           36061001401,
           13,
           "Census Tract 14.01, New York County, New York"
          ],
          [
           36081103202,
           26,
           "Census Tract 1032.02, Queens County, New York"
          ],
          [
           36061005900,
           16,
           "Census Tract 59, New York County, New York"
          ],
          [
           36085029103,
           13,
           "Census Tract 291.03, Richmond County, New York"
          ],
          [
           36047083600,
           6,
           "Census Tract 836, Kings County, New York"
          ],
          [
           36061028300,
           19,
           "Census Tract 283, New York County, New York"
          ],
          [
           36005036000,
           12,
           "Census Tract 360, Bronx County, New York"
          ],
          [
           36047012901,
           5,
           "Census Tract 129.01, Kings County, New York"
          ],
          [
           36081008300,
           14,
           "Census Tract 83, Queens County, New York"
          ],
          [
           36047096800,
           8,
           "Census Tract 968, Kings County, New York"
          ],
          [
           36047069800,
           6,
           "Census Tract 698, Kings County, New York"
          ],
          [
           36047012100,
           4,
           "Census Tract 121, Kings County, New York"
          ],
          [
           36005008400,
           14,
           "Census Tract 84, Bronx County, New York"
          ],
          [
           36081050201,
           2,
           "Census Tract 502.01, Queens County, New York"
          ],
          [
           36047055600,
           5,
           "Census Tract 556, Kings County, New York"
          ],
          [
           36005022800,
           18,
           "Census Tract 228, Bronx County, New York"
          ],
          [
           36047038600,
           6,
           "Census Tract 386, Kings County, New York"
          ],
          [
           36081011300,
           7,
           "Census Tract 113, Queens County, New York"
          ],
          [
           36047029000,
           3,
           "Census Tract 290, Kings County, New York"
          ],
          [
           36081050400,
           5,
           "Census Tract 504, Queens County, New York"
          ],
          [
           36085031902,
           16,
           "Census Tract 319.02, Richmond County, New York"
          ],
          [
           36081018501,
           6,
           "Census Tract 185.01, Queens County, New York"
          ],
          [
           36085013800,
           36,
           "Census Tract 138, Richmond County, New York"
          ],
          [
           36047099800,
           7,
           "Census Tract 998, Kings County, New York"
          ],
          [
           36081056400,
           4,
           "Census Tract 564, Queens County, New York"
          ],
          [
           36047003000,
           13,
           "Census Tract 30, Kings County, New York"
          ],
          [
           36005016000,
           12,
           "Census Tract 160, Bronx County, New York"
          ],
          [
           36047010200,
           9,
           "Census Tract 102, Kings County, New York"
          ],
          [
           36081005400,
           7,
           "Census Tract 54, Queens County, New York"
          ],
          [
           36047117400,
           8,
           "Census Tract 1174, Kings County, New York"
          ],
          [
           36081059500,
           19,
           "Census Tract 595, Queens County, New York"
          ],
          [
           36081006100,
           18,
           "Census Tract 61, Queens County, New York"
          ],
          [
           36047045300,
           12,
           "Census Tract 453, Kings County, New York"
          ],
          [
           36047015200,
           4,
           "Census Tract 152, Kings County, New York"
          ],
          [
           36081118900,
           7,
           "Census Tract 1189, Queens County, New York"
          ],
          [
           36081070900,
           5,
           "Census Tract 709, Queens County, New York"
          ],
          [
           36081093800,
           20,
           "Census Tract 938, Queens County, New York"
          ],
          [
           36081083700,
           9,
           "Census Tract 837, Queens County, New York"
          ],
          [
           36081033000,
           17,
           "Census Tract 330, Queens County, New York"
          ],
          [
           36085020804,
           13,
           "Census Tract 208.04, Richmond County, New York"
          ],
          [
           36005021200,
           3,
           "Census Tract 212, Bronx County, New York"
          ],
          [
           36047029100,
           10,
           "Census Tract 291, Kings County, New York"
          ],
          [
           36047028200,
           7,
           "Census Tract 282, Kings County, New York"
          ],
          [
           36047077000,
           32,
           "Census Tract 770, Kings County, New York"
          ],
          [
           36081010200,
           5,
           "Census Tract 102, Queens County, New York"
          ],
          [
           36061008800,
           9,
           "Census Tract 88, New York County, New York"
          ],
          [
           36081012400,
           9,
           "Census Tract 124, Queens County, New York"
          ],
          [
           36047022000,
           4,
           "Census Tract 220, Kings County, New York"
          ],
          [
           36081071701,
           5,
           "Census Tract 717.01, Queens County, New York"
          ],
          [
           36081062700,
           6,
           "Census Tract 627, Queens County, New York"
          ],
          [
           36047101200,
           9,
           "Census Tract 1012, Kings County, New York"
          ],
          [
           36047091600,
           18,
           "Census Tract 916, Kings County, New York"
          ],
          [
           36047112800,
           10,
           "Census Tract 1128, Kings County, New York"
          ],
          [
           36081049301,
           5,
           "Census Tract 493.01, Queens County, New York"
          ],
          [
           36047048400,
           4,
           "Census Tract 484, Kings County, New York"
          ],
          [
           36085014700,
           5,
           "Census Tract 147, Richmond County, New York"
          ],
          [
           36081127700,
           24,
           "Census Tract 1277, Queens County, New York"
          ],
          [
           36081041100,
           7,
           "Census Tract 411, Queens County, New York"
          ],
          [
           36081065501,
           4,
           null
          ],
          [
           36081105900,
           10,
           "Census Tract 1059, Queens County, New York"
          ],
          [
           36081040300,
           5,
           "Census Tract 403, Queens County, New York"
          ],
          [
           36047079000,
           12,
           "Census Tract 790, Kings County, New York"
          ],
          [
           36081055200,
           13,
           "Census Tract 552, Queens County, New York"
          ],
          [
           36081026200,
           4,
           "Census Tract 262, Queens County, New York"
          ],
          [
           36085018901,
           9,
           "Census Tract 189.01, Richmond County, New York"
          ],
          [
           36047119000,
           3,
           "Census Tract 1190, Kings County, New York"
          ],
          [
           36081157901,
           22,
           "Census Tract 1579.01, Queens County, New York"
          ],
          [
           36047099600,
           7,
           "Census Tract 996, Kings County, New York"
          ],
          [
           36047078200,
           3,
           "Census Tract 782, Kings County, New York"
          ],
          [
           36047029200,
           8,
           "Census Tract 292, Kings County, New York"
          ],
          [
           36005032600,
           12,
           "Census Tract 326, Bronx County, New York"
          ],
          [
           36081063900,
           4,
           "Census Tract 639, Queens County, New York"
          ],
          [
           36047019900,
           15,
           "Census Tract 199, Kings County, New York"
          ],
          [
           36047026900,
           9,
           "Census Tract 269, Kings County, New York"
          ],
          [
           36005034200,
           8,
           "Census Tract 342, Bronx County, New York"
          ],
          [
           36047006500,
           13,
           "Census Tract 65, Kings County, New York"
          ],
          [
           36081055500,
           7,
           "Census Tract 555, Queens County, New York"
          ],
          [
           36047058800,
           9,
           "Census Tract 588, Kings County, New York"
          ],
          [
           36005023000,
           20,
           "Census Tract 230, Bronx County, New York"
          ],
          [
           36005014100,
           14,
           "Census Tract 141, Bronx County, New York"
          ],
          [
           36081073700,
           10,
           "Census Tract 737, Queens County, New York"
          ],
          [
           36085001700,
           6,
           "Census Tract 17, Richmond County, New York"
          ],
          [
           36081035300,
           3,
           "Census Tract 353, Queens County, New York"
          ],
          [
           36005041300,
           26,
           "Census Tract 413, Bronx County, New York"
          ],
          [
           36061010602,
           10,
           "Census Tract 106.02, New York County, New York"
          ],
          [
           36047037300,
           11,
           "Census Tract 373, Kings County, New York"
          ],
          [
           36081050800,
           9,
           "Census Tract 508, Queens County, New York"
          ],
          [
           36005020400,
           19,
           "Census Tract 204, Bronx County, New York"
          ],
          [
           36081015400,
           13,
           "Census Tract 154, Queens County, New York"
          ],
          [
           36081069300,
           7,
           "Census Tract 693, Queens County, New York"
          ],
          [
           36081062900,
           3,
           "Census Tract 629, Queens County, New York"
          ],
          [
           36047029800,
           8,
           "Census Tract 298, Kings County, New York"
          ],
          [
           36081028700,
           12,
           "Census Tract 287, Queens County, New York"
          ],
          [
           36081054700,
           10,
           "Census Tract 547, Queens County, New York"
          ],
          [
           36081010500,
           13,
           "Census Tract 105, Queens County, New York"
          ],
          [
           36047036002,
           4,
           "Census Tract 360.02, Kings County, New York"
          ],
          [
           36047020500,
           7,
           "Census Tract 205, Kings County, New York"
          ],
          [
           36047105801,
           9,
           "Census Tract 1058.01, Kings County, New York"
          ],
          [
           36081049200,
           8,
           "Census Tract 492, Queens County, New York"
          ],
          [
           36005042400,
           21,
           "Census Tract 424, Bronx County, New York"
          ],
          [
           36047037000,
           7,
           "Census Tract 370, Kings County, New York"
          ],
          [
           36081090700,
           11,
           "Census Tract 907, Queens County, New York"
          ],
          [
           36047051601,
           23,
           "Census Tract 516.01, Kings County, New York"
          ],
          [
           36005031400,
           10,
           "Census Tract 314, Bronx County, New York"
          ],
          [
           36081079000,
           10,
           "Census Tract 790, Queens County, New York"
          ],
          [
           36047052600,
           8,
           "Census Tract 526, Kings County, New York"
          ],
          [
           36047022800,
           2,
           "Census Tract 228, Kings County, New York"
          ],
          [
           36005017100,
           5,
           null
          ],
          [
           36081014201,
           14,
           "Census Tract 142.01, Queens County, New York"
          ],
          [
           36047036700,
           2,
           "Census Tract 367, Kings County, New York"
          ],
          [
           36081016600,
           6,
           "Census Tract 166, Queens County, New York"
          ],
          [
           36081120700,
           4,
           "Census Tract 1207, Queens County, New York"
          ],
          [
           36081071100,
           8,
           "Census Tract 711, Queens County, New York"
          ],
          [
           36081055100,
           10,
           "Census Tract 551, Queens County, New York"
          ],
          [
           36081099802,
           14,
           "Census Tract 998.02, Queens County, New York"
          ],
          [
           36081115500,
           14,
           "Census Tract 1155, Queens County, New York"
          ],
          [
           36047055300,
           14,
           "Census Tract 553, Kings County, New York"
          ],
          [
           36061010200,
           12,
           "Census Tract 102, New York County, New York"
          ],
          [
           36061015500,
           4,
           "Census Tract 155, New York County, New York"
          ],
          [
           36085013203,
           17,
           "Census Tract 132.03, Richmond County, New York"
          ],
          [
           36047080400,
           12,
           "Census Tract 804, Kings County, New York"
          ],
          [
           36081045000,
           3,
           "Census Tract 450, Queens County, New York"
          ],
          [
           36081157102,
           7,
           "Census Tract 1571.02, Queens County, New York"
          ],
          [
           36085013400,
           5,
           "Census Tract 134, Richmond County, New York"
          ],
          [
           36081027500,
           5,
           "Census Tract 275, Queens County, New York"
          ],
          [
           36047023000,
           6,
           "Census Tract 230, Kings County, New York"
          ],
          [
           36005040303,
           11,
           "Census Tract 403.03, Bronx County, New York"
          ],
          [
           36047056600,
           10,
           "Census Tract 566, Kings County, New York"
          ],
          [
           36005021800,
           22,
           "Census Tract 218, Bronx County, New York"
          ],
          [
           36085022800,
           7,
           "Census Tract 228, Richmond County, New York"
          ],
          [
           36081140300,
           4,
           "Census Tract 1403, Queens County, New York"
          ],
          [
           36005011800,
           10,
           "Census Tract 118, Bronx County, New York"
          ],
          [
           36047046000,
           10,
           "Census Tract 460, Kings County, New York"
          ],
          [
           36081121100,
           2,
           null
          ],
          [
           36081060100,
           2,
           "Census Tract 601, Queens County, New York"
          ],
          [
           36047026400,
           9,
           "Census Tract 264, Kings County, New York"
          ],
          [
           36081011400,
           4,
           "Census Tract 114, Queens County, New York"
          ],
          [
           36081059400,
           2,
           "Census Tract 594, Queens County, New York"
          ],
          [
           36005026400,
           7,
           "Census Tract 264, Bronx County, New York"
          ],
          [
           36061011202,
           15,
           "Census Tract 112.02, New York County, New York"
          ],
          [
           36047040100,
           10,
           "Census Tract 401, Kings County, New York"
          ],
          [
           36061011500,
           8,
           "Census Tract 115, New York County, New York"
          ],
          [
           36005026900,
           29,
           "Census Tract 269, Bronx County, New York"
          ],
          [
           36047056500,
           6,
           "Census Tract 565, Kings County, New York"
          ],
          [
           36081125700,
           5,
           "Census Tract 1257, Queens County, New York"
          ],
          [
           36047001100,
           3,
           "Census Tract 11, Kings County, New York"
          ],
          [
           36005016200,
           8,
           "Census Tract 162, Bronx County, New York"
          ],
          [
           36047074000,
           2,
           "Census Tract 740, Kings County, New York"
          ],
          [
           36047085000,
           9,
           "Census Tract 850, Kings County, New York"
          ],
          [
           36047048500,
           9,
           "Census Tract 485, Kings County, New York"
          ],
          [
           36047034800,
           13,
           "Census Tract 348, Kings County, New York"
          ],
          [
           36005012101,
           6,
           "Census Tract 121.01, Bronx County, New York"
          ],
          [
           36047086400,
           5,
           "Census Tract 864, Kings County, New York"
          ],
          [
           36081001400,
           9,
           "Census Tract 14, Queens County, New York"
          ],
          [
           36085002700,
           3,
           "Census Tract 27, Richmond County, New York"
          ],
          [
           36081071305,
           4,
           "Census Tract 713.05, Queens County, New York"
          ],
          [
           36081019600,
           3,
           "Census Tract 196, Queens County, New York"
          ],
          [
           36047010000,
           10,
           "Census Tract 100, Kings County, New York"
          ],
          [
           36061019702,
           11,
           "Census Tract 197.02, New York County, New York"
          ],
          [
           36047037401,
           2,
           "Census Tract 374.01, Kings County, New York"
          ],
          [
           36005037900,
           39,
           "Census Tract 379, Bronx County, New York"
          ],
          [
           36047027800,
           2,
           "Census Tract 278, Kings County, New York"
          ],
          [
           36047025200,
           7,
           "Census Tract 252, Kings County, New York"
          ],
          [
           36047049200,
           9,
           "Census Tract 492, Kings County, New York"
          ],
          [
           36081114100,
           5,
           "Census Tract 1141, Queens County, New York"
          ],
          [
           36047067000,
           6,
           "Census Tract 670, Kings County, New York"
          ],
          [
           36047002200,
           9,
           "Census Tract 22, Kings County, New York"
          ],
          [
           36047028800,
           4,
           "Census Tract 288, Kings County, New York"
          ],
          [
           36081129102,
           12,
           "Census Tract 1291.02, Queens County, New York"
          ],
          [
           36081061800,
           6,
           "Census Tract 618, Queens County, New York"
          ],
          [
           36047011400,
           4,
           "Census Tract 114, Kings County, New York"
          ],
          [
           36047077200,
           6,
           "Census Tract 772, Kings County, New York"
          ],
          [
           36081099200,
           9,
           "Census Tract 992, Queens County, New York"
          ],
          [
           36047010400,
           8,
           "Census Tract 104, Kings County, New York"
          ],
          [
           36047015000,
           5,
           "Census Tract 150, Kings County, New York"
          ],
          [
           36047056800,
           2,
           "Census Tract 568, Kings County, New York"
          ],
          [
           36047081800,
           11,
           "Census Tract 818, Kings County, New York"
          ],
          [
           36081041300,
           5,
           "Census Tract 413, Queens County, New York"
          ],
          [
           36061002202,
           24,
           "Census Tract 22.02, New York County, New York"
          ],
          [
           36047118202,
           8,
           "Census Tract 1182.02, Kings County, New York"
          ],
          [
           36047087200,
           11,
           "Census Tract 872, Kings County, New York"
          ],
          [
           36047067600,
           3,
           "Census Tract 676, Kings County, New York"
          ],
          [
           36085013201,
           7,
           "Census Tract 132.01, Richmond County, New York"
          ],
          [
           36081150702,
           13,
           "Census Tract 1507.02, Queens County, New York"
          ],
          [
           36061022302,
           9,
           "Census Tract 223.02, New York County, New York"
          ],
          [
           36085011402,
           5,
           "Census Tract 114.02, Richmond County, New York"
          ],
          [
           36081003800,
           2,
           "Census Tract 38, Queens County, New York"
          ],
          [
           36081142900,
           7,
           "Census Tract 1429, Queens County, New York"
          ],
          [
           36047016000,
           5,
           "Census Tract 160, Kings County, New York"
          ],
          [
           36081066000,
           8,
           "Census Tract 660, Queens County, New York"
          ],
          [
           36081030903,
           7,
           "Census Tract 309.03, Queens County, New York"
          ],
          [
           36061016001,
           5,
           "Census Tract 160.01, New York County, New York"
          ],
          [
           36047017500,
           3,
           "Census Tract 175, Kings County, New York"
          ],
          [
           36047018000,
           2,
           "Census Tract 180, Kings County, New York"
          ],
          [
           36047044300,
           13,
           "Census Tract 443, Kings County, New York"
          ],
          [
           36047015100,
           5,
           "Census Tract 151, Kings County, New York"
          ],
          [
           36047041500,
           6,
           "Census Tract 415, Kings County, New York"
          ],
          [
           36047011600,
           4,
           "Census Tract 116, Kings County, New York"
          ],
          [
           36005023600,
           14,
           "Census Tract 236, Bronx County, New York"
          ],
          [
           36081058700,
           2,
           "Census Tract 587, Queens County, New York"
          ],
          [
           36047048600,
           11,
           "Census Tract 486, Kings County, New York"
          ],
          [
           36047056000,
           8,
           "Census Tract 560, Kings County, New York"
          ],
          [
           36081014300,
           11,
           "Census Tract 143, Queens County, New York"
          ],
          [
           36047042800,
           3,
           "Census Tract 428, Kings County, New York"
          ],
          [
           36081047300,
           8,
           "Census Tract 473, Queens County, New York"
          ],
          [
           36081126500,
           6,
           "Census Tract 1265, Queens County, New York"
          ],
          [
           36005022703,
           3,
           "Census Tract 227.03, Bronx County, New York"
          ],
          [
           36047048000,
           7,
           "Census Tract 480, Kings County, New York"
          ],
          [
           36047119400,
           6,
           "Census Tract 1194, Kings County, New York"
          ],
          [
           36081026700,
           8,
           "Census Tract 267, Queens County, New York"
          ],
          [
           36081117500,
           9,
           "Census Tract 1175, Queens County, New York"
          ],
          [
           36047026600,
           12,
           "Census Tract 266, Kings County, New York"
          ],
          [
           36005016500,
           5,
           "Census Tract 165, Bronx County, New York"
          ],
          [
           36047075400,
           3,
           "Census Tract 754, Kings County, New York"
          ],
          [
           36047003400,
           10,
           "Census Tract 34, Kings County, New York"
          ],
          [
           36047074400,
           2,
           "Census Tract 744, Kings County, New York"
          ],
          [
           36081032000,
           10,
           "Census Tract 320, Queens County, New York"
          ],
          [
           36081039800,
           5,
           "Census Tract 398, Queens County, New York"
          ],
          [
           36005023100,
           4,
           "Census Tract 231, Bronx County, New York"
          ],
          [
           36081028100,
           11,
           "Census Tract 281, Queens County, New York"
          ],
          [
           36081036100,
           7,
           "Census Tract 361, Queens County, New York"
          ],
          [
           36081099703,
           7,
           "Census Tract 997.03, Queens County, New York"
          ],
          [
           36047118201,
           4,
           "Census Tract 1182.01, Kings County, New York"
          ],
          [
           36047074200,
           2,
           "Census Tract 742, Kings County, New York"
          ],
          [
           36081056500,
           5,
           "Census Tract 565, Queens County, New York"
          ],
          [
           36081039400,
           7,
           "Census Tract 394, Queens County, New York"
          ],
          [
           36047058200,
           11,
           "Census Tract 582, Kings County, New York"
          ],
          [
           36081044602,
           3,
           "Census Tract 446.02, Queens County, New York"
          ],
          [
           36081098700,
           7,
           "Census Tract 987, Queens County, New York"
          ],
          [
           36081120100,
           3,
           "Census Tract 1201, Queens County, New York"
          ],
          [
           36081081400,
           8,
           "Census Tract 814, Queens County, New York"
          ],
          [
           36047068600,
           4,
           "Census Tract 686, Kings County, New York"
          ],
          [
           36047012200,
           5,
           "Census Tract 122, Kings County, New York"
          ],
          [
           36061005501,
           8,
           "Census Tract 55.01, New York County, New York"
          ],
          [
           36047086600,
           11,
           "Census Tract 866, Kings County, New York"
          ],
          [
           36081038100,
           9,
           "Census Tract 381, Queens County, New York"
          ],
          [
           36085027704,
           8,
           "Census Tract 277.04, Richmond County, New York"
          ],
          [
           36005021501,
           6,
           "Census Tract 215.01, Bronx County, New York"
          ],
          [
           36061031704,
           4,
           "Census Tract 317.04, New York County, New York"
          ],
          [
           36081077500,
           4,
           "Census Tract 775, Queens County, New York"
          ],
          [
           36061029900,
           3,
           "Census Tract 299, New York County, New York"
          ],
          [
           36081033402,
           7,
           "Census Tract 334.02, Queens County, New York"
          ],
          [
           36005023302,
           12,
           "Census Tract 233.02, Bronx County, New York"
          ],
          [
           36061014700,
           3,
           "Census Tract 147, New York County, New York"
          ],
          [
           36047008000,
           5,
           "Census Tract 80, Kings County, New York"
          ],
          [
           36047024600,
           7,
           "Census Tract 246, Kings County, New York"
          ],
          [
           36047042600,
           6,
           "Census Tract 426, Kings County, New York"
          ],
          [
           36081013000,
           5,
           "Census Tract 130, Queens County, New York"
          ],
          [
           36047020600,
           8,
           "Census Tract 206, Kings County, New York"
          ],
          [
           36081059600,
           3,
           "Census Tract 596, Queens County, New York"
          ],
          [
           25017341300,
           3,
           null
          ],
          [
           36081045500,
           5,
           "Census Tract 455, Queens County, New York"
          ],
          [
           36085017012,
           7,
           "Census Tract 170.12, Richmond County, New York"
          ],
          [
           36081049500,
           8,
           "Census Tract 495, Queens County, New York"
          ],
          [
           36081027000,
           6,
           "Census Tract 270, Queens County, New York"
          ],
          [
           36061009600,
           4,
           "Census Tract 96, New York County, New York"
          ],
          [
           36085013204,
           4,
           "Census Tract 132.04, Richmond County, New York"
          ],
          [
           36047075000,
           8,
           "Census Tract 750, Kings County, New York"
          ],
          [
           36081031700,
           9,
           "Census Tract 317, Queens County, New York"
          ],
          [
           36047053300,
           3,
           "Census Tract 533, Kings County, New York"
          ],
          [
           36081045700,
           8,
           "Census Tract 457, Queens County, New York"
          ],
          [
           36081046600,
           5,
           "Census Tract 466, Queens County, New York"
          ],
          [
           36005024900,
           3,
           null
          ],
          [
           36081055900,
           5,
           "Census Tract 559, Queens County, New York"
          ],
          [
           36047045800,
           4,
           "Census Tract 458, Kings County, New York"
          ],
          [
           36005033500,
           16,
           "Census Tract 335, Bronx County, New York"
          ],
          [
           36085002002,
           7,
           "Census Tract 20.02, Richmond County, New York"
          ],
          [
           36081041500,
           4,
           "Census Tract 415, Queens County, New York"
          ],
          [
           36047063200,
           3,
           "Census Tract 632, Kings County, New York"
          ],
          [
           36081054000,
           7,
           "Census Tract 540, Queens County, New York"
          ],
          [
           36085000800,
           8,
           "Census Tract 8, Richmond County, New York"
          ],
          [
           36047010800,
           2,
           "Census Tract 108, Kings County, New York"
          ],
          [
           36081045400,
           7,
           "Census Tract 454, Queens County, New York"
          ],
          [
           36047006300,
           9,
           "Census Tract 63, Kings County, New York"
          ],
          [
           36081025100,
           7,
           "Census Tract 251, Queens County, New York"
          ],
          [
           36081122300,
           6,
           "Census Tract 1223, Queens County, New York"
          ],
          [
           36081113900,
           8,
           "Census Tract 1139, Queens County, New York"
          ],
          [
           36085011202,
           17,
           "Census Tract 112.02, Richmond County, New York"
          ],
          [
           36047118000,
           2,
           null
          ],
          [
           36005037600,
           6,
           "Census Tract 376, Bronx County, New York"
          ],
          [
           36047014900,
           11,
           "Census Tract 149, Kings County, New York"
          ],
          [
           36047074800,
           5,
           "Census Tract 748, Kings County, New York"
          ],
          [
           36047032300,
           2,
           "Census Tract 323, Kings County, New York"
          ],
          [
           36005045600,
           7,
           "Census Tract 456, Bronx County, New York"
          ],
          [
           36081071702,
           3,
           "Census Tract 717.02, Queens County, New York"
          ],
          [
           36081115100,
           5,
           "Census Tract 1151, Queens County, New York"
          ],
          [
           36047035100,
           12,
           "Census Tract 351, Kings County, New York"
          ],
          [
           36047036200,
           6,
           "Census Tract 362, Kings County, New York"
          ],
          [
           36047098600,
           3,
           "Census Tract 986, Kings County, New York"
          ],
          [
           36081011900,
           5,
           "Census Tract 119, Queens County, New York"
          ],
          [
           36047097400,
           8,
           "Census Tract 974, Kings County, New York"
          ],
          [
           36005025600,
           3,
           "Census Tract 256, Bronx County, New York"
          ],
          [
           36081068700,
           2,
           "Census Tract 687, Queens County, New York"
          ],
          [
           36081053000,
           5,
           "Census Tract 530, Queens County, New York"
          ],
          [
           36081074900,
           2,
           "Census Tract 749, Queens County, New York"
          ],
          [
           36085030302,
           8,
           "Census Tract 303.02, Richmond County, New York"
          ],
          [
           36081138502,
           14,
           null
          ],
          [
           36085007500,
           6,
           "Census Tract 75, Richmond County, New York"
          ],
          [
           36047100400,
           6,
           "Census Tract 1004, Kings County, New York"
          ],
          [
           36047067400,
           9,
           "Census Tract 674, Kings County, New York"
          ],
          [
           36081093402,
           8,
           "Census Tract 934.02, Queens County, New York"
          ],
          [
           36047068200,
           5,
           "Census Tract 682, Kings County, New York"
          ],
          [
           36005012102,
           5,
           "Census Tract 121.02, Bronx County, New York"
          ],
          [
           36047069601,
           3,
           "Census Tract 696.01, Kings County, New York"
          ],
          [
           36081040500,
           8,
           "Census Tract 405, Queens County, New York"
          ],
          [
           36047100600,
           4,
           "Census Tract 1006, Kings County, New York"
          ],
          [
           36047078400,
           3,
           "Census Tract 784, Kings County, New York"
          ],
          [
           36047054800,
           4,
           "Census Tract 548, Kings County, New York"
          ],
          [
           36047081000,
           7,
           "Census Tract 810, Kings County, New York"
          ],
          [
           36081028300,
           10,
           "Census Tract 283, Queens County, New York"
          ],
          [
           36061011402,
           7,
           "Census Tract 114.02, New York County, New York"
          ],
          [
           36081074100,
           4,
           "Census Tract 741, Queens County, New York"
          ],
          [
           36047047000,
           9,
           "Census Tract 470, Kings County, New York"
          ],
          [
           36085027706,
           4,
           "Census Tract 277.06, Richmond County, New York"
          ],
          [
           36047017600,
           5,
           "Census Tract 176, Kings County, New York"
          ],
          [
           36081035800,
           6,
           "Census Tract 358, Queens County, New York"
          ],
          [
           36081130100,
           6,
           "Census Tract 1301, Queens County, New York"
          ],
          [
           36047069200,
           3,
           "Census Tract 692, Kings County, New York"
          ],
          [
           36081012100,
           3,
           "Census Tract 121, Queens County, New York"
          ],
          [
           36081126700,
           11,
           "Census Tract 1267, Queens County, New York"
          ],
          [
           36085012804,
           5,
           "Census Tract 128.04, Richmond County, New York"
          ],
          [
           36047017400,
           3,
           "Census Tract 174, Kings County, New York"
          ],
          [
           36061002000,
           5,
           "Census Tract 20, New York County, New York"
          ],
          [
           36081121500,
           2,
           "Census Tract 1215, Queens County, New York"
          ],
          [
           36047044200,
           3,
           "Census Tract 442, Kings County, New York"
          ],
          [
           36081018200,
           7,
           "Census Tract 182, Queens County, New York"
          ],
          [
           36047049000,
           5,
           "Census Tract 490, Kings County, New York"
          ],
          [
           36047084800,
           5,
           "Census Tract 848, Kings County, New York"
          ],
          [
           36081040900,
           2,
           "Census Tract 409, Queens County, New York"
          ],
          [
           36047053700,
           3,
           "Census Tract 537, Kings County, New York"
          ],
          [
           36081003100,
           3,
           "Census Tract 31, Queens County, New York"
          ],
          [
           36047085800,
           12,
           "Census Tract 858, Kings County, New York"
          ],
          [
           36047064000,
           2,
           "Census Tract 640, Kings County, New York"
          ],
          [
           36081001200,
           4,
           "Census Tract 12, Queens County, New York"
          ],
          [
           36047018200,
           4,
           "Census Tract 182, Kings County, New York"
          ],
          [
           36081101002,
           4,
           "Census Tract 1010.02, Queens County, New York"
          ],
          [
           36085024402,
           8,
           "Census Tract 244.02, Richmond County, New York"
          ],
          [
           36047084600,
           6,
           "Census Tract 846, Kings County, New York"
          ],
          [
           36047072000,
           6,
           "Census Tract 720, Kings County, New York"
          ],
          [
           36047014000,
           3,
           "Census Tract 140, Kings County, New York"
          ],
          [
           36081042700,
           6,
           "Census Tract 427, Queens County, New York"
          ],
          [
           36047039800,
           2,
           "Census Tract 398, Kings County, New York"
          ],
          [
           36047098400,
           3,
           "Census Tract 984, Kings County, New York"
          ],
          [
           36047083400,
           2,
           "Census Tract 834, Kings County, New York"
          ],
          [
           36081041400,
           6,
           "Census Tract 414, Queens County, New York"
          ],
          [
           36081002000,
           2,
           "Census Tract 20, Queens County, New York"
          ],
          [
           36081098100,
           9,
           "Census Tract 981, Queens County, New York"
          ],
          [
           36081017100,
           7,
           null
          ],
          [
           36047117601,
           8,
           "Census Tract 1176.01, Kings County, New York"
          ],
          [
           36047011000,
           5,
           "Census Tract 110, Kings County, New York"
          ],
          [
           36081014400,
           2,
           "Census Tract 144, Queens County, New York"
          ],
          [
           36047074600,
           5,
           "Census Tract 746, Kings County, New York"
          ],
          [
           36081045900,
           3,
           "Census Tract 459, Queens County, New York"
          ],
          [
           36081003400,
           4,
           "Census Tract 34, Queens County, New York"
          ],
          [
           36081069500,
           3,
           "Census Tract 695, Queens County, New York"
          ],
          [
           36085014605,
           12,
           "Census Tract 146.05, Richmond County, New York"
          ],
          [
           36081018502,
           6,
           "Census Tract 185.02, Queens County, New York"
          ],
          [
           36047059200,
           5,
           "Census Tract 592, Kings County, New York"
          ],
          [
           36081003900,
           5,
           "Census Tract 39, Queens County, New York"
          ],
          [
           36005037000,
           4,
           "Census Tract 370, Bronx County, New York"
          ],
          [
           36081049302,
           5,
           "Census Tract 493.02, Queens County, New York"
          ],
          [
           36081019200,
           3,
           "Census Tract 192, Queens County, New York"
          ],
          [
           36085027302,
           5,
           "Census Tract 273.02, Richmond County, New York"
          ],
          [
           36081014202,
           4,
           "Census Tract 142.02, Queens County, New York"
          ],
          [
           36081043702,
           5,
           "Census Tract 437.02, Queens County, New York"
          ],
          [
           36085002001,
           8,
           "Census Tract 20.01, Richmond County, New York"
          ],
          [
           36081043400,
           4,
           "Census Tract 434, Queens County, New York"
          ],
          [
           36085000600,
           16,
           "Census Tract 6, Richmond County, New York"
          ],
          [
           36005044902,
           4,
           "Census Tract 449.02, Bronx County, New York"
          ],
          [
           36081046300,
           4,
           "Census Tract 463, Queens County, New York"
          ],
          [
           36085009601,
           7,
           "Census Tract 96.01, Richmond County, New York"
          ],
          [
           36081000600,
           5,
           "Census Tract 6, Queens County, New York"
          ],
          [
           36047089800,
           7,
           "Census Tract 898, Kings County, New York"
          ],
          [
           36047070600,
           6,
           "Census Tract 706, Kings County, New York"
          ],
          [
           36081145101,
           3,
           "Census Tract 1451.01, Queens County, New York"
          ],
          [
           36047005202,
           2,
           "Census Tract 52.02, Kings County, New York"
          ],
          [
           36081017200,
           4,
           "Census Tract 172, Queens County, New York"
          ],
          [
           36081074300,
           4,
           "Census Tract 743, Queens County, New York"
          ],
          [
           36085012806,
           9,
           "Census Tract 128.06, Richmond County, New York"
          ],
          [
           36081063500,
           3,
           "Census Tract 635, Queens County, New York"
          ],
          [
           36081099705,
           5,
           "Census Tract 997.05, Queens County, New York"
          ],
          [
           36085032300,
           4,
           "Census Tract 323, Richmond County, New York"
          ],
          [
           36005031900,
           2,
           "Census Tract 319, Bronx County, New York"
          ],
          [
           36005028400,
           6,
           "Census Tract 284, Bronx County, New York"
          ],
          [
           36005030100,
           6,
           "Census Tract 301, Bronx County, New York"
          ],
          [
           36047055200,
           6,
           "Census Tract 552, Kings County, New York"
          ],
          [
           36081047800,
           7,
           "Census Tract 478, Queens County, New York"
          ],
          [
           36047033500,
           3,
           "Census Tract 335, Kings County, New York"
          ],
          [
           36047085400,
           2,
           "Census Tract 854, Kings County, New York"
          ],
          [
           36047053200,
           3,
           "Census Tract 532, Kings County, New York"
          ],
          [
           36081015802,
           5,
           "Census Tract 158.02, Queens County, New York"
          ],
          [
           36047003500,
           2,
           "Census Tract 35, Kings County, New York"
          ],
          [
           36081052200,
           5,
           "Census Tract 522, Queens County, New York"
          ],
          [
           36047042200,
           5,
           "Census Tract 422, Kings County, New York"
          ],
          [
           36005036800,
           4,
           "Census Tract 368, Bronx County, New York"
          ],
          [
           36047102000,
           3,
           "Census Tract 1020, Kings County, New York"
          ],
          [
           36081062300,
           2,
           "Census Tract 623, Queens County, New York"
          ],
          [
           36081094201,
           6,
           "Census Tract 942.01, Queens County, New York"
          ],
          [
           36081086300,
           4,
           "Census Tract 863, Queens County, New York"
          ],
          [
           36047065000,
           4,
           "Census Tract 650, Kings County, New York"
          ],
          [
           36047116800,
           3,
           "Census Tract 1168, Kings County, New York"
          ],
          [
           36047008800,
           3,
           "Census Tract 88, Kings County, New York"
          ],
          [
           22101041400,
           2,
           null
          ],
          [
           36047076000,
           8,
           "Census Tract 760, Kings County, New York"
          ],
          [
           36085012200,
           4,
           "Census Tract 122, Richmond County, New York"
          ],
          [
           36081005200,
           3,
           "Census Tract 52, Queens County, New York"
          ],
          [
           36005004001,
           2,
           "Census Tract 40.01, Bronx County, New York"
          ],
          [
           36081011000,
           2,
           "Census Tract 110, Queens County, New York"
          ],
          [
           36005035900,
           5,
           "Census Tract 359, Bronx County, New York"
          ],
          [
           36081140902,
           6,
           "Census Tract 1409.02, Queens County, New York"
          ],
          [
           36047078000,
           3,
           "Census Tract 780, Kings County, New York"
          ],
          [
           36081001000,
           3,
           "Census Tract 10, Queens County, New York"
          ],
          [
           36081061602,
           2,
           "Census Tract 616.02, Queens County, New York"
          ],
          [
           36047027600,
           5,
           "Census Tract 276, Kings County, New York"
          ],
          [
           36047041402,
           2,
           "Census Tract 414.02, Kings County, New York"
          ],
          [
           36081024700,
           1,
           "Census Tract 247, Queens County, New York"
          ],
          [
           36047020800,
           2,
           "Census Tract 208, Kings County, New York"
          ],
          [
           36081026400,
           12,
           "Census Tract 264, Queens County, New York"
          ],
          [
           36081067700,
           3,
           "Census Tract 677, Queens County, New York"
          ],
          [
           36081070300,
           2,
           "Census Tract 703, Queens County, New York"
          ],
          [
           36081084602,
           2,
           "Census Tract 846.02, Queens County, New York"
          ],
          [
           36085012805,
           2,
           "Census Tract 128.05, Richmond County, New York"
          ],
          [
           36047021400,
           1,
           "Census Tract 214, Kings County, New York"
          ],
          [
           36081018402,
           3,
           "Census Tract 184.02, Queens County, New York"
          ],
          [
           36081058100,
           3,
           "Census Tract 581, Queens County, New York"
          ],
          [
           36081015600,
           2,
           "Census Tract 156, Queens County, New York"
          ],
          [
           36081042400,
           4,
           "Census Tract 424, Queens County, New York"
          ],
          [
           36081063301,
           1,
           "Census Tract 633.01, Queens County, New York"
          ],
          [
           36081144700,
           2,
           "Census Tract 1447, Queens County, New York"
          ],
          [
           36081032900,
           2,
           "Census Tract 329, Queens County, New York"
          ],
          [
           36081024600,
           1,
           null
          ],
          [
           36047068000,
           4,
           "Census Tract 680, Kings County, New York"
          ],
          [
           36085005900,
           1,
           "Census Tract 59, Richmond County, New York"
          ],
          [
           36085010500,
           8,
           "Census Tract 105, Richmond County, New York"
          ],
          [
           36081053601,
           1,
           "Census Tract 536.01, Queens County, New York"
          ],
          [
           36047046202,
           3,
           "Census Tract 462.02, Kings County, New York"
          ],
          [
           36047045000,
           5,
           "Census Tract 450, Kings County, New York"
          ],
          [
           36081065900,
           2,
           "Census Tract 659, Queens County, New York"
          ],
          [
           36085018702,
           7,
           "Census Tract 187.02, Richmond County, New York"
          ],
          [
           36081030600,
           3,
           "Census Tract 306, Queens County, New York"
          ],
          [
           36081028200,
           3,
           "Census Tract 282, Queens County, New York"
          ],
          [
           36081055600,
           2,
           "Census Tract 556, Queens County, New York"
          ],
          [
           36081053401,
           6,
           "Census Tract 534.01, Queens County, New York"
          ],
          [
           36047018800,
           1,
           "Census Tract 188, Kings County, New York"
          ],
          [
           36081040000,
           5,
           "Census Tract 400, Queens County, New York"
          ],
          [
           36081058000,
           4,
           "Census Tract 580, Queens County, New York"
          ],
          [
           36081023000,
           2,
           "Census Tract 230, Queens County, New York"
          ],
          [
           36081145102,
           4,
           "Census Tract 1451.02, Queens County, New York"
          ],
          [
           36061024000,
           1,
           "Census Tract 240, New York County, New York"
          ],
          [
           36081089200,
           10,
           "Census Tract 892, Queens County, New York"
          ],
          [
           36081013500,
           3,
           "Census Tract 135, Queens County, New York"
          ],
          [
           36081015300,
           7,
           "Census Tract 153, Queens County, New York"
          ],
          [
           36047017000,
           5,
           "Census Tract 170, Kings County, New York"
          ],
          [
           36081054200,
           3,
           "Census Tract 542, Queens County, New York"
          ],
          [
           36047059000,
           3,
           "Census Tract 590, Kings County, New York"
          ],
          [
           36005039700,
           4,
           "Census Tract 397, Bronx County, New York"
          ],
          [
           36047047200,
           3,
           "Census Tract 472, Kings County, New York"
          ],
          [
           36085019700,
           6,
           "Census Tract 197, Richmond County, New York"
          ],
          [
           36081049600,
           2,
           "Census Tract 496, Queens County, New York"
          ],
          [
           36047013600,
           4,
           "Census Tract 136, Kings County, New York"
          ],
          [
           36081062000,
           2,
           "Census Tract 620, Queens County, New York"
          ],
          [
           36047047800,
           4,
           "Census Tract 478, Kings County, New York"
          ],
          [
           36081051000,
           1,
           "Census Tract 510, Queens County, New York"
          ],
          [
           36081013800,
           4,
           "Census Tract 138, Queens County, New York"
          ],
          [
           36081026600,
           3,
           "Census Tract 266, Queens County, New York"
          ],
          [
           36061004200,
           2,
           "Census Tract 42, New York County, New York"
          ],
          [
           36081021900,
           2,
           null
          ],
          [
           36081023200,
           2,
           "Census Tract 232, Queens County, New York"
          ],
          [
           36081068200,
           6,
           "Census Tract 682, Queens County, New York"
          ],
          [
           36047057400,
           4,
           "Census Tract 574, Kings County, New York"
          ],
          [
           36081061200,
           2,
           "Census Tract 612, Queens County, New York"
          ],
          [
           36081030902,
           4,
           "Census Tract 309.02, Queens County, New York"
          ],
          [
           36081003200,
           5,
           "Census Tract 32, Queens County, New York"
          ],
          [
           36047064800,
           2,
           "Census Tract 648, Kings County, New York"
          ],
          [
           36081073100,
           4,
           "Census Tract 731, Queens County, New York"
          ],
          [
           36081037700,
           5,
           "Census Tract 377, Queens County, New York"
          ],
          [
           36047058000,
           2,
           "Census Tract 580, Kings County, New York"
          ],
          [
           36081057700,
           4,
           "Census Tract 577, Queens County, New York"
          ],
          [
           36081003000,
           2,
           "Census Tract 30, Queens County, New York"
          ],
          [
           36081052100,
           3,
           "Census Tract 521, Queens County, New York"
          ],
          [
           36081065400,
           5,
           "Census Tract 654, Queens County, New York"
          ],
          [
           36085014100,
           1,
           "Census Tract 141, Richmond County, New York"
          ],
          [
           36081053500,
           1,
           "Census Tract 535, Queens County, New York"
          ],
          [
           36081080302,
           1,
           "Census Tract 803.02, Queens County, New York"
          ],
          [
           36081010600,
           2,
           "Census Tract 106, Queens County, New York"
          ],
          [
           36081074700,
           6,
           "Census Tract 747, Queens County, New York"
          ],
          [
           36081028800,
           6,
           "Census Tract 288, Queens County, New York"
          ],
          [
           36047040200,
           3,
           "Census Tract 402, Kings County, New York"
          ],
          [
           36081004401,
           1,
           "Census Tract 44.01, Queens County, New York"
          ],
          [
           36081056600,
           2,
           "Census Tract 566, Queens County, New York"
          ],
          [
           36081119300,
           1,
           "Census Tract 1193, Queens County, New York"
          ],
          [
           36085004700,
           3,
           "Census Tract 47, Richmond County, New York"
          ],
          [
           36081066100,
           1,
           "Census Tract 661, Queens County, New York"
          ],
          [
           36081116300,
           5,
           "Census Tract 1163, Queens County, New York"
          ],
          [
           36047020300,
           2,
           "Census Tract 203, Kings County, New York"
          ],
          [
           36047117000,
           2,
           "Census Tract 1170, Kings County, New York"
          ],
          [
           36061030700,
           3,
           "Census Tract 307, New York County, New York"
          ],
          [
           36061011300,
           9,
           "Census Tract 113, New York County, New York"
          ],
          [
           36081056700,
           2,
           "Census Tract 567, Queens County, New York"
          ],
          [
           36081009400,
           1,
           "Census Tract 94, Queens County, New York"
          ],
          [
           36081067100,
           6,
           "Census Tract 671, Queens County, New York"
          ],
          [
           36081048300,
           2,
           "Census Tract 483, Queens County, New York"
          ],
          [
           36081051300,
           1,
           "Census Tract 513, Queens County, New York"
          ],
          [
           36081049700,
           5,
           "Census Tract 497, Queens County, New York"
          ],
          [
           36081068300,
           1,
           "Census Tract 683, Queens County, New York"
          ],
          [
           36081066701,
           1,
           "Census Tract 667.01, Queens County, New York"
          ],
          [
           36081021400,
           2,
           "Census Tract 214, Queens County, New York"
          ],
          [
           36085012100,
           4,
           "Census Tract 121, Richmond County, New York"
          ],
          [
           36047044700,
           5,
           "Census Tract 447, Kings County, New York"
          ],
          [
           36047019200,
           2,
           "Census Tract 192, Kings County, New York"
          ],
          [
           36085003300,
           3,
           "Census Tract 33, Richmond County, New York"
          ],
          [
           36081050600,
           2,
           "Census Tract 506, Queens County, New York"
          ],
          [
           36047037402,
           2,
           "Census Tract 374.02, Kings County, New York"
          ],
          [
           36081015700,
           4,
           "Census Tract 157, Queens County, New York"
          ],
          [
           36047075800,
           3,
           "Census Tract 758, Kings County, New York"
          ],
          [
           36081080301,
           1,
           "Census Tract 803.01, Queens County, New York"
          ],
          [
           36081066300,
           1,
           "Census Tract 663, Queens County, New York"
          ],
          [
           36081045800,
           1,
           "Census Tract 458, Queens County, New York"
          ],
          [
           36081084500,
           2,
           "Census Tract 845, Queens County, New York"
          ],
          [
           36081012601,
           2,
           "Census Tract 126.01, Queens County, New York"
          ],
          [
           36081050700,
           1,
           "Census Tract 507, Queens County, New York"
          ],
          [
           36047063800,
           2,
           "Census Tract 638, Kings County, New York"
          ],
          [
           36005007400,
           2,
           "Census Tract 74, Bronx County, New York"
          ],
          [
           36081052600,
           2,
           "Census Tract 526, Queens County, New York"
          ],
          [
           36047022200,
           2,
           "Census Tract 222, Kings County, New York"
          ],
          [
           36047014700,
           2,
           "Census Tract 147, Kings County, New York"
          ],
          [
           36047026000,
           1,
           "Census Tract 260, Kings County, New York"
          ],
          [
           36047101800,
           1,
           "Census Tract 1018, Kings County, New York"
          ],
          [
           36047087401,
           2,
           "Census Tract 874.01, Kings County, New York"
          ],
          [
           36081093401,
           1,
           "Census Tract 934.01, Queens County, New York"
          ],
          [
           36005044800,
           1,
           "Census Tract 448, Bronx County, New York"
          ],
          [
           36081017000,
           7,
           "Census Tract 170, Queens County, New York"
          ],
          [
           36081011600,
           1,
           "Census Tract 116, Queens County, New York"
          ],
          [
           36081072900,
           1,
           "Census Tract 729, Queens County, New York"
          ],
          [
           36005025400,
           2,
           "Census Tract 254, Bronx County, New York"
          ],
          [
           36047057600,
           2,
           "Census Tract 576, Kings County, New York"
          ],
          [
           36047005201,
           5,
           "Census Tract 52.01, Kings County, New York"
          ],
          [
           36085018701,
           2,
           "Census Tract 187.01, Richmond County, New York"
          ],
          [
           36047016800,
           1,
           "Census Tract 168, Kings County, New York"
          ],
          [
           36085000300,
           1,
           "Census Tract 3, Richmond County, New York"
          ],
          [
           36047096200,
           4,
           "Census Tract 962, Kings County, New York"
          ],
          [
           36081065703,
           1,
           "Census Tract 657.03, Queens County, New York"
          ],
          [
           36081019900,
           4,
           "Census Tract 199, Queens County, New York"
          ],
          [
           36005020502,
           2,
           "Census Tract 205.02, Bronx County, New York"
          ],
          [
           36061015002,
           2,
           "Census Tract 150.02, New York County, New York"
          ],
          [
           36047094600,
           1,
           "Census Tract 946, Kings County, New York"
          ],
          [
           36047095600,
           4,
           "Census Tract 956, Kings County, New York"
          ],
          [
           36005015800,
           1,
           "Census Tract 158, Bronx County, New York"
          ],
          [
           36047013200,
           1,
           "Census Tract 132, Kings County, New York"
          ],
          [
           36081032800,
           2,
           "Census Tract 328, Queens County, New York"
          ],
          [
           36081005500,
           4,
           "Census Tract 55, Queens County, New York"
          ],
          [
           36081051700,
           9,
           "Census Tract 517, Queens County, New York"
          ],
          [
           36081014800,
           2,
           "Census Tract 148, Queens County, New York"
          ],
          [
           36005028600,
           7,
           "Census Tract 286, Bronx County, New York"
          ],
          [
           36047020400,
           2,
           "Census Tract 204, Kings County, New York"
          ],
          [
           36047031400,
           1,
           "Census Tract 314, Kings County, New York"
          ],
          [
           36047093600,
           3,
           "Census Tract 936, Kings County, New York"
          ],
          [
           36047114201,
           7,
           "Census Tract 1142.01, Kings County, New York"
          ],
          [
           36005006100,
           1,
           "Census Tract 61, Bronx County, New York"
          ],
          [
           36081019800,
           2,
           "Census Tract 198, Queens County, New York"
          ],
          [
           36047053000,
           1,
           "Census Tract 530, Kings County, New York"
          ],
          [
           36081020800,
           3,
           "Census Tract 208, Queens County, New York"
          ],
          [
           36047064400,
           4,
           "Census Tract 644, Kings County, New York"
          ],
          [
           36081038400,
           2,
           "Census Tract 384, Queens County, New York"
          ],
          [
           36047027400,
           1,
           "Census Tract 274, Kings County, New York"
          ],
          [
           36081155101,
           1,
           "Census Tract 1551.01, Queens County, New York"
          ],
          [
           36081107202,
           1,
           "Census Tract 1072.02, Queens County, New York"
          ],
          [
           36085005000,
           4,
           "Census Tract 50, Richmond County, New York"
          ],
          [
           36085007400,
           3,
           "Census Tract 74, Richmond County, New York"
          ],
          [
           36047014200,
           1,
           "Census Tract 142, Kings County, New York"
          ],
          [
           36081000800,
           3,
           "Census Tract 8, Queens County, New York"
          ],
          [
           46099010101,
           1,
           null
          ],
          [
           36047058900,
           3,
           "Census Tract 589, Kings County, New York"
          ],
          [
           36061010100,
           2,
           "Census Tract 101, New York County, New York"
          ],
          [
           36081060600,
           4,
           "Census Tract 606, Queens County, New York"
          ],
          [
           36047010600,
           3,
           "Census Tract 106, Kings County, New York"
          ],
          [
           36061009500,
           5,
           "Census Tract 95, New York County, New York"
          ],
          [
           36047023200,
           2,
           "Census Tract 232, Kings County, New York"
          ],
          [
           36047008600,
           1,
           null
          ],
          [
           36081114700,
           1,
           "Census Tract 1147, Queens County, New York"
          ],
          [
           36047027200,
           2,
           "Census Tract 272, Kings County, New York"
          ],
          [
           25023530300,
           1,
           null
          ],
          [
           36085015602,
           2,
           "Census Tract 156.02, Richmond County, New York"
          ],
          [
           36047073800,
           1,
           "Census Tract 738, Kings County, New York"
          ],
          [
           36081018800,
           1,
           "Census Tract 188, Queens County, New York"
          ],
          [
           36047083800,
           1,
           "Census Tract 838, Kings County, New York"
          ],
          [
           36047093400,
           1,
           "Census Tract 934, Kings County, New York"
          ],
          [
           36047065600,
           4,
           "Census Tract 656, Kings County, New York"
          ],
          [
           36047022900,
           2,
           "Census Tract 229, Kings County, New York"
          ],
          [
           36047059800,
           2,
           "Census Tract 598, Kings County, New York"
          ],
          [
           36081027200,
           1,
           "Census Tract 272, Queens County, New York"
          ],
          [
           36047050700,
           1,
           "Census Tract 507, Kings County, New York"
          ],
          [
           36081036800,
           2,
           "Census Tract 368, Queens County, New York"
          ],
          [
           36081036500,
           1,
           "Census Tract 365, Queens County, New York"
          ],
          [
           36081048000,
           2,
           "Census Tract 480, Queens County, New York"
          ],
          [
           36081015200,
           1,
           "Census Tract 152, Queens County, New York"
          ],
          [
           36081000200,
           1,
           "Census Tract 2, Queens County, New York"
          ],
          [
           36081050202,
           1,
           "Census Tract 502.02, Queens County, New York"
          ],
          [
           36081064500,
           1,
           "Census Tract 645, Queens County, New York"
          ],
          [
           36081002800,
           6,
           "Census Tract 28, Queens County, New York"
          ],
          [
           36047048900,
           1,
           "Census Tract 489, Kings County, New York"
          ],
          [
           36081046800,
           1,
           "Census Tract 468, Queens County, New York"
          ],
          [
           36047046400,
           1,
           "Census Tract 464, Kings County, New York"
          ],
          [
           36047059300,
           2,
           "Census Tract 593, Kings County, New York"
          ],
          [
           36081012000,
           1,
           "Census Tract 120, Queens County, New York"
          ],
          [
           36081047600,
           1,
           "Census Tract 476, Queens County, New York"
          ],
          [
           36047120200,
           2,
           "Census Tract 1202, Kings County, New York"
          ],
          [
           36081004002,
           1,
           "Census Tract 40.02, Queens County, New York"
          ],
          [
           36081037500,
           1,
           "Census Tract 375, Queens County, New York"
          ],
          [
           36081040100,
           3,
           "Census Tract 401, Queens County, New York"
          ],
          [
           36081012800,
           2,
           "Census Tract 128, Queens County, New York"
          ],
          [
           36047075200,
           5,
           "Census Tract 752, Kings County, New York"
          ],
          [
           36081059800,
           1,
           "Census Tract 598, Queens County, New York"
          ],
          [
           36081063302,
           3,
           "Census Tract 633.02, Queens County, New York"
          ],
          [
           36047004400,
           4,
           "Census Tract 44, Kings County, New York"
          ],
          [
           36081044800,
           1,
           "Census Tract 448, Queens County, New York"
          ],
          [
           36081025500,
           1,
           "Census Tract 255, Queens County, New York"
          ],
          [
           36047016500,
           2,
           "Census Tract 165, Kings County, New York"
          ],
          [
           36081066501,
           1,
           "Census Tract 665.01, Queens County, New York"
          ],
          [
           36081028000,
           1,
           "Census Tract 280, Queens County, New York"
          ],
          [
           36047101600,
           1,
           "Census Tract 1016, Kings County, New York"
          ],
          [
           36047015400,
           1,
           null
          ],
          [
           36081009800,
           2,
           "Census Tract 98, Queens County, New York"
          ],
          [
           36047025600,
           2,
           "Census Tract 256, Kings County, New York"
          ],
          [
           36047024700,
           1,
           "Census Tract 247, Kings County, New York"
          ],
          [
           36061023801,
           3,
           "Census Tract 238.01, New York County, New York"
          ],
          [
           36081072300,
           1,
           "Census Tract 723, Queens County, New York"
          ],
          [
           36061015001,
           2,
           "Census Tract 150.01, New York County, New York"
          ],
          [
           36047099400,
           1,
           "Census Tract 994, Kings County, New York"
          ],
          [
           36047044000,
           1,
           "Census Tract 440, Kings County, New York"
          ],
          [
           36081086900,
           2,
           "Census Tract 869, Queens County, New York"
          ],
          [
           36061004400,
           1,
           "Census Tract 44, New York County, New York"
          ],
          [
           36081038301,
           1,
           null
          ],
          [
           36081069701,
           2,
           "Census Tract 697.01, Queens County, New York"
          ],
          [
           36081111300,
           3,
           "Census Tract 1113, Queens County, New York"
          ],
          [
           36081052000,
           1,
           "Census Tract 520, Queens County, New York"
          ],
          [
           36081026901,
           1,
           "Census Tract 269.01, Queens County, New York"
          ],
          [
           36081045600,
           1,
           "Census Tract 456, Queens County, New York"
          ],
          [
           36081048900,
           2,
           "Census Tract 489, Queens County, New York"
          ],
          [
           36081083800,
           1,
           "Census Tract 838, Queens County, New York"
          ],
          [
           36081059200,
           1,
           "Census Tract 592, Queens County, New York"
          ],
          [
           36081053100,
           3,
           "Census Tract 531, Queens County, New York"
          ],
          [
           36081054800,
           2,
           "Census Tract 548, Queens County, New York"
          ],
          [
           36047035601,
           1,
           "Census Tract 356.01, Kings County, New York"
          ],
          [
           36081107201,
           1,
           "Census Tract 1072.01, Queens County, New York"
          ],
          [
           36059404300,
           1,
           null
          ],
          [
           36081059900,
           2,
           "Census Tract 599, Queens County, New York"
          ],
          [
           34025812100,
           1,
           null
          ],
          [
           36047028000,
           1,
           "Census Tract 280, Kings County, New York"
          ],
          [
           36081009600,
           1,
           "Census Tract 96, Queens County, New York"
          ],
          [
           36047076400,
           1,
           "Census Tract 764, Kings County, New York"
          ],
          [
           36081091602,
           1,
           null
          ],
          [
           36047025800,
           1,
           "Census Tract 258, Kings County, New York"
          ],
          [
           36081009100,
           3,
           "Census Tract 91, Queens County, New York"
          ],
          [
           36085022300,
           1,
           "Census Tract 223, Richmond County, New York"
          ],
          [
           36119010300,
           1,
           "Census Tract 103, Westchester County, New York"
          ],
          [
           36081120300,
           1,
           "Census Tract 1203, Queens County, New York"
          ],
          [
           36081077300,
           1,
           "Census Tract 773, Queens County, New York"
          ],
          [
           36047052800,
           1,
           "Census Tract 528, Kings County, New York"
          ]
         ],
         "hoverlabel": {
          "namelength": 0
         },
         "hovertemplate": "ALL_SEASONS=%{customdata[1]}<br>Total; Estimate; Total population=%{marker.color}<br>Geoid=%{customdata[0]}<br>Geography=%{customdata[2]}",
         "legendgroup": "",
         "marker": {
          "color": [
           25199,
           5368,
           6169,
           3095,
           3302,
           7826,
           2721,
           5979,
           7535,
           6369,
           3478,
           7045,
           4808,
           3204,
           3298,
           9024,
           8688,
           2952,
           2581,
           8346,
           6217,
           4031,
           77,
           3644,
           5817,
           5361,
           4204,
           2380,
           2894,
           2262,
           6323,
           9876,
           5101,
           5817,
           2099,
           3820,
           7815,
           8802,
           7651,
           2694,
           4741,
           2514,
           6159,
           6337,
           3835,
           2342,
           2454,
           8370,
           3732,
           7696,
           4729,
           4401,
           6326,
           6058,
           3917,
           8305,
           2564,
           4930,
           9169,
           4286,
           2352,
           3766,
           3724,
           2013,
           6941,
           5309,
           4932,
           6665,
           5728,
           2286,
           4954,
           8051,
           6102,
           4375,
           4277,
           2142,
           6000,
           1742,
           5899,
           5499,
           6178,
           6119,
           4360,
           10362,
           5462,
           2258,
           4280,
           5369,
           3553,
           8033,
           9101,
           6952,
           4124,
           4061,
           2524,
           5814,
           8599,
           7067,
           2410,
           12421,
           3401,
           3996,
           3486,
           8113,
           3310,
           3178,
           2720,
           4162,
           10218,
           4377,
           2661,
           1035,
           5994,
           4225,
           7279,
           4848,
           8403,
           8475,
           5736,
           3937,
           5406,
           3857,
           1902,
           1112,
           7039,
           7065,
           3010,
           4591,
           5382,
           4934,
           5241,
           3442,
           2574,
           3846,
           5114,
           2037,
           4406,
           3349,
           6926,
           9633,
           2439,
           4440,
           5470,
           3241,
           7030,
           5200,
           6529,
           6366,
           8406,
           3643,
           3237,
           3057,
           3219,
           2957,
           3007,
           4919,
           9641,
           6033,
           2473,
           7217,
           3346,
           6049,
           4254,
           1668,
           2674,
           2649,
           3233,
           6685,
           5798,
           3779,
           3240,
           4384,
           15377,
           4687,
           6669,
           8792,
           14,
           5899,
           1157,
           4520,
           4700,
           4971,
           13614,
           3088,
           4288,
           2942,
           4921,
           3668,
           2714,
           6534,
           4397,
           2537,
           3810,
           4326,
           12129,
           3238,
           3184,
           4624,
           2978,
           2103,
           5563,
           4650,
           5156,
           11840,
           2892,
           5104,
           6578,
           4298,
           2704,
           6157,
           5246,
           3900,
           2704,
           4423,
           4408,
           3549,
           4647,
           2795,
           9916,
           4822,
           565,
           2082,
           6245,
           4165,
           6026,
           3355,
           7644,
           5930,
           4720,
           3571,
           1660,
           6179,
           1414,
           3063,
           5582,
           2724,
           5523,
           3991,
           null,
           6464,
           5512,
           5703,
           3915,
           4343,
           5441,
           6238,
           3944,
           2885,
           2810,
           12871,
           2355,
           5316,
           11167,
           6509,
           3629,
           5311,
           15698,
           3138,
           8574,
           6837,
           4971,
           4284,
           7180,
           5471,
           7148,
           3026,
           6342,
           2988,
           1718,
           7709,
           4253,
           4269,
           4387,
           1674,
           5619,
           5184,
           5263,
           4939,
           6533,
           5474,
           3174,
           1662,
           5728,
           8458,
           3049,
           5792,
           8093,
           3692,
           3991,
           6146,
           3372,
           7777,
           2619,
           4113,
           2551,
           3867,
           9388,
           1624,
           5050,
           10324,
           4318,
           3783,
           3170,
           7205,
           2362,
           1262,
           1707,
           3972,
           1832,
           1596,
           4939,
           3684,
           3373,
           6280,
           4159,
           3835,
           3759,
           6261,
           1761,
           3410,
           6370,
           1616,
           3723,
           8177,
           4541,
           5574,
           5425,
           2546,
           2136,
           2665,
           7620,
           4426,
           1751,
           8316,
           4154,
           3869,
           4347,
           7567,
           5277,
           3951,
           7224,
           81,
           8463,
           2390,
           2592,
           1979,
           2295,
           3013,
           8261,
           4521,
           5458,
           6680,
           3087,
           4037,
           2483,
           2432,
           2933,
           1317,
           5908,
           2708,
           1638,
           4655,
           5650,
           7637,
           6702,
           3747,
           5182,
           3139,
           3601,
           6291,
           7059,
           1819,
           3907,
           6532,
           4431,
           1910,
           8997,
           3102,
           2687,
           2939,
           3244,
           6442,
           6828,
           2226,
           5511,
           8117,
           6534,
           7032,
           3216,
           2367,
           6116,
           4556,
           2422,
           3828,
           2397,
           3169,
           6321,
           10174,
           3243,
           2859,
           2422,
           5140,
           5028,
           4193,
           5580,
           3589,
           7958,
           5288,
           5709,
           5644,
           3369,
           3640,
           3582,
           4341,
           2776,
           1983,
           5923,
           5818,
           4367,
           4978,
           4528,
           3778,
           5544,
           8866,
           6270,
           3024,
           4338,
           2834,
           6737,
           3665,
           5437,
           6933,
           2493,
           2254,
           5338,
           3638,
           3557,
           4499,
           3142,
           7906,
           4056,
           1774,
           8434,
           2969,
           5291,
           5064,
           3085,
           3169,
           7737,
           6302,
           8575,
           5541,
           1134,
           1993,
           4562,
           3244,
           4483,
           5815,
           7398,
           3256,
           8924,
           7752,
           6250,
           8758,
           4102,
           6457,
           3873,
           1694,
           1841,
           4292,
           2763,
           5036,
           4062,
           3616,
           4175,
           13483,
           4024,
           2649,
           3238,
           3542,
           2343,
           4277,
           3072,
           4389,
           4256,
           7674,
           2267,
           3975,
           4210,
           3500,
           4198,
           4027,
           3533,
           3899,
           5872,
           8358,
           2709,
           3716,
           6572,
           5076,
           5597,
           1072,
           5868,
           2488,
           3453,
           8035,
           1459,
           3178,
           8286,
           3362,
           3479,
           7749,
           7639,
           5928,
           1349,
           714,
           1733,
           2261,
           7053,
           9488,
           4752,
           3562,
           1854,
           6648,
           6507,
           3171,
           null,
           null,
           5145,
           3127,
           2069,
           2309,
           1764,
           4106,
           3246,
           4853,
           5925,
           4204,
           3130,
           825,
           5663,
           2367,
           2810,
           1431,
           3869,
           1597,
           7381,
           9442,
           201,
           2371,
           4276,
           7996,
           1445,
           3107,
           1757,
           1595,
           9686,
           4547,
           3337,
           7482,
           8976,
           5678,
           5138,
           2601,
           2002,
           4804,
           4881,
           5358,
           5364,
           10087,
           null,
           4059,
           3899,
           6521,
           5636,
           2879,
           4922,
           8310,
           2991,
           3204,
           2559,
           3113,
           9457,
           4354,
           12768,
           7904,
           4183,
           7060,
           3387,
           5504,
           8030,
           4609,
           3828,
           2880,
           3608,
           3217,
           3546,
           4605,
           4392,
           3246,
           1485,
           2746,
           3636,
           6271,
           5603,
           3082,
           4576,
           null,
           2330,
           7658,
           9944,
           5382,
           6667,
           2750,
           1199,
           4139,
           1741,
           3826,
           1565,
           4684,
           2187,
           146,
           4195,
           1132,
           4671,
           4740,
           2832,
           9865,
           3182,
           8229,
           6616,
           8222,
           4503,
           2872,
           4725,
           3163,
           113,
           4060,
           4207,
           4008,
           1322,
           3636,
           5112,
           4126,
           1260,
           1686,
           3705,
           3452,
           4161,
           2214,
           1517,
           3066,
           8078,
           5739,
           2236,
           4852,
           3384,
           2348,
           2443,
           2457,
           4081,
           2433,
           4324,
           2487,
           1635,
           7129,
           6843,
           2938,
           5073,
           7018,
           5996,
           2314,
           3295,
           2678,
           4416,
           2752,
           7904,
           3432,
           3498,
           3324,
           9886,
           5686,
           null,
           3502,
           2512,
           2245,
           4334,
           5092,
           3202,
           3176,
           4491,
           4743,
           9577,
           1362,
           3323,
           4724,
           3257,
           3185,
           3538,
           6995,
           2922,
           4855,
           2463,
           1707,
           5231,
           5547,
           9906,
           4346,
           7280,
           3614,
           7891,
           3077,
           4464,
           1938,
           6108,
           null,
           4095,
           3306,
           3329,
           4204,
           1804,
           2131,
           3163,
           3273,
           3279,
           1611,
           3310,
           3897,
           1289,
           4769,
           2317,
           2279,
           2423,
           3153,
           7506,
           479,
           3851,
           1880,
           3722,
           6010,
           1839,
           3121,
           5913,
           1185,
           3491,
           5211,
           3678,
           3858,
           2051,
           2818,
           3059,
           3574,
           2774,
           5442,
           2559,
           4313,
           3711,
           2464,
           4958,
           3347,
           2652,
           2832,
           1844,
           2052,
           1331,
           5746,
           1935,
           8670,
           4144,
           4544,
           2992,
           4327,
           3409,
           2928,
           4087,
           1996,
           4035,
           5811,
           4722,
           5207,
           3826,
           4355,
           5085,
           3302,
           2328,
           5190,
           4815,
           2647,
           4021,
           2736,
           3694,
           3377,
           3024,
           3729,
           4193,
           4400,
           5717,
           4682,
           3733,
           5822,
           2794,
           2485,
           3273,
           2256,
           4338,
           2568,
           3775,
           3731,
           3951,
           3481,
           3935,
           5444,
           9571,
           5313,
           1821,
           2798,
           4393,
           4327,
           9850,
           7269,
           2317,
           983,
           3609,
           1795,
           2698,
           5011,
           6222,
           7531,
           3068,
           2271,
           3865,
           3047,
           6416,
           1709,
           3469,
           3528,
           5690,
           5582,
           3023,
           5095,
           1014,
           4836,
           4051,
           3315,
           9245,
           2303,
           5238,
           5759,
           4201,
           3788,
           3341,
           6103,
           7688,
           3850,
           1230,
           5618,
           5073,
           1188,
           2700,
           2372,
           5895,
           2031,
           6023,
           3511,
           2171,
           3949,
           6291,
           6352,
           2236,
           2965,
           2671,
           3358,
           1105,
           1150,
           5755,
           6569,
           5250,
           9241,
           4332,
           6000,
           3659,
           4090,
           2838,
           4390,
           2715,
           3617,
           5306,
           3258,
           2591,
           5430,
           2905,
           2649,
           5744,
           1227,
           2246,
           1548,
           2270,
           6635,
           3290,
           1210,
           3064,
           3587,
           3943,
           6569,
           4264,
           5057,
           6827,
           2613,
           3476,
           3578,
           2007,
           2707,
           2729,
           4043,
           2891,
           3652,
           5779,
           2326,
           7061,
           1622,
           4873,
           2816,
           3211,
           6939,
           1124,
           3526,
           4589,
           5177,
           1346,
           6806,
           3308,
           3063,
           null,
           3013,
           1557,
           4197,
           2574,
           4243,
           3222,
           5323,
           3018,
           2789,
           3991,
           1615,
           5777,
           5155,
           2671,
           3478,
           5050,
           3870,
           8092,
           2514,
           5063,
           3665,
           2034,
           2409,
           3733,
           3548,
           2129,
           3411,
           4189,
           5419,
           2376,
           3559,
           1515,
           3183,
           5580,
           7092,
           7327,
           2639,
           365,
           3271,
           5962,
           2304,
           3927,
           5854,
           2711,
           3200,
           1880,
           6744,
           11107,
           8320,
           3779,
           1051,
           3797,
           3922,
           4199,
           2223,
           2302,
           5646,
           3967,
           1053,
           3254,
           2376,
           4764,
           3954,
           2078,
           3850,
           686,
           3696,
           2886,
           4593,
           3897,
           2185,
           2623,
           3597,
           2565,
           12228,
           2184,
           6026,
           3013,
           4073,
           3017,
           7456,
           3181,
           2605,
           3494,
           3028,
           3673,
           2225,
           1927,
           2935,
           4266,
           4082,
           7291,
           6647,
           7885,
           3416,
           3035,
           5639,
           1660,
           4211,
           2180,
           2787,
           1724,
           3565,
           1377,
           4663,
           3270,
           5819,
           1954,
           1760,
           5593,
           6013,
           null,
           2713,
           null,
           7737,
           2291,
           2946,
           8890,
           1305,
           2111,
           2133,
           4599,
           1720,
           3228,
           1182,
           1725,
           8346,
           13002,
           1953,
           3685,
           3128,
           2562,
           12370,
           6683,
           4230,
           2174,
           2666,
           10588,
           2339,
           2304,
           6973,
           3960,
           null,
           3036,
           5310,
           3768,
           1922,
           1404,
           1989,
           4882,
           7739,
           4211,
           2857,
           1066,
           3652,
           3184,
           3514,
           2546,
           2699,
           3304,
           null,
           4542,
           7329,
           3388,
           4226,
           7891,
           1826,
           2530,
           5303,
           4941,
           6094,
           2488,
           5537,
           2221,
           1415,
           1778,
           1733,
           2627,
           4202,
           3690,
           2673,
           1926,
           3114,
           1618,
           4824,
           3855,
           4375,
           6911,
           2755,
           2312,
           4227,
           4389,
           2035,
           2416,
           2049,
           5461,
           4596,
           4067,
           5541,
           3515,
           3255,
           2047,
           5489,
           3255,
           8786,
           3893,
           4835,
           6218,
           2194,
           9469,
           3828,
           2068,
           4669,
           2462,
           8957,
           5291,
           3457,
           26,
           2146,
           1519,
           4843,
           3988,
           5043,
           4172,
           3298,
           3590,
           889,
           2257,
           3656,
           2831,
           3434,
           5244,
           2932,
           810,
           2892,
           169,
           3686,
           3749,
           3262,
           2284,
           7032,
           4135,
           null,
           3941,
           5675,
           3632,
           4352,
           4835,
           2226,
           3218,
           3258,
           1885,
           3866,
           6135,
           3498,
           2483,
           3793,
           4885,
           1762,
           1521,
           8269,
           2291,
           6205,
           2893,
           2359,
           6552,
           4884,
           3239,
           2173,
           5299,
           2425,
           null,
           3148,
           4012,
           4613,
           3088,
           2740,
           2440,
           2229,
           1793,
           4043,
           3733,
           3870,
           6506,
           3724,
           4859,
           1960,
           4218,
           2814,
           127,
           4236,
           3210,
           4894,
           6171,
           3335,
           4209,
           2151,
           1766,
           1714,
           9048,
           7055,
           5318,
           2699,
           6220,
           4344,
           3319,
           2157,
           4513,
           4616,
           3716,
           4728,
           3466,
           3760,
           3834,
           4893,
           2622,
           5819,
           5124,
           2411,
           5228,
           3054,
           1120,
           3133,
           2134,
           4835,
           3134,
           3573,
           2249,
           6622,
           6540,
           3543,
           3180,
           6294,
           1262,
           2153,
           3935,
           2660,
           2029,
           4368,
           3629,
           3665,
           2938,
           3220,
           5312,
           3895,
           6201,
           2802,
           2735,
           1889,
           4282,
           6527,
           1627,
           1842,
           3667,
           4111,
           416,
           2098,
           4622,
           2645,
           3557,
           220,
           1895,
           4099,
           5100,
           5140,
           1774,
           2955,
           5259,
           3702,
           1040,
           2837,
           4719,
           2251,
           59,
           2847,
           2742,
           3782,
           2583,
           3409,
           2935,
           2236,
           4229,
           3961,
           981,
           5924,
           3592,
           2507,
           2522,
           3552,
           4876,
           2169,
           4714,
           75,
           3617,
           4164,
           4313,
           3378,
           4107,
           2711,
           2821,
           3198,
           2914,
           3155,
           2577,
           5106,
           1074,
           4226,
           4602,
           5589,
           2199,
           2573,
           920,
           7837,
           6309,
           4386,
           3710,
           1853,
           3905,
           3599,
           4774,
           2756,
           3102,
           2717,
           6240,
           1727,
           2880,
           2329,
           2684,
           4708,
           1520,
           2496,
           2363,
           2137,
           4973,
           5616,
           3125,
           3700,
           null,
           1264,
           3274,
           1793,
           4073,
           6847,
           2206,
           1470,
           4764,
           3603,
           5980,
           5269,
           8069,
           2297,
           7693,
           3137,
           2275,
           3417,
           1583,
           1271,
           1800,
           2508,
           1235,
           3616,
           6204,
           2988,
           5068,
           3327,
           1380,
           4168,
           3342,
           6410,
           3535,
           1978,
           1873,
           3572,
           5461,
           5241,
           4508,
           4830,
           5726,
           1822,
           2369,
           2770,
           2615,
           4504,
           5260,
           6490,
           5082,
           5721,
           2885,
           2596,
           2655,
           2830,
           6645,
           2572,
           4950,
           5081,
           2793,
           2419,
           4016,
           4073,
           1606,
           4615,
           3047,
           3158,
           3135,
           null,
           3800,
           6704,
           5628,
           3280,
           1543,
           5243,
           2292,
           5295,
           3614,
           4133,
           1724,
           3332,
           2784,
           3141,
           2487,
           1714,
           5262,
           2184,
           3300,
           2979,
           2247,
           1873,
           1544,
           2525,
           7708,
           4984,
           3997,
           1456,
           2916,
           2120,
           3013,
           2746,
           3608,
           6014,
           4537,
           4276,
           3482,
           2686,
           7408,
           4755,
           3069,
           4128,
           1292,
           5855,
           2077,
           2486,
           3907,
           3488,
           null,
           4592,
           1030,
           3974,
           2971,
           5641,
           4275,
           4153,
           2366,
           2409,
           189,
           9629,
           5011,
           3131,
           1809,
           1793,
           4050,
           6552,
           4401,
           4197,
           2603,
           6158,
           225,
           2392,
           4690,
           3213,
           null,
           1913,
           3840,
           984,
           1689,
           5694,
           258,
           3517,
           2686,
           3496,
           3053,
           3697,
           158,
           1605,
           3568,
           1556,
           2399,
           2005,
           2775,
           2635,
           3649,
           2140,
           4718,
           2593,
           6360,
           1934,
           4420,
           5553,
           2694,
           5622,
           2942,
           2335,
           2971,
           5181,
           2716,
           3223,
           1194,
           4286,
           3855,
           3721,
           5380,
           1737,
           1319,
           4821,
           4091,
           1875,
           3521,
           2939,
           2270,
           1621,
           2872,
           3590,
           3405,
           2103,
           3449,
           3982,
           3434,
           6126,
           3726,
           22,
           2807,
           6196,
           3751,
           3482,
           4377,
           1760,
           2946,
           3492,
           3054,
           4059,
           3856,
           3789,
           1721,
           1504,
           3743,
           3577,
           5467,
           5355,
           3428,
           1219,
           1386,
           3065,
           2230,
           4432,
           2123,
           1227,
           5822,
           2046,
           3947,
           3241,
           3416,
           1616,
           2878,
           2582,
           4040,
           2619,
           1531,
           3592,
           1332,
           5230,
           3996,
           3285,
           4934,
           4534,
           3283,
           5543,
           2047,
           3967,
           12973,
           2839,
           1870,
           3816,
           3320,
           4020,
           1787,
           2199,
           1548,
           null,
           12506,
           4595,
           1569,
           1452,
           88,
           4619,
           3068,
           5718,
           7490,
           3873,
           3097,
           null,
           844,
           1367,
           2041,
           3020,
           3963,
           1474,
           4663,
           5524,
           5148,
           4425,
           1817,
           6502,
           3884,
           3260,
           6290,
           null,
           2602,
           5370,
           2026,
           3675,
           3063,
           4196,
           881,
           4598,
           3707,
           2972,
           1852,
           3262,
           1542,
           4871,
           2352,
           1690,
           6629,
           null,
           3923,
           2605,
           2347,
           4268,
           2903,
           1410,
           4683,
           3636,
           2560,
           2963,
           2002,
           1875,
           7176,
           2255,
           2843,
           3592,
           3124,
           1765,
           4318,
           3799,
           2379,
           2335,
           3361,
           4492,
           1694,
           5129,
           4013,
           2628,
           2144,
           6602,
           1934,
           4796,
           3665,
           1360,
           2588,
           1814,
           4321,
           2771,
           4469,
           3958,
           1777,
           2225,
           2064,
           4079,
           2205,
           1966,
           2184,
           3409,
           1678,
           2568,
           null,
           2981,
           2320,
           1758,
           1688,
           4532,
           2212,
           2438,
           3784,
           3558,
           4104,
           1365,
           2448,
           2572,
           1990,
           4412,
           2471,
           6214,
           2504,
           1406,
           2266,
           1867,
           3683,
           3618,
           3137,
           1787,
           2739,
           1641,
           2486,
           2001,
           4063,
           6379,
           2488,
           2786,
           1413,
           1395,
           831,
           1203,
           3383,
           5081,
           2922,
           1821,
           2663,
           4188,
           1437,
           1891,
           2879,
           1905,
           2244,
           1720,
           3563,
           7266,
           1461,
           2230,
           3007,
           null,
           2980,
           3670,
           2939,
           1391,
           3272,
           1671,
           2406,
           2641,
           3297,
           1421,
           3435,
           1675,
           1380,
           2656,
           2048,
           1777,
           1992,
           793,
           3174,
           2183,
           2645,
           2773,
           3120,
           2452,
           1142,
           2687,
           4715,
           null,
           2036,
           2602,
           4732,
           1698,
           1894,
           758,
           1613,
           7617,
           4707,
           1455,
           2491,
           2156,
           2912,
           1282,
           3882,
           1673,
           2768,
           2507,
           8721,
           1806,
           2019,
           3286,
           5613,
           1822,
           3697,
           3212,
           1941,
           2939,
           3785,
           1536,
           5199,
           1473,
           3854,
           1849,
           3531,
           null,
           4893,
           1011,
           2829,
           1788,
           8718,
           1215,
           2078,
           1695,
           3354,
           3857,
           3982,
           1323,
           1576,
           2867,
           2765,
           1185,
           2832,
           2798,
           3165,
           4046,
           2552,
           3364,
           1534,
           2660,
           3720,
           1319,
           8797,
           1610,
           2191,
           3897,
           195,
           5069,
           2816,
           2049,
           3932,
           2178,
           3165,
           4064,
           2941,
           5875,
           3103,
           1880,
           2237,
           2966,
           1453,
           3836,
           1620,
           1892,
           4808,
           2416,
           1952,
           4782,
           2396,
           3653,
           1627,
           3773,
           1469,
           3606,
           2146,
           3462,
           1699,
           3918,
           4122,
           2323,
           2451,
           1985,
           1232,
           1707,
           3134,
           1856,
           1739,
           1532,
           1732,
           1489,
           2478,
           1112,
           1988,
           6141,
           1790,
           4267,
           1261,
           1769,
           2656,
           1073,
           1767,
           2456,
           1219,
           1666,
           4196,
           2030,
           1364,
           3266,
           3099,
           3255,
           2561,
           2362,
           2164,
           2593,
           1962,
           19,
           3559,
           3997,
           2870,
           3195,
           null,
           1750,
           589,
           1173,
           6054,
           3426,
           6469,
           null,
           1938,
           3039,
           null,
           3268,
           3773,
           1151,
           2599,
           2544,
           1884,
           3209,
           3172,
           1832,
           1684,
           2309,
           3645,
           2148,
           3044,
           3089,
           1460,
           1873,
           3333,
           4244,
           3647,
           3154,
           1520,
           2770,
           1280,
           1488,
           1079,
           4330,
           6591,
           1854,
           1121,
           2081,
           1641,
           2426,
           2367,
           1189,
           4873,
           3599,
           1642,
           1613,
           null,
           2498,
           3217,
           2056,
           8540,
           2201,
           2497,
           2009,
           2720,
           1635,
           17228,
           null,
           3290,
           2538,
           1836,
           5174,
           1346,
           1229,
           5543,
           1415,
           3563,
           2622,
           2857,
           2442,
           null,
           1722,
           null,
           1602,
           3336,
           3761,
           null,
           4878,
           2541,
           2747,
           2903,
           1576,
           2156,
           1927
          ],
          "coloraxis": "coloraxis",
          "opacity": 0.2,
          "symbol": "circle"
         },
         "mode": "markers",
         "name": "",
         "showlegend": false,
         "type": "scattergl",
         "x": [
          350,
          221,
          47,
          9,
          38,
          89,
          3,
          146,
          56,
          70,
          32,
          78,
          69,
          21,
          92,
          19,
          6,
          83,
          25,
          19,
          38,
          41,
          50,
          15,
          27,
          188,
          1239,
          572,
          40,
          20,
          47,
          174,
          79,
          18,
          20,
          24,
          62,
          85,
          65,
          26,
          11,
          14,
          31,
          25,
          17,
          61,
          21,
          66,
          53,
          131,
          53,
          58,
          20,
          28,
          1659,
          76,
          19,
          20,
          508,
          31,
          13,
          28,
          23,
          5,
          29,
          41,
          31,
          11,
          26,
          582,
          20,
          63,
          18,
          24,
          20,
          52,
          58,
          30,
          98,
          63,
          24,
          10,
          24,
          203,
          44,
          15,
          34,
          33,
          16,
          19,
          49,
          118,
          46,
          21,
          42,
          74,
          182,
          54,
          33,
          47,
          14,
          86,
          81,
          10,
          70,
          112,
          38,
          24,
          77,
          32,
          23,
          21,
          20,
          23,
          51,
          44,
          59,
          34,
          94,
          36,
          19,
          85,
          36,
          17,
          57,
          43,
          19,
          97,
          64,
          55,
          78,
          7,
          20,
          97,
          87,
          68,
          109,
          41,
          54,
          30,
          34,
          49,
          55,
          7,
          74,
          75,
          76,
          12,
          129,
          22,
          43,
          10,
          56,
          31,
          8,
          29,
          32,
          60,
          9,
          61,
          19,
          72,
          10,
          7,
          8,
          21,
          102,
          9,
          50,
          38,
          30,
          108,
          83,
          31,
          125,
          120,
          130,
          39,
          10,
          46,
          28,
          18,
          48,
          27,
          82,
          12,
          130,
          36,
          5,
          16,
          48,
          21,
          17,
          58,
          71,
          43,
          10,
          32,
          93,
          3,
          59,
          9,
          19,
          174,
          21,
          21,
          58,
          31,
          50,
          26,
          22,
          83,
          7,
          69,
          6,
          4,
          77,
          49,
          56,
          20,
          34,
          47,
          31,
          8,
          68,
          34,
          118,
          55,
          10,
          32,
          17,
          72,
          15,
          35,
          75,
          20,
          44,
          69,
          10,
          68,
          11,
          51,
          16,
          9,
          45,
          38,
          14,
          66,
          51,
          67,
          22,
          14,
          73,
          2,
          8,
          73,
          159,
          28,
          62,
          48,
          30,
          69,
          18,
          18,
          25,
          42,
          55,
          29,
          20,
          34,
          44,
          33,
          29,
          58,
          25,
          57,
          42,
          41,
          41,
          30,
          8,
          6,
          94,
          65,
          26,
          78,
          76,
          22,
          32,
          42,
          24,
          90,
          13,
          24,
          18,
          44,
          61,
          16,
          20,
          108,
          48,
          17,
          8,
          89,
          10,
          2,
          25,
          37,
          13,
          36,
          17,
          50,
          48,
          25,
          34,
          19,
          12,
          48,
          18,
          14,
          80,
          25,
          8,
          54,
          122,
          56,
          56,
          10,
          50,
          11,
          38,
          24,
          26,
          132,
          40,
          46,
          51,
          29,
          40,
          43,
          77,
          19,
          122,
          8,
          12,
          31,
          11,
          22,
          72,
          39,
          70,
          57,
          56,
          23,
          35,
          24,
          12,
          18,
          25,
          34,
          19,
          19,
          14,
          23,
          42,
          118,
          37,
          19,
          20,
          76,
          41,
          9,
          9,
          32,
          36,
          42,
          52,
          35,
          10,
          23,
          54,
          23,
          31,
          14,
          24,
          43,
          139,
          125,
          12,
          5,
          30,
          9,
          4,
          34,
          72,
          3,
          84,
          32,
          59,
          39,
          7,
          15,
          37,
          46,
          38,
          4,
          35,
          23,
          15,
          59,
          26,
          33,
          8,
          20,
          10,
          74,
          110,
          62,
          7,
          13,
          5,
          12,
          94,
          48,
          10,
          11,
          27,
          28,
          14,
          9,
          33,
          32,
          30,
          18,
          18,
          31,
          15,
          96,
          66,
          86,
          15,
          11,
          60,
          15,
          15,
          8,
          17,
          49,
          47,
          49,
          44,
          59,
          5,
          29,
          16,
          28,
          75,
          11,
          71,
          37,
          25,
          70,
          89,
          62,
          10,
          10,
          12,
          22,
          7,
          8,
          20,
          62,
          18,
          19,
          13,
          84,
          11,
          12,
          12,
          2,
          33,
          94,
          11,
          8,
          30,
          74,
          55,
          45,
          6,
          7,
          32,
          92,
          27,
          17,
          93,
          112,
          38,
          16,
          59,
          25,
          69,
          21,
          50,
          11,
          9,
          83,
          17,
          25,
          77,
          21,
          32,
          49,
          33,
          30,
          9,
          51,
          31,
          5,
          26,
          43,
          19,
          14,
          10,
          24,
          15,
          17,
          47,
          7,
          44,
          35,
          39,
          34,
          77,
          10,
          12,
          16,
          17,
          22,
          9,
          17,
          29,
          14,
          29,
          9,
          11,
          6,
          105,
          44,
          23,
          42,
          18,
          67,
          4,
          6,
          44,
          13,
          61,
          15,
          39,
          45,
          47,
          59,
          20,
          11,
          9,
          33,
          14,
          27,
          16,
          68,
          35,
          35,
          47,
          24,
          24,
          10,
          24,
          68,
          20,
          14,
          58,
          30,
          58,
          15,
          113,
          46,
          21,
          11,
          25,
          35,
          33,
          38,
          11,
          40,
          17,
          23,
          13,
          23,
          13,
          15,
          12,
          30,
          36,
          9,
          57,
          33,
          18,
          48,
          38,
          34,
          95,
          20,
          50,
          16,
          48,
          43,
          12,
          21,
          17,
          31,
          42,
          4,
          35,
          9,
          8,
          16,
          7,
          77,
          34,
          32,
          50,
          24,
          10,
          22,
          14,
          54,
          23,
          28,
          12,
          14,
          56,
          38,
          23,
          72,
          27,
          112,
          27,
          9,
          34,
          8,
          14,
          11,
          63,
          16,
          23,
          18,
          24,
          11,
          10,
          32,
          63,
          23,
          16,
          17,
          20,
          42,
          67,
          18,
          34,
          72,
          27,
          18,
          61,
          19,
          16,
          14,
          19,
          7,
          14,
          87,
          21,
          30,
          18,
          32,
          22,
          13,
          3,
          48,
          13,
          9,
          41,
          27,
          48,
          6,
          15,
          11,
          9,
          38,
          61,
          102,
          12,
          33,
          4,
          4,
          22,
          14,
          50,
          24,
          55,
          17,
          25,
          17,
          35,
          13,
          57,
          2,
          41,
          32,
          26,
          4,
          4,
          12,
          28,
          21,
          20,
          9,
          40,
          4,
          9,
          48,
          14,
          12,
          11,
          11,
          64,
          25,
          17,
          17,
          24,
          24,
          5,
          40,
          19,
          24,
          39,
          54,
          16,
          38,
          13,
          79,
          21,
          49,
          5,
          17,
          12,
          12,
          11,
          22,
          43,
          44,
          24,
          22,
          9,
          14,
          5,
          7,
          11,
          40,
          26,
          19,
          17,
          8,
          41,
          8,
          38,
          27,
          7,
          16,
          14,
          16,
          13,
          18,
          10,
          25,
          6,
          36,
          19,
          8,
          9,
          13,
          27,
          17,
          21,
          23,
          30,
          8,
          13,
          50,
          10,
          41,
          20,
          9,
          14,
          6,
          9,
          46,
          56,
          22,
          6,
          22,
          13,
          21,
          17,
          15,
          2,
          7,
          31,
          19,
          36,
          16,
          13,
          11,
          19,
          30,
          25,
          23,
          17,
          19,
          9,
          5,
          16,
          41,
          32,
          3,
          26,
          4,
          29,
          18,
          10,
          17,
          12,
          24,
          46,
          14,
          70,
          3,
          5,
          13,
          7,
          10,
          40,
          41,
          44,
          14,
          11,
          27,
          28,
          10,
          6,
          3,
          5,
          6,
          26,
          14,
          24,
          12,
          17,
          14,
          13,
          42,
          22,
          16,
          8,
          10,
          34,
          9,
          5,
          35,
          8,
          17,
          25,
          24,
          12,
          20,
          18,
          19,
          9,
          19,
          11,
          16,
          24,
          10,
          16,
          9,
          49,
          7,
          14,
          21,
          29,
          4,
          17,
          33,
          25,
          20,
          9,
          13,
          45,
          8,
          13,
          4,
          4,
          5,
          19,
          17,
          9,
          19,
          14,
          28,
          22,
          5,
          46,
          6,
          41,
          32,
          31,
          8,
          8,
          13,
          31,
          15,
          24,
          5,
          23,
          20,
          46,
          14,
          17,
          11,
          32,
          13,
          40,
          25,
          18,
          9,
          20,
          12,
          30,
          12,
          22,
          16,
          32,
          12,
          11,
          17,
          4,
          5,
          17,
          6,
          5,
          3,
          16,
          40,
          24,
          81,
          12,
          9,
          5,
          15,
          10,
          22,
          26,
          14,
          33,
          7,
          38,
          34,
          25,
          15,
          15,
          5,
          53,
          30,
          15,
          3,
          31,
          11,
          8,
          23,
          12,
          10,
          18,
          29,
          37,
          11,
          18,
          7,
          14,
          31,
          10,
          6,
          37,
          11,
          14,
          9,
          7,
          12,
          5,
          31,
          35,
          27,
          11,
          6,
          29,
          19,
          16,
          7,
          9,
          10,
          5,
          9,
          5,
          7,
          22,
          8,
          14,
          28,
          20,
          13,
          5,
          15,
          4,
          10,
          13,
          11,
          11,
          39,
          2,
          29,
          36,
          26,
          5,
          5,
          24,
          2,
          7,
          6,
          28,
          22,
          5,
          13,
          39,
          8,
          7,
          15,
          14,
          23,
          10,
          3,
          15,
          28,
          57,
          10,
          18,
          13,
          14,
          29,
          40,
          20,
          18,
          18,
          31,
          11,
          5,
          58,
          9,
          8,
          6,
          36,
          40,
          9,
          12,
          5,
          27,
          26,
          5,
          67,
          5,
          10,
          21,
          4,
          13,
          5,
          19,
          14,
          8,
          27,
          44,
          16,
          39,
          14,
          31,
          49,
          10,
          16,
          6,
          38,
          21,
          7,
          6,
          7,
          3,
          2,
          12,
          8,
          7,
          9,
          19,
          20,
          32,
          4,
          35,
          4,
          21,
          9,
          15,
          3,
          6,
          9,
          18,
          11,
          9,
          15,
          14,
          15,
          13,
          14,
          23,
          25,
          3,
          24,
          35,
          14,
          41,
          13,
          17,
          4,
          9,
          62,
          7,
          26,
          21,
          19,
          10,
          15,
          4,
          37,
          4,
          12,
          11,
          17,
          5,
          10,
          21,
          7,
          15,
          13,
          8,
          4,
          10,
          13,
          17,
          16,
          6,
          29,
          13,
          7,
          10,
          14,
          2,
          4,
          24,
          3,
          16,
          14,
          2,
          6,
          24,
          16,
          14,
          15,
          11,
          9,
          11,
          30,
          6,
          31,
          10,
          11,
          43,
          12,
          13,
          21,
          10,
          6,
          11,
          5,
          16,
          8,
          23,
          12,
          8,
          14,
          2,
          28,
          26,
          10,
          28,
          8,
          8,
          41,
          6,
          23,
          21,
          10,
          4,
          5,
          4,
          6,
          13,
          24,
          4,
          2,
          15,
          5,
          21,
          21,
          16,
          13,
          4,
          4,
          30,
          7,
          8,
          7,
          11,
          6,
          24,
          18,
          10,
          15,
          4,
          11,
          16,
          15,
          9,
          17,
          21,
          6,
          9,
          7,
          7,
          19,
          8,
          10,
          24,
          16,
          4,
          3,
          3,
          3,
          20,
          13,
          14,
          20,
          8,
          3,
          61,
          8,
          10,
          5,
          4,
          8,
          6,
          7,
          6,
          6,
          12,
          7,
          34,
          11,
          7,
          7,
          4,
          15,
          16,
          5,
          13,
          5,
          8,
          10,
          14,
          13,
          4,
          9,
          9,
          10,
          7,
          11,
          4,
          30,
          2,
          28,
          5,
          5,
          10,
          10,
          2,
          9,
          21,
          9,
          11,
          25,
          10,
          10,
          18,
          6,
          28,
          14,
          12,
          5,
          8,
          9,
          17,
          10,
          9,
          3,
          6,
          9,
          5,
          20,
          6,
          23,
          16,
          9,
          7,
          14,
          13,
          9,
          3,
          7,
          8,
          9,
          22,
          6,
          10,
          2,
          5,
          8,
          10,
          13,
          5,
          9,
          5,
          2,
          6,
          3,
          5,
          11,
          17,
          5,
          2,
          6,
          4,
          19,
          17,
          28,
          8,
          3,
          10,
          13,
          26,
          16,
          13,
          6,
          19,
          12,
          5,
          14,
          8,
          6,
          4,
          14,
          2,
          5,
          18,
          6,
          7,
          3,
          5,
          16,
          6,
          36,
          7,
          4,
          13,
          12,
          9,
          7,
          8,
          19,
          18,
          12,
          4,
          7,
          5,
          20,
          9,
          17,
          13,
          3,
          10,
          7,
          32,
          5,
          9,
          9,
          4,
          5,
          6,
          9,
          18,
          10,
          5,
          4,
          5,
          24,
          7,
          4,
          10,
          5,
          12,
          13,
          4,
          9,
          3,
          22,
          7,
          3,
          8,
          12,
          4,
          15,
          9,
          8,
          13,
          7,
          9,
          20,
          14,
          10,
          6,
          3,
          26,
          10,
          11,
          9,
          19,
          13,
          7,
          3,
          8,
          12,
          10,
          13,
          4,
          7,
          9,
          8,
          21,
          7,
          11,
          23,
          10,
          10,
          8,
          2,
          5,
          14,
          2,
          6,
          4,
          8,
          10,
          14,
          14,
          14,
          12,
          4,
          17,
          12,
          3,
          7,
          5,
          5,
          6,
          11,
          10,
          22,
          7,
          4,
          10,
          10,
          2,
          2,
          9,
          4,
          2,
          7,
          15,
          10,
          8,
          29,
          6,
          5,
          3,
          8,
          2,
          9,
          9,
          13,
          6,
          5,
          9,
          3,
          4,
          3,
          10,
          11,
          2,
          39,
          2,
          7,
          9,
          5,
          6,
          9,
          4,
          12,
          6,
          4,
          6,
          9,
          8,
          5,
          2,
          11,
          5,
          24,
          8,
          11,
          3,
          7,
          13,
          9,
          5,
          2,
          7,
          5,
          8,
          7,
          5,
          3,
          2,
          13,
          5,
          6,
          4,
          14,
          2,
          11,
          8,
          11,
          3,
          8,
          6,
          3,
          7,
          6,
          8,
          9,
          12,
          5,
          3,
          10,
          2,
          10,
          5,
          4,
          11,
          7,
          7,
          4,
          2,
          5,
          7,
          11,
          3,
          7,
          3,
          8,
          4,
          5,
          8,
          11,
          9,
          8,
          6,
          4,
          4,
          3,
          7,
          12,
          3,
          5,
          7,
          6,
          5,
          8,
          3,
          3,
          5,
          7,
          8,
          6,
          4,
          4,
          8,
          9,
          3,
          8,
          5,
          3,
          5,
          4,
          16,
          7,
          4,
          3,
          7,
          8,
          2,
          7,
          9,
          7,
          6,
          8,
          17,
          2,
          6,
          11,
          5,
          2,
          7,
          3,
          5,
          12,
          6,
          3,
          5,
          8,
          3,
          2,
          5,
          2,
          8,
          14,
          6,
          6,
          9,
          8,
          5,
          5,
          3,
          8,
          4,
          3,
          4,
          7,
          10,
          7,
          4,
          9,
          4,
          5,
          6,
          6,
          3,
          3,
          11,
          5,
          3,
          5,
          2,
          3,
          7,
          5,
          5,
          2,
          3,
          3,
          12,
          2,
          4,
          4,
          4,
          8,
          6,
          6,
          3,
          6,
          2,
          3,
          2,
          6,
          2,
          9,
          7,
          8,
          5,
          2,
          5,
          3,
          4,
          3,
          12,
          6,
          5,
          5,
          4,
          5,
          3,
          5,
          4,
          5,
          8,
          4,
          16,
          4,
          4,
          7,
          5,
          7,
          6,
          3,
          2,
          4,
          4,
          9,
          3,
          5,
          4,
          2,
          6,
          6,
          6,
          7,
          3,
          2,
          3,
          5,
          2,
          5,
          5,
          4,
          3,
          2,
          6,
          4,
          4,
          3,
          3,
          2,
          8,
          4,
          3,
          2,
          2,
          5,
          6,
          3,
          3,
          2,
          5,
          2,
          1,
          2,
          12,
          3,
          2,
          2,
          2,
          1,
          3,
          3,
          2,
          4,
          1,
          2,
          2,
          1,
          4,
          1,
          8,
          1,
          3,
          5,
          2,
          7,
          3,
          3,
          2,
          6,
          1,
          5,
          4,
          2,
          4,
          1,
          10,
          3,
          7,
          5,
          3,
          3,
          4,
          3,
          6,
          2,
          4,
          2,
          4,
          1,
          4,
          3,
          2,
          2,
          2,
          6,
          4,
          2,
          4,
          5,
          2,
          4,
          5,
          2,
          4,
          2,
          3,
          5,
          1,
          1,
          1,
          2,
          6,
          6,
          3,
          1,
          2,
          1,
          3,
          1,
          5,
          2,
          2,
          3,
          9,
          2,
          1,
          6,
          2,
          1,
          5,
          1,
          1,
          2,
          4,
          5,
          2,
          3,
          2,
          2,
          4,
          3,
          1,
          1,
          1,
          2,
          2,
          1,
          2,
          2,
          2,
          2,
          2,
          1,
          1,
          2,
          1,
          1,
          7,
          1,
          1,
          2,
          2,
          5,
          2,
          1,
          1,
          4,
          1,
          4,
          2,
          2,
          1,
          4,
          1,
          1,
          2,
          4,
          9,
          2,
          7,
          2,
          1,
          3,
          7,
          1,
          2,
          1,
          3,
          4,
          2,
          1,
          1,
          1,
          4,
          3,
          1,
          3,
          1,
          3,
          2,
          4,
          3,
          5,
          2,
          1,
          1,
          2,
          1,
          2,
          1,
          1,
          1,
          1,
          4,
          2,
          2,
          1,
          1,
          2,
          1,
          2,
          1,
          1,
          1,
          1,
          6,
          1,
          1,
          1,
          2,
          1,
          1,
          2,
          1,
          1,
          3,
          2,
          5,
          1,
          3,
          4,
          1,
          1,
          2,
          1,
          1,
          1,
          1,
          2,
          2,
          1,
          3,
          1,
          2,
          1,
          1,
          2,
          1,
          1,
          2,
          3,
          1,
          1,
          1,
          2,
          1,
          1,
          3,
          2,
          1,
          1,
          1,
          2,
          1,
          1,
          1,
          1,
          1,
          1,
          3,
          1,
          1,
          1,
          1,
          1
         ],
         "xaxis": "x",
         "y": [
          25199,
          5368,
          6169,
          3095,
          3302,
          7826,
          2721,
          5979,
          7535,
          6369,
          3478,
          7045,
          4808,
          3204,
          3298,
          9024,
          8688,
          2952,
          2581,
          8346,
          6217,
          4031,
          77,
          3644,
          5817,
          5361,
          4204,
          2380,
          2894,
          2262,
          6323,
          9876,
          5101,
          5817,
          2099,
          3820,
          7815,
          8802,
          7651,
          2694,
          4741,
          2514,
          6159,
          6337,
          3835,
          2342,
          2454,
          8370,
          3732,
          7696,
          4729,
          4401,
          6326,
          6058,
          3917,
          8305,
          2564,
          4930,
          9169,
          4286,
          2352,
          3766,
          3724,
          2013,
          6941,
          5309,
          4932,
          6665,
          5728,
          2286,
          4954,
          8051,
          6102,
          4375,
          4277,
          2142,
          6000,
          1742,
          5899,
          5499,
          6178,
          6119,
          4360,
          10362,
          5462,
          2258,
          4280,
          5369,
          3553,
          8033,
          9101,
          6952,
          4124,
          4061,
          2524,
          5814,
          8599,
          7067,
          2410,
          12421,
          3401,
          3996,
          3486,
          8113,
          3310,
          3178,
          2720,
          4162,
          10218,
          4377,
          2661,
          1035,
          5994,
          4225,
          7279,
          4848,
          8403,
          8475,
          5736,
          3937,
          5406,
          3857,
          1902,
          1112,
          7039,
          7065,
          3010,
          4591,
          5382,
          4934,
          5241,
          3442,
          2574,
          3846,
          5114,
          2037,
          4406,
          3349,
          6926,
          9633,
          2439,
          4440,
          5470,
          3241,
          7030,
          5200,
          6529,
          6366,
          8406,
          3643,
          3237,
          3057,
          3219,
          2957,
          3007,
          4919,
          9641,
          6033,
          2473,
          7217,
          3346,
          6049,
          4254,
          1668,
          2674,
          2649,
          3233,
          6685,
          5798,
          3779,
          3240,
          4384,
          15377,
          4687,
          6669,
          8792,
          14,
          5899,
          1157,
          4520,
          4700,
          4971,
          13614,
          3088,
          4288,
          2942,
          4921,
          3668,
          2714,
          6534,
          4397,
          2537,
          3810,
          4326,
          12129,
          3238,
          3184,
          4624,
          2978,
          2103,
          5563,
          4650,
          5156,
          11840,
          2892,
          5104,
          6578,
          4298,
          2704,
          6157,
          5246,
          3900,
          2704,
          4423,
          4408,
          3549,
          4647,
          2795,
          9916,
          4822,
          565,
          2082,
          6245,
          4165,
          6026,
          3355,
          7644,
          5930,
          4720,
          3571,
          1660,
          6179,
          1414,
          3063,
          5582,
          2724,
          5523,
          3991,
          null,
          6464,
          5512,
          5703,
          3915,
          4343,
          5441,
          6238,
          3944,
          2885,
          2810,
          12871,
          2355,
          5316,
          11167,
          6509,
          3629,
          5311,
          15698,
          3138,
          8574,
          6837,
          4971,
          4284,
          7180,
          5471,
          7148,
          3026,
          6342,
          2988,
          1718,
          7709,
          4253,
          4269,
          4387,
          1674,
          5619,
          5184,
          5263,
          4939,
          6533,
          5474,
          3174,
          1662,
          5728,
          8458,
          3049,
          5792,
          8093,
          3692,
          3991,
          6146,
          3372,
          7777,
          2619,
          4113,
          2551,
          3867,
          9388,
          1624,
          5050,
          10324,
          4318,
          3783,
          3170,
          7205,
          2362,
          1262,
          1707,
          3972,
          1832,
          1596,
          4939,
          3684,
          3373,
          6280,
          4159,
          3835,
          3759,
          6261,
          1761,
          3410,
          6370,
          1616,
          3723,
          8177,
          4541,
          5574,
          5425,
          2546,
          2136,
          2665,
          7620,
          4426,
          1751,
          8316,
          4154,
          3869,
          4347,
          7567,
          5277,
          3951,
          7224,
          81,
          8463,
          2390,
          2592,
          1979,
          2295,
          3013,
          8261,
          4521,
          5458,
          6680,
          3087,
          4037,
          2483,
          2432,
          2933,
          1317,
          5908,
          2708,
          1638,
          4655,
          5650,
          7637,
          6702,
          3747,
          5182,
          3139,
          3601,
          6291,
          7059,
          1819,
          3907,
          6532,
          4431,
          1910,
          8997,
          3102,
          2687,
          2939,
          3244,
          6442,
          6828,
          2226,
          5511,
          8117,
          6534,
          7032,
          3216,
          2367,
          6116,
          4556,
          2422,
          3828,
          2397,
          3169,
          6321,
          10174,
          3243,
          2859,
          2422,
          5140,
          5028,
          4193,
          5580,
          3589,
          7958,
          5288,
          5709,
          5644,
          3369,
          3640,
          3582,
          4341,
          2776,
          1983,
          5923,
          5818,
          4367,
          4978,
          4528,
          3778,
          5544,
          8866,
          6270,
          3024,
          4338,
          2834,
          6737,
          3665,
          5437,
          6933,
          2493,
          2254,
          5338,
          3638,
          3557,
          4499,
          3142,
          7906,
          4056,
          1774,
          8434,
          2969,
          5291,
          5064,
          3085,
          3169,
          7737,
          6302,
          8575,
          5541,
          1134,
          1993,
          4562,
          3244,
          4483,
          5815,
          7398,
          3256,
          8924,
          7752,
          6250,
          8758,
          4102,
          6457,
          3873,
          1694,
          1841,
          4292,
          2763,
          5036,
          4062,
          3616,
          4175,
          13483,
          4024,
          2649,
          3238,
          3542,
          2343,
          4277,
          3072,
          4389,
          4256,
          7674,
          2267,
          3975,
          4210,
          3500,
          4198,
          4027,
          3533,
          3899,
          5872,
          8358,
          2709,
          3716,
          6572,
          5076,
          5597,
          1072,
          5868,
          2488,
          3453,
          8035,
          1459,
          3178,
          8286,
          3362,
          3479,
          7749,
          7639,
          5928,
          1349,
          714,
          1733,
          2261,
          7053,
          9488,
          4752,
          3562,
          1854,
          6648,
          6507,
          3171,
          null,
          null,
          5145,
          3127,
          2069,
          2309,
          1764,
          4106,
          3246,
          4853,
          5925,
          4204,
          3130,
          825,
          5663,
          2367,
          2810,
          1431,
          3869,
          1597,
          7381,
          9442,
          201,
          2371,
          4276,
          7996,
          1445,
          3107,
          1757,
          1595,
          9686,
          4547,
          3337,
          7482,
          8976,
          5678,
          5138,
          2601,
          2002,
          4804,
          4881,
          5358,
          5364,
          10087,
          null,
          4059,
          3899,
          6521,
          5636,
          2879,
          4922,
          8310,
          2991,
          3204,
          2559,
          3113,
          9457,
          4354,
          12768,
          7904,
          4183,
          7060,
          3387,
          5504,
          8030,
          4609,
          3828,
          2880,
          3608,
          3217,
          3546,
          4605,
          4392,
          3246,
          1485,
          2746,
          3636,
          6271,
          5603,
          3082,
          4576,
          null,
          2330,
          7658,
          9944,
          5382,
          6667,
          2750,
          1199,
          4139,
          1741,
          3826,
          1565,
          4684,
          2187,
          146,
          4195,
          1132,
          4671,
          4740,
          2832,
          9865,
          3182,
          8229,
          6616,
          8222,
          4503,
          2872,
          4725,
          3163,
          113,
          4060,
          4207,
          4008,
          1322,
          3636,
          5112,
          4126,
          1260,
          1686,
          3705,
          3452,
          4161,
          2214,
          1517,
          3066,
          8078,
          5739,
          2236,
          4852,
          3384,
          2348,
          2443,
          2457,
          4081,
          2433,
          4324,
          2487,
          1635,
          7129,
          6843,
          2938,
          5073,
          7018,
          5996,
          2314,
          3295,
          2678,
          4416,
          2752,
          7904,
          3432,
          3498,
          3324,
          9886,
          5686,
          null,
          3502,
          2512,
          2245,
          4334,
          5092,
          3202,
          3176,
          4491,
          4743,
          9577,
          1362,
          3323,
          4724,
          3257,
          3185,
          3538,
          6995,
          2922,
          4855,
          2463,
          1707,
          5231,
          5547,
          9906,
          4346,
          7280,
          3614,
          7891,
          3077,
          4464,
          1938,
          6108,
          null,
          4095,
          3306,
          3329,
          4204,
          1804,
          2131,
          3163,
          3273,
          3279,
          1611,
          3310,
          3897,
          1289,
          4769,
          2317,
          2279,
          2423,
          3153,
          7506,
          479,
          3851,
          1880,
          3722,
          6010,
          1839,
          3121,
          5913,
          1185,
          3491,
          5211,
          3678,
          3858,
          2051,
          2818,
          3059,
          3574,
          2774,
          5442,
          2559,
          4313,
          3711,
          2464,
          4958,
          3347,
          2652,
          2832,
          1844,
          2052,
          1331,
          5746,
          1935,
          8670,
          4144,
          4544,
          2992,
          4327,
          3409,
          2928,
          4087,
          1996,
          4035,
          5811,
          4722,
          5207,
          3826,
          4355,
          5085,
          3302,
          2328,
          5190,
          4815,
          2647,
          4021,
          2736,
          3694,
          3377,
          3024,
          3729,
          4193,
          4400,
          5717,
          4682,
          3733,
          5822,
          2794,
          2485,
          3273,
          2256,
          4338,
          2568,
          3775,
          3731,
          3951,
          3481,
          3935,
          5444,
          9571,
          5313,
          1821,
          2798,
          4393,
          4327,
          9850,
          7269,
          2317,
          983,
          3609,
          1795,
          2698,
          5011,
          6222,
          7531,
          3068,
          2271,
          3865,
          3047,
          6416,
          1709,
          3469,
          3528,
          5690,
          5582,
          3023,
          5095,
          1014,
          4836,
          4051,
          3315,
          9245,
          2303,
          5238,
          5759,
          4201,
          3788,
          3341,
          6103,
          7688,
          3850,
          1230,
          5618,
          5073,
          1188,
          2700,
          2372,
          5895,
          2031,
          6023,
          3511,
          2171,
          3949,
          6291,
          6352,
          2236,
          2965,
          2671,
          3358,
          1105,
          1150,
          5755,
          6569,
          5250,
          9241,
          4332,
          6000,
          3659,
          4090,
          2838,
          4390,
          2715,
          3617,
          5306,
          3258,
          2591,
          5430,
          2905,
          2649,
          5744,
          1227,
          2246,
          1548,
          2270,
          6635,
          3290,
          1210,
          3064,
          3587,
          3943,
          6569,
          4264,
          5057,
          6827,
          2613,
          3476,
          3578,
          2007,
          2707,
          2729,
          4043,
          2891,
          3652,
          5779,
          2326,
          7061,
          1622,
          4873,
          2816,
          3211,
          6939,
          1124,
          3526,
          4589,
          5177,
          1346,
          6806,
          3308,
          3063,
          null,
          3013,
          1557,
          4197,
          2574,
          4243,
          3222,
          5323,
          3018,
          2789,
          3991,
          1615,
          5777,
          5155,
          2671,
          3478,
          5050,
          3870,
          8092,
          2514,
          5063,
          3665,
          2034,
          2409,
          3733,
          3548,
          2129,
          3411,
          4189,
          5419,
          2376,
          3559,
          1515,
          3183,
          5580,
          7092,
          7327,
          2639,
          365,
          3271,
          5962,
          2304,
          3927,
          5854,
          2711,
          3200,
          1880,
          6744,
          11107,
          8320,
          3779,
          1051,
          3797,
          3922,
          4199,
          2223,
          2302,
          5646,
          3967,
          1053,
          3254,
          2376,
          4764,
          3954,
          2078,
          3850,
          686,
          3696,
          2886,
          4593,
          3897,
          2185,
          2623,
          3597,
          2565,
          12228,
          2184,
          6026,
          3013,
          4073,
          3017,
          7456,
          3181,
          2605,
          3494,
          3028,
          3673,
          2225,
          1927,
          2935,
          4266,
          4082,
          7291,
          6647,
          7885,
          3416,
          3035,
          5639,
          1660,
          4211,
          2180,
          2787,
          1724,
          3565,
          1377,
          4663,
          3270,
          5819,
          1954,
          1760,
          5593,
          6013,
          null,
          2713,
          null,
          7737,
          2291,
          2946,
          8890,
          1305,
          2111,
          2133,
          4599,
          1720,
          3228,
          1182,
          1725,
          8346,
          13002,
          1953,
          3685,
          3128,
          2562,
          12370,
          6683,
          4230,
          2174,
          2666,
          10588,
          2339,
          2304,
          6973,
          3960,
          null,
          3036,
          5310,
          3768,
          1922,
          1404,
          1989,
          4882,
          7739,
          4211,
          2857,
          1066,
          3652,
          3184,
          3514,
          2546,
          2699,
          3304,
          null,
          4542,
          7329,
          3388,
          4226,
          7891,
          1826,
          2530,
          5303,
          4941,
          6094,
          2488,
          5537,
          2221,
          1415,
          1778,
          1733,
          2627,
          4202,
          3690,
          2673,
          1926,
          3114,
          1618,
          4824,
          3855,
          4375,
          6911,
          2755,
          2312,
          4227,
          4389,
          2035,
          2416,
          2049,
          5461,
          4596,
          4067,
          5541,
          3515,
          3255,
          2047,
          5489,
          3255,
          8786,
          3893,
          4835,
          6218,
          2194,
          9469,
          3828,
          2068,
          4669,
          2462,
          8957,
          5291,
          3457,
          26,
          2146,
          1519,
          4843,
          3988,
          5043,
          4172,
          3298,
          3590,
          889,
          2257,
          3656,
          2831,
          3434,
          5244,
          2932,
          810,
          2892,
          169,
          3686,
          3749,
          3262,
          2284,
          7032,
          4135,
          null,
          3941,
          5675,
          3632,
          4352,
          4835,
          2226,
          3218,
          3258,
          1885,
          3866,
          6135,
          3498,
          2483,
          3793,
          4885,
          1762,
          1521,
          8269,
          2291,
          6205,
          2893,
          2359,
          6552,
          4884,
          3239,
          2173,
          5299,
          2425,
          null,
          3148,
          4012,
          4613,
          3088,
          2740,
          2440,
          2229,
          1793,
          4043,
          3733,
          3870,
          6506,
          3724,
          4859,
          1960,
          4218,
          2814,
          127,
          4236,
          3210,
          4894,
          6171,
          3335,
          4209,
          2151,
          1766,
          1714,
          9048,
          7055,
          5318,
          2699,
          6220,
          4344,
          3319,
          2157,
          4513,
          4616,
          3716,
          4728,
          3466,
          3760,
          3834,
          4893,
          2622,
          5819,
          5124,
          2411,
          5228,
          3054,
          1120,
          3133,
          2134,
          4835,
          3134,
          3573,
          2249,
          6622,
          6540,
          3543,
          3180,
          6294,
          1262,
          2153,
          3935,
          2660,
          2029,
          4368,
          3629,
          3665,
          2938,
          3220,
          5312,
          3895,
          6201,
          2802,
          2735,
          1889,
          4282,
          6527,
          1627,
          1842,
          3667,
          4111,
          416,
          2098,
          4622,
          2645,
          3557,
          220,
          1895,
          4099,
          5100,
          5140,
          1774,
          2955,
          5259,
          3702,
          1040,
          2837,
          4719,
          2251,
          59,
          2847,
          2742,
          3782,
          2583,
          3409,
          2935,
          2236,
          4229,
          3961,
          981,
          5924,
          3592,
          2507,
          2522,
          3552,
          4876,
          2169,
          4714,
          75,
          3617,
          4164,
          4313,
          3378,
          4107,
          2711,
          2821,
          3198,
          2914,
          3155,
          2577,
          5106,
          1074,
          4226,
          4602,
          5589,
          2199,
          2573,
          920,
          7837,
          6309,
          4386,
          3710,
          1853,
          3905,
          3599,
          4774,
          2756,
          3102,
          2717,
          6240,
          1727,
          2880,
          2329,
          2684,
          4708,
          1520,
          2496,
          2363,
          2137,
          4973,
          5616,
          3125,
          3700,
          null,
          1264,
          3274,
          1793,
          4073,
          6847,
          2206,
          1470,
          4764,
          3603,
          5980,
          5269,
          8069,
          2297,
          7693,
          3137,
          2275,
          3417,
          1583,
          1271,
          1800,
          2508,
          1235,
          3616,
          6204,
          2988,
          5068,
          3327,
          1380,
          4168,
          3342,
          6410,
          3535,
          1978,
          1873,
          3572,
          5461,
          5241,
          4508,
          4830,
          5726,
          1822,
          2369,
          2770,
          2615,
          4504,
          5260,
          6490,
          5082,
          5721,
          2885,
          2596,
          2655,
          2830,
          6645,
          2572,
          4950,
          5081,
          2793,
          2419,
          4016,
          4073,
          1606,
          4615,
          3047,
          3158,
          3135,
          null,
          3800,
          6704,
          5628,
          3280,
          1543,
          5243,
          2292,
          5295,
          3614,
          4133,
          1724,
          3332,
          2784,
          3141,
          2487,
          1714,
          5262,
          2184,
          3300,
          2979,
          2247,
          1873,
          1544,
          2525,
          7708,
          4984,
          3997,
          1456,
          2916,
          2120,
          3013,
          2746,
          3608,
          6014,
          4537,
          4276,
          3482,
          2686,
          7408,
          4755,
          3069,
          4128,
          1292,
          5855,
          2077,
          2486,
          3907,
          3488,
          null,
          4592,
          1030,
          3974,
          2971,
          5641,
          4275,
          4153,
          2366,
          2409,
          189,
          9629,
          5011,
          3131,
          1809,
          1793,
          4050,
          6552,
          4401,
          4197,
          2603,
          6158,
          225,
          2392,
          4690,
          3213,
          null,
          1913,
          3840,
          984,
          1689,
          5694,
          258,
          3517,
          2686,
          3496,
          3053,
          3697,
          158,
          1605,
          3568,
          1556,
          2399,
          2005,
          2775,
          2635,
          3649,
          2140,
          4718,
          2593,
          6360,
          1934,
          4420,
          5553,
          2694,
          5622,
          2942,
          2335,
          2971,
          5181,
          2716,
          3223,
          1194,
          4286,
          3855,
          3721,
          5380,
          1737,
          1319,
          4821,
          4091,
          1875,
          3521,
          2939,
          2270,
          1621,
          2872,
          3590,
          3405,
          2103,
          3449,
          3982,
          3434,
          6126,
          3726,
          22,
          2807,
          6196,
          3751,
          3482,
          4377,
          1760,
          2946,
          3492,
          3054,
          4059,
          3856,
          3789,
          1721,
          1504,
          3743,
          3577,
          5467,
          5355,
          3428,
          1219,
          1386,
          3065,
          2230,
          4432,
          2123,
          1227,
          5822,
          2046,
          3947,
          3241,
          3416,
          1616,
          2878,
          2582,
          4040,
          2619,
          1531,
          3592,
          1332,
          5230,
          3996,
          3285,
          4934,
          4534,
          3283,
          5543,
          2047,
          3967,
          12973,
          2839,
          1870,
          3816,
          3320,
          4020,
          1787,
          2199,
          1548,
          null,
          12506,
          4595,
          1569,
          1452,
          88,
          4619,
          3068,
          5718,
          7490,
          3873,
          3097,
          null,
          844,
          1367,
          2041,
          3020,
          3963,
          1474,
          4663,
          5524,
          5148,
          4425,
          1817,
          6502,
          3884,
          3260,
          6290,
          null,
          2602,
          5370,
          2026,
          3675,
          3063,
          4196,
          881,
          4598,
          3707,
          2972,
          1852,
          3262,
          1542,
          4871,
          2352,
          1690,
          6629,
          null,
          3923,
          2605,
          2347,
          4268,
          2903,
          1410,
          4683,
          3636,
          2560,
          2963,
          2002,
          1875,
          7176,
          2255,
          2843,
          3592,
          3124,
          1765,
          4318,
          3799,
          2379,
          2335,
          3361,
          4492,
          1694,
          5129,
          4013,
          2628,
          2144,
          6602,
          1934,
          4796,
          3665,
          1360,
          2588,
          1814,
          4321,
          2771,
          4469,
          3958,
          1777,
          2225,
          2064,
          4079,
          2205,
          1966,
          2184,
          3409,
          1678,
          2568,
          null,
          2981,
          2320,
          1758,
          1688,
          4532,
          2212,
          2438,
          3784,
          3558,
          4104,
          1365,
          2448,
          2572,
          1990,
          4412,
          2471,
          6214,
          2504,
          1406,
          2266,
          1867,
          3683,
          3618,
          3137,
          1787,
          2739,
          1641,
          2486,
          2001,
          4063,
          6379,
          2488,
          2786,
          1413,
          1395,
          831,
          1203,
          3383,
          5081,
          2922,
          1821,
          2663,
          4188,
          1437,
          1891,
          2879,
          1905,
          2244,
          1720,
          3563,
          7266,
          1461,
          2230,
          3007,
          null,
          2980,
          3670,
          2939,
          1391,
          3272,
          1671,
          2406,
          2641,
          3297,
          1421,
          3435,
          1675,
          1380,
          2656,
          2048,
          1777,
          1992,
          793,
          3174,
          2183,
          2645,
          2773,
          3120,
          2452,
          1142,
          2687,
          4715,
          null,
          2036,
          2602,
          4732,
          1698,
          1894,
          758,
          1613,
          7617,
          4707,
          1455,
          2491,
          2156,
          2912,
          1282,
          3882,
          1673,
          2768,
          2507,
          8721,
          1806,
          2019,
          3286,
          5613,
          1822,
          3697,
          3212,
          1941,
          2939,
          3785,
          1536,
          5199,
          1473,
          3854,
          1849,
          3531,
          null,
          4893,
          1011,
          2829,
          1788,
          8718,
          1215,
          2078,
          1695,
          3354,
          3857,
          3982,
          1323,
          1576,
          2867,
          2765,
          1185,
          2832,
          2798,
          3165,
          4046,
          2552,
          3364,
          1534,
          2660,
          3720,
          1319,
          8797,
          1610,
          2191,
          3897,
          195,
          5069,
          2816,
          2049,
          3932,
          2178,
          3165,
          4064,
          2941,
          5875,
          3103,
          1880,
          2237,
          2966,
          1453,
          3836,
          1620,
          1892,
          4808,
          2416,
          1952,
          4782,
          2396,
          3653,
          1627,
          3773,
          1469,
          3606,
          2146,
          3462,
          1699,
          3918,
          4122,
          2323,
          2451,
          1985,
          1232,
          1707,
          3134,
          1856,
          1739,
          1532,
          1732,
          1489,
          2478,
          1112,
          1988,
          6141,
          1790,
          4267,
          1261,
          1769,
          2656,
          1073,
          1767,
          2456,
          1219,
          1666,
          4196,
          2030,
          1364,
          3266,
          3099,
          3255,
          2561,
          2362,
          2164,
          2593,
          1962,
          19,
          3559,
          3997,
          2870,
          3195,
          null,
          1750,
          589,
          1173,
          6054,
          3426,
          6469,
          null,
          1938,
          3039,
          null,
          3268,
          3773,
          1151,
          2599,
          2544,
          1884,
          3209,
          3172,
          1832,
          1684,
          2309,
          3645,
          2148,
          3044,
          3089,
          1460,
          1873,
          3333,
          4244,
          3647,
          3154,
          1520,
          2770,
          1280,
          1488,
          1079,
          4330,
          6591,
          1854,
          1121,
          2081,
          1641,
          2426,
          2367,
          1189,
          4873,
          3599,
          1642,
          1613,
          null,
          2498,
          3217,
          2056,
          8540,
          2201,
          2497,
          2009,
          2720,
          1635,
          17228,
          null,
          3290,
          2538,
          1836,
          5174,
          1346,
          1229,
          5543,
          1415,
          3563,
          2622,
          2857,
          2442,
          null,
          1722,
          null,
          1602,
          3336,
          3761,
          null,
          4878,
          2541,
          2747,
          2903,
          1576,
          2156,
          1927
         ],
         "yaxis": "y"
        }
       ],
       "layout": {
        "coloraxis": {
         "colorbar": {
          "title": {
           "text": "Total; Estimate; Total population"
          }
         },
         "colorscale": [
          [
           0,
           "#0d0887"
          ],
          [
           0.1111111111111111,
           "#46039f"
          ],
          [
           0.2222222222222222,
           "#7201a8"
          ],
          [
           0.3333333333333333,
           "#9c179e"
          ],
          [
           0.4444444444444444,
           "#bd3786"
          ],
          [
           0.5555555555555556,
           "#d8576b"
          ],
          [
           0.6666666666666666,
           "#ed7953"
          ],
          [
           0.7777777777777778,
           "#fb9f3a"
          ],
          [
           0.8888888888888888,
           "#fdca26"
          ],
          [
           1,
           "#f0f921"
          ]
         ]
        },
        "legend": {
         "tracegroupgap": 0
        },
        "margin": {
         "t": 60
        },
        "template": {
         "data": {
          "bar": [
           {
            "error_x": {
             "color": "#2a3f5f"
            },
            "error_y": {
             "color": "#2a3f5f"
            },
            "marker": {
             "line": {
              "color": "#E5ECF6",
              "width": 0.5
             }
            },
            "type": "bar"
           }
          ],
          "barpolar": [
           {
            "marker": {
             "line": {
              "color": "#E5ECF6",
              "width": 0.5
             }
            },
            "type": "barpolar"
           }
          ],
          "carpet": [
           {
            "aaxis": {
             "endlinecolor": "#2a3f5f",
             "gridcolor": "white",
             "linecolor": "white",
             "minorgridcolor": "white",
             "startlinecolor": "#2a3f5f"
            },
            "baxis": {
             "endlinecolor": "#2a3f5f",
             "gridcolor": "white",
             "linecolor": "white",
             "minorgridcolor": "white",
             "startlinecolor": "#2a3f5f"
            },
            "type": "carpet"
           }
          ],
          "choropleth": [
           {
            "colorbar": {
             "outlinewidth": 0,
             "ticks": ""
            },
            "type": "choropleth"
           }
          ],
          "contour": [
           {
            "colorbar": {
             "outlinewidth": 0,
             "ticks": ""
            },
            "colorscale": [
             [
              0,
              "#0d0887"
             ],
             [
              0.1111111111111111,
              "#46039f"
             ],
             [
              0.2222222222222222,
              "#7201a8"
             ],
             [
              0.3333333333333333,
              "#9c179e"
             ],
             [
              0.4444444444444444,
              "#bd3786"
             ],
             [
              0.5555555555555556,
              "#d8576b"
             ],
             [
              0.6666666666666666,
              "#ed7953"
             ],
             [
              0.7777777777777778,
              "#fb9f3a"
             ],
             [
              0.8888888888888888,
              "#fdca26"
             ],
             [
              1,
              "#f0f921"
             ]
            ],
            "type": "contour"
           }
          ],
          "contourcarpet": [
           {
            "colorbar": {
             "outlinewidth": 0,
             "ticks": ""
            },
            "type": "contourcarpet"
           }
          ],
          "heatmap": [
           {
            "colorbar": {
             "outlinewidth": 0,
             "ticks": ""
            },
            "colorscale": [
             [
              0,
              "#0d0887"
             ],
             [
              0.1111111111111111,
              "#46039f"
             ],
             [
              0.2222222222222222,
              "#7201a8"
             ],
             [
              0.3333333333333333,
              "#9c179e"
             ],
             [
              0.4444444444444444,
              "#bd3786"
             ],
             [
              0.5555555555555556,
              "#d8576b"
             ],
             [
              0.6666666666666666,
              "#ed7953"
             ],
             [
              0.7777777777777778,
              "#fb9f3a"
             ],
             [
              0.8888888888888888,
              "#fdca26"
             ],
             [
              1,
              "#f0f921"
             ]
            ],
            "type": "heatmap"
           }
          ],
          "heatmapgl": [
           {
            "colorbar": {
             "outlinewidth": 0,
             "ticks": ""
            },
            "colorscale": [
             [
              0,
              "#0d0887"
             ],
             [
              0.1111111111111111,
              "#46039f"
             ],
             [
              0.2222222222222222,
              "#7201a8"
             ],
             [
              0.3333333333333333,
              "#9c179e"
             ],
             [
              0.4444444444444444,
              "#bd3786"
             ],
             [
              0.5555555555555556,
              "#d8576b"
             ],
             [
              0.6666666666666666,
              "#ed7953"
             ],
             [
              0.7777777777777778,
              "#fb9f3a"
             ],
             [
              0.8888888888888888,
              "#fdca26"
             ],
             [
              1,
              "#f0f921"
             ]
            ],
            "type": "heatmapgl"
           }
          ],
          "histogram": [
           {
            "marker": {
             "colorbar": {
              "outlinewidth": 0,
              "ticks": ""
             }
            },
            "type": "histogram"
           }
          ],
          "histogram2d": [
           {
            "colorbar": {
             "outlinewidth": 0,
             "ticks": ""
            },
            "colorscale": [
             [
              0,
              "#0d0887"
             ],
             [
              0.1111111111111111,
              "#46039f"
             ],
             [
              0.2222222222222222,
              "#7201a8"
             ],
             [
              0.3333333333333333,
              "#9c179e"
             ],
             [
              0.4444444444444444,
              "#bd3786"
             ],
             [
              0.5555555555555556,
              "#d8576b"
             ],
             [
              0.6666666666666666,
              "#ed7953"
             ],
             [
              0.7777777777777778,
              "#fb9f3a"
             ],
             [
              0.8888888888888888,
              "#fdca26"
             ],
             [
              1,
              "#f0f921"
             ]
            ],
            "type": "histogram2d"
           }
          ],
          "histogram2dcontour": [
           {
            "colorbar": {
             "outlinewidth": 0,
             "ticks": ""
            },
            "colorscale": [
             [
              0,
              "#0d0887"
             ],
             [
              0.1111111111111111,
              "#46039f"
             ],
             [
              0.2222222222222222,
              "#7201a8"
             ],
             [
              0.3333333333333333,
              "#9c179e"
             ],
             [
              0.4444444444444444,
              "#bd3786"
             ],
             [
              0.5555555555555556,
              "#d8576b"
             ],
             [
              0.6666666666666666,
              "#ed7953"
             ],
             [
              0.7777777777777778,
              "#fb9f3a"
             ],
             [
              0.8888888888888888,
              "#fdca26"
             ],
             [
              1,
              "#f0f921"
             ]
            ],
            "type": "histogram2dcontour"
           }
          ],
          "mesh3d": [
           {
            "colorbar": {
             "outlinewidth": 0,
             "ticks": ""
            },
            "type": "mesh3d"
           }
          ],
          "parcoords": [
           {
            "line": {
             "colorbar": {
              "outlinewidth": 0,
              "ticks": ""
             }
            },
            "type": "parcoords"
           }
          ],
          "pie": [
           {
            "automargin": true,
            "type": "pie"
           }
          ],
          "scatter": [
           {
            "marker": {
             "colorbar": {
              "outlinewidth": 0,
              "ticks": ""
             }
            },
            "type": "scatter"
           }
          ],
          "scatter3d": [
           {
            "line": {
             "colorbar": {
              "outlinewidth": 0,
              "ticks": ""
             }
            },
            "marker": {
             "colorbar": {
              "outlinewidth": 0,
              "ticks": ""
             }
            },
            "type": "scatter3d"
           }
          ],
          "scattercarpet": [
           {
            "marker": {
             "colorbar": {
              "outlinewidth": 0,
              "ticks": ""
             }
            },
            "type": "scattercarpet"
           }
          ],
          "scattergeo": [
           {
            "marker": {
             "colorbar": {
              "outlinewidth": 0,
              "ticks": ""
             }
            },
            "type": "scattergeo"
           }
          ],
          "scattergl": [
           {
            "marker": {
             "colorbar": {
              "outlinewidth": 0,
              "ticks": ""
             }
            },
            "type": "scattergl"
           }
          ],
          "scattermapbox": [
           {
            "marker": {
             "colorbar": {
              "outlinewidth": 0,
              "ticks": ""
             }
            },
            "type": "scattermapbox"
           }
          ],
          "scatterpolar": [
           {
            "marker": {
             "colorbar": {
              "outlinewidth": 0,
              "ticks": ""
             }
            },
            "type": "scatterpolar"
           }
          ],
          "scatterpolargl": [
           {
            "marker": {
             "colorbar": {
              "outlinewidth": 0,
              "ticks": ""
             }
            },
            "type": "scatterpolargl"
           }
          ],
          "scatterternary": [
           {
            "marker": {
             "colorbar": {
              "outlinewidth": 0,
              "ticks": ""
             }
            },
            "type": "scatterternary"
           }
          ],
          "surface": [
           {
            "colorbar": {
             "outlinewidth": 0,
             "ticks": ""
            },
            "colorscale": [
             [
              0,
              "#0d0887"
             ],
             [
              0.1111111111111111,
              "#46039f"
             ],
             [
              0.2222222222222222,
              "#7201a8"
             ],
             [
              0.3333333333333333,
              "#9c179e"
             ],
             [
              0.4444444444444444,
              "#bd3786"
             ],
             [
              0.5555555555555556,
              "#d8576b"
             ],
             [
              0.6666666666666666,
              "#ed7953"
             ],
             [
              0.7777777777777778,
              "#fb9f3a"
             ],
             [
              0.8888888888888888,
              "#fdca26"
             ],
             [
              1,
              "#f0f921"
             ]
            ],
            "type": "surface"
           }
          ],
          "table": [
           {
            "cells": {
             "fill": {
              "color": "#EBF0F8"
             },
             "line": {
              "color": "white"
             }
            },
            "header": {
             "fill": {
              "color": "#C8D4E3"
             },
             "line": {
              "color": "white"
             }
            },
            "type": "table"
           }
          ]
         },
         "layout": {
          "annotationdefaults": {
           "arrowcolor": "#2a3f5f",
           "arrowhead": 0,
           "arrowwidth": 1
          },
          "coloraxis": {
           "colorbar": {
            "outlinewidth": 0,
            "ticks": ""
           }
          },
          "colorscale": {
           "diverging": [
            [
             0,
             "#8e0152"
            ],
            [
             0.1,
             "#c51b7d"
            ],
            [
             0.2,
             "#de77ae"
            ],
            [
             0.3,
             "#f1b6da"
            ],
            [
             0.4,
             "#fde0ef"
            ],
            [
             0.5,
             "#f7f7f7"
            ],
            [
             0.6,
             "#e6f5d0"
            ],
            [
             0.7,
             "#b8e186"
            ],
            [
             0.8,
             "#7fbc41"
            ],
            [
             0.9,
             "#4d9221"
            ],
            [
             1,
             "#276419"
            ]
           ],
           "sequential": [
            [
             0,
             "#0d0887"
            ],
            [
             0.1111111111111111,
             "#46039f"
            ],
            [
             0.2222222222222222,
             "#7201a8"
            ],
            [
             0.3333333333333333,
             "#9c179e"
            ],
            [
             0.4444444444444444,
             "#bd3786"
            ],
            [
             0.5555555555555556,
             "#d8576b"
            ],
            [
             0.6666666666666666,
             "#ed7953"
            ],
            [
             0.7777777777777778,
             "#fb9f3a"
            ],
            [
             0.8888888888888888,
             "#fdca26"
            ],
            [
             1,
             "#f0f921"
            ]
           ],
           "sequentialminus": [
            [
             0,
             "#0d0887"
            ],
            [
             0.1111111111111111,
             "#46039f"
            ],
            [
             0.2222222222222222,
             "#7201a8"
            ],
            [
             0.3333333333333333,
             "#9c179e"
            ],
            [
             0.4444444444444444,
             "#bd3786"
            ],
            [
             0.5555555555555556,
             "#d8576b"
            ],
            [
             0.6666666666666666,
             "#ed7953"
            ],
            [
             0.7777777777777778,
             "#fb9f3a"
            ],
            [
             0.8888888888888888,
             "#fdca26"
            ],
            [
             1,
             "#f0f921"
            ]
           ]
          },
          "colorway": [
           "#636efa",
           "#EF553B",
           "#00cc96",
           "#ab63fa",
           "#FFA15A",
           "#19d3f3",
           "#FF6692",
           "#B6E880",
           "#FF97FF",
           "#FECB52"
          ],
          "font": {
           "color": "#2a3f5f"
          },
          "geo": {
           "bgcolor": "white",
           "lakecolor": "white",
           "landcolor": "#E5ECF6",
           "showlakes": true,
           "showland": true,
           "subunitcolor": "white"
          },
          "hoverlabel": {
           "align": "left"
          },
          "hovermode": "closest",
          "mapbox": {
           "style": "light"
          },
          "paper_bgcolor": "white",
          "plot_bgcolor": "#E5ECF6",
          "polar": {
           "angularaxis": {
            "gridcolor": "white",
            "linecolor": "white",
            "ticks": ""
           },
           "bgcolor": "#E5ECF6",
           "radialaxis": {
            "gridcolor": "white",
            "linecolor": "white",
            "ticks": ""
           }
          },
          "scene": {
           "xaxis": {
            "backgroundcolor": "#E5ECF6",
            "gridcolor": "white",
            "gridwidth": 2,
            "linecolor": "white",
            "showbackground": true,
            "ticks": "",
            "zerolinecolor": "white"
           },
           "yaxis": {
            "backgroundcolor": "#E5ECF6",
            "gridcolor": "white",
            "gridwidth": 2,
            "linecolor": "white",
            "showbackground": true,
            "ticks": "",
            "zerolinecolor": "white"
           },
           "zaxis": {
            "backgroundcolor": "#E5ECF6",
            "gridcolor": "white",
            "gridwidth": 2,
            "linecolor": "white",
            "showbackground": true,
            "ticks": "",
            "zerolinecolor": "white"
           }
          },
          "shapedefaults": {
           "line": {
            "color": "#2a3f5f"
           }
          },
          "ternary": {
           "aaxis": {
            "gridcolor": "white",
            "linecolor": "white",
            "ticks": ""
           },
           "baxis": {
            "gridcolor": "white",
            "linecolor": "white",
            "ticks": ""
           },
           "bgcolor": "#E5ECF6",
           "caxis": {
            "gridcolor": "white",
            "linecolor": "white",
            "ticks": ""
           }
          },
          "title": {
           "x": 0.05
          },
          "xaxis": {
           "automargin": true,
           "gridcolor": "white",
           "linecolor": "white",
           "ticks": "",
           "title": {
            "standoff": 15
           },
           "zerolinecolor": "white",
           "zerolinewidth": 2
          },
          "yaxis": {
           "automargin": true,
           "gridcolor": "white",
           "linecolor": "white",
           "ticks": "",
           "title": {
            "standoff": 15
           },
           "zerolinecolor": "white",
           "zerolinewidth": 2
          }
         }
        },
        "title": {
         "text": "Number of Reports Per Census Tract (All Seasons) vs Total; Estimate; Total population"
        },
        "xaxis": {
         "anchor": "y",
         "domain": [
          0,
          1
         ],
         "title": {
          "text": "Number of Reports Per Census Tract (All Seasons)"
         }
        },
        "yaxis": {
         "anchor": "x",
         "domain": [
          0,
          1
         ],
         "title": {
          "text": "Total; Estimate; Total population"
         }
        }
       }
      },
      "text/html": [
       "<div>\n",
       "        \n",
       "        \n",
       "            <div id=\"dc3ca728-fc93-4d37-ba44-ca2882ec5b57\" class=\"plotly-graph-div\" style=\"height:525px; width:100%;\"></div>\n",
       "            <script type=\"text/javascript\">\n",
       "                require([\"plotly\"], function(Plotly) {\n",
       "                    window.PLOTLYENV=window.PLOTLYENV || {};\n",
       "                    \n",
       "                if (document.getElementById(\"dc3ca728-fc93-4d37-ba44-ca2882ec5b57\")) {\n",
       "                    Plotly.newPlot(\n",
       "                        'dc3ca728-fc93-4d37-ba44-ca2882ec5b57',\n",
       "                        [{\"customdata\": [[36005046201, 350, \"Census Tract 462.01, Bronx County, New York\"], [36047091000, 221, \"Census Tract 910, Kings County, New York\"], [36047089000, 47, \"Census Tract 890, Kings County, New York\"], [36081043701, 9, \"Census Tract 437.01, Queens County, New York\"], [36005022403, 38, \"Census Tract 224.03, Bronx County, New York\"], [36081025400, 89, \"Census Tract 254, Queens County, New York\"], [36081008600, 3, \"Census Tract 86, Queens County, New York\"], [36061017200, 146, \"Census Tract 172, New York County, New York\"], [36005006700, 56, \"Census Tract 67, Bronx County, New York\"], [36061023600, 70, \"Census Tract 236, New York County, New York\"], [36047006600, 32, \"Census Tract 66, Kings County, New York\"], [36061009800, 78, \"Census Tract 98, New York County, New York\"], [36047057200, 69, \"Census Tract 572, Kings County, New York\"], [36047023100, 21, \"Census Tract 231, Kings County, New York\"], [36047028300, 92, \"Census Tract 283, Kings County, New York\"], [36061007000, 19, \"Census Tract 70, New York County, New York\"], [36085007000, 6, \"Census Tract 70, Richmond County, New York\"], [36005012901, 83, \"Census Tract 129.01, Bronx County, New York\"], [36047044900, 25, \"Census Tract 449, Kings County, New York\"], [36081100802, 19, \"Census Tract 1008.02, Queens County, New York\"], [36047032500, 38, \"Census Tract 325, Kings County, New York\"], [36085008100, 41, \"Census Tract 81, Richmond County, New York\"], [36005043500, 50, \"Census Tract 435, Bronx County, New York\"], [36081034700, 15, \"Census Tract 347, Queens County, New York\"], [36047015900, 27, \"Census Tract 159, Kings County, New York\"], [36005005100, 188, \"Census Tract 51, Bronx County, New York\"], [36047031300, 1239, \"Census Tract 313, Kings County, New York\"], [36005023800, 572, \"Census Tract 238, Bronx County, New York\"], [36005022200, 40, \"Census Tract 222, Bronx County, New York\"], [36047114400, 20, \"Census Tract 1144, Kings County, New York\"], [36005005400, 47, \"Census Tract 54, Bronx County, New York\"], [36061016200, 174, \"Census Tract 162, New York County, New York\"], [36061012900, 79, \"Census Tract 129, New York County, New York\"], [36047105804, 18, \"Census Tract 1058.04, Kings County, New York\"], [36005043600, 20, \"Census Tract 436, Bronx County, New York\"], [36005039600, 24, \"Census Tract 396, Bronx County, New York\"], [36005036300, 62, \"Census Tract 363, Bronx County, New York\"], [36005002000, 85, \"Census Tract 20, Bronx County, New York\"], [36005045800, 65, \"Census Tract 458, Bronx County, New York\"], [36047047700, 26, \"Census Tract 477, Kings County, New York\"], [36047019000, 11, \"Census Tract 190, Kings County, New York\"], [36081036600, 14, \"Census Tract 366, Queens County, New York\"], [36005008300, 31, \"Census Tract 83, Bronx County, New York\"], [36085027702, 25, \"Census Tract 277.02, Richmond County, New York\"], [36047013700, 17, \"Census Tract 137, Kings County, New York\"], [36047092400, 61, \"Census Tract 924, Kings County, New York\"], [36047096600, 21, \"Census Tract 966, Kings County, New York\"], [36061007200, 66, \"Census Tract 72, New York County, New York\"], [36061008300, 53, \"Census Tract 83, New York County, New York\"], [36061017000, 131, \"Census Tract 170, New York County, New York\"], [36005005001, 53, \"Census Tract 50.01, Bronx County, New York\"], [36005004400, 58, \"Census Tract 44, Bronx County, New York\"], [36081122702, 20, \"Census Tract 1227.02, Queens County, New York\"], [36061021303, 28, \"Census Tract 213.03, New York County, New York\"], [36081124700, 1659, \"Census Tract 1247, Queens County, New York\"], [36061024100, 76, \"Census Tract 241, New York County, New York\"], [36047049500, 19, \"Census Tract 495, Kings County, New York\"], [36081056800, 20, \"Census Tract 568, Queens County, New York\"], [36061016900, 508, \"Census Tract 169, New York County, New York\"], [36005000200, 31, \"Census Tract 2, Bronx County, New York\"], [36047003300, 13, \"Census Tract 33, Kings County, New York\"], [36081006501, 28, \"Census Tract 65.01, Queens County, New York\"], [36081018102, 23, \"Census Tract 181.02, Queens County, New York\"], [36047016600, 5, \"Census Tract 166, Kings County, New York\"], [36047052700, 29, \"Census Tract 527, Kings County, New York\"], [36005015100, 41, \"Census Tract 151, Bronx County, New York\"], [36005039902, 31, \"Census Tract 399.02, Bronx County, New York\"], [36081084000, 11, \"Census Tract 840, Queens County, New York\"], [36047007800, 26, \"Census Tract 78, Kings County, New York\"], [36085027900, 582, \"Census Tract 279, Richmond County, New York\"], [36081006900, 20, \"Census Tract 69, Queens County, New York\"], [36005018900, 63, \"Census Tract 189, Bronx County, New York\"], [36005007800, 18, \"Census Tract 78, Bronx County, New York\"], [36005024502, 24, \"Census Tract 245.02, Bronx County, New York\"], [36047033100, 20, \"Census Tract 331, Kings County, New York\"], [36005001900, 52, \"Census Tract 19, Bronx County, New York\"], [36005021502, 58, \"Census Tract 215.02, Bronx County, New York\"], [36081087100, 30, \"Census Tract 871, Queens County, New York\"], [36061018600, 98, \"Census Tract 186, New York County, New York\"], [36061016800, 63, \"Census Tract 168, New York County, New York\"], [36085015601, 24, \"Census Tract 156.01, Richmond County, New York\"], [36081085700, 10, \"Census Tract 857, Queens County, New York\"], [36005022404, 24, \"Census Tract 224.04, Bronx County, New York\"], [36005030200, 203, \"Census Tract 302, Bronx County, New York\"], [36047038200, 44, \"Census Tract 382, Kings County, New York\"], [36047120000, 15, \"Census Tract 1200, Kings County, New York\"], [36047053500, 34, \"Census Tract 535, Kings County, New York\"], [36047052300, 33, \"Census Tract 523, Kings County, New York\"], [36047029700, 16, \"Census Tract 297, Kings County, New York\"], [36081027100, 19, \"Census Tract 271, Queens County, New York\"], [36061013200, 49, \"Census Tract 132, New York County, New York\"], [36005003900, 118, \"Census Tract 39, Bronx County, New York\"], [36047018100, 46, \"Census Tract 181, Kings County, New York\"], [36047088600, 21, \"Census Tract 886, Kings County, New York\"], [36061022200, 42, \"Census Tract 222, New York County, New York\"], [36061018800, 74, \"Census Tract 188, New York County, New York\"], [36061021100, 182, \"Census Tract 211, New York County, New York\"], [36081080900, 54, \"Census Tract 809, Queens County, New York\"], [36005037200, 33, \"Census Tract 372, Bronx County, New York\"], [36085004000, 47, \"Census Tract 40, Richmond County, New York\"], [36047051800, 14, \"Census Tract 518, Kings County, New York\"], [36061002601, 86, \"Census Tract 26.01, New York County, New York\"], [36047036300, 81, \"Census Tract 363, Kings County, New York\"], [36081046900, 10, \"Census Tract 469, Queens County, New York\"], [36061020901, 70, \"Census Tract 209.01, New York County, New York\"], [36047038300, 112, \"Census Tract 383, Kings County, New York\"], [36081004500, 38, \"Census Tract 45, Queens County, New York\"], [36005024000, 24, \"Census Tract 240, Bronx County, New York\"], [36061017500, 77, \"Census Tract 175, New York County, New York\"], [36061028700, 32, \"Census Tract 287, New York County, New York\"], [36005039000, 23, \"Census Tract 390, Bronx County, New York\"], [36061024900, 21, \"Census Tract 249, New York County, New York\"], [36081136700, 20, \"Census Tract 1367, Queens County, New York\"], [36005044400, 23, \"Census Tract 444, Bronx County, New York\"], [36061016700, 51, \"Census Tract 167, New York County, New York\"], [36061003300, 44, \"Census Tract 33, New York County, New York\"], [36061004100, 59, \"Census Tract 41, New York County, New York\"], [36047054500, 34, \"Census Tract 545, Kings County, New York\"], [36047034200, 94, \"Census Tract 342, Kings County, New York\"], [36005032800, 36, \"Census Tract 328, Bronx County, New York\"], [36061002500, 19, \"Census Tract 25, New York County, New York\"], [36047025100, 85, \"Census Tract 251, Kings County, New York\"], [36061005502, 36, \"Census Tract 55.02, New York County, New York\"], [36047035200, 17, \"Census Tract 352, Kings County, New York\"], [36061012700, 57, \"Census Tract 127, New York County, New York\"], [36061015200, 43, \"Census Tract 152, New York County, New York\"], [36047054900, 19, \"Census Tract 549, Kings County, New York\"], [36061004300, 97, \"Census Tract 43, New York County, New York\"], [36061008900, 64, \"Census Tract 89, New York County, New York\"], [36005002500, 55, \"Census Tract 25, Bronx County, New York\"], [36061007100, 78, \"Census Tract 71, New York County, New York\"], [36085014608, 7, \"Census Tract 146.08, Richmond County, New York\"], [36061014801, 20, \"Census Tract 148.01, New York County, New York\"], [36081094202, 97, \"Census Tract 942.02, Queens County, New York\"], [36061023400, 87, \"Census Tract 234, New York County, New York\"], [36047005300, 68, \"Census Tract 53, Kings County, New York\"], [36047030700, 109, \"Census Tract 307, Kings County, New York\"], [36061030300, 41, \"Census Tract 303, New York County, New York\"], [36061016100, 54, \"Census Tract 161, New York County, New York\"], [36061012400, 30, \"Census Tract 124, New York County, New York\"], [36061004700, 34, \"Census Tract 47, New York County, New York\"], [36081096400, 49, \"Census Tract 964, Queens County, New York\"], [36047090000, 55, \"Census Tract 900, Kings County, New York\"], [36061020300, 7, \"Census Tract 203, New York County, New York\"], [36061002800, 74, \"Census Tract 28, New York County, New York\"], [36047122000, 75, \"Census Tract 1220, Kings County, New York\"], [36005017500, 76, \"Census Tract 175, Bronx County, New York\"], [36047042700, 12, \"Census Tract 427, Kings County, New York\"], [36061030900, 129, \"Census Tract 309, New York County, New York\"], [36061014601, 22, \"Census Tract 146.01, New York County, New York\"], [36047032700, 43, \"Census Tract 327, Kings County, New York\"], [36005008900, 10, \"Census Tract 89, Bronx County, New York\"], [36061021400, 56, \"Census Tract 214, New York County, New York\"], [36005020601, 31, \"Census Tract 206.01, Bronx County, New York\"], [36085016901, 8, \"Census Tract 169.01, Richmond County, New York\"], [36061017800, 29, \"Census Tract 178, New York County, New York\"], [36061018100, 32, \"Census Tract 181, New York County, New York\"], [36005018500, 60, \"Census Tract 185, Bronx County, New York\"], [36081017400, 9, \"Census Tract 174, Queens County, New York\"], [36005046202, 61, \"Census Tract 462.02, Bronx County, New York\"], [36005048400, 19, \"Census Tract 484, Bronx County, New York\"], [36047049100, 72, \"Census Tract 491, Kings County, New York\"], [36081047100, 10, \"Census Tract 471, Queens County, New York\"], [36047056400, 7, \"Census Tract 564, Kings County, New York\"], [36061028100, 8, \"Census Tract 281, New York County, New York\"], [36047049700, 21, \"Census Tract 497, Kings County, New York\"], [36061024200, 102, \"Census Tract 242, New York County, New York\"], [36081079701, 9, \"Census Tract 797.01, Queens County, New York\"], [36061005000, 50, \"Census Tract 50, New York County, New York\"], [36005015300, 38, \"Census Tract 153, Bronx County, New York\"], [36005038700, 30, \"Census Tract 387, Bronx County, New York\"], [36061003001, 108, \"Census Tract 30.01, New York County, New York\"], [36061013600, 83, \"Census Tract 136, New York County, New York\"], [36005038900, 31, \"Census Tract 389, Bronx County, New York\"], [36061019400, 125, \"Census Tract 194, New York County, New York\"], [36061000202, 120, \"Census Tract 2.02, New York County, New York\"], [36061014300, 130, \"Census Tract 143, New York County, New York\"], [36005042100, 39, \"Census Tract 421, Bronx County, New York\"], [36047080800, 10, \"Census Tract 808, Kings County, New York\"], [36047051300, 46, \"Census Tract 513, Kings County, New York\"], [36005021100, 28, \"Census Tract 211, Bronx County, New York\"], [36081094203, 18, \"Census Tract 942.03, Queens County, New York\"], [36061013800, 48, \"Census Tract 138, New York County, New York\"], [36061012200, 27, \"Census Tract 122, New York County, New York\"], [36047098200, 82, \"Census Tract 982, Kings County, New York\"], [36005015900, 12, \"Census Tract 159, Bronx County, New York\"], [36047110400, 130, \"Census Tract 1104, Kings County, New York\"], [36047024300, 36, \"Census Tract 243, Kings County, New York\"], [36047007000, 5, \"Census Tract 70, Kings County, New York\"], [36085019800, 16, \"Census Tract 198, Richmond County, New York\"], [36005023301, 48, \"Census Tract 233.01, Bronx County, New York\"], [36005029600, 21, \"Census Tract 296, Bronx County, New York\"], [36047015700, 17, \"Census Tract 157, Kings County, New York\"], [36061022600, 58, \"Census Tract 226, New York County, New York\"], [36061000800, 71, \"Census Tract 8, New York County, New York\"], [36061020000, 43, \"Census Tract 200, New York County, New York\"], [36047005400, 10, \"Census Tract 54, Kings County, New York\"], [36047059402, 32, \"Census Tract 594.02, Kings County, New York\"], [36047090800, 93, \"Census Tract 908, Kings County, New York\"], [36081051600, 3, \"Census Tract 516, Queens County, New York\"], [36005033000, 59, \"Census Tract 330, Bronx County, New York\"], [36081071303, 9, \"Census Tract 713.03, Queens County, New York\"], [36081013400, 19, \"Census Tract 134, Queens County, New York\"], [36061018900, 174, \"Census Tract 189, New York County, New York\"], [36047023500, 21, \"Census Tract 235, Kings County, New York\"], [36005021302, 21, \"Census Tract 213.02, Bronx County, New York\"], [36005006200, 58, \"Census Tract 62, Bronx County, New York\"], [36081025301, 31, \"Census Tract 253.01, Queens County, New York\"], [36061013100, 50, \"Census Tract 131, New York County, New York\"], [36085020803, 26, \"Census Tract 208.03, Richmond County, New York\"], [36047021500, 22, \"Census Tract 215, Kings County, New York\"], [36081008700, 83, \"Census Tract 87, Queens County, New York\"], [36005022401, 7, \"Census Tract 224.01, Bronx County, New York\"], [36047110600, 69, \"Census Tract 1106, Kings County, New York\"], [36047113000, 6, \"Census Tract 1130, Kings County, New York\"], [36081081800, 4, \"Census Tract 818, Queens County, New York\"], [36005004300, 77, \"Census Tract 43, Bronx County, New York\"], [36047002901, 49, \"Census Tract 29.01, Kings County, New York\"], [36061022500, 56, \"Census Tract 225, New York County, New York\"], [36047044500, 20, \"Census Tract 445, Kings County, New York\"], [36005014300, 34, \"Census Tract 143, Bronx County, New York\"], [36081012500, 47, \"Census Tract 125, Queens County, New York\"], [36061014500, 31, \"Census Tract 145, New York County, New York\"], [36047118800, 8, \"Census Tract 1188, Kings County, New York\"], [36005033600, 68, \"Census Tract 336, Bronx County, New York\"], [36047032800, 34, \"Census Tract 328, Kings County, New York\"], [36061008100, 118, \"Census Tract 81, New York County, New York\"], [36005007900, 55, \"Census Tract 79, Bronx County, New York\"], [36081138501, 10, \"Census Tract 1385.01, Queens County, New York\"], [36081007900, 32, \"Census Tract 79, Queens County, New York\"], [36047109800, 17, \"Census Tract 1098, Kings County, New York\"], [36061027300, 72, \"Census Tract 273, New York County, New York\"], [36081025800, 15, \"Census Tract 258, Queens County, New York\"], [36005002701, 35, \"Census Tract 27.01, Bronx County, New York\"], [36005006900, 75, \"Census Tract 69, Bronx County, New York\"], [36085006700, 20, \"Census Tract 67, Richmond County, New York\"], [36081018300, 44, \"Census Tract 183, Queens County, New York\"], [36047121400, 69, \"Census Tract 1214, Kings County, New York\"], [34017007600, 10, null], [36005034800, 68, \"Census Tract 348, Bronx County, New York\"], [36085027705, 11, \"Census Tract 277.05, Richmond County, New York\"], [36081103201, 51, \"Census Tract 1032.01, Queens County, New York\"], [36047036600, 16, \"Census Tract 366, Kings County, New York\"], [36047049800, 9, \"Census Tract 498, Kings County, New York\"], [36047043100, 45, \"Census Tract 431, Kings County, New York\"], [36061021800, 38, \"Census Tract 218, New York County, New York\"], [36047029600, 14, \"Census Tract 296, Kings County, New York\"], [36047111800, 66, \"Census Tract 1118, Kings County, New York\"], [36047050803, 51, \"Census Tract 508.03, Kings County, New York\"], [36061006600, 67, \"Census Tract 66, New York County, New York\"], [36047101400, 22, \"Census Tract 1014, Kings County, New York\"], [36047118400, 14, \"Census Tract 1184, Kings County, New York\"], [36061013400, 73, \"Census Tract 134, New York County, New York\"], [36047053100, 2, \"Census Tract 531, Kings County, New York\"], [36081025900, 8, \"Census Tract 259, Queens County, New York\"], [36005019300, 73, \"Census Tract 193, Bronx County, New York\"], [36061024500, 159, \"Census Tract 245, New York County, New York\"], [36085006400, 28, \"Census Tract 64, Richmond County, New York\"], [36005022500, 62, \"Census Tract 225, Bronx County, New York\"], [36061014402, 48, \"Census Tract 144.02, New York County, New York\"], [36005029302, 30, \"Census Tract 293.02, Bronx County, New York\"], [36061007400, 69, \"Census Tract 74, New York County, New York\"], [36081099704, 18, \"Census Tract 997.04, Queens County, New York\"], [36081059100, 18, \"Census Tract 591, Queens County, New York\"], [36005021002, 25, \"Census Tract 210.02, Bronx County, New York\"], [36061020600, 42, \"Census Tract 206, New York County, New York\"], [36061008700, 55, \"Census Tract 87, New York County, New York\"], [36081012301, 29, \"Census Tract 123.01, Queens County, New York\"], [36085007700, 20, \"Census Tract 77, Richmond County, New York\"], [36061006400, 34, \"Census Tract 64, New York County, New York\"], [36005016100, 44, \"Census Tract 161, Bronx County, New York\"], [36005017702, 33, \"Census Tract 177.02, Bronx County, New York\"], [36047026700, 29, \"Census Tract 267, Kings County, New York\"], [36047025700, 58, \"Census Tract 257, Kings County, New York\"], [36005022901, 25, \"Census Tract 229.01, Bronx County, New York\"], [36005014400, 57, \"Census Tract 144, Bronx County, New York\"], [36061001501, 42, \"Census Tract 15.01, New York County, New York\"], [36085002900, 41, \"Census Tract 29, Richmond County, New York\"], [36081092900, 41, \"Census Tract 929, Queens County, New York\"], [36047082000, 30, \"Census Tract 820, Kings County, New York\"], [36061016002, 8, \"Census Tract 160.02, New York County, New York\"], [36005022702, 6, \"Census Tract 227.02, Bronx County, New York\"], [36005014500, 94, \"Census Tract 145, Bronx County, New York\"], [36061004000, 65, \"Census Tract 40, New York County, New York\"], [36081092500, 26, \"Census Tract 925, Queens County, New York\"], [36047082200, 78, \"Census Tract 822, Kings County, New York\"], [36047120800, 76, \"Census Tract 1208, Kings County, New York\"], [36005040701, 22, \"Census Tract 407.01, Bronx County, New York\"], [36005038000, 32, \"Census Tract 380, Bronx County, New York\"], [36005041900, 42, \"Census Tract 419, Bronx County, New York\"], [36047040900, 24, \"Census Tract 409, Kings County, New York\"], [36047049300, 90, \"Census Tract 493, Kings County, New York\"], [36047048100, 13, \"Census Tract 481, Kings County, New York\"], [36061012000, 24, \"Census Tract 120, New York County, New York\"], [36081097202, 18, \"Census Tract 972.02, Queens County, New York\"], [36005017701, 44, \"Census Tract 177.01, Bronx County, New York\"], [36061017300, 61, \"Census Tract 173, New York County, New York\"], [36081113300, 16, \"Census Tract 1133, Queens County, New York\"], [36047023400, 20, \"Census Tract 234, Kings County, New York\"], [36061000600, 108, \"Census Tract 6, New York County, New York\"], [36047038100, 48, \"Census Tract 381, Kings County, New York\"], [36081069000, 17, \"Census Tract 690, Queens County, New York\"], [36047057800, 8, \"Census Tract 578, Kings County, New York\"], [36061015100, 89, \"Census Tract 151, New York County, New York\"], [36047039400, 10, \"Census Tract 394, Kings County, New York\"], [36081043200, 2, \"Census Tract 432, Queens County, New York\"], [36005005200, 25, \"Census Tract 52, Bronx County, New York\"], [36061019200, 37, \"Census Tract 192, New York County, New York\"], [36047040500, 13, \"Census Tract 405, Kings County, New York\"], [36061009200, 36, \"Census Tract 92, New York County, New York\"], [36047009400, 17, \"Census Tract 94, Kings County, New York\"], [36005021601, 50, \"Census Tract 216.01, Bronx County, New York\"], [36047031900, 48, \"Census Tract 319, Kings County, New York\"], [36081103900, 25, \"Census Tract 1039, Queens County, New York\"], [36047033700, 34, \"Census Tract 337, Kings County, New York\"], [36005008600, 19, \"Census Tract 86, Bronx County, New York\"], [36047013300, 12, \"Census Tract 133, Kings County, New York\"], [36047088200, 48, \"Census Tract 882, Kings County, New York\"], [36005039200, 18, \"Census Tract 392, Bronx County, New York\"], [36081018900, 14, \"Census Tract 189, Queens County, New York\"], [36005013300, 80, \"Census Tract 133, Bronx County, New York\"], [36081014100, 25, \"Census Tract 141, Queens County, New York\"], [36081074500, 8, \"Census Tract 745, Queens County, New York\"], [36061014000, 54, \"Census Tract 140, New York County, New York\"], [36061004900, 122, \"Census Tract 49, New York County, New York\"], [36061007700, 56, \"Census Tract 77, New York County, New York\"], [36047035900, 56, \"Census Tract 359, Kings County, New York\"], [36047045200, 10, \"Census Tract 452, Kings County, New York\"], [36005015200, 50, \"Census Tract 152, Bronx County, New York\"], [36081077905, 11, \"Census Tract 779.05, Queens County, New York\"], [36047051400, 38, \"Census Tract 514, Kings County, New York\"], [36005034000, 24, \"Census Tract 340, Bronx County, New York\"], [36005034300, 26, \"Census Tract 343, Bronx County, New York\"], [36061023200, 132, \"Census Tract 232, New York County, New York\"], [36047079601, 40, \"Census Tract 796.01, Kings County, New York\"], [36081016300, 46, \"Census Tract 163, Queens County, New York\"], [36047115600, 51, \"Census Tract 1156, Kings County, New York\"], [36005038600, 29, \"Census Tract 386, Bronx County, New York\"], [36081006300, 40, \"Census Tract 63, Queens County, New York\"], [36081029500, 43, \"Census Tract 295, Queens County, New York\"], [36047032600, 77, \"Census Tract 326, Kings County, New York\"], [36061010900, 19, \"Census Tract 109, New York County, New York\"], [36061003200, 122, \"Census Tract 32, New York County, New York\"], [36081014900, 8, \"Census Tract 149, Queens County, New York\"], [36081014700, 12, \"Census Tract 147, Queens County, New York\"], [36061023502, 31, \"Census Tract 235.02, New York County, New York\"], [36047059600, 11, \"Census Tract 596, Kings County, New York\"], [36005028500, 22, \"Census Tract 285, Bronx County, New York\"], [36061014602, 72, \"Census Tract 146.02, New York County, New York\"], [36005038500, 39, \"Census Tract 385, Bronx County, New York\"], [36061017401, 70, \"Census Tract 174.01, New York County, New York\"], [36005019500, 57, \"Census Tract 195, Bronx County, New York\"], [36061003002, 56, \"Census Tract 30.02, New York County, New York\"], [36047080200, 23, \"Census Tract 802, Kings County, New York\"], [36061023900, 35, \"Census Tract 239, New York County, New York\"], [36047042500, 24, \"Census Tract 425, Kings County, New York\"], [36047098800, 12, \"Census Tract 988, Kings County, New York\"], [36005006000, 18, \"Census Tract 60, Bronx County, New York\"], [36005040702, 25, \"Census Tract 407.02, Bronx County, New York\"], [36005028300, 34, \"Census Tract 283, Bronx County, New York\"], [36047055500, 19, \"Census Tract 555, Kings County, New York\"], [36047021300, 19, \"Census Tract 213, Kings County, New York\"], [36081071306, 14, \"Census Tract 713.06, Queens County, New York\"], [36085017700, 23, \"Census Tract 177, Richmond County, New York\"], [36047051200, 42, \"Census Tract 512, Kings County, New York\"], [36005009000, 118, \"Census Tract 90, Bronx County, New York\"], [36081077904, 37, \"Census Tract 779.04, Queens County, New York\"], [36081015100, 19, \"Census Tract 151, Queens County, New York\"], [36047042100, 20, \"Census Tract 421, Kings County, New York\"], [36061013700, 76, \"Census Tract 137, New York County, New York\"], [36061026500, 41, \"Census Tract 265, New York County, New York\"], [36047075600, 9, \"Census Tract 756, Kings County, New York\"], [36047059100, 9, \"Census Tract 591, Kings County, New York\"], [36061001002, 32, \"Census Tract 10.02, New York County, New York\"], [36005039400, 36, \"Census Tract 394, Bronx County, New York\"], [36005016700, 42, \"Census Tract 167, Bronx County, New York\"], [36061018700, 52, \"Census Tract 187, New York County, New York\"], [36005015700, 35, \"Census Tract 157, Bronx County, New York\"], [36047005601, 10, \"Census Tract 56.01, Kings County, New York\"], [36047014100, 23, \"Census Tract 141, Kings County, New York\"], [36047080600, 54, \"Census Tract 806, Kings County, New York\"], [36005026702, 23, \"Census Tract 267.02, Bronx County, New York\"], [36005025500, 31, \"Census Tract 255, Bronx County, New York\"], [36005036901, 14, \"Census Tract 369.01, Bronx County, New York\"], [36047030500, 24, \"Census Tract 305, Kings County, New York\"], [36005042600, 43, \"Census Tract 426, Bronx County, New York\"], [36061003400, 139, \"Census Tract 34, New York County, New York\"], [36081002500, 125, \"Census Tract 25, Queens County, New York\"], [36005043000, 12, \"Census Tract 430, Bronx County, New York\"], [36047092000, 5, \"Census Tract 920, Kings County, New York\"], [36005004100, 30, \"Census Tract 41, Bronx County, New York\"], [36081043900, 9, \"Census Tract 439, Queens County, New York\"], [36047017800, 4, \"Census Tract 178, Kings County, New York\"], [36047021900, 34, \"Census Tract 219, Kings County, New York\"], [36005005902, 72, \"Census Tract 59.02, Bronx County, New York\"], [36081115700, 3, \"Census Tract 1157, Queens County, New York\"], [36061007300, 84, \"Census Tract 73, New York County, New York\"], [36005043100, 32, \"Census Tract 431, Bronx County, New York\"], [36047028700, 59, \"Census Tract 287, Kings County, New York\"], [36061011100, 39, \"Census Tract 111, New York County, New York\"], [36047096400, 7, \"Census Tract 964, Kings County, New York\"], [36005001600, 15, \"Census Tract 16, Bronx County, New York\"], [36005038301, 37, \"Census Tract 383.01, Bronx County, New York\"], [36081091601, 46, \"Census Tract 916.01, Queens County, New York\"], [36061022800, 38, \"Census Tract 228, New York County, New York\"], [36005026100, 4, \"Census Tract 261, Bronx County, New York\"], [36005019900, 35, \"Census Tract 199, Bronx County, New York\"], [36005040100, 23, \"Census Tract 401, Bronx County, New York\"], [36047048200, 15, \"Census Tract 482, Kings County, New York\"], [36047123700, 59, \"Census Tract 1237, Kings County, New York\"], [36081133300, 26, \"Census Tract 1333, Queens County, New York\"], [36005005300, 33, \"Census Tract 53, Bronx County, New York\"], [36047152200, 8, \"Census Tract 1522, Kings County, New York\"], [36081018101, 20, \"Census Tract 181.01, Queens County, New York\"], [36047087000, 10, \"Census Tract 870, Kings County, New York\"], [36061001001, 74, \"Census Tract 10.01, New York County, New York\"], [36061022400, 110, \"Census Tract 224, New York County, New York\"], [36005024100, 62, \"Census Tract 241, Bronx County, New York\"], [36047024000, 7, \"Census Tract 240, Kings County, New York\"], [36005031000, 13, \"Census Tract 310, Bronx County, New York\"], [36061013000, 5, \"Census Tract 130, New York County, New York\"], [36081044301, 12, \"Census Tract 443.01, Queens County, New York\"], [36005014701, 94, \"Census Tract 147.01, Bronx County, New York\"], [36061027100, 48, \"Census Tract 271, New York County, New York\"], [36081037900, 10, \"Census Tract 379, Queens County, New York\"], [36081148300, 11, \"Census Tract 1483, Queens County, New York\"], [36081095400, 27, \"Census Tract 954, Queens County, New York\"], [36081044601, 28, \"Census Tract 446.01, Queens County, New York\"], [36081085500, 14, \"Census Tract 855, Queens County, New York\"], [36047112400, 9, \"Census Tract 1124, Kings County, New York\"], [36005017300, 33, \"Census Tract 173, Bronx County, New York\"], [36005042500, 32, \"Census Tract 425, Bronx County, New York\"], [36047038900, 30, \"Census Tract 389, Kings County, New York\"], [36047116000, 18, \"Census Tract 1160, Kings County, New York\"], [36047079802, 18, \"Census Tract 798.02, Kings County, New York\"], [36005018302, 31, \"Census Tract 183.02, Bronx County, New York\"], [36061011600, 15, \"Census Tract 116, New York County, New York\"], [36061002400, 96, \"Census Tract 24, New York County, New York\"], [36047113400, 66, \"Census Tract 1134, Kings County, New York\"], [36061028500, 86, \"Census Tract 285, New York County, New York\"], [36081076901, 15, \"Census Tract 769.01, Queens County, New York\"], [36081118100, 11, \"Census Tract 1181, Queens County, New York\"], [36061018400, 60, \"Census Tract 184, New York County, New York\"], [36005042901, 15, \"Census Tract 429.01, Bronx County, New York\"], [36047013000, 15, \"Census Tract 130, Kings County, New York\"], [36047035400, 8, \"Census Tract 354, Kings County, New York\"], [36085003900, 17, \"Census Tract 39, Richmond County, New York\"], [36047089200, 49, \"Census Tract 892, Kings County, New York\"], [36047008500, 47, \"Census Tract 85, Kings County, New York\"], [36061016400, 49, \"Census Tract 164, New York County, New York\"], [36005021001, 44, \"Census Tract 210.01, Bronx County, New York\"], [36005008500, 59, \"Census Tract 85, Bronx County, New York\"], [36005013000, 5, \"Census Tract 130, Bronx County, New York\"], [36047024100, 29, \"Census Tract 241, Kings County, New York\"], [36047082400, 16, \"Census Tract 824, Kings County, New York\"], [36047052500, 28, \"Census Tract 525, Kings County, New York\"], [36061002602, 75, \"Census Tract 26.02, New York County, New York\"], [36081022001, 11, \"Census Tract 220.01, Queens County, New York\"], [36061023700, 71, \"Census Tract 237, New York County, New York\"], [36005013500, 37, \"Census Tract 135, Bronx County, New York\"], [36061018300, 25, \"Census Tract 183, New York County, New York\"], [36061018000, 70, \"Census Tract 180, New York County, New York\"], [36061009100, 89, \"Census Tract 91, New York County, New York\"], [36061023000, 62, \"Census Tract 230, New York County, New York\"], [36081058500, 10, \"Census Tract 585, Queens County, New York\"], [36081084900, 10, \"Census Tract 849, Queens County, New York\"], [36005041800, 12, \"Census Tract 418, Bronx County, New York\"], [36005003800, 22, \"Census Tract 38, Bronx County, New York\"], [36081005100, 7, \"Census Tract 51, Queens County, New York\"], [36081021600, 8, \"Census Tract 216, Queens County, New York\"], [36081011500, 20, \"Census Tract 115, Queens County, New York\"], [36005002300, 62, \"Census Tract 23, Bronx County, New York\"], [36047004100, 18, \"Census Tract 41, Kings County, New York\"], [36047038700, 19, \"Census Tract 387, Kings County, New York\"], [36061018500, 13, \"Census Tract 185, New York County, New York\"], [36061026100, 84, \"Census Tract 261, New York County, New York\"], [36081004700, 11, \"Census Tract 47, Queens County, New York\"], [36081077903, 12, \"Census Tract 779.03, Queens County, New York\"], [36047039700, 12, \"Census Tract 397, Kings County, New York\"], [36047029500, 2, \"Census Tract 295, Kings County, New York\"], [36061003602, 33, \"Census Tract 36.02, New York County, New York\"], [36005007500, 94, \"Census Tract 75, Bronx County, New York\"], [36047073600, 11, \"Census Tract 736, Kings County, New York\"], [36047078600, 8, \"Census Tract 786, Kings County, New York\"], [36061005200, 30, \"Census Tract 52, New York County, New York\"], [36061006500, 74, \"Census Tract 65, New York County, New York\"], [36005005600, 55, \"Census Tract 56, Bronx County, New York\"], [36061020102, 45, \"Census Tract 201.02, New York County, New York\"], [36081069702, 6, \"Census Tract 697.02, Queens County, New York\"], [36047005800, 7, \"Census Tract 58, Kings County, New York\"], [36047013900, 32, \"Census Tract 139, Kings County, New York\"], [36047037900, 92, \"Census Tract 379, Kings County, New York\"], [36047089400, 27, \"Census Tract 894, Kings County, New York\"], [36047024500, 17, \"Census Tract 245, Kings County, New York\"], [36061006700, 93, \"Census Tract 67, New York County, New York\"], [36061003800, 112, \"Census Tract 38, New York County, New York\"], [36047034100, 38, \"Census Tract 341, Kings County, New York\"], [36047085600, 16, \"Census Tract 856, Kings County, New York\"], [36061013300, 59, \"Census Tract 133, New York County, New York\"], [36085020700, 25, \"Census Tract 207, Richmond County, New York\"], [36061006800, 69, \"Census Tract 68, New York County, New York\"], [36081027600, 21, \"Census Tract 276, Queens County, New York\"], [36061023100, 50, \"Census Tract 231, New York County, New York\"], [36081055400, 11, \"Census Tract 554, Queens County, New York\"], [36047025400, 9, \"Census Tract 254, Kings County, New York\"], [36061016600, 83, \"Census Tract 166, New York County, New York\"], [36047051700, 17, \"Census Tract 517, Kings County, New York\"], [36047072200, 25, \"Census Tract 722, Kings County, New York\"], [36061022900, 77, \"Census Tract 229, New York County, New York\"], [36047027700, 21, \"Census Tract 277, Kings County, New York\"], [36047000700, 32, \"Census Tract 7, Kings County, New York\"], [36061022301, 49, \"Census Tract 223.01, New York County, New York\"], [36005023900, 33, \"Census Tract 239, Bronx County, New York\"], [36005040502, 30, \"Census Tract 405.02, Bronx County, New York\"], [36081057900, 9, \"Census Tract 579, Queens County, New York\"], [36081008500, 51, \"Census Tract 85, Queens County, New York\"], [36061010000, 31, \"Census Tract 100, New York County, New York\"], [36047064600, 5, \"Census Tract 646, Kings County, New York\"], [36085014606, 26, \"Census Tract 146.06, Richmond County, New York\"], [36061012100, 43, \"Census Tract 121, New York County, New York\"], [36061003900, 19, \"Census Tract 39, New York County, New York\"], [36047015500, 14, \"Census Tract 155, Kings County, New York\"], [36081013200, 10, \"Census Tract 132, Queens County, New York\"], [36047044100, 24, \"Census Tract 441, Kings County, New York\"], [36061006300, 15, \"Census Tract 63, New York County, New York\"], [36081134100, 17, \"Census Tract 1341, Queens County, New York\"], [36047017700, 47, null], [36047096000, 7, null], [36005009800, 44, \"Census Tract 98, Bronx County, New York\"], [36061001402, 35, \"Census Tract 14.02, New York County, New York\"], [36061015602, 39, \"Census Tract 156.02, New York County, New York\"], [36085017300, 34, \"Census Tract 173, Richmond County, New York\"], [36047034500, 77, \"Census Tract 345, Kings County, New York\"], [36005028100, 10, \"Census Tract 281, Bronx County, New York\"], [36047055000, 12, \"Census Tract 550, Kings County, New York\"], [36081049900, 16, \"Census Tract 499, Queens County, New York\"], [36081152901, 17, \"Census Tract 1529.01, Queens County, New York\"], [36005051600, 22, \"Census Tract 516, Bronx County, New York\"], [36081063700, 9, \"Census Tract 637, Queens County, New York\"], [36081140901, 17, \"Census Tract 1409.01, Queens County, New York\"], [36005021700, 29, \"Census Tract 217, Bronx County, New York\"], [36081071900, 14, \"Census Tract 719, Queens County, New York\"], [36005046000, 29, \"Census Tract 460, Bronx County, New York\"], [36081133900, 9, \"Census Tract 1339, Queens County, New York\"], [36047019400, 11, \"Census Tract 194, Kings County, New York\"], [36005034400, 6, \"Census Tract 344, Bronx County, New York\"], [36061024302, 105, \"Census Tract 243.02, New York County, New York\"], [36061009300, 44, \"Census Tract 93, New York County, New York\"], [36005003700, 23, \"Census Tract 37, Bronx County, New York\"], [36081004300, 42, \"Census Tract 43, Queens County, New York\"], [36005018301, 18, \"Census Tract 183.01, Bronx County, New York\"], [36061021600, 67, \"Census Tract 216, New York County, New York\"], [36081052400, 4, \"Census Tract 524, Queens County, New York\"], [36081061900, 6, \"Census Tract 619, Queens County, New York\"], [36047102800, 44, \"Census Tract 1028, Kings County, New York\"], [36047005602, 13, \"Census Tract 56.02, Kings County, New York\"], [36061017700, 61, \"Census Tract 177, New York County, New York\"], [36085000700, 15, \"Census Tract 7, Richmond County, New York\"], [36047027300, 39, \"Census Tract 273, Kings County, New York\"], [36061027700, 45, \"Census Tract 277, New York County, New York\"], [36061015300, 47, \"Census Tract 153, New York County, New York\"], [36061021900, 59, \"Census Tract 219, New York County, New York\"], [36061008000, 20, \"Census Tract 80, New York County, New York\"], [36047015300, 11, \"Census Tract 153, Kings County, New York\"], [36061010300, 9, \"Census Tract 103, New York County, New York\"], [36047031500, 33, \"Census Tract 315, Kings County, New York\"], [36047054700, 14, \"Census Tract 547, Kings County, New York\"], [36081028900, 27, \"Census Tract 289, Queens County, New York\"], [36005018102, 16, \"Census Tract 181.02, Bronx County, New York\"], [36061015700, 68, \"Census Tract 157, New York County, New York\"], [36061021703, 35, null], [36047039900, 35, \"Census Tract 399, Kings County, New York\"], [36047051100, 47, \"Census Tract 511, Kings County, New York\"], [36081104700, 24, \"Census Tract 1047, Queens County, New York\"], [36005021602, 24, \"Census Tract 216.02, Bronx County, New York\"], [36047036001, 10, \"Census Tract 360.01, Kings County, New York\"], [36047007500, 24, \"Census Tract 75, Kings County, New York\"], [36061024700, 68, \"Census Tract 247, New York County, New York\"], [36047086800, 20, \"Census Tract 868, Kings County, New York\"], [36047078800, 14, \"Census Tract 788, Kings County, New York\"], [36047031100, 58, \"Census Tract 311, Kings County, New York\"], [36061025100, 30, \"Census Tract 251, New York County, New York\"], [36061017900, 58, \"Census Tract 179, New York County, New York\"], [36047043600, 15, \"Census Tract 436, Kings County, New York\"], [36061015400, 113, \"Census Tract 154, New York County, New York\"], [36005039300, 46, \"Census Tract 393, Bronx County, New York\"], [36047076200, 21, \"Census Tract 762, Kings County, New York\"], [36047070201, 11, \"Census Tract 702.01, Kings County, New York\"], [36047028900, 25, \"Census Tract 289, Kings County, New York\"], [36047020700, 35, \"Census Tract 207, Kings County, New York\"], [36005035800, 33, \"Census Tract 358, Bronx County, New York\"], [36005037300, 38, \"Census Tract 373, Bronx County, New York\"], [36081079900, 11, \"Census Tract 799, Queens County, New York\"], [36047002100, 40, \"Census Tract 21, Kings County, New York\"], [36081044000, 17, \"Census Tract 440, Queens County, New York\"], [36005040501, 23, \"Census Tract 405.01, Bronx County, New York\"], [36081005900, 13, \"Census Tract 59, Queens County, New York\"], [36061007900, 23, \"Census Tract 79, New York County, New York\"], [36061008603, 13, \"Census Tract 86.03, New York County, New York\"], [36005040304, 15, \"Census Tract 403.04, Bronx County, New York\"], [36047087600, 12, \"Census Tract 876, Kings County, New York\"], [36005038200, 30, \"Census Tract 382, Bronx County, New York\"], [36085031901, 36, \"Census Tract 319.01, Richmond County, New York\"], [36081047900, 9, \"Census Tract 479, Queens County, New York\"], [36061022000, 57, \"Census Tract 220, New York County, New York\"], [36061021500, 33, \"Census Tract 215, New York County, New York\"], [36047000100, 18, \"Census Tract 1, Kings County, New York\"], [36081062400, 48, null], [36047036100, 38, \"Census Tract 361, Kings County, New York\"], [36005025100, 34, \"Census Tract 251, Bronx County, New York\"], [36081122701, 95, \"Census Tract 1227.01, Queens County, New York\"], [36061013500, 20, \"Census Tract 135, New York County, New York\"], [36005009300, 50, \"Census Tract 93, Bronx County, New York\"], [36081009500, 16, \"Census Tract 95, Queens County, New York\"], [36047005900, 48, \"Census Tract 59, Kings County, New York\"], [36005029500, 43, \"Census Tract 295, Bronx County, New York\"], [36047030800, 12, \"Census Tract 308, Kings County, New York\"], [36005040302, 21, \"Census Tract 403.02, Bronx County, New York\"], [36047056900, 17, \"Census Tract 569, Kings County, New York\"], [36047036900, 31, \"Census Tract 369, Kings County, New York\"], [36081003300, 42, \"Census Tract 33, Queens County, New York\"], [36047070202, 4, \"Census Tract 702.02, Kings County, New York\"], [36061005400, 35, \"Census Tract 54, New York County, New York\"], [36047041401, 9, \"Census Tract 414.01, Kings County, New York\"], [36081023800, 8, \"Census Tract 238, Queens County, New York\"], [36081077902, 16, \"Census Tract 779.02, Queens County, New York\"], [36047041100, 7, \"Census Tract 411, Kings County, New York\"], [36061017100, 77, \"Census Tract 171, New York County, New York\"], [36005013800, 34, \"Census Tract 138, Bronx County, New York\"], [36061010800, 32, \"Census Tract 108, New York County, New York\"], [36005026300, 50, \"Census Tract 263, Bronx County, New York\"], [36085020801, 24, \"Census Tract 208.01, Richmond County, New York\"], [36047048800, 10, \"Census Tract 488, Kings County, New York\"], [36047006200, 22, \"Census Tract 62, Kings County, New York\"], [36047053800, 14, \"Census Tract 538, Kings County, New York\"], [36047029300, 54, \"Census Tract 293, Kings County, New York\"], [36005011000, 23, \"Census Tract 110, Bronx County, New York\"], [36047037100, 28, \"Census Tract 371, Kings County, New York\"], [36081093900, 12, \"Census Tract 939, Queens County, New York\"], [36005026701, 14, \"Census Tract 267.01, Bronx County, New York\"], [36047021100, 56, \"Census Tract 211, Kings County, New York\"], [36047039500, 38, \"Census Tract 395, Kings County, New York\"], [36005032300, 23, \"Census Tract 323, Bronx County, New York\"], [36005040800, 72, \"Census Tract 408, Bronx County, New York\"], [36061004500, 27, \"Census Tract 45, New York County, New York\"], [36061009900, 112, \"Census Tract 99, New York County, New York\"], [36081000700, 27, \"Census Tract 7, Queens County, New York\"], [36047013800, 9, \"Census Tract 138, Kings County, New York\"], [36081161700, 34, \"Census Tract 1617, Queens County, New York\"], [36081100801, 8, \"Census Tract 1008.01, Queens County, New York\"], [36005045101, 14, \"Census Tract 451.01, Bronx County, New York\"], [36047056100, 11, \"Census Tract 561, Kings County, New York\"], [36061001800, 63, \"Census Tract 18, New York County, New York\"], [36081005300, 16, \"Census Tract 53, Queens County, New York\"], [36081027800, 23, \"Census Tract 278, Queens County, New York\"], [36081075702, 18, \"Census Tract 757.02, Queens County, New York\"], [36047089600, 24, \"Census Tract 896, Kings County, New York\"], [36085029102, 11, \"Census Tract 291.02, Richmond County, New York\"], [36047022600, 10, \"Census Tract 226, Kings County, New York\"], [36047030100, 32, \"Census Tract 301, Kings County, New York\"], [36061019600, 63, \"Census Tract 196, New York County, New York\"], [36061022102, 23, \"Census Tract 221.02, New York County, New York\"], [36047057100, 16, \"Census Tract 571, Kings County, New York\"], [36005025000, 17, \"Census Tract 250, Bronx County, New York\"], [36047011900, 20, \"Census Tract 119, Kings County, New York\"], [36005039100, 42, \"Census Tract 391, Bronx County, New York\"], [36061002201, 67, \"Census Tract 22.01, New York County, New York\"], [36081051200, 18, \"Census Tract 512, Queens County, New York\"], [36061022700, 34, \"Census Tract 227, New York County, New York\"], [36061023501, 72, \"Census Tract 235.01, New York County, New York\"], [36047069602, 27, \"Census Tract 696.02, Kings County, New York\"], [36005031800, 18, \"Census Tract 318, Bronx County, New York\"], [36005039500, 61, \"Census Tract 395, Bronx County, New York\"], [36047050100, 19, \"Census Tract 501, Kings County, New York\"], [36047033300, 16, \"Census Tract 333, Kings County, New York\"], [36005038800, 14, \"Census Tract 388, Bronx County, New York\"], [36061029500, 19, \"Census Tract 295, New York County, New York\"], [36047043000, 7, \"Census Tract 430, Kings County, New York\"], [36005003300, 14, \"Census Tract 33, Bronx County, New York\"], [36047034700, 87, \"Census Tract 347, Kings County, New York\"], [36061015900, 21, \"Census Tract 159, New York County, New York\"], [36081101700, 30, \"Census Tract 1017, Queens County, New York\"], [36061031100, 18, null], [36047057500, 32, \"Census Tract 575, Kings County, New York\"], [36005023200, 22, \"Census Tract 232, Bronx County, New York\"], [36047045600, 13, \"Census Tract 456, Kings County, New York\"], [36081058900, 3, \"Census Tract 589, Queens County, New York\"], [36005024501, 48, \"Census Tract 245.01, Bronx County, New York\"], [36005039800, 13, \"Census Tract 398, Bronx County, New York\"], [36005042200, 9, \"Census Tract 422, Bronx County, New York\"], [36047030300, 41, \"Census Tract 303, Kings County, New York\"], [36005028900, 27, \"Census Tract 289, Bronx County, New York\"], [36061026900, 48, \"Census Tract 269, New York County, New York\"], [36061008400, 6, \"Census Tract 84, New York County, New York\"], [36081062600, 15, \"Census Tract 626, Queens County, New York\"], [36047043700, 11, \"Census Tract 437, Kings County, New York\"], [36047087800, 9, \"Census Tract 878, Kings County, New York\"], [36005040600, 38, \"Census Tract 406, Bronx County, New York\"], [36047041700, 61, \"Census Tract 417, Kings County, New York\"], [36005020501, 102, \"Census Tract 205.01, Bronx County, New York\"], [36047119200, 12, \"Census Tract 1192, Kings County, New York\"], [36061006100, 33, \"Census Tract 61, New York County, New York\"], [36081011200, 4, \"Census Tract 112, Queens County, New York\"], [36047018700, 4, \"Census Tract 187, Kings County, New York\"], [36047088400, 22, \"Census Tract 884, Kings County, New York\"], [36047025500, 14, \"Census Tract 255, Kings County, New York\"], [36081088901, 50, \"Census Tract 889.01, Queens County, New York\"], [36047055100, 24, \"Census Tract 551, Kings County, New York\"], [36061021000, 55, \"Census Tract 210, New York County, New York\"], [36047021700, 17, \"Census Tract 217, Kings County, New York\"], [36081027300, 25, \"Census Tract 273, Queens County, New York\"], [36081025302, 17, \"Census Tract 253.02, Queens County, New York\"], [36061020800, 35, \"Census Tract 208, New York County, New York\"], [36081109700, 13, \"Census Tract 1097, Queens County, New York\"], [36061023300, 57, \"Census Tract 233, New York County, New York\"], [42101003001, 2, null], [36061021200, 41, \"Census Tract 212, New York County, New York\"], [36047111000, 32, \"Census Tract 1110, Kings County, New York\"], [36047004300, 26, \"Census Tract 43, Kings County, New York\"], [36081055700, 4, \"Census Tract 557, Queens County, New York\"], [36047062000, 4, \"Census Tract 620, Kings County, New York\"], [36081018401, 12, \"Census Tract 184.01, Queens County, New York\"], [36047115200, 28, \"Census Tract 1152, Kings County, New York\"], [36085013302, 21, \"Census Tract 133.02, Richmond County, New York\"], [36047051602, 20, \"Census Tract 516.02, Kings County, New York\"], [36047002000, 9, \"Census Tract 20, Kings County, New York\"], [36047027900, 40, \"Census Tract 279, Kings County, New York\"], [36047021000, 4, \"Census Tract 210, Kings County, New York\"], [36047061003, 9, \"Census Tract 610.03, Kings County, New York\"], [36005013100, 48, \"Census Tract 131, Bronx County, New York\"], [36047114600, 14, \"Census Tract 1146, Kings County, New York\"], [36047019100, 12, \"Census Tract 191, Kings County, New York\"], [36047018300, 11, \"Census Tract 183, Kings County, New York\"], [36047053900, 11, \"Census Tract 539, Kings County, New York\"], [36061019500, 64, \"Census Tract 195, New York County, New York\"], [36061000900, 25, \"Census Tract 9, New York County, New York\"], [36081006502, 17, \"Census Tract 65.02, Queens County, New York\"], [36047035700, 17, \"Census Tract 357, Kings County, New York\"], [36005006400, 24, \"Census Tract 64, Bronx County, New York\"], [36047042900, 24, \"Census Tract 429, Kings County, New York\"], [36081062500, 5, \"Census Tract 625, Queens County, New York\"], [36047094401, 40, \"Census Tract 944.01, Kings County, New York\"], [36005025300, 19, \"Census Tract 253, Bronx County, New York\"], [36047004700, 24, \"Census Tract 47, Kings County, New York\"], [36085002100, 39, \"Census Tract 21, Richmond County, New York\"], [36047035300, 54, \"Census Tract 353, Kings County, New York\"], [36047043400, 16, \"Census Tract 434, Kings County, New York\"], [36005037100, 38, \"Census Tract 371, Bronx County, New York\"], [36081112300, 13, \"Census Tract 1123, Queens County, New York\"], [36061019000, 79, \"Census Tract 190, New York County, New York\"], [36085018100, 21, \"Census Tract 181, Richmond County, New York\"], [36081077906, 49, \"Census Tract 779.06, Queens County, New York\"], [36081117100, 5, \"Census Tract 1171, Queens County, New York\"], [36085018902, 17, \"Census Tract 189.02, Richmond County, New York\"], [36005033700, 12, \"Census Tract 337, Bronx County, New York\"], [36081129104, 12, \"Census Tract 1291.04, Queens County, New York\"], [36047022100, 11, \"Census Tract 221, Kings County, New York\"], [36005041100, 22, \"Census Tract 411, Bronx County, New York\"], [36005039901, 43, \"Census Tract 399.01, Bronx County, New York\"], [36047006900, 44, \"Census Tract 69, Kings County, New York\"], [36047088000, 24, \"Census Tract 880, Kings County, New York\"], [36047062200, 22, \"Census Tract 622, Kings County, New York\"], [36047079400, 9, \"Census Tract 794, Kings County, New York\"], [36081015500, 14, \"Census Tract 155, Queens County, New York\"], [36005021301, 5, \"Census Tract 213.01, Bronx County, New York\"], [36085025100, 7, \"Census Tract 251, Richmond County, New York\"], [36081002200, 11, \"Census Tract 22, Queens County, New York\"], [36061026300, 40, \"Census Tract 263, New York County, New York\"], [36047024900, 26, \"Census Tract 249, Kings County, New York\"], [36047007100, 19, \"Census Tract 71, Kings County, New York\"], [36005036400, 17, \"Census Tract 364, Bronx County, New York\"], [36085017007, 8, \"Census Tract 170.07, Richmond County, New York\"], [36061001300, 41, \"Census Tract 13, New York County, New York\"], [36047091800, 8, \"Census Tract 918, Kings County, New York\"], [36061002100, 38, \"Census Tract 21, New York County, New York\"], [36081026000, 27, \"Census Tract 260, Queens County, New York\"], [36047043200, 7, \"Census Tract 432, Kings County, New York\"], [36081071304, 16, \"Census Tract 713.04, Queens County, New York\"], [36047008200, 14, \"Census Tract 82, Kings County, New York\"], [36047061004, 16, \"Census Tract 610.04, Kings County, New York\"], [36061001200, 13, \"Census Tract 12, New York County, New York\"], [36047033000, 18, \"Census Tract 330, Kings County, New York\"], [36061000700, 10, \"Census Tract 7, New York County, New York\"], [36081058300, 25, \"Census Tract 583, Queens County, New York\"], [36047100800, 6, \"Census Tract 1008, Kings County, New York\"], [36005041500, 36, \"Census Tract 415, Bronx County, New York\"], [36081065600, 19, \"Census Tract 656, Queens County, New York\"], [36081118700, 8, \"Census Tract 1187, Queens County, New York\"], [36047026800, 9, \"Census Tract 268, Kings County, New York\"], [36047018501, 13, \"Census Tract 185.01, Kings County, New York\"], [36047079200, 27, \"Census Tract 792, Kings County, New York\"], [36047000501, 17, \"Census Tract 5.01, Kings County, New York\"], [36005012300, 21, \"Census Tract 123, Bronx County, New York\"], [36005003500, 23, \"Census Tract 35, Bronx County, New York\"], [36005037504, 30, \"Census Tract 375.04, Bronx County, New York\"], [36085015603, 8, \"Census Tract 156.03, Richmond County, New York\"], [36005023703, 13, \"Census Tract 237.03, Bronx County, New York\"], [36005023502, 50, \"Census Tract 235.02, Bronx County, New York\"], [36005042300, 10, \"Census Tract 423, Bronx County, New York\"], [36047083000, 41, \"Census Tract 830, Kings County, New York\"], [36047039100, 20, \"Census Tract 391, Kings County, New York\"], [36081021200, 9, \"Census Tract 212, Queens County, New York\"], [36005030900, 14, \"Census Tract 309, Bronx County, New York\"], [36005024400, 6, \"Census Tract 244, Bronx County, New York\"], [36085017005, 9, \"Census Tract 170.05, Richmond County, New York\"], [36061017402, 46, \"Census Tract 174.02, New York County, New York\"], [36061025700, 56, \"Census Tract 257, New York County, New York\"], [36005022101, 22, \"Census Tract 221.01, Bronx County, New York\"], [36081026500, 6, \"Census Tract 265, Queens County, New York\"], [36081097204, 22, \"Census Tract 972.04, Queens County, New York\"], [36047013400, 13, \"Census Tract 134, Kings County, New York\"], [36085030301, 21, \"Census Tract 303.01, Richmond County, New York\"], [36081134700, 17, \"Census Tract 1347, Queens County, New York\"], [36005036100, 15, \"Census Tract 361, Bronx County, New York\"], [36081053800, 2, \"Census Tract 538, Queens County, New York\"], [36081033401, 7, \"Census Tract 334.01, Queens County, New York\"], [36047043300, 31, \"Census Tract 433, Kings County, New York\"], [36047026100, 19, \"Census Tract 261, Kings County, New York\"], [36081101001, 36, \"Census Tract 1010.01, Queens County, New York\"], [36081088400, 16, \"Census Tract 884, Queens County, New York\"], [36061008601, 13, \"Census Tract 86.01, New York County, New York\"], [36081017900, 11, \"Census Tract 179, Queens County, New York\"], [36047004500, 19, \"Census Tract 45, Kings County, New York\"], [36047026300, 30, \"Census Tract 263, Kings County, New York\"], [36005037800, 25, \"Census Tract 378, Bronx County, New York\"], [36047035500, 23, \"Census Tract 355, Kings County, New York\"], [36005038100, 17, \"Census Tract 381, Bronx County, New York\"], [36085017008, 19, \"Census Tract 170.08, Richmond County, New York\"], [36047016100, 9, \"Census Tract 161, Kings County, New York\"], [36081063200, 5, \"Census Tract 632, Queens County, New York\"], [36005023704, 16, \"Census Tract 237.04, Bronx County, New York\"], [36047057000, 41, \"Census Tract 570, Kings County, New York\"], [36047091200, 32, \"Census Tract 912, Kings County, New York\"], [36047061600, 3, \"Census Tract 616, Kings County, New York\"], [36047037700, 26, \"Census Tract 377, Kings County, New York\"], [36081015801, 4, \"Census Tract 158.01, Queens County, New York\"], [36047032100, 29, \"Census Tract 321, Kings County, New York\"], [36047007400, 18, \"Census Tract 74, Kings County, New York\"], [36047086000, 10, \"Census Tract 860, Kings County, New York\"], [36047050400, 17, \"Census Tract 504, Kings County, New York\"], [36047000200, 12, \"Census Tract 2, Kings County, New York\"], [36005020000, 24, \"Census Tract 200, Bronx County, New York\"], [36005020100, 46, \"Census Tract 201, Bronx County, New York\"], [36047041300, 14, \"Census Tract 413, Kings County, New York\"], [36061019100, 70, \"Census Tract 191, New York County, New York\"], [36047093800, 3, \"Census Tract 938, Kings County, New York\"], [36081024300, 5, \"Census Tract 243, Queens County, New York\"], [36061015801, 13, \"Census Tract 158.01, New York County, New York\"], [36047003600, 7, \"Census Tract 36, Kings County, New York\"], [36047061002, 10, \"Census Tract 610.02, Kings County, New York\"], [36047016300, 40, \"Census Tract 163, Kings County, New York\"], [36047034900, 41, \"Census Tract 349, Kings County, New York\"], [36005027900, 44, \"Census Tract 279, Bronx County, New York\"], [36081032700, 14, \"Census Tract 327, Queens County, New York\"], [36081007700, 11, \"Census Tract 77, Queens County, New York\"], [36005022300, 27, \"Census Tract 223, Bronx County, New York\"], [36047016700, 28, \"Census Tract 167, Kings County, New York\"], [36047051500, 10, \"Census Tract 515, Kings County, New York\"], [36081070700, 6, \"Census Tract 707, Queens County, New York\"], [36081086100, 3, \"Census Tract 861, Queens County, New York\"], [36085011201, 5, \"Census Tract 112.01, Richmond County, New York\"], [36047070000, 6, \"Census Tract 700, Kings County, New York\"], [36061012800, 26, \"Census Tract 128, New York County, New York\"], [36085001100, 14, \"Census Tract 11, Richmond County, New York\"], [36047072400, 24, \"Census Tract 724, Kings County, New York\"], [36081010300, 12, \"Census Tract 103, Queens County, New York\"], [36047082600, 17, \"Census Tract 826, Kings County, New York\"], [36085029104, 14, \"Census Tract 291.04, Richmond County, New York\"], [36047073400, 13, \"Census Tract 734, Kings County, New York\"], [36081011100, 42, \"Census Tract 111, Queens County, New York\"], [36061003100, 22, \"Census Tract 31, New York County, New York\"], [36005029700, 16, \"Census Tract 297, Bronx County, New York\"], [36005023702, 8, \"Census Tract 237.02, Bronx County, New York\"], [36081052800, 10, \"Census Tract 528, Queens County, New York\"], [36005002800, 34, \"Census Tract 28, Bronx County, New York\"], [36047009800, 9, \"Census Tract 98, Kings County, New York\"], [36081024000, 5, \"Census Tract 240, Queens County, New York\"], [36061019900, 35, \"Census Tract 199, New York County, New York\"], [36047052000, 8, \"Census Tract 520, Kings County, New York\"], [36047060000, 17, \"Census Tract 600, Kings County, New York\"], [36047080000, 25, \"Census Tract 800, Kings County, New York\"], [36047056300, 24, \"Census Tract 563, Kings County, New York\"], [36047095800, 12, \"Census Tract 958, Kings County, New York\"], [36085023100, 20, \"Census Tract 231, Richmond County, New York\"], [36047003100, 18, \"Census Tract 31, Kings County, New York\"], [36047030000, 19, \"Census Tract 300, Kings County, New York\"], [36005005002, 9, \"Census Tract 50.02, Bronx County, New York\"], [36061015802, 19, \"Census Tract 158.02, New York County, New York\"], [36047040400, 11, \"Census Tract 404, Kings County, New York\"], [36081006201, 16, \"Census Tract 62.01, Queens County, New York\"], [36047037500, 24, \"Census Tract 375, Kings County, New York\"], [36047092800, 10, \"Census Tract 928, Kings County, New York\"], [36081091900, 16, \"Census Tract 919, Queens County, New York\"], [36005003100, 9, \"Census Tract 31, Bronx County, New York\"], [36047001500, 49, \"Census Tract 15, Kings County, New York\"], [36047097000, 7, \"Census Tract 970, Kings County, New York\"], [36047076600, 14, \"Census Tract 766, Kings County, New York\"], [36081137700, 21, \"Census Tract 1377, Queens County, New York\"], [36081000100, 29, \"Census Tract 1, Queens County, New York\"], [36047063600, 4, \"Census Tract 636, Kings County, New York\"], [36081146700, 17, \"Census Tract 1467, Queens County, New York\"], [36005042902, 33, \"Census Tract 429.02, Bronx County, New York\"], [36047026500, 25, \"Census Tract 265, Kings County, New York\"], [36085014604, 20, \"Census Tract 146.04, Richmond County, New York\"], [36047077600, 9, \"Census Tract 776, Kings County, New York\"], [36047023600, 13, \"Census Tract 236, Kings County, New York\"], [36061011000, 45, \"Census Tract 110, New York County, New York\"], [36047011700, 8, \"Census Tract 117, Kings County, New York\"], [36005017902, 13, \"Census Tract 179.02, Bronx County, New York\"], [36081047000, 4, \"Census Tract 470, Queens County, New York\"], [36081092200, 4, \"Census Tract 922, Queens County, New York\"], [36047072600, 5, \"Census Tract 726, Kings County, New York\"], [36047027100, 19, \"Census Tract 271, Kings County, New York\"], [36081005700, 17, \"Census Tract 57, Queens County, New York\"], [36047017200, 9, \"Census Tract 172, Kings County, New York\"], [36047090200, 19, \"Census Tract 902, Kings County, New York\"], [36047011200, 14, \"Census Tract 112, Kings County, New York\"], [36061003700, 28, \"Census Tract 37, New York County, New York\"], [36061016500, 22, \"Census Tract 165, New York County, New York\"], [36047067200, 5, \"Census Tract 672, Kings County, New York\"], [36047034300, 46, \"Census Tract 343, Kings County, New York\"], [36081023600, 6, \"Census Tract 236, Queens County, New York\"], [36047051900, 41, \"Census Tract 519, Kings County, New York\"], [36061002900, 32, \"Census Tract 29, New York County, New York\"], [36047107000, 31, \"Census Tract 1070, Kings County, New York\"], [36005007300, 8, \"Census Tract 73, Bronx County, New York\"], [36085017600, 8, \"Census Tract 176, Richmond County, New York\"], [36061014401, 13, \"Census Tract 144.01, New York County, New York\"], [36005021900, 31, \"Census Tract 219, Bronx County, New York\"], [36081029100, 15, \"Census Tract 291, Queens County, New York\"], [36047014300, 24, \"Census Tract 143, Kings County, New York\"], [36085012500, 5, \"Census Tract 125, Richmond County, New York\"], [36005002400, 23, null], [36047116400, 20, \"Census Tract 1164, Kings County, New York\"], [36005004600, 46, \"Census Tract 46, Bronx County, New York\"], [36047033900, 14, \"Census Tract 339, Kings County, New York\"], [36047050300, 17, \"Census Tract 503, Kings County, New York\"], [36047049600, 11, \"Census Tract 496, Kings County, New York\"], [36005022902, 32, \"Census Tract 229.02, Bronx County, New York\"], [36081058200, 13, \"Census Tract 582, Queens County, New York\"], [36005032400, 40, \"Census Tract 324, Bronx County, New York\"], [36047115800, 25, \"Census Tract 1158, Kings County, New York\"], [36081007300, 18, \"Census Tract 73, Queens County, New York\"], [36047041000, 9, \"Census Tract 410, Kings County, New York\"], [36005007200, 20, \"Census Tract 72, Bronx County, New York\"], [36081085900, 12, \"Census Tract 859, Queens County, New York\"], [36005006800, 30, \"Census Tract 68, Bronx County, New York\"], [36061008200, 12, \"Census Tract 82, New York County, New York\"], [36047032900, 22, \"Census Tract 329, Kings County, New York\"], [36081157903, 16, \"Census Tract 1579.03, Queens County, New York\"], [36005019700, 32, \"Census Tract 197, Bronx County, New York\"], [36081143500, 12, \"Census Tract 1435, Queens County, New York\"], [36047062800, 11, \"Census Tract 628, Kings County, New York\"], [36005034500, 17, \"Census Tract 345, Bronx County, New York\"], [36005025700, 4, \"Census Tract 257, Bronx County, New York\"], [36047058600, 5, \"Census Tract 586, Kings County, New York\"], [36047051002, 17, \"Census Tract 510.02, Kings County, New York\"], [36081077908, 6, \"Census Tract 779.08, Queens County, New York\"], [36005036502, 5, \"Census Tract 365.02, Bronx County, New York\"], [36081033700, 3, \"Census Tract 337, Queens County, New York\"], [36061007500, 16, \"Census Tract 75, New York County, New York\"], [36005009200, 40, \"Census Tract 92, Bronx County, New York\"], [36005012701, 24, \"Census Tract 127.01, Bronx County, New York\"], [36047012700, 81, \"Census Tract 127, Kings County, New York\"], [36047049900, 12, \"Census Tract 499, Kings County, New York\"], [36047058400, 9, \"Census Tract 584, Kings County, New York\"], [36081005800, 5, \"Census Tract 58, Queens County, New York\"], [36081040700, 15, \"Census Tract 407, Queens County, New York\"], [36081026100, 10, \"Census Tract 261, Queens County, New York\"], [36081044400, 22, \"Census Tract 444, Queens County, New York\"], [36061019701, 26, \"Census Tract 197.01, New York County, New York\"], [36047019700, 14, \"Census Tract 197, Kings County, New York\"], [36081054900, 33, \"Census Tract 549, Queens County, New York\"], [36047005100, 7, \"Census Tract 51, Kings County, New York\"], [36005043400, 38, \"Census Tract 434, Bronx County, New York\"], [36005022102, 34, \"Census Tract 221.02, Bronx County, New York\"], [36081108500, 25, \"Census Tract 1085, Queens County, New York\"], [36085011401, 15, \"Census Tract 114.01, Richmond County, New York\"], [36085000900, 15, \"Census Tract 9, Richmond County, New York\"], [36061031703, 5, \"Census Tract 317.03, New York County, New York\"], [36061027900, 53, \"Census Tract 279, New York County, New York\"], [36085022600, 30, \"Census Tract 226, Richmond County, New York\"], [36005044200, 15, \"Census Tract 442, Bronx County, New York\"], [36081060000, 3, \"Census Tract 600, Queens County, New York\"], [36081086500, 31, \"Census Tract 865, Queens County, New York\"], [36047006400, 11, \"Census Tract 64, Kings County, New York\"], [36005020900, 8, \"Census Tract 209, Bronx County, New York\"], [36081055300, 23, \"Census Tract 553, Queens County, New York\"], [36005009600, 12, \"Census Tract 96, Bronx County, New York\"], [36005030701, 10, \"Census Tract 307.01, Bronx County, New York\"], [36081094500, 18, \"Census Tract 945, Queens County, New York\"], [36061011900, 29, \"Census Tract 119, New York County, New York\"], [36047028502, 37, \"Census Tract 285.02, Kings County, New York\"], [36047036400, 11, \"Census Tract 364, Kings County, New York\"], [36081068000, 18, \"Census Tract 680, Queens County, New York\"], [36005004800, 7, \"Census Tract 48, Bronx County, New York\"], [36005036700, 14, \"Census Tract 367, Bronx County, New York\"], [36047112600, 31, \"Census Tract 1126, Kings County, New York\"], [36081001900, 10, \"Census Tract 19, Queens County, New York\"], [36081026902, 6, \"Census Tract 269.02, Queens County, New York\"], [36005037400, 37, \"Census Tract 374, Bronx County, New York\"], [36047016900, 11, \"Census Tract 169, Kings County, New York\"], [36047050801, 14, \"Census Tract 508.01, Kings County, New York\"], [36081112900, 9, \"Census Tract 1129, Queens County, New York\"], [36081015000, 7, \"Census Tract 150, Queens County, New York\"], [36081059300, 12, \"Census Tract 593, Queens County, New York\"], [36005025200, 5, \"Census Tract 252, Bronx County, New York\"], [36061025300, 31, \"Census Tract 253, New York County, New York\"], [36047025300, 35, \"Census Tract 253, Kings County, New York\"], [36047050804, 27, \"Census Tract 508.04, Kings County, New York\"], [36061000201, 11, \"Census Tract 2.01, New York County, New York\"], [36081004200, 6, \"Census Tract 42, Queens County, New York\"], [36047022700, 29, \"Census Tract 227, Kings County, New York\"], [36061007800, 19, \"Census Tract 78, New York County, New York\"], [36005033201, 16, \"Census Tract 332.01, Bronx County, New York\"], [36047041600, 7, \"Census Tract 416, Kings County, New York\"], [36005015500, 9, \"Census Tract 155, Bronx County, New York\"], [36047077400, 10, \"Census Tract 774, Kings County, New York\"], [36047050900, 5, \"Census Tract 509, Kings County, New York\"], [36047016200, 9, \"Census Tract 162, Kings County, New York\"], [36081116700, 5, \"Census Tract 1167, Queens County, New York\"], [36081010800, 7, \"Census Tract 108, Queens County, New York\"], [36047000900, 22, \"Census Tract 9, Kings County, New York\"], [36061024301, 8, \"Census Tract 243.01, New York County, New York\"], [36081099801, 14, \"Census Tract 998.01, Queens County, New York\"], [36061001502, 28, \"Census Tract 15.02, New York County, New York\"], [36061001600, 20, \"Census Tract 16, New York County, New York\"], [36081102900, 13, \"Census Tract 1029, Queens County, New York\"], [36081028400, 5, \"Census Tract 284, Queens County, New York\"], [36081022002, 15, \"Census Tract 220.02, Queens County, New York\"], [36047018600, 4, \"Census Tract 186, Kings County, New York\"], [36047010100, 10, \"Census Tract 101, Kings County, New York\"], [36047116200, 13, \"Census Tract 1162, Kings County, New York\"], [36081035200, 11, \"Census Tract 352, Queens County, New York\"], [36047039600, 11, \"Census Tract 396, Kings County, New York\"], [36047041900, 39, \"Census Tract 419, Kings County, New York\"], [36081065702, 2, \"Census Tract 657.02, Queens County, New York\"], [36005011502, 29, \"Census Tract 115.02, Bronx County, New York\"], [36061005800, 36, \"Census Tract 58, New York County, New York\"], [36005030000, 26, \"Census Tract 300, Bronx County, New York\"], [36081139900, 5, \"Census Tract 1399, Queens County, New York\"], [36047041800, 5, \"Census Tract 418, Kings County, New York\"], [36081016900, 24, \"Census Tract 169, Queens County, New York\"], [36081024900, 2, \"Census Tract 249, Queens County, New York\"], [36081009900, 7, null], [36047024200, 6, \"Census Tract 242, Kings County, New York\"], [6037207400, 28, null], [36081155102, 22, \"Census Tract 1551.02, Queens County, New York\"], [36081019400, 5, \"Census Tract 194, Queens County, New York\"], [36081146300, 13, \"Census Tract 1463, Queens County, New York\"], [36061011800, 39, \"Census Tract 118, New York County, New York\"], [36081040200, 8, \"Census Tract 402, Queens County, New York\"], [36061012500, 7, \"Census Tract 125, New York County, New York\"], [36047036501, 15, \"Census Tract 365.01, Kings County, New York\"], [36081085300, 14, \"Census Tract 853, Queens County, New York\"], [36005031200, 23, \"Census Tract 312, Bronx County, New York\"], [36047020100, 10, \"Census Tract 201, Kings County, New York\"], [36081156700, 3, \"Census Tract 1567, Queens County, New York\"], [36005029301, 15, \"Census Tract 293.01, Bronx County, New York\"], [36081023500, 28, \"Census Tract 235, Queens County, New York\"], [36061012600, 57, \"Census Tract 126, New York County, New York\"], [36005044901, 10, \"Census Tract 449.01, Bronx County, New York\"], [36047090600, 18, \"Census Tract 906, Kings County, New York\"], [36047086200, 13, \"Census Tract 862, Kings County, New York\"], [36081099701, 14, \"Census Tract 997.01, Queens County, New York\"], [36061029100, 29, \"Census Tract 291, New York County, New York\"], [36061004800, 40, \"Census Tract 48, New York County, New York\"], [36081103300, 20, \"Census Tract 1033, Queens County, New York\"], [36005016900, 18, \"Census Tract 169, Bronx County, New York\"], [36061005600, 18, \"Census Tract 56, New York County, New York\"], [36081066400, 31, \"Census Tract 664, Queens County, New York\"], [36085003600, 11, \"Census Tract 36, Richmond County, New York\"], [36047055800, 5, \"Census Tract 558, Kings County, New York\"], [36005004200, 58, \"Census Tract 42, Bronx County, New York\"], [36005036501, 9, \"Census Tract 365.01, Bronx County, New York\"], [36081010701, 8, null], [36085023900, 6, \"Census Tract 239, Richmond County, New York\"], [36005011900, 36, \"Census Tract 119, Bronx County, New York\"], [36005014900, 40, \"Census Tract 149, Bronx County, New York\"], [36047115000, 9, \"Census Tract 1150, Kings County, New York\"], [36047055700, 12, \"Census Tract 557, Kings County, New York\"], [36081017600, 5, \"Census Tract 176, Queens County, New York\"], [36061009700, 27, \"Census Tract 97, New York County, New York\"], [36081157101, 26, \"Census Tract 1571.01, Queens County, New York\"], [36047021200, 5, \"Census Tract 212, Kings County, New York\"], [36061025900, 67, \"Census Tract 259, New York County, New York\"], [36047036502, 5, \"Census Tract 365.02, Kings County, New York\"], [36047112000, 10, \"Census Tract 1120, Kings County, New York\"], [36047006700, 21, \"Census Tract 67, Kings County, New York\"], [36081119100, 4, \"Census Tract 1191, Queens County, New York\"], [36081010100, 13, \"Census Tract 101, Queens County, New York\"], [36047043800, 5, \"Census Tract 438, Kings County, New York\"], [36047040300, 19, \"Census Tract 403, Kings County, New York\"], [36061029700, 14, null], [36081035700, 8, \"Census Tract 357, Queens County, New York\"], [36081097203, 27, \"Census Tract 972.03, Queens County, New York\"], [36005040400, 44, \"Census Tract 404, Bronx County, New York\"], [36081053900, 16, \"Census Tract 539, Queens County, New York\"], [36005027300, 39, \"Census Tract 273, Bronx County, New York\"], [36047044600, 14, \"Census Tract 446, Kings County, New York\"], [36047111600, 31, \"Census Tract 1116, Kings County, New York\"], [36005038302, 49, \"Census Tract 383.02, Bronx County, New York\"], [36081024500, 10, \"Census Tract 245, Queens County, New York\"], [36047049400, 16, \"Census Tract 494, Kings County, New York\"], [36047092200, 6, \"Census Tract 922, Kings County, New York\"], [36005006300, 38, \"Census Tract 63, Bronx County, New York\"], [36005007100, 21, \"Census Tract 71, Bronx County, New York\"], [36047065200, 7, \"Census Tract 652, Kings County, New York\"], [36047019800, 6, \"Census Tract 198, Kings County, New York\"], [36081018600, 7, \"Census Tract 186, Queens County, New York\"], [36081120500, 3, \"Census Tract 1205, Queens County, New York\"], [36081047500, 2, \"Census Tract 475, Queens County, New York\"], [36085020100, 12, \"Census Tract 201, Richmond County, New York\"], [36047067800, 8, \"Census Tract 678, Kings County, New York\"], [36081061601, 7, \"Census Tract 616.01, Queens County, New York\"], [36047116600, 9, \"Census Tract 1166, Kings County, New York\"], [36047099000, 19, \"Census Tract 990, Kings County, New York\"], [36005026602, 20, \"Census Tract 266.02, Bronx County, New York\"], [36081157902, 32, \"Census Tract 1579.02, Queens County, New York\"], [36047028600, 4, \"Census Tract 286, Kings County, New York\"], [36081046200, 35, \"Census Tract 462, Queens County, New York\"], [36061020701, 4, \"Census Tract 207.01, New York County, New York\"], [36081097300, 21, \"Census Tract 973, Queens County, New York\"], [36047013100, 9, \"Census Tract 131, Kings County, New York\"], [36047007600, 15, \"Census Tract 76, Kings County, New York\"], [36081118500, 3, \"Census Tract 1185, Queens County, New York\"], [36005016600, 6, \"Census Tract 166, Bronx County, New York\"], [36081079200, 9, \"Census Tract 792, Queens County, New York\"], [36061015601, 18, \"Census Tract 156.01, New York County, New York\"], [36085014607, 11, \"Census Tract 146.07, Richmond County, New York\"], [36047095400, 9, \"Census Tract 954, Kings County, New York\"], [36005024300, 15, \"Census Tract 243, Bronx County, New York\"], [36081014000, 14, \"Census Tract 140, Queens County, New York\"], [36081010000, 15, \"Census Tract 100, Queens County, New York\"], [36005024600, 13, \"Census Tract 246, Bronx County, New York\"], [36061014900, 14, \"Census Tract 149, New York County, New York\"], [36047038500, 23, \"Census Tract 385, Kings County, New York\"], [36085017010, 25, \"Census Tract 170.10, Richmond County, New York\"], [36047050000, 3, \"Census Tract 500, Kings County, New York\"], [36047043500, 24, \"Census Tract 435, Kings County, New York\"], [36047019300, 35, \"Census Tract 193, Kings County, New York\"], [36005035600, 14, \"Census Tract 356, Bronx County, New York\"], [36061029300, 41, \"Census Tract 293, New York County, New York\"], [36005018400, 13, \"Census Tract 184, Bronx County, New York\"], [36047113200, 17, \"Census Tract 1132, Kings County, New York\"], [36081044302, 4, \"Census Tract 443.02, Queens County, New York\"], [36047050202, 9, \"Census Tract 502.02, Kings County, New York\"], [36061013900, 62, \"Census Tract 139, New York County, New York\"], [36047022400, 7, \"Census Tract 224, Kings County, New York\"], [36081077907, 26, \"Census Tract 779.07, Queens County, New York\"], [36061009400, 21, \"Census Tract 94, New York County, New York\"], [36047012902, 19, \"Census Tract 129.02, Kings County, New York\"], [36047069000, 10, \"Census Tract 690, Kings County, New York\"], [36061006200, 15, \"Census Tract 62, New York County, New York\"], [36081054500, 4, \"Census Tract 545, Queens County, New York\"], [36005041400, 37, \"Census Tract 414, Bronx County, New York\"], [36081079702, 4, \"Census Tract 797.02, Queens County, New York\"], [36005027402, 12, \"Census Tract 274.02, Bronx County, New York\"], [36005023501, 11, \"Census Tract 235.01, Bronx County, New York\"], [36005033400, 17, \"Census Tract 334, Bronx County, New York\"], [36047030600, 5, \"Census Tract 306, Kings County, New York\"], [36005024800, 10, \"Census Tract 248, Bronx County, New York\"], [36081144100, 21, \"Census Tract 1441, Queens County, New York\"], [36047028400, 7, \"Census Tract 284, Kings County, New York\"], [36005017901, 15, \"Census Tract 179.01, Bronx County, New York\"], [36047150200, 13, \"Census Tract 1502, Kings County, New York\"], [36061011201, 8, \"Census Tract 112.01, New York County, New York\"], [36047081400, 4, \"Census Tract 814, Kings County, New York\"], [36081003700, 10, \"Census Tract 37, Queens County, New York\"], [36047050500, 13, \"Census Tract 505, Kings County, New York\"], [36005033800, 17, \"Census Tract 338, Bronx County, New York\"], [36081008800, 16, \"Census Tract 88, Queens County, New York\"], [36047020000, 6, \"Census Tract 200, Kings County, New York\"], [36081029400, 29, \"Census Tract 294, Queens County, New York\"], [36081141700, 13, \"Census Tract 1417, Queens County, New York\"], [36047066600, 7, null], [36047017100, 10, \"Census Tract 171, Kings County, New York\"], [36085024401, 14, \"Census Tract 244.01, Richmond County, New York\"], [36047021600, 2, \"Census Tract 216, Kings County, New York\"], [36047054200, 4, \"Census Tract 542, Kings County, New York\"], [36047023300, 24, \"Census Tract 233, Kings County, New York\"], [36081036300, 3, \"Census Tract 363, Queens County, New York\"], [36081147100, 16, \"Census Tract 1471, Queens County, New York\"], [36081109300, 14, \"Census Tract 1093, Queens County, New York\"], [36081052500, 2, \"Census Tract 525, Queens County, New York\"], [36081040400, 6, \"Census Tract 404, Queens County, New York\"], [36005013200, 24, \"Census Tract 132, Bronx County, New York\"], [36047117202, 16, \"Census Tract 1172.02, Kings County, New York\"], [36047005000, 14, \"Census Tract 50, Kings County, New York\"], [36047008400, 15, \"Census Tract 84, Kings County, New York\"], [36081152902, 11, \"Census Tract 1529.02, Queens County, New York\"], [36047044800, 9, \"Census Tract 448, Kings County, New York\"], [36061011700, 11, \"Census Tract 117, New York County, New York\"], [36081027700, 30, \"Census Tract 277, Queens County, New York\"], [36047024800, 6, \"Census Tract 248, Kings County, New York\"], [36061016300, 31, \"Census Tract 163, New York County, New York\"], [36081001800, 10, \"Census Tract 18, Queens County, New York\"], [36047046201, 11, \"Census Tract 462.01, Kings County, New York\"], [36061018200, 43, \"Census Tract 182, New York County, New York\"], [36081000400, 12, \"Census Tract 4, Queens County, New York\"], [36047031702, 13, \"Census Tract 317.02, Kings County, New York\"], [36005042800, 21, \"Census Tract 428, Bronx County, New York\"], [36085015100, 10, \"Census Tract 151, Richmond County, New York\"], [36047101000, 6, \"Census Tract 1010, Kings County, New York\"], [36005027600, 11, null], [36005026601, 5, \"Census Tract 266.01, Bronx County, New York\"], [36081033900, 16, \"Census Tract 339, Queens County, New York\"], [36081075701, 8, \"Census Tract 757.01, Queens County, New York\"], [36005018101, 23, \"Census Tract 181.01, Bronx County, New York\"], [36081069400, 12, \"Census Tract 694, Queens County, New York\"], [36047001800, 8, \"Census Tract 18, Kings County, New York\"], [36047039200, 14, \"Census Tract 392, Kings County, New York\"], [36081050500, 2, \"Census Tract 505, Queens County, New York\"], [36047002300, 28, \"Census Tract 23, Kings County, New York\"], [36047019500, 26, \"Census Tract 195, Kings County, New York\"], [36047051001, 10, \"Census Tract 510.01, Kings County, New York\"], [36081006202, 28, \"Census Tract 62.02, Queens County, New York\"], [36081011700, 8, \"Census Tract 117, Queens County, New York\"], [36047119600, 8, \"Census Tract 1196, Kings County, New York\"], [36047029900, 41, \"Census Tract 299, Kings County, New York\"], [36047028100, 6, \"Census Tract 281, Kings County, New York\"], [36047112200, 23, \"Census Tract 1122, Kings County, New York\"], [36047054300, 21, \"Census Tract 543, Kings County, New York\"], [36047088800, 10, \"Census Tract 888, Kings County, New York\"], [36081003600, 4, \"Census Tract 36, Queens County, New York\"], [36081048400, 5, \"Census Tract 484, Queens County, New York\"], [36081048100, 4, \"Census Tract 481, Queens County, New York\"], [36047042400, 6, \"Census Tract 424, Kings County, New York\"], [36085017009, 13, \"Census Tract 170.09, Richmond County, New York\"], [36047029400, 24, \"Census Tract 294, Kings County, New York\"], [36081019000, 4, \"Census Tract 190, Queens County, New York\"], [36047065400, 2, \"Census Tract 654, Kings County, New York\"], [36061019300, 15, \"Census Tract 193, New York County, New York\"], [36061010601, 5, \"Census Tract 106.01, New York County, New York\"], [36081046000, 21, \"Census Tract 460, Queens County, New York\"], [36081150701, 21, \"Census Tract 1507.01, Queens County, New York\"], [36047050600, 16, \"Census Tract 506, Kings County, New York\"], [36061014200, 13, \"Census Tract 142, New York County, New York\"], [36005028800, 4, \"Census Tract 288, Bronx County, New York\"], [36081051100, 4, \"Census Tract 511, Queens County, New York\"], [36047121000, 30, \"Census Tract 1210, Kings County, New York\"], [36081061301, 7, \"Census Tract 613.01, Queens County, New York\"], [36047117602, 8, \"Census Tract 1176.02, Kings County, New York\"], [36081048500, 7, \"Census Tract 485, Queens County, New York\"], [36047013500, 11, \"Census Tract 135, Kings County, New York\"], [36081009700, 6, \"Census Tract 97, Queens County, New York\"], [36081124100, 24, \"Census Tract 1241, Queens County, New York\"], [36005000400, 18, \"Census Tract 4, Bronx County, New York\"], [36085024700, 10, \"Census Tract 247, Richmond County, New York\"], [36061025500, 15, \"Census Tract 255, New York County, New York\"], [36047035602, 4, \"Census Tract 356.02, Kings County, New York\"], [36047062600, 11, \"Census Tract 626, Kings County, New York\"], [36005006500, 16, \"Census Tract 65, Bronx County, New York\"], [36047038800, 15, \"Census Tract 388, Kings County, New York\"], [36047061200, 9, \"Census Tract 612, Kings County, New York\"], [36047119800, 17, \"Census Tract 1198, Kings County, New York\"], [36047003900, 21, \"Census Tract 39, Kings County, New York\"], [36047000301, 6, \"Census Tract 3.01, Kings County, New York\"], [36047040600, 9, \"Census Tract 406, Kings County, New York\"], [36047082800, 7, \"Census Tract 828, Kings County, New York\"], [36081002400, 7, \"Census Tract 24, Queens County, New York\"], [36081162100, 19, \"Census Tract 1621, Queens County, New York\"], [36081046700, 8, \"Census Tract 467, Queens County, New York\"], [36081063800, 10, \"Census Tract 638, Queens County, New York\"], [36005012500, 24, \"Census Tract 125, Bronx County, New York\"], [36005008700, 16, \"Census Tract 87, Bronx County, New York\"], [36081076902, 4, \"Census Tract 769.02, Queens County, New York\"], [36047065800, 3, \"Census Tract 658, Kings County, New York\"], [36047030200, 3, \"Census Tract 302, Kings County, New York\"], [36081065000, 3, \"Census Tract 650, Queens County, New York\"], [36005020200, 20, \"Census Tract 202, Bronx County, New York\"], [36047107800, 13, \"Census Tract 1078, Kings County, New York\"], [36085009602, 14, \"Census Tract 96.02, Richmond County, New York\"], [36005033202, 20, \"Census Tract 332.02, Bronx County, New York\"], [36081145900, 8, \"Census Tract 1459, Queens County, New York\"], [36047076800, 3, \"Census Tract 768, Kings County, New York\"], [36005027700, 61, \"Census Tract 277, Bronx County, New York\"], [36047052900, 8, \"Census Tract 529, Kings County, New York\"], [36081027900, 10, \"Census Tract 279, Queens County, New York\"], [36081036700, 5, \"Census Tract 367, Queens County, New York\"], [36047073200, 4, \"Census Tract 732, Kings County, New York\"], [36081020400, 8, \"Census Tract 204, Queens County, New York\"], [36047054600, 6, \"Census Tract 546, Kings County, New York\"], [36081099100, 7, \"Census Tract 991, Queens County, New York\"], [36047025901, 6, \"Census Tract 259.01, Kings County, New York\"], [36005019400, 6, \"Census Tract 194, Bronx County, New York\"], [36047031701, 12, \"Census Tract 317.01, Kings County, New York\"], [36047014500, 7, \"Census Tract 145, Kings County, New York\"], [36005016300, 34, \"Census Tract 163, Bronx County, New York\"], [36081029700, 11, \"Census Tract 297, Queens County, New York\"], [36047019600, 7, \"Census Tract 196, Kings County, New York\"], [36047064200, 7, \"Census Tract 642, Kings County, New York\"], [36047054400, 4, \"Census Tract 544, Kings County, New York\"], [36047003700, 15, \"Census Tract 37, Kings County, New York\"], [36047102200, 16, \"Census Tract 1022, Kings County, New York\"], [36047030400, 5, \"Census Tract 304, Kings County, New York\"], [36081073900, 13, \"Census Tract 739, Queens County, New York\"], [36085017011, 5, \"Census Tract 170.11, Richmond County, New York\"], [36047007200, 8, \"Census Tract 72, Kings County, New York\"], [36047095000, 10, \"Census Tract 950, Kings County, New York\"], [36085024800, 14, \"Census Tract 248, Richmond County, New York\"], [36005040900, 13, \"Census Tract 409, Bronx County, New York\"], [36005016400, 4, \"Census Tract 164, Bronx County, New York\"], [36081064600, 9, \"Census Tract 646, Queens County, New York\"], [36047007700, 9, \"Census Tract 77, Kings County, New York\"], [36047114202, 10, \"Census Tract 1142.02, Kings County, New York\"], [36081038302, 7, \"Census Tract 383.02, Queens County, New York\"], [36047060800, 11, \"Census Tract 608, Kings County, New York\"], [36081012200, 4, \"Census Tract 122, Queens County, New York\"], [36047017900, 30, \"Census Tract 179, Kings County, New York\"], [36119001502, 2, \"Census Tract 15.02, Westchester County, New York\"], [36005028700, 28, \"Census Tract 287, Bronx County, New York\"], [36047102600, 5, \"Census Tract 1026, Kings County, New York\"], [36047001300, 5, \"Census Tract 13, Kings County, New York\"], [36081115900, 10, \"Census Tract 1159, Queens County, New York\"], [36047027500, 10, \"Census Tract 275, Kings County, New York\"], [36061010400, 2, \"Census Tract 104, New York County, New York\"], [36081026300, 9, \"Census Tract 263, Queens County, New York\"], [36005042000, 21, \"Census Tract 420, Bronx County, New York\"], [36047083200, 9, \"Census Tract 832, Kings County, New York\"], [36047081600, 11, \"Census Tract 816, Kings County, New York\"], [36081007100, 25, \"Census Tract 71, Queens County, New York\"], [36081072100, 10, \"Census Tract 721, Queens County, New York\"], [36005036902, 10, \"Census Tract 369.02, Bronx County, New York\"], [36081028500, 18, \"Census Tract 285, Queens County, New York\"], [36081064102, 6, \"Census Tract 641.02, Queens County, New York\"], [36061003601, 28, \"Census Tract 36.01, New York County, New York\"], [36081050000, 14, \"Census Tract 500, Queens County, New York\"], [36005007000, 12, \"Census Tract 70, Bronx County, New York\"], [36047055400, 5, \"Census Tract 554, Kings County, New York\"], [36081067900, 8, \"Census Tract 679, Queens County, New York\"], [36081051500, 9, \"Census Tract 515, Queens County, New York\"], [36047094402, 17, \"Census Tract 944.02, Kings County, New York\"], [36005035100, 10, \"Census Tract 351, Bronx County, New York\"], [36085009700, 9, \"Census Tract 97, Richmond County, New York\"], [36081109900, 3, \"Census Tract 1099, Queens County, New York\"], [36061005700, 6, \"Census Tract 57, New York County, New York\"], [36047009200, 9, \"Census Tract 92, Kings County, New York\"], [36047004600, 5, \"Census Tract 46, Kings County, New York\"], [36081147900, 20, \"Census Tract 1479, Queens County, New York\"], [36081015900, 6, \"Census Tract 159, Queens County, New York\"], [36005007600, 23, \"Census Tract 76, Bronx County, New York\"], [36005024700, 16, \"Census Tract 247, Bronx County, New York\"], [36047084000, 9, \"Census Tract 840, Kings County, New York\"], [36081008100, 7, \"Census Tract 81, Queens County, New York\"], [36061009000, 14, \"Census Tract 90, New York County, New York\"], [36061014802, 13, \"Census Tract 148.02, New York County, New York\"], [36047033600, 9, \"Census Tract 336, Kings County, New York\"], [36047072800, 3, \"Census Tract 728, Kings County, New York\"], [36081066900, 7, \"Census Tract 669, Queens County, New York\"], [36085027301, 8, \"Census Tract 273.01, Richmond County, New York\"], [36081129103, 9, \"Census Tract 1291.03, Queens County, New York\"], [36047006800, 22, \"Census Tract 68, Kings County, New York\"], [36081016800, 6, \"Census Tract 168, Queens County, New York\"], [36047039300, 10, \"Census Tract 393, Kings County, New York\"], [36081046100, 2, \"Census Tract 461, Queens County, New York\"], [36081037600, 5, \"Census Tract 376, Queens County, New York\"], [36081037100, 8, \"Census Tract 371, Queens County, New York\"], [36047012600, 10, \"Census Tract 126, Kings County, New York\"], [36061007600, 13, \"Census Tract 76, New York County, New York\"], [36081062100, 5, \"Census Tract 621, Queens County, New York\"], [36005027401, 9, \"Census Tract 274.01, Bronx County, New York\"], [36081013700, 5, \"Census Tract 137, Queens County, New York\"], [36081037300, 2, \"Census Tract 373, Queens County, New York\"], [36047006000, 6, \"Census Tract 60, Kings County, New York\"], [36081017800, 3, \"Census Tract 178, Queens County, New York\"], [36061020500, 5, \"Census Tract 205, New York County, New York\"], [36085021300, 11, \"Census Tract 213, Richmond County, New York\"], [36047042300, 17, \"Census Tract 423, Kings County, New York\"], [36081030904, 5, \"Census Tract 309.04, Queens County, New York\"], [36061000500, 2, null], [36047093200, 6, \"Census Tract 932, Kings County, New York\"], [36047040800, 4, \"Census Tract 408, Kings County, New York\"], [36061019800, 19, \"Census Tract 198, New York County, New York\"], [36081007500, 17, \"Census Tract 75, Queens County, New York\"], [36005026500, 28, \"Census Tract 265, Bronx County, New York\"], [36081002600, 8, \"Census Tract 26, Queens County, New York\"], [36081053200, 3, \"Census Tract 532, Queens County, New York\"], [36005002702, 10, \"Census Tract 27.02, Bronx County, New York\"], [36061001401, 13, \"Census Tract 14.01, New York County, New York\"], [36081103202, 26, \"Census Tract 1032.02, Queens County, New York\"], [36061005900, 16, \"Census Tract 59, New York County, New York\"], [36085029103, 13, \"Census Tract 291.03, Richmond County, New York\"], [36047083600, 6, \"Census Tract 836, Kings County, New York\"], [36061028300, 19, \"Census Tract 283, New York County, New York\"], [36005036000, 12, \"Census Tract 360, Bronx County, New York\"], [36047012901, 5, \"Census Tract 129.01, Kings County, New York\"], [36081008300, 14, \"Census Tract 83, Queens County, New York\"], [36047096800, 8, \"Census Tract 968, Kings County, New York\"], [36047069800, 6, \"Census Tract 698, Kings County, New York\"], [36047012100, 4, \"Census Tract 121, Kings County, New York\"], [36005008400, 14, \"Census Tract 84, Bronx County, New York\"], [36081050201, 2, \"Census Tract 502.01, Queens County, New York\"], [36047055600, 5, \"Census Tract 556, Kings County, New York\"], [36005022800, 18, \"Census Tract 228, Bronx County, New York\"], [36047038600, 6, \"Census Tract 386, Kings County, New York\"], [36081011300, 7, \"Census Tract 113, Queens County, New York\"], [36047029000, 3, \"Census Tract 290, Kings County, New York\"], [36081050400, 5, \"Census Tract 504, Queens County, New York\"], [36085031902, 16, \"Census Tract 319.02, Richmond County, New York\"], [36081018501, 6, \"Census Tract 185.01, Queens County, New York\"], [36085013800, 36, \"Census Tract 138, Richmond County, New York\"], [36047099800, 7, \"Census Tract 998, Kings County, New York\"], [36081056400, 4, \"Census Tract 564, Queens County, New York\"], [36047003000, 13, \"Census Tract 30, Kings County, New York\"], [36005016000, 12, \"Census Tract 160, Bronx County, New York\"], [36047010200, 9, \"Census Tract 102, Kings County, New York\"], [36081005400, 7, \"Census Tract 54, Queens County, New York\"], [36047117400, 8, \"Census Tract 1174, Kings County, New York\"], [36081059500, 19, \"Census Tract 595, Queens County, New York\"], [36081006100, 18, \"Census Tract 61, Queens County, New York\"], [36047045300, 12, \"Census Tract 453, Kings County, New York\"], [36047015200, 4, \"Census Tract 152, Kings County, New York\"], [36081118900, 7, \"Census Tract 1189, Queens County, New York\"], [36081070900, 5, \"Census Tract 709, Queens County, New York\"], [36081093800, 20, \"Census Tract 938, Queens County, New York\"], [36081083700, 9, \"Census Tract 837, Queens County, New York\"], [36081033000, 17, \"Census Tract 330, Queens County, New York\"], [36085020804, 13, \"Census Tract 208.04, Richmond County, New York\"], [36005021200, 3, \"Census Tract 212, Bronx County, New York\"], [36047029100, 10, \"Census Tract 291, Kings County, New York\"], [36047028200, 7, \"Census Tract 282, Kings County, New York\"], [36047077000, 32, \"Census Tract 770, Kings County, New York\"], [36081010200, 5, \"Census Tract 102, Queens County, New York\"], [36061008800, 9, \"Census Tract 88, New York County, New York\"], [36081012400, 9, \"Census Tract 124, Queens County, New York\"], [36047022000, 4, \"Census Tract 220, Kings County, New York\"], [36081071701, 5, \"Census Tract 717.01, Queens County, New York\"], [36081062700, 6, \"Census Tract 627, Queens County, New York\"], [36047101200, 9, \"Census Tract 1012, Kings County, New York\"], [36047091600, 18, \"Census Tract 916, Kings County, New York\"], [36047112800, 10, \"Census Tract 1128, Kings County, New York\"], [36081049301, 5, \"Census Tract 493.01, Queens County, New York\"], [36047048400, 4, \"Census Tract 484, Kings County, New York\"], [36085014700, 5, \"Census Tract 147, Richmond County, New York\"], [36081127700, 24, \"Census Tract 1277, Queens County, New York\"], [36081041100, 7, \"Census Tract 411, Queens County, New York\"], [36081065501, 4, null], [36081105900, 10, \"Census Tract 1059, Queens County, New York\"], [36081040300, 5, \"Census Tract 403, Queens County, New York\"], [36047079000, 12, \"Census Tract 790, Kings County, New York\"], [36081055200, 13, \"Census Tract 552, Queens County, New York\"], [36081026200, 4, \"Census Tract 262, Queens County, New York\"], [36085018901, 9, \"Census Tract 189.01, Richmond County, New York\"], [36047119000, 3, \"Census Tract 1190, Kings County, New York\"], [36081157901, 22, \"Census Tract 1579.01, Queens County, New York\"], [36047099600, 7, \"Census Tract 996, Kings County, New York\"], [36047078200, 3, \"Census Tract 782, Kings County, New York\"], [36047029200, 8, \"Census Tract 292, Kings County, New York\"], [36005032600, 12, \"Census Tract 326, Bronx County, New York\"], [36081063900, 4, \"Census Tract 639, Queens County, New York\"], [36047019900, 15, \"Census Tract 199, Kings County, New York\"], [36047026900, 9, \"Census Tract 269, Kings County, New York\"], [36005034200, 8, \"Census Tract 342, Bronx County, New York\"], [36047006500, 13, \"Census Tract 65, Kings County, New York\"], [36081055500, 7, \"Census Tract 555, Queens County, New York\"], [36047058800, 9, \"Census Tract 588, Kings County, New York\"], [36005023000, 20, \"Census Tract 230, Bronx County, New York\"], [36005014100, 14, \"Census Tract 141, Bronx County, New York\"], [36081073700, 10, \"Census Tract 737, Queens County, New York\"], [36085001700, 6, \"Census Tract 17, Richmond County, New York\"], [36081035300, 3, \"Census Tract 353, Queens County, New York\"], [36005041300, 26, \"Census Tract 413, Bronx County, New York\"], [36061010602, 10, \"Census Tract 106.02, New York County, New York\"], [36047037300, 11, \"Census Tract 373, Kings County, New York\"], [36081050800, 9, \"Census Tract 508, Queens County, New York\"], [36005020400, 19, \"Census Tract 204, Bronx County, New York\"], [36081015400, 13, \"Census Tract 154, Queens County, New York\"], [36081069300, 7, \"Census Tract 693, Queens County, New York\"], [36081062900, 3, \"Census Tract 629, Queens County, New York\"], [36047029800, 8, \"Census Tract 298, Kings County, New York\"], [36081028700, 12, \"Census Tract 287, Queens County, New York\"], [36081054700, 10, \"Census Tract 547, Queens County, New York\"], [36081010500, 13, \"Census Tract 105, Queens County, New York\"], [36047036002, 4, \"Census Tract 360.02, Kings County, New York\"], [36047020500, 7, \"Census Tract 205, Kings County, New York\"], [36047105801, 9, \"Census Tract 1058.01, Kings County, New York\"], [36081049200, 8, \"Census Tract 492, Queens County, New York\"], [36005042400, 21, \"Census Tract 424, Bronx County, New York\"], [36047037000, 7, \"Census Tract 370, Kings County, New York\"], [36081090700, 11, \"Census Tract 907, Queens County, New York\"], [36047051601, 23, \"Census Tract 516.01, Kings County, New York\"], [36005031400, 10, \"Census Tract 314, Bronx County, New York\"], [36081079000, 10, \"Census Tract 790, Queens County, New York\"], [36047052600, 8, \"Census Tract 526, Kings County, New York\"], [36047022800, 2, \"Census Tract 228, Kings County, New York\"], [36005017100, 5, null], [36081014201, 14, \"Census Tract 142.01, Queens County, New York\"], [36047036700, 2, \"Census Tract 367, Kings County, New York\"], [36081016600, 6, \"Census Tract 166, Queens County, New York\"], [36081120700, 4, \"Census Tract 1207, Queens County, New York\"], [36081071100, 8, \"Census Tract 711, Queens County, New York\"], [36081055100, 10, \"Census Tract 551, Queens County, New York\"], [36081099802, 14, \"Census Tract 998.02, Queens County, New York\"], [36081115500, 14, \"Census Tract 1155, Queens County, New York\"], [36047055300, 14, \"Census Tract 553, Kings County, New York\"], [36061010200, 12, \"Census Tract 102, New York County, New York\"], [36061015500, 4, \"Census Tract 155, New York County, New York\"], [36085013203, 17, \"Census Tract 132.03, Richmond County, New York\"], [36047080400, 12, \"Census Tract 804, Kings County, New York\"], [36081045000, 3, \"Census Tract 450, Queens County, New York\"], [36081157102, 7, \"Census Tract 1571.02, Queens County, New York\"], [36085013400, 5, \"Census Tract 134, Richmond County, New York\"], [36081027500, 5, \"Census Tract 275, Queens County, New York\"], [36047023000, 6, \"Census Tract 230, Kings County, New York\"], [36005040303, 11, \"Census Tract 403.03, Bronx County, New York\"], [36047056600, 10, \"Census Tract 566, Kings County, New York\"], [36005021800, 22, \"Census Tract 218, Bronx County, New York\"], [36085022800, 7, \"Census Tract 228, Richmond County, New York\"], [36081140300, 4, \"Census Tract 1403, Queens County, New York\"], [36005011800, 10, \"Census Tract 118, Bronx County, New York\"], [36047046000, 10, \"Census Tract 460, Kings County, New York\"], [36081121100, 2, null], [36081060100, 2, \"Census Tract 601, Queens County, New York\"], [36047026400, 9, \"Census Tract 264, Kings County, New York\"], [36081011400, 4, \"Census Tract 114, Queens County, New York\"], [36081059400, 2, \"Census Tract 594, Queens County, New York\"], [36005026400, 7, \"Census Tract 264, Bronx County, New York\"], [36061011202, 15, \"Census Tract 112.02, New York County, New York\"], [36047040100, 10, \"Census Tract 401, Kings County, New York\"], [36061011500, 8, \"Census Tract 115, New York County, New York\"], [36005026900, 29, \"Census Tract 269, Bronx County, New York\"], [36047056500, 6, \"Census Tract 565, Kings County, New York\"], [36081125700, 5, \"Census Tract 1257, Queens County, New York\"], [36047001100, 3, \"Census Tract 11, Kings County, New York\"], [36005016200, 8, \"Census Tract 162, Bronx County, New York\"], [36047074000, 2, \"Census Tract 740, Kings County, New York\"], [36047085000, 9, \"Census Tract 850, Kings County, New York\"], [36047048500, 9, \"Census Tract 485, Kings County, New York\"], [36047034800, 13, \"Census Tract 348, Kings County, New York\"], [36005012101, 6, \"Census Tract 121.01, Bronx County, New York\"], [36047086400, 5, \"Census Tract 864, Kings County, New York\"], [36081001400, 9, \"Census Tract 14, Queens County, New York\"], [36085002700, 3, \"Census Tract 27, Richmond County, New York\"], [36081071305, 4, \"Census Tract 713.05, Queens County, New York\"], [36081019600, 3, \"Census Tract 196, Queens County, New York\"], [36047010000, 10, \"Census Tract 100, Kings County, New York\"], [36061019702, 11, \"Census Tract 197.02, New York County, New York\"], [36047037401, 2, \"Census Tract 374.01, Kings County, New York\"], [36005037900, 39, \"Census Tract 379, Bronx County, New York\"], [36047027800, 2, \"Census Tract 278, Kings County, New York\"], [36047025200, 7, \"Census Tract 252, Kings County, New York\"], [36047049200, 9, \"Census Tract 492, Kings County, New York\"], [36081114100, 5, \"Census Tract 1141, Queens County, New York\"], [36047067000, 6, \"Census Tract 670, Kings County, New York\"], [36047002200, 9, \"Census Tract 22, Kings County, New York\"], [36047028800, 4, \"Census Tract 288, Kings County, New York\"], [36081129102, 12, \"Census Tract 1291.02, Queens County, New York\"], [36081061800, 6, \"Census Tract 618, Queens County, New York\"], [36047011400, 4, \"Census Tract 114, Kings County, New York\"], [36047077200, 6, \"Census Tract 772, Kings County, New York\"], [36081099200, 9, \"Census Tract 992, Queens County, New York\"], [36047010400, 8, \"Census Tract 104, Kings County, New York\"], [36047015000, 5, \"Census Tract 150, Kings County, New York\"], [36047056800, 2, \"Census Tract 568, Kings County, New York\"], [36047081800, 11, \"Census Tract 818, Kings County, New York\"], [36081041300, 5, \"Census Tract 413, Queens County, New York\"], [36061002202, 24, \"Census Tract 22.02, New York County, New York\"], [36047118202, 8, \"Census Tract 1182.02, Kings County, New York\"], [36047087200, 11, \"Census Tract 872, Kings County, New York\"], [36047067600, 3, \"Census Tract 676, Kings County, New York\"], [36085013201, 7, \"Census Tract 132.01, Richmond County, New York\"], [36081150702, 13, \"Census Tract 1507.02, Queens County, New York\"], [36061022302, 9, \"Census Tract 223.02, New York County, New York\"], [36085011402, 5, \"Census Tract 114.02, Richmond County, New York\"], [36081003800, 2, \"Census Tract 38, Queens County, New York\"], [36081142900, 7, \"Census Tract 1429, Queens County, New York\"], [36047016000, 5, \"Census Tract 160, Kings County, New York\"], [36081066000, 8, \"Census Tract 660, Queens County, New York\"], [36081030903, 7, \"Census Tract 309.03, Queens County, New York\"], [36061016001, 5, \"Census Tract 160.01, New York County, New York\"], [36047017500, 3, \"Census Tract 175, Kings County, New York\"], [36047018000, 2, \"Census Tract 180, Kings County, New York\"], [36047044300, 13, \"Census Tract 443, Kings County, New York\"], [36047015100, 5, \"Census Tract 151, Kings County, New York\"], [36047041500, 6, \"Census Tract 415, Kings County, New York\"], [36047011600, 4, \"Census Tract 116, Kings County, New York\"], [36005023600, 14, \"Census Tract 236, Bronx County, New York\"], [36081058700, 2, \"Census Tract 587, Queens County, New York\"], [36047048600, 11, \"Census Tract 486, Kings County, New York\"], [36047056000, 8, \"Census Tract 560, Kings County, New York\"], [36081014300, 11, \"Census Tract 143, Queens County, New York\"], [36047042800, 3, \"Census Tract 428, Kings County, New York\"], [36081047300, 8, \"Census Tract 473, Queens County, New York\"], [36081126500, 6, \"Census Tract 1265, Queens County, New York\"], [36005022703, 3, \"Census Tract 227.03, Bronx County, New York\"], [36047048000, 7, \"Census Tract 480, Kings County, New York\"], [36047119400, 6, \"Census Tract 1194, Kings County, New York\"], [36081026700, 8, \"Census Tract 267, Queens County, New York\"], [36081117500, 9, \"Census Tract 1175, Queens County, New York\"], [36047026600, 12, \"Census Tract 266, Kings County, New York\"], [36005016500, 5, \"Census Tract 165, Bronx County, New York\"], [36047075400, 3, \"Census Tract 754, Kings County, New York\"], [36047003400, 10, \"Census Tract 34, Kings County, New York\"], [36047074400, 2, \"Census Tract 744, Kings County, New York\"], [36081032000, 10, \"Census Tract 320, Queens County, New York\"], [36081039800, 5, \"Census Tract 398, Queens County, New York\"], [36005023100, 4, \"Census Tract 231, Bronx County, New York\"], [36081028100, 11, \"Census Tract 281, Queens County, New York\"], [36081036100, 7, \"Census Tract 361, Queens County, New York\"], [36081099703, 7, \"Census Tract 997.03, Queens County, New York\"], [36047118201, 4, \"Census Tract 1182.01, Kings County, New York\"], [36047074200, 2, \"Census Tract 742, Kings County, New York\"], [36081056500, 5, \"Census Tract 565, Queens County, New York\"], [36081039400, 7, \"Census Tract 394, Queens County, New York\"], [36047058200, 11, \"Census Tract 582, Kings County, New York\"], [36081044602, 3, \"Census Tract 446.02, Queens County, New York\"], [36081098700, 7, \"Census Tract 987, Queens County, New York\"], [36081120100, 3, \"Census Tract 1201, Queens County, New York\"], [36081081400, 8, \"Census Tract 814, Queens County, New York\"], [36047068600, 4, \"Census Tract 686, Kings County, New York\"], [36047012200, 5, \"Census Tract 122, Kings County, New York\"], [36061005501, 8, \"Census Tract 55.01, New York County, New York\"], [36047086600, 11, \"Census Tract 866, Kings County, New York\"], [36081038100, 9, \"Census Tract 381, Queens County, New York\"], [36085027704, 8, \"Census Tract 277.04, Richmond County, New York\"], [36005021501, 6, \"Census Tract 215.01, Bronx County, New York\"], [36061031704, 4, \"Census Tract 317.04, New York County, New York\"], [36081077500, 4, \"Census Tract 775, Queens County, New York\"], [36061029900, 3, \"Census Tract 299, New York County, New York\"], [36081033402, 7, \"Census Tract 334.02, Queens County, New York\"], [36005023302, 12, \"Census Tract 233.02, Bronx County, New York\"], [36061014700, 3, \"Census Tract 147, New York County, New York\"], [36047008000, 5, \"Census Tract 80, Kings County, New York\"], [36047024600, 7, \"Census Tract 246, Kings County, New York\"], [36047042600, 6, \"Census Tract 426, Kings County, New York\"], [36081013000, 5, \"Census Tract 130, Queens County, New York\"], [36047020600, 8, \"Census Tract 206, Kings County, New York\"], [36081059600, 3, \"Census Tract 596, Queens County, New York\"], [25017341300, 3, null], [36081045500, 5, \"Census Tract 455, Queens County, New York\"], [36085017012, 7, \"Census Tract 170.12, Richmond County, New York\"], [36081049500, 8, \"Census Tract 495, Queens County, New York\"], [36081027000, 6, \"Census Tract 270, Queens County, New York\"], [36061009600, 4, \"Census Tract 96, New York County, New York\"], [36085013204, 4, \"Census Tract 132.04, Richmond County, New York\"], [36047075000, 8, \"Census Tract 750, Kings County, New York\"], [36081031700, 9, \"Census Tract 317, Queens County, New York\"], [36047053300, 3, \"Census Tract 533, Kings County, New York\"], [36081045700, 8, \"Census Tract 457, Queens County, New York\"], [36081046600, 5, \"Census Tract 466, Queens County, New York\"], [36005024900, 3, null], [36081055900, 5, \"Census Tract 559, Queens County, New York\"], [36047045800, 4, \"Census Tract 458, Kings County, New York\"], [36005033500, 16, \"Census Tract 335, Bronx County, New York\"], [36085002002, 7, \"Census Tract 20.02, Richmond County, New York\"], [36081041500, 4, \"Census Tract 415, Queens County, New York\"], [36047063200, 3, \"Census Tract 632, Kings County, New York\"], [36081054000, 7, \"Census Tract 540, Queens County, New York\"], [36085000800, 8, \"Census Tract 8, Richmond County, New York\"], [36047010800, 2, \"Census Tract 108, Kings County, New York\"], [36081045400, 7, \"Census Tract 454, Queens County, New York\"], [36047006300, 9, \"Census Tract 63, Kings County, New York\"], [36081025100, 7, \"Census Tract 251, Queens County, New York\"], [36081122300, 6, \"Census Tract 1223, Queens County, New York\"], [36081113900, 8, \"Census Tract 1139, Queens County, New York\"], [36085011202, 17, \"Census Tract 112.02, Richmond County, New York\"], [36047118000, 2, null], [36005037600, 6, \"Census Tract 376, Bronx County, New York\"], [36047014900, 11, \"Census Tract 149, Kings County, New York\"], [36047074800, 5, \"Census Tract 748, Kings County, New York\"], [36047032300, 2, \"Census Tract 323, Kings County, New York\"], [36005045600, 7, \"Census Tract 456, Bronx County, New York\"], [36081071702, 3, \"Census Tract 717.02, Queens County, New York\"], [36081115100, 5, \"Census Tract 1151, Queens County, New York\"], [36047035100, 12, \"Census Tract 351, Kings County, New York\"], [36047036200, 6, \"Census Tract 362, Kings County, New York\"], [36047098600, 3, \"Census Tract 986, Kings County, New York\"], [36081011900, 5, \"Census Tract 119, Queens County, New York\"], [36047097400, 8, \"Census Tract 974, Kings County, New York\"], [36005025600, 3, \"Census Tract 256, Bronx County, New York\"], [36081068700, 2, \"Census Tract 687, Queens County, New York\"], [36081053000, 5, \"Census Tract 530, Queens County, New York\"], [36081074900, 2, \"Census Tract 749, Queens County, New York\"], [36085030302, 8, \"Census Tract 303.02, Richmond County, New York\"], [36081138502, 14, null], [36085007500, 6, \"Census Tract 75, Richmond County, New York\"], [36047100400, 6, \"Census Tract 1004, Kings County, New York\"], [36047067400, 9, \"Census Tract 674, Kings County, New York\"], [36081093402, 8, \"Census Tract 934.02, Queens County, New York\"], [36047068200, 5, \"Census Tract 682, Kings County, New York\"], [36005012102, 5, \"Census Tract 121.02, Bronx County, New York\"], [36047069601, 3, \"Census Tract 696.01, Kings County, New York\"], [36081040500, 8, \"Census Tract 405, Queens County, New York\"], [36047100600, 4, \"Census Tract 1006, Kings County, New York\"], [36047078400, 3, \"Census Tract 784, Kings County, New York\"], [36047054800, 4, \"Census Tract 548, Kings County, New York\"], [36047081000, 7, \"Census Tract 810, Kings County, New York\"], [36081028300, 10, \"Census Tract 283, Queens County, New York\"], [36061011402, 7, \"Census Tract 114.02, New York County, New York\"], [36081074100, 4, \"Census Tract 741, Queens County, New York\"], [36047047000, 9, \"Census Tract 470, Kings County, New York\"], [36085027706, 4, \"Census Tract 277.06, Richmond County, New York\"], [36047017600, 5, \"Census Tract 176, Kings County, New York\"], [36081035800, 6, \"Census Tract 358, Queens County, New York\"], [36081130100, 6, \"Census Tract 1301, Queens County, New York\"], [36047069200, 3, \"Census Tract 692, Kings County, New York\"], [36081012100, 3, \"Census Tract 121, Queens County, New York\"], [36081126700, 11, \"Census Tract 1267, Queens County, New York\"], [36085012804, 5, \"Census Tract 128.04, Richmond County, New York\"], [36047017400, 3, \"Census Tract 174, Kings County, New York\"], [36061002000, 5, \"Census Tract 20, New York County, New York\"], [36081121500, 2, \"Census Tract 1215, Queens County, New York\"], [36047044200, 3, \"Census Tract 442, Kings County, New York\"], [36081018200, 7, \"Census Tract 182, Queens County, New York\"], [36047049000, 5, \"Census Tract 490, Kings County, New York\"], [36047084800, 5, \"Census Tract 848, Kings County, New York\"], [36081040900, 2, \"Census Tract 409, Queens County, New York\"], [36047053700, 3, \"Census Tract 537, Kings County, New York\"], [36081003100, 3, \"Census Tract 31, Queens County, New York\"], [36047085800, 12, \"Census Tract 858, Kings County, New York\"], [36047064000, 2, \"Census Tract 640, Kings County, New York\"], [36081001200, 4, \"Census Tract 12, Queens County, New York\"], [36047018200, 4, \"Census Tract 182, Kings County, New York\"], [36081101002, 4, \"Census Tract 1010.02, Queens County, New York\"], [36085024402, 8, \"Census Tract 244.02, Richmond County, New York\"], [36047084600, 6, \"Census Tract 846, Kings County, New York\"], [36047072000, 6, \"Census Tract 720, Kings County, New York\"], [36047014000, 3, \"Census Tract 140, Kings County, New York\"], [36081042700, 6, \"Census Tract 427, Queens County, New York\"], [36047039800, 2, \"Census Tract 398, Kings County, New York\"], [36047098400, 3, \"Census Tract 984, Kings County, New York\"], [36047083400, 2, \"Census Tract 834, Kings County, New York\"], [36081041400, 6, \"Census Tract 414, Queens County, New York\"], [36081002000, 2, \"Census Tract 20, Queens County, New York\"], [36081098100, 9, \"Census Tract 981, Queens County, New York\"], [36081017100, 7, null], [36047117601, 8, \"Census Tract 1176.01, Kings County, New York\"], [36047011000, 5, \"Census Tract 110, Kings County, New York\"], [36081014400, 2, \"Census Tract 144, Queens County, New York\"], [36047074600, 5, \"Census Tract 746, Kings County, New York\"], [36081045900, 3, \"Census Tract 459, Queens County, New York\"], [36081003400, 4, \"Census Tract 34, Queens County, New York\"], [36081069500, 3, \"Census Tract 695, Queens County, New York\"], [36085014605, 12, \"Census Tract 146.05, Richmond County, New York\"], [36081018502, 6, \"Census Tract 185.02, Queens County, New York\"], [36047059200, 5, \"Census Tract 592, Kings County, New York\"], [36081003900, 5, \"Census Tract 39, Queens County, New York\"], [36005037000, 4, \"Census Tract 370, Bronx County, New York\"], [36081049302, 5, \"Census Tract 493.02, Queens County, New York\"], [36081019200, 3, \"Census Tract 192, Queens County, New York\"], [36085027302, 5, \"Census Tract 273.02, Richmond County, New York\"], [36081014202, 4, \"Census Tract 142.02, Queens County, New York\"], [36081043702, 5, \"Census Tract 437.02, Queens County, New York\"], [36085002001, 8, \"Census Tract 20.01, Richmond County, New York\"], [36081043400, 4, \"Census Tract 434, Queens County, New York\"], [36085000600, 16, \"Census Tract 6, Richmond County, New York\"], [36005044902, 4, \"Census Tract 449.02, Bronx County, New York\"], [36081046300, 4, \"Census Tract 463, Queens County, New York\"], [36085009601, 7, \"Census Tract 96.01, Richmond County, New York\"], [36081000600, 5, \"Census Tract 6, Queens County, New York\"], [36047089800, 7, \"Census Tract 898, Kings County, New York\"], [36047070600, 6, \"Census Tract 706, Kings County, New York\"], [36081145101, 3, \"Census Tract 1451.01, Queens County, New York\"], [36047005202, 2, \"Census Tract 52.02, Kings County, New York\"], [36081017200, 4, \"Census Tract 172, Queens County, New York\"], [36081074300, 4, \"Census Tract 743, Queens County, New York\"], [36085012806, 9, \"Census Tract 128.06, Richmond County, New York\"], [36081063500, 3, \"Census Tract 635, Queens County, New York\"], [36081099705, 5, \"Census Tract 997.05, Queens County, New York\"], [36085032300, 4, \"Census Tract 323, Richmond County, New York\"], [36005031900, 2, \"Census Tract 319, Bronx County, New York\"], [36005028400, 6, \"Census Tract 284, Bronx County, New York\"], [36005030100, 6, \"Census Tract 301, Bronx County, New York\"], [36047055200, 6, \"Census Tract 552, Kings County, New York\"], [36081047800, 7, \"Census Tract 478, Queens County, New York\"], [36047033500, 3, \"Census Tract 335, Kings County, New York\"], [36047085400, 2, \"Census Tract 854, Kings County, New York\"], [36047053200, 3, \"Census Tract 532, Kings County, New York\"], [36081015802, 5, \"Census Tract 158.02, Queens County, New York\"], [36047003500, 2, \"Census Tract 35, Kings County, New York\"], [36081052200, 5, \"Census Tract 522, Queens County, New York\"], [36047042200, 5, \"Census Tract 422, Kings County, New York\"], [36005036800, 4, \"Census Tract 368, Bronx County, New York\"], [36047102000, 3, \"Census Tract 1020, Kings County, New York\"], [36081062300, 2, \"Census Tract 623, Queens County, New York\"], [36081094201, 6, \"Census Tract 942.01, Queens County, New York\"], [36081086300, 4, \"Census Tract 863, Queens County, New York\"], [36047065000, 4, \"Census Tract 650, Kings County, New York\"], [36047116800, 3, \"Census Tract 1168, Kings County, New York\"], [36047008800, 3, \"Census Tract 88, Kings County, New York\"], [22101041400, 2, null], [36047076000, 8, \"Census Tract 760, Kings County, New York\"], [36085012200, 4, \"Census Tract 122, Richmond County, New York\"], [36081005200, 3, \"Census Tract 52, Queens County, New York\"], [36005004001, 2, \"Census Tract 40.01, Bronx County, New York\"], [36081011000, 2, \"Census Tract 110, Queens County, New York\"], [36005035900, 5, \"Census Tract 359, Bronx County, New York\"], [36081140902, 6, \"Census Tract 1409.02, Queens County, New York\"], [36047078000, 3, \"Census Tract 780, Kings County, New York\"], [36081001000, 3, \"Census Tract 10, Queens County, New York\"], [36081061602, 2, \"Census Tract 616.02, Queens County, New York\"], [36047027600, 5, \"Census Tract 276, Kings County, New York\"], [36047041402, 2, \"Census Tract 414.02, Kings County, New York\"], [36081024700, 1, \"Census Tract 247, Queens County, New York\"], [36047020800, 2, \"Census Tract 208, Kings County, New York\"], [36081026400, 12, \"Census Tract 264, Queens County, New York\"], [36081067700, 3, \"Census Tract 677, Queens County, New York\"], [36081070300, 2, \"Census Tract 703, Queens County, New York\"], [36081084602, 2, \"Census Tract 846.02, Queens County, New York\"], [36085012805, 2, \"Census Tract 128.05, Richmond County, New York\"], [36047021400, 1, \"Census Tract 214, Kings County, New York\"], [36081018402, 3, \"Census Tract 184.02, Queens County, New York\"], [36081058100, 3, \"Census Tract 581, Queens County, New York\"], [36081015600, 2, \"Census Tract 156, Queens County, New York\"], [36081042400, 4, \"Census Tract 424, Queens County, New York\"], [36081063301, 1, \"Census Tract 633.01, Queens County, New York\"], [36081144700, 2, \"Census Tract 1447, Queens County, New York\"], [36081032900, 2, \"Census Tract 329, Queens County, New York\"], [36081024600, 1, null], [36047068000, 4, \"Census Tract 680, Kings County, New York\"], [36085005900, 1, \"Census Tract 59, Richmond County, New York\"], [36085010500, 8, \"Census Tract 105, Richmond County, New York\"], [36081053601, 1, \"Census Tract 536.01, Queens County, New York\"], [36047046202, 3, \"Census Tract 462.02, Kings County, New York\"], [36047045000, 5, \"Census Tract 450, Kings County, New York\"], [36081065900, 2, \"Census Tract 659, Queens County, New York\"], [36085018702, 7, \"Census Tract 187.02, Richmond County, New York\"], [36081030600, 3, \"Census Tract 306, Queens County, New York\"], [36081028200, 3, \"Census Tract 282, Queens County, New York\"], [36081055600, 2, \"Census Tract 556, Queens County, New York\"], [36081053401, 6, \"Census Tract 534.01, Queens County, New York\"], [36047018800, 1, \"Census Tract 188, Kings County, New York\"], [36081040000, 5, \"Census Tract 400, Queens County, New York\"], [36081058000, 4, \"Census Tract 580, Queens County, New York\"], [36081023000, 2, \"Census Tract 230, Queens County, New York\"], [36081145102, 4, \"Census Tract 1451.02, Queens County, New York\"], [36061024000, 1, \"Census Tract 240, New York County, New York\"], [36081089200, 10, \"Census Tract 892, Queens County, New York\"], [36081013500, 3, \"Census Tract 135, Queens County, New York\"], [36081015300, 7, \"Census Tract 153, Queens County, New York\"], [36047017000, 5, \"Census Tract 170, Kings County, New York\"], [36081054200, 3, \"Census Tract 542, Queens County, New York\"], [36047059000, 3, \"Census Tract 590, Kings County, New York\"], [36005039700, 4, \"Census Tract 397, Bronx County, New York\"], [36047047200, 3, \"Census Tract 472, Kings County, New York\"], [36085019700, 6, \"Census Tract 197, Richmond County, New York\"], [36081049600, 2, \"Census Tract 496, Queens County, New York\"], [36047013600, 4, \"Census Tract 136, Kings County, New York\"], [36081062000, 2, \"Census Tract 620, Queens County, New York\"], [36047047800, 4, \"Census Tract 478, Kings County, New York\"], [36081051000, 1, \"Census Tract 510, Queens County, New York\"], [36081013800, 4, \"Census Tract 138, Queens County, New York\"], [36081026600, 3, \"Census Tract 266, Queens County, New York\"], [36061004200, 2, \"Census Tract 42, New York County, New York\"], [36081021900, 2, null], [36081023200, 2, \"Census Tract 232, Queens County, New York\"], [36081068200, 6, \"Census Tract 682, Queens County, New York\"], [36047057400, 4, \"Census Tract 574, Kings County, New York\"], [36081061200, 2, \"Census Tract 612, Queens County, New York\"], [36081030902, 4, \"Census Tract 309.02, Queens County, New York\"], [36081003200, 5, \"Census Tract 32, Queens County, New York\"], [36047064800, 2, \"Census Tract 648, Kings County, New York\"], [36081073100, 4, \"Census Tract 731, Queens County, New York\"], [36081037700, 5, \"Census Tract 377, Queens County, New York\"], [36047058000, 2, \"Census Tract 580, Kings County, New York\"], [36081057700, 4, \"Census Tract 577, Queens County, New York\"], [36081003000, 2, \"Census Tract 30, Queens County, New York\"], [36081052100, 3, \"Census Tract 521, Queens County, New York\"], [36081065400, 5, \"Census Tract 654, Queens County, New York\"], [36085014100, 1, \"Census Tract 141, Richmond County, New York\"], [36081053500, 1, \"Census Tract 535, Queens County, New York\"], [36081080302, 1, \"Census Tract 803.02, Queens County, New York\"], [36081010600, 2, \"Census Tract 106, Queens County, New York\"], [36081074700, 6, \"Census Tract 747, Queens County, New York\"], [36081028800, 6, \"Census Tract 288, Queens County, New York\"], [36047040200, 3, \"Census Tract 402, Kings County, New York\"], [36081004401, 1, \"Census Tract 44.01, Queens County, New York\"], [36081056600, 2, \"Census Tract 566, Queens County, New York\"], [36081119300, 1, \"Census Tract 1193, Queens County, New York\"], [36085004700, 3, \"Census Tract 47, Richmond County, New York\"], [36081066100, 1, \"Census Tract 661, Queens County, New York\"], [36081116300, 5, \"Census Tract 1163, Queens County, New York\"], [36047020300, 2, \"Census Tract 203, Kings County, New York\"], [36047117000, 2, \"Census Tract 1170, Kings County, New York\"], [36061030700, 3, \"Census Tract 307, New York County, New York\"], [36061011300, 9, \"Census Tract 113, New York County, New York\"], [36081056700, 2, \"Census Tract 567, Queens County, New York\"], [36081009400, 1, \"Census Tract 94, Queens County, New York\"], [36081067100, 6, \"Census Tract 671, Queens County, New York\"], [36081048300, 2, \"Census Tract 483, Queens County, New York\"], [36081051300, 1, \"Census Tract 513, Queens County, New York\"], [36081049700, 5, \"Census Tract 497, Queens County, New York\"], [36081068300, 1, \"Census Tract 683, Queens County, New York\"], [36081066701, 1, \"Census Tract 667.01, Queens County, New York\"], [36081021400, 2, \"Census Tract 214, Queens County, New York\"], [36085012100, 4, \"Census Tract 121, Richmond County, New York\"], [36047044700, 5, \"Census Tract 447, Kings County, New York\"], [36047019200, 2, \"Census Tract 192, Kings County, New York\"], [36085003300, 3, \"Census Tract 33, Richmond County, New York\"], [36081050600, 2, \"Census Tract 506, Queens County, New York\"], [36047037402, 2, \"Census Tract 374.02, Kings County, New York\"], [36081015700, 4, \"Census Tract 157, Queens County, New York\"], [36047075800, 3, \"Census Tract 758, Kings County, New York\"], [36081080301, 1, \"Census Tract 803.01, Queens County, New York\"], [36081066300, 1, \"Census Tract 663, Queens County, New York\"], [36081045800, 1, \"Census Tract 458, Queens County, New York\"], [36081084500, 2, \"Census Tract 845, Queens County, New York\"], [36081012601, 2, \"Census Tract 126.01, Queens County, New York\"], [36081050700, 1, \"Census Tract 507, Queens County, New York\"], [36047063800, 2, \"Census Tract 638, Kings County, New York\"], [36005007400, 2, \"Census Tract 74, Bronx County, New York\"], [36081052600, 2, \"Census Tract 526, Queens County, New York\"], [36047022200, 2, \"Census Tract 222, Kings County, New York\"], [36047014700, 2, \"Census Tract 147, Kings County, New York\"], [36047026000, 1, \"Census Tract 260, Kings County, New York\"], [36047101800, 1, \"Census Tract 1018, Kings County, New York\"], [36047087401, 2, \"Census Tract 874.01, Kings County, New York\"], [36081093401, 1, \"Census Tract 934.01, Queens County, New York\"], [36005044800, 1, \"Census Tract 448, Bronx County, New York\"], [36081017000, 7, \"Census Tract 170, Queens County, New York\"], [36081011600, 1, \"Census Tract 116, Queens County, New York\"], [36081072900, 1, \"Census Tract 729, Queens County, New York\"], [36005025400, 2, \"Census Tract 254, Bronx County, New York\"], [36047057600, 2, \"Census Tract 576, Kings County, New York\"], [36047005201, 5, \"Census Tract 52.01, Kings County, New York\"], [36085018701, 2, \"Census Tract 187.01, Richmond County, New York\"], [36047016800, 1, \"Census Tract 168, Kings County, New York\"], [36085000300, 1, \"Census Tract 3, Richmond County, New York\"], [36047096200, 4, \"Census Tract 962, Kings County, New York\"], [36081065703, 1, \"Census Tract 657.03, Queens County, New York\"], [36081019900, 4, \"Census Tract 199, Queens County, New York\"], [36005020502, 2, \"Census Tract 205.02, Bronx County, New York\"], [36061015002, 2, \"Census Tract 150.02, New York County, New York\"], [36047094600, 1, \"Census Tract 946, Kings County, New York\"], [36047095600, 4, \"Census Tract 956, Kings County, New York\"], [36005015800, 1, \"Census Tract 158, Bronx County, New York\"], [36047013200, 1, \"Census Tract 132, Kings County, New York\"], [36081032800, 2, \"Census Tract 328, Queens County, New York\"], [36081005500, 4, \"Census Tract 55, Queens County, New York\"], [36081051700, 9, \"Census Tract 517, Queens County, New York\"], [36081014800, 2, \"Census Tract 148, Queens County, New York\"], [36005028600, 7, \"Census Tract 286, Bronx County, New York\"], [36047020400, 2, \"Census Tract 204, Kings County, New York\"], [36047031400, 1, \"Census Tract 314, Kings County, New York\"], [36047093600, 3, \"Census Tract 936, Kings County, New York\"], [36047114201, 7, \"Census Tract 1142.01, Kings County, New York\"], [36005006100, 1, \"Census Tract 61, Bronx County, New York\"], [36081019800, 2, \"Census Tract 198, Queens County, New York\"], [36047053000, 1, \"Census Tract 530, Kings County, New York\"], [36081020800, 3, \"Census Tract 208, Queens County, New York\"], [36047064400, 4, \"Census Tract 644, Kings County, New York\"], [36081038400, 2, \"Census Tract 384, Queens County, New York\"], [36047027400, 1, \"Census Tract 274, Kings County, New York\"], [36081155101, 1, \"Census Tract 1551.01, Queens County, New York\"], [36081107202, 1, \"Census Tract 1072.02, Queens County, New York\"], [36085005000, 4, \"Census Tract 50, Richmond County, New York\"], [36085007400, 3, \"Census Tract 74, Richmond County, New York\"], [36047014200, 1, \"Census Tract 142, Kings County, New York\"], [36081000800, 3, \"Census Tract 8, Queens County, New York\"], [46099010101, 1, null], [36047058900, 3, \"Census Tract 589, Kings County, New York\"], [36061010100, 2, \"Census Tract 101, New York County, New York\"], [36081060600, 4, \"Census Tract 606, Queens County, New York\"], [36047010600, 3, \"Census Tract 106, Kings County, New York\"], [36061009500, 5, \"Census Tract 95, New York County, New York\"], [36047023200, 2, \"Census Tract 232, Kings County, New York\"], [36047008600, 1, null], [36081114700, 1, \"Census Tract 1147, Queens County, New York\"], [36047027200, 2, \"Census Tract 272, Kings County, New York\"], [25023530300, 1, null], [36085015602, 2, \"Census Tract 156.02, Richmond County, New York\"], [36047073800, 1, \"Census Tract 738, Kings County, New York\"], [36081018800, 1, \"Census Tract 188, Queens County, New York\"], [36047083800, 1, \"Census Tract 838, Kings County, New York\"], [36047093400, 1, \"Census Tract 934, Kings County, New York\"], [36047065600, 4, \"Census Tract 656, Kings County, New York\"], [36047022900, 2, \"Census Tract 229, Kings County, New York\"], [36047059800, 2, \"Census Tract 598, Kings County, New York\"], [36081027200, 1, \"Census Tract 272, Queens County, New York\"], [36047050700, 1, \"Census Tract 507, Kings County, New York\"], [36081036800, 2, \"Census Tract 368, Queens County, New York\"], [36081036500, 1, \"Census Tract 365, Queens County, New York\"], [36081048000, 2, \"Census Tract 480, Queens County, New York\"], [36081015200, 1, \"Census Tract 152, Queens County, New York\"], [36081000200, 1, \"Census Tract 2, Queens County, New York\"], [36081050202, 1, \"Census Tract 502.02, Queens County, New York\"], [36081064500, 1, \"Census Tract 645, Queens County, New York\"], [36081002800, 6, \"Census Tract 28, Queens County, New York\"], [36047048900, 1, \"Census Tract 489, Kings County, New York\"], [36081046800, 1, \"Census Tract 468, Queens County, New York\"], [36047046400, 1, \"Census Tract 464, Kings County, New York\"], [36047059300, 2, \"Census Tract 593, Kings County, New York\"], [36081012000, 1, \"Census Tract 120, Queens County, New York\"], [36081047600, 1, \"Census Tract 476, Queens County, New York\"], [36047120200, 2, \"Census Tract 1202, Kings County, New York\"], [36081004002, 1, \"Census Tract 40.02, Queens County, New York\"], [36081037500, 1, \"Census Tract 375, Queens County, New York\"], [36081040100, 3, \"Census Tract 401, Queens County, New York\"], [36081012800, 2, \"Census Tract 128, Queens County, New York\"], [36047075200, 5, \"Census Tract 752, Kings County, New York\"], [36081059800, 1, \"Census Tract 598, Queens County, New York\"], [36081063302, 3, \"Census Tract 633.02, Queens County, New York\"], [36047004400, 4, \"Census Tract 44, Kings County, New York\"], [36081044800, 1, \"Census Tract 448, Queens County, New York\"], [36081025500, 1, \"Census Tract 255, Queens County, New York\"], [36047016500, 2, \"Census Tract 165, Kings County, New York\"], [36081066501, 1, \"Census Tract 665.01, Queens County, New York\"], [36081028000, 1, \"Census Tract 280, Queens County, New York\"], [36047101600, 1, \"Census Tract 1016, Kings County, New York\"], [36047015400, 1, null], [36081009800, 2, \"Census Tract 98, Queens County, New York\"], [36047025600, 2, \"Census Tract 256, Kings County, New York\"], [36047024700, 1, \"Census Tract 247, Kings County, New York\"], [36061023801, 3, \"Census Tract 238.01, New York County, New York\"], [36081072300, 1, \"Census Tract 723, Queens County, New York\"], [36061015001, 2, \"Census Tract 150.01, New York County, New York\"], [36047099400, 1, \"Census Tract 994, Kings County, New York\"], [36047044000, 1, \"Census Tract 440, Kings County, New York\"], [36081086900, 2, \"Census Tract 869, Queens County, New York\"], [36061004400, 1, \"Census Tract 44, New York County, New York\"], [36081038301, 1, null], [36081069701, 2, \"Census Tract 697.01, Queens County, New York\"], [36081111300, 3, \"Census Tract 1113, Queens County, New York\"], [36081052000, 1, \"Census Tract 520, Queens County, New York\"], [36081026901, 1, \"Census Tract 269.01, Queens County, New York\"], [36081045600, 1, \"Census Tract 456, Queens County, New York\"], [36081048900, 2, \"Census Tract 489, Queens County, New York\"], [36081083800, 1, \"Census Tract 838, Queens County, New York\"], [36081059200, 1, \"Census Tract 592, Queens County, New York\"], [36081053100, 3, \"Census Tract 531, Queens County, New York\"], [36081054800, 2, \"Census Tract 548, Queens County, New York\"], [36047035601, 1, \"Census Tract 356.01, Kings County, New York\"], [36081107201, 1, \"Census Tract 1072.01, Queens County, New York\"], [36059404300, 1, null], [36081059900, 2, \"Census Tract 599, Queens County, New York\"], [34025812100, 1, null], [36047028000, 1, \"Census Tract 280, Kings County, New York\"], [36081009600, 1, \"Census Tract 96, Queens County, New York\"], [36047076400, 1, \"Census Tract 764, Kings County, New York\"], [36081091602, 1, null], [36047025800, 1, \"Census Tract 258, Kings County, New York\"], [36081009100, 3, \"Census Tract 91, Queens County, New York\"], [36085022300, 1, \"Census Tract 223, Richmond County, New York\"], [36119010300, 1, \"Census Tract 103, Westchester County, New York\"], [36081120300, 1, \"Census Tract 1203, Queens County, New York\"], [36081077300, 1, \"Census Tract 773, Queens County, New York\"], [36047052800, 1, \"Census Tract 528, Kings County, New York\"]], \"hoverlabel\": {\"namelength\": 0}, \"hovertemplate\": \"ALL_SEASONS=%{customdata[1]}<br>Total; Estimate; Total population=%{marker.color}<br>Geoid=%{customdata[0]}<br>Geography=%{customdata[2]}\", \"legendgroup\": \"\", \"marker\": {\"color\": [25199.0, 5368.0, 6169.0, 3095.0, 3302.0, 7826.0, 2721.0, 5979.0, 7535.0, 6369.0, 3478.0, 7045.0, 4808.0, 3204.0, 3298.0, 9024.0, 8688.0, 2952.0, 2581.0, 8346.0, 6217.0, 4031.0, 77.0, 3644.0, 5817.0, 5361.0, 4204.0, 2380.0, 2894.0, 2262.0, 6323.0, 9876.0, 5101.0, 5817.0, 2099.0, 3820.0, 7815.0, 8802.0, 7651.0, 2694.0, 4741.0, 2514.0, 6159.0, 6337.0, 3835.0, 2342.0, 2454.0, 8370.0, 3732.0, 7696.0, 4729.0, 4401.0, 6326.0, 6058.0, 3917.0, 8305.0, 2564.0, 4930.0, 9169.0, 4286.0, 2352.0, 3766.0, 3724.0, 2013.0, 6941.0, 5309.0, 4932.0, 6665.0, 5728.0, 2286.0, 4954.0, 8051.0, 6102.0, 4375.0, 4277.0, 2142.0, 6000.0, 1742.0, 5899.0, 5499.0, 6178.0, 6119.0, 4360.0, 10362.0, 5462.0, 2258.0, 4280.0, 5369.0, 3553.0, 8033.0, 9101.0, 6952.0, 4124.0, 4061.0, 2524.0, 5814.0, 8599.0, 7067.0, 2410.0, 12421.0, 3401.0, 3996.0, 3486.0, 8113.0, 3310.0, 3178.0, 2720.0, 4162.0, 10218.0, 4377.0, 2661.0, 1035.0, 5994.0, 4225.0, 7279.0, 4848.0, 8403.0, 8475.0, 5736.0, 3937.0, 5406.0, 3857.0, 1902.0, 1112.0, 7039.0, 7065.0, 3010.0, 4591.0, 5382.0, 4934.0, 5241.0, 3442.0, 2574.0, 3846.0, 5114.0, 2037.0, 4406.0, 3349.0, 6926.0, 9633.0, 2439.0, 4440.0, 5470.0, 3241.0, 7030.0, 5200.0, 6529.0, 6366.0, 8406.0, 3643.0, 3237.0, 3057.0, 3219.0, 2957.0, 3007.0, 4919.0, 9641.0, 6033.0, 2473.0, 7217.0, 3346.0, 6049.0, 4254.0, 1668.0, 2674.0, 2649.0, 3233.0, 6685.0, 5798.0, 3779.0, 3240.0, 4384.0, 15377.0, 4687.0, 6669.0, 8792.0, 14.0, 5899.0, 1157.0, 4520.0, 4700.0, 4971.0, 13614.0, 3088.0, 4288.0, 2942.0, 4921.0, 3668.0, 2714.0, 6534.0, 4397.0, 2537.0, 3810.0, 4326.0, 12129.0, 3238.0, 3184.0, 4624.0, 2978.0, 2103.0, 5563.0, 4650.0, 5156.0, 11840.0, 2892.0, 5104.0, 6578.0, 4298.0, 2704.0, 6157.0, 5246.0, 3900.0, 2704.0, 4423.0, 4408.0, 3549.0, 4647.0, 2795.0, 9916.0, 4822.0, 565.0, 2082.0, 6245.0, 4165.0, 6026.0, 3355.0, 7644.0, 5930.0, 4720.0, 3571.0, 1660.0, 6179.0, 1414.0, 3063.0, 5582.0, 2724.0, 5523.0, 3991.0, null, 6464.0, 5512.0, 5703.0, 3915.0, 4343.0, 5441.0, 6238.0, 3944.0, 2885.0, 2810.0, 12871.0, 2355.0, 5316.0, 11167.0, 6509.0, 3629.0, 5311.0, 15698.0, 3138.0, 8574.0, 6837.0, 4971.0, 4284.0, 7180.0, 5471.0, 7148.0, 3026.0, 6342.0, 2988.0, 1718.0, 7709.0, 4253.0, 4269.0, 4387.0, 1674.0, 5619.0, 5184.0, 5263.0, 4939.0, 6533.0, 5474.0, 3174.0, 1662.0, 5728.0, 8458.0, 3049.0, 5792.0, 8093.0, 3692.0, 3991.0, 6146.0, 3372.0, 7777.0, 2619.0, 4113.0, 2551.0, 3867.0, 9388.0, 1624.0, 5050.0, 10324.0, 4318.0, 3783.0, 3170.0, 7205.0, 2362.0, 1262.0, 1707.0, 3972.0, 1832.0, 1596.0, 4939.0, 3684.0, 3373.0, 6280.0, 4159.0, 3835.0, 3759.0, 6261.0, 1761.0, 3410.0, 6370.0, 1616.0, 3723.0, 8177.0, 4541.0, 5574.0, 5425.0, 2546.0, 2136.0, 2665.0, 7620.0, 4426.0, 1751.0, 8316.0, 4154.0, 3869.0, 4347.0, 7567.0, 5277.0, 3951.0, 7224.0, 81.0, 8463.0, 2390.0, 2592.0, 1979.0, 2295.0, 3013.0, 8261.0, 4521.0, 5458.0, 6680.0, 3087.0, 4037.0, 2483.0, 2432.0, 2933.0, 1317.0, 5908.0, 2708.0, 1638.0, 4655.0, 5650.0, 7637.0, 6702.0, 3747.0, 5182.0, 3139.0, 3601.0, 6291.0, 7059.0, 1819.0, 3907.0, 6532.0, 4431.0, 1910.0, 8997.0, 3102.0, 2687.0, 2939.0, 3244.0, 6442.0, 6828.0, 2226.0, 5511.0, 8117.0, 6534.0, 7032.0, 3216.0, 2367.0, 6116.0, 4556.0, 2422.0, 3828.0, 2397.0, 3169.0, 6321.0, 10174.0, 3243.0, 2859.0, 2422.0, 5140.0, 5028.0, 4193.0, 5580.0, 3589.0, 7958.0, 5288.0, 5709.0, 5644.0, 3369.0, 3640.0, 3582.0, 4341.0, 2776.0, 1983.0, 5923.0, 5818.0, 4367.0, 4978.0, 4528.0, 3778.0, 5544.0, 8866.0, 6270.0, 3024.0, 4338.0, 2834.0, 6737.0, 3665.0, 5437.0, 6933.0, 2493.0, 2254.0, 5338.0, 3638.0, 3557.0, 4499.0, 3142.0, 7906.0, 4056.0, 1774.0, 8434.0, 2969.0, 5291.0, 5064.0, 3085.0, 3169.0, 7737.0, 6302.0, 8575.0, 5541.0, 1134.0, 1993.0, 4562.0, 3244.0, 4483.0, 5815.0, 7398.0, 3256.0, 8924.0, 7752.0, 6250.0, 8758.0, 4102.0, 6457.0, 3873.0, 1694.0, 1841.0, 4292.0, 2763.0, 5036.0, 4062.0, 3616.0, 4175.0, 13483.0, 4024.0, 2649.0, 3238.0, 3542.0, 2343.0, 4277.0, 3072.0, 4389.0, 4256.0, 7674.0, 2267.0, 3975.0, 4210.0, 3500.0, 4198.0, 4027.0, 3533.0, 3899.0, 5872.0, 8358.0, 2709.0, 3716.0, 6572.0, 5076.0, 5597.0, 1072.0, 5868.0, 2488.0, 3453.0, 8035.0, 1459.0, 3178.0, 8286.0, 3362.0, 3479.0, 7749.0, 7639.0, 5928.0, 1349.0, 714.0, 1733.0, 2261.0, 7053.0, 9488.0, 4752.0, 3562.0, 1854.0, 6648.0, 6507.0, 3171.0, null, null, 5145.0, 3127.0, 2069.0, 2309.0, 1764.0, 4106.0, 3246.0, 4853.0, 5925.0, 4204.0, 3130.0, 825.0, 5663.0, 2367.0, 2810.0, 1431.0, 3869.0, 1597.0, 7381.0, 9442.0, 201.0, 2371.0, 4276.0, 7996.0, 1445.0, 3107.0, 1757.0, 1595.0, 9686.0, 4547.0, 3337.0, 7482.0, 8976.0, 5678.0, 5138.0, 2601.0, 2002.0, 4804.0, 4881.0, 5358.0, 5364.0, 10087.0, null, 4059.0, 3899.0, 6521.0, 5636.0, 2879.0, 4922.0, 8310.0, 2991.0, 3204.0, 2559.0, 3113.0, 9457.0, 4354.0, 12768.0, 7904.0, 4183.0, 7060.0, 3387.0, 5504.0, 8030.0, 4609.0, 3828.0, 2880.0, 3608.0, 3217.0, 3546.0, 4605.0, 4392.0, 3246.0, 1485.0, 2746.0, 3636.0, 6271.0, 5603.0, 3082.0, 4576.0, null, 2330.0, 7658.0, 9944.0, 5382.0, 6667.0, 2750.0, 1199.0, 4139.0, 1741.0, 3826.0, 1565.0, 4684.0, 2187.0, 146.0, 4195.0, 1132.0, 4671.0, 4740.0, 2832.0, 9865.0, 3182.0, 8229.0, 6616.0, 8222.0, 4503.0, 2872.0, 4725.0, 3163.0, 113.0, 4060.0, 4207.0, 4008.0, 1322.0, 3636.0, 5112.0, 4126.0, 1260.0, 1686.0, 3705.0, 3452.0, 4161.0, 2214.0, 1517.0, 3066.0, 8078.0, 5739.0, 2236.0, 4852.0, 3384.0, 2348.0, 2443.0, 2457.0, 4081.0, 2433.0, 4324.0, 2487.0, 1635.0, 7129.0, 6843.0, 2938.0, 5073.0, 7018.0, 5996.0, 2314.0, 3295.0, 2678.0, 4416.0, 2752.0, 7904.0, 3432.0, 3498.0, 3324.0, 9886.0, 5686.0, null, 3502.0, 2512.0, 2245.0, 4334.0, 5092.0, 3202.0, 3176.0, 4491.0, 4743.0, 9577.0, 1362.0, 3323.0, 4724.0, 3257.0, 3185.0, 3538.0, 6995.0, 2922.0, 4855.0, 2463.0, 1707.0, 5231.0, 5547.0, 9906.0, 4346.0, 7280.0, 3614.0, 7891.0, 3077.0, 4464.0, 1938.0, 6108.0, null, 4095.0, 3306.0, 3329.0, 4204.0, 1804.0, 2131.0, 3163.0, 3273.0, 3279.0, 1611.0, 3310.0, 3897.0, 1289.0, 4769.0, 2317.0, 2279.0, 2423.0, 3153.0, 7506.0, 479.0, 3851.0, 1880.0, 3722.0, 6010.0, 1839.0, 3121.0, 5913.0, 1185.0, 3491.0, 5211.0, 3678.0, 3858.0, 2051.0, 2818.0, 3059.0, 3574.0, 2774.0, 5442.0, 2559.0, 4313.0, 3711.0, 2464.0, 4958.0, 3347.0, 2652.0, 2832.0, 1844.0, 2052.0, 1331.0, 5746.0, 1935.0, 8670.0, 4144.0, 4544.0, 2992.0, 4327.0, 3409.0, 2928.0, 4087.0, 1996.0, 4035.0, 5811.0, 4722.0, 5207.0, 3826.0, 4355.0, 5085.0, 3302.0, 2328.0, 5190.0, 4815.0, 2647.0, 4021.0, 2736.0, 3694.0, 3377.0, 3024.0, 3729.0, 4193.0, 4400.0, 5717.0, 4682.0, 3733.0, 5822.0, 2794.0, 2485.0, 3273.0, 2256.0, 4338.0, 2568.0, 3775.0, 3731.0, 3951.0, 3481.0, 3935.0, 5444.0, 9571.0, 5313.0, 1821.0, 2798.0, 4393.0, 4327.0, 9850.0, 7269.0, 2317.0, 983.0, 3609.0, 1795.0, 2698.0, 5011.0, 6222.0, 7531.0, 3068.0, 2271.0, 3865.0, 3047.0, 6416.0, 1709.0, 3469.0, 3528.0, 5690.0, 5582.0, 3023.0, 5095.0, 1014.0, 4836.0, 4051.0, 3315.0, 9245.0, 2303.0, 5238.0, 5759.0, 4201.0, 3788.0, 3341.0, 6103.0, 7688.0, 3850.0, 1230.0, 5618.0, 5073.0, 1188.0, 2700.0, 2372.0, 5895.0, 2031.0, 6023.0, 3511.0, 2171.0, 3949.0, 6291.0, 6352.0, 2236.0, 2965.0, 2671.0, 3358.0, 1105.0, 1150.0, 5755.0, 6569.0, 5250.0, 9241.0, 4332.0, 6000.0, 3659.0, 4090.0, 2838.0, 4390.0, 2715.0, 3617.0, 5306.0, 3258.0, 2591.0, 5430.0, 2905.0, 2649.0, 5744.0, 1227.0, 2246.0, 1548.0, 2270.0, 6635.0, 3290.0, 1210.0, 3064.0, 3587.0, 3943.0, 6569.0, 4264.0, 5057.0, 6827.0, 2613.0, 3476.0, 3578.0, 2007.0, 2707.0, 2729.0, 4043.0, 2891.0, 3652.0, 5779.0, 2326.0, 7061.0, 1622.0, 4873.0, 2816.0, 3211.0, 6939.0, 1124.0, 3526.0, 4589.0, 5177.0, 1346.0, 6806.0, 3308.0, 3063.0, null, 3013.0, 1557.0, 4197.0, 2574.0, 4243.0, 3222.0, 5323.0, 3018.0, 2789.0, 3991.0, 1615.0, 5777.0, 5155.0, 2671.0, 3478.0, 5050.0, 3870.0, 8092.0, 2514.0, 5063.0, 3665.0, 2034.0, 2409.0, 3733.0, 3548.0, 2129.0, 3411.0, 4189.0, 5419.0, 2376.0, 3559.0, 1515.0, 3183.0, 5580.0, 7092.0, 7327.0, 2639.0, 365.0, 3271.0, 5962.0, 2304.0, 3927.0, 5854.0, 2711.0, 3200.0, 1880.0, 6744.0, 11107.0, 8320.0, 3779.0, 1051.0, 3797.0, 3922.0, 4199.0, 2223.0, 2302.0, 5646.0, 3967.0, 1053.0, 3254.0, 2376.0, 4764.0, 3954.0, 2078.0, 3850.0, 686.0, 3696.0, 2886.0, 4593.0, 3897.0, 2185.0, 2623.0, 3597.0, 2565.0, 12228.0, 2184.0, 6026.0, 3013.0, 4073.0, 3017.0, 7456.0, 3181.0, 2605.0, 3494.0, 3028.0, 3673.0, 2225.0, 1927.0, 2935.0, 4266.0, 4082.0, 7291.0, 6647.0, 7885.0, 3416.0, 3035.0, 5639.0, 1660.0, 4211.0, 2180.0, 2787.0, 1724.0, 3565.0, 1377.0, 4663.0, 3270.0, 5819.0, 1954.0, 1760.0, 5593.0, 6013.0, null, 2713.0, null, 7737.0, 2291.0, 2946.0, 8890.0, 1305.0, 2111.0, 2133.0, 4599.0, 1720.0, 3228.0, 1182.0, 1725.0, 8346.0, 13002.0, 1953.0, 3685.0, 3128.0, 2562.0, 12370.0, 6683.0, 4230.0, 2174.0, 2666.0, 10588.0, 2339.0, 2304.0, 6973.0, 3960.0, null, 3036.0, 5310.0, 3768.0, 1922.0, 1404.0, 1989.0, 4882.0, 7739.0, 4211.0, 2857.0, 1066.0, 3652.0, 3184.0, 3514.0, 2546.0, 2699.0, 3304.0, null, 4542.0, 7329.0, 3388.0, 4226.0, 7891.0, 1826.0, 2530.0, 5303.0, 4941.0, 6094.0, 2488.0, 5537.0, 2221.0, 1415.0, 1778.0, 1733.0, 2627.0, 4202.0, 3690.0, 2673.0, 1926.0, 3114.0, 1618.0, 4824.0, 3855.0, 4375.0, 6911.0, 2755.0, 2312.0, 4227.0, 4389.0, 2035.0, 2416.0, 2049.0, 5461.0, 4596.0, 4067.0, 5541.0, 3515.0, 3255.0, 2047.0, 5489.0, 3255.0, 8786.0, 3893.0, 4835.0, 6218.0, 2194.0, 9469.0, 3828.0, 2068.0, 4669.0, 2462.0, 8957.0, 5291.0, 3457.0, 26.0, 2146.0, 1519.0, 4843.0, 3988.0, 5043.0, 4172.0, 3298.0, 3590.0, 889.0, 2257.0, 3656.0, 2831.0, 3434.0, 5244.0, 2932.0, 810.0, 2892.0, 169.0, 3686.0, 3749.0, 3262.0, 2284.0, 7032.0, 4135.0, null, 3941.0, 5675.0, 3632.0, 4352.0, 4835.0, 2226.0, 3218.0, 3258.0, 1885.0, 3866.0, 6135.0, 3498.0, 2483.0, 3793.0, 4885.0, 1762.0, 1521.0, 8269.0, 2291.0, 6205.0, 2893.0, 2359.0, 6552.0, 4884.0, 3239.0, 2173.0, 5299.0, 2425.0, null, 3148.0, 4012.0, 4613.0, 3088.0, 2740.0, 2440.0, 2229.0, 1793.0, 4043.0, 3733.0, 3870.0, 6506.0, 3724.0, 4859.0, 1960.0, 4218.0, 2814.0, 127.0, 4236.0, 3210.0, 4894.0, 6171.0, 3335.0, 4209.0, 2151.0, 1766.0, 1714.0, 9048.0, 7055.0, 5318.0, 2699.0, 6220.0, 4344.0, 3319.0, 2157.0, 4513.0, 4616.0, 3716.0, 4728.0, 3466.0, 3760.0, 3834.0, 4893.0, 2622.0, 5819.0, 5124.0, 2411.0, 5228.0, 3054.0, 1120.0, 3133.0, 2134.0, 4835.0, 3134.0, 3573.0, 2249.0, 6622.0, 6540.0, 3543.0, 3180.0, 6294.0, 1262.0, 2153.0, 3935.0, 2660.0, 2029.0, 4368.0, 3629.0, 3665.0, 2938.0, 3220.0, 5312.0, 3895.0, 6201.0, 2802.0, 2735.0, 1889.0, 4282.0, 6527.0, 1627.0, 1842.0, 3667.0, 4111.0, 416.0, 2098.0, 4622.0, 2645.0, 3557.0, 220.0, 1895.0, 4099.0, 5100.0, 5140.0, 1774.0, 2955.0, 5259.0, 3702.0, 1040.0, 2837.0, 4719.0, 2251.0, 59.0, 2847.0, 2742.0, 3782.0, 2583.0, 3409.0, 2935.0, 2236.0, 4229.0, 3961.0, 981.0, 5924.0, 3592.0, 2507.0, 2522.0, 3552.0, 4876.0, 2169.0, 4714.0, 75.0, 3617.0, 4164.0, 4313.0, 3378.0, 4107.0, 2711.0, 2821.0, 3198.0, 2914.0, 3155.0, 2577.0, 5106.0, 1074.0, 4226.0, 4602.0, 5589.0, 2199.0, 2573.0, 920.0, 7837.0, 6309.0, 4386.0, 3710.0, 1853.0, 3905.0, 3599.0, 4774.0, 2756.0, 3102.0, 2717.0, 6240.0, 1727.0, 2880.0, 2329.0, 2684.0, 4708.0, 1520.0, 2496.0, 2363.0, 2137.0, 4973.0, 5616.0, 3125.0, 3700.0, null, 1264.0, 3274.0, 1793.0, 4073.0, 6847.0, 2206.0, 1470.0, 4764.0, 3603.0, 5980.0, 5269.0, 8069.0, 2297.0, 7693.0, 3137.0, 2275.0, 3417.0, 1583.0, 1271.0, 1800.0, 2508.0, 1235.0, 3616.0, 6204.0, 2988.0, 5068.0, 3327.0, 1380.0, 4168.0, 3342.0, 6410.0, 3535.0, 1978.0, 1873.0, 3572.0, 5461.0, 5241.0, 4508.0, 4830.0, 5726.0, 1822.0, 2369.0, 2770.0, 2615.0, 4504.0, 5260.0, 6490.0, 5082.0, 5721.0, 2885.0, 2596.0, 2655.0, 2830.0, 6645.0, 2572.0, 4950.0, 5081.0, 2793.0, 2419.0, 4016.0, 4073.0, 1606.0, 4615.0, 3047.0, 3158.0, 3135.0, null, 3800.0, 6704.0, 5628.0, 3280.0, 1543.0, 5243.0, 2292.0, 5295.0, 3614.0, 4133.0, 1724.0, 3332.0, 2784.0, 3141.0, 2487.0, 1714.0, 5262.0, 2184.0, 3300.0, 2979.0, 2247.0, 1873.0, 1544.0, 2525.0, 7708.0, 4984.0, 3997.0, 1456.0, 2916.0, 2120.0, 3013.0, 2746.0, 3608.0, 6014.0, 4537.0, 4276.0, 3482.0, 2686.0, 7408.0, 4755.0, 3069.0, 4128.0, 1292.0, 5855.0, 2077.0, 2486.0, 3907.0, 3488.0, null, 4592.0, 1030.0, 3974.0, 2971.0, 5641.0, 4275.0, 4153.0, 2366.0, 2409.0, 189.0, 9629.0, 5011.0, 3131.0, 1809.0, 1793.0, 4050.0, 6552.0, 4401.0, 4197.0, 2603.0, 6158.0, 225.0, 2392.0, 4690.0, 3213.0, null, 1913.0, 3840.0, 984.0, 1689.0, 5694.0, 258.0, 3517.0, 2686.0, 3496.0, 3053.0, 3697.0, 158.0, 1605.0, 3568.0, 1556.0, 2399.0, 2005.0, 2775.0, 2635.0, 3649.0, 2140.0, 4718.0, 2593.0, 6360.0, 1934.0, 4420.0, 5553.0, 2694.0, 5622.0, 2942.0, 2335.0, 2971.0, 5181.0, 2716.0, 3223.0, 1194.0, 4286.0, 3855.0, 3721.0, 5380.0, 1737.0, 1319.0, 4821.0, 4091.0, 1875.0, 3521.0, 2939.0, 2270.0, 1621.0, 2872.0, 3590.0, 3405.0, 2103.0, 3449.0, 3982.0, 3434.0, 6126.0, 3726.0, 22.0, 2807.0, 6196.0, 3751.0, 3482.0, 4377.0, 1760.0, 2946.0, 3492.0, 3054.0, 4059.0, 3856.0, 3789.0, 1721.0, 1504.0, 3743.0, 3577.0, 5467.0, 5355.0, 3428.0, 1219.0, 1386.0, 3065.0, 2230.0, 4432.0, 2123.0, 1227.0, 5822.0, 2046.0, 3947.0, 3241.0, 3416.0, 1616.0, 2878.0, 2582.0, 4040.0, 2619.0, 1531.0, 3592.0, 1332.0, 5230.0, 3996.0, 3285.0, 4934.0, 4534.0, 3283.0, 5543.0, 2047.0, 3967.0, 12973.0, 2839.0, 1870.0, 3816.0, 3320.0, 4020.0, 1787.0, 2199.0, 1548.0, null, 12506.0, 4595.0, 1569.0, 1452.0, 88.0, 4619.0, 3068.0, 5718.0, 7490.0, 3873.0, 3097.0, null, 844.0, 1367.0, 2041.0, 3020.0, 3963.0, 1474.0, 4663.0, 5524.0, 5148.0, 4425.0, 1817.0, 6502.0, 3884.0, 3260.0, 6290.0, null, 2602.0, 5370.0, 2026.0, 3675.0, 3063.0, 4196.0, 881.0, 4598.0, 3707.0, 2972.0, 1852.0, 3262.0, 1542.0, 4871.0, 2352.0, 1690.0, 6629.0, null, 3923.0, 2605.0, 2347.0, 4268.0, 2903.0, 1410.0, 4683.0, 3636.0, 2560.0, 2963.0, 2002.0, 1875.0, 7176.0, 2255.0, 2843.0, 3592.0, 3124.0, 1765.0, 4318.0, 3799.0, 2379.0, 2335.0, 3361.0, 4492.0, 1694.0, 5129.0, 4013.0, 2628.0, 2144.0, 6602.0, 1934.0, 4796.0, 3665.0, 1360.0, 2588.0, 1814.0, 4321.0, 2771.0, 4469.0, 3958.0, 1777.0, 2225.0, 2064.0, 4079.0, 2205.0, 1966.0, 2184.0, 3409.0, 1678.0, 2568.0, null, 2981.0, 2320.0, 1758.0, 1688.0, 4532.0, 2212.0, 2438.0, 3784.0, 3558.0, 4104.0, 1365.0, 2448.0, 2572.0, 1990.0, 4412.0, 2471.0, 6214.0, 2504.0, 1406.0, 2266.0, 1867.0, 3683.0, 3618.0, 3137.0, 1787.0, 2739.0, 1641.0, 2486.0, 2001.0, 4063.0, 6379.0, 2488.0, 2786.0, 1413.0, 1395.0, 831.0, 1203.0, 3383.0, 5081.0, 2922.0, 1821.0, 2663.0, 4188.0, 1437.0, 1891.0, 2879.0, 1905.0, 2244.0, 1720.0, 3563.0, 7266.0, 1461.0, 2230.0, 3007.0, null, 2980.0, 3670.0, 2939.0, 1391.0, 3272.0, 1671.0, 2406.0, 2641.0, 3297.0, 1421.0, 3435.0, 1675.0, 1380.0, 2656.0, 2048.0, 1777.0, 1992.0, 793.0, 3174.0, 2183.0, 2645.0, 2773.0, 3120.0, 2452.0, 1142.0, 2687.0, 4715.0, null, 2036.0, 2602.0, 4732.0, 1698.0, 1894.0, 758.0, 1613.0, 7617.0, 4707.0, 1455.0, 2491.0, 2156.0, 2912.0, 1282.0, 3882.0, 1673.0, 2768.0, 2507.0, 8721.0, 1806.0, 2019.0, 3286.0, 5613.0, 1822.0, 3697.0, 3212.0, 1941.0, 2939.0, 3785.0, 1536.0, 5199.0, 1473.0, 3854.0, 1849.0, 3531.0, null, 4893.0, 1011.0, 2829.0, 1788.0, 8718.0, 1215.0, 2078.0, 1695.0, 3354.0, 3857.0, 3982.0, 1323.0, 1576.0, 2867.0, 2765.0, 1185.0, 2832.0, 2798.0, 3165.0, 4046.0, 2552.0, 3364.0, 1534.0, 2660.0, 3720.0, 1319.0, 8797.0, 1610.0, 2191.0, 3897.0, 195.0, 5069.0, 2816.0, 2049.0, 3932.0, 2178.0, 3165.0, 4064.0, 2941.0, 5875.0, 3103.0, 1880.0, 2237.0, 2966.0, 1453.0, 3836.0, 1620.0, 1892.0, 4808.0, 2416.0, 1952.0, 4782.0, 2396.0, 3653.0, 1627.0, 3773.0, 1469.0, 3606.0, 2146.0, 3462.0, 1699.0, 3918.0, 4122.0, 2323.0, 2451.0, 1985.0, 1232.0, 1707.0, 3134.0, 1856.0, 1739.0, 1532.0, 1732.0, 1489.0, 2478.0, 1112.0, 1988.0, 6141.0, 1790.0, 4267.0, 1261.0, 1769.0, 2656.0, 1073.0, 1767.0, 2456.0, 1219.0, 1666.0, 4196.0, 2030.0, 1364.0, 3266.0, 3099.0, 3255.0, 2561.0, 2362.0, 2164.0, 2593.0, 1962.0, 19.0, 3559.0, 3997.0, 2870.0, 3195.0, null, 1750.0, 589.0, 1173.0, 6054.0, 3426.0, 6469.0, null, 1938.0, 3039.0, null, 3268.0, 3773.0, 1151.0, 2599.0, 2544.0, 1884.0, 3209.0, 3172.0, 1832.0, 1684.0, 2309.0, 3645.0, 2148.0, 3044.0, 3089.0, 1460.0, 1873.0, 3333.0, 4244.0, 3647.0, 3154.0, 1520.0, 2770.0, 1280.0, 1488.0, 1079.0, 4330.0, 6591.0, 1854.0, 1121.0, 2081.0, 1641.0, 2426.0, 2367.0, 1189.0, 4873.0, 3599.0, 1642.0, 1613.0, null, 2498.0, 3217.0, 2056.0, 8540.0, 2201.0, 2497.0, 2009.0, 2720.0, 1635.0, 17228.0, null, 3290.0, 2538.0, 1836.0, 5174.0, 1346.0, 1229.0, 5543.0, 1415.0, 3563.0, 2622.0, 2857.0, 2442.0, null, 1722.0, null, 1602.0, 3336.0, 3761.0, null, 4878.0, 2541.0, 2747.0, 2903.0, 1576.0, 2156.0, 1927.0], \"coloraxis\": \"coloraxis\", \"opacity\": 0.2, \"symbol\": \"circle\"}, \"mode\": \"markers\", \"name\": \"\", \"showlegend\": false, \"type\": \"scattergl\", \"x\": [350, 221, 47, 9, 38, 89, 3, 146, 56, 70, 32, 78, 69, 21, 92, 19, 6, 83, 25, 19, 38, 41, 50, 15, 27, 188, 1239, 572, 40, 20, 47, 174, 79, 18, 20, 24, 62, 85, 65, 26, 11, 14, 31, 25, 17, 61, 21, 66, 53, 131, 53, 58, 20, 28, 1659, 76, 19, 20, 508, 31, 13, 28, 23, 5, 29, 41, 31, 11, 26, 582, 20, 63, 18, 24, 20, 52, 58, 30, 98, 63, 24, 10, 24, 203, 44, 15, 34, 33, 16, 19, 49, 118, 46, 21, 42, 74, 182, 54, 33, 47, 14, 86, 81, 10, 70, 112, 38, 24, 77, 32, 23, 21, 20, 23, 51, 44, 59, 34, 94, 36, 19, 85, 36, 17, 57, 43, 19, 97, 64, 55, 78, 7, 20, 97, 87, 68, 109, 41, 54, 30, 34, 49, 55, 7, 74, 75, 76, 12, 129, 22, 43, 10, 56, 31, 8, 29, 32, 60, 9, 61, 19, 72, 10, 7, 8, 21, 102, 9, 50, 38, 30, 108, 83, 31, 125, 120, 130, 39, 10, 46, 28, 18, 48, 27, 82, 12, 130, 36, 5, 16, 48, 21, 17, 58, 71, 43, 10, 32, 93, 3, 59, 9, 19, 174, 21, 21, 58, 31, 50, 26, 22, 83, 7, 69, 6, 4, 77, 49, 56, 20, 34, 47, 31, 8, 68, 34, 118, 55, 10, 32, 17, 72, 15, 35, 75, 20, 44, 69, 10, 68, 11, 51, 16, 9, 45, 38, 14, 66, 51, 67, 22, 14, 73, 2, 8, 73, 159, 28, 62, 48, 30, 69, 18, 18, 25, 42, 55, 29, 20, 34, 44, 33, 29, 58, 25, 57, 42, 41, 41, 30, 8, 6, 94, 65, 26, 78, 76, 22, 32, 42, 24, 90, 13, 24, 18, 44, 61, 16, 20, 108, 48, 17, 8, 89, 10, 2, 25, 37, 13, 36, 17, 50, 48, 25, 34, 19, 12, 48, 18, 14, 80, 25, 8, 54, 122, 56, 56, 10, 50, 11, 38, 24, 26, 132, 40, 46, 51, 29, 40, 43, 77, 19, 122, 8, 12, 31, 11, 22, 72, 39, 70, 57, 56, 23, 35, 24, 12, 18, 25, 34, 19, 19, 14, 23, 42, 118, 37, 19, 20, 76, 41, 9, 9, 32, 36, 42, 52, 35, 10, 23, 54, 23, 31, 14, 24, 43, 139, 125, 12, 5, 30, 9, 4, 34, 72, 3, 84, 32, 59, 39, 7, 15, 37, 46, 38, 4, 35, 23, 15, 59, 26, 33, 8, 20, 10, 74, 110, 62, 7, 13, 5, 12, 94, 48, 10, 11, 27, 28, 14, 9, 33, 32, 30, 18, 18, 31, 15, 96, 66, 86, 15, 11, 60, 15, 15, 8, 17, 49, 47, 49, 44, 59, 5, 29, 16, 28, 75, 11, 71, 37, 25, 70, 89, 62, 10, 10, 12, 22, 7, 8, 20, 62, 18, 19, 13, 84, 11, 12, 12, 2, 33, 94, 11, 8, 30, 74, 55, 45, 6, 7, 32, 92, 27, 17, 93, 112, 38, 16, 59, 25, 69, 21, 50, 11, 9, 83, 17, 25, 77, 21, 32, 49, 33, 30, 9, 51, 31, 5, 26, 43, 19, 14, 10, 24, 15, 17, 47, 7, 44, 35, 39, 34, 77, 10, 12, 16, 17, 22, 9, 17, 29, 14, 29, 9, 11, 6, 105, 44, 23, 42, 18, 67, 4, 6, 44, 13, 61, 15, 39, 45, 47, 59, 20, 11, 9, 33, 14, 27, 16, 68, 35, 35, 47, 24, 24, 10, 24, 68, 20, 14, 58, 30, 58, 15, 113, 46, 21, 11, 25, 35, 33, 38, 11, 40, 17, 23, 13, 23, 13, 15, 12, 30, 36, 9, 57, 33, 18, 48, 38, 34, 95, 20, 50, 16, 48, 43, 12, 21, 17, 31, 42, 4, 35, 9, 8, 16, 7, 77, 34, 32, 50, 24, 10, 22, 14, 54, 23, 28, 12, 14, 56, 38, 23, 72, 27, 112, 27, 9, 34, 8, 14, 11, 63, 16, 23, 18, 24, 11, 10, 32, 63, 23, 16, 17, 20, 42, 67, 18, 34, 72, 27, 18, 61, 19, 16, 14, 19, 7, 14, 87, 21, 30, 18, 32, 22, 13, 3, 48, 13, 9, 41, 27, 48, 6, 15, 11, 9, 38, 61, 102, 12, 33, 4, 4, 22, 14, 50, 24, 55, 17, 25, 17, 35, 13, 57, 2, 41, 32, 26, 4, 4, 12, 28, 21, 20, 9, 40, 4, 9, 48, 14, 12, 11, 11, 64, 25, 17, 17, 24, 24, 5, 40, 19, 24, 39, 54, 16, 38, 13, 79, 21, 49, 5, 17, 12, 12, 11, 22, 43, 44, 24, 22, 9, 14, 5, 7, 11, 40, 26, 19, 17, 8, 41, 8, 38, 27, 7, 16, 14, 16, 13, 18, 10, 25, 6, 36, 19, 8, 9, 13, 27, 17, 21, 23, 30, 8, 13, 50, 10, 41, 20, 9, 14, 6, 9, 46, 56, 22, 6, 22, 13, 21, 17, 15, 2, 7, 31, 19, 36, 16, 13, 11, 19, 30, 25, 23, 17, 19, 9, 5, 16, 41, 32, 3, 26, 4, 29, 18, 10, 17, 12, 24, 46, 14, 70, 3, 5, 13, 7, 10, 40, 41, 44, 14, 11, 27, 28, 10, 6, 3, 5, 6, 26, 14, 24, 12, 17, 14, 13, 42, 22, 16, 8, 10, 34, 9, 5, 35, 8, 17, 25, 24, 12, 20, 18, 19, 9, 19, 11, 16, 24, 10, 16, 9, 49, 7, 14, 21, 29, 4, 17, 33, 25, 20, 9, 13, 45, 8, 13, 4, 4, 5, 19, 17, 9, 19, 14, 28, 22, 5, 46, 6, 41, 32, 31, 8, 8, 13, 31, 15, 24, 5, 23, 20, 46, 14, 17, 11, 32, 13, 40, 25, 18, 9, 20, 12, 30, 12, 22, 16, 32, 12, 11, 17, 4, 5, 17, 6, 5, 3, 16, 40, 24, 81, 12, 9, 5, 15, 10, 22, 26, 14, 33, 7, 38, 34, 25, 15, 15, 5, 53, 30, 15, 3, 31, 11, 8, 23, 12, 10, 18, 29, 37, 11, 18, 7, 14, 31, 10, 6, 37, 11, 14, 9, 7, 12, 5, 31, 35, 27, 11, 6, 29, 19, 16, 7, 9, 10, 5, 9, 5, 7, 22, 8, 14, 28, 20, 13, 5, 15, 4, 10, 13, 11, 11, 39, 2, 29, 36, 26, 5, 5, 24, 2, 7, 6, 28, 22, 5, 13, 39, 8, 7, 15, 14, 23, 10, 3, 15, 28, 57, 10, 18, 13, 14, 29, 40, 20, 18, 18, 31, 11, 5, 58, 9, 8, 6, 36, 40, 9, 12, 5, 27, 26, 5, 67, 5, 10, 21, 4, 13, 5, 19, 14, 8, 27, 44, 16, 39, 14, 31, 49, 10, 16, 6, 38, 21, 7, 6, 7, 3, 2, 12, 8, 7, 9, 19, 20, 32, 4, 35, 4, 21, 9, 15, 3, 6, 9, 18, 11, 9, 15, 14, 15, 13, 14, 23, 25, 3, 24, 35, 14, 41, 13, 17, 4, 9, 62, 7, 26, 21, 19, 10, 15, 4, 37, 4, 12, 11, 17, 5, 10, 21, 7, 15, 13, 8, 4, 10, 13, 17, 16, 6, 29, 13, 7, 10, 14, 2, 4, 24, 3, 16, 14, 2, 6, 24, 16, 14, 15, 11, 9, 11, 30, 6, 31, 10, 11, 43, 12, 13, 21, 10, 6, 11, 5, 16, 8, 23, 12, 8, 14, 2, 28, 26, 10, 28, 8, 8, 41, 6, 23, 21, 10, 4, 5, 4, 6, 13, 24, 4, 2, 15, 5, 21, 21, 16, 13, 4, 4, 30, 7, 8, 7, 11, 6, 24, 18, 10, 15, 4, 11, 16, 15, 9, 17, 21, 6, 9, 7, 7, 19, 8, 10, 24, 16, 4, 3, 3, 3, 20, 13, 14, 20, 8, 3, 61, 8, 10, 5, 4, 8, 6, 7, 6, 6, 12, 7, 34, 11, 7, 7, 4, 15, 16, 5, 13, 5, 8, 10, 14, 13, 4, 9, 9, 10, 7, 11, 4, 30, 2, 28, 5, 5, 10, 10, 2, 9, 21, 9, 11, 25, 10, 10, 18, 6, 28, 14, 12, 5, 8, 9, 17, 10, 9, 3, 6, 9, 5, 20, 6, 23, 16, 9, 7, 14, 13, 9, 3, 7, 8, 9, 22, 6, 10, 2, 5, 8, 10, 13, 5, 9, 5, 2, 6, 3, 5, 11, 17, 5, 2, 6, 4, 19, 17, 28, 8, 3, 10, 13, 26, 16, 13, 6, 19, 12, 5, 14, 8, 6, 4, 14, 2, 5, 18, 6, 7, 3, 5, 16, 6, 36, 7, 4, 13, 12, 9, 7, 8, 19, 18, 12, 4, 7, 5, 20, 9, 17, 13, 3, 10, 7, 32, 5, 9, 9, 4, 5, 6, 9, 18, 10, 5, 4, 5, 24, 7, 4, 10, 5, 12, 13, 4, 9, 3, 22, 7, 3, 8, 12, 4, 15, 9, 8, 13, 7, 9, 20, 14, 10, 6, 3, 26, 10, 11, 9, 19, 13, 7, 3, 8, 12, 10, 13, 4, 7, 9, 8, 21, 7, 11, 23, 10, 10, 8, 2, 5, 14, 2, 6, 4, 8, 10, 14, 14, 14, 12, 4, 17, 12, 3, 7, 5, 5, 6, 11, 10, 22, 7, 4, 10, 10, 2, 2, 9, 4, 2, 7, 15, 10, 8, 29, 6, 5, 3, 8, 2, 9, 9, 13, 6, 5, 9, 3, 4, 3, 10, 11, 2, 39, 2, 7, 9, 5, 6, 9, 4, 12, 6, 4, 6, 9, 8, 5, 2, 11, 5, 24, 8, 11, 3, 7, 13, 9, 5, 2, 7, 5, 8, 7, 5, 3, 2, 13, 5, 6, 4, 14, 2, 11, 8, 11, 3, 8, 6, 3, 7, 6, 8, 9, 12, 5, 3, 10, 2, 10, 5, 4, 11, 7, 7, 4, 2, 5, 7, 11, 3, 7, 3, 8, 4, 5, 8, 11, 9, 8, 6, 4, 4, 3, 7, 12, 3, 5, 7, 6, 5, 8, 3, 3, 5, 7, 8, 6, 4, 4, 8, 9, 3, 8, 5, 3, 5, 4, 16, 7, 4, 3, 7, 8, 2, 7, 9, 7, 6, 8, 17, 2, 6, 11, 5, 2, 7, 3, 5, 12, 6, 3, 5, 8, 3, 2, 5, 2, 8, 14, 6, 6, 9, 8, 5, 5, 3, 8, 4, 3, 4, 7, 10, 7, 4, 9, 4, 5, 6, 6, 3, 3, 11, 5, 3, 5, 2, 3, 7, 5, 5, 2, 3, 3, 12, 2, 4, 4, 4, 8, 6, 6, 3, 6, 2, 3, 2, 6, 2, 9, 7, 8, 5, 2, 5, 3, 4, 3, 12, 6, 5, 5, 4, 5, 3, 5, 4, 5, 8, 4, 16, 4, 4, 7, 5, 7, 6, 3, 2, 4, 4, 9, 3, 5, 4, 2, 6, 6, 6, 7, 3, 2, 3, 5, 2, 5, 5, 4, 3, 2, 6, 4, 4, 3, 3, 2, 8, 4, 3, 2, 2, 5, 6, 3, 3, 2, 5, 2, 1, 2, 12, 3, 2, 2, 2, 1, 3, 3, 2, 4, 1, 2, 2, 1, 4, 1, 8, 1, 3, 5, 2, 7, 3, 3, 2, 6, 1, 5, 4, 2, 4, 1, 10, 3, 7, 5, 3, 3, 4, 3, 6, 2, 4, 2, 4, 1, 4, 3, 2, 2, 2, 6, 4, 2, 4, 5, 2, 4, 5, 2, 4, 2, 3, 5, 1, 1, 1, 2, 6, 6, 3, 1, 2, 1, 3, 1, 5, 2, 2, 3, 9, 2, 1, 6, 2, 1, 5, 1, 1, 2, 4, 5, 2, 3, 2, 2, 4, 3, 1, 1, 1, 2, 2, 1, 2, 2, 2, 2, 2, 1, 1, 2, 1, 1, 7, 1, 1, 2, 2, 5, 2, 1, 1, 4, 1, 4, 2, 2, 1, 4, 1, 1, 2, 4, 9, 2, 7, 2, 1, 3, 7, 1, 2, 1, 3, 4, 2, 1, 1, 1, 4, 3, 1, 3, 1, 3, 2, 4, 3, 5, 2, 1, 1, 2, 1, 2, 1, 1, 1, 1, 4, 2, 2, 1, 1, 2, 1, 2, 1, 1, 1, 1, 6, 1, 1, 1, 2, 1, 1, 2, 1, 1, 3, 2, 5, 1, 3, 4, 1, 1, 2, 1, 1, 1, 1, 2, 2, 1, 3, 1, 2, 1, 1, 2, 1, 1, 2, 3, 1, 1, 1, 2, 1, 1, 3, 2, 1, 1, 1, 2, 1, 1, 1, 1, 1, 1, 3, 1, 1, 1, 1, 1], \"xaxis\": \"x\", \"y\": [25199.0, 5368.0, 6169.0, 3095.0, 3302.0, 7826.0, 2721.0, 5979.0, 7535.0, 6369.0, 3478.0, 7045.0, 4808.0, 3204.0, 3298.0, 9024.0, 8688.0, 2952.0, 2581.0, 8346.0, 6217.0, 4031.0, 77.0, 3644.0, 5817.0, 5361.0, 4204.0, 2380.0, 2894.0, 2262.0, 6323.0, 9876.0, 5101.0, 5817.0, 2099.0, 3820.0, 7815.0, 8802.0, 7651.0, 2694.0, 4741.0, 2514.0, 6159.0, 6337.0, 3835.0, 2342.0, 2454.0, 8370.0, 3732.0, 7696.0, 4729.0, 4401.0, 6326.0, 6058.0, 3917.0, 8305.0, 2564.0, 4930.0, 9169.0, 4286.0, 2352.0, 3766.0, 3724.0, 2013.0, 6941.0, 5309.0, 4932.0, 6665.0, 5728.0, 2286.0, 4954.0, 8051.0, 6102.0, 4375.0, 4277.0, 2142.0, 6000.0, 1742.0, 5899.0, 5499.0, 6178.0, 6119.0, 4360.0, 10362.0, 5462.0, 2258.0, 4280.0, 5369.0, 3553.0, 8033.0, 9101.0, 6952.0, 4124.0, 4061.0, 2524.0, 5814.0, 8599.0, 7067.0, 2410.0, 12421.0, 3401.0, 3996.0, 3486.0, 8113.0, 3310.0, 3178.0, 2720.0, 4162.0, 10218.0, 4377.0, 2661.0, 1035.0, 5994.0, 4225.0, 7279.0, 4848.0, 8403.0, 8475.0, 5736.0, 3937.0, 5406.0, 3857.0, 1902.0, 1112.0, 7039.0, 7065.0, 3010.0, 4591.0, 5382.0, 4934.0, 5241.0, 3442.0, 2574.0, 3846.0, 5114.0, 2037.0, 4406.0, 3349.0, 6926.0, 9633.0, 2439.0, 4440.0, 5470.0, 3241.0, 7030.0, 5200.0, 6529.0, 6366.0, 8406.0, 3643.0, 3237.0, 3057.0, 3219.0, 2957.0, 3007.0, 4919.0, 9641.0, 6033.0, 2473.0, 7217.0, 3346.0, 6049.0, 4254.0, 1668.0, 2674.0, 2649.0, 3233.0, 6685.0, 5798.0, 3779.0, 3240.0, 4384.0, 15377.0, 4687.0, 6669.0, 8792.0, 14.0, 5899.0, 1157.0, 4520.0, 4700.0, 4971.0, 13614.0, 3088.0, 4288.0, 2942.0, 4921.0, 3668.0, 2714.0, 6534.0, 4397.0, 2537.0, 3810.0, 4326.0, 12129.0, 3238.0, 3184.0, 4624.0, 2978.0, 2103.0, 5563.0, 4650.0, 5156.0, 11840.0, 2892.0, 5104.0, 6578.0, 4298.0, 2704.0, 6157.0, 5246.0, 3900.0, 2704.0, 4423.0, 4408.0, 3549.0, 4647.0, 2795.0, 9916.0, 4822.0, 565.0, 2082.0, 6245.0, 4165.0, 6026.0, 3355.0, 7644.0, 5930.0, 4720.0, 3571.0, 1660.0, 6179.0, 1414.0, 3063.0, 5582.0, 2724.0, 5523.0, 3991.0, null, 6464.0, 5512.0, 5703.0, 3915.0, 4343.0, 5441.0, 6238.0, 3944.0, 2885.0, 2810.0, 12871.0, 2355.0, 5316.0, 11167.0, 6509.0, 3629.0, 5311.0, 15698.0, 3138.0, 8574.0, 6837.0, 4971.0, 4284.0, 7180.0, 5471.0, 7148.0, 3026.0, 6342.0, 2988.0, 1718.0, 7709.0, 4253.0, 4269.0, 4387.0, 1674.0, 5619.0, 5184.0, 5263.0, 4939.0, 6533.0, 5474.0, 3174.0, 1662.0, 5728.0, 8458.0, 3049.0, 5792.0, 8093.0, 3692.0, 3991.0, 6146.0, 3372.0, 7777.0, 2619.0, 4113.0, 2551.0, 3867.0, 9388.0, 1624.0, 5050.0, 10324.0, 4318.0, 3783.0, 3170.0, 7205.0, 2362.0, 1262.0, 1707.0, 3972.0, 1832.0, 1596.0, 4939.0, 3684.0, 3373.0, 6280.0, 4159.0, 3835.0, 3759.0, 6261.0, 1761.0, 3410.0, 6370.0, 1616.0, 3723.0, 8177.0, 4541.0, 5574.0, 5425.0, 2546.0, 2136.0, 2665.0, 7620.0, 4426.0, 1751.0, 8316.0, 4154.0, 3869.0, 4347.0, 7567.0, 5277.0, 3951.0, 7224.0, 81.0, 8463.0, 2390.0, 2592.0, 1979.0, 2295.0, 3013.0, 8261.0, 4521.0, 5458.0, 6680.0, 3087.0, 4037.0, 2483.0, 2432.0, 2933.0, 1317.0, 5908.0, 2708.0, 1638.0, 4655.0, 5650.0, 7637.0, 6702.0, 3747.0, 5182.0, 3139.0, 3601.0, 6291.0, 7059.0, 1819.0, 3907.0, 6532.0, 4431.0, 1910.0, 8997.0, 3102.0, 2687.0, 2939.0, 3244.0, 6442.0, 6828.0, 2226.0, 5511.0, 8117.0, 6534.0, 7032.0, 3216.0, 2367.0, 6116.0, 4556.0, 2422.0, 3828.0, 2397.0, 3169.0, 6321.0, 10174.0, 3243.0, 2859.0, 2422.0, 5140.0, 5028.0, 4193.0, 5580.0, 3589.0, 7958.0, 5288.0, 5709.0, 5644.0, 3369.0, 3640.0, 3582.0, 4341.0, 2776.0, 1983.0, 5923.0, 5818.0, 4367.0, 4978.0, 4528.0, 3778.0, 5544.0, 8866.0, 6270.0, 3024.0, 4338.0, 2834.0, 6737.0, 3665.0, 5437.0, 6933.0, 2493.0, 2254.0, 5338.0, 3638.0, 3557.0, 4499.0, 3142.0, 7906.0, 4056.0, 1774.0, 8434.0, 2969.0, 5291.0, 5064.0, 3085.0, 3169.0, 7737.0, 6302.0, 8575.0, 5541.0, 1134.0, 1993.0, 4562.0, 3244.0, 4483.0, 5815.0, 7398.0, 3256.0, 8924.0, 7752.0, 6250.0, 8758.0, 4102.0, 6457.0, 3873.0, 1694.0, 1841.0, 4292.0, 2763.0, 5036.0, 4062.0, 3616.0, 4175.0, 13483.0, 4024.0, 2649.0, 3238.0, 3542.0, 2343.0, 4277.0, 3072.0, 4389.0, 4256.0, 7674.0, 2267.0, 3975.0, 4210.0, 3500.0, 4198.0, 4027.0, 3533.0, 3899.0, 5872.0, 8358.0, 2709.0, 3716.0, 6572.0, 5076.0, 5597.0, 1072.0, 5868.0, 2488.0, 3453.0, 8035.0, 1459.0, 3178.0, 8286.0, 3362.0, 3479.0, 7749.0, 7639.0, 5928.0, 1349.0, 714.0, 1733.0, 2261.0, 7053.0, 9488.0, 4752.0, 3562.0, 1854.0, 6648.0, 6507.0, 3171.0, null, null, 5145.0, 3127.0, 2069.0, 2309.0, 1764.0, 4106.0, 3246.0, 4853.0, 5925.0, 4204.0, 3130.0, 825.0, 5663.0, 2367.0, 2810.0, 1431.0, 3869.0, 1597.0, 7381.0, 9442.0, 201.0, 2371.0, 4276.0, 7996.0, 1445.0, 3107.0, 1757.0, 1595.0, 9686.0, 4547.0, 3337.0, 7482.0, 8976.0, 5678.0, 5138.0, 2601.0, 2002.0, 4804.0, 4881.0, 5358.0, 5364.0, 10087.0, null, 4059.0, 3899.0, 6521.0, 5636.0, 2879.0, 4922.0, 8310.0, 2991.0, 3204.0, 2559.0, 3113.0, 9457.0, 4354.0, 12768.0, 7904.0, 4183.0, 7060.0, 3387.0, 5504.0, 8030.0, 4609.0, 3828.0, 2880.0, 3608.0, 3217.0, 3546.0, 4605.0, 4392.0, 3246.0, 1485.0, 2746.0, 3636.0, 6271.0, 5603.0, 3082.0, 4576.0, null, 2330.0, 7658.0, 9944.0, 5382.0, 6667.0, 2750.0, 1199.0, 4139.0, 1741.0, 3826.0, 1565.0, 4684.0, 2187.0, 146.0, 4195.0, 1132.0, 4671.0, 4740.0, 2832.0, 9865.0, 3182.0, 8229.0, 6616.0, 8222.0, 4503.0, 2872.0, 4725.0, 3163.0, 113.0, 4060.0, 4207.0, 4008.0, 1322.0, 3636.0, 5112.0, 4126.0, 1260.0, 1686.0, 3705.0, 3452.0, 4161.0, 2214.0, 1517.0, 3066.0, 8078.0, 5739.0, 2236.0, 4852.0, 3384.0, 2348.0, 2443.0, 2457.0, 4081.0, 2433.0, 4324.0, 2487.0, 1635.0, 7129.0, 6843.0, 2938.0, 5073.0, 7018.0, 5996.0, 2314.0, 3295.0, 2678.0, 4416.0, 2752.0, 7904.0, 3432.0, 3498.0, 3324.0, 9886.0, 5686.0, null, 3502.0, 2512.0, 2245.0, 4334.0, 5092.0, 3202.0, 3176.0, 4491.0, 4743.0, 9577.0, 1362.0, 3323.0, 4724.0, 3257.0, 3185.0, 3538.0, 6995.0, 2922.0, 4855.0, 2463.0, 1707.0, 5231.0, 5547.0, 9906.0, 4346.0, 7280.0, 3614.0, 7891.0, 3077.0, 4464.0, 1938.0, 6108.0, null, 4095.0, 3306.0, 3329.0, 4204.0, 1804.0, 2131.0, 3163.0, 3273.0, 3279.0, 1611.0, 3310.0, 3897.0, 1289.0, 4769.0, 2317.0, 2279.0, 2423.0, 3153.0, 7506.0, 479.0, 3851.0, 1880.0, 3722.0, 6010.0, 1839.0, 3121.0, 5913.0, 1185.0, 3491.0, 5211.0, 3678.0, 3858.0, 2051.0, 2818.0, 3059.0, 3574.0, 2774.0, 5442.0, 2559.0, 4313.0, 3711.0, 2464.0, 4958.0, 3347.0, 2652.0, 2832.0, 1844.0, 2052.0, 1331.0, 5746.0, 1935.0, 8670.0, 4144.0, 4544.0, 2992.0, 4327.0, 3409.0, 2928.0, 4087.0, 1996.0, 4035.0, 5811.0, 4722.0, 5207.0, 3826.0, 4355.0, 5085.0, 3302.0, 2328.0, 5190.0, 4815.0, 2647.0, 4021.0, 2736.0, 3694.0, 3377.0, 3024.0, 3729.0, 4193.0, 4400.0, 5717.0, 4682.0, 3733.0, 5822.0, 2794.0, 2485.0, 3273.0, 2256.0, 4338.0, 2568.0, 3775.0, 3731.0, 3951.0, 3481.0, 3935.0, 5444.0, 9571.0, 5313.0, 1821.0, 2798.0, 4393.0, 4327.0, 9850.0, 7269.0, 2317.0, 983.0, 3609.0, 1795.0, 2698.0, 5011.0, 6222.0, 7531.0, 3068.0, 2271.0, 3865.0, 3047.0, 6416.0, 1709.0, 3469.0, 3528.0, 5690.0, 5582.0, 3023.0, 5095.0, 1014.0, 4836.0, 4051.0, 3315.0, 9245.0, 2303.0, 5238.0, 5759.0, 4201.0, 3788.0, 3341.0, 6103.0, 7688.0, 3850.0, 1230.0, 5618.0, 5073.0, 1188.0, 2700.0, 2372.0, 5895.0, 2031.0, 6023.0, 3511.0, 2171.0, 3949.0, 6291.0, 6352.0, 2236.0, 2965.0, 2671.0, 3358.0, 1105.0, 1150.0, 5755.0, 6569.0, 5250.0, 9241.0, 4332.0, 6000.0, 3659.0, 4090.0, 2838.0, 4390.0, 2715.0, 3617.0, 5306.0, 3258.0, 2591.0, 5430.0, 2905.0, 2649.0, 5744.0, 1227.0, 2246.0, 1548.0, 2270.0, 6635.0, 3290.0, 1210.0, 3064.0, 3587.0, 3943.0, 6569.0, 4264.0, 5057.0, 6827.0, 2613.0, 3476.0, 3578.0, 2007.0, 2707.0, 2729.0, 4043.0, 2891.0, 3652.0, 5779.0, 2326.0, 7061.0, 1622.0, 4873.0, 2816.0, 3211.0, 6939.0, 1124.0, 3526.0, 4589.0, 5177.0, 1346.0, 6806.0, 3308.0, 3063.0, null, 3013.0, 1557.0, 4197.0, 2574.0, 4243.0, 3222.0, 5323.0, 3018.0, 2789.0, 3991.0, 1615.0, 5777.0, 5155.0, 2671.0, 3478.0, 5050.0, 3870.0, 8092.0, 2514.0, 5063.0, 3665.0, 2034.0, 2409.0, 3733.0, 3548.0, 2129.0, 3411.0, 4189.0, 5419.0, 2376.0, 3559.0, 1515.0, 3183.0, 5580.0, 7092.0, 7327.0, 2639.0, 365.0, 3271.0, 5962.0, 2304.0, 3927.0, 5854.0, 2711.0, 3200.0, 1880.0, 6744.0, 11107.0, 8320.0, 3779.0, 1051.0, 3797.0, 3922.0, 4199.0, 2223.0, 2302.0, 5646.0, 3967.0, 1053.0, 3254.0, 2376.0, 4764.0, 3954.0, 2078.0, 3850.0, 686.0, 3696.0, 2886.0, 4593.0, 3897.0, 2185.0, 2623.0, 3597.0, 2565.0, 12228.0, 2184.0, 6026.0, 3013.0, 4073.0, 3017.0, 7456.0, 3181.0, 2605.0, 3494.0, 3028.0, 3673.0, 2225.0, 1927.0, 2935.0, 4266.0, 4082.0, 7291.0, 6647.0, 7885.0, 3416.0, 3035.0, 5639.0, 1660.0, 4211.0, 2180.0, 2787.0, 1724.0, 3565.0, 1377.0, 4663.0, 3270.0, 5819.0, 1954.0, 1760.0, 5593.0, 6013.0, null, 2713.0, null, 7737.0, 2291.0, 2946.0, 8890.0, 1305.0, 2111.0, 2133.0, 4599.0, 1720.0, 3228.0, 1182.0, 1725.0, 8346.0, 13002.0, 1953.0, 3685.0, 3128.0, 2562.0, 12370.0, 6683.0, 4230.0, 2174.0, 2666.0, 10588.0, 2339.0, 2304.0, 6973.0, 3960.0, null, 3036.0, 5310.0, 3768.0, 1922.0, 1404.0, 1989.0, 4882.0, 7739.0, 4211.0, 2857.0, 1066.0, 3652.0, 3184.0, 3514.0, 2546.0, 2699.0, 3304.0, null, 4542.0, 7329.0, 3388.0, 4226.0, 7891.0, 1826.0, 2530.0, 5303.0, 4941.0, 6094.0, 2488.0, 5537.0, 2221.0, 1415.0, 1778.0, 1733.0, 2627.0, 4202.0, 3690.0, 2673.0, 1926.0, 3114.0, 1618.0, 4824.0, 3855.0, 4375.0, 6911.0, 2755.0, 2312.0, 4227.0, 4389.0, 2035.0, 2416.0, 2049.0, 5461.0, 4596.0, 4067.0, 5541.0, 3515.0, 3255.0, 2047.0, 5489.0, 3255.0, 8786.0, 3893.0, 4835.0, 6218.0, 2194.0, 9469.0, 3828.0, 2068.0, 4669.0, 2462.0, 8957.0, 5291.0, 3457.0, 26.0, 2146.0, 1519.0, 4843.0, 3988.0, 5043.0, 4172.0, 3298.0, 3590.0, 889.0, 2257.0, 3656.0, 2831.0, 3434.0, 5244.0, 2932.0, 810.0, 2892.0, 169.0, 3686.0, 3749.0, 3262.0, 2284.0, 7032.0, 4135.0, null, 3941.0, 5675.0, 3632.0, 4352.0, 4835.0, 2226.0, 3218.0, 3258.0, 1885.0, 3866.0, 6135.0, 3498.0, 2483.0, 3793.0, 4885.0, 1762.0, 1521.0, 8269.0, 2291.0, 6205.0, 2893.0, 2359.0, 6552.0, 4884.0, 3239.0, 2173.0, 5299.0, 2425.0, null, 3148.0, 4012.0, 4613.0, 3088.0, 2740.0, 2440.0, 2229.0, 1793.0, 4043.0, 3733.0, 3870.0, 6506.0, 3724.0, 4859.0, 1960.0, 4218.0, 2814.0, 127.0, 4236.0, 3210.0, 4894.0, 6171.0, 3335.0, 4209.0, 2151.0, 1766.0, 1714.0, 9048.0, 7055.0, 5318.0, 2699.0, 6220.0, 4344.0, 3319.0, 2157.0, 4513.0, 4616.0, 3716.0, 4728.0, 3466.0, 3760.0, 3834.0, 4893.0, 2622.0, 5819.0, 5124.0, 2411.0, 5228.0, 3054.0, 1120.0, 3133.0, 2134.0, 4835.0, 3134.0, 3573.0, 2249.0, 6622.0, 6540.0, 3543.0, 3180.0, 6294.0, 1262.0, 2153.0, 3935.0, 2660.0, 2029.0, 4368.0, 3629.0, 3665.0, 2938.0, 3220.0, 5312.0, 3895.0, 6201.0, 2802.0, 2735.0, 1889.0, 4282.0, 6527.0, 1627.0, 1842.0, 3667.0, 4111.0, 416.0, 2098.0, 4622.0, 2645.0, 3557.0, 220.0, 1895.0, 4099.0, 5100.0, 5140.0, 1774.0, 2955.0, 5259.0, 3702.0, 1040.0, 2837.0, 4719.0, 2251.0, 59.0, 2847.0, 2742.0, 3782.0, 2583.0, 3409.0, 2935.0, 2236.0, 4229.0, 3961.0, 981.0, 5924.0, 3592.0, 2507.0, 2522.0, 3552.0, 4876.0, 2169.0, 4714.0, 75.0, 3617.0, 4164.0, 4313.0, 3378.0, 4107.0, 2711.0, 2821.0, 3198.0, 2914.0, 3155.0, 2577.0, 5106.0, 1074.0, 4226.0, 4602.0, 5589.0, 2199.0, 2573.0, 920.0, 7837.0, 6309.0, 4386.0, 3710.0, 1853.0, 3905.0, 3599.0, 4774.0, 2756.0, 3102.0, 2717.0, 6240.0, 1727.0, 2880.0, 2329.0, 2684.0, 4708.0, 1520.0, 2496.0, 2363.0, 2137.0, 4973.0, 5616.0, 3125.0, 3700.0, null, 1264.0, 3274.0, 1793.0, 4073.0, 6847.0, 2206.0, 1470.0, 4764.0, 3603.0, 5980.0, 5269.0, 8069.0, 2297.0, 7693.0, 3137.0, 2275.0, 3417.0, 1583.0, 1271.0, 1800.0, 2508.0, 1235.0, 3616.0, 6204.0, 2988.0, 5068.0, 3327.0, 1380.0, 4168.0, 3342.0, 6410.0, 3535.0, 1978.0, 1873.0, 3572.0, 5461.0, 5241.0, 4508.0, 4830.0, 5726.0, 1822.0, 2369.0, 2770.0, 2615.0, 4504.0, 5260.0, 6490.0, 5082.0, 5721.0, 2885.0, 2596.0, 2655.0, 2830.0, 6645.0, 2572.0, 4950.0, 5081.0, 2793.0, 2419.0, 4016.0, 4073.0, 1606.0, 4615.0, 3047.0, 3158.0, 3135.0, null, 3800.0, 6704.0, 5628.0, 3280.0, 1543.0, 5243.0, 2292.0, 5295.0, 3614.0, 4133.0, 1724.0, 3332.0, 2784.0, 3141.0, 2487.0, 1714.0, 5262.0, 2184.0, 3300.0, 2979.0, 2247.0, 1873.0, 1544.0, 2525.0, 7708.0, 4984.0, 3997.0, 1456.0, 2916.0, 2120.0, 3013.0, 2746.0, 3608.0, 6014.0, 4537.0, 4276.0, 3482.0, 2686.0, 7408.0, 4755.0, 3069.0, 4128.0, 1292.0, 5855.0, 2077.0, 2486.0, 3907.0, 3488.0, null, 4592.0, 1030.0, 3974.0, 2971.0, 5641.0, 4275.0, 4153.0, 2366.0, 2409.0, 189.0, 9629.0, 5011.0, 3131.0, 1809.0, 1793.0, 4050.0, 6552.0, 4401.0, 4197.0, 2603.0, 6158.0, 225.0, 2392.0, 4690.0, 3213.0, null, 1913.0, 3840.0, 984.0, 1689.0, 5694.0, 258.0, 3517.0, 2686.0, 3496.0, 3053.0, 3697.0, 158.0, 1605.0, 3568.0, 1556.0, 2399.0, 2005.0, 2775.0, 2635.0, 3649.0, 2140.0, 4718.0, 2593.0, 6360.0, 1934.0, 4420.0, 5553.0, 2694.0, 5622.0, 2942.0, 2335.0, 2971.0, 5181.0, 2716.0, 3223.0, 1194.0, 4286.0, 3855.0, 3721.0, 5380.0, 1737.0, 1319.0, 4821.0, 4091.0, 1875.0, 3521.0, 2939.0, 2270.0, 1621.0, 2872.0, 3590.0, 3405.0, 2103.0, 3449.0, 3982.0, 3434.0, 6126.0, 3726.0, 22.0, 2807.0, 6196.0, 3751.0, 3482.0, 4377.0, 1760.0, 2946.0, 3492.0, 3054.0, 4059.0, 3856.0, 3789.0, 1721.0, 1504.0, 3743.0, 3577.0, 5467.0, 5355.0, 3428.0, 1219.0, 1386.0, 3065.0, 2230.0, 4432.0, 2123.0, 1227.0, 5822.0, 2046.0, 3947.0, 3241.0, 3416.0, 1616.0, 2878.0, 2582.0, 4040.0, 2619.0, 1531.0, 3592.0, 1332.0, 5230.0, 3996.0, 3285.0, 4934.0, 4534.0, 3283.0, 5543.0, 2047.0, 3967.0, 12973.0, 2839.0, 1870.0, 3816.0, 3320.0, 4020.0, 1787.0, 2199.0, 1548.0, null, 12506.0, 4595.0, 1569.0, 1452.0, 88.0, 4619.0, 3068.0, 5718.0, 7490.0, 3873.0, 3097.0, null, 844.0, 1367.0, 2041.0, 3020.0, 3963.0, 1474.0, 4663.0, 5524.0, 5148.0, 4425.0, 1817.0, 6502.0, 3884.0, 3260.0, 6290.0, null, 2602.0, 5370.0, 2026.0, 3675.0, 3063.0, 4196.0, 881.0, 4598.0, 3707.0, 2972.0, 1852.0, 3262.0, 1542.0, 4871.0, 2352.0, 1690.0, 6629.0, null, 3923.0, 2605.0, 2347.0, 4268.0, 2903.0, 1410.0, 4683.0, 3636.0, 2560.0, 2963.0, 2002.0, 1875.0, 7176.0, 2255.0, 2843.0, 3592.0, 3124.0, 1765.0, 4318.0, 3799.0, 2379.0, 2335.0, 3361.0, 4492.0, 1694.0, 5129.0, 4013.0, 2628.0, 2144.0, 6602.0, 1934.0, 4796.0, 3665.0, 1360.0, 2588.0, 1814.0, 4321.0, 2771.0, 4469.0, 3958.0, 1777.0, 2225.0, 2064.0, 4079.0, 2205.0, 1966.0, 2184.0, 3409.0, 1678.0, 2568.0, null, 2981.0, 2320.0, 1758.0, 1688.0, 4532.0, 2212.0, 2438.0, 3784.0, 3558.0, 4104.0, 1365.0, 2448.0, 2572.0, 1990.0, 4412.0, 2471.0, 6214.0, 2504.0, 1406.0, 2266.0, 1867.0, 3683.0, 3618.0, 3137.0, 1787.0, 2739.0, 1641.0, 2486.0, 2001.0, 4063.0, 6379.0, 2488.0, 2786.0, 1413.0, 1395.0, 831.0, 1203.0, 3383.0, 5081.0, 2922.0, 1821.0, 2663.0, 4188.0, 1437.0, 1891.0, 2879.0, 1905.0, 2244.0, 1720.0, 3563.0, 7266.0, 1461.0, 2230.0, 3007.0, null, 2980.0, 3670.0, 2939.0, 1391.0, 3272.0, 1671.0, 2406.0, 2641.0, 3297.0, 1421.0, 3435.0, 1675.0, 1380.0, 2656.0, 2048.0, 1777.0, 1992.0, 793.0, 3174.0, 2183.0, 2645.0, 2773.0, 3120.0, 2452.0, 1142.0, 2687.0, 4715.0, null, 2036.0, 2602.0, 4732.0, 1698.0, 1894.0, 758.0, 1613.0, 7617.0, 4707.0, 1455.0, 2491.0, 2156.0, 2912.0, 1282.0, 3882.0, 1673.0, 2768.0, 2507.0, 8721.0, 1806.0, 2019.0, 3286.0, 5613.0, 1822.0, 3697.0, 3212.0, 1941.0, 2939.0, 3785.0, 1536.0, 5199.0, 1473.0, 3854.0, 1849.0, 3531.0, null, 4893.0, 1011.0, 2829.0, 1788.0, 8718.0, 1215.0, 2078.0, 1695.0, 3354.0, 3857.0, 3982.0, 1323.0, 1576.0, 2867.0, 2765.0, 1185.0, 2832.0, 2798.0, 3165.0, 4046.0, 2552.0, 3364.0, 1534.0, 2660.0, 3720.0, 1319.0, 8797.0, 1610.0, 2191.0, 3897.0, 195.0, 5069.0, 2816.0, 2049.0, 3932.0, 2178.0, 3165.0, 4064.0, 2941.0, 5875.0, 3103.0, 1880.0, 2237.0, 2966.0, 1453.0, 3836.0, 1620.0, 1892.0, 4808.0, 2416.0, 1952.0, 4782.0, 2396.0, 3653.0, 1627.0, 3773.0, 1469.0, 3606.0, 2146.0, 3462.0, 1699.0, 3918.0, 4122.0, 2323.0, 2451.0, 1985.0, 1232.0, 1707.0, 3134.0, 1856.0, 1739.0, 1532.0, 1732.0, 1489.0, 2478.0, 1112.0, 1988.0, 6141.0, 1790.0, 4267.0, 1261.0, 1769.0, 2656.0, 1073.0, 1767.0, 2456.0, 1219.0, 1666.0, 4196.0, 2030.0, 1364.0, 3266.0, 3099.0, 3255.0, 2561.0, 2362.0, 2164.0, 2593.0, 1962.0, 19.0, 3559.0, 3997.0, 2870.0, 3195.0, null, 1750.0, 589.0, 1173.0, 6054.0, 3426.0, 6469.0, null, 1938.0, 3039.0, null, 3268.0, 3773.0, 1151.0, 2599.0, 2544.0, 1884.0, 3209.0, 3172.0, 1832.0, 1684.0, 2309.0, 3645.0, 2148.0, 3044.0, 3089.0, 1460.0, 1873.0, 3333.0, 4244.0, 3647.0, 3154.0, 1520.0, 2770.0, 1280.0, 1488.0, 1079.0, 4330.0, 6591.0, 1854.0, 1121.0, 2081.0, 1641.0, 2426.0, 2367.0, 1189.0, 4873.0, 3599.0, 1642.0, 1613.0, null, 2498.0, 3217.0, 2056.0, 8540.0, 2201.0, 2497.0, 2009.0, 2720.0, 1635.0, 17228.0, null, 3290.0, 2538.0, 1836.0, 5174.0, 1346.0, 1229.0, 5543.0, 1415.0, 3563.0, 2622.0, 2857.0, 2442.0, null, 1722.0, null, 1602.0, 3336.0, 3761.0, null, 4878.0, 2541.0, 2747.0, 2903.0, 1576.0, 2156.0, 1927.0], \"yaxis\": \"y\"}],\n",
       "                        {\"coloraxis\": {\"colorbar\": {\"title\": {\"text\": \"Total; Estimate; Total population\"}}, \"colorscale\": [[0.0, \"#0d0887\"], [0.1111111111111111, \"#46039f\"], [0.2222222222222222, \"#7201a8\"], [0.3333333333333333, \"#9c179e\"], [0.4444444444444444, \"#bd3786\"], [0.5555555555555556, \"#d8576b\"], [0.6666666666666666, \"#ed7953\"], [0.7777777777777778, \"#fb9f3a\"], [0.8888888888888888, \"#fdca26\"], [1.0, \"#f0f921\"]]}, \"legend\": {\"tracegroupgap\": 0}, \"margin\": {\"t\": 60}, \"template\": {\"data\": {\"bar\": [{\"error_x\": {\"color\": \"#2a3f5f\"}, \"error_y\": {\"color\": \"#2a3f5f\"}, \"marker\": {\"line\": {\"color\": \"#E5ECF6\", \"width\": 0.5}}, \"type\": \"bar\"}], \"barpolar\": [{\"marker\": {\"line\": {\"color\": \"#E5ECF6\", \"width\": 0.5}}, \"type\": \"barpolar\"}], \"carpet\": [{\"aaxis\": {\"endlinecolor\": \"#2a3f5f\", \"gridcolor\": \"white\", \"linecolor\": \"white\", \"minorgridcolor\": \"white\", \"startlinecolor\": \"#2a3f5f\"}, \"baxis\": {\"endlinecolor\": \"#2a3f5f\", \"gridcolor\": \"white\", \"linecolor\": \"white\", \"minorgridcolor\": \"white\", \"startlinecolor\": \"#2a3f5f\"}, \"type\": \"carpet\"}], \"choropleth\": [{\"colorbar\": {\"outlinewidth\": 0, \"ticks\": \"\"}, \"type\": \"choropleth\"}], \"contour\": [{\"colorbar\": {\"outlinewidth\": 0, \"ticks\": \"\"}, \"colorscale\": [[0.0, \"#0d0887\"], [0.1111111111111111, \"#46039f\"], [0.2222222222222222, \"#7201a8\"], [0.3333333333333333, \"#9c179e\"], [0.4444444444444444, \"#bd3786\"], [0.5555555555555556, \"#d8576b\"], [0.6666666666666666, \"#ed7953\"], [0.7777777777777778, \"#fb9f3a\"], [0.8888888888888888, \"#fdca26\"], [1.0, \"#f0f921\"]], \"type\": \"contour\"}], \"contourcarpet\": [{\"colorbar\": {\"outlinewidth\": 0, \"ticks\": \"\"}, \"type\": \"contourcarpet\"}], \"heatmap\": [{\"colorbar\": {\"outlinewidth\": 0, \"ticks\": \"\"}, \"colorscale\": [[0.0, \"#0d0887\"], [0.1111111111111111, \"#46039f\"], [0.2222222222222222, \"#7201a8\"], [0.3333333333333333, \"#9c179e\"], [0.4444444444444444, \"#bd3786\"], [0.5555555555555556, \"#d8576b\"], [0.6666666666666666, \"#ed7953\"], [0.7777777777777778, \"#fb9f3a\"], [0.8888888888888888, \"#fdca26\"], [1.0, \"#f0f921\"]], \"type\": \"heatmap\"}], \"heatmapgl\": [{\"colorbar\": {\"outlinewidth\": 0, \"ticks\": \"\"}, \"colorscale\": [[0.0, \"#0d0887\"], [0.1111111111111111, \"#46039f\"], [0.2222222222222222, \"#7201a8\"], [0.3333333333333333, \"#9c179e\"], [0.4444444444444444, \"#bd3786\"], [0.5555555555555556, \"#d8576b\"], [0.6666666666666666, \"#ed7953\"], [0.7777777777777778, \"#fb9f3a\"], [0.8888888888888888, \"#fdca26\"], [1.0, \"#f0f921\"]], \"type\": \"heatmapgl\"}], \"histogram\": [{\"marker\": {\"colorbar\": {\"outlinewidth\": 0, \"ticks\": \"\"}}, \"type\": \"histogram\"}], \"histogram2d\": [{\"colorbar\": {\"outlinewidth\": 0, \"ticks\": \"\"}, \"colorscale\": [[0.0, \"#0d0887\"], [0.1111111111111111, \"#46039f\"], [0.2222222222222222, \"#7201a8\"], [0.3333333333333333, \"#9c179e\"], [0.4444444444444444, \"#bd3786\"], [0.5555555555555556, \"#d8576b\"], [0.6666666666666666, \"#ed7953\"], [0.7777777777777778, \"#fb9f3a\"], [0.8888888888888888, \"#fdca26\"], [1.0, \"#f0f921\"]], \"type\": \"histogram2d\"}], \"histogram2dcontour\": [{\"colorbar\": {\"outlinewidth\": 0, \"ticks\": \"\"}, \"colorscale\": [[0.0, \"#0d0887\"], [0.1111111111111111, \"#46039f\"], [0.2222222222222222, \"#7201a8\"], [0.3333333333333333, \"#9c179e\"], [0.4444444444444444, \"#bd3786\"], [0.5555555555555556, \"#d8576b\"], [0.6666666666666666, \"#ed7953\"], [0.7777777777777778, \"#fb9f3a\"], [0.8888888888888888, \"#fdca26\"], [1.0, \"#f0f921\"]], \"type\": \"histogram2dcontour\"}], \"mesh3d\": [{\"colorbar\": {\"outlinewidth\": 0, \"ticks\": \"\"}, \"type\": \"mesh3d\"}], \"parcoords\": [{\"line\": {\"colorbar\": {\"outlinewidth\": 0, \"ticks\": \"\"}}, \"type\": \"parcoords\"}], \"pie\": [{\"automargin\": true, \"type\": \"pie\"}], \"scatter\": [{\"marker\": {\"colorbar\": {\"outlinewidth\": 0, \"ticks\": \"\"}}, \"type\": \"scatter\"}], \"scatter3d\": [{\"line\": {\"colorbar\": {\"outlinewidth\": 0, \"ticks\": \"\"}}, \"marker\": {\"colorbar\": {\"outlinewidth\": 0, \"ticks\": \"\"}}, \"type\": \"scatter3d\"}], \"scattercarpet\": [{\"marker\": {\"colorbar\": {\"outlinewidth\": 0, \"ticks\": \"\"}}, \"type\": \"scattercarpet\"}], \"scattergeo\": [{\"marker\": {\"colorbar\": {\"outlinewidth\": 0, \"ticks\": \"\"}}, \"type\": \"scattergeo\"}], \"scattergl\": [{\"marker\": {\"colorbar\": {\"outlinewidth\": 0, \"ticks\": \"\"}}, \"type\": \"scattergl\"}], \"scattermapbox\": [{\"marker\": {\"colorbar\": {\"outlinewidth\": 0, \"ticks\": \"\"}}, \"type\": \"scattermapbox\"}], \"scatterpolar\": [{\"marker\": {\"colorbar\": {\"outlinewidth\": 0, \"ticks\": \"\"}}, \"type\": \"scatterpolar\"}], \"scatterpolargl\": [{\"marker\": {\"colorbar\": {\"outlinewidth\": 0, \"ticks\": \"\"}}, \"type\": \"scatterpolargl\"}], \"scatterternary\": [{\"marker\": {\"colorbar\": {\"outlinewidth\": 0, \"ticks\": \"\"}}, \"type\": \"scatterternary\"}], \"surface\": [{\"colorbar\": {\"outlinewidth\": 0, \"ticks\": \"\"}, \"colorscale\": [[0.0, \"#0d0887\"], [0.1111111111111111, \"#46039f\"], [0.2222222222222222, \"#7201a8\"], [0.3333333333333333, \"#9c179e\"], [0.4444444444444444, \"#bd3786\"], [0.5555555555555556, \"#d8576b\"], [0.6666666666666666, \"#ed7953\"], [0.7777777777777778, \"#fb9f3a\"], [0.8888888888888888, \"#fdca26\"], [1.0, \"#f0f921\"]], \"type\": \"surface\"}], \"table\": [{\"cells\": {\"fill\": {\"color\": \"#EBF0F8\"}, \"line\": {\"color\": \"white\"}}, \"header\": {\"fill\": {\"color\": \"#C8D4E3\"}, \"line\": {\"color\": \"white\"}}, \"type\": \"table\"}]}, \"layout\": {\"annotationdefaults\": {\"arrowcolor\": \"#2a3f5f\", \"arrowhead\": 0, \"arrowwidth\": 1}, \"coloraxis\": {\"colorbar\": {\"outlinewidth\": 0, \"ticks\": \"\"}}, \"colorscale\": {\"diverging\": [[0, \"#8e0152\"], [0.1, \"#c51b7d\"], [0.2, \"#de77ae\"], [0.3, \"#f1b6da\"], [0.4, \"#fde0ef\"], [0.5, \"#f7f7f7\"], [0.6, \"#e6f5d0\"], [0.7, \"#b8e186\"], [0.8, \"#7fbc41\"], [0.9, \"#4d9221\"], [1, \"#276419\"]], \"sequential\": [[0.0, \"#0d0887\"], [0.1111111111111111, \"#46039f\"], [0.2222222222222222, \"#7201a8\"], [0.3333333333333333, \"#9c179e\"], [0.4444444444444444, \"#bd3786\"], [0.5555555555555556, \"#d8576b\"], [0.6666666666666666, \"#ed7953\"], [0.7777777777777778, \"#fb9f3a\"], [0.8888888888888888, \"#fdca26\"], [1.0, \"#f0f921\"]], \"sequentialminus\": [[0.0, \"#0d0887\"], [0.1111111111111111, \"#46039f\"], [0.2222222222222222, \"#7201a8\"], [0.3333333333333333, \"#9c179e\"], [0.4444444444444444, \"#bd3786\"], [0.5555555555555556, \"#d8576b\"], [0.6666666666666666, \"#ed7953\"], [0.7777777777777778, \"#fb9f3a\"], [0.8888888888888888, \"#fdca26\"], [1.0, \"#f0f921\"]]}, \"colorway\": [\"#636efa\", \"#EF553B\", \"#00cc96\", \"#ab63fa\", \"#FFA15A\", \"#19d3f3\", \"#FF6692\", \"#B6E880\", \"#FF97FF\", \"#FECB52\"], \"font\": {\"color\": \"#2a3f5f\"}, \"geo\": {\"bgcolor\": \"white\", \"lakecolor\": \"white\", \"landcolor\": \"#E5ECF6\", \"showlakes\": true, \"showland\": true, \"subunitcolor\": \"white\"}, \"hoverlabel\": {\"align\": \"left\"}, \"hovermode\": \"closest\", \"mapbox\": {\"style\": \"light\"}, \"paper_bgcolor\": \"white\", \"plot_bgcolor\": \"#E5ECF6\", \"polar\": {\"angularaxis\": {\"gridcolor\": \"white\", \"linecolor\": \"white\", \"ticks\": \"\"}, \"bgcolor\": \"#E5ECF6\", \"radialaxis\": {\"gridcolor\": \"white\", \"linecolor\": \"white\", \"ticks\": \"\"}}, \"scene\": {\"xaxis\": {\"backgroundcolor\": \"#E5ECF6\", \"gridcolor\": \"white\", \"gridwidth\": 2, \"linecolor\": \"white\", \"showbackground\": true, \"ticks\": \"\", \"zerolinecolor\": \"white\"}, \"yaxis\": {\"backgroundcolor\": \"#E5ECF6\", \"gridcolor\": \"white\", \"gridwidth\": 2, \"linecolor\": \"white\", \"showbackground\": true, \"ticks\": \"\", \"zerolinecolor\": \"white\"}, \"zaxis\": {\"backgroundcolor\": \"#E5ECF6\", \"gridcolor\": \"white\", \"gridwidth\": 2, \"linecolor\": \"white\", \"showbackground\": true, \"ticks\": \"\", \"zerolinecolor\": \"white\"}}, \"shapedefaults\": {\"line\": {\"color\": \"#2a3f5f\"}}, \"ternary\": {\"aaxis\": {\"gridcolor\": \"white\", \"linecolor\": \"white\", \"ticks\": \"\"}, \"baxis\": {\"gridcolor\": \"white\", \"linecolor\": \"white\", \"ticks\": \"\"}, \"bgcolor\": \"#E5ECF6\", \"caxis\": {\"gridcolor\": \"white\", \"linecolor\": \"white\", \"ticks\": \"\"}}, \"title\": {\"x\": 0.05}, \"xaxis\": {\"automargin\": true, \"gridcolor\": \"white\", \"linecolor\": \"white\", \"ticks\": \"\", \"title\": {\"standoff\": 15}, \"zerolinecolor\": \"white\", \"zerolinewidth\": 2}, \"yaxis\": {\"automargin\": true, \"gridcolor\": \"white\", \"linecolor\": \"white\", \"ticks\": \"\", \"title\": {\"standoff\": 15}, \"zerolinecolor\": \"white\", \"zerolinewidth\": 2}}}, \"title\": {\"text\": \"Number of Reports Per Census Tract (All Seasons) vs Total; Estimate; Total population\"}, \"xaxis\": {\"anchor\": \"y\", \"domain\": [0.0, 1.0], \"title\": {\"text\": \"Number of Reports Per Census Tract (All Seasons)\"}}, \"yaxis\": {\"anchor\": \"x\", \"domain\": [0.0, 1.0], \"title\": {\"text\": \"Total; Estimate; Total population\"}}},\n",
       "                        {\"responsive\": true}\n",
       "                    ).then(function(){\n",
       "                            \n",
       "var gd = document.getElementById('dc3ca728-fc93-4d37-ba44-ca2882ec5b57');\n",
       "var x = new MutationObserver(function (mutations, observer) {{\n",
       "        var display = window.getComputedStyle(gd).display;\n",
       "        if (!display || display === 'none') {{\n",
       "            console.log([gd, 'removed!']);\n",
       "            Plotly.purge(gd);\n",
       "            observer.disconnect();\n",
       "        }}\n",
       "}});\n",
       "\n",
       "// Listen for the removal of the full notebook cells\n",
       "var notebookContainer = gd.closest('#notebook-container');\n",
       "if (notebookContainer) {{\n",
       "    x.observe(notebookContainer, {childList: true});\n",
       "}}\n",
       "\n",
       "// Listen for the clearing of the current output cell\n",
       "var outputEl = gd.closest('.output');\n",
       "if (outputEl) {{\n",
       "    x.observe(outputEl, {childList: true});\n",
       "}}\n",
       "\n",
       "                        })\n",
       "                };\n",
       "                });\n",
       "            </script>\n",
       "        </div>"
      ]
     },
     "metadata": {},
     "output_type": "display_data"
    }
   ],
   "source": [
    "chosenCol = demoCols[0]\n",
    "fig = px.scatter(corr, x=\"ALL_SEASONS\", y=chosenCol, color=chosenCol, hover_data=['Geoid', \"ALL_SEASONS\", \"Geography\" ],     opacity=0.2)\n",
    "fig.update_layout(\n",
    "    title = \"Number of Reports Per Census Tract (All Seasons) vs \"+chosenCol,\n",
    "    xaxis_title = \"Number of Reports Per Census Tract (All Seasons)\",\n",
    "    yaxis_title = chosenCol,\n",
    ")\n",
    "fig.show() "
   ]
  },
  {
   "cell_type": "code",
   "execution_count": null,
   "metadata": {},
   "outputs": [],
   "source": []
  }
 ],
 "metadata": {
  "kernelspec": {
   "display_name": "Python 3",
   "language": "python",
   "name": "python3"
  },
  "language_info": {
   "codemirror_mode": {
    "name": "ipython",
    "version": 3
   },
   "file_extension": ".py",
   "mimetype": "text/x-python",
   "name": "python",
   "nbconvert_exporter": "python",
   "pygments_lexer": "ipython3",
   "version": "3.7.5"
  }
 },
 "nbformat": 4,
 "nbformat_minor": 4
}
