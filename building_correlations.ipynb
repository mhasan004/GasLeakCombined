{
 "cells": [
  {
   "cell_type": "code",
   "execution_count": 1,
   "metadata": {},
   "outputs": [],
   "source": [
    "import plotly.express as px\n",
    "import matplotlib.pyplot as plt\n",
    "import numpy as np\n",
    "import pandas as pd\n",
    "from scipy import stats"
   ]
  },
  {
   "cell_type": "code",
   "execution_count": 2,
   "metadata": {},
   "outputs": [
    {
     "data": {
      "text/html": [
       "<div>\n",
       "<style scoped>\n",
       "    .dataframe tbody tr th:only-of-type {\n",
       "        vertical-align: middle;\n",
       "    }\n",
       "\n",
       "    .dataframe tbody tr th {\n",
       "        vertical-align: top;\n",
       "    }\n",
       "\n",
       "    .dataframe thead th {\n",
       "        text-align: right;\n",
       "    }\n",
       "</style>\n",
       "<table border=\"1\" class=\"dataframe\">\n",
       "  <thead>\n",
       "    <tr style=\"text-align: right;\">\n",
       "      <th></th>\n",
       "      <th>Geoid</th>\n",
       "      <th>Spring</th>\n",
       "      <th>Summer</th>\n",
       "      <th>Autumn</th>\n",
       "      <th>Winter</th>\n",
       "      <th>ALL_SEASONS</th>\n",
       "    </tr>\n",
       "  </thead>\n",
       "  <tbody>\n",
       "    <tr>\n",
       "      <th>0</th>\n",
       "      <td>36005046201</td>\n",
       "      <td>77</td>\n",
       "      <td>97</td>\n",
       "      <td>99</td>\n",
       "      <td>77</td>\n",
       "      <td>350</td>\n",
       "    </tr>\n",
       "    <tr>\n",
       "      <th>1</th>\n",
       "      <td>36047091000</td>\n",
       "      <td>37</td>\n",
       "      <td>62</td>\n",
       "      <td>71</td>\n",
       "      <td>51</td>\n",
       "      <td>221</td>\n",
       "    </tr>\n",
       "    <tr>\n",
       "      <th>2</th>\n",
       "      <td>36047089000</td>\n",
       "      <td>10</td>\n",
       "      <td>11</td>\n",
       "      <td>12</td>\n",
       "      <td>14</td>\n",
       "      <td>47</td>\n",
       "    </tr>\n",
       "    <tr>\n",
       "      <th>3</th>\n",
       "      <td>36081043701</td>\n",
       "      <td>1</td>\n",
       "      <td>2</td>\n",
       "      <td>1</td>\n",
       "      <td>5</td>\n",
       "      <td>9</td>\n",
       "    </tr>\n",
       "    <tr>\n",
       "      <th>4</th>\n",
       "      <td>36005022403</td>\n",
       "      <td>7</td>\n",
       "      <td>8</td>\n",
       "      <td>8</td>\n",
       "      <td>15</td>\n",
       "      <td>38</td>\n",
       "    </tr>\n",
       "    <tr>\n",
       "      <th>...</th>\n",
       "      <td>...</td>\n",
       "      <td>...</td>\n",
       "      <td>...</td>\n",
       "      <td>...</td>\n",
       "      <td>...</td>\n",
       "      <td>...</td>\n",
       "    </tr>\n",
       "    <tr>\n",
       "      <th>2033</th>\n",
       "      <td>36085022300</td>\n",
       "      <td>0</td>\n",
       "      <td>0</td>\n",
       "      <td>0</td>\n",
       "      <td>1</td>\n",
       "      <td>1</td>\n",
       "    </tr>\n",
       "    <tr>\n",
       "      <th>2034</th>\n",
       "      <td>36119010300</td>\n",
       "      <td>0</td>\n",
       "      <td>0</td>\n",
       "      <td>0</td>\n",
       "      <td>1</td>\n",
       "      <td>1</td>\n",
       "    </tr>\n",
       "    <tr>\n",
       "      <th>2035</th>\n",
       "      <td>36081120300</td>\n",
       "      <td>0</td>\n",
       "      <td>0</td>\n",
       "      <td>0</td>\n",
       "      <td>1</td>\n",
       "      <td>1</td>\n",
       "    </tr>\n",
       "    <tr>\n",
       "      <th>2036</th>\n",
       "      <td>36081077300</td>\n",
       "      <td>0</td>\n",
       "      <td>0</td>\n",
       "      <td>0</td>\n",
       "      <td>1</td>\n",
       "      <td>1</td>\n",
       "    </tr>\n",
       "    <tr>\n",
       "      <th>2037</th>\n",
       "      <td>36047052800</td>\n",
       "      <td>0</td>\n",
       "      <td>0</td>\n",
       "      <td>0</td>\n",
       "      <td>1</td>\n",
       "      <td>1</td>\n",
       "    </tr>\n",
       "  </tbody>\n",
       "</table>\n",
       "<p>2038 rows × 6 columns</p>\n",
       "</div>"
      ],
      "text/plain": [
       "            Geoid  Spring  Summer  Autumn  Winter  ALL_SEASONS\n",
       "0     36005046201      77      97      99      77          350\n",
       "1     36047091000      37      62      71      51          221\n",
       "2     36047089000      10      11      12      14           47\n",
       "3     36081043701       1       2       1       5            9\n",
       "4     36005022403       7       8       8      15           38\n",
       "...           ...     ...     ...     ...     ...          ...\n",
       "2033  36085022300       0       0       0       1            1\n",
       "2034  36119010300       0       0       0       1            1\n",
       "2035  36081120300       0       0       0       1            1\n",
       "2036  36081077300       0       0       0       1            1\n",
       "2037  36047052800       0       0       0       1            1\n",
       "\n",
       "[2038 rows x 6 columns]"
      ]
     },
     "execution_count": 2,
     "metadata": {},
     "output_type": "execute_result"
    }
   ],
   "source": [
    "# 1) ADD THE DEMOGRAPHICS COLS TO THE SESONAL 2017 AND 2018 CSV:\n",
    "sesonalCSVFile = \"DataFiles/FDNY/Season2017_18.csv\"\n",
    "demoCSVFile = \"DataFiles/Crime and Demographics/filtered_CensusTract_Demographic_Data_NYCWestchester_filtered2.csv\"\n",
    "seasons = [\"Spring\",\"Summer\",\"Autumn\",\"Winter\"]\n",
    "seasonalDF  = pd.read_csv(sesonalCSVFile)  \n",
    "demoDF  = pd.read_csv(demoCSVFile) \n",
    "\n",
    "# Sum up the count of the seasonal report counts and make  anew col:\n",
    "allSum = []\n",
    "for row in range(0, len(seasonalDF)):\n",
    "    sum = 0\n",
    "    for season in seasons:\n",
    "        sum = sum + seasonalDF.iloc[row][season]\n",
    "    allSum.append(sum)\n",
    "seasonalDF[\"ALL_SEASONS\"] = allSum\n",
    "seasonalDF"
   ]
  },
  {
   "cell_type": "code",
   "execution_count": 3,
   "metadata": {},
   "outputs": [
    {
     "data": {
      "text/html": [
       "<div>\n",
       "<style scoped>\n",
       "    .dataframe tbody tr th:only-of-type {\n",
       "        vertical-align: middle;\n",
       "    }\n",
       "\n",
       "    .dataframe tbody tr th {\n",
       "        vertical-align: top;\n",
       "    }\n",
       "\n",
       "    .dataframe thead th {\n",
       "        text-align: right;\n",
       "    }\n",
       "</style>\n",
       "<table border=\"1\" class=\"dataframe\">\n",
       "  <thead>\n",
       "    <tr style=\"text-align: right;\">\n",
       "      <th></th>\n",
       "      <th>Geoid</th>\n",
       "      <th>Spring</th>\n",
       "      <th>Summer</th>\n",
       "      <th>Autumn</th>\n",
       "      <th>Winter</th>\n",
       "      <th>ALL_SEASONS</th>\n",
       "      <th>Id</th>\n",
       "      <th>Geography</th>\n",
       "      <th>Total; Estimate; Total population</th>\n",
       "      <th>Male; Estimate; Total population</th>\n",
       "      <th>...</th>\n",
       "      <th>Female; Estimate; SELECTED AGE CATEGORIES - 75 years and over</th>\n",
       "      <th>Total; Estimate; SUMMARY INDICATORS - Median age (years)</th>\n",
       "      <th>Male; Estimate; SUMMARY INDICATORS - Median age (years)</th>\n",
       "      <th>Female; Estimate; SUMMARY INDICATORS - Median age (years)</th>\n",
       "      <th>Total; Estimate; SUMMARY INDICATORS - Sex ratio (males per 100 females)</th>\n",
       "      <th>Total; Estimate; SUMMARY INDICATORS - Age dependency ratio</th>\n",
       "      <th>Total; Estimate; SUMMARY INDICATORS - Age dependency ratio - Old-age dependency ratio</th>\n",
       "      <th>Total; Estimate; SUMMARY INDICATORS - Age dependency ratio - Child dependency ratio</th>\n",
       "      <th>Total; Estimate; PERCENT IMPUTED - Sex</th>\n",
       "      <th>Total; Estimate; PERCENT IMPUTED - Age</th>\n",
       "    </tr>\n",
       "  </thead>\n",
       "  <tbody>\n",
       "    <tr>\n",
       "      <th>0</th>\n",
       "      <td>36005046201</td>\n",
       "      <td>77</td>\n",
       "      <td>97</td>\n",
       "      <td>99</td>\n",
       "      <td>77</td>\n",
       "      <td>350</td>\n",
       "      <td>1400000US36005046201</td>\n",
       "      <td>Census Tract 462.01, Bronx County, New York</td>\n",
       "      <td>25199.0</td>\n",
       "      <td>10870.0</td>\n",
       "      <td>...</td>\n",
       "      <td>13.1</td>\n",
       "      <td>46.6</td>\n",
       "      <td>42.5</td>\n",
       "      <td>49.4</td>\n",
       "      <td>75.9</td>\n",
       "      <td>66</td>\n",
       "      <td>37</td>\n",
       "      <td>29</td>\n",
       "      <td>0.0</td>\n",
       "      <td>1.5</td>\n",
       "    </tr>\n",
       "    <tr>\n",
       "      <th>1</th>\n",
       "      <td>36047091000</td>\n",
       "      <td>37</td>\n",
       "      <td>62</td>\n",
       "      <td>71</td>\n",
       "      <td>51</td>\n",
       "      <td>221</td>\n",
       "      <td>1400000US36047091000</td>\n",
       "      <td>Census Tract 910, Kings County, New York</td>\n",
       "      <td>5368.0</td>\n",
       "      <td>2256.0</td>\n",
       "      <td>...</td>\n",
       "      <td>9.8</td>\n",
       "      <td>27.4</td>\n",
       "      <td>23.1</td>\n",
       "      <td>36.8</td>\n",
       "      <td>72.5</td>\n",
       "      <td>87.8</td>\n",
       "      <td>32</td>\n",
       "      <td>55.8</td>\n",
       "      <td>0.0</td>\n",
       "      <td>1.4</td>\n",
       "    </tr>\n",
       "    <tr>\n",
       "      <th>2</th>\n",
       "      <td>36047089000</td>\n",
       "      <td>10</td>\n",
       "      <td>11</td>\n",
       "      <td>12</td>\n",
       "      <td>14</td>\n",
       "      <td>47</td>\n",
       "      <td>1400000US36047089000</td>\n",
       "      <td>Census Tract 890, Kings County, New York</td>\n",
       "      <td>6169.0</td>\n",
       "      <td>2885.0</td>\n",
       "      <td>...</td>\n",
       "      <td>9.9</td>\n",
       "      <td>40</td>\n",
       "      <td>38.2</td>\n",
       "      <td>40.7</td>\n",
       "      <td>87.9</td>\n",
       "      <td>58.6</td>\n",
       "      <td>27.3</td>\n",
       "      <td>31.3</td>\n",
       "      <td>0.0</td>\n",
       "      <td>2.0</td>\n",
       "    </tr>\n",
       "    <tr>\n",
       "      <th>3</th>\n",
       "      <td>36081043701</td>\n",
       "      <td>1</td>\n",
       "      <td>2</td>\n",
       "      <td>1</td>\n",
       "      <td>5</td>\n",
       "      <td>9</td>\n",
       "      <td>1400000US36081043701</td>\n",
       "      <td>Census Tract 437.01, Queens County, New York</td>\n",
       "      <td>3095.0</td>\n",
       "      <td>1379.0</td>\n",
       "      <td>...</td>\n",
       "      <td>8</td>\n",
       "      <td>32.8</td>\n",
       "      <td>36.3</td>\n",
       "      <td>30.9</td>\n",
       "      <td>80.4</td>\n",
       "      <td>44.2</td>\n",
       "      <td>14.3</td>\n",
       "      <td>29.9</td>\n",
       "      <td>0.4</td>\n",
       "      <td>4.3</td>\n",
       "    </tr>\n",
       "    <tr>\n",
       "      <th>4</th>\n",
       "      <td>36005022403</td>\n",
       "      <td>7</td>\n",
       "      <td>8</td>\n",
       "      <td>8</td>\n",
       "      <td>15</td>\n",
       "      <td>38</td>\n",
       "      <td>1400000US36005022403</td>\n",
       "      <td>Census Tract 224.03, Bronx County, New York</td>\n",
       "      <td>3302.0</td>\n",
       "      <td>1426.0</td>\n",
       "      <td>...</td>\n",
       "      <td>4.8</td>\n",
       "      <td>33.1</td>\n",
       "      <td>26.5</td>\n",
       "      <td>37.6</td>\n",
       "      <td>76</td>\n",
       "      <td>46</td>\n",
       "      <td>8.3</td>\n",
       "      <td>37.7</td>\n",
       "      <td>1.0</td>\n",
       "      <td>0.0</td>\n",
       "    </tr>\n",
       "    <tr>\n",
       "      <th>...</th>\n",
       "      <td>...</td>\n",
       "      <td>...</td>\n",
       "      <td>...</td>\n",
       "      <td>...</td>\n",
       "      <td>...</td>\n",
       "      <td>...</td>\n",
       "      <td>...</td>\n",
       "      <td>...</td>\n",
       "      <td>...</td>\n",
       "      <td>...</td>\n",
       "      <td>...</td>\n",
       "      <td>...</td>\n",
       "      <td>...</td>\n",
       "      <td>...</td>\n",
       "      <td>...</td>\n",
       "      <td>...</td>\n",
       "      <td>...</td>\n",
       "      <td>...</td>\n",
       "      <td>...</td>\n",
       "      <td>...</td>\n",
       "      <td>...</td>\n",
       "    </tr>\n",
       "    <tr>\n",
       "      <th>2033</th>\n",
       "      <td>36085022300</td>\n",
       "      <td>0</td>\n",
       "      <td>0</td>\n",
       "      <td>0</td>\n",
       "      <td>1</td>\n",
       "      <td>1</td>\n",
       "      <td>1400000US36085022300</td>\n",
       "      <td>Census Tract 223, Richmond County, New York</td>\n",
       "      <td>2747.0</td>\n",
       "      <td>1208.0</td>\n",
       "      <td>...</td>\n",
       "      <td>5.7</td>\n",
       "      <td>32</td>\n",
       "      <td>32.7</td>\n",
       "      <td>31.4</td>\n",
       "      <td>78.5</td>\n",
       "      <td>53.9</td>\n",
       "      <td>13.5</td>\n",
       "      <td>40.4</td>\n",
       "      <td>0.0</td>\n",
       "      <td>2.7</td>\n",
       "    </tr>\n",
       "    <tr>\n",
       "      <th>2034</th>\n",
       "      <td>36119010300</td>\n",
       "      <td>0</td>\n",
       "      <td>0</td>\n",
       "      <td>0</td>\n",
       "      <td>1</td>\n",
       "      <td>1</td>\n",
       "      <td>1400000US36119010300</td>\n",
       "      <td>Census Tract 103, Westchester County, New York</td>\n",
       "      <td>2903.0</td>\n",
       "      <td>1355.0</td>\n",
       "      <td>...</td>\n",
       "      <td>21.1</td>\n",
       "      <td>51.3</td>\n",
       "      <td>48.1</td>\n",
       "      <td>53.3</td>\n",
       "      <td>87.5</td>\n",
       "      <td>70.5</td>\n",
       "      <td>43.5</td>\n",
       "      <td>27</td>\n",
       "      <td>0.0</td>\n",
       "      <td>0.0</td>\n",
       "    </tr>\n",
       "    <tr>\n",
       "      <th>2035</th>\n",
       "      <td>36081120300</td>\n",
       "      <td>0</td>\n",
       "      <td>0</td>\n",
       "      <td>0</td>\n",
       "      <td>1</td>\n",
       "      <td>1</td>\n",
       "      <td>1400000US36081120300</td>\n",
       "      <td>Census Tract 1203, Queens County, New York</td>\n",
       "      <td>1576.0</td>\n",
       "      <td>774.0</td>\n",
       "      <td>...</td>\n",
       "      <td>8.1</td>\n",
       "      <td>42.2</td>\n",
       "      <td>38.5</td>\n",
       "      <td>43.7</td>\n",
       "      <td>96.5</td>\n",
       "      <td>67.7</td>\n",
       "      <td>36.5</td>\n",
       "      <td>31.2</td>\n",
       "      <td>0.0</td>\n",
       "      <td>1.8</td>\n",
       "    </tr>\n",
       "    <tr>\n",
       "      <th>2036</th>\n",
       "      <td>36081077300</td>\n",
       "      <td>0</td>\n",
       "      <td>0</td>\n",
       "      <td>0</td>\n",
       "      <td>1</td>\n",
       "      <td>1</td>\n",
       "      <td>1400000US36081077300</td>\n",
       "      <td>Census Tract 773, Queens County, New York</td>\n",
       "      <td>2156.0</td>\n",
       "      <td>1053.0</td>\n",
       "      <td>...</td>\n",
       "      <td>8</td>\n",
       "      <td>43.5</td>\n",
       "      <td>48</td>\n",
       "      <td>36.9</td>\n",
       "      <td>95.5</td>\n",
       "      <td>33</td>\n",
       "      <td>17.8</td>\n",
       "      <td>15.2</td>\n",
       "      <td>0.0</td>\n",
       "      <td>0.0</td>\n",
       "    </tr>\n",
       "    <tr>\n",
       "      <th>2037</th>\n",
       "      <td>36047052800</td>\n",
       "      <td>0</td>\n",
       "      <td>0</td>\n",
       "      <td>0</td>\n",
       "      <td>1</td>\n",
       "      <td>1</td>\n",
       "      <td>1400000US36047052800</td>\n",
       "      <td>Census Tract 528, Kings County, New York</td>\n",
       "      <td>1927.0</td>\n",
       "      <td>859.0</td>\n",
       "      <td>...</td>\n",
       "      <td>2.7</td>\n",
       "      <td>34.5</td>\n",
       "      <td>42.7</td>\n",
       "      <td>29</td>\n",
       "      <td>80.4</td>\n",
       "      <td>49</td>\n",
       "      <td>12.1</td>\n",
       "      <td>36.9</td>\n",
       "      <td>0.0</td>\n",
       "      <td>2.9</td>\n",
       "    </tr>\n",
       "  </tbody>\n",
       "</table>\n",
       "<p>2038 rows × 104 columns</p>\n",
       "</div>"
      ],
      "text/plain": [
       "            Geoid  Spring  Summer  Autumn  Winter  ALL_SEASONS  \\\n",
       "0     36005046201      77      97      99      77          350   \n",
       "1     36047091000      37      62      71      51          221   \n",
       "2     36047089000      10      11      12      14           47   \n",
       "3     36081043701       1       2       1       5            9   \n",
       "4     36005022403       7       8       8      15           38   \n",
       "...           ...     ...     ...     ...     ...          ...   \n",
       "2033  36085022300       0       0       0       1            1   \n",
       "2034  36119010300       0       0       0       1            1   \n",
       "2035  36081120300       0       0       0       1            1   \n",
       "2036  36081077300       0       0       0       1            1   \n",
       "2037  36047052800       0       0       0       1            1   \n",
       "\n",
       "                        Id                                       Geography  \\\n",
       "0     1400000US36005046201     Census Tract 462.01, Bronx County, New York   \n",
       "1     1400000US36047091000        Census Tract 910, Kings County, New York   \n",
       "2     1400000US36047089000        Census Tract 890, Kings County, New York   \n",
       "3     1400000US36081043701    Census Tract 437.01, Queens County, New York   \n",
       "4     1400000US36005022403     Census Tract 224.03, Bronx County, New York   \n",
       "...                    ...                                             ...   \n",
       "2033  1400000US36085022300     Census Tract 223, Richmond County, New York   \n",
       "2034  1400000US36119010300  Census Tract 103, Westchester County, New York   \n",
       "2035  1400000US36081120300      Census Tract 1203, Queens County, New York   \n",
       "2036  1400000US36081077300       Census Tract 773, Queens County, New York   \n",
       "2037  1400000US36047052800        Census Tract 528, Kings County, New York   \n",
       "\n",
       "      Total; Estimate; Total population  Male; Estimate; Total population  \\\n",
       "0                               25199.0                           10870.0   \n",
       "1                                5368.0                            2256.0   \n",
       "2                                6169.0                            2885.0   \n",
       "3                                3095.0                            1379.0   \n",
       "4                                3302.0                            1426.0   \n",
       "...                                 ...                               ...   \n",
       "2033                             2747.0                            1208.0   \n",
       "2034                             2903.0                            1355.0   \n",
       "2035                             1576.0                             774.0   \n",
       "2036                             2156.0                            1053.0   \n",
       "2037                             1927.0                             859.0   \n",
       "\n",
       "      ...  Female; Estimate; SELECTED AGE CATEGORIES - 75 years and over  \\\n",
       "0     ...                                               13.1               \n",
       "1     ...                                                9.8               \n",
       "2     ...                                                9.9               \n",
       "3     ...                                                  8               \n",
       "4     ...                                                4.8               \n",
       "...   ...                                                ...               \n",
       "2033  ...                                                5.7               \n",
       "2034  ...                                               21.1               \n",
       "2035  ...                                                8.1               \n",
       "2036  ...                                                  8               \n",
       "2037  ...                                                2.7               \n",
       "\n",
       "      Total; Estimate; SUMMARY INDICATORS - Median age (years)  \\\n",
       "0                                                  46.6          \n",
       "1                                                  27.4          \n",
       "2                                                    40          \n",
       "3                                                  32.8          \n",
       "4                                                  33.1          \n",
       "...                                                 ...          \n",
       "2033                                                 32          \n",
       "2034                                               51.3          \n",
       "2035                                               42.2          \n",
       "2036                                               43.5          \n",
       "2037                                               34.5          \n",
       "\n",
       "     Male; Estimate; SUMMARY INDICATORS - Median age (years)  \\\n",
       "0                                                  42.5        \n",
       "1                                                  23.1        \n",
       "2                                                  38.2        \n",
       "3                                                  36.3        \n",
       "4                                                  26.5        \n",
       "...                                                 ...        \n",
       "2033                                               32.7        \n",
       "2034                                               48.1        \n",
       "2035                                               38.5        \n",
       "2036                                                 48        \n",
       "2037                                               42.7        \n",
       "\n",
       "     Female; Estimate; SUMMARY INDICATORS - Median age (years)  \\\n",
       "0                                                  49.4          \n",
       "1                                                  36.8          \n",
       "2                                                  40.7          \n",
       "3                                                  30.9          \n",
       "4                                                  37.6          \n",
       "...                                                 ...          \n",
       "2033                                               31.4          \n",
       "2034                                               53.3          \n",
       "2035                                               43.7          \n",
       "2036                                               36.9          \n",
       "2037                                                 29          \n",
       "\n",
       "      Total; Estimate; SUMMARY INDICATORS - Sex ratio (males per 100 females)  \\\n",
       "0                                                  75.9                         \n",
       "1                                                  72.5                         \n",
       "2                                                  87.9                         \n",
       "3                                                  80.4                         \n",
       "4                                                    76                         \n",
       "...                                                 ...                         \n",
       "2033                                               78.5                         \n",
       "2034                                               87.5                         \n",
       "2035                                               96.5                         \n",
       "2036                                               95.5                         \n",
       "2037                                               80.4                         \n",
       "\n",
       "     Total; Estimate; SUMMARY INDICATORS - Age dependency ratio  \\\n",
       "0                                                    66           \n",
       "1                                                  87.8           \n",
       "2                                                  58.6           \n",
       "3                                                  44.2           \n",
       "4                                                    46           \n",
       "...                                                 ...           \n",
       "2033                                               53.9           \n",
       "2034                                               70.5           \n",
       "2035                                               67.7           \n",
       "2036                                                 33           \n",
       "2037                                                 49           \n",
       "\n",
       "     Total; Estimate; SUMMARY INDICATORS - Age dependency ratio - Old-age dependency ratio  \\\n",
       "0                                                    37                                      \n",
       "1                                                    32                                      \n",
       "2                                                  27.3                                      \n",
       "3                                                  14.3                                      \n",
       "4                                                   8.3                                      \n",
       "...                                                 ...                                      \n",
       "2033                                               13.5                                      \n",
       "2034                                               43.5                                      \n",
       "2035                                               36.5                                      \n",
       "2036                                               17.8                                      \n",
       "2037                                               12.1                                      \n",
       "\n",
       "      Total; Estimate; SUMMARY INDICATORS - Age dependency ratio - Child dependency ratio  \\\n",
       "0                                                    29                                     \n",
       "1                                                  55.8                                     \n",
       "2                                                  31.3                                     \n",
       "3                                                  29.9                                     \n",
       "4                                                  37.7                                     \n",
       "...                                                 ...                                     \n",
       "2033                                               40.4                                     \n",
       "2034                                                 27                                     \n",
       "2035                                               31.2                                     \n",
       "2036                                               15.2                                     \n",
       "2037                                               36.9                                     \n",
       "\n",
       "     Total; Estimate; PERCENT IMPUTED - Sex  \\\n",
       "0                                       0.0   \n",
       "1                                       0.0   \n",
       "2                                       0.0   \n",
       "3                                       0.4   \n",
       "4                                       1.0   \n",
       "...                                     ...   \n",
       "2033                                    0.0   \n",
       "2034                                    0.0   \n",
       "2035                                    0.0   \n",
       "2036                                    0.0   \n",
       "2037                                    0.0   \n",
       "\n",
       "     Total; Estimate; PERCENT IMPUTED - Age  \n",
       "0                                       1.5  \n",
       "1                                       1.4  \n",
       "2                                       2.0  \n",
       "3                                       4.3  \n",
       "4                                       0.0  \n",
       "...                                     ...  \n",
       "2033                                    2.7  \n",
       "2034                                    0.0  \n",
       "2035                                    1.8  \n",
       "2036                                    0.0  \n",
       "2037                                    2.9  \n",
       "\n",
       "[2038 rows x 104 columns]"
      ]
     },
     "execution_count": 3,
     "metadata": {},
     "output_type": "execute_result"
    }
   ],
   "source": [
    "# 2) Merge\n",
    "outCSVFile = \"DataFiles/FDNY/Seasonal2017_2018_Demographics.csv\"\n",
    "GEOID_COL = \"Geoid\"\n",
    "demoDF = demoDF.rename(columns={\"Id2\": GEOID_COL})\n",
    "mergedDF = pd.merge(seasonalDF, demoDF, on=[GEOID_COL], how='left') \n",
    "mergedDF.to_csv(outCSVFile, index=False)\n",
    "mergedDF\n",
    "    "
   ]
  },
  {
   "cell_type": "code",
   "execution_count": 4,
   "metadata": {},
   "outputs": [
    {
     "data": {
      "text/html": [
       "<div>\n",
       "<style scoped>\n",
       "    .dataframe tbody tr th:only-of-type {\n",
       "        vertical-align: middle;\n",
       "    }\n",
       "\n",
       "    .dataframe tbody tr th {\n",
       "        vertical-align: top;\n",
       "    }\n",
       "\n",
       "    .dataframe thead th {\n",
       "        text-align: right;\n",
       "    }\n",
       "</style>\n",
       "<table border=\"1\" class=\"dataframe\">\n",
       "  <thead>\n",
       "    <tr style=\"text-align: right;\">\n",
       "      <th></th>\n",
       "      <th>Spring</th>\n",
       "      <th>Summer</th>\n",
       "      <th>Autumn</th>\n",
       "      <th>Winter</th>\n",
       "      <th>ALL_SEASONS</th>\n",
       "      <th>Id</th>\n",
       "      <th>Geography</th>\n",
       "      <th>Total; Estimate; Total population</th>\n",
       "      <th>Male; Estimate; Total population</th>\n",
       "      <th>Female; Estimate; Total population</th>\n",
       "      <th>...</th>\n",
       "      <th>Female; Estimate; SELECTED AGE CATEGORIES - 75 years and over</th>\n",
       "      <th>Total; Estimate; SUMMARY INDICATORS - Median age (years)</th>\n",
       "      <th>Male; Estimate; SUMMARY INDICATORS - Median age (years)</th>\n",
       "      <th>Female; Estimate; SUMMARY INDICATORS - Median age (years)</th>\n",
       "      <th>Total; Estimate; SUMMARY INDICATORS - Sex ratio (males per 100 females)</th>\n",
       "      <th>Total; Estimate; SUMMARY INDICATORS - Age dependency ratio</th>\n",
       "      <th>Total; Estimate; SUMMARY INDICATORS - Age dependency ratio - Old-age dependency ratio</th>\n",
       "      <th>Total; Estimate; SUMMARY INDICATORS - Age dependency ratio - Child dependency ratio</th>\n",
       "      <th>Total; Estimate; PERCENT IMPUTED - Sex</th>\n",
       "      <th>Total; Estimate; PERCENT IMPUTED - Age</th>\n",
       "    </tr>\n",
       "    <tr>\n",
       "      <th>Geoid</th>\n",
       "      <th></th>\n",
       "      <th></th>\n",
       "      <th></th>\n",
       "      <th></th>\n",
       "      <th></th>\n",
       "      <th></th>\n",
       "      <th></th>\n",
       "      <th></th>\n",
       "      <th></th>\n",
       "      <th></th>\n",
       "      <th></th>\n",
       "      <th></th>\n",
       "      <th></th>\n",
       "      <th></th>\n",
       "      <th></th>\n",
       "      <th></th>\n",
       "      <th></th>\n",
       "      <th></th>\n",
       "      <th></th>\n",
       "      <th></th>\n",
       "      <th></th>\n",
       "    </tr>\n",
       "  </thead>\n",
       "  <tbody>\n",
       "    <tr>\n",
       "      <th>36005046201</th>\n",
       "      <td>77</td>\n",
       "      <td>97</td>\n",
       "      <td>99</td>\n",
       "      <td>77</td>\n",
       "      <td>350</td>\n",
       "      <td>1400000US36005046201</td>\n",
       "      <td>Census Tract 462.01, Bronx County, New York</td>\n",
       "      <td>25199.0</td>\n",
       "      <td>10870.0</td>\n",
       "      <td>14329.0</td>\n",
       "      <td>...</td>\n",
       "      <td>13.1</td>\n",
       "      <td>46.6</td>\n",
       "      <td>42.5</td>\n",
       "      <td>49.4</td>\n",
       "      <td>75.9</td>\n",
       "      <td>66</td>\n",
       "      <td>37</td>\n",
       "      <td>29</td>\n",
       "      <td>0.0</td>\n",
       "      <td>1.5</td>\n",
       "    </tr>\n",
       "    <tr>\n",
       "      <th>36047091000</th>\n",
       "      <td>37</td>\n",
       "      <td>62</td>\n",
       "      <td>71</td>\n",
       "      <td>51</td>\n",
       "      <td>221</td>\n",
       "      <td>1400000US36047091000</td>\n",
       "      <td>Census Tract 910, Kings County, New York</td>\n",
       "      <td>5368.0</td>\n",
       "      <td>2256.0</td>\n",
       "      <td>3112.0</td>\n",
       "      <td>...</td>\n",
       "      <td>9.8</td>\n",
       "      <td>27.4</td>\n",
       "      <td>23.1</td>\n",
       "      <td>36.8</td>\n",
       "      <td>72.5</td>\n",
       "      <td>87.8</td>\n",
       "      <td>32</td>\n",
       "      <td>55.8</td>\n",
       "      <td>0.0</td>\n",
       "      <td>1.4</td>\n",
       "    </tr>\n",
       "    <tr>\n",
       "      <th>36047089000</th>\n",
       "      <td>10</td>\n",
       "      <td>11</td>\n",
       "      <td>12</td>\n",
       "      <td>14</td>\n",
       "      <td>47</td>\n",
       "      <td>1400000US36047089000</td>\n",
       "      <td>Census Tract 890, Kings County, New York</td>\n",
       "      <td>6169.0</td>\n",
       "      <td>2885.0</td>\n",
       "      <td>3284.0</td>\n",
       "      <td>...</td>\n",
       "      <td>9.9</td>\n",
       "      <td>40</td>\n",
       "      <td>38.2</td>\n",
       "      <td>40.7</td>\n",
       "      <td>87.9</td>\n",
       "      <td>58.6</td>\n",
       "      <td>27.3</td>\n",
       "      <td>31.3</td>\n",
       "      <td>0.0</td>\n",
       "      <td>2.0</td>\n",
       "    </tr>\n",
       "    <tr>\n",
       "      <th>36081043701</th>\n",
       "      <td>1</td>\n",
       "      <td>2</td>\n",
       "      <td>1</td>\n",
       "      <td>5</td>\n",
       "      <td>9</td>\n",
       "      <td>1400000US36081043701</td>\n",
       "      <td>Census Tract 437.01, Queens County, New York</td>\n",
       "      <td>3095.0</td>\n",
       "      <td>1379.0</td>\n",
       "      <td>1716.0</td>\n",
       "      <td>...</td>\n",
       "      <td>8</td>\n",
       "      <td>32.8</td>\n",
       "      <td>36.3</td>\n",
       "      <td>30.9</td>\n",
       "      <td>80.4</td>\n",
       "      <td>44.2</td>\n",
       "      <td>14.3</td>\n",
       "      <td>29.9</td>\n",
       "      <td>0.4</td>\n",
       "      <td>4.3</td>\n",
       "    </tr>\n",
       "    <tr>\n",
       "      <th>36005022403</th>\n",
       "      <td>7</td>\n",
       "      <td>8</td>\n",
       "      <td>8</td>\n",
       "      <td>15</td>\n",
       "      <td>38</td>\n",
       "      <td>1400000US36005022403</td>\n",
       "      <td>Census Tract 224.03, Bronx County, New York</td>\n",
       "      <td>3302.0</td>\n",
       "      <td>1426.0</td>\n",
       "      <td>1876.0</td>\n",
       "      <td>...</td>\n",
       "      <td>4.8</td>\n",
       "      <td>33.1</td>\n",
       "      <td>26.5</td>\n",
       "      <td>37.6</td>\n",
       "      <td>76</td>\n",
       "      <td>46</td>\n",
       "      <td>8.3</td>\n",
       "      <td>37.7</td>\n",
       "      <td>1.0</td>\n",
       "      <td>0.0</td>\n",
       "    </tr>\n",
       "    <tr>\n",
       "      <th>...</th>\n",
       "      <td>...</td>\n",
       "      <td>...</td>\n",
       "      <td>...</td>\n",
       "      <td>...</td>\n",
       "      <td>...</td>\n",
       "      <td>...</td>\n",
       "      <td>...</td>\n",
       "      <td>...</td>\n",
       "      <td>...</td>\n",
       "      <td>...</td>\n",
       "      <td>...</td>\n",
       "      <td>...</td>\n",
       "      <td>...</td>\n",
       "      <td>...</td>\n",
       "      <td>...</td>\n",
       "      <td>...</td>\n",
       "      <td>...</td>\n",
       "      <td>...</td>\n",
       "      <td>...</td>\n",
       "      <td>...</td>\n",
       "      <td>...</td>\n",
       "    </tr>\n",
       "    <tr>\n",
       "      <th>36085022300</th>\n",
       "      <td>0</td>\n",
       "      <td>0</td>\n",
       "      <td>0</td>\n",
       "      <td>1</td>\n",
       "      <td>1</td>\n",
       "      <td>1400000US36085022300</td>\n",
       "      <td>Census Tract 223, Richmond County, New York</td>\n",
       "      <td>2747.0</td>\n",
       "      <td>1208.0</td>\n",
       "      <td>1539.0</td>\n",
       "      <td>...</td>\n",
       "      <td>5.7</td>\n",
       "      <td>32</td>\n",
       "      <td>32.7</td>\n",
       "      <td>31.4</td>\n",
       "      <td>78.5</td>\n",
       "      <td>53.9</td>\n",
       "      <td>13.5</td>\n",
       "      <td>40.4</td>\n",
       "      <td>0.0</td>\n",
       "      <td>2.7</td>\n",
       "    </tr>\n",
       "    <tr>\n",
       "      <th>36119010300</th>\n",
       "      <td>0</td>\n",
       "      <td>0</td>\n",
       "      <td>0</td>\n",
       "      <td>1</td>\n",
       "      <td>1</td>\n",
       "      <td>1400000US36119010300</td>\n",
       "      <td>Census Tract 103, Westchester County, New York</td>\n",
       "      <td>2903.0</td>\n",
       "      <td>1355.0</td>\n",
       "      <td>1548.0</td>\n",
       "      <td>...</td>\n",
       "      <td>21.1</td>\n",
       "      <td>51.3</td>\n",
       "      <td>48.1</td>\n",
       "      <td>53.3</td>\n",
       "      <td>87.5</td>\n",
       "      <td>70.5</td>\n",
       "      <td>43.5</td>\n",
       "      <td>27</td>\n",
       "      <td>0.0</td>\n",
       "      <td>0.0</td>\n",
       "    </tr>\n",
       "    <tr>\n",
       "      <th>36081120300</th>\n",
       "      <td>0</td>\n",
       "      <td>0</td>\n",
       "      <td>0</td>\n",
       "      <td>1</td>\n",
       "      <td>1</td>\n",
       "      <td>1400000US36081120300</td>\n",
       "      <td>Census Tract 1203, Queens County, New York</td>\n",
       "      <td>1576.0</td>\n",
       "      <td>774.0</td>\n",
       "      <td>802.0</td>\n",
       "      <td>...</td>\n",
       "      <td>8.1</td>\n",
       "      <td>42.2</td>\n",
       "      <td>38.5</td>\n",
       "      <td>43.7</td>\n",
       "      <td>96.5</td>\n",
       "      <td>67.7</td>\n",
       "      <td>36.5</td>\n",
       "      <td>31.2</td>\n",
       "      <td>0.0</td>\n",
       "      <td>1.8</td>\n",
       "    </tr>\n",
       "    <tr>\n",
       "      <th>36081077300</th>\n",
       "      <td>0</td>\n",
       "      <td>0</td>\n",
       "      <td>0</td>\n",
       "      <td>1</td>\n",
       "      <td>1</td>\n",
       "      <td>1400000US36081077300</td>\n",
       "      <td>Census Tract 773, Queens County, New York</td>\n",
       "      <td>2156.0</td>\n",
       "      <td>1053.0</td>\n",
       "      <td>1103.0</td>\n",
       "      <td>...</td>\n",
       "      <td>8</td>\n",
       "      <td>43.5</td>\n",
       "      <td>48</td>\n",
       "      <td>36.9</td>\n",
       "      <td>95.5</td>\n",
       "      <td>33</td>\n",
       "      <td>17.8</td>\n",
       "      <td>15.2</td>\n",
       "      <td>0.0</td>\n",
       "      <td>0.0</td>\n",
       "    </tr>\n",
       "    <tr>\n",
       "      <th>36047052800</th>\n",
       "      <td>0</td>\n",
       "      <td>0</td>\n",
       "      <td>0</td>\n",
       "      <td>1</td>\n",
       "      <td>1</td>\n",
       "      <td>1400000US36047052800</td>\n",
       "      <td>Census Tract 528, Kings County, New York</td>\n",
       "      <td>1927.0</td>\n",
       "      <td>859.0</td>\n",
       "      <td>1068.0</td>\n",
       "      <td>...</td>\n",
       "      <td>2.7</td>\n",
       "      <td>34.5</td>\n",
       "      <td>42.7</td>\n",
       "      <td>29</td>\n",
       "      <td>80.4</td>\n",
       "      <td>49</td>\n",
       "      <td>12.1</td>\n",
       "      <td>36.9</td>\n",
       "      <td>0.0</td>\n",
       "      <td>2.9</td>\n",
       "    </tr>\n",
       "  </tbody>\n",
       "</table>\n",
       "<p>2038 rows × 103 columns</p>\n",
       "</div>"
      ],
      "text/plain": [
       "             Spring  Summer  Autumn  Winter  ALL_SEASONS  \\\n",
       "Geoid                                                      \n",
       "36005046201      77      97      99      77          350   \n",
       "36047091000      37      62      71      51          221   \n",
       "36047089000      10      11      12      14           47   \n",
       "36081043701       1       2       1       5            9   \n",
       "36005022403       7       8       8      15           38   \n",
       "...             ...     ...     ...     ...          ...   \n",
       "36085022300       0       0       0       1            1   \n",
       "36119010300       0       0       0       1            1   \n",
       "36081120300       0       0       0       1            1   \n",
       "36081077300       0       0       0       1            1   \n",
       "36047052800       0       0       0       1            1   \n",
       "\n",
       "                               Id  \\\n",
       "Geoid                               \n",
       "36005046201  1400000US36005046201   \n",
       "36047091000  1400000US36047091000   \n",
       "36047089000  1400000US36047089000   \n",
       "36081043701  1400000US36081043701   \n",
       "36005022403  1400000US36005022403   \n",
       "...                           ...   \n",
       "36085022300  1400000US36085022300   \n",
       "36119010300  1400000US36119010300   \n",
       "36081120300  1400000US36081120300   \n",
       "36081077300  1400000US36081077300   \n",
       "36047052800  1400000US36047052800   \n",
       "\n",
       "                                                  Geography  \\\n",
       "Geoid                                                         \n",
       "36005046201     Census Tract 462.01, Bronx County, New York   \n",
       "36047091000        Census Tract 910, Kings County, New York   \n",
       "36047089000        Census Tract 890, Kings County, New York   \n",
       "36081043701    Census Tract 437.01, Queens County, New York   \n",
       "36005022403     Census Tract 224.03, Bronx County, New York   \n",
       "...                                                     ...   \n",
       "36085022300     Census Tract 223, Richmond County, New York   \n",
       "36119010300  Census Tract 103, Westchester County, New York   \n",
       "36081120300      Census Tract 1203, Queens County, New York   \n",
       "36081077300       Census Tract 773, Queens County, New York   \n",
       "36047052800        Census Tract 528, Kings County, New York   \n",
       "\n",
       "             Total; Estimate; Total population  \\\n",
       "Geoid                                            \n",
       "36005046201                            25199.0   \n",
       "36047091000                             5368.0   \n",
       "36047089000                             6169.0   \n",
       "36081043701                             3095.0   \n",
       "36005022403                             3302.0   \n",
       "...                                        ...   \n",
       "36085022300                             2747.0   \n",
       "36119010300                             2903.0   \n",
       "36081120300                             1576.0   \n",
       "36081077300                             2156.0   \n",
       "36047052800                             1927.0   \n",
       "\n",
       "             Male; Estimate; Total population  \\\n",
       "Geoid                                           \n",
       "36005046201                           10870.0   \n",
       "36047091000                            2256.0   \n",
       "36047089000                            2885.0   \n",
       "36081043701                            1379.0   \n",
       "36005022403                            1426.0   \n",
       "...                                       ...   \n",
       "36085022300                            1208.0   \n",
       "36119010300                            1355.0   \n",
       "36081120300                             774.0   \n",
       "36081077300                            1053.0   \n",
       "36047052800                             859.0   \n",
       "\n",
       "             Female; Estimate; Total population  ...  \\\n",
       "Geoid                                            ...   \n",
       "36005046201                             14329.0  ...   \n",
       "36047091000                              3112.0  ...   \n",
       "36047089000                              3284.0  ...   \n",
       "36081043701                              1716.0  ...   \n",
       "36005022403                              1876.0  ...   \n",
       "...                                         ...  ...   \n",
       "36085022300                              1539.0  ...   \n",
       "36119010300                              1548.0  ...   \n",
       "36081120300                               802.0  ...   \n",
       "36081077300                              1103.0  ...   \n",
       "36047052800                              1068.0  ...   \n",
       "\n",
       "             Female; Estimate; SELECTED AGE CATEGORIES - 75 years and over  \\\n",
       "Geoid                                                                        \n",
       "36005046201                                               13.1               \n",
       "36047091000                                                9.8               \n",
       "36047089000                                                9.9               \n",
       "36081043701                                                  8               \n",
       "36005022403                                                4.8               \n",
       "...                                                        ...               \n",
       "36085022300                                                5.7               \n",
       "36119010300                                               21.1               \n",
       "36081120300                                                8.1               \n",
       "36081077300                                                  8               \n",
       "36047052800                                                2.7               \n",
       "\n",
       "            Total; Estimate; SUMMARY INDICATORS - Median age (years)  \\\n",
       "Geoid                                                                  \n",
       "36005046201                                               46.6         \n",
       "36047091000                                               27.4         \n",
       "36047089000                                                 40         \n",
       "36081043701                                               32.8         \n",
       "36005022403                                               33.1         \n",
       "...                                                        ...         \n",
       "36085022300                                                 32         \n",
       "36119010300                                               51.3         \n",
       "36081120300                                               42.2         \n",
       "36081077300                                               43.5         \n",
       "36047052800                                               34.5         \n",
       "\n",
       "            Male; Estimate; SUMMARY INDICATORS - Median age (years)  \\\n",
       "Geoid                                                                 \n",
       "36005046201                                               42.5        \n",
       "36047091000                                               23.1        \n",
       "36047089000                                               38.2        \n",
       "36081043701                                               36.3        \n",
       "36005022403                                               26.5        \n",
       "...                                                        ...        \n",
       "36085022300                                               32.7        \n",
       "36119010300                                               48.1        \n",
       "36081120300                                               38.5        \n",
       "36081077300                                                 48        \n",
       "36047052800                                               42.7        \n",
       "\n",
       "             Female; Estimate; SUMMARY INDICATORS - Median age (years)  \\\n",
       "Geoid                                                                    \n",
       "36005046201                                               49.4           \n",
       "36047091000                                               36.8           \n",
       "36047089000                                               40.7           \n",
       "36081043701                                               30.9           \n",
       "36005022403                                               37.6           \n",
       "...                                                        ...           \n",
       "36085022300                                               31.4           \n",
       "36119010300                                               53.3           \n",
       "36081120300                                               43.7           \n",
       "36081077300                                               36.9           \n",
       "36047052800                                                 29           \n",
       "\n",
       "            Total; Estimate; SUMMARY INDICATORS - Sex ratio (males per 100 females)  \\\n",
       "Geoid                                                                                 \n",
       "36005046201                                               75.9                        \n",
       "36047091000                                               72.5                        \n",
       "36047089000                                               87.9                        \n",
       "36081043701                                               80.4                        \n",
       "36005022403                                                 76                        \n",
       "...                                                        ...                        \n",
       "36085022300                                               78.5                        \n",
       "36119010300                                               87.5                        \n",
       "36081120300                                               96.5                        \n",
       "36081077300                                               95.5                        \n",
       "36047052800                                               80.4                        \n",
       "\n",
       "            Total; Estimate; SUMMARY INDICATORS - Age dependency ratio  \\\n",
       "Geoid                                                                    \n",
       "36005046201                                                 66           \n",
       "36047091000                                               87.8           \n",
       "36047089000                                               58.6           \n",
       "36081043701                                               44.2           \n",
       "36005022403                                                 46           \n",
       "...                                                        ...           \n",
       "36085022300                                               53.9           \n",
       "36119010300                                               70.5           \n",
       "36081120300                                               67.7           \n",
       "36081077300                                                 33           \n",
       "36047052800                                                 49           \n",
       "\n",
       "             Total; Estimate; SUMMARY INDICATORS - Age dependency ratio - Old-age dependency ratio  \\\n",
       "Geoid                                                                                                \n",
       "36005046201                                                 37                                       \n",
       "36047091000                                                 32                                       \n",
       "36047089000                                               27.3                                       \n",
       "36081043701                                               14.3                                       \n",
       "36005022403                                                8.3                                       \n",
       "...                                                        ...                                       \n",
       "36085022300                                               13.5                                       \n",
       "36119010300                                               43.5                                       \n",
       "36081120300                                               36.5                                       \n",
       "36081077300                                               17.8                                       \n",
       "36047052800                                               12.1                                       \n",
       "\n",
       "            Total; Estimate; SUMMARY INDICATORS - Age dependency ratio - Child dependency ratio  \\\n",
       "Geoid                                                                                             \n",
       "36005046201                                                 29                                    \n",
       "36047091000                                               55.8                                    \n",
       "36047089000                                               31.3                                    \n",
       "36081043701                                               29.9                                    \n",
       "36005022403                                               37.7                                    \n",
       "...                                                        ...                                    \n",
       "36085022300                                               40.4                                    \n",
       "36119010300                                                 27                                    \n",
       "36081120300                                               31.2                                    \n",
       "36081077300                                               15.2                                    \n",
       "36047052800                                               36.9                                    \n",
       "\n",
       "            Total; Estimate; PERCENT IMPUTED - Sex  \\\n",
       "Geoid                                                \n",
       "36005046201                                    0.0   \n",
       "36047091000                                    0.0   \n",
       "36047089000                                    0.0   \n",
       "36081043701                                    0.4   \n",
       "36005022403                                    1.0   \n",
       "...                                            ...   \n",
       "36085022300                                    0.0   \n",
       "36119010300                                    0.0   \n",
       "36081120300                                    0.0   \n",
       "36081077300                                    0.0   \n",
       "36047052800                                    0.0   \n",
       "\n",
       "             Total; Estimate; PERCENT IMPUTED - Age  \n",
       "Geoid                                                \n",
       "36005046201                                     1.5  \n",
       "36047091000                                     1.4  \n",
       "36047089000                                     2.0  \n",
       "36081043701                                     4.3  \n",
       "36005022403                                     0.0  \n",
       "...                                             ...  \n",
       "36085022300                                     2.7  \n",
       "36119010300                                     0.0  \n",
       "36081120300                                     1.8  \n",
       "36081077300                                     0.0  \n",
       "36047052800                                     2.9  \n",
       "\n",
       "[2038 rows x 103 columns]"
      ]
     },
     "execution_count": 4,
     "metadata": {},
     "output_type": "execute_result"
    }
   ],
   "source": [
    "# 3) Get the DATA:\n",
    "out2CSVFILE = \"DataFiles/FDNY/Seasonal2017_2018_Demographic_Correlation.csv\"\n",
    "seasonalDemoCSV = \"DataFiles/FDNY/Seasonal2017_2018_Demographics.csv\"\n",
    "seasonalDemoDF = pd.read_csv(seasonalDemoCSV)\n",
    "seasonalDemoDF.set_index(GEOID_COL, inplace=True)     # setting index for correlation\n",
    "seasonalDemoDF"
   ]
  },
  {
   "cell_type": "code",
   "execution_count": 5,
   "metadata": {},
   "outputs": [
    {
     "data": {
      "text/html": [
       "<div>\n",
       "<style scoped>\n",
       "    .dataframe tbody tr th:only-of-type {\n",
       "        vertical-align: middle;\n",
       "    }\n",
       "\n",
       "    .dataframe tbody tr th {\n",
       "        vertical-align: top;\n",
       "    }\n",
       "\n",
       "    .dataframe thead th {\n",
       "        text-align: right;\n",
       "    }\n",
       "</style>\n",
       "<table border=\"1\" class=\"dataframe\">\n",
       "  <thead>\n",
       "    <tr style=\"text-align: right;\">\n",
       "      <th></th>\n",
       "      <th>DemographicVariable</th>\n",
       "      <th>Spring</th>\n",
       "      <th>Summer</th>\n",
       "      <th>Autumn</th>\n",
       "      <th>Winter</th>\n",
       "      <th>ALL_SEASONS</th>\n",
       "      <th>Total; Estimate; Total population</th>\n",
       "      <th>Male; Estimate; Total population</th>\n",
       "      <th>Female; Estimate; Total population</th>\n",
       "      <th>Total; Estimate; AGE - Under 5 years</th>\n",
       "      <th>...</th>\n",
       "      <th>Total; Estimate; SELECTED AGE CATEGORIES - 18 to 24 years</th>\n",
       "      <th>Total; Estimate; SELECTED AGE CATEGORIES - 15 to 44 years</th>\n",
       "      <th>Total; Estimate; SELECTED AGE CATEGORIES - 16 years and over</th>\n",
       "      <th>Total; Estimate; SELECTED AGE CATEGORIES - 18 years and over</th>\n",
       "      <th>Total; Estimate; SELECTED AGE CATEGORIES - 60 years and over</th>\n",
       "      <th>Total; Estimate; SELECTED AGE CATEGORIES - 62 years and over</th>\n",
       "      <th>Total; Estimate; SELECTED AGE CATEGORIES - 65 years and over</th>\n",
       "      <th>Total; Estimate; SELECTED AGE CATEGORIES - 75 years and over</th>\n",
       "      <th>Total; Estimate; PERCENT IMPUTED - Sex</th>\n",
       "      <th>Total; Estimate; PERCENT IMPUTED - Age</th>\n",
       "    </tr>\n",
       "  </thead>\n",
       "  <tbody>\n",
       "    <tr>\n",
       "      <th>0</th>\n",
       "      <td>Spring</td>\n",
       "      <td>1.000000</td>\n",
       "      <td>0.957722</td>\n",
       "      <td>0.949022</td>\n",
       "      <td>0.965303</td>\n",
       "      <td>0.983284</td>\n",
       "      <td>0.216933</td>\n",
       "      <td>0.198142</td>\n",
       "      <td>0.227015</td>\n",
       "      <td>-0.013307</td>\n",
       "      <td>...</td>\n",
       "      <td>0.015374</td>\n",
       "      <td>0.028712</td>\n",
       "      <td>0.012844</td>\n",
       "      <td>0.007774</td>\n",
       "      <td>0.003281</td>\n",
       "      <td>0.011397</td>\n",
       "      <td>0.015470</td>\n",
       "      <td>0.003816</td>\n",
       "      <td>-0.017754</td>\n",
       "      <td>-0.047432</td>\n",
       "    </tr>\n",
       "    <tr>\n",
       "      <th>1</th>\n",
       "      <td>Summer</td>\n",
       "      <td>0.957722</td>\n",
       "      <td>1.000000</td>\n",
       "      <td>0.965126</td>\n",
       "      <td>0.953016</td>\n",
       "      <td>0.984459</td>\n",
       "      <td>0.247099</td>\n",
       "      <td>0.224532</td>\n",
       "      <td>0.259586</td>\n",
       "      <td>-0.016219</td>\n",
       "      <td>...</td>\n",
       "      <td>0.012030</td>\n",
       "      <td>0.026874</td>\n",
       "      <td>0.010059</td>\n",
       "      <td>0.003951</td>\n",
       "      <td>0.001853</td>\n",
       "      <td>0.011807</td>\n",
       "      <td>0.015897</td>\n",
       "      <td>-0.001230</td>\n",
       "      <td>-0.026058</td>\n",
       "      <td>-0.048760</td>\n",
       "    </tr>\n",
       "    <tr>\n",
       "      <th>2</th>\n",
       "      <td>Autumn</td>\n",
       "      <td>0.949022</td>\n",
       "      <td>0.965126</td>\n",
       "      <td>1.000000</td>\n",
       "      <td>0.952330</td>\n",
       "      <td>0.983104</td>\n",
       "      <td>0.244593</td>\n",
       "      <td>0.219954</td>\n",
       "      <td>0.258936</td>\n",
       "      <td>-0.010980</td>\n",
       "      <td>...</td>\n",
       "      <td>0.017362</td>\n",
       "      <td>0.031097</td>\n",
       "      <td>-0.000675</td>\n",
       "      <td>-0.008487</td>\n",
       "      <td>-0.005144</td>\n",
       "      <td>0.004701</td>\n",
       "      <td>0.008953</td>\n",
       "      <td>-0.001496</td>\n",
       "      <td>-0.025863</td>\n",
       "      <td>-0.050499</td>\n",
       "    </tr>\n",
       "    <tr>\n",
       "      <th>3</th>\n",
       "      <td>Winter</td>\n",
       "      <td>0.965303</td>\n",
       "      <td>0.953016</td>\n",
       "      <td>0.952330</td>\n",
       "      <td>1.000000</td>\n",
       "      <td>0.984188</td>\n",
       "      <td>0.196398</td>\n",
       "      <td>0.178879</td>\n",
       "      <td>0.205962</td>\n",
       "      <td>-0.008463</td>\n",
       "      <td>...</td>\n",
       "      <td>0.008419</td>\n",
       "      <td>0.009392</td>\n",
       "      <td>-0.006498</td>\n",
       "      <td>-0.014160</td>\n",
       "      <td>0.004343</td>\n",
       "      <td>0.013984</td>\n",
       "      <td>0.016823</td>\n",
       "      <td>0.006863</td>\n",
       "      <td>-0.020722</td>\n",
       "      <td>-0.043193</td>\n",
       "    </tr>\n",
       "    <tr>\n",
       "      <th>4</th>\n",
       "      <td>ALL_SEASONS</td>\n",
       "      <td>0.983284</td>\n",
       "      <td>0.984459</td>\n",
       "      <td>0.983104</td>\n",
       "      <td>0.984188</td>\n",
       "      <td>1.000000</td>\n",
       "      <td>0.229609</td>\n",
       "      <td>0.208380</td>\n",
       "      <td>0.241436</td>\n",
       "      <td>-0.012297</td>\n",
       "      <td>...</td>\n",
       "      <td>0.013468</td>\n",
       "      <td>0.024149</td>\n",
       "      <td>0.003539</td>\n",
       "      <td>-0.003299</td>\n",
       "      <td>0.001026</td>\n",
       "      <td>0.010594</td>\n",
       "      <td>0.014451</td>\n",
       "      <td>0.002064</td>\n",
       "      <td>-0.023020</td>\n",
       "      <td>-0.048202</td>\n",
       "    </tr>\n",
       "    <tr>\n",
       "      <th>5</th>\n",
       "      <td>Total; Estimate; Total population</td>\n",
       "      <td>0.216933</td>\n",
       "      <td>0.247099</td>\n",
       "      <td>0.244593</td>\n",
       "      <td>0.196398</td>\n",
       "      <td>0.229609</td>\n",
       "      <td>1.000000</td>\n",
       "      <td>0.982422</td>\n",
       "      <td>0.986973</td>\n",
       "      <td>0.050716</td>\n",
       "      <td>...</td>\n",
       "      <td>0.021554</td>\n",
       "      <td>0.092418</td>\n",
       "      <td>-0.010014</td>\n",
       "      <td>-0.002616</td>\n",
       "      <td>-0.054851</td>\n",
       "      <td>-0.052964</td>\n",
       "      <td>-0.050386</td>\n",
       "      <td>-0.035540</td>\n",
       "      <td>-0.003433</td>\n",
       "      <td>-0.042484</td>\n",
       "    </tr>\n",
       "    <tr>\n",
       "      <th>6</th>\n",
       "      <td>Male; Estimate; Total population</td>\n",
       "      <td>0.198142</td>\n",
       "      <td>0.224532</td>\n",
       "      <td>0.219954</td>\n",
       "      <td>0.178879</td>\n",
       "      <td>0.208380</td>\n",
       "      <td>0.982422</td>\n",
       "      <td>1.000000</td>\n",
       "      <td>0.939592</td>\n",
       "      <td>0.054589</td>\n",
       "      <td>...</td>\n",
       "      <td>0.016687</td>\n",
       "      <td>0.123966</td>\n",
       "      <td>-0.001408</td>\n",
       "      <td>0.008587</td>\n",
       "      <td>-0.085669</td>\n",
       "      <td>-0.083932</td>\n",
       "      <td>-0.080252</td>\n",
       "      <td>-0.062225</td>\n",
       "      <td>-0.000350</td>\n",
       "      <td>-0.027367</td>\n",
       "    </tr>\n",
       "    <tr>\n",
       "      <th>7</th>\n",
       "      <td>Female; Estimate; Total population</td>\n",
       "      <td>0.227015</td>\n",
       "      <td>0.259586</td>\n",
       "      <td>0.258936</td>\n",
       "      <td>0.205962</td>\n",
       "      <td>0.241436</td>\n",
       "      <td>0.986973</td>\n",
       "      <td>0.939592</td>\n",
       "      <td>1.000000</td>\n",
       "      <td>0.045949</td>\n",
       "      <td>...</td>\n",
       "      <td>0.025140</td>\n",
       "      <td>0.062625</td>\n",
       "      <td>-0.017148</td>\n",
       "      <td>-0.012197</td>\n",
       "      <td>-0.026745</td>\n",
       "      <td>-0.024783</td>\n",
       "      <td>-0.023226</td>\n",
       "      <td>-0.011541</td>\n",
       "      <td>-0.005993</td>\n",
       "      <td>-0.054314</td>\n",
       "    </tr>\n",
       "    <tr>\n",
       "      <th>8</th>\n",
       "      <td>Total; Estimate; AGE - Under 5 years</td>\n",
       "      <td>-0.013307</td>\n",
       "      <td>-0.016219</td>\n",
       "      <td>-0.010980</td>\n",
       "      <td>-0.008463</td>\n",
       "      <td>-0.012297</td>\n",
       "      <td>0.050716</td>\n",
       "      <td>0.054589</td>\n",
       "      <td>0.045949</td>\n",
       "      <td>1.000000</td>\n",
       "      <td>...</td>\n",
       "      <td>-0.012687</td>\n",
       "      <td>-0.060862</td>\n",
       "      <td>-0.730569</td>\n",
       "      <td>-0.683755</td>\n",
       "      <td>-0.373132</td>\n",
       "      <td>-0.362443</td>\n",
       "      <td>-0.331034</td>\n",
       "      <td>-0.258752</td>\n",
       "      <td>0.021341</td>\n",
       "      <td>-0.006012</td>\n",
       "    </tr>\n",
       "    <tr>\n",
       "      <th>9</th>\n",
       "      <td>Total; Estimate; AGE - 5 to 9 years</td>\n",
       "      <td>-0.017170</td>\n",
       "      <td>-0.018095</td>\n",
       "      <td>-0.004669</td>\n",
       "      <td>0.000512</td>\n",
       "      <td>-0.009553</td>\n",
       "      <td>0.002445</td>\n",
       "      <td>-0.006394</td>\n",
       "      <td>0.009994</td>\n",
       "      <td>0.439522</td>\n",
       "      <td>...</td>\n",
       "      <td>-0.020248</td>\n",
       "      <td>-0.219192</td>\n",
       "      <td>-0.803064</td>\n",
       "      <td>-0.785532</td>\n",
       "      <td>-0.321797</td>\n",
       "      <td>-0.315827</td>\n",
       "      <td>-0.294604</td>\n",
       "      <td>-0.249731</td>\n",
       "      <td>0.023424</td>\n",
       "      <td>-0.042308</td>\n",
       "    </tr>\n",
       "    <tr>\n",
       "      <th>10</th>\n",
       "      <td>Total; Estimate; AGE - 10 to 14 years</td>\n",
       "      <td>-0.003143</td>\n",
       "      <td>0.006755</td>\n",
       "      <td>0.012291</td>\n",
       "      <td>0.019795</td>\n",
       "      <td>0.009525</td>\n",
       "      <td>-0.018812</td>\n",
       "      <td>-0.032553</td>\n",
       "      <td>-0.006440</td>\n",
       "      <td>0.281099</td>\n",
       "      <td>...</td>\n",
       "      <td>-0.030973</td>\n",
       "      <td>-0.255501</td>\n",
       "      <td>-0.756907</td>\n",
       "      <td>-0.752140</td>\n",
       "      <td>-0.303321</td>\n",
       "      <td>-0.295307</td>\n",
       "      <td>-0.272274</td>\n",
       "      <td>-0.235915</td>\n",
       "      <td>0.056725</td>\n",
       "      <td>-0.038418</td>\n",
       "    </tr>\n",
       "    <tr>\n",
       "      <th>11</th>\n",
       "      <td>Total; Estimate; AGE - 15 to 19 years</td>\n",
       "      <td>0.009870</td>\n",
       "      <td>0.011823</td>\n",
       "      <td>0.021794</td>\n",
       "      <td>0.024623</td>\n",
       "      <td>0.017679</td>\n",
       "      <td>-0.024491</td>\n",
       "      <td>-0.044910</td>\n",
       "      <td>-0.006202</td>\n",
       "      <td>0.107796</td>\n",
       "      <td>...</td>\n",
       "      <td>0.501772</td>\n",
       "      <td>0.114265</td>\n",
       "      <td>-0.322905</td>\n",
       "      <td>-0.454643</td>\n",
       "      <td>-0.261541</td>\n",
       "      <td>-0.244188</td>\n",
       "      <td>-0.261661</td>\n",
       "      <td>-0.229422</td>\n",
       "      <td>0.006754</td>\n",
       "      <td>-0.000361</td>\n",
       "    </tr>\n",
       "    <tr>\n",
       "      <th>12</th>\n",
       "      <td>Total; Estimate; AGE - 20 to 24 years</td>\n",
       "      <td>0.021246</td>\n",
       "      <td>0.018010</td>\n",
       "      <td>0.022953</td>\n",
       "      <td>0.008646</td>\n",
       "      <td>0.017860</td>\n",
       "      <td>0.031504</td>\n",
       "      <td>0.035676</td>\n",
       "      <td>0.027022</td>\n",
       "      <td>-0.021048</td>\n",
       "      <td>...</td>\n",
       "      <td>0.880008</td>\n",
       "      <td>0.510670</td>\n",
       "      <td>0.075221</td>\n",
       "      <td>0.073977</td>\n",
       "      <td>-0.354735</td>\n",
       "      <td>-0.341430</td>\n",
       "      <td>-0.319359</td>\n",
       "      <td>-0.266685</td>\n",
       "      <td>-0.030859</td>\n",
       "      <td>0.011716</td>\n",
       "    </tr>\n",
       "    <tr>\n",
       "      <th>13</th>\n",
       "      <td>Total; Estimate; AGE - 25 to 29 years</td>\n",
       "      <td>0.029232</td>\n",
       "      <td>0.030264</td>\n",
       "      <td>0.031875</td>\n",
       "      <td>0.008359</td>\n",
       "      <td>0.025020</td>\n",
       "      <td>0.067042</td>\n",
       "      <td>0.095662</td>\n",
       "      <td>0.040488</td>\n",
       "      <td>-0.097684</td>\n",
       "      <td>...</td>\n",
       "      <td>0.059140</td>\n",
       "      <td>0.651958</td>\n",
       "      <td>0.341445</td>\n",
       "      <td>0.379354</td>\n",
       "      <td>-0.286011</td>\n",
       "      <td>-0.276970</td>\n",
       "      <td>-0.275403</td>\n",
       "      <td>-0.226325</td>\n",
       "      <td>-0.033221</td>\n",
       "      <td>0.051912</td>\n",
       "    </tr>\n",
       "    <tr>\n",
       "      <th>14</th>\n",
       "      <td>Total; Estimate; AGE - 30 to 34 years</td>\n",
       "      <td>0.015054</td>\n",
       "      <td>0.010584</td>\n",
       "      <td>0.009158</td>\n",
       "      <td>-0.000382</td>\n",
       "      <td>0.008470</td>\n",
       "      <td>0.080953</td>\n",
       "      <td>0.108763</td>\n",
       "      <td>0.054704</td>\n",
       "      <td>-0.014949</td>\n",
       "      <td>...</td>\n",
       "      <td>-0.098234</td>\n",
       "      <td>0.580152</td>\n",
       "      <td>0.256971</td>\n",
       "      <td>0.300239</td>\n",
       "      <td>-0.293942</td>\n",
       "      <td>-0.291987</td>\n",
       "      <td>-0.284197</td>\n",
       "      <td>-0.227133</td>\n",
       "      <td>-0.026157</td>\n",
       "      <td>0.028950</td>\n",
       "    </tr>\n",
       "    <tr>\n",
       "      <th>15</th>\n",
       "      <td>Total; Estimate; AGE - 35 to 39 years</td>\n",
       "      <td>0.002048</td>\n",
       "      <td>-0.003831</td>\n",
       "      <td>-0.006263</td>\n",
       "      <td>-0.011318</td>\n",
       "      <td>-0.005175</td>\n",
       "      <td>0.068025</td>\n",
       "      <td>0.095769</td>\n",
       "      <td>0.042198</td>\n",
       "      <td>-0.044461</td>\n",
       "      <td>...</td>\n",
       "      <td>-0.150431</td>\n",
       "      <td>0.372786</td>\n",
       "      <td>0.147923</td>\n",
       "      <td>0.185800</td>\n",
       "      <td>-0.208236</td>\n",
       "      <td>-0.214554</td>\n",
       "      <td>-0.206020</td>\n",
       "      <td>-0.161434</td>\n",
       "      <td>0.008159</td>\n",
       "      <td>0.005852</td>\n",
       "    </tr>\n",
       "    <tr>\n",
       "      <th>16</th>\n",
       "      <td>Total; Estimate; AGE - 40 to 44 years</td>\n",
       "      <td>-0.018993</td>\n",
       "      <td>-0.012283</td>\n",
       "      <td>-0.017805</td>\n",
       "      <td>-0.016674</td>\n",
       "      <td>-0.016738</td>\n",
       "      <td>0.007609</td>\n",
       "      <td>0.023079</td>\n",
       "      <td>-0.005939</td>\n",
       "      <td>-0.102925</td>\n",
       "      <td>...</td>\n",
       "      <td>-0.137296</td>\n",
       "      <td>0.195270</td>\n",
       "      <td>0.046637</td>\n",
       "      <td>0.047639</td>\n",
       "      <td>-0.163240</td>\n",
       "      <td>-0.169006</td>\n",
       "      <td>-0.158459</td>\n",
       "      <td>-0.167704</td>\n",
       "      <td>-0.012909</td>\n",
       "      <td>0.054539</td>\n",
       "    </tr>\n",
       "    <tr>\n",
       "      <th>17</th>\n",
       "      <td>Total; Estimate; AGE - 45 to 49 years</td>\n",
       "      <td>0.001484</td>\n",
       "      <td>0.004133</td>\n",
       "      <td>0.002060</td>\n",
       "      <td>0.009904</td>\n",
       "      <td>0.004580</td>\n",
       "      <td>-0.086483</td>\n",
       "      <td>-0.083449</td>\n",
       "      <td>-0.086662</td>\n",
       "      <td>-0.168586</td>\n",
       "      <td>...</td>\n",
       "      <td>-0.126708</td>\n",
       "      <td>-0.202085</td>\n",
       "      <td>0.068975</td>\n",
       "      <td>0.047961</td>\n",
       "      <td>-0.061356</td>\n",
       "      <td>-0.063812</td>\n",
       "      <td>-0.057572</td>\n",
       "      <td>-0.050640</td>\n",
       "      <td>-0.010558</td>\n",
       "      <td>0.006660</td>\n",
       "    </tr>\n",
       "    <tr>\n",
       "      <th>18</th>\n",
       "      <td>Total; Estimate; AGE - 50 to 54 years</td>\n",
       "      <td>-0.037284</td>\n",
       "      <td>-0.035765</td>\n",
       "      <td>-0.046435</td>\n",
       "      <td>-0.032877</td>\n",
       "      <td>-0.038780</td>\n",
       "      <td>-0.056175</td>\n",
       "      <td>-0.053156</td>\n",
       "      <td>-0.057194</td>\n",
       "      <td>-0.197836</td>\n",
       "      <td>...</td>\n",
       "      <td>-0.160857</td>\n",
       "      <td>-0.310880</td>\n",
       "      <td>0.161507</td>\n",
       "      <td>0.158585</td>\n",
       "      <td>0.098982</td>\n",
       "      <td>0.086512</td>\n",
       "      <td>0.080780</td>\n",
       "      <td>0.075880</td>\n",
       "      <td>-0.003098</td>\n",
       "      <td>0.013696</td>\n",
       "    </tr>\n",
       "    <tr>\n",
       "      <th>19</th>\n",
       "      <td>Total; Estimate; AGE - 55 to 59 years</td>\n",
       "      <td>-0.033639</td>\n",
       "      <td>-0.034535</td>\n",
       "      <td>-0.041916</td>\n",
       "      <td>-0.035642</td>\n",
       "      <td>-0.037159</td>\n",
       "      <td>-0.039719</td>\n",
       "      <td>-0.038801</td>\n",
       "      <td>-0.039392</td>\n",
       "      <td>-0.238959</td>\n",
       "      <td>...</td>\n",
       "      <td>-0.206800</td>\n",
       "      <td>-0.336328</td>\n",
       "      <td>0.267178</td>\n",
       "      <td>0.279468</td>\n",
       "      <td>0.235247</td>\n",
       "      <td>0.215917</td>\n",
       "      <td>0.189214</td>\n",
       "      <td>0.118496</td>\n",
       "      <td>0.003634</td>\n",
       "      <td>-0.020459</td>\n",
       "    </tr>\n",
       "    <tr>\n",
       "      <th>20</th>\n",
       "      <td>Total; Estimate; AGE - 60 to 64 years</td>\n",
       "      <td>-0.033513</td>\n",
       "      <td>-0.039331</td>\n",
       "      <td>-0.042252</td>\n",
       "      <td>-0.034149</td>\n",
       "      <td>-0.037974</td>\n",
       "      <td>-0.032593</td>\n",
       "      <td>-0.046568</td>\n",
       "      <td>-0.019631</td>\n",
       "      <td>-0.256166</td>\n",
       "      <td>...</td>\n",
       "      <td>-0.255861</td>\n",
       "      <td>-0.310128</td>\n",
       "      <td>0.281300</td>\n",
       "      <td>0.230711</td>\n",
       "      <td>0.500776</td>\n",
       "      <td>0.403440</td>\n",
       "      <td>0.213734</td>\n",
       "      <td>0.190828</td>\n",
       "      <td>-0.000987</td>\n",
       "      <td>-0.035426</td>\n",
       "    </tr>\n",
       "    <tr>\n",
       "      <th>21</th>\n",
       "      <td>Total; Estimate; AGE - 65 to 69 years</td>\n",
       "      <td>0.001299</td>\n",
       "      <td>0.003511</td>\n",
       "      <td>0.003350</td>\n",
       "      <td>0.004382</td>\n",
       "      <td>0.003236</td>\n",
       "      <td>-0.035940</td>\n",
       "      <td>-0.055565</td>\n",
       "      <td>-0.018014</td>\n",
       "      <td>-0.277269</td>\n",
       "      <td>...</td>\n",
       "      <td>-0.233846</td>\n",
       "      <td>-0.420457</td>\n",
       "      <td>0.298870</td>\n",
       "      <td>0.300707</td>\n",
       "      <td>0.620920</td>\n",
       "      <td>0.627928</td>\n",
       "      <td>0.639397</td>\n",
       "      <td>0.354659</td>\n",
       "      <td>0.012719</td>\n",
       "      <td>-0.047663</td>\n",
       "    </tr>\n",
       "    <tr>\n",
       "      <th>22</th>\n",
       "      <td>Total; Estimate; AGE - 70 to 74 years</td>\n",
       "      <td>0.031040</td>\n",
       "      <td>0.038120</td>\n",
       "      <td>0.021270</td>\n",
       "      <td>0.027112</td>\n",
       "      <td>0.029587</td>\n",
       "      <td>-0.039382</td>\n",
       "      <td>-0.055433</td>\n",
       "      <td>-0.024439</td>\n",
       "      <td>-0.186100</td>\n",
       "      <td>...</td>\n",
       "      <td>-0.185331</td>\n",
       "      <td>-0.359937</td>\n",
       "      <td>0.210399</td>\n",
       "      <td>0.214109</td>\n",
       "      <td>0.579449</td>\n",
       "      <td>0.595227</td>\n",
       "      <td>0.623671</td>\n",
       "      <td>0.249321</td>\n",
       "      <td>-0.002680</td>\n",
       "      <td>-0.030904</td>\n",
       "    </tr>\n",
       "    <tr>\n",
       "      <th>23</th>\n",
       "      <td>Total; Estimate; AGE - 75 to 79 years</td>\n",
       "      <td>0.002996</td>\n",
       "      <td>-0.003544</td>\n",
       "      <td>-0.006697</td>\n",
       "      <td>0.000995</td>\n",
       "      <td>-0.001666</td>\n",
       "      <td>-0.011816</td>\n",
       "      <td>-0.034966</td>\n",
       "      <td>0.008468</td>\n",
       "      <td>-0.224899</td>\n",
       "      <td>...</td>\n",
       "      <td>-0.234925</td>\n",
       "      <td>-0.432563</td>\n",
       "      <td>0.263821</td>\n",
       "      <td>0.273556</td>\n",
       "      <td>0.650121</td>\n",
       "      <td>0.657674</td>\n",
       "      <td>0.667775</td>\n",
       "      <td>0.769076</td>\n",
       "      <td>-0.004596</td>\n",
       "      <td>0.014133</td>\n",
       "    </tr>\n",
       "    <tr>\n",
       "      <th>24</th>\n",
       "      <td>Total; Estimate; AGE - 80 to 84 years</td>\n",
       "      <td>-0.001703</td>\n",
       "      <td>-0.006339</td>\n",
       "      <td>-0.007097</td>\n",
       "      <td>0.000655</td>\n",
       "      <td>-0.003654</td>\n",
       "      <td>-0.031843</td>\n",
       "      <td>-0.052426</td>\n",
       "      <td>-0.013207</td>\n",
       "      <td>-0.218070</td>\n",
       "      <td>...</td>\n",
       "      <td>-0.221889</td>\n",
       "      <td>-0.417228</td>\n",
       "      <td>0.278541</td>\n",
       "      <td>0.292843</td>\n",
       "      <td>0.674063</td>\n",
       "      <td>0.683862</td>\n",
       "      <td>0.701799</td>\n",
       "      <td>0.822594</td>\n",
       "      <td>-0.004044</td>\n",
       "      <td>-0.004528</td>\n",
       "    </tr>\n",
       "    <tr>\n",
       "      <th>25</th>\n",
       "      <td>Total; Estimate; AGE - 85 years and over</td>\n",
       "      <td>0.007871</td>\n",
       "      <td>0.006563</td>\n",
       "      <td>0.009361</td>\n",
       "      <td>0.014242</td>\n",
       "      <td>0.009805</td>\n",
       "      <td>-0.040695</td>\n",
       "      <td>-0.062058</td>\n",
       "      <td>-0.021137</td>\n",
       "      <td>-0.191540</td>\n",
       "      <td>...</td>\n",
       "      <td>-0.227632</td>\n",
       "      <td>-0.409766</td>\n",
       "      <td>0.256771</td>\n",
       "      <td>0.240917</td>\n",
       "      <td>0.657293</td>\n",
       "      <td>0.674924</td>\n",
       "      <td>0.700857</td>\n",
       "      <td>0.844569</td>\n",
       "      <td>0.034454</td>\n",
       "      <td>-0.000767</td>\n",
       "    </tr>\n",
       "    <tr>\n",
       "      <th>26</th>\n",
       "      <td>Total; Estimate; SELECTED AGE CATEGORIES - 5 t...</td>\n",
       "      <td>-0.011923</td>\n",
       "      <td>-0.006567</td>\n",
       "      <td>0.004540</td>\n",
       "      <td>0.012070</td>\n",
       "      <td>0.000063</td>\n",
       "      <td>-0.010159</td>\n",
       "      <td>-0.023421</td>\n",
       "      <td>0.001556</td>\n",
       "      <td>0.421755</td>\n",
       "      <td>...</td>\n",
       "      <td>-0.029996</td>\n",
       "      <td>-0.278754</td>\n",
       "      <td>-0.915024</td>\n",
       "      <td>-0.902081</td>\n",
       "      <td>-0.366708</td>\n",
       "      <td>-0.358488</td>\n",
       "      <td>-0.332506</td>\n",
       "      <td>-0.284910</td>\n",
       "      <td>0.047357</td>\n",
       "      <td>-0.047269</td>\n",
       "    </tr>\n",
       "    <tr>\n",
       "      <th>27</th>\n",
       "      <td>Total; Estimate; SELECTED AGE CATEGORIES - 15 ...</td>\n",
       "      <td>0.015753</td>\n",
       "      <td>0.020803</td>\n",
       "      <td>0.032918</td>\n",
       "      <td>0.033075</td>\n",
       "      <td>0.026502</td>\n",
       "      <td>-0.034372</td>\n",
       "      <td>-0.049127</td>\n",
       "      <td>-0.020688</td>\n",
       "      <td>0.161946</td>\n",
       "      <td>...</td>\n",
       "      <td>0.047202</td>\n",
       "      <td>-0.077798</td>\n",
       "      <td>-0.433672</td>\n",
       "      <td>-0.611792</td>\n",
       "      <td>-0.178603</td>\n",
       "      <td>-0.164467</td>\n",
       "      <td>-0.212055</td>\n",
       "      <td>-0.182831</td>\n",
       "      <td>0.026810</td>\n",
       "      <td>0.025519</td>\n",
       "    </tr>\n",
       "    <tr>\n",
       "      <th>28</th>\n",
       "      <td>Total; Estimate; SELECTED AGE CATEGORIES - 18 ...</td>\n",
       "      <td>0.015374</td>\n",
       "      <td>0.012030</td>\n",
       "      <td>0.017362</td>\n",
       "      <td>0.008419</td>\n",
       "      <td>0.013468</td>\n",
       "      <td>0.021554</td>\n",
       "      <td>0.016687</td>\n",
       "      <td>0.025140</td>\n",
       "      <td>-0.012687</td>\n",
       "      <td>...</td>\n",
       "      <td>1.000000</td>\n",
       "      <td>0.500858</td>\n",
       "      <td>0.023338</td>\n",
       "      <td>0.009425</td>\n",
       "      <td>-0.371839</td>\n",
       "      <td>-0.355813</td>\n",
       "      <td>-0.329930</td>\n",
       "      <td>-0.280846</td>\n",
       "      <td>-0.030366</td>\n",
       "      <td>-0.003525</td>\n",
       "    </tr>\n",
       "    <tr>\n",
       "      <th>29</th>\n",
       "      <td>Total; Estimate; SELECTED AGE CATEGORIES - 15 ...</td>\n",
       "      <td>0.028712</td>\n",
       "      <td>0.026874</td>\n",
       "      <td>0.031097</td>\n",
       "      <td>0.009392</td>\n",
       "      <td>0.024149</td>\n",
       "      <td>0.092418</td>\n",
       "      <td>0.123966</td>\n",
       "      <td>0.062625</td>\n",
       "      <td>-0.060862</td>\n",
       "      <td>...</td>\n",
       "      <td>0.500858</td>\n",
       "      <td>1.000000</td>\n",
       "      <td>0.227692</td>\n",
       "      <td>0.219650</td>\n",
       "      <td>-0.637720</td>\n",
       "      <td>-0.622908</td>\n",
       "      <td>-0.610900</td>\n",
       "      <td>-0.515859</td>\n",
       "      <td>-0.038636</td>\n",
       "      <td>0.059685</td>\n",
       "    </tr>\n",
       "    <tr>\n",
       "      <th>30</th>\n",
       "      <td>Total; Estimate; SELECTED AGE CATEGORIES - 16 ...</td>\n",
       "      <td>0.012844</td>\n",
       "      <td>0.010059</td>\n",
       "      <td>-0.000675</td>\n",
       "      <td>-0.006498</td>\n",
       "      <td>0.003539</td>\n",
       "      <td>-0.010014</td>\n",
       "      <td>-0.001408</td>\n",
       "      <td>-0.017148</td>\n",
       "      <td>-0.730569</td>\n",
       "      <td>...</td>\n",
       "      <td>0.023338</td>\n",
       "      <td>0.227692</td>\n",
       "      <td>1.000000</td>\n",
       "      <td>0.972373</td>\n",
       "      <td>0.434011</td>\n",
       "      <td>0.423531</td>\n",
       "      <td>0.390807</td>\n",
       "      <td>0.326810</td>\n",
       "      <td>-0.047087</td>\n",
       "      <td>0.032750</td>\n",
       "    </tr>\n",
       "    <tr>\n",
       "      <th>31</th>\n",
       "      <td>Total; Estimate; SELECTED AGE CATEGORIES - 18 ...</td>\n",
       "      <td>0.007774</td>\n",
       "      <td>0.003951</td>\n",
       "      <td>-0.008487</td>\n",
       "      <td>-0.014160</td>\n",
       "      <td>-0.003299</td>\n",
       "      <td>-0.002616</td>\n",
       "      <td>0.008587</td>\n",
       "      <td>-0.012197</td>\n",
       "      <td>-0.683755</td>\n",
       "      <td>...</td>\n",
       "      <td>0.009425</td>\n",
       "      <td>0.219650</td>\n",
       "      <td>0.972373</td>\n",
       "      <td>1.000000</td>\n",
       "      <td>0.421225</td>\n",
       "      <td>0.407925</td>\n",
       "      <td>0.394204</td>\n",
       "      <td>0.328887</td>\n",
       "      <td>-0.045088</td>\n",
       "      <td>0.024420</td>\n",
       "    </tr>\n",
       "    <tr>\n",
       "      <th>32</th>\n",
       "      <td>Total; Estimate; SELECTED AGE CATEGORIES - 60 ...</td>\n",
       "      <td>0.003281</td>\n",
       "      <td>0.001853</td>\n",
       "      <td>-0.005144</td>\n",
       "      <td>0.004343</td>\n",
       "      <td>0.001026</td>\n",
       "      <td>-0.054851</td>\n",
       "      <td>-0.085669</td>\n",
       "      <td>-0.026745</td>\n",
       "      <td>-0.373132</td>\n",
       "      <td>...</td>\n",
       "      <td>-0.371839</td>\n",
       "      <td>-0.637720</td>\n",
       "      <td>0.434011</td>\n",
       "      <td>0.421225</td>\n",
       "      <td>1.000000</td>\n",
       "      <td>0.985623</td>\n",
       "      <td>0.952586</td>\n",
       "      <td>0.811683</td>\n",
       "      <td>0.009112</td>\n",
       "      <td>-0.034286</td>\n",
       "    </tr>\n",
       "    <tr>\n",
       "      <th>33</th>\n",
       "      <td>Total; Estimate; SELECTED AGE CATEGORIES - 62 ...</td>\n",
       "      <td>0.011397</td>\n",
       "      <td>0.011807</td>\n",
       "      <td>0.004701</td>\n",
       "      <td>0.013984</td>\n",
       "      <td>0.010594</td>\n",
       "      <td>-0.052964</td>\n",
       "      <td>-0.083932</td>\n",
       "      <td>-0.024783</td>\n",
       "      <td>-0.362443</td>\n",
       "      <td>...</td>\n",
       "      <td>-0.355813</td>\n",
       "      <td>-0.622908</td>\n",
       "      <td>0.423531</td>\n",
       "      <td>0.407925</td>\n",
       "      <td>0.985623</td>\n",
       "      <td>1.000000</td>\n",
       "      <td>0.970553</td>\n",
       "      <td>0.826455</td>\n",
       "      <td>0.006816</td>\n",
       "      <td>-0.039536</td>\n",
       "    </tr>\n",
       "    <tr>\n",
       "      <th>34</th>\n",
       "      <td>Total; Estimate; SELECTED AGE CATEGORIES - 65 ...</td>\n",
       "      <td>0.015470</td>\n",
       "      <td>0.015897</td>\n",
       "      <td>0.008953</td>\n",
       "      <td>0.016823</td>\n",
       "      <td>0.014451</td>\n",
       "      <td>-0.050386</td>\n",
       "      <td>-0.080252</td>\n",
       "      <td>-0.023226</td>\n",
       "      <td>-0.331034</td>\n",
       "      <td>...</td>\n",
       "      <td>-0.329930</td>\n",
       "      <td>-0.610900</td>\n",
       "      <td>0.390807</td>\n",
       "      <td>0.394204</td>\n",
       "      <td>0.952586</td>\n",
       "      <td>0.970553</td>\n",
       "      <td>1.000000</td>\n",
       "      <td>0.848919</td>\n",
       "      <td>0.010536</td>\n",
       "      <td>-0.026399</td>\n",
       "    </tr>\n",
       "    <tr>\n",
       "      <th>35</th>\n",
       "      <td>Total; Estimate; SELECTED AGE CATEGORIES - 75 ...</td>\n",
       "      <td>0.003816</td>\n",
       "      <td>-0.001230</td>\n",
       "      <td>-0.001496</td>\n",
       "      <td>0.006863</td>\n",
       "      <td>0.002064</td>\n",
       "      <td>-0.035540</td>\n",
       "      <td>-0.062225</td>\n",
       "      <td>-0.011541</td>\n",
       "      <td>-0.258752</td>\n",
       "      <td>...</td>\n",
       "      <td>-0.280846</td>\n",
       "      <td>-0.515859</td>\n",
       "      <td>0.326810</td>\n",
       "      <td>0.328887</td>\n",
       "      <td>0.811683</td>\n",
       "      <td>0.826455</td>\n",
       "      <td>0.848919</td>\n",
       "      <td>1.000000</td>\n",
       "      <td>0.011926</td>\n",
       "      <td>0.002949</td>\n",
       "    </tr>\n",
       "    <tr>\n",
       "      <th>36</th>\n",
       "      <td>Total; Estimate; PERCENT IMPUTED - Sex</td>\n",
       "      <td>-0.017754</td>\n",
       "      <td>-0.026058</td>\n",
       "      <td>-0.025863</td>\n",
       "      <td>-0.020722</td>\n",
       "      <td>-0.023020</td>\n",
       "      <td>-0.003433</td>\n",
       "      <td>-0.000350</td>\n",
       "      <td>-0.005993</td>\n",
       "      <td>0.021341</td>\n",
       "      <td>...</td>\n",
       "      <td>-0.030366</td>\n",
       "      <td>-0.038636</td>\n",
       "      <td>-0.047087</td>\n",
       "      <td>-0.045088</td>\n",
       "      <td>0.009112</td>\n",
       "      <td>0.006816</td>\n",
       "      <td>0.010536</td>\n",
       "      <td>0.011926</td>\n",
       "      <td>1.000000</td>\n",
       "      <td>0.179112</td>\n",
       "    </tr>\n",
       "    <tr>\n",
       "      <th>37</th>\n",
       "      <td>Total; Estimate; PERCENT IMPUTED - Age</td>\n",
       "      <td>-0.047432</td>\n",
       "      <td>-0.048760</td>\n",
       "      <td>-0.050499</td>\n",
       "      <td>-0.043193</td>\n",
       "      <td>-0.048202</td>\n",
       "      <td>-0.042484</td>\n",
       "      <td>-0.027367</td>\n",
       "      <td>-0.054314</td>\n",
       "      <td>-0.006012</td>\n",
       "      <td>...</td>\n",
       "      <td>-0.003525</td>\n",
       "      <td>0.059685</td>\n",
       "      <td>0.032750</td>\n",
       "      <td>0.024420</td>\n",
       "      <td>-0.034286</td>\n",
       "      <td>-0.039536</td>\n",
       "      <td>-0.026399</td>\n",
       "      <td>0.002949</td>\n",
       "      <td>0.179112</td>\n",
       "      <td>1.000000</td>\n",
       "    </tr>\n",
       "  </tbody>\n",
       "</table>\n",
       "<p>38 rows × 39 columns</p>\n",
       "</div>"
      ],
      "text/plain": [
       "                                  DemographicVariable    Spring    Summer  \\\n",
       "0                                              Spring  1.000000  0.957722   \n",
       "1                                              Summer  0.957722  1.000000   \n",
       "2                                              Autumn  0.949022  0.965126   \n",
       "3                                              Winter  0.965303  0.953016   \n",
       "4                                         ALL_SEASONS  0.983284  0.984459   \n",
       "5                   Total; Estimate; Total population  0.216933  0.247099   \n",
       "6                    Male; Estimate; Total population  0.198142  0.224532   \n",
       "7                  Female; Estimate; Total population  0.227015  0.259586   \n",
       "8                Total; Estimate; AGE - Under 5 years -0.013307 -0.016219   \n",
       "9                 Total; Estimate; AGE - 5 to 9 years -0.017170 -0.018095   \n",
       "10              Total; Estimate; AGE - 10 to 14 years -0.003143  0.006755   \n",
       "11              Total; Estimate; AGE - 15 to 19 years  0.009870  0.011823   \n",
       "12              Total; Estimate; AGE - 20 to 24 years  0.021246  0.018010   \n",
       "13              Total; Estimate; AGE - 25 to 29 years  0.029232  0.030264   \n",
       "14              Total; Estimate; AGE - 30 to 34 years  0.015054  0.010584   \n",
       "15              Total; Estimate; AGE - 35 to 39 years  0.002048 -0.003831   \n",
       "16              Total; Estimate; AGE - 40 to 44 years -0.018993 -0.012283   \n",
       "17              Total; Estimate; AGE - 45 to 49 years  0.001484  0.004133   \n",
       "18              Total; Estimate; AGE - 50 to 54 years -0.037284 -0.035765   \n",
       "19              Total; Estimate; AGE - 55 to 59 years -0.033639 -0.034535   \n",
       "20              Total; Estimate; AGE - 60 to 64 years -0.033513 -0.039331   \n",
       "21              Total; Estimate; AGE - 65 to 69 years  0.001299  0.003511   \n",
       "22              Total; Estimate; AGE - 70 to 74 years  0.031040  0.038120   \n",
       "23              Total; Estimate; AGE - 75 to 79 years  0.002996 -0.003544   \n",
       "24              Total; Estimate; AGE - 80 to 84 years -0.001703 -0.006339   \n",
       "25           Total; Estimate; AGE - 85 years and over  0.007871  0.006563   \n",
       "26  Total; Estimate; SELECTED AGE CATEGORIES - 5 t... -0.011923 -0.006567   \n",
       "27  Total; Estimate; SELECTED AGE CATEGORIES - 15 ...  0.015753  0.020803   \n",
       "28  Total; Estimate; SELECTED AGE CATEGORIES - 18 ...  0.015374  0.012030   \n",
       "29  Total; Estimate; SELECTED AGE CATEGORIES - 15 ...  0.028712  0.026874   \n",
       "30  Total; Estimate; SELECTED AGE CATEGORIES - 16 ...  0.012844  0.010059   \n",
       "31  Total; Estimate; SELECTED AGE CATEGORIES - 18 ...  0.007774  0.003951   \n",
       "32  Total; Estimate; SELECTED AGE CATEGORIES - 60 ...  0.003281  0.001853   \n",
       "33  Total; Estimate; SELECTED AGE CATEGORIES - 62 ...  0.011397  0.011807   \n",
       "34  Total; Estimate; SELECTED AGE CATEGORIES - 65 ...  0.015470  0.015897   \n",
       "35  Total; Estimate; SELECTED AGE CATEGORIES - 75 ...  0.003816 -0.001230   \n",
       "36             Total; Estimate; PERCENT IMPUTED - Sex -0.017754 -0.026058   \n",
       "37             Total; Estimate; PERCENT IMPUTED - Age -0.047432 -0.048760   \n",
       "\n",
       "      Autumn    Winter  ALL_SEASONS  Total; Estimate; Total population  \\\n",
       "0   0.949022  0.965303     0.983284                           0.216933   \n",
       "1   0.965126  0.953016     0.984459                           0.247099   \n",
       "2   1.000000  0.952330     0.983104                           0.244593   \n",
       "3   0.952330  1.000000     0.984188                           0.196398   \n",
       "4   0.983104  0.984188     1.000000                           0.229609   \n",
       "5   0.244593  0.196398     0.229609                           1.000000   \n",
       "6   0.219954  0.178879     0.208380                           0.982422   \n",
       "7   0.258936  0.205962     0.241436                           0.986973   \n",
       "8  -0.010980 -0.008463    -0.012297                           0.050716   \n",
       "9  -0.004669  0.000512    -0.009553                           0.002445   \n",
       "10  0.012291  0.019795     0.009525                          -0.018812   \n",
       "11  0.021794  0.024623     0.017679                          -0.024491   \n",
       "12  0.022953  0.008646     0.017860                           0.031504   \n",
       "13  0.031875  0.008359     0.025020                           0.067042   \n",
       "14  0.009158 -0.000382     0.008470                           0.080953   \n",
       "15 -0.006263 -0.011318    -0.005175                           0.068025   \n",
       "16 -0.017805 -0.016674    -0.016738                           0.007609   \n",
       "17  0.002060  0.009904     0.004580                          -0.086483   \n",
       "18 -0.046435 -0.032877    -0.038780                          -0.056175   \n",
       "19 -0.041916 -0.035642    -0.037159                          -0.039719   \n",
       "20 -0.042252 -0.034149    -0.037974                          -0.032593   \n",
       "21  0.003350  0.004382     0.003236                          -0.035940   \n",
       "22  0.021270  0.027112     0.029587                          -0.039382   \n",
       "23 -0.006697  0.000995    -0.001666                          -0.011816   \n",
       "24 -0.007097  0.000655    -0.003654                          -0.031843   \n",
       "25  0.009361  0.014242     0.009805                          -0.040695   \n",
       "26  0.004540  0.012070     0.000063                          -0.010159   \n",
       "27  0.032918  0.033075     0.026502                          -0.034372   \n",
       "28  0.017362  0.008419     0.013468                           0.021554   \n",
       "29  0.031097  0.009392     0.024149                           0.092418   \n",
       "30 -0.000675 -0.006498     0.003539                          -0.010014   \n",
       "31 -0.008487 -0.014160    -0.003299                          -0.002616   \n",
       "32 -0.005144  0.004343     0.001026                          -0.054851   \n",
       "33  0.004701  0.013984     0.010594                          -0.052964   \n",
       "34  0.008953  0.016823     0.014451                          -0.050386   \n",
       "35 -0.001496  0.006863     0.002064                          -0.035540   \n",
       "36 -0.025863 -0.020722    -0.023020                          -0.003433   \n",
       "37 -0.050499 -0.043193    -0.048202                          -0.042484   \n",
       "\n",
       "    Male; Estimate; Total population  Female; Estimate; Total population  \\\n",
       "0                           0.198142                            0.227015   \n",
       "1                           0.224532                            0.259586   \n",
       "2                           0.219954                            0.258936   \n",
       "3                           0.178879                            0.205962   \n",
       "4                           0.208380                            0.241436   \n",
       "5                           0.982422                            0.986973   \n",
       "6                           1.000000                            0.939592   \n",
       "7                           0.939592                            1.000000   \n",
       "8                           0.054589                            0.045949   \n",
       "9                          -0.006394                            0.009994   \n",
       "10                         -0.032553                           -0.006440   \n",
       "11                         -0.044910                           -0.006202   \n",
       "12                          0.035676                            0.027022   \n",
       "13                          0.095662                            0.040488   \n",
       "14                          0.108763                            0.054704   \n",
       "15                          0.095769                            0.042198   \n",
       "16                          0.023079                           -0.005939   \n",
       "17                         -0.083449                           -0.086662   \n",
       "18                         -0.053156                           -0.057194   \n",
       "19                         -0.038801                           -0.039392   \n",
       "20                         -0.046568                           -0.019631   \n",
       "21                         -0.055565                           -0.018014   \n",
       "22                         -0.055433                           -0.024439   \n",
       "23                         -0.034966                            0.008468   \n",
       "24                         -0.052426                           -0.013207   \n",
       "25                         -0.062058                           -0.021137   \n",
       "26                         -0.023421                            0.001556   \n",
       "27                         -0.049127                           -0.020688   \n",
       "28                          0.016687                            0.025140   \n",
       "29                          0.123966                            0.062625   \n",
       "30                         -0.001408                           -0.017148   \n",
       "31                          0.008587                           -0.012197   \n",
       "32                         -0.085669                           -0.026745   \n",
       "33                         -0.083932                           -0.024783   \n",
       "34                         -0.080252                           -0.023226   \n",
       "35                         -0.062225                           -0.011541   \n",
       "36                         -0.000350                           -0.005993   \n",
       "37                         -0.027367                           -0.054314   \n",
       "\n",
       "    Total; Estimate; AGE - Under 5 years  ...  \\\n",
       "0                              -0.013307  ...   \n",
       "1                              -0.016219  ...   \n",
       "2                              -0.010980  ...   \n",
       "3                              -0.008463  ...   \n",
       "4                              -0.012297  ...   \n",
       "5                               0.050716  ...   \n",
       "6                               0.054589  ...   \n",
       "7                               0.045949  ...   \n",
       "8                               1.000000  ...   \n",
       "9                               0.439522  ...   \n",
       "10                              0.281099  ...   \n",
       "11                              0.107796  ...   \n",
       "12                             -0.021048  ...   \n",
       "13                             -0.097684  ...   \n",
       "14                             -0.014949  ...   \n",
       "15                             -0.044461  ...   \n",
       "16                             -0.102925  ...   \n",
       "17                             -0.168586  ...   \n",
       "18                             -0.197836  ...   \n",
       "19                             -0.238959  ...   \n",
       "20                             -0.256166  ...   \n",
       "21                             -0.277269  ...   \n",
       "22                             -0.186100  ...   \n",
       "23                             -0.224899  ...   \n",
       "24                             -0.218070  ...   \n",
       "25                             -0.191540  ...   \n",
       "26                              0.421755  ...   \n",
       "27                              0.161946  ...   \n",
       "28                             -0.012687  ...   \n",
       "29                             -0.060862  ...   \n",
       "30                             -0.730569  ...   \n",
       "31                             -0.683755  ...   \n",
       "32                             -0.373132  ...   \n",
       "33                             -0.362443  ...   \n",
       "34                             -0.331034  ...   \n",
       "35                             -0.258752  ...   \n",
       "36                              0.021341  ...   \n",
       "37                             -0.006012  ...   \n",
       "\n",
       "    Total; Estimate; SELECTED AGE CATEGORIES - 18 to 24 years  \\\n",
       "0                                            0.015374           \n",
       "1                                            0.012030           \n",
       "2                                            0.017362           \n",
       "3                                            0.008419           \n",
       "4                                            0.013468           \n",
       "5                                            0.021554           \n",
       "6                                            0.016687           \n",
       "7                                            0.025140           \n",
       "8                                           -0.012687           \n",
       "9                                           -0.020248           \n",
       "10                                          -0.030973           \n",
       "11                                           0.501772           \n",
       "12                                           0.880008           \n",
       "13                                           0.059140           \n",
       "14                                          -0.098234           \n",
       "15                                          -0.150431           \n",
       "16                                          -0.137296           \n",
       "17                                          -0.126708           \n",
       "18                                          -0.160857           \n",
       "19                                          -0.206800           \n",
       "20                                          -0.255861           \n",
       "21                                          -0.233846           \n",
       "22                                          -0.185331           \n",
       "23                                          -0.234925           \n",
       "24                                          -0.221889           \n",
       "25                                          -0.227632           \n",
       "26                                          -0.029996           \n",
       "27                                           0.047202           \n",
       "28                                           1.000000           \n",
       "29                                           0.500858           \n",
       "30                                           0.023338           \n",
       "31                                           0.009425           \n",
       "32                                          -0.371839           \n",
       "33                                          -0.355813           \n",
       "34                                          -0.329930           \n",
       "35                                          -0.280846           \n",
       "36                                          -0.030366           \n",
       "37                                          -0.003525           \n",
       "\n",
       "    Total; Estimate; SELECTED AGE CATEGORIES - 15 to 44 years  \\\n",
       "0                                            0.028712           \n",
       "1                                            0.026874           \n",
       "2                                            0.031097           \n",
       "3                                            0.009392           \n",
       "4                                            0.024149           \n",
       "5                                            0.092418           \n",
       "6                                            0.123966           \n",
       "7                                            0.062625           \n",
       "8                                           -0.060862           \n",
       "9                                           -0.219192           \n",
       "10                                          -0.255501           \n",
       "11                                           0.114265           \n",
       "12                                           0.510670           \n",
       "13                                           0.651958           \n",
       "14                                           0.580152           \n",
       "15                                           0.372786           \n",
       "16                                           0.195270           \n",
       "17                                          -0.202085           \n",
       "18                                          -0.310880           \n",
       "19                                          -0.336328           \n",
       "20                                          -0.310128           \n",
       "21                                          -0.420457           \n",
       "22                                          -0.359937           \n",
       "23                                          -0.432563           \n",
       "24                                          -0.417228           \n",
       "25                                          -0.409766           \n",
       "26                                          -0.278754           \n",
       "27                                          -0.077798           \n",
       "28                                           0.500858           \n",
       "29                                           1.000000           \n",
       "30                                           0.227692           \n",
       "31                                           0.219650           \n",
       "32                                          -0.637720           \n",
       "33                                          -0.622908           \n",
       "34                                          -0.610900           \n",
       "35                                          -0.515859           \n",
       "36                                          -0.038636           \n",
       "37                                           0.059685           \n",
       "\n",
       "    Total; Estimate; SELECTED AGE CATEGORIES - 16 years and over  \\\n",
       "0                                            0.012844              \n",
       "1                                            0.010059              \n",
       "2                                           -0.000675              \n",
       "3                                           -0.006498              \n",
       "4                                            0.003539              \n",
       "5                                           -0.010014              \n",
       "6                                           -0.001408              \n",
       "7                                           -0.017148              \n",
       "8                                           -0.730569              \n",
       "9                                           -0.803064              \n",
       "10                                          -0.756907              \n",
       "11                                          -0.322905              \n",
       "12                                           0.075221              \n",
       "13                                           0.341445              \n",
       "14                                           0.256971              \n",
       "15                                           0.147923              \n",
       "16                                           0.046637              \n",
       "17                                           0.068975              \n",
       "18                                           0.161507              \n",
       "19                                           0.267178              \n",
       "20                                           0.281300              \n",
       "21                                           0.298870              \n",
       "22                                           0.210399              \n",
       "23                                           0.263821              \n",
       "24                                           0.278541              \n",
       "25                                           0.256771              \n",
       "26                                          -0.915024              \n",
       "27                                          -0.433672              \n",
       "28                                           0.023338              \n",
       "29                                           0.227692              \n",
       "30                                           1.000000              \n",
       "31                                           0.972373              \n",
       "32                                           0.434011              \n",
       "33                                           0.423531              \n",
       "34                                           0.390807              \n",
       "35                                           0.326810              \n",
       "36                                          -0.047087              \n",
       "37                                           0.032750              \n",
       "\n",
       "    Total; Estimate; SELECTED AGE CATEGORIES - 18 years and over  \\\n",
       "0                                            0.007774              \n",
       "1                                            0.003951              \n",
       "2                                           -0.008487              \n",
       "3                                           -0.014160              \n",
       "4                                           -0.003299              \n",
       "5                                           -0.002616              \n",
       "6                                            0.008587              \n",
       "7                                           -0.012197              \n",
       "8                                           -0.683755              \n",
       "9                                           -0.785532              \n",
       "10                                          -0.752140              \n",
       "11                                          -0.454643              \n",
       "12                                           0.073977              \n",
       "13                                           0.379354              \n",
       "14                                           0.300239              \n",
       "15                                           0.185800              \n",
       "16                                           0.047639              \n",
       "17                                           0.047961              \n",
       "18                                           0.158585              \n",
       "19                                           0.279468              \n",
       "20                                           0.230711              \n",
       "21                                           0.300707              \n",
       "22                                           0.214109              \n",
       "23                                           0.273556              \n",
       "24                                           0.292843              \n",
       "25                                           0.240917              \n",
       "26                                          -0.902081              \n",
       "27                                          -0.611792              \n",
       "28                                           0.009425              \n",
       "29                                           0.219650              \n",
       "30                                           0.972373              \n",
       "31                                           1.000000              \n",
       "32                                           0.421225              \n",
       "33                                           0.407925              \n",
       "34                                           0.394204              \n",
       "35                                           0.328887              \n",
       "36                                          -0.045088              \n",
       "37                                           0.024420              \n",
       "\n",
       "    Total; Estimate; SELECTED AGE CATEGORIES - 60 years and over  \\\n",
       "0                                            0.003281              \n",
       "1                                            0.001853              \n",
       "2                                           -0.005144              \n",
       "3                                            0.004343              \n",
       "4                                            0.001026              \n",
       "5                                           -0.054851              \n",
       "6                                           -0.085669              \n",
       "7                                           -0.026745              \n",
       "8                                           -0.373132              \n",
       "9                                           -0.321797              \n",
       "10                                          -0.303321              \n",
       "11                                          -0.261541              \n",
       "12                                          -0.354735              \n",
       "13                                          -0.286011              \n",
       "14                                          -0.293942              \n",
       "15                                          -0.208236              \n",
       "16                                          -0.163240              \n",
       "17                                          -0.061356              \n",
       "18                                           0.098982              \n",
       "19                                           0.235247              \n",
       "20                                           0.500776              \n",
       "21                                           0.620920              \n",
       "22                                           0.579449              \n",
       "23                                           0.650121              \n",
       "24                                           0.674063              \n",
       "25                                           0.657293              \n",
       "26                                          -0.366708              \n",
       "27                                          -0.178603              \n",
       "28                                          -0.371839              \n",
       "29                                          -0.637720              \n",
       "30                                           0.434011              \n",
       "31                                           0.421225              \n",
       "32                                           1.000000              \n",
       "33                                           0.985623              \n",
       "34                                           0.952586              \n",
       "35                                           0.811683              \n",
       "36                                           0.009112              \n",
       "37                                          -0.034286              \n",
       "\n",
       "    Total; Estimate; SELECTED AGE CATEGORIES - 62 years and over  \\\n",
       "0                                            0.011397              \n",
       "1                                            0.011807              \n",
       "2                                            0.004701              \n",
       "3                                            0.013984              \n",
       "4                                            0.010594              \n",
       "5                                           -0.052964              \n",
       "6                                           -0.083932              \n",
       "7                                           -0.024783              \n",
       "8                                           -0.362443              \n",
       "9                                           -0.315827              \n",
       "10                                          -0.295307              \n",
       "11                                          -0.244188              \n",
       "12                                          -0.341430              \n",
       "13                                          -0.276970              \n",
       "14                                          -0.291987              \n",
       "15                                          -0.214554              \n",
       "16                                          -0.169006              \n",
       "17                                          -0.063812              \n",
       "18                                           0.086512              \n",
       "19                                           0.215917              \n",
       "20                                           0.403440              \n",
       "21                                           0.627928              \n",
       "22                                           0.595227              \n",
       "23                                           0.657674              \n",
       "24                                           0.683862              \n",
       "25                                           0.674924              \n",
       "26                                          -0.358488              \n",
       "27                                          -0.164467              \n",
       "28                                          -0.355813              \n",
       "29                                          -0.622908              \n",
       "30                                           0.423531              \n",
       "31                                           0.407925              \n",
       "32                                           0.985623              \n",
       "33                                           1.000000              \n",
       "34                                           0.970553              \n",
       "35                                           0.826455              \n",
       "36                                           0.006816              \n",
       "37                                          -0.039536              \n",
       "\n",
       "    Total; Estimate; SELECTED AGE CATEGORIES - 65 years and over  \\\n",
       "0                                            0.015470              \n",
       "1                                            0.015897              \n",
       "2                                            0.008953              \n",
       "3                                            0.016823              \n",
       "4                                            0.014451              \n",
       "5                                           -0.050386              \n",
       "6                                           -0.080252              \n",
       "7                                           -0.023226              \n",
       "8                                           -0.331034              \n",
       "9                                           -0.294604              \n",
       "10                                          -0.272274              \n",
       "11                                          -0.261661              \n",
       "12                                          -0.319359              \n",
       "13                                          -0.275403              \n",
       "14                                          -0.284197              \n",
       "15                                          -0.206020              \n",
       "16                                          -0.158459              \n",
       "17                                          -0.057572              \n",
       "18                                           0.080780              \n",
       "19                                           0.189214              \n",
       "20                                           0.213734              \n",
       "21                                           0.639397              \n",
       "22                                           0.623671              \n",
       "23                                           0.667775              \n",
       "24                                           0.701799              \n",
       "25                                           0.700857              \n",
       "26                                          -0.332506              \n",
       "27                                          -0.212055              \n",
       "28                                          -0.329930              \n",
       "29                                          -0.610900              \n",
       "30                                           0.390807              \n",
       "31                                           0.394204              \n",
       "32                                           0.952586              \n",
       "33                                           0.970553              \n",
       "34                                           1.000000              \n",
       "35                                           0.848919              \n",
       "36                                           0.010536              \n",
       "37                                          -0.026399              \n",
       "\n",
       "    Total; Estimate; SELECTED AGE CATEGORIES - 75 years and over  \\\n",
       "0                                            0.003816              \n",
       "1                                           -0.001230              \n",
       "2                                           -0.001496              \n",
       "3                                            0.006863              \n",
       "4                                            0.002064              \n",
       "5                                           -0.035540              \n",
       "6                                           -0.062225              \n",
       "7                                           -0.011541              \n",
       "8                                           -0.258752              \n",
       "9                                           -0.249731              \n",
       "10                                          -0.235915              \n",
       "11                                          -0.229422              \n",
       "12                                          -0.266685              \n",
       "13                                          -0.226325              \n",
       "14                                          -0.227133              \n",
       "15                                          -0.161434              \n",
       "16                                          -0.167704              \n",
       "17                                          -0.050640              \n",
       "18                                           0.075880              \n",
       "19                                           0.118496              \n",
       "20                                           0.190828              \n",
       "21                                           0.354659              \n",
       "22                                           0.249321              \n",
       "23                                           0.769076              \n",
       "24                                           0.822594              \n",
       "25                                           0.844569              \n",
       "26                                          -0.284910              \n",
       "27                                          -0.182831              \n",
       "28                                          -0.280846              \n",
       "29                                          -0.515859              \n",
       "30                                           0.326810              \n",
       "31                                           0.328887              \n",
       "32                                           0.811683              \n",
       "33                                           0.826455              \n",
       "34                                           0.848919              \n",
       "35                                           1.000000              \n",
       "36                                           0.011926              \n",
       "37                                           0.002949              \n",
       "\n",
       "    Total; Estimate; PERCENT IMPUTED - Sex  \\\n",
       "0                                -0.017754   \n",
       "1                                -0.026058   \n",
       "2                                -0.025863   \n",
       "3                                -0.020722   \n",
       "4                                -0.023020   \n",
       "5                                -0.003433   \n",
       "6                                -0.000350   \n",
       "7                                -0.005993   \n",
       "8                                 0.021341   \n",
       "9                                 0.023424   \n",
       "10                                0.056725   \n",
       "11                                0.006754   \n",
       "12                               -0.030859   \n",
       "13                               -0.033221   \n",
       "14                               -0.026157   \n",
       "15                                0.008159   \n",
       "16                               -0.012909   \n",
       "17                               -0.010558   \n",
       "18                               -0.003098   \n",
       "19                                0.003634   \n",
       "20                               -0.000987   \n",
       "21                                0.012719   \n",
       "22                               -0.002680   \n",
       "23                               -0.004596   \n",
       "24                               -0.004044   \n",
       "25                                0.034454   \n",
       "26                                0.047357   \n",
       "27                                0.026810   \n",
       "28                               -0.030366   \n",
       "29                               -0.038636   \n",
       "30                               -0.047087   \n",
       "31                               -0.045088   \n",
       "32                                0.009112   \n",
       "33                                0.006816   \n",
       "34                                0.010536   \n",
       "35                                0.011926   \n",
       "36                                1.000000   \n",
       "37                                0.179112   \n",
       "\n",
       "    Total; Estimate; PERCENT IMPUTED - Age  \n",
       "0                                -0.047432  \n",
       "1                                -0.048760  \n",
       "2                                -0.050499  \n",
       "3                                -0.043193  \n",
       "4                                -0.048202  \n",
       "5                                -0.042484  \n",
       "6                                -0.027367  \n",
       "7                                -0.054314  \n",
       "8                                -0.006012  \n",
       "9                                -0.042308  \n",
       "10                               -0.038418  \n",
       "11                               -0.000361  \n",
       "12                                0.011716  \n",
       "13                                0.051912  \n",
       "14                                0.028950  \n",
       "15                                0.005852  \n",
       "16                                0.054539  \n",
       "17                                0.006660  \n",
       "18                                0.013696  \n",
       "19                               -0.020459  \n",
       "20                               -0.035426  \n",
       "21                               -0.047663  \n",
       "22                               -0.030904  \n",
       "23                                0.014133  \n",
       "24                               -0.004528  \n",
       "25                               -0.000767  \n",
       "26                               -0.047269  \n",
       "27                                0.025519  \n",
       "28                               -0.003525  \n",
       "29                                0.059685  \n",
       "30                                0.032750  \n",
       "31                                0.024420  \n",
       "32                               -0.034286  \n",
       "33                               -0.039536  \n",
       "34                               -0.026399  \n",
       "35                                0.002949  \n",
       "36                                0.179112  \n",
       "37                                1.000000  \n",
       "\n",
       "[38 rows x 39 columns]"
      ]
     },
     "execution_count": 5,
     "metadata": {},
     "output_type": "execute_result"
    }
   ],
   "source": [
    "# 4) PEARSON R CORRELATION:\n",
    "corr = seasonalDemoDF.corr(method='pearson')\n",
    "corr.index.name = 'DemographicVariable'                          # name the index column\n",
    "\n",
    "corr = corr.reset_index()                                        # numbering the rows and setting DemographicVariable as a new coumn\n",
    "corr"
   ]
  },
  {
   "cell_type": "code",
   "execution_count": 6,
   "metadata": {
    "scrolled": true
   },
   "outputs": [
    {
     "data": {
      "text/html": [
       "<div>\n",
       "<style scoped>\n",
       "    .dataframe tbody tr th:only-of-type {\n",
       "        vertical-align: middle;\n",
       "    }\n",
       "\n",
       "    .dataframe tbody tr th {\n",
       "        vertical-align: top;\n",
       "    }\n",
       "\n",
       "    .dataframe thead th {\n",
       "        text-align: right;\n",
       "    }\n",
       "</style>\n",
       "<table border=\"1\" class=\"dataframe\">\n",
       "  <thead>\n",
       "    <tr style=\"text-align: right;\">\n",
       "      <th></th>\n",
       "      <th>DemographicVariable</th>\n",
       "      <th>Spring</th>\n",
       "      <th>Summer</th>\n",
       "      <th>Autumn</th>\n",
       "      <th>Winter</th>\n",
       "      <th>ALL_SEASONS</th>\n",
       "    </tr>\n",
       "  </thead>\n",
       "  <tbody>\n",
       "    <tr>\n",
       "      <th>0</th>\n",
       "      <td>Total; Estimate; Total population</td>\n",
       "      <td>0.216933</td>\n",
       "      <td>0.247099</td>\n",
       "      <td>0.244593</td>\n",
       "      <td>0.196398</td>\n",
       "      <td>0.229609</td>\n",
       "    </tr>\n",
       "    <tr>\n",
       "      <th>1</th>\n",
       "      <td>Male; Estimate; Total population</td>\n",
       "      <td>0.198142</td>\n",
       "      <td>0.224532</td>\n",
       "      <td>0.219954</td>\n",
       "      <td>0.178879</td>\n",
       "      <td>0.208380</td>\n",
       "    </tr>\n",
       "    <tr>\n",
       "      <th>2</th>\n",
       "      <td>Female; Estimate; Total population</td>\n",
       "      <td>0.227015</td>\n",
       "      <td>0.259586</td>\n",
       "      <td>0.258936</td>\n",
       "      <td>0.205962</td>\n",
       "      <td>0.241436</td>\n",
       "    </tr>\n",
       "    <tr>\n",
       "      <th>3</th>\n",
       "      <td>Total; Estimate; AGE - Under 5 years</td>\n",
       "      <td>-0.013307</td>\n",
       "      <td>-0.016219</td>\n",
       "      <td>-0.010980</td>\n",
       "      <td>-0.008463</td>\n",
       "      <td>-0.012297</td>\n",
       "    </tr>\n",
       "    <tr>\n",
       "      <th>4</th>\n",
       "      <td>Total; Estimate; AGE - 5 to 9 years</td>\n",
       "      <td>-0.017170</td>\n",
       "      <td>-0.018095</td>\n",
       "      <td>-0.004669</td>\n",
       "      <td>0.000512</td>\n",
       "      <td>-0.009553</td>\n",
       "    </tr>\n",
       "    <tr>\n",
       "      <th>5</th>\n",
       "      <td>Total; Estimate; AGE - 10 to 14 years</td>\n",
       "      <td>-0.003143</td>\n",
       "      <td>0.006755</td>\n",
       "      <td>0.012291</td>\n",
       "      <td>0.019795</td>\n",
       "      <td>0.009525</td>\n",
       "    </tr>\n",
       "    <tr>\n",
       "      <th>6</th>\n",
       "      <td>Total; Estimate; AGE - 15 to 19 years</td>\n",
       "      <td>0.009870</td>\n",
       "      <td>0.011823</td>\n",
       "      <td>0.021794</td>\n",
       "      <td>0.024623</td>\n",
       "      <td>0.017679</td>\n",
       "    </tr>\n",
       "    <tr>\n",
       "      <th>7</th>\n",
       "      <td>Total; Estimate; AGE - 20 to 24 years</td>\n",
       "      <td>0.021246</td>\n",
       "      <td>0.018010</td>\n",
       "      <td>0.022953</td>\n",
       "      <td>0.008646</td>\n",
       "      <td>0.017860</td>\n",
       "    </tr>\n",
       "    <tr>\n",
       "      <th>8</th>\n",
       "      <td>Total; Estimate; AGE - 25 to 29 years</td>\n",
       "      <td>0.029232</td>\n",
       "      <td>0.030264</td>\n",
       "      <td>0.031875</td>\n",
       "      <td>0.008359</td>\n",
       "      <td>0.025020</td>\n",
       "    </tr>\n",
       "    <tr>\n",
       "      <th>9</th>\n",
       "      <td>Total; Estimate; AGE - 30 to 34 years</td>\n",
       "      <td>0.015054</td>\n",
       "      <td>0.010584</td>\n",
       "      <td>0.009158</td>\n",
       "      <td>-0.000382</td>\n",
       "      <td>0.008470</td>\n",
       "    </tr>\n",
       "    <tr>\n",
       "      <th>10</th>\n",
       "      <td>Total; Estimate; AGE - 35 to 39 years</td>\n",
       "      <td>0.002048</td>\n",
       "      <td>-0.003831</td>\n",
       "      <td>-0.006263</td>\n",
       "      <td>-0.011318</td>\n",
       "      <td>-0.005175</td>\n",
       "    </tr>\n",
       "    <tr>\n",
       "      <th>11</th>\n",
       "      <td>Total; Estimate; AGE - 40 to 44 years</td>\n",
       "      <td>-0.018993</td>\n",
       "      <td>-0.012283</td>\n",
       "      <td>-0.017805</td>\n",
       "      <td>-0.016674</td>\n",
       "      <td>-0.016738</td>\n",
       "    </tr>\n",
       "    <tr>\n",
       "      <th>12</th>\n",
       "      <td>Total; Estimate; AGE - 45 to 49 years</td>\n",
       "      <td>0.001484</td>\n",
       "      <td>0.004133</td>\n",
       "      <td>0.002060</td>\n",
       "      <td>0.009904</td>\n",
       "      <td>0.004580</td>\n",
       "    </tr>\n",
       "    <tr>\n",
       "      <th>13</th>\n",
       "      <td>Total; Estimate; AGE - 50 to 54 years</td>\n",
       "      <td>-0.037284</td>\n",
       "      <td>-0.035765</td>\n",
       "      <td>-0.046435</td>\n",
       "      <td>-0.032877</td>\n",
       "      <td>-0.038780</td>\n",
       "    </tr>\n",
       "    <tr>\n",
       "      <th>14</th>\n",
       "      <td>Total; Estimate; AGE - 55 to 59 years</td>\n",
       "      <td>-0.033639</td>\n",
       "      <td>-0.034535</td>\n",
       "      <td>-0.041916</td>\n",
       "      <td>-0.035642</td>\n",
       "      <td>-0.037159</td>\n",
       "    </tr>\n",
       "    <tr>\n",
       "      <th>15</th>\n",
       "      <td>Total; Estimate; AGE - 60 to 64 years</td>\n",
       "      <td>-0.033513</td>\n",
       "      <td>-0.039331</td>\n",
       "      <td>-0.042252</td>\n",
       "      <td>-0.034149</td>\n",
       "      <td>-0.037974</td>\n",
       "    </tr>\n",
       "    <tr>\n",
       "      <th>16</th>\n",
       "      <td>Total; Estimate; AGE - 65 to 69 years</td>\n",
       "      <td>0.001299</td>\n",
       "      <td>0.003511</td>\n",
       "      <td>0.003350</td>\n",
       "      <td>0.004382</td>\n",
       "      <td>0.003236</td>\n",
       "    </tr>\n",
       "    <tr>\n",
       "      <th>17</th>\n",
       "      <td>Total; Estimate; AGE - 70 to 74 years</td>\n",
       "      <td>0.031040</td>\n",
       "      <td>0.038120</td>\n",
       "      <td>0.021270</td>\n",
       "      <td>0.027112</td>\n",
       "      <td>0.029587</td>\n",
       "    </tr>\n",
       "    <tr>\n",
       "      <th>18</th>\n",
       "      <td>Total; Estimate; AGE - 75 to 79 years</td>\n",
       "      <td>0.002996</td>\n",
       "      <td>-0.003544</td>\n",
       "      <td>-0.006697</td>\n",
       "      <td>0.000995</td>\n",
       "      <td>-0.001666</td>\n",
       "    </tr>\n",
       "    <tr>\n",
       "      <th>19</th>\n",
       "      <td>Total; Estimate; AGE - 80 to 84 years</td>\n",
       "      <td>-0.001703</td>\n",
       "      <td>-0.006339</td>\n",
       "      <td>-0.007097</td>\n",
       "      <td>0.000655</td>\n",
       "      <td>-0.003654</td>\n",
       "    </tr>\n",
       "    <tr>\n",
       "      <th>20</th>\n",
       "      <td>Total; Estimate; AGE - 85 years and over</td>\n",
       "      <td>0.007871</td>\n",
       "      <td>0.006563</td>\n",
       "      <td>0.009361</td>\n",
       "      <td>0.014242</td>\n",
       "      <td>0.009805</td>\n",
       "    </tr>\n",
       "    <tr>\n",
       "      <th>21</th>\n",
       "      <td>Total; Estimate; SELECTED AGE CATEGORIES - 5 t...</td>\n",
       "      <td>-0.011923</td>\n",
       "      <td>-0.006567</td>\n",
       "      <td>0.004540</td>\n",
       "      <td>0.012070</td>\n",
       "      <td>0.000063</td>\n",
       "    </tr>\n",
       "    <tr>\n",
       "      <th>22</th>\n",
       "      <td>Total; Estimate; SELECTED AGE CATEGORIES - 15 ...</td>\n",
       "      <td>0.015753</td>\n",
       "      <td>0.020803</td>\n",
       "      <td>0.032918</td>\n",
       "      <td>0.033075</td>\n",
       "      <td>0.026502</td>\n",
       "    </tr>\n",
       "    <tr>\n",
       "      <th>23</th>\n",
       "      <td>Total; Estimate; SELECTED AGE CATEGORIES - 18 ...</td>\n",
       "      <td>0.015374</td>\n",
       "      <td>0.012030</td>\n",
       "      <td>0.017362</td>\n",
       "      <td>0.008419</td>\n",
       "      <td>0.013468</td>\n",
       "    </tr>\n",
       "    <tr>\n",
       "      <th>24</th>\n",
       "      <td>Total; Estimate; SELECTED AGE CATEGORIES - 15 ...</td>\n",
       "      <td>0.028712</td>\n",
       "      <td>0.026874</td>\n",
       "      <td>0.031097</td>\n",
       "      <td>0.009392</td>\n",
       "      <td>0.024149</td>\n",
       "    </tr>\n",
       "    <tr>\n",
       "      <th>25</th>\n",
       "      <td>Total; Estimate; SELECTED AGE CATEGORIES - 16 ...</td>\n",
       "      <td>0.012844</td>\n",
       "      <td>0.010059</td>\n",
       "      <td>-0.000675</td>\n",
       "      <td>-0.006498</td>\n",
       "      <td>0.003539</td>\n",
       "    </tr>\n",
       "    <tr>\n",
       "      <th>26</th>\n",
       "      <td>Total; Estimate; SELECTED AGE CATEGORIES - 18 ...</td>\n",
       "      <td>0.007774</td>\n",
       "      <td>0.003951</td>\n",
       "      <td>-0.008487</td>\n",
       "      <td>-0.014160</td>\n",
       "      <td>-0.003299</td>\n",
       "    </tr>\n",
       "    <tr>\n",
       "      <th>27</th>\n",
       "      <td>Total; Estimate; SELECTED AGE CATEGORIES - 60 ...</td>\n",
       "      <td>0.003281</td>\n",
       "      <td>0.001853</td>\n",
       "      <td>-0.005144</td>\n",
       "      <td>0.004343</td>\n",
       "      <td>0.001026</td>\n",
       "    </tr>\n",
       "    <tr>\n",
       "      <th>28</th>\n",
       "      <td>Total; Estimate; SELECTED AGE CATEGORIES - 62 ...</td>\n",
       "      <td>0.011397</td>\n",
       "      <td>0.011807</td>\n",
       "      <td>0.004701</td>\n",
       "      <td>0.013984</td>\n",
       "      <td>0.010594</td>\n",
       "    </tr>\n",
       "    <tr>\n",
       "      <th>29</th>\n",
       "      <td>Total; Estimate; SELECTED AGE CATEGORIES - 65 ...</td>\n",
       "      <td>0.015470</td>\n",
       "      <td>0.015897</td>\n",
       "      <td>0.008953</td>\n",
       "      <td>0.016823</td>\n",
       "      <td>0.014451</td>\n",
       "    </tr>\n",
       "    <tr>\n",
       "      <th>30</th>\n",
       "      <td>Total; Estimate; SELECTED AGE CATEGORIES - 75 ...</td>\n",
       "      <td>0.003816</td>\n",
       "      <td>-0.001230</td>\n",
       "      <td>-0.001496</td>\n",
       "      <td>0.006863</td>\n",
       "      <td>0.002064</td>\n",
       "    </tr>\n",
       "    <tr>\n",
       "      <th>31</th>\n",
       "      <td>Total; Estimate; PERCENT IMPUTED - Sex</td>\n",
       "      <td>-0.017754</td>\n",
       "      <td>-0.026058</td>\n",
       "      <td>-0.025863</td>\n",
       "      <td>-0.020722</td>\n",
       "      <td>-0.023020</td>\n",
       "    </tr>\n",
       "    <tr>\n",
       "      <th>32</th>\n",
       "      <td>Total; Estimate; PERCENT IMPUTED - Age</td>\n",
       "      <td>-0.047432</td>\n",
       "      <td>-0.048760</td>\n",
       "      <td>-0.050499</td>\n",
       "      <td>-0.043193</td>\n",
       "      <td>-0.048202</td>\n",
       "    </tr>\n",
       "  </tbody>\n",
       "</table>\n",
       "</div>"
      ],
      "text/plain": [
       "                                  DemographicVariable    Spring    Summer  \\\n",
       "0                   Total; Estimate; Total population  0.216933  0.247099   \n",
       "1                    Male; Estimate; Total population  0.198142  0.224532   \n",
       "2                  Female; Estimate; Total population  0.227015  0.259586   \n",
       "3                Total; Estimate; AGE - Under 5 years -0.013307 -0.016219   \n",
       "4                 Total; Estimate; AGE - 5 to 9 years -0.017170 -0.018095   \n",
       "5               Total; Estimate; AGE - 10 to 14 years -0.003143  0.006755   \n",
       "6               Total; Estimate; AGE - 15 to 19 years  0.009870  0.011823   \n",
       "7               Total; Estimate; AGE - 20 to 24 years  0.021246  0.018010   \n",
       "8               Total; Estimate; AGE - 25 to 29 years  0.029232  0.030264   \n",
       "9               Total; Estimate; AGE - 30 to 34 years  0.015054  0.010584   \n",
       "10              Total; Estimate; AGE - 35 to 39 years  0.002048 -0.003831   \n",
       "11              Total; Estimate; AGE - 40 to 44 years -0.018993 -0.012283   \n",
       "12              Total; Estimate; AGE - 45 to 49 years  0.001484  0.004133   \n",
       "13              Total; Estimate; AGE - 50 to 54 years -0.037284 -0.035765   \n",
       "14              Total; Estimate; AGE - 55 to 59 years -0.033639 -0.034535   \n",
       "15              Total; Estimate; AGE - 60 to 64 years -0.033513 -0.039331   \n",
       "16              Total; Estimate; AGE - 65 to 69 years  0.001299  0.003511   \n",
       "17              Total; Estimate; AGE - 70 to 74 years  0.031040  0.038120   \n",
       "18              Total; Estimate; AGE - 75 to 79 years  0.002996 -0.003544   \n",
       "19              Total; Estimate; AGE - 80 to 84 years -0.001703 -0.006339   \n",
       "20           Total; Estimate; AGE - 85 years and over  0.007871  0.006563   \n",
       "21  Total; Estimate; SELECTED AGE CATEGORIES - 5 t... -0.011923 -0.006567   \n",
       "22  Total; Estimate; SELECTED AGE CATEGORIES - 15 ...  0.015753  0.020803   \n",
       "23  Total; Estimate; SELECTED AGE CATEGORIES - 18 ...  0.015374  0.012030   \n",
       "24  Total; Estimate; SELECTED AGE CATEGORIES - 15 ...  0.028712  0.026874   \n",
       "25  Total; Estimate; SELECTED AGE CATEGORIES - 16 ...  0.012844  0.010059   \n",
       "26  Total; Estimate; SELECTED AGE CATEGORIES - 18 ...  0.007774  0.003951   \n",
       "27  Total; Estimate; SELECTED AGE CATEGORIES - 60 ...  0.003281  0.001853   \n",
       "28  Total; Estimate; SELECTED AGE CATEGORIES - 62 ...  0.011397  0.011807   \n",
       "29  Total; Estimate; SELECTED AGE CATEGORIES - 65 ...  0.015470  0.015897   \n",
       "30  Total; Estimate; SELECTED AGE CATEGORIES - 75 ...  0.003816 -0.001230   \n",
       "31             Total; Estimate; PERCENT IMPUTED - Sex -0.017754 -0.026058   \n",
       "32             Total; Estimate; PERCENT IMPUTED - Age -0.047432 -0.048760   \n",
       "\n",
       "      Autumn    Winter  ALL_SEASONS  \n",
       "0   0.244593  0.196398     0.229609  \n",
       "1   0.219954  0.178879     0.208380  \n",
       "2   0.258936  0.205962     0.241436  \n",
       "3  -0.010980 -0.008463    -0.012297  \n",
       "4  -0.004669  0.000512    -0.009553  \n",
       "5   0.012291  0.019795     0.009525  \n",
       "6   0.021794  0.024623     0.017679  \n",
       "7   0.022953  0.008646     0.017860  \n",
       "8   0.031875  0.008359     0.025020  \n",
       "9   0.009158 -0.000382     0.008470  \n",
       "10 -0.006263 -0.011318    -0.005175  \n",
       "11 -0.017805 -0.016674    -0.016738  \n",
       "12  0.002060  0.009904     0.004580  \n",
       "13 -0.046435 -0.032877    -0.038780  \n",
       "14 -0.041916 -0.035642    -0.037159  \n",
       "15 -0.042252 -0.034149    -0.037974  \n",
       "16  0.003350  0.004382     0.003236  \n",
       "17  0.021270  0.027112     0.029587  \n",
       "18 -0.006697  0.000995    -0.001666  \n",
       "19 -0.007097  0.000655    -0.003654  \n",
       "20  0.009361  0.014242     0.009805  \n",
       "21  0.004540  0.012070     0.000063  \n",
       "22  0.032918  0.033075     0.026502  \n",
       "23  0.017362  0.008419     0.013468  \n",
       "24  0.031097  0.009392     0.024149  \n",
       "25 -0.000675 -0.006498     0.003539  \n",
       "26 -0.008487 -0.014160    -0.003299  \n",
       "27 -0.005144  0.004343     0.001026  \n",
       "28  0.004701  0.013984     0.010594  \n",
       "29  0.008953  0.016823     0.014451  \n",
       "30 -0.001496  0.006863     0.002064  \n",
       "31 -0.025863 -0.020722    -0.023020  \n",
       "32 -0.050499 -0.043193    -0.048202  "
      ]
     },
     "execution_count": 6,
     "metadata": {},
     "output_type": "execute_result"
    }
   ],
   "source": [
    "# Getting rid of the repeated season rows (they are repeated in the columns):\n",
    "for i in seasons:\n",
    "    corr = corr[corr.DemographicVariable != i] \n",
    "corr = corr[corr.DemographicVariable != \"ALL_SEASONS\"] \n",
    "        \n",
    "# Need to delete the repeated columns (they are repeated in the rows)\n",
    "delHeader = list(corr.columns)\n",
    "for i in range(0, len(seasons)):\n",
    "    delHeader.remove(seasons[i])\n",
    "delHeader.remove(\"DemographicVariable\")\n",
    "delHeader.remove(\"ALL_SEASONS\")\n",
    "\n",
    "for i in range(0, len(delHeader)):\n",
    "    corr = corr.drop(delHeader[i], axis=1)\n",
    "                  \n",
    "corr = corr.reset_index()\n",
    "corr = corr.drop(['index'], axis=1)              # i have two indexes, so droping old one\n",
    "corr"
   ]
  },
  {
   "cell_type": "code",
   "execution_count": 13,
   "metadata": {},
   "outputs": [
    {
     "data": {
      "application/vnd.plotly.v1+json": {
       "config": {
        "plotlyServerURL": "https://plot.ly"
       },
       "data": [
        {
         "hoverlabel": {
          "namelength": 0
         },
         "hovertemplate": "DemographicVariable=%{x}<br>ALL_SEASONS=%{marker.color}",
         "legendgroup": "",
         "marker": {
          "color": [
           0.2296088594428573,
           0.20837961131314237,
           0.24143552697929518,
           -0.012296887783073663,
           -0.009552852573213876,
           0.009524543300635416,
           0.01767907699902535,
           0.017859791865788517,
           0.025020334602353762,
           0.008470190727996386,
           -0.005174532846072216,
           -0.01673769123161654,
           0.004579767230436404,
           -0.038779574298564594,
           -0.03715909074523195,
           -0.03797410492576686,
           0.003236476098078614,
           0.02958704961182871,
           -0.0016660660631549916,
           -0.0036543014834933838,
           0.009804953581415485,
           6.323106870170882e-05,
           0.026501513781944538,
           0.013467620953001554,
           0.024149181026318425,
           0.0035387265028528118,
           -0.003298786697256661,
           0.0010262763119439798,
           0.010593912224162191,
           0.014451355727120878,
           0.002064387720700629,
           -0.023020269681779636,
           -0.04820238045863752
          ],
          "coloraxis": "coloraxis",
          "symbol": "circle"
         },
         "mode": "markers",
         "name": "",
         "showlegend": false,
         "type": "scatter",
         "x": [
          "Total; Estimate; Total population",
          "Male; Estimate; Total population",
          "Female; Estimate; Total population",
          "Total; Estimate; AGE - Under 5 years",
          "Total; Estimate; AGE - 5 to 9 years",
          "Total; Estimate; AGE - 10 to 14 years",
          "Total; Estimate; AGE - 15 to 19 years",
          "Total; Estimate; AGE - 20 to 24 years",
          "Total; Estimate; AGE - 25 to 29 years",
          "Total; Estimate; AGE - 30 to 34 years",
          "Total; Estimate; AGE - 35 to 39 years",
          "Total; Estimate; AGE - 40 to 44 years",
          "Total; Estimate; AGE - 45 to 49 years",
          "Total; Estimate; AGE - 50 to 54 years",
          "Total; Estimate; AGE - 55 to 59 years",
          "Total; Estimate; AGE - 60 to 64 years",
          "Total; Estimate; AGE - 65 to 69 years",
          "Total; Estimate; AGE - 70 to 74 years",
          "Total; Estimate; AGE - 75 to 79 years",
          "Total; Estimate; AGE - 80 to 84 years",
          "Total; Estimate; AGE - 85 years and over",
          "Total; Estimate; SELECTED AGE CATEGORIES - 5 to 14 years",
          "Total; Estimate; SELECTED AGE CATEGORIES - 15 to 17 years",
          "Total; Estimate; SELECTED AGE CATEGORIES - 18 to 24 years",
          "Total; Estimate; SELECTED AGE CATEGORIES - 15 to 44 years",
          "Total; Estimate; SELECTED AGE CATEGORIES - 16 years and over",
          "Total; Estimate; SELECTED AGE CATEGORIES - 18 years and over",
          "Total; Estimate; SELECTED AGE CATEGORIES - 60 years and over",
          "Total; Estimate; SELECTED AGE CATEGORIES - 62 years and over",
          "Total; Estimate; SELECTED AGE CATEGORIES - 65 years and over",
          "Total; Estimate; SELECTED AGE CATEGORIES - 75 years and over",
          "Total; Estimate; PERCENT IMPUTED - Sex",
          "Total; Estimate; PERCENT IMPUTED - Age"
         ],
         "xaxis": "x",
         "y": [
          0.2296088594428573,
          0.20837961131314237,
          0.24143552697929518,
          -0.012296887783073663,
          -0.009552852573213876,
          0.009524543300635416,
          0.01767907699902535,
          0.017859791865788517,
          0.025020334602353762,
          0.008470190727996386,
          -0.005174532846072216,
          -0.01673769123161654,
          0.004579767230436404,
          -0.038779574298564594,
          -0.03715909074523195,
          -0.03797410492576686,
          0.003236476098078614,
          0.02958704961182871,
          -0.0016660660631549916,
          -0.0036543014834933838,
          0.009804953581415485,
          6.323106870170882e-05,
          0.026501513781944538,
          0.013467620953001554,
          0.024149181026318425,
          0.0035387265028528118,
          -0.003298786697256661,
          0.0010262763119439798,
          0.010593912224162191,
          0.014451355727120878,
          0.002064387720700629,
          -0.023020269681779636,
          -0.04820238045863752
         ],
         "yaxis": "y"
        }
       ],
       "layout": {
        "coloraxis": {
         "colorbar": {
          "title": {
           "text": "ALL_SEASONS"
          }
         },
         "colorscale": [
          [
           0,
           "rgb(103,0,31)"
          ],
          [
           0.1,
           "rgb(178,24,43)"
          ],
          [
           0.2,
           "rgb(214,96,77)"
          ],
          [
           0.3,
           "rgb(244,165,130)"
          ],
          [
           0.4,
           "rgb(253,219,199)"
          ],
          [
           0.5,
           "rgb(247,247,247)"
          ],
          [
           0.6,
           "rgb(209,229,240)"
          ],
          [
           0.7,
           "rgb(146,197,222)"
          ],
          [
           0.8,
           "rgb(67,147,195)"
          ],
          [
           0.9,
           "rgb(33,102,172)"
          ],
          [
           1,
           "rgb(5,48,97)"
          ]
         ]
        },
        "height": 1000,
        "legend": {
         "tracegroupgap": 0
        },
        "margin": {
         "t": 60
        },
        "template": {
         "data": {
          "bar": [
           {
            "error_x": {
             "color": "#2a3f5f"
            },
            "error_y": {
             "color": "#2a3f5f"
            },
            "marker": {
             "line": {
              "color": "#E5ECF6",
              "width": 0.5
             }
            },
            "type": "bar"
           }
          ],
          "barpolar": [
           {
            "marker": {
             "line": {
              "color": "#E5ECF6",
              "width": 0.5
             }
            },
            "type": "barpolar"
           }
          ],
          "carpet": [
           {
            "aaxis": {
             "endlinecolor": "#2a3f5f",
             "gridcolor": "white",
             "linecolor": "white",
             "minorgridcolor": "white",
             "startlinecolor": "#2a3f5f"
            },
            "baxis": {
             "endlinecolor": "#2a3f5f",
             "gridcolor": "white",
             "linecolor": "white",
             "minorgridcolor": "white",
             "startlinecolor": "#2a3f5f"
            },
            "type": "carpet"
           }
          ],
          "choropleth": [
           {
            "colorbar": {
             "outlinewidth": 0,
             "ticks": ""
            },
            "type": "choropleth"
           }
          ],
          "contour": [
           {
            "colorbar": {
             "outlinewidth": 0,
             "ticks": ""
            },
            "colorscale": [
             [
              0,
              "#0d0887"
             ],
             [
              0.1111111111111111,
              "#46039f"
             ],
             [
              0.2222222222222222,
              "#7201a8"
             ],
             [
              0.3333333333333333,
              "#9c179e"
             ],
             [
              0.4444444444444444,
              "#bd3786"
             ],
             [
              0.5555555555555556,
              "#d8576b"
             ],
             [
              0.6666666666666666,
              "#ed7953"
             ],
             [
              0.7777777777777778,
              "#fb9f3a"
             ],
             [
              0.8888888888888888,
              "#fdca26"
             ],
             [
              1,
              "#f0f921"
             ]
            ],
            "type": "contour"
           }
          ],
          "contourcarpet": [
           {
            "colorbar": {
             "outlinewidth": 0,
             "ticks": ""
            },
            "type": "contourcarpet"
           }
          ],
          "heatmap": [
           {
            "colorbar": {
             "outlinewidth": 0,
             "ticks": ""
            },
            "colorscale": [
             [
              0,
              "#0d0887"
             ],
             [
              0.1111111111111111,
              "#46039f"
             ],
             [
              0.2222222222222222,
              "#7201a8"
             ],
             [
              0.3333333333333333,
              "#9c179e"
             ],
             [
              0.4444444444444444,
              "#bd3786"
             ],
             [
              0.5555555555555556,
              "#d8576b"
             ],
             [
              0.6666666666666666,
              "#ed7953"
             ],
             [
              0.7777777777777778,
              "#fb9f3a"
             ],
             [
              0.8888888888888888,
              "#fdca26"
             ],
             [
              1,
              "#f0f921"
             ]
            ],
            "type": "heatmap"
           }
          ],
          "heatmapgl": [
           {
            "colorbar": {
             "outlinewidth": 0,
             "ticks": ""
            },
            "colorscale": [
             [
              0,
              "#0d0887"
             ],
             [
              0.1111111111111111,
              "#46039f"
             ],
             [
              0.2222222222222222,
              "#7201a8"
             ],
             [
              0.3333333333333333,
              "#9c179e"
             ],
             [
              0.4444444444444444,
              "#bd3786"
             ],
             [
              0.5555555555555556,
              "#d8576b"
             ],
             [
              0.6666666666666666,
              "#ed7953"
             ],
             [
              0.7777777777777778,
              "#fb9f3a"
             ],
             [
              0.8888888888888888,
              "#fdca26"
             ],
             [
              1,
              "#f0f921"
             ]
            ],
            "type": "heatmapgl"
           }
          ],
          "histogram": [
           {
            "marker": {
             "colorbar": {
              "outlinewidth": 0,
              "ticks": ""
             }
            },
            "type": "histogram"
           }
          ],
          "histogram2d": [
           {
            "colorbar": {
             "outlinewidth": 0,
             "ticks": ""
            },
            "colorscale": [
             [
              0,
              "#0d0887"
             ],
             [
              0.1111111111111111,
              "#46039f"
             ],
             [
              0.2222222222222222,
              "#7201a8"
             ],
             [
              0.3333333333333333,
              "#9c179e"
             ],
             [
              0.4444444444444444,
              "#bd3786"
             ],
             [
              0.5555555555555556,
              "#d8576b"
             ],
             [
              0.6666666666666666,
              "#ed7953"
             ],
             [
              0.7777777777777778,
              "#fb9f3a"
             ],
             [
              0.8888888888888888,
              "#fdca26"
             ],
             [
              1,
              "#f0f921"
             ]
            ],
            "type": "histogram2d"
           }
          ],
          "histogram2dcontour": [
           {
            "colorbar": {
             "outlinewidth": 0,
             "ticks": ""
            },
            "colorscale": [
             [
              0,
              "#0d0887"
             ],
             [
              0.1111111111111111,
              "#46039f"
             ],
             [
              0.2222222222222222,
              "#7201a8"
             ],
             [
              0.3333333333333333,
              "#9c179e"
             ],
             [
              0.4444444444444444,
              "#bd3786"
             ],
             [
              0.5555555555555556,
              "#d8576b"
             ],
             [
              0.6666666666666666,
              "#ed7953"
             ],
             [
              0.7777777777777778,
              "#fb9f3a"
             ],
             [
              0.8888888888888888,
              "#fdca26"
             ],
             [
              1,
              "#f0f921"
             ]
            ],
            "type": "histogram2dcontour"
           }
          ],
          "mesh3d": [
           {
            "colorbar": {
             "outlinewidth": 0,
             "ticks": ""
            },
            "type": "mesh3d"
           }
          ],
          "parcoords": [
           {
            "line": {
             "colorbar": {
              "outlinewidth": 0,
              "ticks": ""
             }
            },
            "type": "parcoords"
           }
          ],
          "pie": [
           {
            "automargin": true,
            "type": "pie"
           }
          ],
          "scatter": [
           {
            "marker": {
             "colorbar": {
              "outlinewidth": 0,
              "ticks": ""
             }
            },
            "type": "scatter"
           }
          ],
          "scatter3d": [
           {
            "line": {
             "colorbar": {
              "outlinewidth": 0,
              "ticks": ""
             }
            },
            "marker": {
             "colorbar": {
              "outlinewidth": 0,
              "ticks": ""
             }
            },
            "type": "scatter3d"
           }
          ],
          "scattercarpet": [
           {
            "marker": {
             "colorbar": {
              "outlinewidth": 0,
              "ticks": ""
             }
            },
            "type": "scattercarpet"
           }
          ],
          "scattergeo": [
           {
            "marker": {
             "colorbar": {
              "outlinewidth": 0,
              "ticks": ""
             }
            },
            "type": "scattergeo"
           }
          ],
          "scattergl": [
           {
            "marker": {
             "colorbar": {
              "outlinewidth": 0,
              "ticks": ""
             }
            },
            "type": "scattergl"
           }
          ],
          "scattermapbox": [
           {
            "marker": {
             "colorbar": {
              "outlinewidth": 0,
              "ticks": ""
             }
            },
            "type": "scattermapbox"
           }
          ],
          "scatterpolar": [
           {
            "marker": {
             "colorbar": {
              "outlinewidth": 0,
              "ticks": ""
             }
            },
            "type": "scatterpolar"
           }
          ],
          "scatterpolargl": [
           {
            "marker": {
             "colorbar": {
              "outlinewidth": 0,
              "ticks": ""
             }
            },
            "type": "scatterpolargl"
           }
          ],
          "scatterternary": [
           {
            "marker": {
             "colorbar": {
              "outlinewidth": 0,
              "ticks": ""
             }
            },
            "type": "scatterternary"
           }
          ],
          "surface": [
           {
            "colorbar": {
             "outlinewidth": 0,
             "ticks": ""
            },
            "colorscale": [
             [
              0,
              "#0d0887"
             ],
             [
              0.1111111111111111,
              "#46039f"
             ],
             [
              0.2222222222222222,
              "#7201a8"
             ],
             [
              0.3333333333333333,
              "#9c179e"
             ],
             [
              0.4444444444444444,
              "#bd3786"
             ],
             [
              0.5555555555555556,
              "#d8576b"
             ],
             [
              0.6666666666666666,
              "#ed7953"
             ],
             [
              0.7777777777777778,
              "#fb9f3a"
             ],
             [
              0.8888888888888888,
              "#fdca26"
             ],
             [
              1,
              "#f0f921"
             ]
            ],
            "type": "surface"
           }
          ],
          "table": [
           {
            "cells": {
             "fill": {
              "color": "#EBF0F8"
             },
             "line": {
              "color": "white"
             }
            },
            "header": {
             "fill": {
              "color": "#C8D4E3"
             },
             "line": {
              "color": "white"
             }
            },
            "type": "table"
           }
          ]
         },
         "layout": {
          "annotationdefaults": {
           "arrowcolor": "#2a3f5f",
           "arrowhead": 0,
           "arrowwidth": 1
          },
          "coloraxis": {
           "colorbar": {
            "outlinewidth": 0,
            "ticks": ""
           }
          },
          "colorscale": {
           "diverging": [
            [
             0,
             "#8e0152"
            ],
            [
             0.1,
             "#c51b7d"
            ],
            [
             0.2,
             "#de77ae"
            ],
            [
             0.3,
             "#f1b6da"
            ],
            [
             0.4,
             "#fde0ef"
            ],
            [
             0.5,
             "#f7f7f7"
            ],
            [
             0.6,
             "#e6f5d0"
            ],
            [
             0.7,
             "#b8e186"
            ],
            [
             0.8,
             "#7fbc41"
            ],
            [
             0.9,
             "#4d9221"
            ],
            [
             1,
             "#276419"
            ]
           ],
           "sequential": [
            [
             0,
             "#0d0887"
            ],
            [
             0.1111111111111111,
             "#46039f"
            ],
            [
             0.2222222222222222,
             "#7201a8"
            ],
            [
             0.3333333333333333,
             "#9c179e"
            ],
            [
             0.4444444444444444,
             "#bd3786"
            ],
            [
             0.5555555555555556,
             "#d8576b"
            ],
            [
             0.6666666666666666,
             "#ed7953"
            ],
            [
             0.7777777777777778,
             "#fb9f3a"
            ],
            [
             0.8888888888888888,
             "#fdca26"
            ],
            [
             1,
             "#f0f921"
            ]
           ],
           "sequentialminus": [
            [
             0,
             "#0d0887"
            ],
            [
             0.1111111111111111,
             "#46039f"
            ],
            [
             0.2222222222222222,
             "#7201a8"
            ],
            [
             0.3333333333333333,
             "#9c179e"
            ],
            [
             0.4444444444444444,
             "#bd3786"
            ],
            [
             0.5555555555555556,
             "#d8576b"
            ],
            [
             0.6666666666666666,
             "#ed7953"
            ],
            [
             0.7777777777777778,
             "#fb9f3a"
            ],
            [
             0.8888888888888888,
             "#fdca26"
            ],
            [
             1,
             "#f0f921"
            ]
           ]
          },
          "colorway": [
           "#636efa",
           "#EF553B",
           "#00cc96",
           "#ab63fa",
           "#FFA15A",
           "#19d3f3",
           "#FF6692",
           "#B6E880",
           "#FF97FF",
           "#FECB52"
          ],
          "font": {
           "color": "#2a3f5f"
          },
          "geo": {
           "bgcolor": "white",
           "lakecolor": "white",
           "landcolor": "#E5ECF6",
           "showlakes": true,
           "showland": true,
           "subunitcolor": "white"
          },
          "hoverlabel": {
           "align": "left"
          },
          "hovermode": "closest",
          "mapbox": {
           "style": "light"
          },
          "paper_bgcolor": "white",
          "plot_bgcolor": "#E5ECF6",
          "polar": {
           "angularaxis": {
            "gridcolor": "white",
            "linecolor": "white",
            "ticks": ""
           },
           "bgcolor": "#E5ECF6",
           "radialaxis": {
            "gridcolor": "white",
            "linecolor": "white",
            "ticks": ""
           }
          },
          "scene": {
           "xaxis": {
            "backgroundcolor": "#E5ECF6",
            "gridcolor": "white",
            "gridwidth": 2,
            "linecolor": "white",
            "showbackground": true,
            "ticks": "",
            "zerolinecolor": "white"
           },
           "yaxis": {
            "backgroundcolor": "#E5ECF6",
            "gridcolor": "white",
            "gridwidth": 2,
            "linecolor": "white",
            "showbackground": true,
            "ticks": "",
            "zerolinecolor": "white"
           },
           "zaxis": {
            "backgroundcolor": "#E5ECF6",
            "gridcolor": "white",
            "gridwidth": 2,
            "linecolor": "white",
            "showbackground": true,
            "ticks": "",
            "zerolinecolor": "white"
           }
          },
          "shapedefaults": {
           "line": {
            "color": "#2a3f5f"
           }
          },
          "ternary": {
           "aaxis": {
            "gridcolor": "white",
            "linecolor": "white",
            "ticks": ""
           },
           "baxis": {
            "gridcolor": "white",
            "linecolor": "white",
            "ticks": ""
           },
           "bgcolor": "#E5ECF6",
           "caxis": {
            "gridcolor": "white",
            "linecolor": "white",
            "ticks": ""
           }
          },
          "title": {
           "x": 0.05
          },
          "xaxis": {
           "automargin": true,
           "gridcolor": "white",
           "linecolor": "white",
           "ticks": "",
           "title": {
            "standoff": 15
           },
           "zerolinecolor": "white",
           "zerolinewidth": 2
          },
          "yaxis": {
           "automargin": true,
           "gridcolor": "white",
           "linecolor": "white",
           "ticks": "",
           "title": {
            "standoff": 15
           },
           "zerolinecolor": "white",
           "zerolinewidth": 2
          }
         }
        },
        "title": {
         "text": "(Pearson r Correlation) All Seasons Reports VS Demographic Data"
        },
        "width": 900,
        "xaxis": {
         "anchor": "y",
         "domain": [
          0,
          1
         ],
         "title": {
          "text": "Demographic Variables"
         }
        },
        "yaxis": {
         "anchor": "x",
         "domain": [
          0,
          1
         ],
         "title": {
          "text": "All Seasons vs Demographic Variables Correlation"
         }
        }
       }
      },
      "text/html": [
       "<div>\n",
       "        \n",
       "        \n",
       "            <div id=\"1fd4a22e-dcb1-424b-8de2-af6110b91977\" class=\"plotly-graph-div\" style=\"height:1000px; width:900px;\"></div>\n",
       "            <script type=\"text/javascript\">\n",
       "                require([\"plotly\"], function(Plotly) {\n",
       "                    window.PLOTLYENV=window.PLOTLYENV || {};\n",
       "                    \n",
       "                if (document.getElementById(\"1fd4a22e-dcb1-424b-8de2-af6110b91977\")) {\n",
       "                    Plotly.newPlot(\n",
       "                        '1fd4a22e-dcb1-424b-8de2-af6110b91977',\n",
       "                        [{\"hoverlabel\": {\"namelength\": 0}, \"hovertemplate\": \"DemographicVariable=%{x}<br>ALL_SEASONS=%{marker.color}\", \"legendgroup\": \"\", \"marker\": {\"color\": [0.2296088594428573, 0.20837961131314237, 0.24143552697929518, -0.012296887783073663, -0.009552852573213876, 0.009524543300635416, 0.01767907699902535, 0.017859791865788517, 0.025020334602353762, 0.008470190727996386, -0.005174532846072216, -0.01673769123161654, 0.004579767230436404, -0.038779574298564594, -0.03715909074523195, -0.03797410492576686, 0.003236476098078614, 0.02958704961182871, -0.0016660660631549916, -0.0036543014834933838, 0.009804953581415485, 6.323106870170882e-05, 0.026501513781944538, 0.013467620953001554, 0.024149181026318425, 0.0035387265028528118, -0.003298786697256661, 0.0010262763119439798, 0.010593912224162191, 0.014451355727120878, 0.002064387720700629, -0.023020269681779636, -0.04820238045863752], \"coloraxis\": \"coloraxis\", \"symbol\": \"circle\"}, \"mode\": \"markers\", \"name\": \"\", \"showlegend\": false, \"type\": \"scatter\", \"x\": [\"Total; Estimate; Total population\", \"Male; Estimate; Total population\", \"Female; Estimate; Total population\", \"Total; Estimate; AGE - Under 5 years\", \"Total; Estimate; AGE - 5 to 9 years\", \"Total; Estimate; AGE - 10 to 14 years\", \"Total; Estimate; AGE - 15 to 19 years\", \"Total; Estimate; AGE - 20 to 24 years\", \"Total; Estimate; AGE - 25 to 29 years\", \"Total; Estimate; AGE - 30 to 34 years\", \"Total; Estimate; AGE - 35 to 39 years\", \"Total; Estimate; AGE - 40 to 44 years\", \"Total; Estimate; AGE - 45 to 49 years\", \"Total; Estimate; AGE - 50 to 54 years\", \"Total; Estimate; AGE - 55 to 59 years\", \"Total; Estimate; AGE - 60 to 64 years\", \"Total; Estimate; AGE - 65 to 69 years\", \"Total; Estimate; AGE - 70 to 74 years\", \"Total; Estimate; AGE - 75 to 79 years\", \"Total; Estimate; AGE - 80 to 84 years\", \"Total; Estimate; AGE - 85 years and over\", \"Total; Estimate; SELECTED AGE CATEGORIES - 5 to 14 years\", \"Total; Estimate; SELECTED AGE CATEGORIES - 15 to 17 years\", \"Total; Estimate; SELECTED AGE CATEGORIES - 18 to 24 years\", \"Total; Estimate; SELECTED AGE CATEGORIES - 15 to 44 years\", \"Total; Estimate; SELECTED AGE CATEGORIES - 16 years and over\", \"Total; Estimate; SELECTED AGE CATEGORIES - 18 years and over\", \"Total; Estimate; SELECTED AGE CATEGORIES - 60 years and over\", \"Total; Estimate; SELECTED AGE CATEGORIES - 62 years and over\", \"Total; Estimate; SELECTED AGE CATEGORIES - 65 years and over\", \"Total; Estimate; SELECTED AGE CATEGORIES - 75 years and over\", \"Total; Estimate; PERCENT IMPUTED - Sex\", \"Total; Estimate; PERCENT IMPUTED - Age\"], \"xaxis\": \"x\", \"y\": [0.2296088594428573, 0.20837961131314237, 0.24143552697929518, -0.012296887783073663, -0.009552852573213876, 0.009524543300635416, 0.01767907699902535, 0.017859791865788517, 0.025020334602353762, 0.008470190727996386, -0.005174532846072216, -0.01673769123161654, 0.004579767230436404, -0.038779574298564594, -0.03715909074523195, -0.03797410492576686, 0.003236476098078614, 0.02958704961182871, -0.0016660660631549916, -0.0036543014834933838, 0.009804953581415485, 6.323106870170882e-05, 0.026501513781944538, 0.013467620953001554, 0.024149181026318425, 0.0035387265028528118, -0.003298786697256661, 0.0010262763119439798, 0.010593912224162191, 0.014451355727120878, 0.002064387720700629, -0.023020269681779636, -0.04820238045863752], \"yaxis\": \"y\"}],\n",
       "                        {\"coloraxis\": {\"colorbar\": {\"title\": {\"text\": \"ALL_SEASONS\"}}, \"colorscale\": [[0.0, \"rgb(103,0,31)\"], [0.1, \"rgb(178,24,43)\"], [0.2, \"rgb(214,96,77)\"], [0.3, \"rgb(244,165,130)\"], [0.4, \"rgb(253,219,199)\"], [0.5, \"rgb(247,247,247)\"], [0.6, \"rgb(209,229,240)\"], [0.7, \"rgb(146,197,222)\"], [0.8, \"rgb(67,147,195)\"], [0.9, \"rgb(33,102,172)\"], [1.0, \"rgb(5,48,97)\"]]}, \"height\": 1000, \"legend\": {\"tracegroupgap\": 0}, \"margin\": {\"t\": 60}, \"template\": {\"data\": {\"bar\": [{\"error_x\": {\"color\": \"#2a3f5f\"}, \"error_y\": {\"color\": \"#2a3f5f\"}, \"marker\": {\"line\": {\"color\": \"#E5ECF6\", \"width\": 0.5}}, \"type\": \"bar\"}], \"barpolar\": [{\"marker\": {\"line\": {\"color\": \"#E5ECF6\", \"width\": 0.5}}, \"type\": \"barpolar\"}], \"carpet\": [{\"aaxis\": {\"endlinecolor\": \"#2a3f5f\", \"gridcolor\": \"white\", \"linecolor\": \"white\", \"minorgridcolor\": \"white\", \"startlinecolor\": \"#2a3f5f\"}, \"baxis\": {\"endlinecolor\": \"#2a3f5f\", \"gridcolor\": \"white\", \"linecolor\": \"white\", \"minorgridcolor\": \"white\", \"startlinecolor\": \"#2a3f5f\"}, \"type\": \"carpet\"}], \"choropleth\": [{\"colorbar\": {\"outlinewidth\": 0, \"ticks\": \"\"}, \"type\": \"choropleth\"}], \"contour\": [{\"colorbar\": {\"outlinewidth\": 0, \"ticks\": \"\"}, \"colorscale\": [[0.0, \"#0d0887\"], [0.1111111111111111, \"#46039f\"], [0.2222222222222222, \"#7201a8\"], [0.3333333333333333, \"#9c179e\"], [0.4444444444444444, \"#bd3786\"], [0.5555555555555556, \"#d8576b\"], [0.6666666666666666, \"#ed7953\"], [0.7777777777777778, \"#fb9f3a\"], [0.8888888888888888, \"#fdca26\"], [1.0, \"#f0f921\"]], \"type\": \"contour\"}], \"contourcarpet\": [{\"colorbar\": {\"outlinewidth\": 0, \"ticks\": \"\"}, \"type\": \"contourcarpet\"}], \"heatmap\": [{\"colorbar\": {\"outlinewidth\": 0, \"ticks\": \"\"}, \"colorscale\": [[0.0, \"#0d0887\"], [0.1111111111111111, \"#46039f\"], [0.2222222222222222, \"#7201a8\"], [0.3333333333333333, \"#9c179e\"], [0.4444444444444444, \"#bd3786\"], [0.5555555555555556, \"#d8576b\"], [0.6666666666666666, \"#ed7953\"], [0.7777777777777778, \"#fb9f3a\"], [0.8888888888888888, \"#fdca26\"], [1.0, \"#f0f921\"]], \"type\": \"heatmap\"}], \"heatmapgl\": [{\"colorbar\": {\"outlinewidth\": 0, \"ticks\": \"\"}, \"colorscale\": [[0.0, \"#0d0887\"], [0.1111111111111111, \"#46039f\"], [0.2222222222222222, \"#7201a8\"], [0.3333333333333333, \"#9c179e\"], [0.4444444444444444, \"#bd3786\"], [0.5555555555555556, \"#d8576b\"], [0.6666666666666666, \"#ed7953\"], [0.7777777777777778, \"#fb9f3a\"], [0.8888888888888888, \"#fdca26\"], [1.0, \"#f0f921\"]], \"type\": \"heatmapgl\"}], \"histogram\": [{\"marker\": {\"colorbar\": {\"outlinewidth\": 0, \"ticks\": \"\"}}, \"type\": \"histogram\"}], \"histogram2d\": [{\"colorbar\": {\"outlinewidth\": 0, \"ticks\": \"\"}, \"colorscale\": [[0.0, \"#0d0887\"], [0.1111111111111111, \"#46039f\"], [0.2222222222222222, \"#7201a8\"], [0.3333333333333333, \"#9c179e\"], [0.4444444444444444, \"#bd3786\"], [0.5555555555555556, \"#d8576b\"], [0.6666666666666666, \"#ed7953\"], [0.7777777777777778, \"#fb9f3a\"], [0.8888888888888888, \"#fdca26\"], [1.0, \"#f0f921\"]], \"type\": \"histogram2d\"}], \"histogram2dcontour\": [{\"colorbar\": {\"outlinewidth\": 0, \"ticks\": \"\"}, \"colorscale\": [[0.0, \"#0d0887\"], [0.1111111111111111, \"#46039f\"], [0.2222222222222222, \"#7201a8\"], [0.3333333333333333, \"#9c179e\"], [0.4444444444444444, \"#bd3786\"], [0.5555555555555556, \"#d8576b\"], [0.6666666666666666, \"#ed7953\"], [0.7777777777777778, \"#fb9f3a\"], [0.8888888888888888, \"#fdca26\"], [1.0, \"#f0f921\"]], \"type\": \"histogram2dcontour\"}], \"mesh3d\": [{\"colorbar\": {\"outlinewidth\": 0, \"ticks\": \"\"}, \"type\": \"mesh3d\"}], \"parcoords\": [{\"line\": {\"colorbar\": {\"outlinewidth\": 0, \"ticks\": \"\"}}, \"type\": \"parcoords\"}], \"pie\": [{\"automargin\": true, \"type\": \"pie\"}], \"scatter\": [{\"marker\": {\"colorbar\": {\"outlinewidth\": 0, \"ticks\": \"\"}}, \"type\": \"scatter\"}], \"scatter3d\": [{\"line\": {\"colorbar\": {\"outlinewidth\": 0, \"ticks\": \"\"}}, \"marker\": {\"colorbar\": {\"outlinewidth\": 0, \"ticks\": \"\"}}, \"type\": \"scatter3d\"}], \"scattercarpet\": [{\"marker\": {\"colorbar\": {\"outlinewidth\": 0, \"ticks\": \"\"}}, \"type\": \"scattercarpet\"}], \"scattergeo\": [{\"marker\": {\"colorbar\": {\"outlinewidth\": 0, \"ticks\": \"\"}}, \"type\": \"scattergeo\"}], \"scattergl\": [{\"marker\": {\"colorbar\": {\"outlinewidth\": 0, \"ticks\": \"\"}}, \"type\": \"scattergl\"}], \"scattermapbox\": [{\"marker\": {\"colorbar\": {\"outlinewidth\": 0, \"ticks\": \"\"}}, \"type\": \"scattermapbox\"}], \"scatterpolar\": [{\"marker\": {\"colorbar\": {\"outlinewidth\": 0, \"ticks\": \"\"}}, \"type\": \"scatterpolar\"}], \"scatterpolargl\": [{\"marker\": {\"colorbar\": {\"outlinewidth\": 0, \"ticks\": \"\"}}, \"type\": \"scatterpolargl\"}], \"scatterternary\": [{\"marker\": {\"colorbar\": {\"outlinewidth\": 0, \"ticks\": \"\"}}, \"type\": \"scatterternary\"}], \"surface\": [{\"colorbar\": {\"outlinewidth\": 0, \"ticks\": \"\"}, \"colorscale\": [[0.0, \"#0d0887\"], [0.1111111111111111, \"#46039f\"], [0.2222222222222222, \"#7201a8\"], [0.3333333333333333, \"#9c179e\"], [0.4444444444444444, \"#bd3786\"], [0.5555555555555556, \"#d8576b\"], [0.6666666666666666, \"#ed7953\"], [0.7777777777777778, \"#fb9f3a\"], [0.8888888888888888, \"#fdca26\"], [1.0, \"#f0f921\"]], \"type\": \"surface\"}], \"table\": [{\"cells\": {\"fill\": {\"color\": \"#EBF0F8\"}, \"line\": {\"color\": \"white\"}}, \"header\": {\"fill\": {\"color\": \"#C8D4E3\"}, \"line\": {\"color\": \"white\"}}, \"type\": \"table\"}]}, \"layout\": {\"annotationdefaults\": {\"arrowcolor\": \"#2a3f5f\", \"arrowhead\": 0, \"arrowwidth\": 1}, \"coloraxis\": {\"colorbar\": {\"outlinewidth\": 0, \"ticks\": \"\"}}, \"colorscale\": {\"diverging\": [[0, \"#8e0152\"], [0.1, \"#c51b7d\"], [0.2, \"#de77ae\"], [0.3, \"#f1b6da\"], [0.4, \"#fde0ef\"], [0.5, \"#f7f7f7\"], [0.6, \"#e6f5d0\"], [0.7, \"#b8e186\"], [0.8, \"#7fbc41\"], [0.9, \"#4d9221\"], [1, \"#276419\"]], \"sequential\": [[0.0, \"#0d0887\"], [0.1111111111111111, \"#46039f\"], [0.2222222222222222, \"#7201a8\"], [0.3333333333333333, \"#9c179e\"], [0.4444444444444444, \"#bd3786\"], [0.5555555555555556, \"#d8576b\"], [0.6666666666666666, \"#ed7953\"], [0.7777777777777778, \"#fb9f3a\"], [0.8888888888888888, \"#fdca26\"], [1.0, \"#f0f921\"]], \"sequentialminus\": [[0.0, \"#0d0887\"], [0.1111111111111111, \"#46039f\"], [0.2222222222222222, \"#7201a8\"], [0.3333333333333333, \"#9c179e\"], [0.4444444444444444, \"#bd3786\"], [0.5555555555555556, \"#d8576b\"], [0.6666666666666666, \"#ed7953\"], [0.7777777777777778, \"#fb9f3a\"], [0.8888888888888888, \"#fdca26\"], [1.0, \"#f0f921\"]]}, \"colorway\": [\"#636efa\", \"#EF553B\", \"#00cc96\", \"#ab63fa\", \"#FFA15A\", \"#19d3f3\", \"#FF6692\", \"#B6E880\", \"#FF97FF\", \"#FECB52\"], \"font\": {\"color\": \"#2a3f5f\"}, \"geo\": {\"bgcolor\": \"white\", \"lakecolor\": \"white\", \"landcolor\": \"#E5ECF6\", \"showlakes\": true, \"showland\": true, \"subunitcolor\": \"white\"}, \"hoverlabel\": {\"align\": \"left\"}, \"hovermode\": \"closest\", \"mapbox\": {\"style\": \"light\"}, \"paper_bgcolor\": \"white\", \"plot_bgcolor\": \"#E5ECF6\", \"polar\": {\"angularaxis\": {\"gridcolor\": \"white\", \"linecolor\": \"white\", \"ticks\": \"\"}, \"bgcolor\": \"#E5ECF6\", \"radialaxis\": {\"gridcolor\": \"white\", \"linecolor\": \"white\", \"ticks\": \"\"}}, \"scene\": {\"xaxis\": {\"backgroundcolor\": \"#E5ECF6\", \"gridcolor\": \"white\", \"gridwidth\": 2, \"linecolor\": \"white\", \"showbackground\": true, \"ticks\": \"\", \"zerolinecolor\": \"white\"}, \"yaxis\": {\"backgroundcolor\": \"#E5ECF6\", \"gridcolor\": \"white\", \"gridwidth\": 2, \"linecolor\": \"white\", \"showbackground\": true, \"ticks\": \"\", \"zerolinecolor\": \"white\"}, \"zaxis\": {\"backgroundcolor\": \"#E5ECF6\", \"gridcolor\": \"white\", \"gridwidth\": 2, \"linecolor\": \"white\", \"showbackground\": true, \"ticks\": \"\", \"zerolinecolor\": \"white\"}}, \"shapedefaults\": {\"line\": {\"color\": \"#2a3f5f\"}}, \"ternary\": {\"aaxis\": {\"gridcolor\": \"white\", \"linecolor\": \"white\", \"ticks\": \"\"}, \"baxis\": {\"gridcolor\": \"white\", \"linecolor\": \"white\", \"ticks\": \"\"}, \"bgcolor\": \"#E5ECF6\", \"caxis\": {\"gridcolor\": \"white\", \"linecolor\": \"white\", \"ticks\": \"\"}}, \"title\": {\"x\": 0.05}, \"xaxis\": {\"automargin\": true, \"gridcolor\": \"white\", \"linecolor\": \"white\", \"ticks\": \"\", \"title\": {\"standoff\": 15}, \"zerolinecolor\": \"white\", \"zerolinewidth\": 2}, \"yaxis\": {\"automargin\": true, \"gridcolor\": \"white\", \"linecolor\": \"white\", \"ticks\": \"\", \"title\": {\"standoff\": 15}, \"zerolinecolor\": \"white\", \"zerolinewidth\": 2}}}, \"title\": {\"text\": \"(Pearson r Correlation) All Seasons Reports VS Demographic Data\"}, \"width\": 900, \"xaxis\": {\"anchor\": \"y\", \"domain\": [0.0, 1.0], \"title\": {\"text\": \"Demographic Variables\"}}, \"yaxis\": {\"anchor\": \"x\", \"domain\": [0.0, 1.0], \"title\": {\"text\": \"All Seasons vs Demographic Variables Correlation\"}}},\n",
       "                        {\"responsive\": true}\n",
       "                    ).then(function(){\n",
       "                            \n",
       "var gd = document.getElementById('1fd4a22e-dcb1-424b-8de2-af6110b91977');\n",
       "var x = new MutationObserver(function (mutations, observer) {{\n",
       "        var display = window.getComputedStyle(gd).display;\n",
       "        if (!display || display === 'none') {{\n",
       "            console.log([gd, 'removed!']);\n",
       "            Plotly.purge(gd);\n",
       "            observer.disconnect();\n",
       "        }}\n",
       "}});\n",
       "\n",
       "// Listen for the removal of the full notebook cells\n",
       "var notebookContainer = gd.closest('#notebook-container');\n",
       "if (notebookContainer) {{\n",
       "    x.observe(notebookContainer, {childList: true});\n",
       "}}\n",
       "\n",
       "// Listen for the clearing of the current output cell\n",
       "var outputEl = gd.closest('.output');\n",
       "if (outputEl) {{\n",
       "    x.observe(outputEl, {childList: true});\n",
       "}}\n",
       "\n",
       "                        })\n",
       "                };\n",
       "                });\n",
       "            </script>\n",
       "        </div>"
      ]
     },
     "metadata": {},
     "output_type": "display_data"
    }
   ],
   "source": [
    "season_to_do = \"ALL_SEASONS\"\n",
    "fig = px.scatter(corr, x=\"DemographicVariable\", y=season_to_do, color=season_to_do, \n",
    "                color_continuous_scale=px.colors.sequential.RdBu,\n",
    "                width=900, height=1000)\n",
    "fig.update_layout(\n",
    "    title = '(Pearson r Correlation) '+\"All Seasons\"+' Reports VS Demographic Data',\n",
    "    yaxis_title = \"All Seasons\"+' vs Demographic Variables Correlation',\n",
    "    xaxis_title = \"Demographic Variables\",\n",
    ")\n",
    "fig.show()"
   ]
  },
  {
   "cell_type": "code",
   "execution_count": 14,
   "metadata": {},
   "outputs": [
    {
     "data": {
      "application/vnd.plotly.v1+json": {
       "config": {
        "plotlyServerURL": "https://plot.ly"
       },
       "data": [
        {
         "hoverlabel": {
          "namelength": 0
         },
         "hovertemplate": "DemographicVariable=%{x}<br>Spring=%{marker.color}",
         "legendgroup": "",
         "marker": {
          "color": [
           0.21693277168356098,
           0.19814197037530026,
           0.227015059253879,
           -0.013306923072791473,
           -0.017169716201566702,
           -0.003143366860213718,
           0.009869862487322878,
           0.02124560946491263,
           0.029232311422426122,
           0.015054036361070985,
           0.002048143575518908,
           -0.01899255432888468,
           0.001483842065646819,
           -0.03728378862488732,
           -0.03363922305487487,
           -0.033512567121383556,
           0.0012989528643993218,
           0.031040278092292203,
           0.0029956016584179496,
           -0.0017029775499190908,
           0.007871164054111162,
           -0.011923186255443578,
           0.015752579520805884,
           0.015374224513315857,
           0.028711818705136404,
           0.012844273657644085,
           0.007773915509838514,
           0.003280909726676905,
           0.011397419553398902,
           0.015470087147200546,
           0.003815966717898716,
           -0.017754206267565985,
           -0.047432459246907366
          ],
          "coloraxis": "coloraxis",
          "symbol": "circle"
         },
         "mode": "markers",
         "name": "",
         "showlegend": false,
         "type": "scatter",
         "x": [
          "Total; Estimate; Total population",
          "Male; Estimate; Total population",
          "Female; Estimate; Total population",
          "Total; Estimate; AGE - Under 5 years",
          "Total; Estimate; AGE - 5 to 9 years",
          "Total; Estimate; AGE - 10 to 14 years",
          "Total; Estimate; AGE - 15 to 19 years",
          "Total; Estimate; AGE - 20 to 24 years",
          "Total; Estimate; AGE - 25 to 29 years",
          "Total; Estimate; AGE - 30 to 34 years",
          "Total; Estimate; AGE - 35 to 39 years",
          "Total; Estimate; AGE - 40 to 44 years",
          "Total; Estimate; AGE - 45 to 49 years",
          "Total; Estimate; AGE - 50 to 54 years",
          "Total; Estimate; AGE - 55 to 59 years",
          "Total; Estimate; AGE - 60 to 64 years",
          "Total; Estimate; AGE - 65 to 69 years",
          "Total; Estimate; AGE - 70 to 74 years",
          "Total; Estimate; AGE - 75 to 79 years",
          "Total; Estimate; AGE - 80 to 84 years",
          "Total; Estimate; AGE - 85 years and over",
          "Total; Estimate; SELECTED AGE CATEGORIES - 5 to 14 years",
          "Total; Estimate; SELECTED AGE CATEGORIES - 15 to 17 years",
          "Total; Estimate; SELECTED AGE CATEGORIES - 18 to 24 years",
          "Total; Estimate; SELECTED AGE CATEGORIES - 15 to 44 years",
          "Total; Estimate; SELECTED AGE CATEGORIES - 16 years and over",
          "Total; Estimate; SELECTED AGE CATEGORIES - 18 years and over",
          "Total; Estimate; SELECTED AGE CATEGORIES - 60 years and over",
          "Total; Estimate; SELECTED AGE CATEGORIES - 62 years and over",
          "Total; Estimate; SELECTED AGE CATEGORIES - 65 years and over",
          "Total; Estimate; SELECTED AGE CATEGORIES - 75 years and over",
          "Total; Estimate; PERCENT IMPUTED - Sex",
          "Total; Estimate; PERCENT IMPUTED - Age"
         ],
         "xaxis": "x",
         "y": [
          0.21693277168356098,
          0.19814197037530026,
          0.227015059253879,
          -0.013306923072791473,
          -0.017169716201566702,
          -0.003143366860213718,
          0.009869862487322878,
          0.02124560946491263,
          0.029232311422426122,
          0.015054036361070985,
          0.002048143575518908,
          -0.01899255432888468,
          0.001483842065646819,
          -0.03728378862488732,
          -0.03363922305487487,
          -0.033512567121383556,
          0.0012989528643993218,
          0.031040278092292203,
          0.0029956016584179496,
          -0.0017029775499190908,
          0.007871164054111162,
          -0.011923186255443578,
          0.015752579520805884,
          0.015374224513315857,
          0.028711818705136404,
          0.012844273657644085,
          0.007773915509838514,
          0.003280909726676905,
          0.011397419553398902,
          0.015470087147200546,
          0.003815966717898716,
          -0.017754206267565985,
          -0.047432459246907366
         ],
         "yaxis": "y"
        }
       ],
       "layout": {
        "coloraxis": {
         "colorbar": {
          "title": {
           "text": "Spring"
          }
         },
         "colorscale": [
          [
           0,
           "rgb(103,0,31)"
          ],
          [
           0.1,
           "rgb(178,24,43)"
          ],
          [
           0.2,
           "rgb(214,96,77)"
          ],
          [
           0.3,
           "rgb(244,165,130)"
          ],
          [
           0.4,
           "rgb(253,219,199)"
          ],
          [
           0.5,
           "rgb(247,247,247)"
          ],
          [
           0.6,
           "rgb(209,229,240)"
          ],
          [
           0.7,
           "rgb(146,197,222)"
          ],
          [
           0.8,
           "rgb(67,147,195)"
          ],
          [
           0.9,
           "rgb(33,102,172)"
          ],
          [
           1,
           "rgb(5,48,97)"
          ]
         ]
        },
        "height": 1000,
        "legend": {
         "tracegroupgap": 0
        },
        "margin": {
         "t": 60
        },
        "template": {
         "data": {
          "bar": [
           {
            "error_x": {
             "color": "#2a3f5f"
            },
            "error_y": {
             "color": "#2a3f5f"
            },
            "marker": {
             "line": {
              "color": "#E5ECF6",
              "width": 0.5
             }
            },
            "type": "bar"
           }
          ],
          "barpolar": [
           {
            "marker": {
             "line": {
              "color": "#E5ECF6",
              "width": 0.5
             }
            },
            "type": "barpolar"
           }
          ],
          "carpet": [
           {
            "aaxis": {
             "endlinecolor": "#2a3f5f",
             "gridcolor": "white",
             "linecolor": "white",
             "minorgridcolor": "white",
             "startlinecolor": "#2a3f5f"
            },
            "baxis": {
             "endlinecolor": "#2a3f5f",
             "gridcolor": "white",
             "linecolor": "white",
             "minorgridcolor": "white",
             "startlinecolor": "#2a3f5f"
            },
            "type": "carpet"
           }
          ],
          "choropleth": [
           {
            "colorbar": {
             "outlinewidth": 0,
             "ticks": ""
            },
            "type": "choropleth"
           }
          ],
          "contour": [
           {
            "colorbar": {
             "outlinewidth": 0,
             "ticks": ""
            },
            "colorscale": [
             [
              0,
              "#0d0887"
             ],
             [
              0.1111111111111111,
              "#46039f"
             ],
             [
              0.2222222222222222,
              "#7201a8"
             ],
             [
              0.3333333333333333,
              "#9c179e"
             ],
             [
              0.4444444444444444,
              "#bd3786"
             ],
             [
              0.5555555555555556,
              "#d8576b"
             ],
             [
              0.6666666666666666,
              "#ed7953"
             ],
             [
              0.7777777777777778,
              "#fb9f3a"
             ],
             [
              0.8888888888888888,
              "#fdca26"
             ],
             [
              1,
              "#f0f921"
             ]
            ],
            "type": "contour"
           }
          ],
          "contourcarpet": [
           {
            "colorbar": {
             "outlinewidth": 0,
             "ticks": ""
            },
            "type": "contourcarpet"
           }
          ],
          "heatmap": [
           {
            "colorbar": {
             "outlinewidth": 0,
             "ticks": ""
            },
            "colorscale": [
             [
              0,
              "#0d0887"
             ],
             [
              0.1111111111111111,
              "#46039f"
             ],
             [
              0.2222222222222222,
              "#7201a8"
             ],
             [
              0.3333333333333333,
              "#9c179e"
             ],
             [
              0.4444444444444444,
              "#bd3786"
             ],
             [
              0.5555555555555556,
              "#d8576b"
             ],
             [
              0.6666666666666666,
              "#ed7953"
             ],
             [
              0.7777777777777778,
              "#fb9f3a"
             ],
             [
              0.8888888888888888,
              "#fdca26"
             ],
             [
              1,
              "#f0f921"
             ]
            ],
            "type": "heatmap"
           }
          ],
          "heatmapgl": [
           {
            "colorbar": {
             "outlinewidth": 0,
             "ticks": ""
            },
            "colorscale": [
             [
              0,
              "#0d0887"
             ],
             [
              0.1111111111111111,
              "#46039f"
             ],
             [
              0.2222222222222222,
              "#7201a8"
             ],
             [
              0.3333333333333333,
              "#9c179e"
             ],
             [
              0.4444444444444444,
              "#bd3786"
             ],
             [
              0.5555555555555556,
              "#d8576b"
             ],
             [
              0.6666666666666666,
              "#ed7953"
             ],
             [
              0.7777777777777778,
              "#fb9f3a"
             ],
             [
              0.8888888888888888,
              "#fdca26"
             ],
             [
              1,
              "#f0f921"
             ]
            ],
            "type": "heatmapgl"
           }
          ],
          "histogram": [
           {
            "marker": {
             "colorbar": {
              "outlinewidth": 0,
              "ticks": ""
             }
            },
            "type": "histogram"
           }
          ],
          "histogram2d": [
           {
            "colorbar": {
             "outlinewidth": 0,
             "ticks": ""
            },
            "colorscale": [
             [
              0,
              "#0d0887"
             ],
             [
              0.1111111111111111,
              "#46039f"
             ],
             [
              0.2222222222222222,
              "#7201a8"
             ],
             [
              0.3333333333333333,
              "#9c179e"
             ],
             [
              0.4444444444444444,
              "#bd3786"
             ],
             [
              0.5555555555555556,
              "#d8576b"
             ],
             [
              0.6666666666666666,
              "#ed7953"
             ],
             [
              0.7777777777777778,
              "#fb9f3a"
             ],
             [
              0.8888888888888888,
              "#fdca26"
             ],
             [
              1,
              "#f0f921"
             ]
            ],
            "type": "histogram2d"
           }
          ],
          "histogram2dcontour": [
           {
            "colorbar": {
             "outlinewidth": 0,
             "ticks": ""
            },
            "colorscale": [
             [
              0,
              "#0d0887"
             ],
             [
              0.1111111111111111,
              "#46039f"
             ],
             [
              0.2222222222222222,
              "#7201a8"
             ],
             [
              0.3333333333333333,
              "#9c179e"
             ],
             [
              0.4444444444444444,
              "#bd3786"
             ],
             [
              0.5555555555555556,
              "#d8576b"
             ],
             [
              0.6666666666666666,
              "#ed7953"
             ],
             [
              0.7777777777777778,
              "#fb9f3a"
             ],
             [
              0.8888888888888888,
              "#fdca26"
             ],
             [
              1,
              "#f0f921"
             ]
            ],
            "type": "histogram2dcontour"
           }
          ],
          "mesh3d": [
           {
            "colorbar": {
             "outlinewidth": 0,
             "ticks": ""
            },
            "type": "mesh3d"
           }
          ],
          "parcoords": [
           {
            "line": {
             "colorbar": {
              "outlinewidth": 0,
              "ticks": ""
             }
            },
            "type": "parcoords"
           }
          ],
          "pie": [
           {
            "automargin": true,
            "type": "pie"
           }
          ],
          "scatter": [
           {
            "marker": {
             "colorbar": {
              "outlinewidth": 0,
              "ticks": ""
             }
            },
            "type": "scatter"
           }
          ],
          "scatter3d": [
           {
            "line": {
             "colorbar": {
              "outlinewidth": 0,
              "ticks": ""
             }
            },
            "marker": {
             "colorbar": {
              "outlinewidth": 0,
              "ticks": ""
             }
            },
            "type": "scatter3d"
           }
          ],
          "scattercarpet": [
           {
            "marker": {
             "colorbar": {
              "outlinewidth": 0,
              "ticks": ""
             }
            },
            "type": "scattercarpet"
           }
          ],
          "scattergeo": [
           {
            "marker": {
             "colorbar": {
              "outlinewidth": 0,
              "ticks": ""
             }
            },
            "type": "scattergeo"
           }
          ],
          "scattergl": [
           {
            "marker": {
             "colorbar": {
              "outlinewidth": 0,
              "ticks": ""
             }
            },
            "type": "scattergl"
           }
          ],
          "scattermapbox": [
           {
            "marker": {
             "colorbar": {
              "outlinewidth": 0,
              "ticks": ""
             }
            },
            "type": "scattermapbox"
           }
          ],
          "scatterpolar": [
           {
            "marker": {
             "colorbar": {
              "outlinewidth": 0,
              "ticks": ""
             }
            },
            "type": "scatterpolar"
           }
          ],
          "scatterpolargl": [
           {
            "marker": {
             "colorbar": {
              "outlinewidth": 0,
              "ticks": ""
             }
            },
            "type": "scatterpolargl"
           }
          ],
          "scatterternary": [
           {
            "marker": {
             "colorbar": {
              "outlinewidth": 0,
              "ticks": ""
             }
            },
            "type": "scatterternary"
           }
          ],
          "surface": [
           {
            "colorbar": {
             "outlinewidth": 0,
             "ticks": ""
            },
            "colorscale": [
             [
              0,
              "#0d0887"
             ],
             [
              0.1111111111111111,
              "#46039f"
             ],
             [
              0.2222222222222222,
              "#7201a8"
             ],
             [
              0.3333333333333333,
              "#9c179e"
             ],
             [
              0.4444444444444444,
              "#bd3786"
             ],
             [
              0.5555555555555556,
              "#d8576b"
             ],
             [
              0.6666666666666666,
              "#ed7953"
             ],
             [
              0.7777777777777778,
              "#fb9f3a"
             ],
             [
              0.8888888888888888,
              "#fdca26"
             ],
             [
              1,
              "#f0f921"
             ]
            ],
            "type": "surface"
           }
          ],
          "table": [
           {
            "cells": {
             "fill": {
              "color": "#EBF0F8"
             },
             "line": {
              "color": "white"
             }
            },
            "header": {
             "fill": {
              "color": "#C8D4E3"
             },
             "line": {
              "color": "white"
             }
            },
            "type": "table"
           }
          ]
         },
         "layout": {
          "annotationdefaults": {
           "arrowcolor": "#2a3f5f",
           "arrowhead": 0,
           "arrowwidth": 1
          },
          "coloraxis": {
           "colorbar": {
            "outlinewidth": 0,
            "ticks": ""
           }
          },
          "colorscale": {
           "diverging": [
            [
             0,
             "#8e0152"
            ],
            [
             0.1,
             "#c51b7d"
            ],
            [
             0.2,
             "#de77ae"
            ],
            [
             0.3,
             "#f1b6da"
            ],
            [
             0.4,
             "#fde0ef"
            ],
            [
             0.5,
             "#f7f7f7"
            ],
            [
             0.6,
             "#e6f5d0"
            ],
            [
             0.7,
             "#b8e186"
            ],
            [
             0.8,
             "#7fbc41"
            ],
            [
             0.9,
             "#4d9221"
            ],
            [
             1,
             "#276419"
            ]
           ],
           "sequential": [
            [
             0,
             "#0d0887"
            ],
            [
             0.1111111111111111,
             "#46039f"
            ],
            [
             0.2222222222222222,
             "#7201a8"
            ],
            [
             0.3333333333333333,
             "#9c179e"
            ],
            [
             0.4444444444444444,
             "#bd3786"
            ],
            [
             0.5555555555555556,
             "#d8576b"
            ],
            [
             0.6666666666666666,
             "#ed7953"
            ],
            [
             0.7777777777777778,
             "#fb9f3a"
            ],
            [
             0.8888888888888888,
             "#fdca26"
            ],
            [
             1,
             "#f0f921"
            ]
           ],
           "sequentialminus": [
            [
             0,
             "#0d0887"
            ],
            [
             0.1111111111111111,
             "#46039f"
            ],
            [
             0.2222222222222222,
             "#7201a8"
            ],
            [
             0.3333333333333333,
             "#9c179e"
            ],
            [
             0.4444444444444444,
             "#bd3786"
            ],
            [
             0.5555555555555556,
             "#d8576b"
            ],
            [
             0.6666666666666666,
             "#ed7953"
            ],
            [
             0.7777777777777778,
             "#fb9f3a"
            ],
            [
             0.8888888888888888,
             "#fdca26"
            ],
            [
             1,
             "#f0f921"
            ]
           ]
          },
          "colorway": [
           "#636efa",
           "#EF553B",
           "#00cc96",
           "#ab63fa",
           "#FFA15A",
           "#19d3f3",
           "#FF6692",
           "#B6E880",
           "#FF97FF",
           "#FECB52"
          ],
          "font": {
           "color": "#2a3f5f"
          },
          "geo": {
           "bgcolor": "white",
           "lakecolor": "white",
           "landcolor": "#E5ECF6",
           "showlakes": true,
           "showland": true,
           "subunitcolor": "white"
          },
          "hoverlabel": {
           "align": "left"
          },
          "hovermode": "closest",
          "mapbox": {
           "style": "light"
          },
          "paper_bgcolor": "white",
          "plot_bgcolor": "#E5ECF6",
          "polar": {
           "angularaxis": {
            "gridcolor": "white",
            "linecolor": "white",
            "ticks": ""
           },
           "bgcolor": "#E5ECF6",
           "radialaxis": {
            "gridcolor": "white",
            "linecolor": "white",
            "ticks": ""
           }
          },
          "scene": {
           "xaxis": {
            "backgroundcolor": "#E5ECF6",
            "gridcolor": "white",
            "gridwidth": 2,
            "linecolor": "white",
            "showbackground": true,
            "ticks": "",
            "zerolinecolor": "white"
           },
           "yaxis": {
            "backgroundcolor": "#E5ECF6",
            "gridcolor": "white",
            "gridwidth": 2,
            "linecolor": "white",
            "showbackground": true,
            "ticks": "",
            "zerolinecolor": "white"
           },
           "zaxis": {
            "backgroundcolor": "#E5ECF6",
            "gridcolor": "white",
            "gridwidth": 2,
            "linecolor": "white",
            "showbackground": true,
            "ticks": "",
            "zerolinecolor": "white"
           }
          },
          "shapedefaults": {
           "line": {
            "color": "#2a3f5f"
           }
          },
          "ternary": {
           "aaxis": {
            "gridcolor": "white",
            "linecolor": "white",
            "ticks": ""
           },
           "baxis": {
            "gridcolor": "white",
            "linecolor": "white",
            "ticks": ""
           },
           "bgcolor": "#E5ECF6",
           "caxis": {
            "gridcolor": "white",
            "linecolor": "white",
            "ticks": ""
           }
          },
          "title": {
           "x": 0.05
          },
          "xaxis": {
           "automargin": true,
           "gridcolor": "white",
           "linecolor": "white",
           "ticks": "",
           "title": {
            "standoff": 15
           },
           "zerolinecolor": "white",
           "zerolinewidth": 2
          },
          "yaxis": {
           "automargin": true,
           "gridcolor": "white",
           "linecolor": "white",
           "ticks": "",
           "title": {
            "standoff": 15
           },
           "zerolinecolor": "white",
           "zerolinewidth": 2
          }
         }
        },
        "title": {
         "text": "(Pearson r Correlation) Spring Reports VS Demographic Data"
        },
        "width": 900,
        "xaxis": {
         "anchor": "y",
         "domain": [
          0,
          1
         ],
         "title": {
          "text": "Demographic Variables"
         }
        },
        "yaxis": {
         "anchor": "x",
         "domain": [
          0,
          1
         ],
         "title": {
          "text": "Spring vs Demographic Variables Correlation"
         }
        }
       }
      },
      "text/html": [
       "<div>\n",
       "        \n",
       "        \n",
       "            <div id=\"b171ce55-cfbe-4ef9-903d-78abff963799\" class=\"plotly-graph-div\" style=\"height:1000px; width:900px;\"></div>\n",
       "            <script type=\"text/javascript\">\n",
       "                require([\"plotly\"], function(Plotly) {\n",
       "                    window.PLOTLYENV=window.PLOTLYENV || {};\n",
       "                    \n",
       "                if (document.getElementById(\"b171ce55-cfbe-4ef9-903d-78abff963799\")) {\n",
       "                    Plotly.newPlot(\n",
       "                        'b171ce55-cfbe-4ef9-903d-78abff963799',\n",
       "                        [{\"hoverlabel\": {\"namelength\": 0}, \"hovertemplate\": \"DemographicVariable=%{x}<br>Spring=%{marker.color}\", \"legendgroup\": \"\", \"marker\": {\"color\": [0.21693277168356098, 0.19814197037530026, 0.227015059253879, -0.013306923072791473, -0.017169716201566702, -0.003143366860213718, 0.009869862487322878, 0.02124560946491263, 0.029232311422426122, 0.015054036361070985, 0.002048143575518908, -0.01899255432888468, 0.001483842065646819, -0.03728378862488732, -0.03363922305487487, -0.033512567121383556, 0.0012989528643993218, 0.031040278092292203, 0.0029956016584179496, -0.0017029775499190908, 0.007871164054111162, -0.011923186255443578, 0.015752579520805884, 0.015374224513315857, 0.028711818705136404, 0.012844273657644085, 0.007773915509838514, 0.003280909726676905, 0.011397419553398902, 0.015470087147200546, 0.003815966717898716, -0.017754206267565985, -0.047432459246907366], \"coloraxis\": \"coloraxis\", \"symbol\": \"circle\"}, \"mode\": \"markers\", \"name\": \"\", \"showlegend\": false, \"type\": \"scatter\", \"x\": [\"Total; Estimate; Total population\", \"Male; Estimate; Total population\", \"Female; Estimate; Total population\", \"Total; Estimate; AGE - Under 5 years\", \"Total; Estimate; AGE - 5 to 9 years\", \"Total; Estimate; AGE - 10 to 14 years\", \"Total; Estimate; AGE - 15 to 19 years\", \"Total; Estimate; AGE - 20 to 24 years\", \"Total; Estimate; AGE - 25 to 29 years\", \"Total; Estimate; AGE - 30 to 34 years\", \"Total; Estimate; AGE - 35 to 39 years\", \"Total; Estimate; AGE - 40 to 44 years\", \"Total; Estimate; AGE - 45 to 49 years\", \"Total; Estimate; AGE - 50 to 54 years\", \"Total; Estimate; AGE - 55 to 59 years\", \"Total; Estimate; AGE - 60 to 64 years\", \"Total; Estimate; AGE - 65 to 69 years\", \"Total; Estimate; AGE - 70 to 74 years\", \"Total; Estimate; AGE - 75 to 79 years\", \"Total; Estimate; AGE - 80 to 84 years\", \"Total; Estimate; AGE - 85 years and over\", \"Total; Estimate; SELECTED AGE CATEGORIES - 5 to 14 years\", \"Total; Estimate; SELECTED AGE CATEGORIES - 15 to 17 years\", \"Total; Estimate; SELECTED AGE CATEGORIES - 18 to 24 years\", \"Total; Estimate; SELECTED AGE CATEGORIES - 15 to 44 years\", \"Total; Estimate; SELECTED AGE CATEGORIES - 16 years and over\", \"Total; Estimate; SELECTED AGE CATEGORIES - 18 years and over\", \"Total; Estimate; SELECTED AGE CATEGORIES - 60 years and over\", \"Total; Estimate; SELECTED AGE CATEGORIES - 62 years and over\", \"Total; Estimate; SELECTED AGE CATEGORIES - 65 years and over\", \"Total; Estimate; SELECTED AGE CATEGORIES - 75 years and over\", \"Total; Estimate; PERCENT IMPUTED - Sex\", \"Total; Estimate; PERCENT IMPUTED - Age\"], \"xaxis\": \"x\", \"y\": [0.21693277168356098, 0.19814197037530026, 0.227015059253879, -0.013306923072791473, -0.017169716201566702, -0.003143366860213718, 0.009869862487322878, 0.02124560946491263, 0.029232311422426122, 0.015054036361070985, 0.002048143575518908, -0.01899255432888468, 0.001483842065646819, -0.03728378862488732, -0.03363922305487487, -0.033512567121383556, 0.0012989528643993218, 0.031040278092292203, 0.0029956016584179496, -0.0017029775499190908, 0.007871164054111162, -0.011923186255443578, 0.015752579520805884, 0.015374224513315857, 0.028711818705136404, 0.012844273657644085, 0.007773915509838514, 0.003280909726676905, 0.011397419553398902, 0.015470087147200546, 0.003815966717898716, -0.017754206267565985, -0.047432459246907366], \"yaxis\": \"y\"}],\n",
       "                        {\"coloraxis\": {\"colorbar\": {\"title\": {\"text\": \"Spring\"}}, \"colorscale\": [[0.0, \"rgb(103,0,31)\"], [0.1, \"rgb(178,24,43)\"], [0.2, \"rgb(214,96,77)\"], [0.3, \"rgb(244,165,130)\"], [0.4, \"rgb(253,219,199)\"], [0.5, \"rgb(247,247,247)\"], [0.6, \"rgb(209,229,240)\"], [0.7, \"rgb(146,197,222)\"], [0.8, \"rgb(67,147,195)\"], [0.9, \"rgb(33,102,172)\"], [1.0, \"rgb(5,48,97)\"]]}, \"height\": 1000, \"legend\": {\"tracegroupgap\": 0}, \"margin\": {\"t\": 60}, \"template\": {\"data\": {\"bar\": [{\"error_x\": {\"color\": \"#2a3f5f\"}, \"error_y\": {\"color\": \"#2a3f5f\"}, \"marker\": {\"line\": {\"color\": \"#E5ECF6\", \"width\": 0.5}}, \"type\": \"bar\"}], \"barpolar\": [{\"marker\": {\"line\": {\"color\": \"#E5ECF6\", \"width\": 0.5}}, \"type\": \"barpolar\"}], \"carpet\": [{\"aaxis\": {\"endlinecolor\": \"#2a3f5f\", \"gridcolor\": \"white\", \"linecolor\": \"white\", \"minorgridcolor\": \"white\", \"startlinecolor\": \"#2a3f5f\"}, \"baxis\": {\"endlinecolor\": \"#2a3f5f\", \"gridcolor\": \"white\", \"linecolor\": \"white\", \"minorgridcolor\": \"white\", \"startlinecolor\": \"#2a3f5f\"}, \"type\": \"carpet\"}], \"choropleth\": [{\"colorbar\": {\"outlinewidth\": 0, \"ticks\": \"\"}, \"type\": \"choropleth\"}], \"contour\": [{\"colorbar\": {\"outlinewidth\": 0, \"ticks\": \"\"}, \"colorscale\": [[0.0, \"#0d0887\"], [0.1111111111111111, \"#46039f\"], [0.2222222222222222, \"#7201a8\"], [0.3333333333333333, \"#9c179e\"], [0.4444444444444444, \"#bd3786\"], [0.5555555555555556, \"#d8576b\"], [0.6666666666666666, \"#ed7953\"], [0.7777777777777778, \"#fb9f3a\"], [0.8888888888888888, \"#fdca26\"], [1.0, \"#f0f921\"]], \"type\": \"contour\"}], \"contourcarpet\": [{\"colorbar\": {\"outlinewidth\": 0, \"ticks\": \"\"}, \"type\": \"contourcarpet\"}], \"heatmap\": [{\"colorbar\": {\"outlinewidth\": 0, \"ticks\": \"\"}, \"colorscale\": [[0.0, \"#0d0887\"], [0.1111111111111111, \"#46039f\"], [0.2222222222222222, \"#7201a8\"], [0.3333333333333333, \"#9c179e\"], [0.4444444444444444, \"#bd3786\"], [0.5555555555555556, \"#d8576b\"], [0.6666666666666666, \"#ed7953\"], [0.7777777777777778, \"#fb9f3a\"], [0.8888888888888888, \"#fdca26\"], [1.0, \"#f0f921\"]], \"type\": \"heatmap\"}], \"heatmapgl\": [{\"colorbar\": {\"outlinewidth\": 0, \"ticks\": \"\"}, \"colorscale\": [[0.0, \"#0d0887\"], [0.1111111111111111, \"#46039f\"], [0.2222222222222222, \"#7201a8\"], [0.3333333333333333, \"#9c179e\"], [0.4444444444444444, \"#bd3786\"], [0.5555555555555556, \"#d8576b\"], [0.6666666666666666, \"#ed7953\"], [0.7777777777777778, \"#fb9f3a\"], [0.8888888888888888, \"#fdca26\"], [1.0, \"#f0f921\"]], \"type\": \"heatmapgl\"}], \"histogram\": [{\"marker\": {\"colorbar\": {\"outlinewidth\": 0, \"ticks\": \"\"}}, \"type\": \"histogram\"}], \"histogram2d\": [{\"colorbar\": {\"outlinewidth\": 0, \"ticks\": \"\"}, \"colorscale\": [[0.0, \"#0d0887\"], [0.1111111111111111, \"#46039f\"], [0.2222222222222222, \"#7201a8\"], [0.3333333333333333, \"#9c179e\"], [0.4444444444444444, \"#bd3786\"], [0.5555555555555556, \"#d8576b\"], [0.6666666666666666, \"#ed7953\"], [0.7777777777777778, \"#fb9f3a\"], [0.8888888888888888, \"#fdca26\"], [1.0, \"#f0f921\"]], \"type\": \"histogram2d\"}], \"histogram2dcontour\": [{\"colorbar\": {\"outlinewidth\": 0, \"ticks\": \"\"}, \"colorscale\": [[0.0, \"#0d0887\"], [0.1111111111111111, \"#46039f\"], [0.2222222222222222, \"#7201a8\"], [0.3333333333333333, \"#9c179e\"], [0.4444444444444444, \"#bd3786\"], [0.5555555555555556, \"#d8576b\"], [0.6666666666666666, \"#ed7953\"], [0.7777777777777778, \"#fb9f3a\"], [0.8888888888888888, \"#fdca26\"], [1.0, \"#f0f921\"]], \"type\": \"histogram2dcontour\"}], \"mesh3d\": [{\"colorbar\": {\"outlinewidth\": 0, \"ticks\": \"\"}, \"type\": \"mesh3d\"}], \"parcoords\": [{\"line\": {\"colorbar\": {\"outlinewidth\": 0, \"ticks\": \"\"}}, \"type\": \"parcoords\"}], \"pie\": [{\"automargin\": true, \"type\": \"pie\"}], \"scatter\": [{\"marker\": {\"colorbar\": {\"outlinewidth\": 0, \"ticks\": \"\"}}, \"type\": \"scatter\"}], \"scatter3d\": [{\"line\": {\"colorbar\": {\"outlinewidth\": 0, \"ticks\": \"\"}}, \"marker\": {\"colorbar\": {\"outlinewidth\": 0, \"ticks\": \"\"}}, \"type\": \"scatter3d\"}], \"scattercarpet\": [{\"marker\": {\"colorbar\": {\"outlinewidth\": 0, \"ticks\": \"\"}}, \"type\": \"scattercarpet\"}], \"scattergeo\": [{\"marker\": {\"colorbar\": {\"outlinewidth\": 0, \"ticks\": \"\"}}, \"type\": \"scattergeo\"}], \"scattergl\": [{\"marker\": {\"colorbar\": {\"outlinewidth\": 0, \"ticks\": \"\"}}, \"type\": \"scattergl\"}], \"scattermapbox\": [{\"marker\": {\"colorbar\": {\"outlinewidth\": 0, \"ticks\": \"\"}}, \"type\": \"scattermapbox\"}], \"scatterpolar\": [{\"marker\": {\"colorbar\": {\"outlinewidth\": 0, \"ticks\": \"\"}}, \"type\": \"scatterpolar\"}], \"scatterpolargl\": [{\"marker\": {\"colorbar\": {\"outlinewidth\": 0, \"ticks\": \"\"}}, \"type\": \"scatterpolargl\"}], \"scatterternary\": [{\"marker\": {\"colorbar\": {\"outlinewidth\": 0, \"ticks\": \"\"}}, \"type\": \"scatterternary\"}], \"surface\": [{\"colorbar\": {\"outlinewidth\": 0, \"ticks\": \"\"}, \"colorscale\": [[0.0, \"#0d0887\"], [0.1111111111111111, \"#46039f\"], [0.2222222222222222, \"#7201a8\"], [0.3333333333333333, \"#9c179e\"], [0.4444444444444444, \"#bd3786\"], [0.5555555555555556, \"#d8576b\"], [0.6666666666666666, \"#ed7953\"], [0.7777777777777778, \"#fb9f3a\"], [0.8888888888888888, \"#fdca26\"], [1.0, \"#f0f921\"]], \"type\": \"surface\"}], \"table\": [{\"cells\": {\"fill\": {\"color\": \"#EBF0F8\"}, \"line\": {\"color\": \"white\"}}, \"header\": {\"fill\": {\"color\": \"#C8D4E3\"}, \"line\": {\"color\": \"white\"}}, \"type\": \"table\"}]}, \"layout\": {\"annotationdefaults\": {\"arrowcolor\": \"#2a3f5f\", \"arrowhead\": 0, \"arrowwidth\": 1}, \"coloraxis\": {\"colorbar\": {\"outlinewidth\": 0, \"ticks\": \"\"}}, \"colorscale\": {\"diverging\": [[0, \"#8e0152\"], [0.1, \"#c51b7d\"], [0.2, \"#de77ae\"], [0.3, \"#f1b6da\"], [0.4, \"#fde0ef\"], [0.5, \"#f7f7f7\"], [0.6, \"#e6f5d0\"], [0.7, \"#b8e186\"], [0.8, \"#7fbc41\"], [0.9, \"#4d9221\"], [1, \"#276419\"]], \"sequential\": [[0.0, \"#0d0887\"], [0.1111111111111111, \"#46039f\"], [0.2222222222222222, \"#7201a8\"], [0.3333333333333333, \"#9c179e\"], [0.4444444444444444, \"#bd3786\"], [0.5555555555555556, \"#d8576b\"], [0.6666666666666666, \"#ed7953\"], [0.7777777777777778, \"#fb9f3a\"], [0.8888888888888888, \"#fdca26\"], [1.0, \"#f0f921\"]], \"sequentialminus\": [[0.0, \"#0d0887\"], [0.1111111111111111, \"#46039f\"], [0.2222222222222222, \"#7201a8\"], [0.3333333333333333, \"#9c179e\"], [0.4444444444444444, \"#bd3786\"], [0.5555555555555556, \"#d8576b\"], [0.6666666666666666, \"#ed7953\"], [0.7777777777777778, \"#fb9f3a\"], [0.8888888888888888, \"#fdca26\"], [1.0, \"#f0f921\"]]}, \"colorway\": [\"#636efa\", \"#EF553B\", \"#00cc96\", \"#ab63fa\", \"#FFA15A\", \"#19d3f3\", \"#FF6692\", \"#B6E880\", \"#FF97FF\", \"#FECB52\"], \"font\": {\"color\": \"#2a3f5f\"}, \"geo\": {\"bgcolor\": \"white\", \"lakecolor\": \"white\", \"landcolor\": \"#E5ECF6\", \"showlakes\": true, \"showland\": true, \"subunitcolor\": \"white\"}, \"hoverlabel\": {\"align\": \"left\"}, \"hovermode\": \"closest\", \"mapbox\": {\"style\": \"light\"}, \"paper_bgcolor\": \"white\", \"plot_bgcolor\": \"#E5ECF6\", \"polar\": {\"angularaxis\": {\"gridcolor\": \"white\", \"linecolor\": \"white\", \"ticks\": \"\"}, \"bgcolor\": \"#E5ECF6\", \"radialaxis\": {\"gridcolor\": \"white\", \"linecolor\": \"white\", \"ticks\": \"\"}}, \"scene\": {\"xaxis\": {\"backgroundcolor\": \"#E5ECF6\", \"gridcolor\": \"white\", \"gridwidth\": 2, \"linecolor\": \"white\", \"showbackground\": true, \"ticks\": \"\", \"zerolinecolor\": \"white\"}, \"yaxis\": {\"backgroundcolor\": \"#E5ECF6\", \"gridcolor\": \"white\", \"gridwidth\": 2, \"linecolor\": \"white\", \"showbackground\": true, \"ticks\": \"\", \"zerolinecolor\": \"white\"}, \"zaxis\": {\"backgroundcolor\": \"#E5ECF6\", \"gridcolor\": \"white\", \"gridwidth\": 2, \"linecolor\": \"white\", \"showbackground\": true, \"ticks\": \"\", \"zerolinecolor\": \"white\"}}, \"shapedefaults\": {\"line\": {\"color\": \"#2a3f5f\"}}, \"ternary\": {\"aaxis\": {\"gridcolor\": \"white\", \"linecolor\": \"white\", \"ticks\": \"\"}, \"baxis\": {\"gridcolor\": \"white\", \"linecolor\": \"white\", \"ticks\": \"\"}, \"bgcolor\": \"#E5ECF6\", \"caxis\": {\"gridcolor\": \"white\", \"linecolor\": \"white\", \"ticks\": \"\"}}, \"title\": {\"x\": 0.05}, \"xaxis\": {\"automargin\": true, \"gridcolor\": \"white\", \"linecolor\": \"white\", \"ticks\": \"\", \"title\": {\"standoff\": 15}, \"zerolinecolor\": \"white\", \"zerolinewidth\": 2}, \"yaxis\": {\"automargin\": true, \"gridcolor\": \"white\", \"linecolor\": \"white\", \"ticks\": \"\", \"title\": {\"standoff\": 15}, \"zerolinecolor\": \"white\", \"zerolinewidth\": 2}}}, \"title\": {\"text\": \"(Pearson r Correlation) Spring Reports VS Demographic Data\"}, \"width\": 900, \"xaxis\": {\"anchor\": \"y\", \"domain\": [0.0, 1.0], \"title\": {\"text\": \"Demographic Variables\"}}, \"yaxis\": {\"anchor\": \"x\", \"domain\": [0.0, 1.0], \"title\": {\"text\": \"Spring vs Demographic Variables Correlation\"}}},\n",
       "                        {\"responsive\": true}\n",
       "                    ).then(function(){\n",
       "                            \n",
       "var gd = document.getElementById('b171ce55-cfbe-4ef9-903d-78abff963799');\n",
       "var x = new MutationObserver(function (mutations, observer) {{\n",
       "        var display = window.getComputedStyle(gd).display;\n",
       "        if (!display || display === 'none') {{\n",
       "            console.log([gd, 'removed!']);\n",
       "            Plotly.purge(gd);\n",
       "            observer.disconnect();\n",
       "        }}\n",
       "}});\n",
       "\n",
       "// Listen for the removal of the full notebook cells\n",
       "var notebookContainer = gd.closest('#notebook-container');\n",
       "if (notebookContainer) {{\n",
       "    x.observe(notebookContainer, {childList: true});\n",
       "}}\n",
       "\n",
       "// Listen for the clearing of the current output cell\n",
       "var outputEl = gd.closest('.output');\n",
       "if (outputEl) {{\n",
       "    x.observe(outputEl, {childList: true});\n",
       "}}\n",
       "\n",
       "                        })\n",
       "                };\n",
       "                });\n",
       "            </script>\n",
       "        </div>"
      ]
     },
     "metadata": {},
     "output_type": "display_data"
    }
   ],
   "source": [
    "season_to_do = \"Spring\"\n",
    "fig = px.scatter(corr, x=\"DemographicVariable\", y=season_to_do, color=season_to_do, \n",
    "                color_continuous_scale=px.colors.sequential.RdBu,\n",
    "                width=900, height=1000)\n",
    "fig.update_layout(\n",
    "    title = '(Pearson r Correlation) '+season_to_do+' Reports VS Demographic Data',\n",
    "    yaxis_title = season_to_do+' vs Demographic Variables Correlation',\n",
    "    xaxis_title = \"Demographic Variables\",\n",
    ")\n",
    "fig.show()"
   ]
  },
  {
   "cell_type": "code",
   "execution_count": 15,
   "metadata": {},
   "outputs": [
    {
     "data": {
      "application/vnd.plotly.v1+json": {
       "config": {
        "plotlyServerURL": "https://plot.ly"
       },
       "data": [
        {
         "hoverlabel": {
          "namelength": 0
         },
         "hovertemplate": "DemographicVariable=%{x}<br>Summer=%{marker.color}",
         "legendgroup": "",
         "marker": {
          "color": [
           0.24709928934611333,
           0.22453196935679404,
           0.2595863446816008,
           -0.016219391153966825,
           -0.018095287983215556,
           0.006754999783063144,
           0.011822654588899445,
           0.018009534469845392,
           0.030264099880939734,
           0.010583906095943233,
           -0.003830913052134644,
           -0.012282689205733811,
           0.004133074926046543,
           -0.03576455891170279,
           -0.03453510945017532,
           -0.039331133238468305,
           0.0035109458163344073,
           0.03812043017360696,
           -0.0035439331275470393,
           -0.006338667592641459,
           0.00656253139017098,
           -0.0065667791535082625,
           0.020802883599703625,
           0.012030089076776312,
           0.0268741806779251,
           0.010059274631859544,
           0.003951430897968842,
           0.0018525878632722943,
           0.011807368915773268,
           0.01589667933401122,
           -0.0012297980442608377,
           -0.026058026923653475,
           -0.04876002696970944
          ],
          "coloraxis": "coloraxis",
          "symbol": "circle"
         },
         "mode": "markers",
         "name": "",
         "showlegend": false,
         "type": "scatter",
         "x": [
          "Total; Estimate; Total population",
          "Male; Estimate; Total population",
          "Female; Estimate; Total population",
          "Total; Estimate; AGE - Under 5 years",
          "Total; Estimate; AGE - 5 to 9 years",
          "Total; Estimate; AGE - 10 to 14 years",
          "Total; Estimate; AGE - 15 to 19 years",
          "Total; Estimate; AGE - 20 to 24 years",
          "Total; Estimate; AGE - 25 to 29 years",
          "Total; Estimate; AGE - 30 to 34 years",
          "Total; Estimate; AGE - 35 to 39 years",
          "Total; Estimate; AGE - 40 to 44 years",
          "Total; Estimate; AGE - 45 to 49 years",
          "Total; Estimate; AGE - 50 to 54 years",
          "Total; Estimate; AGE - 55 to 59 years",
          "Total; Estimate; AGE - 60 to 64 years",
          "Total; Estimate; AGE - 65 to 69 years",
          "Total; Estimate; AGE - 70 to 74 years",
          "Total; Estimate; AGE - 75 to 79 years",
          "Total; Estimate; AGE - 80 to 84 years",
          "Total; Estimate; AGE - 85 years and over",
          "Total; Estimate; SELECTED AGE CATEGORIES - 5 to 14 years",
          "Total; Estimate; SELECTED AGE CATEGORIES - 15 to 17 years",
          "Total; Estimate; SELECTED AGE CATEGORIES - 18 to 24 years",
          "Total; Estimate; SELECTED AGE CATEGORIES - 15 to 44 years",
          "Total; Estimate; SELECTED AGE CATEGORIES - 16 years and over",
          "Total; Estimate; SELECTED AGE CATEGORIES - 18 years and over",
          "Total; Estimate; SELECTED AGE CATEGORIES - 60 years and over",
          "Total; Estimate; SELECTED AGE CATEGORIES - 62 years and over",
          "Total; Estimate; SELECTED AGE CATEGORIES - 65 years and over",
          "Total; Estimate; SELECTED AGE CATEGORIES - 75 years and over",
          "Total; Estimate; PERCENT IMPUTED - Sex",
          "Total; Estimate; PERCENT IMPUTED - Age"
         ],
         "xaxis": "x",
         "y": [
          0.24709928934611333,
          0.22453196935679404,
          0.2595863446816008,
          -0.016219391153966825,
          -0.018095287983215556,
          0.006754999783063144,
          0.011822654588899445,
          0.018009534469845392,
          0.030264099880939734,
          0.010583906095943233,
          -0.003830913052134644,
          -0.012282689205733811,
          0.004133074926046543,
          -0.03576455891170279,
          -0.03453510945017532,
          -0.039331133238468305,
          0.0035109458163344073,
          0.03812043017360696,
          -0.0035439331275470393,
          -0.006338667592641459,
          0.00656253139017098,
          -0.0065667791535082625,
          0.020802883599703625,
          0.012030089076776312,
          0.0268741806779251,
          0.010059274631859544,
          0.003951430897968842,
          0.0018525878632722943,
          0.011807368915773268,
          0.01589667933401122,
          -0.0012297980442608377,
          -0.026058026923653475,
          -0.04876002696970944
         ],
         "yaxis": "y"
        }
       ],
       "layout": {
        "coloraxis": {
         "colorbar": {
          "title": {
           "text": "Summer"
          }
         },
         "colorscale": [
          [
           0,
           "rgb(103,0,31)"
          ],
          [
           0.1,
           "rgb(178,24,43)"
          ],
          [
           0.2,
           "rgb(214,96,77)"
          ],
          [
           0.3,
           "rgb(244,165,130)"
          ],
          [
           0.4,
           "rgb(253,219,199)"
          ],
          [
           0.5,
           "rgb(247,247,247)"
          ],
          [
           0.6,
           "rgb(209,229,240)"
          ],
          [
           0.7,
           "rgb(146,197,222)"
          ],
          [
           0.8,
           "rgb(67,147,195)"
          ],
          [
           0.9,
           "rgb(33,102,172)"
          ],
          [
           1,
           "rgb(5,48,97)"
          ]
         ]
        },
        "height": 1000,
        "legend": {
         "tracegroupgap": 0
        },
        "margin": {
         "t": 60
        },
        "template": {
         "data": {
          "bar": [
           {
            "error_x": {
             "color": "#2a3f5f"
            },
            "error_y": {
             "color": "#2a3f5f"
            },
            "marker": {
             "line": {
              "color": "#E5ECF6",
              "width": 0.5
             }
            },
            "type": "bar"
           }
          ],
          "barpolar": [
           {
            "marker": {
             "line": {
              "color": "#E5ECF6",
              "width": 0.5
             }
            },
            "type": "barpolar"
           }
          ],
          "carpet": [
           {
            "aaxis": {
             "endlinecolor": "#2a3f5f",
             "gridcolor": "white",
             "linecolor": "white",
             "minorgridcolor": "white",
             "startlinecolor": "#2a3f5f"
            },
            "baxis": {
             "endlinecolor": "#2a3f5f",
             "gridcolor": "white",
             "linecolor": "white",
             "minorgridcolor": "white",
             "startlinecolor": "#2a3f5f"
            },
            "type": "carpet"
           }
          ],
          "choropleth": [
           {
            "colorbar": {
             "outlinewidth": 0,
             "ticks": ""
            },
            "type": "choropleth"
           }
          ],
          "contour": [
           {
            "colorbar": {
             "outlinewidth": 0,
             "ticks": ""
            },
            "colorscale": [
             [
              0,
              "#0d0887"
             ],
             [
              0.1111111111111111,
              "#46039f"
             ],
             [
              0.2222222222222222,
              "#7201a8"
             ],
             [
              0.3333333333333333,
              "#9c179e"
             ],
             [
              0.4444444444444444,
              "#bd3786"
             ],
             [
              0.5555555555555556,
              "#d8576b"
             ],
             [
              0.6666666666666666,
              "#ed7953"
             ],
             [
              0.7777777777777778,
              "#fb9f3a"
             ],
             [
              0.8888888888888888,
              "#fdca26"
             ],
             [
              1,
              "#f0f921"
             ]
            ],
            "type": "contour"
           }
          ],
          "contourcarpet": [
           {
            "colorbar": {
             "outlinewidth": 0,
             "ticks": ""
            },
            "type": "contourcarpet"
           }
          ],
          "heatmap": [
           {
            "colorbar": {
             "outlinewidth": 0,
             "ticks": ""
            },
            "colorscale": [
             [
              0,
              "#0d0887"
             ],
             [
              0.1111111111111111,
              "#46039f"
             ],
             [
              0.2222222222222222,
              "#7201a8"
             ],
             [
              0.3333333333333333,
              "#9c179e"
             ],
             [
              0.4444444444444444,
              "#bd3786"
             ],
             [
              0.5555555555555556,
              "#d8576b"
             ],
             [
              0.6666666666666666,
              "#ed7953"
             ],
             [
              0.7777777777777778,
              "#fb9f3a"
             ],
             [
              0.8888888888888888,
              "#fdca26"
             ],
             [
              1,
              "#f0f921"
             ]
            ],
            "type": "heatmap"
           }
          ],
          "heatmapgl": [
           {
            "colorbar": {
             "outlinewidth": 0,
             "ticks": ""
            },
            "colorscale": [
             [
              0,
              "#0d0887"
             ],
             [
              0.1111111111111111,
              "#46039f"
             ],
             [
              0.2222222222222222,
              "#7201a8"
             ],
             [
              0.3333333333333333,
              "#9c179e"
             ],
             [
              0.4444444444444444,
              "#bd3786"
             ],
             [
              0.5555555555555556,
              "#d8576b"
             ],
             [
              0.6666666666666666,
              "#ed7953"
             ],
             [
              0.7777777777777778,
              "#fb9f3a"
             ],
             [
              0.8888888888888888,
              "#fdca26"
             ],
             [
              1,
              "#f0f921"
             ]
            ],
            "type": "heatmapgl"
           }
          ],
          "histogram": [
           {
            "marker": {
             "colorbar": {
              "outlinewidth": 0,
              "ticks": ""
             }
            },
            "type": "histogram"
           }
          ],
          "histogram2d": [
           {
            "colorbar": {
             "outlinewidth": 0,
             "ticks": ""
            },
            "colorscale": [
             [
              0,
              "#0d0887"
             ],
             [
              0.1111111111111111,
              "#46039f"
             ],
             [
              0.2222222222222222,
              "#7201a8"
             ],
             [
              0.3333333333333333,
              "#9c179e"
             ],
             [
              0.4444444444444444,
              "#bd3786"
             ],
             [
              0.5555555555555556,
              "#d8576b"
             ],
             [
              0.6666666666666666,
              "#ed7953"
             ],
             [
              0.7777777777777778,
              "#fb9f3a"
             ],
             [
              0.8888888888888888,
              "#fdca26"
             ],
             [
              1,
              "#f0f921"
             ]
            ],
            "type": "histogram2d"
           }
          ],
          "histogram2dcontour": [
           {
            "colorbar": {
             "outlinewidth": 0,
             "ticks": ""
            },
            "colorscale": [
             [
              0,
              "#0d0887"
             ],
             [
              0.1111111111111111,
              "#46039f"
             ],
             [
              0.2222222222222222,
              "#7201a8"
             ],
             [
              0.3333333333333333,
              "#9c179e"
             ],
             [
              0.4444444444444444,
              "#bd3786"
             ],
             [
              0.5555555555555556,
              "#d8576b"
             ],
             [
              0.6666666666666666,
              "#ed7953"
             ],
             [
              0.7777777777777778,
              "#fb9f3a"
             ],
             [
              0.8888888888888888,
              "#fdca26"
             ],
             [
              1,
              "#f0f921"
             ]
            ],
            "type": "histogram2dcontour"
           }
          ],
          "mesh3d": [
           {
            "colorbar": {
             "outlinewidth": 0,
             "ticks": ""
            },
            "type": "mesh3d"
           }
          ],
          "parcoords": [
           {
            "line": {
             "colorbar": {
              "outlinewidth": 0,
              "ticks": ""
             }
            },
            "type": "parcoords"
           }
          ],
          "pie": [
           {
            "automargin": true,
            "type": "pie"
           }
          ],
          "scatter": [
           {
            "marker": {
             "colorbar": {
              "outlinewidth": 0,
              "ticks": ""
             }
            },
            "type": "scatter"
           }
          ],
          "scatter3d": [
           {
            "line": {
             "colorbar": {
              "outlinewidth": 0,
              "ticks": ""
             }
            },
            "marker": {
             "colorbar": {
              "outlinewidth": 0,
              "ticks": ""
             }
            },
            "type": "scatter3d"
           }
          ],
          "scattercarpet": [
           {
            "marker": {
             "colorbar": {
              "outlinewidth": 0,
              "ticks": ""
             }
            },
            "type": "scattercarpet"
           }
          ],
          "scattergeo": [
           {
            "marker": {
             "colorbar": {
              "outlinewidth": 0,
              "ticks": ""
             }
            },
            "type": "scattergeo"
           }
          ],
          "scattergl": [
           {
            "marker": {
             "colorbar": {
              "outlinewidth": 0,
              "ticks": ""
             }
            },
            "type": "scattergl"
           }
          ],
          "scattermapbox": [
           {
            "marker": {
             "colorbar": {
              "outlinewidth": 0,
              "ticks": ""
             }
            },
            "type": "scattermapbox"
           }
          ],
          "scatterpolar": [
           {
            "marker": {
             "colorbar": {
              "outlinewidth": 0,
              "ticks": ""
             }
            },
            "type": "scatterpolar"
           }
          ],
          "scatterpolargl": [
           {
            "marker": {
             "colorbar": {
              "outlinewidth": 0,
              "ticks": ""
             }
            },
            "type": "scatterpolargl"
           }
          ],
          "scatterternary": [
           {
            "marker": {
             "colorbar": {
              "outlinewidth": 0,
              "ticks": ""
             }
            },
            "type": "scatterternary"
           }
          ],
          "surface": [
           {
            "colorbar": {
             "outlinewidth": 0,
             "ticks": ""
            },
            "colorscale": [
             [
              0,
              "#0d0887"
             ],
             [
              0.1111111111111111,
              "#46039f"
             ],
             [
              0.2222222222222222,
              "#7201a8"
             ],
             [
              0.3333333333333333,
              "#9c179e"
             ],
             [
              0.4444444444444444,
              "#bd3786"
             ],
             [
              0.5555555555555556,
              "#d8576b"
             ],
             [
              0.6666666666666666,
              "#ed7953"
             ],
             [
              0.7777777777777778,
              "#fb9f3a"
             ],
             [
              0.8888888888888888,
              "#fdca26"
             ],
             [
              1,
              "#f0f921"
             ]
            ],
            "type": "surface"
           }
          ],
          "table": [
           {
            "cells": {
             "fill": {
              "color": "#EBF0F8"
             },
             "line": {
              "color": "white"
             }
            },
            "header": {
             "fill": {
              "color": "#C8D4E3"
             },
             "line": {
              "color": "white"
             }
            },
            "type": "table"
           }
          ]
         },
         "layout": {
          "annotationdefaults": {
           "arrowcolor": "#2a3f5f",
           "arrowhead": 0,
           "arrowwidth": 1
          },
          "coloraxis": {
           "colorbar": {
            "outlinewidth": 0,
            "ticks": ""
           }
          },
          "colorscale": {
           "diverging": [
            [
             0,
             "#8e0152"
            ],
            [
             0.1,
             "#c51b7d"
            ],
            [
             0.2,
             "#de77ae"
            ],
            [
             0.3,
             "#f1b6da"
            ],
            [
             0.4,
             "#fde0ef"
            ],
            [
             0.5,
             "#f7f7f7"
            ],
            [
             0.6,
             "#e6f5d0"
            ],
            [
             0.7,
             "#b8e186"
            ],
            [
             0.8,
             "#7fbc41"
            ],
            [
             0.9,
             "#4d9221"
            ],
            [
             1,
             "#276419"
            ]
           ],
           "sequential": [
            [
             0,
             "#0d0887"
            ],
            [
             0.1111111111111111,
             "#46039f"
            ],
            [
             0.2222222222222222,
             "#7201a8"
            ],
            [
             0.3333333333333333,
             "#9c179e"
            ],
            [
             0.4444444444444444,
             "#bd3786"
            ],
            [
             0.5555555555555556,
             "#d8576b"
            ],
            [
             0.6666666666666666,
             "#ed7953"
            ],
            [
             0.7777777777777778,
             "#fb9f3a"
            ],
            [
             0.8888888888888888,
             "#fdca26"
            ],
            [
             1,
             "#f0f921"
            ]
           ],
           "sequentialminus": [
            [
             0,
             "#0d0887"
            ],
            [
             0.1111111111111111,
             "#46039f"
            ],
            [
             0.2222222222222222,
             "#7201a8"
            ],
            [
             0.3333333333333333,
             "#9c179e"
            ],
            [
             0.4444444444444444,
             "#bd3786"
            ],
            [
             0.5555555555555556,
             "#d8576b"
            ],
            [
             0.6666666666666666,
             "#ed7953"
            ],
            [
             0.7777777777777778,
             "#fb9f3a"
            ],
            [
             0.8888888888888888,
             "#fdca26"
            ],
            [
             1,
             "#f0f921"
            ]
           ]
          },
          "colorway": [
           "#636efa",
           "#EF553B",
           "#00cc96",
           "#ab63fa",
           "#FFA15A",
           "#19d3f3",
           "#FF6692",
           "#B6E880",
           "#FF97FF",
           "#FECB52"
          ],
          "font": {
           "color": "#2a3f5f"
          },
          "geo": {
           "bgcolor": "white",
           "lakecolor": "white",
           "landcolor": "#E5ECF6",
           "showlakes": true,
           "showland": true,
           "subunitcolor": "white"
          },
          "hoverlabel": {
           "align": "left"
          },
          "hovermode": "closest",
          "mapbox": {
           "style": "light"
          },
          "paper_bgcolor": "white",
          "plot_bgcolor": "#E5ECF6",
          "polar": {
           "angularaxis": {
            "gridcolor": "white",
            "linecolor": "white",
            "ticks": ""
           },
           "bgcolor": "#E5ECF6",
           "radialaxis": {
            "gridcolor": "white",
            "linecolor": "white",
            "ticks": ""
           }
          },
          "scene": {
           "xaxis": {
            "backgroundcolor": "#E5ECF6",
            "gridcolor": "white",
            "gridwidth": 2,
            "linecolor": "white",
            "showbackground": true,
            "ticks": "",
            "zerolinecolor": "white"
           },
           "yaxis": {
            "backgroundcolor": "#E5ECF6",
            "gridcolor": "white",
            "gridwidth": 2,
            "linecolor": "white",
            "showbackground": true,
            "ticks": "",
            "zerolinecolor": "white"
           },
           "zaxis": {
            "backgroundcolor": "#E5ECF6",
            "gridcolor": "white",
            "gridwidth": 2,
            "linecolor": "white",
            "showbackground": true,
            "ticks": "",
            "zerolinecolor": "white"
           }
          },
          "shapedefaults": {
           "line": {
            "color": "#2a3f5f"
           }
          },
          "ternary": {
           "aaxis": {
            "gridcolor": "white",
            "linecolor": "white",
            "ticks": ""
           },
           "baxis": {
            "gridcolor": "white",
            "linecolor": "white",
            "ticks": ""
           },
           "bgcolor": "#E5ECF6",
           "caxis": {
            "gridcolor": "white",
            "linecolor": "white",
            "ticks": ""
           }
          },
          "title": {
           "x": 0.05
          },
          "xaxis": {
           "automargin": true,
           "gridcolor": "white",
           "linecolor": "white",
           "ticks": "",
           "title": {
            "standoff": 15
           },
           "zerolinecolor": "white",
           "zerolinewidth": 2
          },
          "yaxis": {
           "automargin": true,
           "gridcolor": "white",
           "linecolor": "white",
           "ticks": "",
           "title": {
            "standoff": 15
           },
           "zerolinecolor": "white",
           "zerolinewidth": 2
          }
         }
        },
        "title": {
         "text": "(Pearson r Correlation) Summer Reports VS Demographic Data"
        },
        "width": 900,
        "xaxis": {
         "anchor": "y",
         "domain": [
          0,
          1
         ],
         "title": {
          "text": "Demographic Variables"
         }
        },
        "yaxis": {
         "anchor": "x",
         "domain": [
          0,
          1
         ],
         "title": {
          "text": "Summer vs Demographic Variables Correlation"
         }
        }
       }
      },
      "text/html": [
       "<div>\n",
       "        \n",
       "        \n",
       "            <div id=\"d3307785-4183-4366-8be8-4583ab85465a\" class=\"plotly-graph-div\" style=\"height:1000px; width:900px;\"></div>\n",
       "            <script type=\"text/javascript\">\n",
       "                require([\"plotly\"], function(Plotly) {\n",
       "                    window.PLOTLYENV=window.PLOTLYENV || {};\n",
       "                    \n",
       "                if (document.getElementById(\"d3307785-4183-4366-8be8-4583ab85465a\")) {\n",
       "                    Plotly.newPlot(\n",
       "                        'd3307785-4183-4366-8be8-4583ab85465a',\n",
       "                        [{\"hoverlabel\": {\"namelength\": 0}, \"hovertemplate\": \"DemographicVariable=%{x}<br>Summer=%{marker.color}\", \"legendgroup\": \"\", \"marker\": {\"color\": [0.24709928934611333, 0.22453196935679404, 0.2595863446816008, -0.016219391153966825, -0.018095287983215556, 0.006754999783063144, 0.011822654588899445, 0.018009534469845392, 0.030264099880939734, 0.010583906095943233, -0.003830913052134644, -0.012282689205733811, 0.004133074926046543, -0.03576455891170279, -0.03453510945017532, -0.039331133238468305, 0.0035109458163344073, 0.03812043017360696, -0.0035439331275470393, -0.006338667592641459, 0.00656253139017098, -0.0065667791535082625, 0.020802883599703625, 0.012030089076776312, 0.0268741806779251, 0.010059274631859544, 0.003951430897968842, 0.0018525878632722943, 0.011807368915773268, 0.01589667933401122, -0.0012297980442608377, -0.026058026923653475, -0.04876002696970944], \"coloraxis\": \"coloraxis\", \"symbol\": \"circle\"}, \"mode\": \"markers\", \"name\": \"\", \"showlegend\": false, \"type\": \"scatter\", \"x\": [\"Total; Estimate; Total population\", \"Male; Estimate; Total population\", \"Female; Estimate; Total population\", \"Total; Estimate; AGE - Under 5 years\", \"Total; Estimate; AGE - 5 to 9 years\", \"Total; Estimate; AGE - 10 to 14 years\", \"Total; Estimate; AGE - 15 to 19 years\", \"Total; Estimate; AGE - 20 to 24 years\", \"Total; Estimate; AGE - 25 to 29 years\", \"Total; Estimate; AGE - 30 to 34 years\", \"Total; Estimate; AGE - 35 to 39 years\", \"Total; Estimate; AGE - 40 to 44 years\", \"Total; Estimate; AGE - 45 to 49 years\", \"Total; Estimate; AGE - 50 to 54 years\", \"Total; Estimate; AGE - 55 to 59 years\", \"Total; Estimate; AGE - 60 to 64 years\", \"Total; Estimate; AGE - 65 to 69 years\", \"Total; Estimate; AGE - 70 to 74 years\", \"Total; Estimate; AGE - 75 to 79 years\", \"Total; Estimate; AGE - 80 to 84 years\", \"Total; Estimate; AGE - 85 years and over\", \"Total; Estimate; SELECTED AGE CATEGORIES - 5 to 14 years\", \"Total; Estimate; SELECTED AGE CATEGORIES - 15 to 17 years\", \"Total; Estimate; SELECTED AGE CATEGORIES - 18 to 24 years\", \"Total; Estimate; SELECTED AGE CATEGORIES - 15 to 44 years\", \"Total; Estimate; SELECTED AGE CATEGORIES - 16 years and over\", \"Total; Estimate; SELECTED AGE CATEGORIES - 18 years and over\", \"Total; Estimate; SELECTED AGE CATEGORIES - 60 years and over\", \"Total; Estimate; SELECTED AGE CATEGORIES - 62 years and over\", \"Total; Estimate; SELECTED AGE CATEGORIES - 65 years and over\", \"Total; Estimate; SELECTED AGE CATEGORIES - 75 years and over\", \"Total; Estimate; PERCENT IMPUTED - Sex\", \"Total; Estimate; PERCENT IMPUTED - Age\"], \"xaxis\": \"x\", \"y\": [0.24709928934611333, 0.22453196935679404, 0.2595863446816008, -0.016219391153966825, -0.018095287983215556, 0.006754999783063144, 0.011822654588899445, 0.018009534469845392, 0.030264099880939734, 0.010583906095943233, -0.003830913052134644, -0.012282689205733811, 0.004133074926046543, -0.03576455891170279, -0.03453510945017532, -0.039331133238468305, 0.0035109458163344073, 0.03812043017360696, -0.0035439331275470393, -0.006338667592641459, 0.00656253139017098, -0.0065667791535082625, 0.020802883599703625, 0.012030089076776312, 0.0268741806779251, 0.010059274631859544, 0.003951430897968842, 0.0018525878632722943, 0.011807368915773268, 0.01589667933401122, -0.0012297980442608377, -0.026058026923653475, -0.04876002696970944], \"yaxis\": \"y\"}],\n",
       "                        {\"coloraxis\": {\"colorbar\": {\"title\": {\"text\": \"Summer\"}}, \"colorscale\": [[0.0, \"rgb(103,0,31)\"], [0.1, \"rgb(178,24,43)\"], [0.2, \"rgb(214,96,77)\"], [0.3, \"rgb(244,165,130)\"], [0.4, \"rgb(253,219,199)\"], [0.5, \"rgb(247,247,247)\"], [0.6, \"rgb(209,229,240)\"], [0.7, \"rgb(146,197,222)\"], [0.8, \"rgb(67,147,195)\"], [0.9, \"rgb(33,102,172)\"], [1.0, \"rgb(5,48,97)\"]]}, \"height\": 1000, \"legend\": {\"tracegroupgap\": 0}, \"margin\": {\"t\": 60}, \"template\": {\"data\": {\"bar\": [{\"error_x\": {\"color\": \"#2a3f5f\"}, \"error_y\": {\"color\": \"#2a3f5f\"}, \"marker\": {\"line\": {\"color\": \"#E5ECF6\", \"width\": 0.5}}, \"type\": \"bar\"}], \"barpolar\": [{\"marker\": {\"line\": {\"color\": \"#E5ECF6\", \"width\": 0.5}}, \"type\": \"barpolar\"}], \"carpet\": [{\"aaxis\": {\"endlinecolor\": \"#2a3f5f\", \"gridcolor\": \"white\", \"linecolor\": \"white\", \"minorgridcolor\": \"white\", \"startlinecolor\": \"#2a3f5f\"}, \"baxis\": {\"endlinecolor\": \"#2a3f5f\", \"gridcolor\": \"white\", \"linecolor\": \"white\", \"minorgridcolor\": \"white\", \"startlinecolor\": \"#2a3f5f\"}, \"type\": \"carpet\"}], \"choropleth\": [{\"colorbar\": {\"outlinewidth\": 0, \"ticks\": \"\"}, \"type\": \"choropleth\"}], \"contour\": [{\"colorbar\": {\"outlinewidth\": 0, \"ticks\": \"\"}, \"colorscale\": [[0.0, \"#0d0887\"], [0.1111111111111111, \"#46039f\"], [0.2222222222222222, \"#7201a8\"], [0.3333333333333333, \"#9c179e\"], [0.4444444444444444, \"#bd3786\"], [0.5555555555555556, \"#d8576b\"], [0.6666666666666666, \"#ed7953\"], [0.7777777777777778, \"#fb9f3a\"], [0.8888888888888888, \"#fdca26\"], [1.0, \"#f0f921\"]], \"type\": \"contour\"}], \"contourcarpet\": [{\"colorbar\": {\"outlinewidth\": 0, \"ticks\": \"\"}, \"type\": \"contourcarpet\"}], \"heatmap\": [{\"colorbar\": {\"outlinewidth\": 0, \"ticks\": \"\"}, \"colorscale\": [[0.0, \"#0d0887\"], [0.1111111111111111, \"#46039f\"], [0.2222222222222222, \"#7201a8\"], [0.3333333333333333, \"#9c179e\"], [0.4444444444444444, \"#bd3786\"], [0.5555555555555556, \"#d8576b\"], [0.6666666666666666, \"#ed7953\"], [0.7777777777777778, \"#fb9f3a\"], [0.8888888888888888, \"#fdca26\"], [1.0, \"#f0f921\"]], \"type\": \"heatmap\"}], \"heatmapgl\": [{\"colorbar\": {\"outlinewidth\": 0, \"ticks\": \"\"}, \"colorscale\": [[0.0, \"#0d0887\"], [0.1111111111111111, \"#46039f\"], [0.2222222222222222, \"#7201a8\"], [0.3333333333333333, \"#9c179e\"], [0.4444444444444444, \"#bd3786\"], [0.5555555555555556, \"#d8576b\"], [0.6666666666666666, \"#ed7953\"], [0.7777777777777778, \"#fb9f3a\"], [0.8888888888888888, \"#fdca26\"], [1.0, \"#f0f921\"]], \"type\": \"heatmapgl\"}], \"histogram\": [{\"marker\": {\"colorbar\": {\"outlinewidth\": 0, \"ticks\": \"\"}}, \"type\": \"histogram\"}], \"histogram2d\": [{\"colorbar\": {\"outlinewidth\": 0, \"ticks\": \"\"}, \"colorscale\": [[0.0, \"#0d0887\"], [0.1111111111111111, \"#46039f\"], [0.2222222222222222, \"#7201a8\"], [0.3333333333333333, \"#9c179e\"], [0.4444444444444444, \"#bd3786\"], [0.5555555555555556, \"#d8576b\"], [0.6666666666666666, \"#ed7953\"], [0.7777777777777778, \"#fb9f3a\"], [0.8888888888888888, \"#fdca26\"], [1.0, \"#f0f921\"]], \"type\": \"histogram2d\"}], \"histogram2dcontour\": [{\"colorbar\": {\"outlinewidth\": 0, \"ticks\": \"\"}, \"colorscale\": [[0.0, \"#0d0887\"], [0.1111111111111111, \"#46039f\"], [0.2222222222222222, \"#7201a8\"], [0.3333333333333333, \"#9c179e\"], [0.4444444444444444, \"#bd3786\"], [0.5555555555555556, \"#d8576b\"], [0.6666666666666666, \"#ed7953\"], [0.7777777777777778, \"#fb9f3a\"], [0.8888888888888888, \"#fdca26\"], [1.0, \"#f0f921\"]], \"type\": \"histogram2dcontour\"}], \"mesh3d\": [{\"colorbar\": {\"outlinewidth\": 0, \"ticks\": \"\"}, \"type\": \"mesh3d\"}], \"parcoords\": [{\"line\": {\"colorbar\": {\"outlinewidth\": 0, \"ticks\": \"\"}}, \"type\": \"parcoords\"}], \"pie\": [{\"automargin\": true, \"type\": \"pie\"}], \"scatter\": [{\"marker\": {\"colorbar\": {\"outlinewidth\": 0, \"ticks\": \"\"}}, \"type\": \"scatter\"}], \"scatter3d\": [{\"line\": {\"colorbar\": {\"outlinewidth\": 0, \"ticks\": \"\"}}, \"marker\": {\"colorbar\": {\"outlinewidth\": 0, \"ticks\": \"\"}}, \"type\": \"scatter3d\"}], \"scattercarpet\": [{\"marker\": {\"colorbar\": {\"outlinewidth\": 0, \"ticks\": \"\"}}, \"type\": \"scattercarpet\"}], \"scattergeo\": [{\"marker\": {\"colorbar\": {\"outlinewidth\": 0, \"ticks\": \"\"}}, \"type\": \"scattergeo\"}], \"scattergl\": [{\"marker\": {\"colorbar\": {\"outlinewidth\": 0, \"ticks\": \"\"}}, \"type\": \"scattergl\"}], \"scattermapbox\": [{\"marker\": {\"colorbar\": {\"outlinewidth\": 0, \"ticks\": \"\"}}, \"type\": \"scattermapbox\"}], \"scatterpolar\": [{\"marker\": {\"colorbar\": {\"outlinewidth\": 0, \"ticks\": \"\"}}, \"type\": \"scatterpolar\"}], \"scatterpolargl\": [{\"marker\": {\"colorbar\": {\"outlinewidth\": 0, \"ticks\": \"\"}}, \"type\": \"scatterpolargl\"}], \"scatterternary\": [{\"marker\": {\"colorbar\": {\"outlinewidth\": 0, \"ticks\": \"\"}}, \"type\": \"scatterternary\"}], \"surface\": [{\"colorbar\": {\"outlinewidth\": 0, \"ticks\": \"\"}, \"colorscale\": [[0.0, \"#0d0887\"], [0.1111111111111111, \"#46039f\"], [0.2222222222222222, \"#7201a8\"], [0.3333333333333333, \"#9c179e\"], [0.4444444444444444, \"#bd3786\"], [0.5555555555555556, \"#d8576b\"], [0.6666666666666666, \"#ed7953\"], [0.7777777777777778, \"#fb9f3a\"], [0.8888888888888888, \"#fdca26\"], [1.0, \"#f0f921\"]], \"type\": \"surface\"}], \"table\": [{\"cells\": {\"fill\": {\"color\": \"#EBF0F8\"}, \"line\": {\"color\": \"white\"}}, \"header\": {\"fill\": {\"color\": \"#C8D4E3\"}, \"line\": {\"color\": \"white\"}}, \"type\": \"table\"}]}, \"layout\": {\"annotationdefaults\": {\"arrowcolor\": \"#2a3f5f\", \"arrowhead\": 0, \"arrowwidth\": 1}, \"coloraxis\": {\"colorbar\": {\"outlinewidth\": 0, \"ticks\": \"\"}}, \"colorscale\": {\"diverging\": [[0, \"#8e0152\"], [0.1, \"#c51b7d\"], [0.2, \"#de77ae\"], [0.3, \"#f1b6da\"], [0.4, \"#fde0ef\"], [0.5, \"#f7f7f7\"], [0.6, \"#e6f5d0\"], [0.7, \"#b8e186\"], [0.8, \"#7fbc41\"], [0.9, \"#4d9221\"], [1, \"#276419\"]], \"sequential\": [[0.0, \"#0d0887\"], [0.1111111111111111, \"#46039f\"], [0.2222222222222222, \"#7201a8\"], [0.3333333333333333, \"#9c179e\"], [0.4444444444444444, \"#bd3786\"], [0.5555555555555556, \"#d8576b\"], [0.6666666666666666, \"#ed7953\"], [0.7777777777777778, \"#fb9f3a\"], [0.8888888888888888, \"#fdca26\"], [1.0, \"#f0f921\"]], \"sequentialminus\": [[0.0, \"#0d0887\"], [0.1111111111111111, \"#46039f\"], [0.2222222222222222, \"#7201a8\"], [0.3333333333333333, \"#9c179e\"], [0.4444444444444444, \"#bd3786\"], [0.5555555555555556, \"#d8576b\"], [0.6666666666666666, \"#ed7953\"], [0.7777777777777778, \"#fb9f3a\"], [0.8888888888888888, \"#fdca26\"], [1.0, \"#f0f921\"]]}, \"colorway\": [\"#636efa\", \"#EF553B\", \"#00cc96\", \"#ab63fa\", \"#FFA15A\", \"#19d3f3\", \"#FF6692\", \"#B6E880\", \"#FF97FF\", \"#FECB52\"], \"font\": {\"color\": \"#2a3f5f\"}, \"geo\": {\"bgcolor\": \"white\", \"lakecolor\": \"white\", \"landcolor\": \"#E5ECF6\", \"showlakes\": true, \"showland\": true, \"subunitcolor\": \"white\"}, \"hoverlabel\": {\"align\": \"left\"}, \"hovermode\": \"closest\", \"mapbox\": {\"style\": \"light\"}, \"paper_bgcolor\": \"white\", \"plot_bgcolor\": \"#E5ECF6\", \"polar\": {\"angularaxis\": {\"gridcolor\": \"white\", \"linecolor\": \"white\", \"ticks\": \"\"}, \"bgcolor\": \"#E5ECF6\", \"radialaxis\": {\"gridcolor\": \"white\", \"linecolor\": \"white\", \"ticks\": \"\"}}, \"scene\": {\"xaxis\": {\"backgroundcolor\": \"#E5ECF6\", \"gridcolor\": \"white\", \"gridwidth\": 2, \"linecolor\": \"white\", \"showbackground\": true, \"ticks\": \"\", \"zerolinecolor\": \"white\"}, \"yaxis\": {\"backgroundcolor\": \"#E5ECF6\", \"gridcolor\": \"white\", \"gridwidth\": 2, \"linecolor\": \"white\", \"showbackground\": true, \"ticks\": \"\", \"zerolinecolor\": \"white\"}, \"zaxis\": {\"backgroundcolor\": \"#E5ECF6\", \"gridcolor\": \"white\", \"gridwidth\": 2, \"linecolor\": \"white\", \"showbackground\": true, \"ticks\": \"\", \"zerolinecolor\": \"white\"}}, \"shapedefaults\": {\"line\": {\"color\": \"#2a3f5f\"}}, \"ternary\": {\"aaxis\": {\"gridcolor\": \"white\", \"linecolor\": \"white\", \"ticks\": \"\"}, \"baxis\": {\"gridcolor\": \"white\", \"linecolor\": \"white\", \"ticks\": \"\"}, \"bgcolor\": \"#E5ECF6\", \"caxis\": {\"gridcolor\": \"white\", \"linecolor\": \"white\", \"ticks\": \"\"}}, \"title\": {\"x\": 0.05}, \"xaxis\": {\"automargin\": true, \"gridcolor\": \"white\", \"linecolor\": \"white\", \"ticks\": \"\", \"title\": {\"standoff\": 15}, \"zerolinecolor\": \"white\", \"zerolinewidth\": 2}, \"yaxis\": {\"automargin\": true, \"gridcolor\": \"white\", \"linecolor\": \"white\", \"ticks\": \"\", \"title\": {\"standoff\": 15}, \"zerolinecolor\": \"white\", \"zerolinewidth\": 2}}}, \"title\": {\"text\": \"(Pearson r Correlation) Summer Reports VS Demographic Data\"}, \"width\": 900, \"xaxis\": {\"anchor\": \"y\", \"domain\": [0.0, 1.0], \"title\": {\"text\": \"Demographic Variables\"}}, \"yaxis\": {\"anchor\": \"x\", \"domain\": [0.0, 1.0], \"title\": {\"text\": \"Summer vs Demographic Variables Correlation\"}}},\n",
       "                        {\"responsive\": true}\n",
       "                    ).then(function(){\n",
       "                            \n",
       "var gd = document.getElementById('d3307785-4183-4366-8be8-4583ab85465a');\n",
       "var x = new MutationObserver(function (mutations, observer) {{\n",
       "        var display = window.getComputedStyle(gd).display;\n",
       "        if (!display || display === 'none') {{\n",
       "            console.log([gd, 'removed!']);\n",
       "            Plotly.purge(gd);\n",
       "            observer.disconnect();\n",
       "        }}\n",
       "}});\n",
       "\n",
       "// Listen for the removal of the full notebook cells\n",
       "var notebookContainer = gd.closest('#notebook-container');\n",
       "if (notebookContainer) {{\n",
       "    x.observe(notebookContainer, {childList: true});\n",
       "}}\n",
       "\n",
       "// Listen for the clearing of the current output cell\n",
       "var outputEl = gd.closest('.output');\n",
       "if (outputEl) {{\n",
       "    x.observe(outputEl, {childList: true});\n",
       "}}\n",
       "\n",
       "                        })\n",
       "                };\n",
       "                });\n",
       "            </script>\n",
       "        </div>"
      ]
     },
     "metadata": {},
     "output_type": "display_data"
    }
   ],
   "source": [
    "season_to_do = \"Summer\"\n",
    "fig = px.scatter(corr, x=\"DemographicVariable\", y=season_to_do, color=season_to_do, \n",
    "                color_continuous_scale=px.colors.sequential.RdBu,\n",
    "                width=900, height=1000)\n",
    "fig.update_layout(\n",
    "    title = '(Pearson r Correlation) '+season_to_do+' Reports VS Demographic Data',\n",
    "    yaxis_title = season_to_do+' vs Demographic Variables Correlation',\n",
    "    xaxis_title = \"Demographic Variables\",\n",
    ")\n",
    "fig.show()"
   ]
  },
  {
   "cell_type": "code",
   "execution_count": 16,
   "metadata": {
    "scrolled": true
   },
   "outputs": [
    {
     "data": {
      "application/vnd.plotly.v1+json": {
       "config": {
        "plotlyServerURL": "https://plot.ly"
       },
       "data": [
        {
         "hoverlabel": {
          "namelength": 0
         },
         "hovertemplate": "DemographicVariable=%{x}<br>Autumn=%{marker.color}",
         "legendgroup": "",
         "marker": {
          "color": [
           0.244592873488856,
           0.21995386206549297,
           0.25893600854042126,
           -0.01097970357244757,
           -0.004669250074997705,
           0.012291268624437095,
           0.02179422419330212,
           0.022953454680559402,
           0.03187487335307256,
           0.009158057586069187,
           -0.006263455213761898,
           -0.017804996565811814,
           0.0020604276593184216,
           -0.04643506940758856,
           -0.041915767937232735,
           -0.04225226808925789,
           0.003349543751921203,
           0.02127045131823516,
           -0.006696904068023001,
           -0.007096698835832626,
           0.009360818547457326,
           0.0045399043485895565,
           0.03291785507580265,
           0.01736221067059165,
           0.031096668951927926,
           -0.0006748224921548769,
           -0.008486782164655359,
           -0.005143938801244257,
           0.004700742935063581,
           0.00895295107456991,
           -0.0014955458438677901,
           -0.0258629571836103,
           -0.05049925769819977
          ],
          "coloraxis": "coloraxis",
          "symbol": "circle"
         },
         "mode": "markers",
         "name": "",
         "showlegend": false,
         "type": "scatter",
         "x": [
          "Total; Estimate; Total population",
          "Male; Estimate; Total population",
          "Female; Estimate; Total population",
          "Total; Estimate; AGE - Under 5 years",
          "Total; Estimate; AGE - 5 to 9 years",
          "Total; Estimate; AGE - 10 to 14 years",
          "Total; Estimate; AGE - 15 to 19 years",
          "Total; Estimate; AGE - 20 to 24 years",
          "Total; Estimate; AGE - 25 to 29 years",
          "Total; Estimate; AGE - 30 to 34 years",
          "Total; Estimate; AGE - 35 to 39 years",
          "Total; Estimate; AGE - 40 to 44 years",
          "Total; Estimate; AGE - 45 to 49 years",
          "Total; Estimate; AGE - 50 to 54 years",
          "Total; Estimate; AGE - 55 to 59 years",
          "Total; Estimate; AGE - 60 to 64 years",
          "Total; Estimate; AGE - 65 to 69 years",
          "Total; Estimate; AGE - 70 to 74 years",
          "Total; Estimate; AGE - 75 to 79 years",
          "Total; Estimate; AGE - 80 to 84 years",
          "Total; Estimate; AGE - 85 years and over",
          "Total; Estimate; SELECTED AGE CATEGORIES - 5 to 14 years",
          "Total; Estimate; SELECTED AGE CATEGORIES - 15 to 17 years",
          "Total; Estimate; SELECTED AGE CATEGORIES - 18 to 24 years",
          "Total; Estimate; SELECTED AGE CATEGORIES - 15 to 44 years",
          "Total; Estimate; SELECTED AGE CATEGORIES - 16 years and over",
          "Total; Estimate; SELECTED AGE CATEGORIES - 18 years and over",
          "Total; Estimate; SELECTED AGE CATEGORIES - 60 years and over",
          "Total; Estimate; SELECTED AGE CATEGORIES - 62 years and over",
          "Total; Estimate; SELECTED AGE CATEGORIES - 65 years and over",
          "Total; Estimate; SELECTED AGE CATEGORIES - 75 years and over",
          "Total; Estimate; PERCENT IMPUTED - Sex",
          "Total; Estimate; PERCENT IMPUTED - Age"
         ],
         "xaxis": "x",
         "y": [
          0.244592873488856,
          0.21995386206549297,
          0.25893600854042126,
          -0.01097970357244757,
          -0.004669250074997705,
          0.012291268624437095,
          0.02179422419330212,
          0.022953454680559402,
          0.03187487335307256,
          0.009158057586069187,
          -0.006263455213761898,
          -0.017804996565811814,
          0.0020604276593184216,
          -0.04643506940758856,
          -0.041915767937232735,
          -0.04225226808925789,
          0.003349543751921203,
          0.02127045131823516,
          -0.006696904068023001,
          -0.007096698835832626,
          0.009360818547457326,
          0.0045399043485895565,
          0.03291785507580265,
          0.01736221067059165,
          0.031096668951927926,
          -0.0006748224921548769,
          -0.008486782164655359,
          -0.005143938801244257,
          0.004700742935063581,
          0.00895295107456991,
          -0.0014955458438677901,
          -0.0258629571836103,
          -0.05049925769819977
         ],
         "yaxis": "y"
        }
       ],
       "layout": {
        "coloraxis": {
         "colorbar": {
          "title": {
           "text": "Autumn"
          }
         },
         "colorscale": [
          [
           0,
           "rgb(103,0,31)"
          ],
          [
           0.1,
           "rgb(178,24,43)"
          ],
          [
           0.2,
           "rgb(214,96,77)"
          ],
          [
           0.3,
           "rgb(244,165,130)"
          ],
          [
           0.4,
           "rgb(253,219,199)"
          ],
          [
           0.5,
           "rgb(247,247,247)"
          ],
          [
           0.6,
           "rgb(209,229,240)"
          ],
          [
           0.7,
           "rgb(146,197,222)"
          ],
          [
           0.8,
           "rgb(67,147,195)"
          ],
          [
           0.9,
           "rgb(33,102,172)"
          ],
          [
           1,
           "rgb(5,48,97)"
          ]
         ]
        },
        "height": 1000,
        "legend": {
         "tracegroupgap": 0
        },
        "margin": {
         "t": 60
        },
        "template": {
         "data": {
          "bar": [
           {
            "error_x": {
             "color": "#2a3f5f"
            },
            "error_y": {
             "color": "#2a3f5f"
            },
            "marker": {
             "line": {
              "color": "#E5ECF6",
              "width": 0.5
             }
            },
            "type": "bar"
           }
          ],
          "barpolar": [
           {
            "marker": {
             "line": {
              "color": "#E5ECF6",
              "width": 0.5
             }
            },
            "type": "barpolar"
           }
          ],
          "carpet": [
           {
            "aaxis": {
             "endlinecolor": "#2a3f5f",
             "gridcolor": "white",
             "linecolor": "white",
             "minorgridcolor": "white",
             "startlinecolor": "#2a3f5f"
            },
            "baxis": {
             "endlinecolor": "#2a3f5f",
             "gridcolor": "white",
             "linecolor": "white",
             "minorgridcolor": "white",
             "startlinecolor": "#2a3f5f"
            },
            "type": "carpet"
           }
          ],
          "choropleth": [
           {
            "colorbar": {
             "outlinewidth": 0,
             "ticks": ""
            },
            "type": "choropleth"
           }
          ],
          "contour": [
           {
            "colorbar": {
             "outlinewidth": 0,
             "ticks": ""
            },
            "colorscale": [
             [
              0,
              "#0d0887"
             ],
             [
              0.1111111111111111,
              "#46039f"
             ],
             [
              0.2222222222222222,
              "#7201a8"
             ],
             [
              0.3333333333333333,
              "#9c179e"
             ],
             [
              0.4444444444444444,
              "#bd3786"
             ],
             [
              0.5555555555555556,
              "#d8576b"
             ],
             [
              0.6666666666666666,
              "#ed7953"
             ],
             [
              0.7777777777777778,
              "#fb9f3a"
             ],
             [
              0.8888888888888888,
              "#fdca26"
             ],
             [
              1,
              "#f0f921"
             ]
            ],
            "type": "contour"
           }
          ],
          "contourcarpet": [
           {
            "colorbar": {
             "outlinewidth": 0,
             "ticks": ""
            },
            "type": "contourcarpet"
           }
          ],
          "heatmap": [
           {
            "colorbar": {
             "outlinewidth": 0,
             "ticks": ""
            },
            "colorscale": [
             [
              0,
              "#0d0887"
             ],
             [
              0.1111111111111111,
              "#46039f"
             ],
             [
              0.2222222222222222,
              "#7201a8"
             ],
             [
              0.3333333333333333,
              "#9c179e"
             ],
             [
              0.4444444444444444,
              "#bd3786"
             ],
             [
              0.5555555555555556,
              "#d8576b"
             ],
             [
              0.6666666666666666,
              "#ed7953"
             ],
             [
              0.7777777777777778,
              "#fb9f3a"
             ],
             [
              0.8888888888888888,
              "#fdca26"
             ],
             [
              1,
              "#f0f921"
             ]
            ],
            "type": "heatmap"
           }
          ],
          "heatmapgl": [
           {
            "colorbar": {
             "outlinewidth": 0,
             "ticks": ""
            },
            "colorscale": [
             [
              0,
              "#0d0887"
             ],
             [
              0.1111111111111111,
              "#46039f"
             ],
             [
              0.2222222222222222,
              "#7201a8"
             ],
             [
              0.3333333333333333,
              "#9c179e"
             ],
             [
              0.4444444444444444,
              "#bd3786"
             ],
             [
              0.5555555555555556,
              "#d8576b"
             ],
             [
              0.6666666666666666,
              "#ed7953"
             ],
             [
              0.7777777777777778,
              "#fb9f3a"
             ],
             [
              0.8888888888888888,
              "#fdca26"
             ],
             [
              1,
              "#f0f921"
             ]
            ],
            "type": "heatmapgl"
           }
          ],
          "histogram": [
           {
            "marker": {
             "colorbar": {
              "outlinewidth": 0,
              "ticks": ""
             }
            },
            "type": "histogram"
           }
          ],
          "histogram2d": [
           {
            "colorbar": {
             "outlinewidth": 0,
             "ticks": ""
            },
            "colorscale": [
             [
              0,
              "#0d0887"
             ],
             [
              0.1111111111111111,
              "#46039f"
             ],
             [
              0.2222222222222222,
              "#7201a8"
             ],
             [
              0.3333333333333333,
              "#9c179e"
             ],
             [
              0.4444444444444444,
              "#bd3786"
             ],
             [
              0.5555555555555556,
              "#d8576b"
             ],
             [
              0.6666666666666666,
              "#ed7953"
             ],
             [
              0.7777777777777778,
              "#fb9f3a"
             ],
             [
              0.8888888888888888,
              "#fdca26"
             ],
             [
              1,
              "#f0f921"
             ]
            ],
            "type": "histogram2d"
           }
          ],
          "histogram2dcontour": [
           {
            "colorbar": {
             "outlinewidth": 0,
             "ticks": ""
            },
            "colorscale": [
             [
              0,
              "#0d0887"
             ],
             [
              0.1111111111111111,
              "#46039f"
             ],
             [
              0.2222222222222222,
              "#7201a8"
             ],
             [
              0.3333333333333333,
              "#9c179e"
             ],
             [
              0.4444444444444444,
              "#bd3786"
             ],
             [
              0.5555555555555556,
              "#d8576b"
             ],
             [
              0.6666666666666666,
              "#ed7953"
             ],
             [
              0.7777777777777778,
              "#fb9f3a"
             ],
             [
              0.8888888888888888,
              "#fdca26"
             ],
             [
              1,
              "#f0f921"
             ]
            ],
            "type": "histogram2dcontour"
           }
          ],
          "mesh3d": [
           {
            "colorbar": {
             "outlinewidth": 0,
             "ticks": ""
            },
            "type": "mesh3d"
           }
          ],
          "parcoords": [
           {
            "line": {
             "colorbar": {
              "outlinewidth": 0,
              "ticks": ""
             }
            },
            "type": "parcoords"
           }
          ],
          "pie": [
           {
            "automargin": true,
            "type": "pie"
           }
          ],
          "scatter": [
           {
            "marker": {
             "colorbar": {
              "outlinewidth": 0,
              "ticks": ""
             }
            },
            "type": "scatter"
           }
          ],
          "scatter3d": [
           {
            "line": {
             "colorbar": {
              "outlinewidth": 0,
              "ticks": ""
             }
            },
            "marker": {
             "colorbar": {
              "outlinewidth": 0,
              "ticks": ""
             }
            },
            "type": "scatter3d"
           }
          ],
          "scattercarpet": [
           {
            "marker": {
             "colorbar": {
              "outlinewidth": 0,
              "ticks": ""
             }
            },
            "type": "scattercarpet"
           }
          ],
          "scattergeo": [
           {
            "marker": {
             "colorbar": {
              "outlinewidth": 0,
              "ticks": ""
             }
            },
            "type": "scattergeo"
           }
          ],
          "scattergl": [
           {
            "marker": {
             "colorbar": {
              "outlinewidth": 0,
              "ticks": ""
             }
            },
            "type": "scattergl"
           }
          ],
          "scattermapbox": [
           {
            "marker": {
             "colorbar": {
              "outlinewidth": 0,
              "ticks": ""
             }
            },
            "type": "scattermapbox"
           }
          ],
          "scatterpolar": [
           {
            "marker": {
             "colorbar": {
              "outlinewidth": 0,
              "ticks": ""
             }
            },
            "type": "scatterpolar"
           }
          ],
          "scatterpolargl": [
           {
            "marker": {
             "colorbar": {
              "outlinewidth": 0,
              "ticks": ""
             }
            },
            "type": "scatterpolargl"
           }
          ],
          "scatterternary": [
           {
            "marker": {
             "colorbar": {
              "outlinewidth": 0,
              "ticks": ""
             }
            },
            "type": "scatterternary"
           }
          ],
          "surface": [
           {
            "colorbar": {
             "outlinewidth": 0,
             "ticks": ""
            },
            "colorscale": [
             [
              0,
              "#0d0887"
             ],
             [
              0.1111111111111111,
              "#46039f"
             ],
             [
              0.2222222222222222,
              "#7201a8"
             ],
             [
              0.3333333333333333,
              "#9c179e"
             ],
             [
              0.4444444444444444,
              "#bd3786"
             ],
             [
              0.5555555555555556,
              "#d8576b"
             ],
             [
              0.6666666666666666,
              "#ed7953"
             ],
             [
              0.7777777777777778,
              "#fb9f3a"
             ],
             [
              0.8888888888888888,
              "#fdca26"
             ],
             [
              1,
              "#f0f921"
             ]
            ],
            "type": "surface"
           }
          ],
          "table": [
           {
            "cells": {
             "fill": {
              "color": "#EBF0F8"
             },
             "line": {
              "color": "white"
             }
            },
            "header": {
             "fill": {
              "color": "#C8D4E3"
             },
             "line": {
              "color": "white"
             }
            },
            "type": "table"
           }
          ]
         },
         "layout": {
          "annotationdefaults": {
           "arrowcolor": "#2a3f5f",
           "arrowhead": 0,
           "arrowwidth": 1
          },
          "coloraxis": {
           "colorbar": {
            "outlinewidth": 0,
            "ticks": ""
           }
          },
          "colorscale": {
           "diverging": [
            [
             0,
             "#8e0152"
            ],
            [
             0.1,
             "#c51b7d"
            ],
            [
             0.2,
             "#de77ae"
            ],
            [
             0.3,
             "#f1b6da"
            ],
            [
             0.4,
             "#fde0ef"
            ],
            [
             0.5,
             "#f7f7f7"
            ],
            [
             0.6,
             "#e6f5d0"
            ],
            [
             0.7,
             "#b8e186"
            ],
            [
             0.8,
             "#7fbc41"
            ],
            [
             0.9,
             "#4d9221"
            ],
            [
             1,
             "#276419"
            ]
           ],
           "sequential": [
            [
             0,
             "#0d0887"
            ],
            [
             0.1111111111111111,
             "#46039f"
            ],
            [
             0.2222222222222222,
             "#7201a8"
            ],
            [
             0.3333333333333333,
             "#9c179e"
            ],
            [
             0.4444444444444444,
             "#bd3786"
            ],
            [
             0.5555555555555556,
             "#d8576b"
            ],
            [
             0.6666666666666666,
             "#ed7953"
            ],
            [
             0.7777777777777778,
             "#fb9f3a"
            ],
            [
             0.8888888888888888,
             "#fdca26"
            ],
            [
             1,
             "#f0f921"
            ]
           ],
           "sequentialminus": [
            [
             0,
             "#0d0887"
            ],
            [
             0.1111111111111111,
             "#46039f"
            ],
            [
             0.2222222222222222,
             "#7201a8"
            ],
            [
             0.3333333333333333,
             "#9c179e"
            ],
            [
             0.4444444444444444,
             "#bd3786"
            ],
            [
             0.5555555555555556,
             "#d8576b"
            ],
            [
             0.6666666666666666,
             "#ed7953"
            ],
            [
             0.7777777777777778,
             "#fb9f3a"
            ],
            [
             0.8888888888888888,
             "#fdca26"
            ],
            [
             1,
             "#f0f921"
            ]
           ]
          },
          "colorway": [
           "#636efa",
           "#EF553B",
           "#00cc96",
           "#ab63fa",
           "#FFA15A",
           "#19d3f3",
           "#FF6692",
           "#B6E880",
           "#FF97FF",
           "#FECB52"
          ],
          "font": {
           "color": "#2a3f5f"
          },
          "geo": {
           "bgcolor": "white",
           "lakecolor": "white",
           "landcolor": "#E5ECF6",
           "showlakes": true,
           "showland": true,
           "subunitcolor": "white"
          },
          "hoverlabel": {
           "align": "left"
          },
          "hovermode": "closest",
          "mapbox": {
           "style": "light"
          },
          "paper_bgcolor": "white",
          "plot_bgcolor": "#E5ECF6",
          "polar": {
           "angularaxis": {
            "gridcolor": "white",
            "linecolor": "white",
            "ticks": ""
           },
           "bgcolor": "#E5ECF6",
           "radialaxis": {
            "gridcolor": "white",
            "linecolor": "white",
            "ticks": ""
           }
          },
          "scene": {
           "xaxis": {
            "backgroundcolor": "#E5ECF6",
            "gridcolor": "white",
            "gridwidth": 2,
            "linecolor": "white",
            "showbackground": true,
            "ticks": "",
            "zerolinecolor": "white"
           },
           "yaxis": {
            "backgroundcolor": "#E5ECF6",
            "gridcolor": "white",
            "gridwidth": 2,
            "linecolor": "white",
            "showbackground": true,
            "ticks": "",
            "zerolinecolor": "white"
           },
           "zaxis": {
            "backgroundcolor": "#E5ECF6",
            "gridcolor": "white",
            "gridwidth": 2,
            "linecolor": "white",
            "showbackground": true,
            "ticks": "",
            "zerolinecolor": "white"
           }
          },
          "shapedefaults": {
           "line": {
            "color": "#2a3f5f"
           }
          },
          "ternary": {
           "aaxis": {
            "gridcolor": "white",
            "linecolor": "white",
            "ticks": ""
           },
           "baxis": {
            "gridcolor": "white",
            "linecolor": "white",
            "ticks": ""
           },
           "bgcolor": "#E5ECF6",
           "caxis": {
            "gridcolor": "white",
            "linecolor": "white",
            "ticks": ""
           }
          },
          "title": {
           "x": 0.05
          },
          "xaxis": {
           "automargin": true,
           "gridcolor": "white",
           "linecolor": "white",
           "ticks": "",
           "title": {
            "standoff": 15
           },
           "zerolinecolor": "white",
           "zerolinewidth": 2
          },
          "yaxis": {
           "automargin": true,
           "gridcolor": "white",
           "linecolor": "white",
           "ticks": "",
           "title": {
            "standoff": 15
           },
           "zerolinecolor": "white",
           "zerolinewidth": 2
          }
         }
        },
        "title": {
         "text": "(Pearson r Correlation) Autumn Reports VS Demographic Data"
        },
        "width": 900,
        "xaxis": {
         "anchor": "y",
         "domain": [
          0,
          1
         ],
         "title": {
          "text": "Demographic Variables"
         }
        },
        "yaxis": {
         "anchor": "x",
         "domain": [
          0,
          1
         ],
         "title": {
          "text": "Autumn vs Demographic Variables Correlation"
         }
        }
       }
      },
      "text/html": [
       "<div>\n",
       "        \n",
       "        \n",
       "            <div id=\"b08ea506-8277-4a7a-af00-cef71b1786d2\" class=\"plotly-graph-div\" style=\"height:1000px; width:900px;\"></div>\n",
       "            <script type=\"text/javascript\">\n",
       "                require([\"plotly\"], function(Plotly) {\n",
       "                    window.PLOTLYENV=window.PLOTLYENV || {};\n",
       "                    \n",
       "                if (document.getElementById(\"b08ea506-8277-4a7a-af00-cef71b1786d2\")) {\n",
       "                    Plotly.newPlot(\n",
       "                        'b08ea506-8277-4a7a-af00-cef71b1786d2',\n",
       "                        [{\"hoverlabel\": {\"namelength\": 0}, \"hovertemplate\": \"DemographicVariable=%{x}<br>Autumn=%{marker.color}\", \"legendgroup\": \"\", \"marker\": {\"color\": [0.244592873488856, 0.21995386206549297, 0.25893600854042126, -0.01097970357244757, -0.004669250074997705, 0.012291268624437095, 0.02179422419330212, 0.022953454680559402, 0.03187487335307256, 0.009158057586069187, -0.006263455213761898, -0.017804996565811814, 0.0020604276593184216, -0.04643506940758856, -0.041915767937232735, -0.04225226808925789, 0.003349543751921203, 0.02127045131823516, -0.006696904068023001, -0.007096698835832626, 0.009360818547457326, 0.0045399043485895565, 0.03291785507580265, 0.01736221067059165, 0.031096668951927926, -0.0006748224921548769, -0.008486782164655359, -0.005143938801244257, 0.004700742935063581, 0.00895295107456991, -0.0014955458438677901, -0.0258629571836103, -0.05049925769819977], \"coloraxis\": \"coloraxis\", \"symbol\": \"circle\"}, \"mode\": \"markers\", \"name\": \"\", \"showlegend\": false, \"type\": \"scatter\", \"x\": [\"Total; Estimate; Total population\", \"Male; Estimate; Total population\", \"Female; Estimate; Total population\", \"Total; Estimate; AGE - Under 5 years\", \"Total; Estimate; AGE - 5 to 9 years\", \"Total; Estimate; AGE - 10 to 14 years\", \"Total; Estimate; AGE - 15 to 19 years\", \"Total; Estimate; AGE - 20 to 24 years\", \"Total; Estimate; AGE - 25 to 29 years\", \"Total; Estimate; AGE - 30 to 34 years\", \"Total; Estimate; AGE - 35 to 39 years\", \"Total; Estimate; AGE - 40 to 44 years\", \"Total; Estimate; AGE - 45 to 49 years\", \"Total; Estimate; AGE - 50 to 54 years\", \"Total; Estimate; AGE - 55 to 59 years\", \"Total; Estimate; AGE - 60 to 64 years\", \"Total; Estimate; AGE - 65 to 69 years\", \"Total; Estimate; AGE - 70 to 74 years\", \"Total; Estimate; AGE - 75 to 79 years\", \"Total; Estimate; AGE - 80 to 84 years\", \"Total; Estimate; AGE - 85 years and over\", \"Total; Estimate; SELECTED AGE CATEGORIES - 5 to 14 years\", \"Total; Estimate; SELECTED AGE CATEGORIES - 15 to 17 years\", \"Total; Estimate; SELECTED AGE CATEGORIES - 18 to 24 years\", \"Total; Estimate; SELECTED AGE CATEGORIES - 15 to 44 years\", \"Total; Estimate; SELECTED AGE CATEGORIES - 16 years and over\", \"Total; Estimate; SELECTED AGE CATEGORIES - 18 years and over\", \"Total; Estimate; SELECTED AGE CATEGORIES - 60 years and over\", \"Total; Estimate; SELECTED AGE CATEGORIES - 62 years and over\", \"Total; Estimate; SELECTED AGE CATEGORIES - 65 years and over\", \"Total; Estimate; SELECTED AGE CATEGORIES - 75 years and over\", \"Total; Estimate; PERCENT IMPUTED - Sex\", \"Total; Estimate; PERCENT IMPUTED - Age\"], \"xaxis\": \"x\", \"y\": [0.244592873488856, 0.21995386206549297, 0.25893600854042126, -0.01097970357244757, -0.004669250074997705, 0.012291268624437095, 0.02179422419330212, 0.022953454680559402, 0.03187487335307256, 0.009158057586069187, -0.006263455213761898, -0.017804996565811814, 0.0020604276593184216, -0.04643506940758856, -0.041915767937232735, -0.04225226808925789, 0.003349543751921203, 0.02127045131823516, -0.006696904068023001, -0.007096698835832626, 0.009360818547457326, 0.0045399043485895565, 0.03291785507580265, 0.01736221067059165, 0.031096668951927926, -0.0006748224921548769, -0.008486782164655359, -0.005143938801244257, 0.004700742935063581, 0.00895295107456991, -0.0014955458438677901, -0.0258629571836103, -0.05049925769819977], \"yaxis\": \"y\"}],\n",
       "                        {\"coloraxis\": {\"colorbar\": {\"title\": {\"text\": \"Autumn\"}}, \"colorscale\": [[0.0, \"rgb(103,0,31)\"], [0.1, \"rgb(178,24,43)\"], [0.2, \"rgb(214,96,77)\"], [0.3, \"rgb(244,165,130)\"], [0.4, \"rgb(253,219,199)\"], [0.5, \"rgb(247,247,247)\"], [0.6, \"rgb(209,229,240)\"], [0.7, \"rgb(146,197,222)\"], [0.8, \"rgb(67,147,195)\"], [0.9, \"rgb(33,102,172)\"], [1.0, \"rgb(5,48,97)\"]]}, \"height\": 1000, \"legend\": {\"tracegroupgap\": 0}, \"margin\": {\"t\": 60}, \"template\": {\"data\": {\"bar\": [{\"error_x\": {\"color\": \"#2a3f5f\"}, \"error_y\": {\"color\": \"#2a3f5f\"}, \"marker\": {\"line\": {\"color\": \"#E5ECF6\", \"width\": 0.5}}, \"type\": \"bar\"}], \"barpolar\": [{\"marker\": {\"line\": {\"color\": \"#E5ECF6\", \"width\": 0.5}}, \"type\": \"barpolar\"}], \"carpet\": [{\"aaxis\": {\"endlinecolor\": \"#2a3f5f\", \"gridcolor\": \"white\", \"linecolor\": \"white\", \"minorgridcolor\": \"white\", \"startlinecolor\": \"#2a3f5f\"}, \"baxis\": {\"endlinecolor\": \"#2a3f5f\", \"gridcolor\": \"white\", \"linecolor\": \"white\", \"minorgridcolor\": \"white\", \"startlinecolor\": \"#2a3f5f\"}, \"type\": \"carpet\"}], \"choropleth\": [{\"colorbar\": {\"outlinewidth\": 0, \"ticks\": \"\"}, \"type\": \"choropleth\"}], \"contour\": [{\"colorbar\": {\"outlinewidth\": 0, \"ticks\": \"\"}, \"colorscale\": [[0.0, \"#0d0887\"], [0.1111111111111111, \"#46039f\"], [0.2222222222222222, \"#7201a8\"], [0.3333333333333333, \"#9c179e\"], [0.4444444444444444, \"#bd3786\"], [0.5555555555555556, \"#d8576b\"], [0.6666666666666666, \"#ed7953\"], [0.7777777777777778, \"#fb9f3a\"], [0.8888888888888888, \"#fdca26\"], [1.0, \"#f0f921\"]], \"type\": \"contour\"}], \"contourcarpet\": [{\"colorbar\": {\"outlinewidth\": 0, \"ticks\": \"\"}, \"type\": \"contourcarpet\"}], \"heatmap\": [{\"colorbar\": {\"outlinewidth\": 0, \"ticks\": \"\"}, \"colorscale\": [[0.0, \"#0d0887\"], [0.1111111111111111, \"#46039f\"], [0.2222222222222222, \"#7201a8\"], [0.3333333333333333, \"#9c179e\"], [0.4444444444444444, \"#bd3786\"], [0.5555555555555556, \"#d8576b\"], [0.6666666666666666, \"#ed7953\"], [0.7777777777777778, \"#fb9f3a\"], [0.8888888888888888, \"#fdca26\"], [1.0, \"#f0f921\"]], \"type\": \"heatmap\"}], \"heatmapgl\": [{\"colorbar\": {\"outlinewidth\": 0, \"ticks\": \"\"}, \"colorscale\": [[0.0, \"#0d0887\"], [0.1111111111111111, \"#46039f\"], [0.2222222222222222, \"#7201a8\"], [0.3333333333333333, \"#9c179e\"], [0.4444444444444444, \"#bd3786\"], [0.5555555555555556, \"#d8576b\"], [0.6666666666666666, \"#ed7953\"], [0.7777777777777778, \"#fb9f3a\"], [0.8888888888888888, \"#fdca26\"], [1.0, \"#f0f921\"]], \"type\": \"heatmapgl\"}], \"histogram\": [{\"marker\": {\"colorbar\": {\"outlinewidth\": 0, \"ticks\": \"\"}}, \"type\": \"histogram\"}], \"histogram2d\": [{\"colorbar\": {\"outlinewidth\": 0, \"ticks\": \"\"}, \"colorscale\": [[0.0, \"#0d0887\"], [0.1111111111111111, \"#46039f\"], [0.2222222222222222, \"#7201a8\"], [0.3333333333333333, \"#9c179e\"], [0.4444444444444444, \"#bd3786\"], [0.5555555555555556, \"#d8576b\"], [0.6666666666666666, \"#ed7953\"], [0.7777777777777778, \"#fb9f3a\"], [0.8888888888888888, \"#fdca26\"], [1.0, \"#f0f921\"]], \"type\": \"histogram2d\"}], \"histogram2dcontour\": [{\"colorbar\": {\"outlinewidth\": 0, \"ticks\": \"\"}, \"colorscale\": [[0.0, \"#0d0887\"], [0.1111111111111111, \"#46039f\"], [0.2222222222222222, \"#7201a8\"], [0.3333333333333333, \"#9c179e\"], [0.4444444444444444, \"#bd3786\"], [0.5555555555555556, \"#d8576b\"], [0.6666666666666666, \"#ed7953\"], [0.7777777777777778, \"#fb9f3a\"], [0.8888888888888888, \"#fdca26\"], [1.0, \"#f0f921\"]], \"type\": \"histogram2dcontour\"}], \"mesh3d\": [{\"colorbar\": {\"outlinewidth\": 0, \"ticks\": \"\"}, \"type\": \"mesh3d\"}], \"parcoords\": [{\"line\": {\"colorbar\": {\"outlinewidth\": 0, \"ticks\": \"\"}}, \"type\": \"parcoords\"}], \"pie\": [{\"automargin\": true, \"type\": \"pie\"}], \"scatter\": [{\"marker\": {\"colorbar\": {\"outlinewidth\": 0, \"ticks\": \"\"}}, \"type\": \"scatter\"}], \"scatter3d\": [{\"line\": {\"colorbar\": {\"outlinewidth\": 0, \"ticks\": \"\"}}, \"marker\": {\"colorbar\": {\"outlinewidth\": 0, \"ticks\": \"\"}}, \"type\": \"scatter3d\"}], \"scattercarpet\": [{\"marker\": {\"colorbar\": {\"outlinewidth\": 0, \"ticks\": \"\"}}, \"type\": \"scattercarpet\"}], \"scattergeo\": [{\"marker\": {\"colorbar\": {\"outlinewidth\": 0, \"ticks\": \"\"}}, \"type\": \"scattergeo\"}], \"scattergl\": [{\"marker\": {\"colorbar\": {\"outlinewidth\": 0, \"ticks\": \"\"}}, \"type\": \"scattergl\"}], \"scattermapbox\": [{\"marker\": {\"colorbar\": {\"outlinewidth\": 0, \"ticks\": \"\"}}, \"type\": \"scattermapbox\"}], \"scatterpolar\": [{\"marker\": {\"colorbar\": {\"outlinewidth\": 0, \"ticks\": \"\"}}, \"type\": \"scatterpolar\"}], \"scatterpolargl\": [{\"marker\": {\"colorbar\": {\"outlinewidth\": 0, \"ticks\": \"\"}}, \"type\": \"scatterpolargl\"}], \"scatterternary\": [{\"marker\": {\"colorbar\": {\"outlinewidth\": 0, \"ticks\": \"\"}}, \"type\": \"scatterternary\"}], \"surface\": [{\"colorbar\": {\"outlinewidth\": 0, \"ticks\": \"\"}, \"colorscale\": [[0.0, \"#0d0887\"], [0.1111111111111111, \"#46039f\"], [0.2222222222222222, \"#7201a8\"], [0.3333333333333333, \"#9c179e\"], [0.4444444444444444, \"#bd3786\"], [0.5555555555555556, \"#d8576b\"], [0.6666666666666666, \"#ed7953\"], [0.7777777777777778, \"#fb9f3a\"], [0.8888888888888888, \"#fdca26\"], [1.0, \"#f0f921\"]], \"type\": \"surface\"}], \"table\": [{\"cells\": {\"fill\": {\"color\": \"#EBF0F8\"}, \"line\": {\"color\": \"white\"}}, \"header\": {\"fill\": {\"color\": \"#C8D4E3\"}, \"line\": {\"color\": \"white\"}}, \"type\": \"table\"}]}, \"layout\": {\"annotationdefaults\": {\"arrowcolor\": \"#2a3f5f\", \"arrowhead\": 0, \"arrowwidth\": 1}, \"coloraxis\": {\"colorbar\": {\"outlinewidth\": 0, \"ticks\": \"\"}}, \"colorscale\": {\"diverging\": [[0, \"#8e0152\"], [0.1, \"#c51b7d\"], [0.2, \"#de77ae\"], [0.3, \"#f1b6da\"], [0.4, \"#fde0ef\"], [0.5, \"#f7f7f7\"], [0.6, \"#e6f5d0\"], [0.7, \"#b8e186\"], [0.8, \"#7fbc41\"], [0.9, \"#4d9221\"], [1, \"#276419\"]], \"sequential\": [[0.0, \"#0d0887\"], [0.1111111111111111, \"#46039f\"], [0.2222222222222222, \"#7201a8\"], [0.3333333333333333, \"#9c179e\"], [0.4444444444444444, \"#bd3786\"], [0.5555555555555556, \"#d8576b\"], [0.6666666666666666, \"#ed7953\"], [0.7777777777777778, \"#fb9f3a\"], [0.8888888888888888, \"#fdca26\"], [1.0, \"#f0f921\"]], \"sequentialminus\": [[0.0, \"#0d0887\"], [0.1111111111111111, \"#46039f\"], [0.2222222222222222, \"#7201a8\"], [0.3333333333333333, \"#9c179e\"], [0.4444444444444444, \"#bd3786\"], [0.5555555555555556, \"#d8576b\"], [0.6666666666666666, \"#ed7953\"], [0.7777777777777778, \"#fb9f3a\"], [0.8888888888888888, \"#fdca26\"], [1.0, \"#f0f921\"]]}, \"colorway\": [\"#636efa\", \"#EF553B\", \"#00cc96\", \"#ab63fa\", \"#FFA15A\", \"#19d3f3\", \"#FF6692\", \"#B6E880\", \"#FF97FF\", \"#FECB52\"], \"font\": {\"color\": \"#2a3f5f\"}, \"geo\": {\"bgcolor\": \"white\", \"lakecolor\": \"white\", \"landcolor\": \"#E5ECF6\", \"showlakes\": true, \"showland\": true, \"subunitcolor\": \"white\"}, \"hoverlabel\": {\"align\": \"left\"}, \"hovermode\": \"closest\", \"mapbox\": {\"style\": \"light\"}, \"paper_bgcolor\": \"white\", \"plot_bgcolor\": \"#E5ECF6\", \"polar\": {\"angularaxis\": {\"gridcolor\": \"white\", \"linecolor\": \"white\", \"ticks\": \"\"}, \"bgcolor\": \"#E5ECF6\", \"radialaxis\": {\"gridcolor\": \"white\", \"linecolor\": \"white\", \"ticks\": \"\"}}, \"scene\": {\"xaxis\": {\"backgroundcolor\": \"#E5ECF6\", \"gridcolor\": \"white\", \"gridwidth\": 2, \"linecolor\": \"white\", \"showbackground\": true, \"ticks\": \"\", \"zerolinecolor\": \"white\"}, \"yaxis\": {\"backgroundcolor\": \"#E5ECF6\", \"gridcolor\": \"white\", \"gridwidth\": 2, \"linecolor\": \"white\", \"showbackground\": true, \"ticks\": \"\", \"zerolinecolor\": \"white\"}, \"zaxis\": {\"backgroundcolor\": \"#E5ECF6\", \"gridcolor\": \"white\", \"gridwidth\": 2, \"linecolor\": \"white\", \"showbackground\": true, \"ticks\": \"\", \"zerolinecolor\": \"white\"}}, \"shapedefaults\": {\"line\": {\"color\": \"#2a3f5f\"}}, \"ternary\": {\"aaxis\": {\"gridcolor\": \"white\", \"linecolor\": \"white\", \"ticks\": \"\"}, \"baxis\": {\"gridcolor\": \"white\", \"linecolor\": \"white\", \"ticks\": \"\"}, \"bgcolor\": \"#E5ECF6\", \"caxis\": {\"gridcolor\": \"white\", \"linecolor\": \"white\", \"ticks\": \"\"}}, \"title\": {\"x\": 0.05}, \"xaxis\": {\"automargin\": true, \"gridcolor\": \"white\", \"linecolor\": \"white\", \"ticks\": \"\", \"title\": {\"standoff\": 15}, \"zerolinecolor\": \"white\", \"zerolinewidth\": 2}, \"yaxis\": {\"automargin\": true, \"gridcolor\": \"white\", \"linecolor\": \"white\", \"ticks\": \"\", \"title\": {\"standoff\": 15}, \"zerolinecolor\": \"white\", \"zerolinewidth\": 2}}}, \"title\": {\"text\": \"(Pearson r Correlation) Autumn Reports VS Demographic Data\"}, \"width\": 900, \"xaxis\": {\"anchor\": \"y\", \"domain\": [0.0, 1.0], \"title\": {\"text\": \"Demographic Variables\"}}, \"yaxis\": {\"anchor\": \"x\", \"domain\": [0.0, 1.0], \"title\": {\"text\": \"Autumn vs Demographic Variables Correlation\"}}},\n",
       "                        {\"responsive\": true}\n",
       "                    ).then(function(){\n",
       "                            \n",
       "var gd = document.getElementById('b08ea506-8277-4a7a-af00-cef71b1786d2');\n",
       "var x = new MutationObserver(function (mutations, observer) {{\n",
       "        var display = window.getComputedStyle(gd).display;\n",
       "        if (!display || display === 'none') {{\n",
       "            console.log([gd, 'removed!']);\n",
       "            Plotly.purge(gd);\n",
       "            observer.disconnect();\n",
       "        }}\n",
       "}});\n",
       "\n",
       "// Listen for the removal of the full notebook cells\n",
       "var notebookContainer = gd.closest('#notebook-container');\n",
       "if (notebookContainer) {{\n",
       "    x.observe(notebookContainer, {childList: true});\n",
       "}}\n",
       "\n",
       "// Listen for the clearing of the current output cell\n",
       "var outputEl = gd.closest('.output');\n",
       "if (outputEl) {{\n",
       "    x.observe(outputEl, {childList: true});\n",
       "}}\n",
       "\n",
       "                        })\n",
       "                };\n",
       "                });\n",
       "            </script>\n",
       "        </div>"
      ]
     },
     "metadata": {},
     "output_type": "display_data"
    }
   ],
   "source": [
    "season_to_do = \"Autumn\"\n",
    "fig = px.scatter(corr, x=\"DemographicVariable\", y=season_to_do, color=season_to_do, \n",
    "                color_continuous_scale=px.colors.sequential.RdBu,\n",
    "                width=900, height=1000)\n",
    "fig.update_layout(\n",
    "    title = '(Pearson r Correlation) '+season_to_do+' Reports VS Demographic Data',\n",
    "    yaxis_title = season_to_do+' vs Demographic Variables Correlation',\n",
    "    xaxis_title = \"Demographic Variables\",\n",
    ")\n",
    "fig.show()"
   ]
  },
  {
   "cell_type": "code",
   "execution_count": 17,
   "metadata": {},
   "outputs": [
    {
     "data": {
      "application/vnd.plotly.v1+json": {
       "config": {
        "plotlyServerURL": "https://plot.ly"
       },
       "data": [
        {
         "hoverlabel": {
          "namelength": 0
         },
         "hovertemplate": "DemographicVariable=%{x}<br>Winter=%{marker.color}",
         "legendgroup": "",
         "marker": {
          "color": [
           0.19639772131804012,
           0.17887891541327886,
           0.2059623535283145,
           -0.008463343455613717,
           0.0005119100820810378,
           0.019795138127410763,
           0.02462326409723898,
           0.008646301453593614,
           0.008358623071745232,
           -0.00038197331720560035,
           -0.011317980897360478,
           -0.01667443023582909,
           0.009903836158349964,
           -0.032876819320129196,
           -0.035642344474839875,
           -0.034149083647950225,
           0.004382159854652744,
           0.027111538340489006,
           0.0009947335414295917,
           0.0006545970275325263,
           0.014242465180242038,
           0.012069581617120514,
           0.03307503627334572,
           0.008419147598081616,
           0.00939151545792764,
           -0.006497583531790757,
           -0.014159955450870548,
           0.00434328582442445,
           0.013984404428339559,
           0.016822653739857345,
           0.006863223884597445,
           -0.02072157315869393,
           -0.04319317234201413
          ],
          "coloraxis": "coloraxis",
          "symbol": "circle"
         },
         "mode": "markers",
         "name": "",
         "showlegend": false,
         "type": "scatter",
         "x": [
          "Total; Estimate; Total population",
          "Male; Estimate; Total population",
          "Female; Estimate; Total population",
          "Total; Estimate; AGE - Under 5 years",
          "Total; Estimate; AGE - 5 to 9 years",
          "Total; Estimate; AGE - 10 to 14 years",
          "Total; Estimate; AGE - 15 to 19 years",
          "Total; Estimate; AGE - 20 to 24 years",
          "Total; Estimate; AGE - 25 to 29 years",
          "Total; Estimate; AGE - 30 to 34 years",
          "Total; Estimate; AGE - 35 to 39 years",
          "Total; Estimate; AGE - 40 to 44 years",
          "Total; Estimate; AGE - 45 to 49 years",
          "Total; Estimate; AGE - 50 to 54 years",
          "Total; Estimate; AGE - 55 to 59 years",
          "Total; Estimate; AGE - 60 to 64 years",
          "Total; Estimate; AGE - 65 to 69 years",
          "Total; Estimate; AGE - 70 to 74 years",
          "Total; Estimate; AGE - 75 to 79 years",
          "Total; Estimate; AGE - 80 to 84 years",
          "Total; Estimate; AGE - 85 years and over",
          "Total; Estimate; SELECTED AGE CATEGORIES - 5 to 14 years",
          "Total; Estimate; SELECTED AGE CATEGORIES - 15 to 17 years",
          "Total; Estimate; SELECTED AGE CATEGORIES - 18 to 24 years",
          "Total; Estimate; SELECTED AGE CATEGORIES - 15 to 44 years",
          "Total; Estimate; SELECTED AGE CATEGORIES - 16 years and over",
          "Total; Estimate; SELECTED AGE CATEGORIES - 18 years and over",
          "Total; Estimate; SELECTED AGE CATEGORIES - 60 years and over",
          "Total; Estimate; SELECTED AGE CATEGORIES - 62 years and over",
          "Total; Estimate; SELECTED AGE CATEGORIES - 65 years and over",
          "Total; Estimate; SELECTED AGE CATEGORIES - 75 years and over",
          "Total; Estimate; PERCENT IMPUTED - Sex",
          "Total; Estimate; PERCENT IMPUTED - Age"
         ],
         "xaxis": "x",
         "y": [
          0.19639772131804012,
          0.17887891541327886,
          0.2059623535283145,
          -0.008463343455613717,
          0.0005119100820810378,
          0.019795138127410763,
          0.02462326409723898,
          0.008646301453593614,
          0.008358623071745232,
          -0.00038197331720560035,
          -0.011317980897360478,
          -0.01667443023582909,
          0.009903836158349964,
          -0.032876819320129196,
          -0.035642344474839875,
          -0.034149083647950225,
          0.004382159854652744,
          0.027111538340489006,
          0.0009947335414295917,
          0.0006545970275325263,
          0.014242465180242038,
          0.012069581617120514,
          0.03307503627334572,
          0.008419147598081616,
          0.00939151545792764,
          -0.006497583531790757,
          -0.014159955450870548,
          0.00434328582442445,
          0.013984404428339559,
          0.016822653739857345,
          0.006863223884597445,
          -0.02072157315869393,
          -0.04319317234201413
         ],
         "yaxis": "y"
        }
       ],
       "layout": {
        "coloraxis": {
         "colorbar": {
          "title": {
           "text": "Winter"
          }
         },
         "colorscale": [
          [
           0,
           "rgb(103,0,31)"
          ],
          [
           0.1,
           "rgb(178,24,43)"
          ],
          [
           0.2,
           "rgb(214,96,77)"
          ],
          [
           0.3,
           "rgb(244,165,130)"
          ],
          [
           0.4,
           "rgb(253,219,199)"
          ],
          [
           0.5,
           "rgb(247,247,247)"
          ],
          [
           0.6,
           "rgb(209,229,240)"
          ],
          [
           0.7,
           "rgb(146,197,222)"
          ],
          [
           0.8,
           "rgb(67,147,195)"
          ],
          [
           0.9,
           "rgb(33,102,172)"
          ],
          [
           1,
           "rgb(5,48,97)"
          ]
         ]
        },
        "height": 1000,
        "legend": {
         "tracegroupgap": 0
        },
        "margin": {
         "t": 60
        },
        "template": {
         "data": {
          "bar": [
           {
            "error_x": {
             "color": "#2a3f5f"
            },
            "error_y": {
             "color": "#2a3f5f"
            },
            "marker": {
             "line": {
              "color": "#E5ECF6",
              "width": 0.5
             }
            },
            "type": "bar"
           }
          ],
          "barpolar": [
           {
            "marker": {
             "line": {
              "color": "#E5ECF6",
              "width": 0.5
             }
            },
            "type": "barpolar"
           }
          ],
          "carpet": [
           {
            "aaxis": {
             "endlinecolor": "#2a3f5f",
             "gridcolor": "white",
             "linecolor": "white",
             "minorgridcolor": "white",
             "startlinecolor": "#2a3f5f"
            },
            "baxis": {
             "endlinecolor": "#2a3f5f",
             "gridcolor": "white",
             "linecolor": "white",
             "minorgridcolor": "white",
             "startlinecolor": "#2a3f5f"
            },
            "type": "carpet"
           }
          ],
          "choropleth": [
           {
            "colorbar": {
             "outlinewidth": 0,
             "ticks": ""
            },
            "type": "choropleth"
           }
          ],
          "contour": [
           {
            "colorbar": {
             "outlinewidth": 0,
             "ticks": ""
            },
            "colorscale": [
             [
              0,
              "#0d0887"
             ],
             [
              0.1111111111111111,
              "#46039f"
             ],
             [
              0.2222222222222222,
              "#7201a8"
             ],
             [
              0.3333333333333333,
              "#9c179e"
             ],
             [
              0.4444444444444444,
              "#bd3786"
             ],
             [
              0.5555555555555556,
              "#d8576b"
             ],
             [
              0.6666666666666666,
              "#ed7953"
             ],
             [
              0.7777777777777778,
              "#fb9f3a"
             ],
             [
              0.8888888888888888,
              "#fdca26"
             ],
             [
              1,
              "#f0f921"
             ]
            ],
            "type": "contour"
           }
          ],
          "contourcarpet": [
           {
            "colorbar": {
             "outlinewidth": 0,
             "ticks": ""
            },
            "type": "contourcarpet"
           }
          ],
          "heatmap": [
           {
            "colorbar": {
             "outlinewidth": 0,
             "ticks": ""
            },
            "colorscale": [
             [
              0,
              "#0d0887"
             ],
             [
              0.1111111111111111,
              "#46039f"
             ],
             [
              0.2222222222222222,
              "#7201a8"
             ],
             [
              0.3333333333333333,
              "#9c179e"
             ],
             [
              0.4444444444444444,
              "#bd3786"
             ],
             [
              0.5555555555555556,
              "#d8576b"
             ],
             [
              0.6666666666666666,
              "#ed7953"
             ],
             [
              0.7777777777777778,
              "#fb9f3a"
             ],
             [
              0.8888888888888888,
              "#fdca26"
             ],
             [
              1,
              "#f0f921"
             ]
            ],
            "type": "heatmap"
           }
          ],
          "heatmapgl": [
           {
            "colorbar": {
             "outlinewidth": 0,
             "ticks": ""
            },
            "colorscale": [
             [
              0,
              "#0d0887"
             ],
             [
              0.1111111111111111,
              "#46039f"
             ],
             [
              0.2222222222222222,
              "#7201a8"
             ],
             [
              0.3333333333333333,
              "#9c179e"
             ],
             [
              0.4444444444444444,
              "#bd3786"
             ],
             [
              0.5555555555555556,
              "#d8576b"
             ],
             [
              0.6666666666666666,
              "#ed7953"
             ],
             [
              0.7777777777777778,
              "#fb9f3a"
             ],
             [
              0.8888888888888888,
              "#fdca26"
             ],
             [
              1,
              "#f0f921"
             ]
            ],
            "type": "heatmapgl"
           }
          ],
          "histogram": [
           {
            "marker": {
             "colorbar": {
              "outlinewidth": 0,
              "ticks": ""
             }
            },
            "type": "histogram"
           }
          ],
          "histogram2d": [
           {
            "colorbar": {
             "outlinewidth": 0,
             "ticks": ""
            },
            "colorscale": [
             [
              0,
              "#0d0887"
             ],
             [
              0.1111111111111111,
              "#46039f"
             ],
             [
              0.2222222222222222,
              "#7201a8"
             ],
             [
              0.3333333333333333,
              "#9c179e"
             ],
             [
              0.4444444444444444,
              "#bd3786"
             ],
             [
              0.5555555555555556,
              "#d8576b"
             ],
             [
              0.6666666666666666,
              "#ed7953"
             ],
             [
              0.7777777777777778,
              "#fb9f3a"
             ],
             [
              0.8888888888888888,
              "#fdca26"
             ],
             [
              1,
              "#f0f921"
             ]
            ],
            "type": "histogram2d"
           }
          ],
          "histogram2dcontour": [
           {
            "colorbar": {
             "outlinewidth": 0,
             "ticks": ""
            },
            "colorscale": [
             [
              0,
              "#0d0887"
             ],
             [
              0.1111111111111111,
              "#46039f"
             ],
             [
              0.2222222222222222,
              "#7201a8"
             ],
             [
              0.3333333333333333,
              "#9c179e"
             ],
             [
              0.4444444444444444,
              "#bd3786"
             ],
             [
              0.5555555555555556,
              "#d8576b"
             ],
             [
              0.6666666666666666,
              "#ed7953"
             ],
             [
              0.7777777777777778,
              "#fb9f3a"
             ],
             [
              0.8888888888888888,
              "#fdca26"
             ],
             [
              1,
              "#f0f921"
             ]
            ],
            "type": "histogram2dcontour"
           }
          ],
          "mesh3d": [
           {
            "colorbar": {
             "outlinewidth": 0,
             "ticks": ""
            },
            "type": "mesh3d"
           }
          ],
          "parcoords": [
           {
            "line": {
             "colorbar": {
              "outlinewidth": 0,
              "ticks": ""
             }
            },
            "type": "parcoords"
           }
          ],
          "pie": [
           {
            "automargin": true,
            "type": "pie"
           }
          ],
          "scatter": [
           {
            "marker": {
             "colorbar": {
              "outlinewidth": 0,
              "ticks": ""
             }
            },
            "type": "scatter"
           }
          ],
          "scatter3d": [
           {
            "line": {
             "colorbar": {
              "outlinewidth": 0,
              "ticks": ""
             }
            },
            "marker": {
             "colorbar": {
              "outlinewidth": 0,
              "ticks": ""
             }
            },
            "type": "scatter3d"
           }
          ],
          "scattercarpet": [
           {
            "marker": {
             "colorbar": {
              "outlinewidth": 0,
              "ticks": ""
             }
            },
            "type": "scattercarpet"
           }
          ],
          "scattergeo": [
           {
            "marker": {
             "colorbar": {
              "outlinewidth": 0,
              "ticks": ""
             }
            },
            "type": "scattergeo"
           }
          ],
          "scattergl": [
           {
            "marker": {
             "colorbar": {
              "outlinewidth": 0,
              "ticks": ""
             }
            },
            "type": "scattergl"
           }
          ],
          "scattermapbox": [
           {
            "marker": {
             "colorbar": {
              "outlinewidth": 0,
              "ticks": ""
             }
            },
            "type": "scattermapbox"
           }
          ],
          "scatterpolar": [
           {
            "marker": {
             "colorbar": {
              "outlinewidth": 0,
              "ticks": ""
             }
            },
            "type": "scatterpolar"
           }
          ],
          "scatterpolargl": [
           {
            "marker": {
             "colorbar": {
              "outlinewidth": 0,
              "ticks": ""
             }
            },
            "type": "scatterpolargl"
           }
          ],
          "scatterternary": [
           {
            "marker": {
             "colorbar": {
              "outlinewidth": 0,
              "ticks": ""
             }
            },
            "type": "scatterternary"
           }
          ],
          "surface": [
           {
            "colorbar": {
             "outlinewidth": 0,
             "ticks": ""
            },
            "colorscale": [
             [
              0,
              "#0d0887"
             ],
             [
              0.1111111111111111,
              "#46039f"
             ],
             [
              0.2222222222222222,
              "#7201a8"
             ],
             [
              0.3333333333333333,
              "#9c179e"
             ],
             [
              0.4444444444444444,
              "#bd3786"
             ],
             [
              0.5555555555555556,
              "#d8576b"
             ],
             [
              0.6666666666666666,
              "#ed7953"
             ],
             [
              0.7777777777777778,
              "#fb9f3a"
             ],
             [
              0.8888888888888888,
              "#fdca26"
             ],
             [
              1,
              "#f0f921"
             ]
            ],
            "type": "surface"
           }
          ],
          "table": [
           {
            "cells": {
             "fill": {
              "color": "#EBF0F8"
             },
             "line": {
              "color": "white"
             }
            },
            "header": {
             "fill": {
              "color": "#C8D4E3"
             },
             "line": {
              "color": "white"
             }
            },
            "type": "table"
           }
          ]
         },
         "layout": {
          "annotationdefaults": {
           "arrowcolor": "#2a3f5f",
           "arrowhead": 0,
           "arrowwidth": 1
          },
          "coloraxis": {
           "colorbar": {
            "outlinewidth": 0,
            "ticks": ""
           }
          },
          "colorscale": {
           "diverging": [
            [
             0,
             "#8e0152"
            ],
            [
             0.1,
             "#c51b7d"
            ],
            [
             0.2,
             "#de77ae"
            ],
            [
             0.3,
             "#f1b6da"
            ],
            [
             0.4,
             "#fde0ef"
            ],
            [
             0.5,
             "#f7f7f7"
            ],
            [
             0.6,
             "#e6f5d0"
            ],
            [
             0.7,
             "#b8e186"
            ],
            [
             0.8,
             "#7fbc41"
            ],
            [
             0.9,
             "#4d9221"
            ],
            [
             1,
             "#276419"
            ]
           ],
           "sequential": [
            [
             0,
             "#0d0887"
            ],
            [
             0.1111111111111111,
             "#46039f"
            ],
            [
             0.2222222222222222,
             "#7201a8"
            ],
            [
             0.3333333333333333,
             "#9c179e"
            ],
            [
             0.4444444444444444,
             "#bd3786"
            ],
            [
             0.5555555555555556,
             "#d8576b"
            ],
            [
             0.6666666666666666,
             "#ed7953"
            ],
            [
             0.7777777777777778,
             "#fb9f3a"
            ],
            [
             0.8888888888888888,
             "#fdca26"
            ],
            [
             1,
             "#f0f921"
            ]
           ],
           "sequentialminus": [
            [
             0,
             "#0d0887"
            ],
            [
             0.1111111111111111,
             "#46039f"
            ],
            [
             0.2222222222222222,
             "#7201a8"
            ],
            [
             0.3333333333333333,
             "#9c179e"
            ],
            [
             0.4444444444444444,
             "#bd3786"
            ],
            [
             0.5555555555555556,
             "#d8576b"
            ],
            [
             0.6666666666666666,
             "#ed7953"
            ],
            [
             0.7777777777777778,
             "#fb9f3a"
            ],
            [
             0.8888888888888888,
             "#fdca26"
            ],
            [
             1,
             "#f0f921"
            ]
           ]
          },
          "colorway": [
           "#636efa",
           "#EF553B",
           "#00cc96",
           "#ab63fa",
           "#FFA15A",
           "#19d3f3",
           "#FF6692",
           "#B6E880",
           "#FF97FF",
           "#FECB52"
          ],
          "font": {
           "color": "#2a3f5f"
          },
          "geo": {
           "bgcolor": "white",
           "lakecolor": "white",
           "landcolor": "#E5ECF6",
           "showlakes": true,
           "showland": true,
           "subunitcolor": "white"
          },
          "hoverlabel": {
           "align": "left"
          },
          "hovermode": "closest",
          "mapbox": {
           "style": "light"
          },
          "paper_bgcolor": "white",
          "plot_bgcolor": "#E5ECF6",
          "polar": {
           "angularaxis": {
            "gridcolor": "white",
            "linecolor": "white",
            "ticks": ""
           },
           "bgcolor": "#E5ECF6",
           "radialaxis": {
            "gridcolor": "white",
            "linecolor": "white",
            "ticks": ""
           }
          },
          "scene": {
           "xaxis": {
            "backgroundcolor": "#E5ECF6",
            "gridcolor": "white",
            "gridwidth": 2,
            "linecolor": "white",
            "showbackground": true,
            "ticks": "",
            "zerolinecolor": "white"
           },
           "yaxis": {
            "backgroundcolor": "#E5ECF6",
            "gridcolor": "white",
            "gridwidth": 2,
            "linecolor": "white",
            "showbackground": true,
            "ticks": "",
            "zerolinecolor": "white"
           },
           "zaxis": {
            "backgroundcolor": "#E5ECF6",
            "gridcolor": "white",
            "gridwidth": 2,
            "linecolor": "white",
            "showbackground": true,
            "ticks": "",
            "zerolinecolor": "white"
           }
          },
          "shapedefaults": {
           "line": {
            "color": "#2a3f5f"
           }
          },
          "ternary": {
           "aaxis": {
            "gridcolor": "white",
            "linecolor": "white",
            "ticks": ""
           },
           "baxis": {
            "gridcolor": "white",
            "linecolor": "white",
            "ticks": ""
           },
           "bgcolor": "#E5ECF6",
           "caxis": {
            "gridcolor": "white",
            "linecolor": "white",
            "ticks": ""
           }
          },
          "title": {
           "x": 0.05
          },
          "xaxis": {
           "automargin": true,
           "gridcolor": "white",
           "linecolor": "white",
           "ticks": "",
           "title": {
            "standoff": 15
           },
           "zerolinecolor": "white",
           "zerolinewidth": 2
          },
          "yaxis": {
           "automargin": true,
           "gridcolor": "white",
           "linecolor": "white",
           "ticks": "",
           "title": {
            "standoff": 15
           },
           "zerolinecolor": "white",
           "zerolinewidth": 2
          }
         }
        },
        "title": {
         "text": "(Pearson r Correlation) Winter Reports VS Demographic Data"
        },
        "width": 900,
        "xaxis": {
         "anchor": "y",
         "domain": [
          0,
          1
         ],
         "title": {
          "text": "Demographic Variables"
         }
        },
        "yaxis": {
         "anchor": "x",
         "domain": [
          0,
          1
         ],
         "title": {
          "text": "Winter vs Demographic Variables Correlation"
         }
        }
       }
      },
      "text/html": [
       "<div>\n",
       "        \n",
       "        \n",
       "            <div id=\"37fcabda-4ec8-4002-adc4-c16ccc294700\" class=\"plotly-graph-div\" style=\"height:1000px; width:900px;\"></div>\n",
       "            <script type=\"text/javascript\">\n",
       "                require([\"plotly\"], function(Plotly) {\n",
       "                    window.PLOTLYENV=window.PLOTLYENV || {};\n",
       "                    \n",
       "                if (document.getElementById(\"37fcabda-4ec8-4002-adc4-c16ccc294700\")) {\n",
       "                    Plotly.newPlot(\n",
       "                        '37fcabda-4ec8-4002-adc4-c16ccc294700',\n",
       "                        [{\"hoverlabel\": {\"namelength\": 0}, \"hovertemplate\": \"DemographicVariable=%{x}<br>Winter=%{marker.color}\", \"legendgroup\": \"\", \"marker\": {\"color\": [0.19639772131804012, 0.17887891541327886, 0.2059623535283145, -0.008463343455613717, 0.0005119100820810378, 0.019795138127410763, 0.02462326409723898, 0.008646301453593614, 0.008358623071745232, -0.00038197331720560035, -0.011317980897360478, -0.01667443023582909, 0.009903836158349964, -0.032876819320129196, -0.035642344474839875, -0.034149083647950225, 0.004382159854652744, 0.027111538340489006, 0.0009947335414295917, 0.0006545970275325263, 0.014242465180242038, 0.012069581617120514, 0.03307503627334572, 0.008419147598081616, 0.00939151545792764, -0.006497583531790757, -0.014159955450870548, 0.00434328582442445, 0.013984404428339559, 0.016822653739857345, 0.006863223884597445, -0.02072157315869393, -0.04319317234201413], \"coloraxis\": \"coloraxis\", \"symbol\": \"circle\"}, \"mode\": \"markers\", \"name\": \"\", \"showlegend\": false, \"type\": \"scatter\", \"x\": [\"Total; Estimate; Total population\", \"Male; Estimate; Total population\", \"Female; Estimate; Total population\", \"Total; Estimate; AGE - Under 5 years\", \"Total; Estimate; AGE - 5 to 9 years\", \"Total; Estimate; AGE - 10 to 14 years\", \"Total; Estimate; AGE - 15 to 19 years\", \"Total; Estimate; AGE - 20 to 24 years\", \"Total; Estimate; AGE - 25 to 29 years\", \"Total; Estimate; AGE - 30 to 34 years\", \"Total; Estimate; AGE - 35 to 39 years\", \"Total; Estimate; AGE - 40 to 44 years\", \"Total; Estimate; AGE - 45 to 49 years\", \"Total; Estimate; AGE - 50 to 54 years\", \"Total; Estimate; AGE - 55 to 59 years\", \"Total; Estimate; AGE - 60 to 64 years\", \"Total; Estimate; AGE - 65 to 69 years\", \"Total; Estimate; AGE - 70 to 74 years\", \"Total; Estimate; AGE - 75 to 79 years\", \"Total; Estimate; AGE - 80 to 84 years\", \"Total; Estimate; AGE - 85 years and over\", \"Total; Estimate; SELECTED AGE CATEGORIES - 5 to 14 years\", \"Total; Estimate; SELECTED AGE CATEGORIES - 15 to 17 years\", \"Total; Estimate; SELECTED AGE CATEGORIES - 18 to 24 years\", \"Total; Estimate; SELECTED AGE CATEGORIES - 15 to 44 years\", \"Total; Estimate; SELECTED AGE CATEGORIES - 16 years and over\", \"Total; Estimate; SELECTED AGE CATEGORIES - 18 years and over\", \"Total; Estimate; SELECTED AGE CATEGORIES - 60 years and over\", \"Total; Estimate; SELECTED AGE CATEGORIES - 62 years and over\", \"Total; Estimate; SELECTED AGE CATEGORIES - 65 years and over\", \"Total; Estimate; SELECTED AGE CATEGORIES - 75 years and over\", \"Total; Estimate; PERCENT IMPUTED - Sex\", \"Total; Estimate; PERCENT IMPUTED - Age\"], \"xaxis\": \"x\", \"y\": [0.19639772131804012, 0.17887891541327886, 0.2059623535283145, -0.008463343455613717, 0.0005119100820810378, 0.019795138127410763, 0.02462326409723898, 0.008646301453593614, 0.008358623071745232, -0.00038197331720560035, -0.011317980897360478, -0.01667443023582909, 0.009903836158349964, -0.032876819320129196, -0.035642344474839875, -0.034149083647950225, 0.004382159854652744, 0.027111538340489006, 0.0009947335414295917, 0.0006545970275325263, 0.014242465180242038, 0.012069581617120514, 0.03307503627334572, 0.008419147598081616, 0.00939151545792764, -0.006497583531790757, -0.014159955450870548, 0.00434328582442445, 0.013984404428339559, 0.016822653739857345, 0.006863223884597445, -0.02072157315869393, -0.04319317234201413], \"yaxis\": \"y\"}],\n",
       "                        {\"coloraxis\": {\"colorbar\": {\"title\": {\"text\": \"Winter\"}}, \"colorscale\": [[0.0, \"rgb(103,0,31)\"], [0.1, \"rgb(178,24,43)\"], [0.2, \"rgb(214,96,77)\"], [0.3, \"rgb(244,165,130)\"], [0.4, \"rgb(253,219,199)\"], [0.5, \"rgb(247,247,247)\"], [0.6, \"rgb(209,229,240)\"], [0.7, \"rgb(146,197,222)\"], [0.8, \"rgb(67,147,195)\"], [0.9, \"rgb(33,102,172)\"], [1.0, \"rgb(5,48,97)\"]]}, \"height\": 1000, \"legend\": {\"tracegroupgap\": 0}, \"margin\": {\"t\": 60}, \"template\": {\"data\": {\"bar\": [{\"error_x\": {\"color\": \"#2a3f5f\"}, \"error_y\": {\"color\": \"#2a3f5f\"}, \"marker\": {\"line\": {\"color\": \"#E5ECF6\", \"width\": 0.5}}, \"type\": \"bar\"}], \"barpolar\": [{\"marker\": {\"line\": {\"color\": \"#E5ECF6\", \"width\": 0.5}}, \"type\": \"barpolar\"}], \"carpet\": [{\"aaxis\": {\"endlinecolor\": \"#2a3f5f\", \"gridcolor\": \"white\", \"linecolor\": \"white\", \"minorgridcolor\": \"white\", \"startlinecolor\": \"#2a3f5f\"}, \"baxis\": {\"endlinecolor\": \"#2a3f5f\", \"gridcolor\": \"white\", \"linecolor\": \"white\", \"minorgridcolor\": \"white\", \"startlinecolor\": \"#2a3f5f\"}, \"type\": \"carpet\"}], \"choropleth\": [{\"colorbar\": {\"outlinewidth\": 0, \"ticks\": \"\"}, \"type\": \"choropleth\"}], \"contour\": [{\"colorbar\": {\"outlinewidth\": 0, \"ticks\": \"\"}, \"colorscale\": [[0.0, \"#0d0887\"], [0.1111111111111111, \"#46039f\"], [0.2222222222222222, \"#7201a8\"], [0.3333333333333333, \"#9c179e\"], [0.4444444444444444, \"#bd3786\"], [0.5555555555555556, \"#d8576b\"], [0.6666666666666666, \"#ed7953\"], [0.7777777777777778, \"#fb9f3a\"], [0.8888888888888888, \"#fdca26\"], [1.0, \"#f0f921\"]], \"type\": \"contour\"}], \"contourcarpet\": [{\"colorbar\": {\"outlinewidth\": 0, \"ticks\": \"\"}, \"type\": \"contourcarpet\"}], \"heatmap\": [{\"colorbar\": {\"outlinewidth\": 0, \"ticks\": \"\"}, \"colorscale\": [[0.0, \"#0d0887\"], [0.1111111111111111, \"#46039f\"], [0.2222222222222222, \"#7201a8\"], [0.3333333333333333, \"#9c179e\"], [0.4444444444444444, \"#bd3786\"], [0.5555555555555556, \"#d8576b\"], [0.6666666666666666, \"#ed7953\"], [0.7777777777777778, \"#fb9f3a\"], [0.8888888888888888, \"#fdca26\"], [1.0, \"#f0f921\"]], \"type\": \"heatmap\"}], \"heatmapgl\": [{\"colorbar\": {\"outlinewidth\": 0, \"ticks\": \"\"}, \"colorscale\": [[0.0, \"#0d0887\"], [0.1111111111111111, \"#46039f\"], [0.2222222222222222, \"#7201a8\"], [0.3333333333333333, \"#9c179e\"], [0.4444444444444444, \"#bd3786\"], [0.5555555555555556, \"#d8576b\"], [0.6666666666666666, \"#ed7953\"], [0.7777777777777778, \"#fb9f3a\"], [0.8888888888888888, \"#fdca26\"], [1.0, \"#f0f921\"]], \"type\": \"heatmapgl\"}], \"histogram\": [{\"marker\": {\"colorbar\": {\"outlinewidth\": 0, \"ticks\": \"\"}}, \"type\": \"histogram\"}], \"histogram2d\": [{\"colorbar\": {\"outlinewidth\": 0, \"ticks\": \"\"}, \"colorscale\": [[0.0, \"#0d0887\"], [0.1111111111111111, \"#46039f\"], [0.2222222222222222, \"#7201a8\"], [0.3333333333333333, \"#9c179e\"], [0.4444444444444444, \"#bd3786\"], [0.5555555555555556, \"#d8576b\"], [0.6666666666666666, \"#ed7953\"], [0.7777777777777778, \"#fb9f3a\"], [0.8888888888888888, \"#fdca26\"], [1.0, \"#f0f921\"]], \"type\": \"histogram2d\"}], \"histogram2dcontour\": [{\"colorbar\": {\"outlinewidth\": 0, \"ticks\": \"\"}, \"colorscale\": [[0.0, \"#0d0887\"], [0.1111111111111111, \"#46039f\"], [0.2222222222222222, \"#7201a8\"], [0.3333333333333333, \"#9c179e\"], [0.4444444444444444, \"#bd3786\"], [0.5555555555555556, \"#d8576b\"], [0.6666666666666666, \"#ed7953\"], [0.7777777777777778, \"#fb9f3a\"], [0.8888888888888888, \"#fdca26\"], [1.0, \"#f0f921\"]], \"type\": \"histogram2dcontour\"}], \"mesh3d\": [{\"colorbar\": {\"outlinewidth\": 0, \"ticks\": \"\"}, \"type\": \"mesh3d\"}], \"parcoords\": [{\"line\": {\"colorbar\": {\"outlinewidth\": 0, \"ticks\": \"\"}}, \"type\": \"parcoords\"}], \"pie\": [{\"automargin\": true, \"type\": \"pie\"}], \"scatter\": [{\"marker\": {\"colorbar\": {\"outlinewidth\": 0, \"ticks\": \"\"}}, \"type\": \"scatter\"}], \"scatter3d\": [{\"line\": {\"colorbar\": {\"outlinewidth\": 0, \"ticks\": \"\"}}, \"marker\": {\"colorbar\": {\"outlinewidth\": 0, \"ticks\": \"\"}}, \"type\": \"scatter3d\"}], \"scattercarpet\": [{\"marker\": {\"colorbar\": {\"outlinewidth\": 0, \"ticks\": \"\"}}, \"type\": \"scattercarpet\"}], \"scattergeo\": [{\"marker\": {\"colorbar\": {\"outlinewidth\": 0, \"ticks\": \"\"}}, \"type\": \"scattergeo\"}], \"scattergl\": [{\"marker\": {\"colorbar\": {\"outlinewidth\": 0, \"ticks\": \"\"}}, \"type\": \"scattergl\"}], \"scattermapbox\": [{\"marker\": {\"colorbar\": {\"outlinewidth\": 0, \"ticks\": \"\"}}, \"type\": \"scattermapbox\"}], \"scatterpolar\": [{\"marker\": {\"colorbar\": {\"outlinewidth\": 0, \"ticks\": \"\"}}, \"type\": \"scatterpolar\"}], \"scatterpolargl\": [{\"marker\": {\"colorbar\": {\"outlinewidth\": 0, \"ticks\": \"\"}}, \"type\": \"scatterpolargl\"}], \"scatterternary\": [{\"marker\": {\"colorbar\": {\"outlinewidth\": 0, \"ticks\": \"\"}}, \"type\": \"scatterternary\"}], \"surface\": [{\"colorbar\": {\"outlinewidth\": 0, \"ticks\": \"\"}, \"colorscale\": [[0.0, \"#0d0887\"], [0.1111111111111111, \"#46039f\"], [0.2222222222222222, \"#7201a8\"], [0.3333333333333333, \"#9c179e\"], [0.4444444444444444, \"#bd3786\"], [0.5555555555555556, \"#d8576b\"], [0.6666666666666666, \"#ed7953\"], [0.7777777777777778, \"#fb9f3a\"], [0.8888888888888888, \"#fdca26\"], [1.0, \"#f0f921\"]], \"type\": \"surface\"}], \"table\": [{\"cells\": {\"fill\": {\"color\": \"#EBF0F8\"}, \"line\": {\"color\": \"white\"}}, \"header\": {\"fill\": {\"color\": \"#C8D4E3\"}, \"line\": {\"color\": \"white\"}}, \"type\": \"table\"}]}, \"layout\": {\"annotationdefaults\": {\"arrowcolor\": \"#2a3f5f\", \"arrowhead\": 0, \"arrowwidth\": 1}, \"coloraxis\": {\"colorbar\": {\"outlinewidth\": 0, \"ticks\": \"\"}}, \"colorscale\": {\"diverging\": [[0, \"#8e0152\"], [0.1, \"#c51b7d\"], [0.2, \"#de77ae\"], [0.3, \"#f1b6da\"], [0.4, \"#fde0ef\"], [0.5, \"#f7f7f7\"], [0.6, \"#e6f5d0\"], [0.7, \"#b8e186\"], [0.8, \"#7fbc41\"], [0.9, \"#4d9221\"], [1, \"#276419\"]], \"sequential\": [[0.0, \"#0d0887\"], [0.1111111111111111, \"#46039f\"], [0.2222222222222222, \"#7201a8\"], [0.3333333333333333, \"#9c179e\"], [0.4444444444444444, \"#bd3786\"], [0.5555555555555556, \"#d8576b\"], [0.6666666666666666, \"#ed7953\"], [0.7777777777777778, \"#fb9f3a\"], [0.8888888888888888, \"#fdca26\"], [1.0, \"#f0f921\"]], \"sequentialminus\": [[0.0, \"#0d0887\"], [0.1111111111111111, \"#46039f\"], [0.2222222222222222, \"#7201a8\"], [0.3333333333333333, \"#9c179e\"], [0.4444444444444444, \"#bd3786\"], [0.5555555555555556, \"#d8576b\"], [0.6666666666666666, \"#ed7953\"], [0.7777777777777778, \"#fb9f3a\"], [0.8888888888888888, \"#fdca26\"], [1.0, \"#f0f921\"]]}, \"colorway\": [\"#636efa\", \"#EF553B\", \"#00cc96\", \"#ab63fa\", \"#FFA15A\", \"#19d3f3\", \"#FF6692\", \"#B6E880\", \"#FF97FF\", \"#FECB52\"], \"font\": {\"color\": \"#2a3f5f\"}, \"geo\": {\"bgcolor\": \"white\", \"lakecolor\": \"white\", \"landcolor\": \"#E5ECF6\", \"showlakes\": true, \"showland\": true, \"subunitcolor\": \"white\"}, \"hoverlabel\": {\"align\": \"left\"}, \"hovermode\": \"closest\", \"mapbox\": {\"style\": \"light\"}, \"paper_bgcolor\": \"white\", \"plot_bgcolor\": \"#E5ECF6\", \"polar\": {\"angularaxis\": {\"gridcolor\": \"white\", \"linecolor\": \"white\", \"ticks\": \"\"}, \"bgcolor\": \"#E5ECF6\", \"radialaxis\": {\"gridcolor\": \"white\", \"linecolor\": \"white\", \"ticks\": \"\"}}, \"scene\": {\"xaxis\": {\"backgroundcolor\": \"#E5ECF6\", \"gridcolor\": \"white\", \"gridwidth\": 2, \"linecolor\": \"white\", \"showbackground\": true, \"ticks\": \"\", \"zerolinecolor\": \"white\"}, \"yaxis\": {\"backgroundcolor\": \"#E5ECF6\", \"gridcolor\": \"white\", \"gridwidth\": 2, \"linecolor\": \"white\", \"showbackground\": true, \"ticks\": \"\", \"zerolinecolor\": \"white\"}, \"zaxis\": {\"backgroundcolor\": \"#E5ECF6\", \"gridcolor\": \"white\", \"gridwidth\": 2, \"linecolor\": \"white\", \"showbackground\": true, \"ticks\": \"\", \"zerolinecolor\": \"white\"}}, \"shapedefaults\": {\"line\": {\"color\": \"#2a3f5f\"}}, \"ternary\": {\"aaxis\": {\"gridcolor\": \"white\", \"linecolor\": \"white\", \"ticks\": \"\"}, \"baxis\": {\"gridcolor\": \"white\", \"linecolor\": \"white\", \"ticks\": \"\"}, \"bgcolor\": \"#E5ECF6\", \"caxis\": {\"gridcolor\": \"white\", \"linecolor\": \"white\", \"ticks\": \"\"}}, \"title\": {\"x\": 0.05}, \"xaxis\": {\"automargin\": true, \"gridcolor\": \"white\", \"linecolor\": \"white\", \"ticks\": \"\", \"title\": {\"standoff\": 15}, \"zerolinecolor\": \"white\", \"zerolinewidth\": 2}, \"yaxis\": {\"automargin\": true, \"gridcolor\": \"white\", \"linecolor\": \"white\", \"ticks\": \"\", \"title\": {\"standoff\": 15}, \"zerolinecolor\": \"white\", \"zerolinewidth\": 2}}}, \"title\": {\"text\": \"(Pearson r Correlation) Winter Reports VS Demographic Data\"}, \"width\": 900, \"xaxis\": {\"anchor\": \"y\", \"domain\": [0.0, 1.0], \"title\": {\"text\": \"Demographic Variables\"}}, \"yaxis\": {\"anchor\": \"x\", \"domain\": [0.0, 1.0], \"title\": {\"text\": \"Winter vs Demographic Variables Correlation\"}}},\n",
       "                        {\"responsive\": true}\n",
       "                    ).then(function(){\n",
       "                            \n",
       "var gd = document.getElementById('37fcabda-4ec8-4002-adc4-c16ccc294700');\n",
       "var x = new MutationObserver(function (mutations, observer) {{\n",
       "        var display = window.getComputedStyle(gd).display;\n",
       "        if (!display || display === 'none') {{\n",
       "            console.log([gd, 'removed!']);\n",
       "            Plotly.purge(gd);\n",
       "            observer.disconnect();\n",
       "        }}\n",
       "}});\n",
       "\n",
       "// Listen for the removal of the full notebook cells\n",
       "var notebookContainer = gd.closest('#notebook-container');\n",
       "if (notebookContainer) {{\n",
       "    x.observe(notebookContainer, {childList: true});\n",
       "}}\n",
       "\n",
       "// Listen for the clearing of the current output cell\n",
       "var outputEl = gd.closest('.output');\n",
       "if (outputEl) {{\n",
       "    x.observe(outputEl, {childList: true});\n",
       "}}\n",
       "\n",
       "                        })\n",
       "                };\n",
       "                });\n",
       "            </script>\n",
       "        </div>"
      ]
     },
     "metadata": {},
     "output_type": "display_data"
    }
   ],
   "source": [
    "season_to_do = \"Winter\"\n",
    "fig = px.scatter(corr, x=\"DemographicVariable\", y=season_to_do, color=season_to_do, \n",
    "                color_continuous_scale=px.colors.sequential.RdBu,\n",
    "                width=900, height=1000)\n",
    "fig.update_layout(\n",
    "    title = '(Pearson r Correlation) '+season_to_do+' Reports VS Demographic Data',\n",
    "    yaxis_title = season_to_do+' vs Demographic Variables Correlation',\n",
    "    xaxis_title = \"Demographic Variables\",\n",
    ")\n",
    "fig.show()"
   ]
  },
  {
   "cell_type": "code",
   "execution_count": null,
   "metadata": {},
   "outputs": [],
   "source": []
  }
 ],
 "metadata": {
  "kernelspec": {
   "display_name": "Python 3",
   "language": "python",
   "name": "python3"
  },
  "language_info": {
   "codemirror_mode": {
    "name": "ipython",
    "version": 3
   },
   "file_extension": ".py",
   "mimetype": "text/x-python",
   "name": "python",
   "nbconvert_exporter": "python",
   "pygments_lexer": "ipython3",
   "version": "3.7.5"
  }
 },
 "nbformat": 4,
 "nbformat_minor": 4
}
