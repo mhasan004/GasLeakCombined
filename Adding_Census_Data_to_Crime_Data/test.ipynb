{
 "cells": [
  {
   "cell_type": "code",
   "execution_count": null,
   "metadata": {},
   "outputs": [],
   "source": [
    "import plotly.graph_objects as go\n",
    "\n",
    "fig = go.Figure(data=\n",
    "    go.Parcoords(\n",
    "        line_color='blue',\n",
    "        dimensions = list([\n",
    "             dict(range = [1,5],\n",
    "                 tickvals = [1,2,4,5],\n",
    "                 label = 'C', \n",
    "                  values = [2,4],\n",
    "                 ticktext = ['text 1', 'text 2', 'text 3', 'text 4']),\n",
    "            \n",
    "            dict(range = [1,5],\n",
    "                 constraintrange = [1,2], # change this range by dragging the pink line\n",
    "                 label = 'A', values = [1,4]),\n",
    "            dict(range = [1.5,5],\n",
    "                 tickvals = [1.5,3,4.5],\n",
    "                 label = 'B', values = [3,1.5]),\n",
    "           \n",
    "            dict(range = [1,5],\n",
    "                 label = 'D', values = [4,2])\n",
    "        ])\n",
    "    )\n",
    ")\n",
    "fig.show()"
   ]
  }
 ],
 "metadata": {
  "kernelspec": {
   "display_name": "Python 3",
   "language": "python",
   "name": "python3"
  },
  "language_info": {
   "codemirror_mode": {
    "name": "ipython",
    "version": 3
   },
   "file_extension": ".py",
   "mimetype": "text/x-python",
   "name": "python",
   "nbconvert_exporter": "python",
   "pygments_lexer": "ipython3",
   "version": "3.7.5"
  }
 },
 "nbformat": 4,
 "nbformat_minor": 4
}
